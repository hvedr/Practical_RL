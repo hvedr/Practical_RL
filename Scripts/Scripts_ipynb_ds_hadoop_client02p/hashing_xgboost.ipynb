{
 "cells": [
  {
   "cell_type": "markdown",
   "metadata": {
    "collapsed": false
   },
   "source": [
    "## Hashing trick for look-alike portal application completed\n"
   ]
  },
  {
   "cell_type": "code",
   "execution_count": 2,
   "metadata": {
    "collapsed": false,
    "scrolled": true
   },
   "outputs": [
    {
     "name": "stderr",
     "output_type": "stream",
     "text": [
      "/home/k.p.osminin/anaconda2/lib/python2.7/site-packages/sklearn/cross_validation.py:44: DeprecationWarning: This module was deprecated in version 0.18 in favor of the model_selection module into which all the refactored classes and functions are moved. Also note that the interface of the new CV iterators are different from that of this module. This module will be removed in 0.20.\n",
      "  \"This module will be removed in 0.20.\", DeprecationWarning)\n"
     ]
    }
   ],
   "source": [
    "#Config\n",
    "from pyspark import SparkConf, SparkContext, HiveContext\n",
    "#import re\n",
    "#import numpy as np\n",
    "#import pandas as pd\n",
    "#import datetime\n",
    "#from pyspark.mllib.regression import LabeledPoint\n",
    "#from pyspark.mllib.feature import HashingTF\n",
    "#from pyspark.mllib.classification import LogisticRegressionWithSGD, NaiveBayes, NaiveBayesModel\n",
    "#import scipy.sparse as sps\n",
    "#from pyspark.mllib.linalg import Vectors\n",
    "#import sklearn\n",
    "try:\n",
    "    sc.stop()\n",
    "except NameError: pass\n",
    "\n",
    "\n",
    "conf = SparkConf().set(\"spark.executor.instances\", 32).set(\"spark.driver.maxResultSize\", \"20g\")\n",
    "sc = SparkContext(conf=conf)\n",
    "hc = HiveContext(sc)\n",
    "\n",
    "import pandas as pd\n",
    "import numpy as np\n",
    "import os\n",
    "import sklearn\n",
    "import re\n",
    "import xgboost as xgb"
   ]
  },
  {
   "cell_type": "markdown",
   "metadata": {},
   "source": [
    "Данные в формате libsvm. Хешированные фрагменты урлов как факторы с количестом посещений в качестве значения. Первое поле - метка класса. Класс положителен, если он оставил полностью заполненную заявку на портале в течение следующих 3 дней."
   ]
  },
  {
   "cell_type": "code",
   "execution_count": 2,
   "metadata": {
    "collapsed": false
   },
   "outputs": [],
   "source": [
    "\n",
    "# read in data\n",
    "dtrain = xgb.DMatrix('/home/k.p.osminin/external_hdfs/ha_proc_20160929.txt')\n",
    "dtest = xgb.DMatrix('/home/k.p.osminin/external_hdfs/ha_proc_20161005.txt')\n",
    "# specify parameters via map"
   ]
  },
  {
   "cell_type": "code",
   "execution_count": 3,
   "metadata": {
    "collapsed": false
   },
   "outputs": [],
   "source": [
    "param = {'max_depth':10, 'eta':1, 'gamma' : 0.5, 'silent':1, 'objective':'binary:logistic','eval_metric' : \"auc\",\n",
    "         'scale_pos_weight' : 1, 'num_round' : 10 }\n",
    "\n",
    "bst = xgb.train(param, dtrain)\n",
    "\n",
    "# make prediction\n",
    "preds = bst.predict(dtest)"
   ]
  },
  {
   "cell_type": "code",
   "execution_count": 4,
   "metadata": {
    "collapsed": false
   },
   "outputs": [
    {
     "name": "stdout",
     "output_type": "stream",
     "text": [
      "XGBoost AUCROC test: 0.795107583536. train 0.821805099016\n"
     ]
    }
   ],
   "source": [
    "\n",
    "print('{0} AUCROC test: {1}. train {2}'.format(\n",
    "               'XGBoost',\n",
    "                sklearn.metrics.roc_auc_score(\n",
    "                  y_true = dtest.get_label(), \n",
    "                  y_score = bst.predict(dtest)\n",
    "                ),\n",
    "                sklearn.metrics.roc_auc_score(\n",
    "                  y_true = dtrain.get_label(), \n",
    "                  y_score = bst.predict(dtrain)\n",
    "                )                                              \n",
    "))"
   ]
  },
  {
   "cell_type": "code",
   "execution_count": null,
   "metadata": {
    "collapsed": false
   },
   "outputs": [],
   "source": [
    "param2 = {'max_depth':10, 'eta':1, 'gamma' : 0.5, 'silent':1, 'objective':'binary:logistic','eval_metric' : \"auc\",\n",
    "         'scale_pos_weight' : 1, 'num_round' : 2 }\n",
    "import itertools\n",
    "import numpy as np\n",
    "param_grid = [\n",
    "    ('max_depth',[3,5,8,10,15]), \n",
    "    ('eta',[0.05,0.1,0.5,1]), \n",
    "    ('gamma' , [0.1,0.5,1,2]), \n",
    "    ('objective',['binary:logistic']),\n",
    "    ('eval_metric' , ['auc']),\n",
    "    ('scale_pos_weight' , [1,2,5,10]), \n",
    "    ('num_round' , [4,10,20]),\n",
    "]\n",
    "\n",
    "param_grid_values = list(itertools.product(*[e[1] for e in param_grid]))\n",
    "\n",
    "dice_num = 30\n",
    "\n",
    "for i in np.random.choice(range(len(param_grid_values)),dice_num, replace = False):\n",
    "    param = zip([e[0] for e in param_grid],param_grid_values[i])\n",
    "    #print(param)\n",
    "    bst = xgb.train(param, dtrain)\n",
    "    print('{0} AUCROC {1}. {2}'.format(\n",
    "               param, \n",
    "               bst.eval(dtest, name='test'),\n",
    "               bst.eval(dtrain, name='train'),\n",
    "    ))"
   ]
  },
  {
   "cell_type": "markdown",
   "metadata": {},
   "source": [
    "выбирается вариант [('max_depth', 8), ('eta', 1), ('gamma', 2), ('objective', 'binary:logistic'), ('eval_metric', 'auc'), ('scale_pos_weight', 1), ('num_round', 4)] AUCROC [0]\ttest-auc:0.793204. [0]\ttrain-auc:0.813929"
   ]
  },
  {
   "cell_type": "code",
   "execution_count": null,
   "metadata": {
    "collapsed": false
   },
   "outputs": [],
   "source": [
    "param = [('max_depth', 10), ('eta', 0.8), ('gamma', 1), ('objective', 'binary:logistic'), ('eval_metric', 'auc'), \n",
    "         ('scale_pos_weight', 1), ('num_round', 10)]\n",
    "\n",
    "files_list = sorted([e for e in os.popen(\"ls -dX /home/k.p.osminin/external_hdfs/* | grep -i 'ha_proc_'\").read().split('\\n') if e])\n",
    "test_file = '/home/k.p.osminin/external_hdfs/ha_proc_sampled_20161010.txt'\n",
    "dtest = xgb.DMatrix(test_file)\n",
    "bst = xgb.Booster()\n",
    "\n",
    "for file_name in [f for f in files_list if not re.findall('20161010',f)]:\n",
    "    dtrain = xgb.DMatrix(file_name)\n",
    "    bst = xgb.train(param, dtrain,xgb_model = bst)\n",
    "    print('{0} AUCROC {1}. {2}'.format(\n",
    "               re.findall('[0-9]+',file_name)[0], \n",
    "               bst.eval(dtest, name='test'),\n",
    "               bst.eval(dtrain, name='train'),\n",
    "    ))\n"
   ]
  },
  {
   "cell_type": "code",
   "execution_count": null,
   "metadata": {
    "collapsed": false
   },
   "outputs": [],
   "source": [
    "param = [('max_depth', 10), ('eta', 0.8), ('gamma', 1), ('objective', 'binary:logistic'), ('eval_metric', 'auc'), \n",
    "         ('scale_pos_weight', 1), ('num_round', 10)]\n",
    "\n",
    "files_list = sorted([e for e in os.popen(\"ls -dX /home/k.p.osminin/external_hdfs/* | grep -i 'ha_proc_'\").read().split('\\n') if e])\n",
    "test_file = '/home/k.p.osminin/external_hdfs/ha_proc_sampled_20161010.txt'\n",
    "dtest = xgb.DMatrix(test_file)\n",
    "bst = xgb.Booster()\n"
   ]
  },
  {
   "cell_type": "code",
   "execution_count": null,
   "metadata": {
    "collapsed": false,
    "scrolled": false
   },
   "outputs": [],
   "source": [
    "param = {'max_depth':10, 'eta':1, 'gamma' : 0.5, 'silent':1, 'objective':'binary:logistic','eval_metric' : \"auc\",\n",
    "         'scale_pos_weight' : 1, 'num_round' : 10 }\n",
    "\n",
    "files_list = sorted([e for e in os.popen(\"ls -dX /home/k.p.osminin/external_hdfs/* | grep -i 'ha_proc_'\").read().split('\\n') if e])\n",
    "test_file = '/home/k.p.osminin/external_hdfs/ha_proc_sampled_20161010.txt'\n",
    "#dtest = xgb.DMatrix(test_file)\n",
    "bst1 = xgb.Booster()\n",
    "\n",
    "file_name = files_list[10]\n",
    "dtrain = xgb.DMatrix(file_name)\n",
    "bst2 = xgb.train(param,dtrain,xgb_model = bst1)"
   ]
  },
  {
   "cell_type": "code",
   "execution_count": 4,
   "metadata": {
    "collapsed": false
   },
   "outputs": [
    {
     "data": {
      "text/plain": [
       "['/home/k.p.osminin/external_hdfs/ha_proc_20160915.txt',\n",
       " '/home/k.p.osminin/external_hdfs/ha_proc_20160916.txt',\n",
       " '/home/k.p.osminin/external_hdfs/ha_proc_20160917.txt',\n",
       " '/home/k.p.osminin/external_hdfs/ha_proc_20160918.txt',\n",
       " '/home/k.p.osminin/external_hdfs/ha_proc_20160919.txt',\n",
       " '/home/k.p.osminin/external_hdfs/ha_proc_20160920.txt',\n",
       " '/home/k.p.osminin/external_hdfs/ha_proc_20160921.txt',\n",
       " '/home/k.p.osminin/external_hdfs/ha_proc_20160922.txt',\n",
       " '/home/k.p.osminin/external_hdfs/ha_proc_20160923.txt',\n",
       " '/home/k.p.osminin/external_hdfs/ha_proc_20160924.txt',\n",
       " '/home/k.p.osminin/external_hdfs/ha_proc_20160929.txt',\n",
       " '/home/k.p.osminin/external_hdfs/ha_proc_20160930.txt',\n",
       " '/home/k.p.osminin/external_hdfs/ha_proc_20161001.txt',\n",
       " '/home/k.p.osminin/external_hdfs/ha_proc_20161002.txt',\n",
       " '/home/k.p.osminin/external_hdfs/ha_proc_20161003.txt',\n",
       " '/home/k.p.osminin/external_hdfs/ha_proc_20161004.txt',\n",
       " '/home/k.p.osminin/external_hdfs/ha_proc_20161005.txt',\n",
       " '/home/k.p.osminin/external_hdfs/ha_proc_20161006.txt',\n",
       " '/home/k.p.osminin/external_hdfs/ha_proc_20161007.txt',\n",
       " '/home/k.p.osminin/external_hdfs/ha_proc_20161010.txt',\n",
       " '/home/k.p.osminin/external_hdfs/ha_proc_sampled_20161010.txt']"
      ]
     },
     "execution_count": 4,
     "metadata": {},
     "output_type": "execute_result"
    }
   ],
   "source": [
    "files_list = sorted([e for e in os.popen(\"ls -dX /home/k.p.osminin/external_hdfs/* | grep -i 'ha_proc_'\").read().split('\\n') if e])\n",
    "files_list"
   ]
  },
  {
   "cell_type": "code",
   "execution_count": null,
   "metadata": {
    "collapsed": false
   },
   "outputs": [],
   "source": []
  }
 ],
 "metadata": {
  "kernelspec": {
   "display_name": "Python 2",
   "language": "python",
   "name": "python2"
  },
  "language_info": {
   "codemirror_mode": {
    "name": "ipython",
    "version": 2
   },
   "file_extension": ".py",
   "mimetype": "text/x-python",
   "name": "python",
   "nbconvert_exporter": "python",
   "pygments_lexer": "ipython2",
   "version": "2.7.12"
  }
 },
 "nbformat": 4,
 "nbformat_minor": 0
}
