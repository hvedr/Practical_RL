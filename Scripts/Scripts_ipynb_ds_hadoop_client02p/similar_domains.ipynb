{
 "cells": [
  {
   "cell_type": "markdown",
   "metadata": {},
   "source": [
    "# Поиск похожих сайтов\n",
    "\n",
    "В этом файле показаны пример использования моделей для составления списка доменов Web-сайтов похожих на заданный.\n",
    "\n",
    "Word2vec модель (200D) оценивает сходство сайтов использованию их посетителями в одном контексте (несколько упрощенно, сходство указывает на наличие общей аудитории сайтов). Модель содержит 198156 доменов, наиболее посещаемых по данным LiveInternet.\n",
    "\n",
    "Binary random projection модель (TF-IDF, 512D) описывает сходство сайтов по мешкам слов поисковых запросов. Эта модель содержит 192479 доменов, наиболее посещаемых по данным LiveInternet.\n",
    "\n",
    "В одной папке с данным файлом должны быть расположены файлы domain_vectors_200D.txt и domain_digest_512D.txt, если это не так, то они загружаются из HDFS."
   ]
  },
  {
   "cell_type": "code",
   "execution_count": 1,
   "metadata": {
    "collapsed": false
   },
   "outputs": [
    {
     "name": "stdout",
     "output_type": "stream",
     "text": [
      "\n"
     ]
    }
   ],
   "source": [
    "import pandas as pd\n",
    "import numpy as np\n",
    "import os\n",
    "import IPython\n",
    "\n",
    "# загрузка word2vec модели и определение функции для работы с ней:\n",
    "\n",
    "def init_similar_domains_w2v():\n",
    "    def log(s):        \n",
    "        IPython.display.clear_output(wait = True)\n",
    "        print(s)\n",
    "        \n",
    "    if not os.path.exists(\"domain_vectors_200D.txt\"):\n",
    "        log(\"загрузка из HDFS файла domain_vectors_200D.txt\")\n",
    "        os.system(\"hadoop fs -get /user/amelnikov/models/domain_vectors_200D.txt domain_vectors_200D.txt\")\n",
    "    \n",
    "    log(\"чтение файла domain_vectors_200D.txt\")\n",
    "    w2v = pd.read_csv(\"domain_vectors_200D.txt\", header = None, skiprows = 1, sep = ' ', index_col = False)\n",
    "    \n",
    "    log(\"подготовка структур данных для word2vec модели\")\n",
    "    vects = np.apply_along_axis(lambda x: x/np.linalg.norm(x), 1, np.array(w2v.iloc[:,1:201]))\n",
    "    words = w2v[0].tolist()\n",
    "    word_ixs = {w: i for i, w in enumerate(words)}\n",
    "    del(w2v)\n",
    "\n",
    "    # Возвращает DataFrame с доменами, упорядоченными по убыванию сходства с заданным доменом domain\n",
    "    # (метрика сходтсва - косинус угла между векторами доменов):\n",
    "    def similar_domains_w2v(domain):\n",
    "        if domain not in word_ixs:\n",
    "            return pd.DataFrame({'error': ['Домен \"%s\" не найден' % domain]})\n",
    "        v = vects[word_ixs[domain]]\n",
    "        cosa = np.apply_along_axis(lambda x: sum(v*x), 1, vects)\n",
    "        d = pd.DataFrame({'domain': words, 'cos': cosa}, columns = ['domain', 'cos'])\n",
    "        return d.sort(['cos'], ascending=[0])\n",
    "    \n",
    "    log(\"\")\n",
    "    return similar_domains_w2v\n",
    "\n",
    "similar_domains_w2v = init_similar_domains_w2v()\n",
    "\n",
    "\n",
    "# загрузка random projection модели и определение функции для работы с ней:\n",
    "\n",
    "def init_similar_domains_sqrp():\n",
    "    def log(s):        \n",
    "        IPython.display.clear_output(wait = True)\n",
    "        print(s)\n",
    "        \n",
    "    if not os.path.exists(\"domain_digest_512D.txt\"):\n",
    "        log(\"загрузка из HDFS файла domain_digest_512D.txt ...\")\n",
    "        os.system(\"hadoop fs -get /user/amelnikov/models/domain_digest_512D.txt domain_digest_512D.txt\")\n",
    "        \n",
    "    log(\"чтение файла domain_digest_512D.txt\")\n",
    "    dd = pd.read_csv(\"domain_digest_512D.txt\", header = None, sep = ',', index_col = False)\n",
    "\n",
    "    log(\"подготовка структур данных для RP модели\")\n",
    "    dm = np.array(dd.iloc[:,1:])\n",
    "    domains = dd[0].tolist()\n",
    "    del(dd)    \n",
    "    domain_ixs = {w: i for i, w in enumerate(domains)}\n",
    "    \n",
    "    # Возвращает DataFrame с доменами, упорядоченными по убыванию сходства поисковых запросов с заданным доменом domain\n",
    "    # (метрика сходтсва - доля одинаковых битов в binary random projection мешков слов поисковых запросов):\n",
    "    def similar_domains_sqrp(domain):\n",
    "        if domain not in domain_ixs:\n",
    "            return pd.DataFrame({'error': ['Домен %s не найден' % domain]})\n",
    "        v = dm[domain_ixs[domain]]\n",
    "        dim = 512.0\n",
    "        bsim = np.apply_along_axis(lambda x: (dim - sum([bin(n).count(\"1\") for n in v^x]))/dim, 1, dm)\n",
    "        d = pd.DataFrame({'domain': domains, 'bsim': bsim}, columns = ['domain', 'bsim'])\n",
    "        return d.sort(['bsim'], ascending=[0])  \n",
    "\n",
    "    log(\"\")\n",
    "    return similar_domains_sqrp\n",
    "\n",
    "similar_domains_sqrp = init_similar_domains_sqrp()"
   ]
  },
  {
   "cell_type": "markdown",
   "metadata": {},
   "source": [
    "## Примеры использования моделей"
   ]
  },
  {
   "cell_type": "markdown",
   "metadata": {},
   "source": [
    "Домены сайтов следует указывать без www, http и других фрагментов URL !!!\n",
    "\n",
    "Если пытаемся найти домены похожий на тот, что отсутствует в модели, выдается таблица с ошибкой:"
   ]
  },
  {
   "cell_type": "code",
   "execution_count": 2,
   "metadata": {
    "collapsed": false
   },
   "outputs": [
    {
     "data": {
      "text/html": [
       "<div>\n",
       "<table border=\"1\" class=\"dataframe\">\n",
       "  <thead>\n",
       "    <tr style=\"text-align: right;\">\n",
       "      <th></th>\n",
       "      <th>error</th>\n",
       "    </tr>\n",
       "  </thead>\n",
       "  <tbody>\n",
       "    <tr>\n",
       "      <th>0</th>\n",
       "      <td>Домен \"несуществующий-домен.рф\" не найден</td>\n",
       "    </tr>\n",
       "  </tbody>\n",
       "</table>\n",
       "</div>"
      ],
      "text/plain": [
       "                                       error\n",
       "0  Домен \"несуществующий-домен.рф\" не найден"
      ]
     },
     "execution_count": 2,
     "metadata": {},
     "output_type": "execute_result"
    }
   ],
   "source": [
    "similar_domains_w2v('несуществующий-домен.рф')"
   ]
  },
  {
   "cell_type": "markdown",
   "metadata": {},
   "source": [
    "Задаем домен сайта, для которого нужно получить похожие домены:"
   ]
  },
  {
   "cell_type": "code",
   "execution_count": 2,
   "metadata": {
    "collapsed": true
   },
   "outputs": [],
   "source": [
    "url_domain = 'kanobu.ru'"
   ]
  },
  {
   "cell_type": "markdown",
   "metadata": {},
   "source": [
    "Получаем таблицу доменов, упорядоченную по убыванию сходства с заданным на основе word2vec модели:"
   ]
  },
  {
   "cell_type": "code",
   "execution_count": 3,
   "metadata": {
    "collapsed": false
   },
   "outputs": [
    {
     "name": "stderr",
     "output_type": "stream",
     "text": [
      "/home/k.p.osminin/anaconda2/lib/python2.7/site-packages/IPython/kernel/__main__.py:34: FutureWarning: sort(columns=....) is deprecated, use sort_values(by=.....)\n"
     ]
    },
    {
     "data": {
      "text/html": [
       "<div>\n",
       "<table border=\"1\" class=\"dataframe\">\n",
       "  <thead>\n",
       "    <tr style=\"text-align: right;\">\n",
       "      <th></th>\n",
       "      <th>domain</th>\n",
       "      <th>cos</th>\n",
       "    </tr>\n",
       "  </thead>\n",
       "  <tbody>\n",
       "    <tr>\n",
       "      <th>944</th>\n",
       "      <td>kanobu.ru</td>\n",
       "      <td>1.000000</td>\n",
       "    </tr>\n",
       "    <tr>\n",
       "      <th>1010</th>\n",
       "      <td>igromania.ru</td>\n",
       "      <td>0.954960</td>\n",
       "    </tr>\n",
       "    <tr>\n",
       "      <th>6354</th>\n",
       "      <td>metagames.ru</td>\n",
       "      <td>0.905270</td>\n",
       "    </tr>\n",
       "    <tr>\n",
       "      <th>11033</th>\n",
       "      <td>mgnews.ru</td>\n",
       "      <td>0.901066</td>\n",
       "    </tr>\n",
       "    <tr>\n",
       "      <th>615</th>\n",
       "      <td>stopgame.ru</td>\n",
       "      <td>0.884928</td>\n",
       "    </tr>\n",
       "    <tr>\n",
       "      <th>1846</th>\n",
       "      <td>shazoo.ru</td>\n",
       "      <td>0.871074</td>\n",
       "    </tr>\n",
       "    <tr>\n",
       "      <th>1015</th>\n",
       "      <td>gamebomb.ru</td>\n",
       "      <td>0.866030</td>\n",
       "    </tr>\n",
       "    <tr>\n",
       "      <th>11380</th>\n",
       "      <td>game2day.org</td>\n",
       "      <td>0.844209</td>\n",
       "    </tr>\n",
       "    <tr>\n",
       "      <th>1338</th>\n",
       "      <td>gamer.ru</td>\n",
       "      <td>0.841205</td>\n",
       "    </tr>\n",
       "    <tr>\n",
       "      <th>1918</th>\n",
       "      <td>ag.ru</td>\n",
       "      <td>0.837124</td>\n",
       "    </tr>\n",
       "  </tbody>\n",
       "</table>\n",
       "</div>"
      ],
      "text/plain": [
       "             domain       cos\n",
       "944       kanobu.ru  1.000000\n",
       "1010   igromania.ru  0.954960\n",
       "6354   metagames.ru  0.905270\n",
       "11033     mgnews.ru  0.901066\n",
       "615     stopgame.ru  0.884928\n",
       "1846      shazoo.ru  0.871074\n",
       "1015    gamebomb.ru  0.866030\n",
       "11380  game2day.org  0.844209\n",
       "1338       gamer.ru  0.841205\n",
       "1918          ag.ru  0.837124"
      ]
     },
     "execution_count": 3,
     "metadata": {},
     "output_type": "execute_result"
    }
   ],
   "source": [
    "d_w2v = similar_domains_w2v(url_domain)\n",
    "\n",
    "# смотрим первые 10 записей:\n",
    "d_w2v.head(10)"
   ]
  },
  {
   "cell_type": "markdown",
   "metadata": {},
   "source": [
    "Получаем таблицу доменов, упорядоченную по убыванию сходства поисковых запросов:"
   ]
  },
  {
   "cell_type": "code",
   "execution_count": 5,
   "metadata": {
    "collapsed": false
   },
   "outputs": [
    {
     "data": {
      "text/html": [
       "<div>\n",
       "<table border=\"1\" class=\"dataframe\">\n",
       "  <thead>\n",
       "    <tr style=\"text-align: right;\">\n",
       "      <th></th>\n",
       "      <th>domain</th>\n",
       "      <th>bsim</th>\n",
       "    </tr>\n",
       "  </thead>\n",
       "  <tbody>\n",
       "    <tr>\n",
       "      <th>154300</th>\n",
       "      <td>kanobu.ru</td>\n",
       "      <td>1.000000</td>\n",
       "    </tr>\n",
       "    <tr>\n",
       "      <th>86732</th>\n",
       "      <td>игры.com</td>\n",
       "      <td>0.785156</td>\n",
       "    </tr>\n",
       "    <tr>\n",
       "      <th>62979</th>\n",
       "      <td>gamer-info.com</td>\n",
       "      <td>0.785156</td>\n",
       "    </tr>\n",
       "    <tr>\n",
       "      <th>24640</th>\n",
       "      <td>mmoarea.ru</td>\n",
       "      <td>0.781250</td>\n",
       "    </tr>\n",
       "    <tr>\n",
       "      <th>62254</th>\n",
       "      <td>gam.kz</td>\n",
       "      <td>0.781250</td>\n",
       "    </tr>\n",
       "    <tr>\n",
       "      <th>44130</th>\n",
       "      <td>coolgames.org.ua</td>\n",
       "      <td>0.777344</td>\n",
       "    </tr>\n",
       "    <tr>\n",
       "      <th>103590</th>\n",
       "      <td>allagames.ru</td>\n",
       "      <td>0.771484</td>\n",
       "    </tr>\n",
       "    <tr>\n",
       "      <th>80716</th>\n",
       "      <td>flashgametop.com</td>\n",
       "      <td>0.771484</td>\n",
       "    </tr>\n",
       "    <tr>\n",
       "      <th>171662</th>\n",
       "      <td>igrapro.com</td>\n",
       "      <td>0.769531</td>\n",
       "    </tr>\n",
       "    <tr>\n",
       "      <th>189564</th>\n",
       "      <td>noplay.ru</td>\n",
       "      <td>0.767578</td>\n",
       "    </tr>\n",
       "  </tbody>\n",
       "</table>\n",
       "</div>"
      ],
      "text/plain": [
       "                  domain      bsim\n",
       "154300         kanobu.ru  1.000000\n",
       "86732           игры.com  0.785156\n",
       "62979     gamer-info.com  0.785156\n",
       "24640         mmoarea.ru  0.781250\n",
       "62254             gam.kz  0.781250\n",
       "44130   coolgames.org.ua  0.777344\n",
       "103590      allagames.ru  0.771484\n",
       "80716   flashgametop.com  0.771484\n",
       "171662       igrapro.com  0.769531\n",
       "189564         noplay.ru  0.767578"
      ]
     },
     "execution_count": 5,
     "metadata": {},
     "output_type": "execute_result"
    }
   ],
   "source": [
    "d_sqrp = similar_domains_sqrp(url_domain)\n",
    "\n",
    "# смотрим первые 10 записей:\n",
    "d_sqrp.head(10)"
   ]
  },
  {
   "cell_type": "markdown",
   "metadata": {},
   "source": [
    "Можно построить список доменов, упорядоченный по убыванию средневзвешенного показателя сходства:"
   ]
  },
  {
   "cell_type": "code",
   "execution_count": 6,
   "metadata": {
    "collapsed": false
   },
   "outputs": [
    {
     "data": {
      "text/html": [
       "<div>\n",
       "<table border=\"1\" class=\"dataframe\">\n",
       "  <thead>\n",
       "    <tr style=\"text-align: right;\">\n",
       "      <th></th>\n",
       "      <th>domain</th>\n",
       "      <th>cos</th>\n",
       "      <th>bsim</th>\n",
       "      <th>composite</th>\n",
       "    </tr>\n",
       "  </thead>\n",
       "  <tbody>\n",
       "    <tr>\n",
       "      <th>0</th>\n",
       "      <td>kanobu.ru</td>\n",
       "      <td>1.000000</td>\n",
       "      <td>1.000000</td>\n",
       "      <td>1.000000</td>\n",
       "    </tr>\n",
       "    <tr>\n",
       "      <th>2</th>\n",
       "      <td>metagames.ru</td>\n",
       "      <td>0.905270</td>\n",
       "      <td>0.724609</td>\n",
       "      <td>0.814940</td>\n",
       "    </tr>\n",
       "    <tr>\n",
       "      <th>11</th>\n",
       "      <td>gamer-info.com</td>\n",
       "      <td>0.830142</td>\n",
       "      <td>0.785156</td>\n",
       "      <td>0.807649</td>\n",
       "    </tr>\n",
       "    <tr>\n",
       "      <th>1</th>\n",
       "      <td>igromania.ru</td>\n",
       "      <td>0.954960</td>\n",
       "      <td>0.626953</td>\n",
       "      <td>0.790957</td>\n",
       "    </tr>\n",
       "    <tr>\n",
       "      <th>4</th>\n",
       "      <td>stopgame.ru</td>\n",
       "      <td>0.884928</td>\n",
       "      <td>0.675781</td>\n",
       "      <td>0.780355</td>\n",
       "    </tr>\n",
       "    <tr>\n",
       "      <th>9</th>\n",
       "      <td>ag.ru</td>\n",
       "      <td>0.837124</td>\n",
       "      <td>0.710938</td>\n",
       "      <td>0.774031</td>\n",
       "    </tr>\n",
       "    <tr>\n",
       "      <th>8</th>\n",
       "      <td>gamer.ru</td>\n",
       "      <td>0.841205</td>\n",
       "      <td>0.666016</td>\n",
       "      <td>0.753611</td>\n",
       "    </tr>\n",
       "    <tr>\n",
       "      <th>12</th>\n",
       "      <td>gmbox.ru</td>\n",
       "      <td>0.829511</td>\n",
       "      <td>0.669922</td>\n",
       "      <td>0.749717</td>\n",
       "    </tr>\n",
       "    <tr>\n",
       "      <th>13</th>\n",
       "      <td>playground.ru</td>\n",
       "      <td>0.820228</td>\n",
       "      <td>0.664062</td>\n",
       "      <td>0.742145</td>\n",
       "    </tr>\n",
       "    <tr>\n",
       "      <th>3</th>\n",
       "      <td>mgnews.ru</td>\n",
       "      <td>0.901066</td>\n",
       "      <td>0.570312</td>\n",
       "      <td>0.735689</td>\n",
       "    </tr>\n",
       "    <tr>\n",
       "      <th>5</th>\n",
       "      <td>shazoo.ru</td>\n",
       "      <td>0.871074</td>\n",
       "      <td>0.595703</td>\n",
       "      <td>0.733389</td>\n",
       "    </tr>\n",
       "    <tr>\n",
       "      <th>6</th>\n",
       "      <td>gamebomb.ru</td>\n",
       "      <td>0.866030</td>\n",
       "      <td>0.580078</td>\n",
       "      <td>0.723054</td>\n",
       "    </tr>\n",
       "    <tr>\n",
       "      <th>7</th>\n",
       "      <td>game2day.org</td>\n",
       "      <td>0.844209</td>\n",
       "      <td>0.599609</td>\n",
       "      <td>0.721909</td>\n",
       "    </tr>\n",
       "    <tr>\n",
       "      <th>14</th>\n",
       "      <td>stratege.ru</td>\n",
       "      <td>0.816351</td>\n",
       "      <td>0.626953</td>\n",
       "      <td>0.721652</td>\n",
       "    </tr>\n",
       "    <tr>\n",
       "      <th>10</th>\n",
       "      <td>nim.ru</td>\n",
       "      <td>0.837008</td>\n",
       "      <td>0.605469</td>\n",
       "      <td>0.721238</td>\n",
       "    </tr>\n",
       "    <tr>\n",
       "      <th>23</th>\n",
       "      <td>igropoisk.com</td>\n",
       "      <td>0.781861</td>\n",
       "      <td>0.658203</td>\n",
       "      <td>0.720032</td>\n",
       "    </tr>\n",
       "    <tr>\n",
       "      <th>17</th>\n",
       "      <td>vgtimes.ru</td>\n",
       "      <td>0.808401</td>\n",
       "      <td>0.628906</td>\n",
       "      <td>0.718653</td>\n",
       "    </tr>\n",
       "    <tr>\n",
       "      <th>18</th>\n",
       "      <td>iwantgames.ru</td>\n",
       "      <td>0.806629</td>\n",
       "      <td>0.626953</td>\n",
       "      <td>0.716791</td>\n",
       "    </tr>\n",
       "    <tr>\n",
       "      <th>15</th>\n",
       "      <td>madfanboy.com</td>\n",
       "      <td>0.815647</td>\n",
       "      <td>0.611328</td>\n",
       "      <td>0.713488</td>\n",
       "    </tr>\n",
       "    <tr>\n",
       "      <th>26</th>\n",
       "      <td>gameland.ru</td>\n",
       "      <td>0.777309</td>\n",
       "      <td>0.646484</td>\n",
       "      <td>0.711896</td>\n",
       "    </tr>\n",
       "  </tbody>\n",
       "</table>\n",
       "</div>"
      ],
      "text/plain": [
       "            domain       cos      bsim  composite\n",
       "0        kanobu.ru  1.000000  1.000000   1.000000\n",
       "2     metagames.ru  0.905270  0.724609   0.814940\n",
       "11  gamer-info.com  0.830142  0.785156   0.807649\n",
       "1     igromania.ru  0.954960  0.626953   0.790957\n",
       "4      stopgame.ru  0.884928  0.675781   0.780355\n",
       "9            ag.ru  0.837124  0.710938   0.774031\n",
       "8         gamer.ru  0.841205  0.666016   0.753611\n",
       "12        gmbox.ru  0.829511  0.669922   0.749717\n",
       "13   playground.ru  0.820228  0.664062   0.742145\n",
       "3        mgnews.ru  0.901066  0.570312   0.735689\n",
       "5        shazoo.ru  0.871074  0.595703   0.733389\n",
       "6      gamebomb.ru  0.866030  0.580078   0.723054\n",
       "7     game2day.org  0.844209  0.599609   0.721909\n",
       "14     stratege.ru  0.816351  0.626953   0.721652\n",
       "10          nim.ru  0.837008  0.605469   0.721238\n",
       "23   igropoisk.com  0.781861  0.658203   0.720032\n",
       "17      vgtimes.ru  0.808401  0.628906   0.718653\n",
       "18   iwantgames.ru  0.806629  0.626953   0.716791\n",
       "15   madfanboy.com  0.815647  0.611328   0.713488\n",
       "26     gameland.ru  0.777309  0.646484   0.711896"
      ]
     },
     "execution_count": 6,
     "metadata": {},
     "output_type": "execute_result"
    }
   ],
   "source": [
    "# объединяем две таблицы по полю domain:\n",
    "d_joined = pd.merge(d_w2v, d_sqrp, on=\"domain\")\n",
    "\n",
    "w_cos = 1.0  # вес сходства по word2vec модели\n",
    "w_bsim = 1.0 # вес сходства поисковых запросов\n",
    "\n",
    "#вычисляем средневзвешенный показатель сходтсва:\n",
    "d_joined['composite'] = (w_cos*d_joined['cos'] + w_bsim*d_joined['bsim'])/(w_cos + w_bsim)\n",
    "\n",
    "# сортируем таблицу по этому показателю:\n",
    "d_joined = d_joined.sort(['composite'], ascending=[0]) \n",
    "\n",
    "# смотрим первые 20 записей:\n",
    "d_joined.head(20)"
   ]
  },
  {
   "cell_type": "markdown",
   "metadata": {},
   "source": [
    "## Как сохранить результаты в файл"
   ]
  },
  {
   "cell_type": "code",
   "execution_count": 7,
   "metadata": {
    "collapsed": true
   },
   "outputs": [],
   "source": [
    "# чтобы не возникала ошибка UnicodeDecodeError при сохранении результатов в файл:\n",
    "import sys \n",
    "reload(sys)  \n",
    "sys.setdefaultencoding('utf8')"
   ]
  },
  {
   "cell_type": "code",
   "execution_count": 8,
   "metadata": {
    "collapsed": false
   },
   "outputs": [],
   "source": [
    "# сохраняем в файл MS Excel первые 1000 записей:\n",
    "d_joined[:1000].to_excel(\"similar_domains.xlsx\", index = False)"
   ]
  },
  {
   "cell_type": "code",
   "execution_count": 9,
   "metadata": {
    "collapsed": true
   },
   "outputs": [],
   "source": [
    "# сохраняем в CSV файл все записи (кодировка UTF-8, если необходима другая - задать параметр encoding):\n",
    "d_joined.to_csv(\"similar_domains.csv\", sep = ';', decimal = ',', index = False)"
   ]
  }
 ],
 "metadata": {
  "kernelspec": {
   "display_name": "Python 2",
   "language": "python",
   "name": "python2"
  },
  "language_info": {
   "codemirror_mode": {
    "name": "ipython",
    "version": 2
   },
   "file_extension": ".py",
   "mimetype": "text/x-python",
   "name": "python",
   "nbconvert_exporter": "python",
   "pygments_lexer": "ipython2",
   "version": "2.7.12"
  }
 },
 "nbformat": 4,
 "nbformat_minor": 0
}
