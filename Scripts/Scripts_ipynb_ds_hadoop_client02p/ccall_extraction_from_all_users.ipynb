{
 "cells": [
  {
   "cell_type": "code",
   "execution_count": 12,
   "metadata": {
    "collapsed": false
   },
   "outputs": [],
   "source": [
    "#Config\n",
    "from pyspark import SparkConf, SparkContext, HiveContext\n",
    "#import re\n",
    "#import numpy as np\n",
    "#import pandas as pd\n",
    "#import datetime\n",
    "#from pyspark.mllib.regression import LabeledPoint\n",
    "#from pyspark.mllib.feature import HashingTF\n",
    "#from pyspark.mllib.classification import LogisticRegressionWithSGD, NaiveBayes, NaiveBayesModel\n",
    "#import scipy.sparse as sps\n",
    "#from pyspark.mllib.linalg import Vectors\n",
    "#import sklearn\n",
    "if sc:\n",
    "    sc.stop()\n",
    "conf = SparkConf().set(\"spark.executor.instances\", 32).set(\"spark.driver.maxResultSize\", \"20g\")\n",
    "sc = SparkContext(conf=conf)\n",
    "hc = HiveContext(sc)"
   ]
  },
  {
   "cell_type": "code",
   "execution_count": 13,
   "metadata": {
    "collapsed": false
   },
   "outputs": [],
   "source": [
    "data = hc.sql('select * from user_kposminin.ccalls_scores_15 order by score desc').collect()\n"
   ]
  },
  {
   "cell_type": "code",
   "execution_count": 18,
   "metadata": {
    "collapsed": false
   },
   "outputs": [
    {
     "data": {
      "text/plain": [
       "Row(score=4.795790545596741, ccall=0, full_app=0, approve=0, havent_started=0)"
      ]
     },
     "execution_count": 18,
     "metadata": {},
     "output_type": "execute_result"
    }
   ],
   "source": [
    "data[0]"
   ]
  },
  {
   "cell_type": "code",
   "execution_count": 22,
   "metadata": {
    "collapsed": false
   },
   "outputs": [
    {
     "name": "stdout",
     "output_type": "stream",
     "text": [
      "0          10000   -6.91486255901 0    0    0    0   \n",
      "10000      20000   -7.25703250462 1    1    2    2   \n",
      "30000      20000   -7.35292307774 0    0    2    1   \n",
      "50000      20000   -7.48055363506 0    0    0    0   \n",
      "70000      20000   -7.51760504792 0    0    0    0   \n",
      "90000      10000   -7.53490559855 0    0    0    0   \n",
      "100000     200000  -7.85128475954 0    0    14   11  \n",
      "300000     200000  -8.06045979588 0    0    12   11  \n",
      "500000     200000  -8.13547557362 1    0    14   12  \n",
      "700000     200000  -8.22527208157 1    0    10   9   \n",
      "900000     100000  -8.27290110748 1    1    5    3   \n",
      "1000000    2000000 -8.69588398194 5    4    122  94  \n",
      "3000000    2000000 -8.93844301054 6    4    120  83  \n",
      "5000000    2000000 -9.12463204176 9    7    101  80  \n",
      "7000000    2000000 -9.23331526141 6    3    91   68  \n",
      "9000000    2000000 -9.33014963627 4    4    96   78  \n",
      "11000000   2000000 -9.44052092361 7    5    93   65  \n",
      "13000000   2000000 -9.53380326576 6    3    85   67  \n",
      "15000000   2000000 -9.60826656463 3    1    99   70  \n",
      "17000000   2000000 -9.70769936267 5    3    97   72  \n",
      "19000000   2000000 -9.80999025228 4    2    69   54  \n",
      "21000000   2000000 -9.88870150296 7    3    71   54  \n",
      "23000000   2000000 -9.91321324479 5    5    94   68  \n",
      "25000000   2000000 -9.97218125274 8    4    87   61  \n",
      "27000000   2000000 -9.99552551875 4    3    111  80  \n",
      "29000000   2000000 -10.0769906446 5    3    57   47  \n",
      "31000000   2000000 -10.1207630111 2    2    78   57  \n",
      "33000000   2000000 -10.1699536916 2    1    52   40  \n",
      "35000000   2000000 -10.2195647508 8    6    73   57  \n",
      "37000000   2000000 -10.2416500519 3    1    67   43  \n",
      "39000000   2000000 -10.2845113193 4    1    62   42  \n",
      "41000000   2000000 -10.3194320127 2    1    68   52  \n",
      "43000000   2000000 -10.3379189066 5    1    72   59  \n",
      "45000000   2000000 -10.4206800078 4    2    55   43  \n",
      "47000000   2000000 -10.454107143 3    2    32   25  \n",
      "49000000   2000000 -10.480999809 3    1    42   33  \n",
      "51000000   2000000 -10.5319483088 4    3    43   31  \n",
      "53000000   2000000 -10.535452603 2    2    26   19  \n"
     ]
    }
   ],
   "source": [
    "prev = 0\n",
    "for i in range(10**4,10**5,2*10**4) + range(10**5,10**6,2*10**5) + range(10**6,n,2*10**6):\n",
    "    b = data[prev:i]\n",
    "    print('{0:<10} {1:<7} {2:<5} {3:<4} {4:<4} {5:<4} {6:<4}'.format(\n",
    "            prev,\n",
    "            i - prev, \n",
    "            b[-1].score,\n",
    "            sum([e.full_app for e in b]),\n",
    "            sum([e.approve for e in b]),\n",
    "            sum([e.ccall for e in b]),\n",
    "            sum([e.ccall - e.havent_started for e in b])\n",
    "        ))\n",
    "    prev = i"
   ]
  },
  {
   "cell_type": "code",
   "execution_count": null,
   "metadata": {
    "collapsed": true
   },
   "outputs": [],
   "source": []
  }
 ],
 "metadata": {
  "kernelspec": {
   "display_name": "Python 2",
   "language": "python",
   "name": "python2"
  },
  "language_info": {
   "codemirror_mode": {
    "name": "ipython",
    "version": 2
   },
   "file_extension": ".py",
   "mimetype": "text/x-python",
   "name": "python",
   "nbconvert_exporter": "python",
   "pygments_lexer": "ipython2",
   "version": "2.7.12"
  }
 },
 "nbformat": 4,
 "nbformat_minor": 0
}
