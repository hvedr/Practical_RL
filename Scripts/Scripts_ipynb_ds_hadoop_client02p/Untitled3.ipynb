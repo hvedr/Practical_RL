{
 "cells": [
  {
   "cell_type": "code",
   "execution_count": 1,
   "metadata": {
    "collapsed": false
   },
   "outputs": [
    {
     "ename": "ImportError",
     "evalue": "No module named pyhive",
     "output_type": "error",
     "traceback": [
      "\u001b[1;31m---------------------------------------------------------------------------\u001b[0m",
      "\u001b[1;31mImportError\u001b[0m                               Traceback (most recent call last)",
      "\u001b[1;32m<ipython-input-1-a7aed0a8488b>\u001b[0m in \u001b[0;36m<module>\u001b[1;34m()\u001b[0m\n\u001b[0;32m     26\u001b[0m           }\n\u001b[0;32m     27\u001b[0m \u001b[1;33m\u001b[0m\u001b[0m\n\u001b[1;32m---> 28\u001b[1;33m \u001b[1;32mfrom\u001b[0m \u001b[0mpyhive\u001b[0m \u001b[1;32mimport\u001b[0m \u001b[0mhive\u001b[0m\u001b[1;33m\u001b[0m\u001b[0m\n\u001b[0m\u001b[0;32m     29\u001b[0m \u001b[0mconn\u001b[0m \u001b[1;33m=\u001b[0m \u001b[0mhive\u001b[0m\u001b[1;33m.\u001b[0m\u001b[0mConnection\u001b[0m\u001b[1;33m(\u001b[0m\u001b[0mhost\u001b[0m\u001b[1;33m=\u001b[0m\u001b[0mHIVE_HOST\u001b[0m\u001b[1;33m,\u001b[0m \u001b[0mport\u001b[0m\u001b[1;33m=\u001b[0m\u001b[0mHIVE_PORT\u001b[0m\u001b[1;33m,\u001b[0m \u001b[0musername\u001b[0m\u001b[1;33m=\u001b[0m\u001b[0mHIVE_USER\u001b[0m\u001b[1;33m,\u001b[0m \u001b[0mconfiguration\u001b[0m\u001b[1;33m=\u001b[0m\u001b[0mCONF\u001b[0m\u001b[1;33m)\u001b[0m\u001b[1;33m\u001b[0m\u001b[0m\n\u001b[0;32m     30\u001b[0m \u001b[0mcursor\u001b[0m \u001b[1;33m=\u001b[0m \u001b[0mconn\u001b[0m\u001b[1;33m.\u001b[0m\u001b[0mcursor\u001b[0m\u001b[1;33m(\u001b[0m\u001b[1;33m)\u001b[0m\u001b[1;33m\u001b[0m\u001b[0m\n",
      "\u001b[1;31mImportError\u001b[0m: No module named pyhive"
     ]
    }
   ],
   "source": [
    "HIVE_HOST = 'ds-hadoop-cs01p'\n",
    "HIVE_PORT = 10000\n",
    "HIVE_USER = 'osminink'\n",
    "CONF={'hive.vectorized.execution.enabled':'true'\n",
    "    ,'mapreduce.map.memory.mb':'4096'\n",
    "    ,'mapreduce.map.child.java.opts':'-Xmx4g'\n",
    "    ,'mapreduce.task.io.sort.mb':'1024'\n",
    "    ,'mapreduce.reduce.child.java.opts':'-Xmx4g'\n",
    "    ,'mapreduce.reduce.memory.mb':'7000'\n",
    "    ,'mapreduce.reduce.shuffle.input.buffer.percent':'0.5'\n",
    "    ,'mapreduce.input.fileinputformat.split.minsize':'536870912'\n",
    "    ,'mapreduce.input.fileinputformat.split.maxsize':'1073741824'\n",
    "    ,'hive.optimize.ppd':'true'\n",
    "    ,'hive.merge.smallfiles.avgsize':'536870912'\n",
    "    ,'hive.merge.mapredfiles':'true'\n",
    "    ,'hive.merge.mapfiles':'true'\n",
    "    ,'hive.hadoop.supports.splittable.combineinputformat':'true'\n",
    "    ,'hive.exec.reducers.bytes.per.reducer':'536870912'\n",
    "    ,'hive.exec.parallel':'true'\n",
    "    ,'hive.exec.max.created.files':'10000000'\n",
    "    ,'hive.exec.compress.output':'true'\n",
    "    ,'hive.exec.dynamic.partition.mode':'nonstrict'\n",
    "    ,'hive.exec.max.dynamic.partitions':'1000000'\n",
    "    ,'hive.exec.max.dynamic.partitions.pernode':'100000'\n",
    "    ,'io.seqfile.compression.type':'BLOCK'\n",
    "          }\n",
    "\n",
    "from pyhive import hive\n",
    "conn = hive.Connection(host=HIVE_HOST, port=HIVE_PORT, username=HIVE_USER, configuration=CONF)\n",
    "cursor = conn.cursor()"
   ]
  },
  {
   "cell_type": "code",
   "execution_count": 1,
   "metadata": {
    "collapsed": true
   },
   "outputs": [],
   "source": [
    "import mmh3\n",
    "import sys\n",
    "\n",
    "salts = [213,21,54656]\n",
    "visits_limit = 2000\n",
    "fdim = 2 ** 20 # features space dimenension\n",
    "\n",
    "def hasher(arg):\n",
    "    inp = arg.split(' ') \n",
    "    row = {}\n",
    "    for i in range(1,min(len(inp),visits_limit)):\n",
    "        k,v = inp[i].split(':')\n",
    "        for s in salts:\n",
    "            h = mmh3.hash(k,s) % fdim\n",
    "            if(h in row):\n",
    "                row[h] = str(int(row[h]) + int(v))\n",
    "            else:\n",
    "                row[h] = v\n",
    "    return(inp[0] + ' ' + ' '.join(['{0}:{1}'.format(k,row[k]) for k in sorted(row.keys())]))\n",
    "\n"
   ]
  },
  {
   "cell_type": "code",
   "execution_count": 7,
   "metadata": {
    "collapsed": true
   },
   "outputs": [],
   "source": [
    "out = open(sys.argv[2],'a')\n",
    "cnt = 1\n",
    "\n",
    "\n",
    "for r in ['0 sdfsd:4']:\n",
    "    try:\n",
    "        out.write(hasher(r.replace('\\n','')) + '\\n')\n",
    "        #print('** ' + r.replace('\\n','') + ' **')\n",
    "    except Error, e:\n",
    "        print('Error while hashing at {0} row: {1}'.format(cnt,r.replace('\\n','')))\n",
    "    cnt += 1\n",
    "    if (cnt & (2 ** 19 - 1) == 0):\n",
    "        print('In progress: ' + str(cnt))\n",
    "        out.flush()\n",
    "\n",
    "out.close()"
   ]
  },
  {
   "cell_type": "code",
   "execution_count": 3,
   "metadata": {
    "collapsed": true
   },
   "outputs": [],
   "source": [
    "r = '0 vk.com#groups:14 vk.com#:126 vk.com#market-121112067:1 set-os.ru#:2 vk.com#id174464767:1 2ip.ru#check-port:13 vk.com#iface:1 vk.com#club126460649:1 vk.com#cleoofficialgroup:1 rlu.ru#:1 vk.com#friends:17 vk.com#club100809291:3 vk.com#photo342965223_426470697:2 vk.com#feed:3 vk.com#miragelife:4 vk.com#craftservru:1 servera-minecraft.net#:1 vk.com#vinelandru:1 vk.com#zomlock:2 vk.com#tubeone:1 vk.com#mrfroing:5 craftserv.at.ua#:20 set-os.ru#tag:1 vk.com#designbaf:1 vk.com#tv1nke:1 2ip.ru#:32 vk.com#minesword_srv:1 vk.com#id365081186:1 vk.com#opcash_ru:2 vk.com#idpayki:1 of-si.ru#kristaliks-oficialnyj-sajt:2 servera-minecraft.net#s-mini-igrami:1 vk.com#daniilpopov68rus:3 vk.com#wall-129239668:11 vk.com#owens1de:5 vk.com#idnamber:1 vk.com#im:6 vk.com#login:2 vk.com#d346243585:3 of-si.ru#posts:1 vk.com#psandc:1 set-os.ru#192-168-1-2:1 vk.com#club128100810:1 vk.com#restore:3 vk.com#minedzn:1 vk.com#cristalix:1 vk.com#id346243585:11 vk.com#id342965223:5 vk.com#designstyle228:1 ru-m.org#:1 vk.com#mattyofficial:1 ru-m.org#3780-sozdanie-servera-v-minecraft.html:1 of-si.ru#:6 rlu.ru#022EVB:1 of-si.ru#igry:1 vk.com#vinerun:1 ru-m.org#gaydy-minecraft:1'"
   ]
  },
  {
   "cell_type": "code",
   "execution_count": 9,
   "metadata": {
    "collapsed": false
   },
   "outputs": [
    {
     "name": "stdout",
     "output_type": "stream",
     "text": [
      "0 377290:4 559767:4 1021116:4\n",
      "\n"
     ]
    },
    {
     "ename": "NameError",
     "evalue": "name 'Error' is not defined",
     "output_type": "error",
     "traceback": [
      "\u001b[1;31m---------------------------------------------------------------------------\u001b[0m",
      "\u001b[1;31mNameError\u001b[0m                                 Traceback (most recent call last)",
      "\u001b[1;32m<ipython-input-9-72ddf382bb30>\u001b[0m in \u001b[0;36m<module>\u001b[1;34m()\u001b[0m\n\u001b[0;32m      3\u001b[0m     \u001b[1;36m1\u001b[0m\u001b[1;33m/\u001b[0m\u001b[1;36m0\u001b[0m\u001b[1;33m\u001b[0m\u001b[0m\n\u001b[0;32m      4\u001b[0m         \u001b[1;31m#print('** ' + r.replace('\\n','') + ' **')\u001b[0m\u001b[1;33m\u001b[0m\u001b[1;33m\u001b[0m\u001b[0m\n\u001b[1;32m----> 5\u001b[1;33m \u001b[1;32mexcept\u001b[0m \u001b[0mError\u001b[0m\u001b[1;33m,\u001b[0m \u001b[0me\u001b[0m\u001b[1;33m:\u001b[0m\u001b[1;33m\u001b[0m\u001b[0m\n\u001b[0m\u001b[0;32m      6\u001b[0m     \u001b[1;32mprint\u001b[0m\u001b[1;33m(\u001b[0m\u001b[1;36m1\u001b[0m\u001b[1;33m)\u001b[0m\u001b[1;33m\u001b[0m\u001b[0m\n",
      "\u001b[1;31mNameError\u001b[0m: name 'Error' is not defined"
     ]
    }
   ],
   "source": [
    "try:\n",
    "    print(hasher(r.replace('\\n','')) + '\\n')\n",
    "    1/0\n",
    "        #print('** ' + r.replace('\\n','') + ' **')\n",
    "except Error, e:\n",
    "    print(1)"
   ]
  },
  {
   "cell_type": "code",
   "execution_count": null,
   "metadata": {
    "collapsed": true
   },
   "outputs": [],
   "source": []
  }
 ],
 "metadata": {
  "kernelspec": {
   "display_name": "Python 2",
   "language": "python",
   "name": "python2"
  },
  "language_info": {
   "codemirror_mode": {
    "name": "ipython",
    "version": 2
   },
   "file_extension": ".py",
   "mimetype": "text/x-python",
   "name": "python",
   "nbconvert_exporter": "python",
   "pygments_lexer": "ipython2",
   "version": "2.7.12"
  }
 },
 "nbformat": 4,
 "nbformat_minor": 0
}
