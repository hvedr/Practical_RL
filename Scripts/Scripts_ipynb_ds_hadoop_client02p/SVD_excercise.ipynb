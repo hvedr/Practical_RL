{
 "cells": [
  {
   "cell_type": "code",
   "execution_count": 164,
   "metadata": {
    "collapsed": false
   },
   "outputs": [],
   "source": [
    "import numpy as np\n",
    "import scipy\n",
    "m, n = 500, 200\n",
    "M = (scipy.sparse.rand(m = m, n = n, density=0.2, format='coo', random_state=213)*20).astype(int)"
   ]
  },
  {
   "cell_type": "code",
   "execution_count": 111,
   "metadata": {
    "collapsed": false
   },
   "outputs": [],
   "source": [
    "U,S,V = np.linalg.svd(M.toarray())"
   ]
  },
  {
   "cell_type": "code",
   "execution_count": null,
   "metadata": {
    "collapsed": false
   },
   "outputs": [],
   "source": [
    "#from sklearn.decomposition import TruncatedSVD\n",
    "#from sklearn.random_projection import sparse_random_matrix\n",
    "#svd = TruncatedSVD(n_components=5, n_iter=7, random_state=42)\n",
    "#svd.fit(np.random.randn(15,10)) \n",
    "#print(svd.explained_variance_ratio_) \n",
    "#print(svd.explained_variance_ratio_.sum()) \n"
   ]
  },
  {
   "cell_type": "code",
   "execution_count": 5,
   "metadata": {
    "collapsed": false
   },
   "outputs": [
    {
     "data": {
      "text/plain": [
       "array([ 70.85552434,  49.3924892 ,  43.27339788,  42.10988321,\n",
       "        39.88656335,  37.52685062,  33.66795947,  32.45302173,\n",
       "        30.19742453,  27.55598244,  26.02672689,  24.46469038,\n",
       "        23.66694792,  20.63585224,  18.25723408,  17.2235466 ,\n",
       "        16.31559166,  15.8324432 ,  14.86794601,  10.72968301])"
      ]
     },
     "execution_count": 5,
     "metadata": {},
     "output_type": "execute_result"
    }
   ],
   "source": []
  },
  {
   "cell_type": "code",
   "execution_count": 167,
   "metadata": {
    "collapsed": false,
    "scrolled": true
   },
   "outputs": [],
   "source": [
    "#initialize\n",
    "n_feat = 50\n",
    "Uf = np.random.rand(m,n_feat)/10 + 1./n_feat ** 0.5\n",
    "Vf = np.random.rand(n_feat,n)/10 + 1./n_feat ** 0.5\n",
    "old_rmse, rmse = 1, 0.5\n",
    "eta = 0.1\n",
    "lam2 = 0.1\n",
    "cnt=0\n",
    "Mlen = M.count_nonzero()\n",
    "thres = 0.01\n",
    "\n",
    "# learning\n",
    "while abs(rmse - old_rmse) > 0.00001 and cnt < 5000:\n",
    "    cnt += 1\n",
    "    old_rmse = rmse\n",
    "    rmse = 0\n",
    "    for i,j,v in zip(M.row, M.col, M.data):\n",
    "        err = v - Uf[i].dot(Vf[:,j])\n",
    "        rmse += err ** 2\n",
    "        for f in range(n_feat):\n",
    "            Uf[i][f] += eta * (err * Vf[f][j] + lam2 * Uf[i][f])\n",
    "            Vf[f][j] += eta * (err * Uf[i][f] + lam2 * Vf[f][j])\n",
    "    rmse = (rmse / Mlen) ** 0.5\n",
    "    if(rmse > old_rmse - thres):\n",
    "        eta *= 0.7\n",
    "        thres *= 0.5\n",
    "    if( cnt & (2**3 - 1) == 0): print('{} {}'.format(cnt,rmse))\n",
    "    "
   ]
  },
  {
   "cell_type": "code",
   "execution_count": 168,
   "metadata": {
    "collapsed": false
   },
   "outputs": [
    {
     "data": {
      "text/plain": [
       "nan"
      ]
     },
     "execution_count": 168,
     "metadata": {},
     "output_type": "execute_result"
    }
   ],
   "source": []
  },
  {
   "cell_type": "code",
   "execution_count": 113,
   "metadata": {
    "collapsed": false
   },
   "outputs": [
    {
     "data": {
      "text/plain": [
       "array([-0.05346797,  0.06971559, -0.03374487, -0.07344539, -0.13748163])"
      ]
     },
     "execution_count": 113,
     "metadata": {},
     "output_type": "execute_result"
    }
   ],
   "source": [
    "U[0][:5]"
   ]
  },
  {
   "cell_type": "markdown",
   "metadata": {
    "collapsed": true
   },
   "source": [
    "##### np.corrcoef(Uf,U[0][:10])"
   ]
  },
  {
   "cell_type": "code",
   "execution_count": 140,
   "metadata": {
    "collapsed": false
   },
   "outputs": [
    {
     "data": {
      "text/plain": [
       "(0.24659205969481335, -0.78787340454885002)"
      ]
     },
     "execution_count": 140,
     "metadata": {},
     "output_type": "execute_result"
    }
   ],
   "source": [
    "c=[]\n",
    "for r in Uf:\n",
    "    c.append(np.correlate(U[0][:5],r)[0])\n",
    "max(c),min(c)"
   ]
  },
  {
   "cell_type": "code",
   "execution_count": 147,
   "metadata": {
    "collapsed": false
   },
   "outputs": [],
   "source": [
    "import pyspark"
   ]
  },
  {
   "cell_type": "code",
   "execution_count": 149,
   "metadata": {
    "collapsed": true
   },
   "outputs": [],
   "source": [
    "import sys\n",
    "import os"
   ]
  },
  {
   "cell_type": "code",
   "execution_count": 146,
   "metadata": {
    "collapsed": false
   },
   "outputs": [
    {
     "data": {
      "text/plain": [
       "['',\n",
       " '/home/k.p.osminin/anaconda2/lib/python27.zip',\n",
       " '/home/k.p.osminin/anaconda2/lib/python2.7',\n",
       " '/home/k.p.osminin/anaconda2/lib/python2.7/plat-linux2',\n",
       " '/home/k.p.osminin/anaconda2/lib/python2.7/lib-tk',\n",
       " '/home/k.p.osminin/anaconda2/lib/python2.7/lib-old',\n",
       " '/home/k.p.osminin/anaconda2/lib/python2.7/lib-dynload',\n",
       " '/home/k.p.osminin/anaconda2/lib/python2.7/site-packages',\n",
       " '/home/k.p.osminin/anaconda2/lib/python2.7/site-packages/Sphinx-1.4.6-py2.7.egg',\n",
       " '/home/k.p.osminin/anaconda2/lib/python2.7/site-packages/setuptools-27.2.0-py2.7.egg',\n",
       " '/home/k.p.osminin/anaconda2/lib/python2.7/site-packages/IPython/extensions',\n",
       " '/home/k.p.osminin/.ipython',\n",
       " '/opt/apache/spark-1.6.0-bin-hadoop2.6/python',\n",
       " '/opt/apache/spark-1.6.0-bin-hadoop2.6/python/lib/py4j-0.9-src.zip',\n",
       " '/home/k.p.osminin/.ipython/scripts']"
      ]
     },
     "execution_count": 146,
     "metadata": {},
     "output_type": "execute_result"
    }
   ],
   "source": [
    "sys.path\n"
   ]
  },
  {
   "cell_type": "code",
   "execution_count": 148,
   "metadata": {
    "collapsed": false
   },
   "outputs": [
    {
     "data": {
      "text/plain": [
       "'/opt/apache/spark-1.6.0-bin-hadoop2.6/python/pyspark/__init__.py'"
      ]
     },
     "execution_count": 148,
     "metadata": {},
     "output_type": "execute_result"
    }
   ],
   "source": [
    "pyspark.__file__"
   ]
  },
  {
   "cell_type": "code",
   "execution_count": 161,
   "metadata": {
    "collapsed": false
   },
   "outputs": [
    {
     "name": "stdout",
     "output_type": "stream",
     "text": [
      ".\n",
      "..\n",
      "accumulators.py\n",
      "accumulators.pyc\n",
      "broadcast.py\n",
      "broadcast.pyc\n",
      "cloudpickle.py\n",
      "cloudpickle.pyc\n",
      "conf.py\n",
      "conf.pyc\n",
      "context.py\n",
      "context.pyc\n",
      "daemon.py\n",
      "files.py\n",
      "files.pyc\n",
      "heapq3.py\n",
      "heapq3.pyc\n",
      "__init__.py\n",
      "__init__.pyc\n",
      "java_gateway.py\n",
      "java_gateway.pyc\n",
      "join.py\n",
      "join.pyc\n",
      "ml\n",
      "mllib\n",
      "profiler.py\n",
      "profiler.pyc\n",
      "rdd.py\n",
      "rdd.pyc\n",
      "rddsampler.py\n",
      "rddsampler.pyc\n",
      "resultiterable.py\n",
      "resultiterable.pyc\n",
      "serializers.py\n",
      "serializers.pyc\n",
      "shell.py\n",
      "shuffle.py\n",
      "shuffle.pyc\n",
      "sql\n",
      "statcounter.py\n",
      "statcounter.pyc\n",
      "status.py\n",
      "status.pyc\n",
      "storagelevel.py\n",
      "storagelevel.pyc\n",
      "streaming\n",
      "tests.py\n",
      "traceback_utils.py\n",
      "traceback_utils.pyc\n",
      "worker.py\n",
      "\n"
     ]
    }
   ],
   "source": [
    "print(os.popen('ls  -a /opt/apache/spark-1.6.0-bin-hadoop2.6/python/pyspark').read())"
   ]
  },
  {
   "cell_type": "code",
   "execution_count": null,
   "metadata": {
    "collapsed": true
   },
   "outputs": [],
   "source": []
  }
 ],
 "metadata": {
  "kernelspec": {
   "display_name": "Python 2",
   "language": "python",
   "name": "python2"
  },
  "language_info": {
   "codemirror_mode": {
    "name": "ipython",
    "version": 2
   },
   "file_extension": ".py",
   "mimetype": "text/x-python",
   "name": "python",
   "nbconvert_exporter": "python",
   "pygments_lexer": "ipython2",
   "version": "2.7.12"
  }
 },
 "nbformat": 4,
 "nbformat_minor": 0
}
