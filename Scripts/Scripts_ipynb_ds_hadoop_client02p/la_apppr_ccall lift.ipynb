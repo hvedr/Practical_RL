{
 "cells": [
  {
   "cell_type": "code",
   "execution_count": 3,
   "metadata": {
    "collapsed": false
   },
   "outputs": [],
   "source": [
    "import datetime\n",
    "from pyspark import SparkConf, SparkContext, HiveContext\n",
    "try:\n",
    "    sc.stop()\n",
    "except:\n",
    "    pass\n",
    "conf = SparkConf().set(\"spark.executor.instances\", 32).set(\"spark.driver.maxResultSize\", \"16g\")\n",
    "sc = SparkContext(conf=conf)\n",
    "hc = HiveContext(sc)\n",
    "#sc.setCheckpointDir('/user/kposminin/checkpointdir/')"
   ]
  },
  {
   "cell_type": "code",
   "execution_count": 4,
   "metadata": {
    "collapsed": true
   },
   "outputs": [],
   "source": [
    "from pyspark.mllib.tree import GradientBoostedTrees, GradientBoostedTreesModel\n",
    "from pyspark.mllib.util import MLUtils\n",
    "from pyspark.mllib.regression import LabeledPoint\n",
    "from pyspark.mllib.evaluation import BinaryClassificationMetrics\n",
    "import sklearn\n",
    "import sklearn.ensemble\n",
    "import hashlib\n",
    "\n",
    "# Load and parse the data file.\n",
    "data = hc.sql('select nvl(score1,-20),nvl(label,0),nvl(first_day,0) from user_kposminin.tgt_modific_calc3') \\\n",
    "    .collect()\n",
    "data = sorted(data,reverse = True)"
   ]
  },
  {
   "cell_type": "code",
   "execution_count": 5,
   "metadata": {
    "collapsed": false
   },
   "outputs": [
    {
     "name": "stdout",
     "output_type": "stream",
     "text": [
      "la_apppr_ccall AUC ROC label3d: 0.704051926739\n",
      "la_apppr_ccall AUC ROC first_day: 0.692334022118\n"
     ]
    }
   ],
   "source": [
    "from sklearn.metrics import roc_auc_score\n",
    "\n",
    "def parse_label(l):\n",
    "    try:\n",
    "        return int(l)\n",
    "    except:\n",
    "        return 0\n",
    "    \n",
    "def parse_score(s):\n",
    "    try:\n",
    "        return float(s)\n",
    "    except:\n",
    "        return -100\n",
    "    \n",
    "print('la_apppr_ccall AUC ROC label3d: {}'.format(roc_auc_score(y_true = [e[1] for e in data],y_score = [e[0] for e in data])))\n",
    "print('la_apppr_ccall AUC ROC first_day: {}'.format(roc_auc_score(y_true = [e[2] for e in data],y_score = [e[0] for e in data])))"
   ]
  },
  {
   "cell_type": "code",
   "execution_count": 6,
   "metadata": {
    "collapsed": false
   },
   "outputs": [
    {
     "name": "stdout",
     "output_type": "stream",
     "text": [
      "\n",
      "Lift table for la_apppr_ccall label3d\n",
      "\n",
      "q         \tpos_cnt   \tpos%      \tcnt       \tpos/cnt   \tlift      \tscore     \n",
      "0.9999    \t16        \t3.68%     \t2167      \t0.73835%  \t367.90    \t-4.55779  \n",
      "0.9998    \t21        \t4.83%     \t4334      \t0.48454%  \t241.43    \t-5.05012  \n",
      "0.9997    \t24        \t5.52%     \t6502      \t0.36912%  \t183.92    \t-5.70748  \n",
      "0.9995    \t25        \t5.75%     \t10837     \t0.23069%  \t114.95    \t-5.91117  \n",
      "0.999     \t28        \t6.44%     \t21674     \t0.12919%  \t64.37     \t-6.36841  \n",
      "0.998     \t33        \t7.59%     \t43349     \t0.07613%  \t37.93     \t-6.81072  \n",
      "0.997     \t37        \t8.51%     \t65024     \t0.05690%  \t28.35     \t-7.17596  \n",
      "0.995     \t41        \t9.43%     \t108373    \t0.03783%  \t18.85     \t-7.64765  \n",
      "0.99      \t45        \t10.34%    \t216746    \t0.02076%  \t10.34     \t-8.33441  \n",
      "0.98      \t57        \t13.10%    \t433493    \t0.01315%  \t6.55      \t-8.81446  \n",
      "0.95      \t103       \t23.68%    \t1083734   \t0.00950%  \t4.74      \t-9.18631  \n",
      "0.9       \t151       \t34.71%    \t2167467   \t0.00697%  \t3.47      \t-9.52999  \n",
      "0.8       \t214       \t49.20%    \t4334935   \t0.00494%  \t2.46      \t-9.91030  \n",
      "0.7       \t261       \t60.00%    \t6502404   \t0.00401%  \t2.00      \t-10.13771 \n",
      "0.5       \t315       \t72.41%    \t10837340  \t0.00291%  \t1.45      \t-10.57253 \n",
      "0.3       \t383       \t88.05%    \t15172275  \t0.00252%  \t1.26      \t-10.75465 \n",
      "0         \t435       \t100.00%   \t21674680  \t0.00201%  \t1.00      \t-20.00000 \n"
     ]
    }
   ],
   "source": [
    "def nvl(a,b):\n",
    "    if a:\n",
    "        return a\n",
    "    else:\n",
    "        return b\n",
    "    \n",
    "print('\\nLift table for la_apppr_ccall label3d\\n\\n{:<10}\\t{:<10}\\t{:<10}\\t{:<10}\\t{:<10}\\t{:<10}\\t{:<10}'.format(\n",
    "        'q','pos_cnt','pos%','cnt','pos/cnt','lift','score'))\n",
    "pos_tot = sum([e[1] for e in data])\n",
    "pos_share_tot = float(pos_tot) / len(data)\n",
    "for q in [0.9999,0.9998,0.9997,0.9995,0.999,0.998,0.997,0.995,0.99,0.98,0.95,0.9,0.8,0.7,0.5,0.3,0]:\n",
    "    pos_cnt = sum([e[1] for e in data[:int((1-q)*len(data))]])\n",
    "    cnt = int((1-q)*len(data))\n",
    "    pos_share = float(pos_cnt)/cnt\n",
    "    print('{:<10}\\t{:<10}\\t{:<10.2%}\\t{:<10}\\t{:<10.5%}\\t{:<10.2f}\\t{:<10.5f}'.format(q,\n",
    "                                                                                      pos_cnt,\n",
    "                                                                                      float(pos_cnt)/pos_tot,\n",
    "                                                                                      cnt,pos_share,\n",
    "                                                                                      pos_share/pos_share_tot,\n",
    "                                                                                      nvl(data[int((1-q)*len(data))-1][0],-20)\n",
    "                                                                                     ))"
   ]
  },
  {
   "cell_type": "code",
   "execution_count": 8,
   "metadata": {
    "collapsed": false
   },
   "outputs": [
    {
     "name": "stdout",
     "output_type": "stream",
     "text": [
      "\n",
      "Lift table for la_apppr_ccall first_day\n",
      "\n",
      "q         \tpos_cnt   \tpos%      \tcnt       \tpos/cnt   \tlift      \tscore     \n",
      "0.9999    \t14        \t7.04%     \t2167      \t0.64605%  \t703.67    \t-4.55779  \n",
      "0.9998    \t15        \t7.54%     \t4334      \t0.34610%  \t376.97    \t-5.05012  \n",
      "0.9997    \t17        \t8.54%     \t6502      \t0.26146%  \t284.77    \t-5.70748  \n",
      "0.9995    \t17        \t8.54%     \t10837     \t0.15687%  \t170.86    \t-5.91117  \n",
      "0.999     \t20        \t10.05%    \t21674     \t0.09228%  \t100.51    \t-6.36841  \n",
      "0.998     \t21        \t10.55%    \t43349     \t0.04844%  \t52.76     \t-6.81072  \n",
      "0.997     \t22        \t11.06%    \t65024     \t0.03383%  \t36.85     \t-7.17596  \n",
      "0.995     \t23        \t11.56%    \t108373    \t0.02122%  \t23.12     \t-7.64765  \n",
      "0.99      \t24        \t12.06%    \t216746    \t0.01107%  \t12.06     \t-8.33441  \n",
      "0.98      \t26        \t13.07%    \t433493    \t0.00600%  \t6.53      \t-8.81446  \n",
      "0.95      \t42        \t21.11%    \t1083734   \t0.00388%  \t4.22      \t-9.18631  \n",
      "0.9       \t62        \t31.16%    \t2167467   \t0.00286%  \t3.12      \t-9.52999  \n",
      "0.8       \t94        \t47.24%    \t4334935   \t0.00217%  \t2.36      \t-9.91030  \n",
      "0.7       \t120       \t60.30%    \t6502404   \t0.00185%  \t2.01      \t-10.13771 \n",
      "0.5       \t141       \t70.85%    \t10837340  \t0.00130%  \t1.42      \t-10.57253 \n",
      "0.3       \t173       \t86.93%    \t15172275  \t0.00114%  \t1.24      \t-10.75465 \n",
      "0         \t199       \t100.00%   \t21674680  \t0.00092%  \t1.00      \t-20.00000 \n"
     ]
    }
   ],
   "source": [
    "def nvl(a,b):\n",
    "    if a:\n",
    "        return a\n",
    "    else:\n",
    "        return b\n",
    "    \n",
    "print('\\nLift table for la_apppr_ccall first_day\\n\\n{:<10}\\t{:<10}\\t{:<10}\\t{:<10}\\t{:<10}\\t{:<10}\\t{:<10}'.format(\n",
    "        'q','pos_cnt','pos%','cnt','pos/cnt','lift','score'))\n",
    "pos_tot = sum([e[2] for e in data])\n",
    "pos_share_tot = float(pos_tot) / len(data)\n",
    "for q in [0.9999,0.9998,0.9997,0.9995,0.999,0.998,0.997,0.995,0.99,0.98,0.95,0.9,0.8,0.7,0.5,0.3,0]:\n",
    "    pos_cnt = sum([e[2] for e in data[:int((1-q)*len(data))]])\n",
    "    cnt = int((1-q)*len(data))\n",
    "    pos_share = float(pos_cnt)/cnt\n",
    "    print('{:<10}\\t{:<10}\\t{:<10.2%}\\t{:<10}\\t{:<10.5%}\\t{:<10.2f}\\t{:<10.5f}'.format(q,\n",
    "                                                                                      pos_cnt,\n",
    "                                                                                      float(pos_cnt)/pos_tot,\n",
    "                                                                                      cnt,pos_share,\n",
    "                                                                                      pos_share/pos_share_tot,\n",
    "                                                                                      nvl(data[int((1-q)*len(data))-1][0],-20)\n",
    "                                                                                     ))"
   ]
  },
  {
   "cell_type": "code",
   "execution_count": null,
   "metadata": {
    "collapsed": true
   },
   "outputs": [],
   "source": []
  },
  {
   "cell_type": "code",
   "execution_count": null,
   "metadata": {
    "collapsed": true
   },
   "outputs": [],
   "source": []
  }
 ],
 "metadata": {
  "kernelspec": {
   "display_name": "Python 2",
   "language": "python",
   "name": "python2"
  },
  "language_info": {
   "codemirror_mode": {
    "name": "ipython",
    "version": 2
   },
   "file_extension": ".py",
   "mimetype": "text/x-python",
   "name": "python",
   "nbconvert_exporter": "python",
   "pygments_lexer": "ipython2",
   "version": "2.7.12"
  }
 },
 "nbformat": 4,
 "nbformat_minor": 0
}
