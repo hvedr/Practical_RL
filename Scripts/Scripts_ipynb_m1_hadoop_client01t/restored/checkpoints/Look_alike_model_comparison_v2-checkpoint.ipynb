{
 "cells": [
  {
   "cell_type": "markdown",
   "metadata": {},
   "source": [
    "###  Построение Look-alike модели для целевой аудитории раздела веб-сайта\n",
    "\n",
    "Используются различные подходы:\n",
    "- Логистическая регрессия\n",
    "- Naive Bayes\n",
    "- текущий подход, рассмотренный в Wiki[https://wiki.tcsbank.ru/pages/viewpage.action?pageId=176096365].\n",
    "\n",
    "Сравнение методов производится по метрике AUC ROC.\n",
    "\n",
    "** Модификация - все через Hive, в Spark только само обучение и вывод результатов. **"
   ]
  },
  {
   "cell_type": "code",
   "execution_count": 121,
   "metadata": {
    "collapsed": true
   },
   "outputs": [],
   "source": [
    "#Config\n",
    "from pyspark import SparkConf, SparkContext, HiveContext\n",
    "import re\n",
    "import numpy as np\n",
    "import pandas as pd\n",
    "import datetime\n",
    "\n",
    "sc.stop()\n",
    "conf = SparkConf().set(\"spark.executor.instances\", 32).set(\"spark.driver.maxResultSize\", \"8g\")\n",
    "sc = SparkContext(conf=conf)\n",
    "hc = HiveContext(sc)"
   ]
  },
  {
   "cell_type": "code",
   "execution_count": 122,
   "metadata": {
    "collapsed": false
   },
   "outputs": [],
   "source": [
    "#Params\n",
    "start = datetime.datetime.now()\n",
    "target_urls =['raiffeisen.ru/retail/cards/credit']\n",
    "exclude_urls = target_urls + ['raiffeisen.ru']\n",
    "\n",
    "source_table_name = 'user_kposminin.access_log_sample3'\n",
    "train_start_date, train_end_date = '2016-05-06', '2016-05-06' \n",
    "test_date = '2016-06-10'"
   ]
  },
  {
   "cell_type": "code",
   "execution_count": null,
   "metadata": {
    "collapsed": false
   },
   "outputs": [],
   "source": []
  },
  {
   "cell_type": "code",
   "execution_count": 123,
   "metadata": {
    "collapsed": false
   },
   "outputs": [],
   "source": [
    "#Hive queries\n",
    "\n",
    "#based on urlp column\n",
    "\n",
    "calc_id = 12 #int(hc.sql('select max(id) from user_kposminin.calcs').collect()[0][0]) + 1\n",
    "\n",
    "target_expression = '('+'or'.join(' url like \"%' + u + '%\" ' for u in target_urls)+')'\n",
    "exclude_expression = 'not ('+'or'.join(' urlp like \"%' + u + '%\" ' for u in exclude_urls)+')'\n",
    "\n",
    "update_calcs_table_query = '''\n",
    "insert into user_kposminin.calcs values(\n",
    "    {calc_id},\n",
    "    {date},\n",
    "    \"Look alike model comparison\",\"Comparison of NaiveBayes, LogisticRegression and Current approach\",\n",
    "    \"train_start_date: {train_start_date}, train_end_date:train_end_date,\n",
    "        test_date: {test_date}, source_table_name: {source_table_name},\n",
    "        target_urls: {target_urls}, exclude_urls: {exclude_urls}\"\n",
    "    )\n",
    "'''.format(\n",
    "    calc_id = calc_id, \n",
    "    train_start_date = train_start_date, \n",
    "    train_end_date = train_end_date, \n",
    "    test_date = test_date,\n",
    "    source_table_name = source_table_name,\n",
    "    target_urls = str(target_urls),    \n",
    "    exclude_urls = str(exclude_urls),\n",
    "    date = str(datetime.datetime.now().date())\n",
    ")\n",
    "\n",
    "\n",
    "create_tables_in_hive_query = '''\n",
    "drop table if exists user_kposminin.urls_w_levels_train{calc_id};\n",
    "\n",
    "create table user_kposminin.urls_w_levels_train{calc_id} as\n",
    "select\n",
    "    a.id as cookie\n",
    "    ,concat(a.id, \"-\", a.ymd) as object_id\n",
    "    ,a.ymd\n",
    "    ,regexp_extract(regexp_extract(a.url, \"([^\\?]*)\", 0), '^([^/]*)', 1) as domain\n",
    "    ,regexp_extract(regexp_extract(a.url, \"([^\\?]*)\", 0), '^([^/]*)/?([^/]*)?', 2) lev0\n",
    "    ,regexp_extract(regexp_extract(a.url, \"([^\\?]*)\", 0), '^([^/]*)/?([^/]*)?/?([^/]*)?', 3) lev1\n",
    "    ,regexp_extract(regexp_extract(a.url, \"([^\\?]*)\", 0), '^([^/]*)/?([^/]*)?/?([^/]*)?/?([^/]*)?', 4) lev2\n",
    "    ,a.url\n",
    "    ,regexp_extract(regexp_extract(a.referrer, \"([^\\?]*)\", 0), '^([^/]*)', 1) as ref_domain\n",
    "    ,regexp_extract(regexp_extract(a.referrer, \"([^\\?]*)\", 0), '^([^/]*)/?([^/]*)?', 2) ref_lev0\n",
    "    ,regexp_extract(regexp_extract(a.referrer, \"([^\\?]*)\", 0), '^([^/]*)/?([^/]*)?/?([^/]*)?', 3) ref_lev1\n",
    "    ,regexp_extract(regexp_extract(a.referrer, \"([^\\?]*)\", 0), '^([^/]*)/?([^/]*)?/?([^/]*)?/?([^/]*)?', 4) ref_lev2\n",
    "    ,a.referrer\n",
    "    ,a.timestamp\n",
    "    from \n",
    "    (\n",
    "       select b.*\n",
    "        from\n",
    "           (select\n",
    "              al.*,\n",
    "              count(*) over (partition by url) as url_count\n",
    "           from {source_table_name} al\n",
    "              where ymd between \"{train_start_date}\" and \"{train_end_date}\"\n",
    "           ) b\n",
    "       where b.url_count > 50\n",
    "    ) a\n",
    ";\n",
    "\n",
    "drop table if exists user_kposminin.urls_w_levels_test{calc_id} ;\n",
    "\n",
    "create table user_kposminin.urls_w_levels_test{calc_id} as\n",
    "select\n",
    "    a.id as cookie\n",
    "    ,concat(a.id, \"-\", a.ymd) as object_id\n",
    "    ,a.ymd\n",
    "    ,regexp_extract(regexp_extract(a.url, \"([^\\?]*)\", 0), '^([^/]*)', 1) as domain\n",
    "    ,regexp_extract(regexp_extract(a.url, \"([^\\?]*)\", 0), '^([^/]*)/?([^/]*)?', 2) lev0\n",
    "    ,regexp_extract(regexp_extract(a.url, \"([^\\?]*)\", 0), '^([^/]*)/?([^/]*)?/?([^/]*)?', 3) lev1\n",
    "    ,regexp_extract(regexp_extract(a.url, \"([^\\?]*)\", 0), '^([^/]*)/?([^/]*)?/?([^/]*)?/?([^/]*)?', 4) lev2\n",
    "    ,a.url\n",
    "    ,regexp_extract(regexp_extract(a.referrer, \"([^\\?]*)\", 0), '^([^/]*)', 1) as ref_domain\n",
    "    ,regexp_extract(regexp_extract(a.referrer, \"([^\\?]*)\", 0), '^([^/]*)/?([^/]*)?', 2) ref_lev0\n",
    "    ,regexp_extract(regexp_extract(a.referrer, \"([^\\?]*)\", 0), '^([^/]*)/?([^/]*)?/?([^/]*)?', 3) ref_lev1\n",
    "    ,regexp_extract(regexp_extract(a.referrer, \"([^\\?]*)\", 0), '^([^/]*)/?([^/]*)?/?([^/]*)?/?([^/]*)?', 4) ref_lev2\n",
    "    ,a.referrer\n",
    "    ,a.timestamp\n",
    "    from \n",
    "    (\n",
    "       select b.*\n",
    "        from\n",
    "           (select\n",
    "              al.*,\n",
    "              count(*) over (partition by url) as url_count\n",
    "           from {source_table_name} al\n",
    "              where ymd = \"{test_date}\"\n",
    "           ) b\n",
    "       where b.url_count > 50\n",
    "    ) a\n",
    ";\n",
    "\n",
    "drop table if exists user_kposminin.user_urlp_train{calc_id};\n",
    "\n",
    "create table user_kposminin.user_urlp_train{calc_id} as \n",
    "   select \n",
    "        concat(cookie, 0) as cookie,\n",
    "        domain as urlp    \n",
    "    from user_kposminin.urls_w_levels_train{calc_id}\n",
    "    union all\n",
    "    select\n",
    "        concat(cookie, 0) as cookie,\n",
    "        concat(domain,'[0]',lev0) as urlp\n",
    "     from user_kposminin.urls_w_levels_train{calc_id}\n",
    "    union all\n",
    "    select \n",
    "        concat(cookie, 0) as cookie,\n",
    "        concat(domain,'[1]',lev1) as urlp\n",
    "    from user_kposminin.urls_w_levels_train{calc_id}\n",
    "    union all\n",
    "    select \n",
    "        concat(cookie, 0) as cookie,\n",
    "        concat(domain,'[2]',lev2) as urlp\n",
    "    from user_kposminin.urls_w_levels_train{calc_id}\n",
    ";\n",
    "\n",
    "drop table if exists user_kposminin.user_urlp_test{calc_id};\n",
    "\n",
    "create table user_kposminin.user_urlp_test{calc_id} as \n",
    "   select \n",
    "        concat(cookie, 1) as cookie,\n",
    "        domain as urlp    \n",
    "    from user_kposminin.urls_w_levels_test{calc_id}\n",
    "    union all\n",
    "    select\n",
    "        concat(cookie, 1) as cookie,\n",
    "        concat(domain,'[0]',lev0) as urlp\n",
    "     from user_kposminin.urls_w_levels_test{calc_id}\n",
    "    union all\n",
    "    select \n",
    "        concat(cookie, 1) as cookie,\n",
    "        concat(domain,'[1]',lev1) as urlp\n",
    "    from user_kposminin.urls_w_levels_test{calc_id}\n",
    "    union all\n",
    "    select \n",
    "        concat(cookie, 1) as cookie,\n",
    "        concat(domain,'[2]',lev2) as urlp\n",
    "    from user_kposminin.urls_w_levels_test{calc_id}   \n",
    ";\n",
    "\n",
    "drop table if exists user_kposminin.user_train{calc_id};\n",
    "\n",
    "create table user_kposminin.user_train{calc_id} as\n",
    "select\n",
    "   concat(id, 0)  as cookie,\n",
    "   max(case when {target_expression} then 1 else 0 end) as label\n",
    "from \n",
    "   {source_table_name} al\n",
    "   where ymd between \"{train_start_date}\" and \"{train_end_date}\"\n",
    "group by id;\n",
    "\n",
    "\n",
    "\n",
    "drop table if exists user_kposminin.user_test{calc_id};\n",
    "\n",
    "create table user_kposminin.user_test{calc_id} as\n",
    "select\n",
    "   concat(id, 1) as cookie,\n",
    "   max(case when {target_expression} then 1 else 0 end) as label\n",
    "from \n",
    "   {source_table_name} al\n",
    "   where ymd = \"{test_date}\"\n",
    "group by id;\n",
    "\n",
    "\n",
    "drop table if exists user_kposminin.urlp_score_train{calc_id};\n",
    "\n",
    "create table user_kposminin.urlp_score_train{calc_id} as\n",
    "select\n",
    "    urlp,\n",
    "    log((positives + 0.5) / (total - positives + 0.5)) as score\n",
    "from\n",
    "    (select\n",
    "        urlp,\n",
    "        sum(label) as positives,\n",
    "        count(cookie) as total\n",
    "    from\n",
    "        (select distinct\n",
    "            a.urlp,\n",
    "            a.cookie,\n",
    "            b.label\n",
    "        from \n",
    "            (select * \n",
    "             from user_kposminin.user_urlp_train{calc_id}\n",
    "             where {exclude_expression}\n",
    "            ) a\n",
    "        left join user_kposminin.user_train{calc_id} b \n",
    "        on a.cookie = b.cookie\n",
    "        ) c\n",
    "    group by urlp\n",
    "    ) d\n",
    "where\n",
    "    total > 20\n",
    "    or positives > 1\n",
    ";\n",
    "\n",
    "\n",
    "drop table if exists user_kposminin.user_score_test{calc_id};\n",
    "\n",
    "create table user_kposminin.user_score_test{calc_id} as\n",
    "select\n",
    "    cs.cookie,\n",
    "    cs.score,\n",
    "    i.label\n",
    "from\n",
    "    (select \n",
    "        u.cookie,\n",
    "        max(s.score) as score\n",
    "    from \n",
    "        user_kposminin.user_urlp_test{calc_id} u\n",
    "    join user_kposminin.urlp_score_train{calc_id} s\n",
    "    on u.urlp = s.urlp\n",
    "    group by u.cookie) cs\n",
    "join user_kposminin.user_test{calc_id} i\n",
    "on i.cookie = cs.cookie\n",
    "'''.format(\n",
    "    calc_id = calc_id, \n",
    "    train_start_date = train_start_date, \n",
    "    train_end_date = train_end_date, \n",
    "    test_date = test_date,\n",
    "    source_table_name = source_table_name,\n",
    "    target_expression = target_expression,\n",
    "    exclude_expression = exclude_expression\n",
    ")\n",
    "\n",
    "train_labeledpoint_query = '''\n",
    "select\n",
    "    u.label,\n",
    "    cu.url_list\n",
    "from\n",
    "   (select\n",
    "      cookie,\n",
    "      collect_list(urlp) as url_list\n",
    "   from \n",
    "      user_kposminin.user_urlp_train{calc_id}\n",
    "   where {exclude_expression}\n",
    "   group by cookie) cu\n",
    "join user_kposminin.user_train{calc_id} u\n",
    "on cu.cookie = u.cookie\n",
    "'''.format(calc_id = calc_id, exclude_expression = exclude_expression)\n",
    "\n",
    "test_labeledpoint_query = '''\n",
    "select\n",
    "    u.label,\n",
    "    cu.url_list\n",
    "from\n",
    "   (select\n",
    "      cookie,\n",
    "      collect_list(urlp) as url_list\n",
    "   from \n",
    "      user_kposminin.user_urlp_test{calc_id}\n",
    "   where {exclude_expression}\n",
    "   group by cookie) cu\n",
    "join user_kposminin.user_test{calc_id} u\n",
    "on cu.cookie = u.cookie\n",
    "'''.format(calc_id = calc_id, exclude_expression = exclude_expression)\n",
    "\n",
    "current_approach_results_query = '''\n",
    "select\n",
    "    score,\n",
    "    label\n",
    "from \n",
    "    user_kposminin.user_score_test{calc_id}\n",
    "'''.format(calc_id = calc_id)"
   ]
  },
  {
   "cell_type": "code",
   "execution_count": null,
   "metadata": {
    "collapsed": false
   },
   "outputs": [],
   "source": []
  },
  {
   "cell_type": "code",
   "execution_count": null,
   "metadata": {
    "collapsed": false
   },
   "outputs": [],
   "source": []
  },
  {
   "cell_type": "code",
   "execution_count": 124,
   "metadata": {
    "collapsed": false
   },
   "outputs": [
    {
     "name": "stdout",
     "output_type": "stream",
     "text": [
      "0\n",
      "1\n",
      "2\n",
      "3\n",
      "4\n",
      "5\n",
      "6\n",
      "7\n",
      "8\n",
      "9\n",
      "10\n",
      "11\n",
      "12\n",
      "13\n",
      "14\n",
      "15\n"
     ]
    }
   ],
   "source": [
    "# Make calculations and create tables in Hive\n",
    "\n",
    "#hc.sql(update_calcs_table_query)\n",
    "for q in create_tables_in_hive_query.split(';'):\n",
    "    print(create_tables_in_hive_query.split(';').index(q))\n",
    "    hc.sql(q)"
   ]
  },
  {
   "cell_type": "code",
   "execution_count": 125,
   "metadata": {
    "collapsed": false
   },
   "outputs": [],
   "source": [
    "#Load train and test data to Spark\n",
    "\n",
    "from pyspark.mllib.regression import LabeledPoint\n",
    "from pyspark.mllib.feature import HashingTF\n",
    "from pyspark.mllib.classification import LogisticRegressionWithSGD, NaiveBayes, NaiveBayesModel\n",
    "\n",
    "tf = HashingTF(numFeatures = 10 ** 5)\n",
    "\n",
    "#transform urls (as Bag of Words) into features and form features with labels\n",
    "train_data = hc.sql(train_labeledpoint_query).rdd.map(lambda r: LabeledPoint(r.label,tf.transform(r.url_list)))\n",
    "train_data.cache()\n",
    "\n",
    "test_data = hc.sql(test_labeledpoint_query).rdd.map(lambda r: LabeledPoint(r.label,tf.transform(r.url_list)))"
   ]
  },
  {
   "cell_type": "code",
   "execution_count": null,
   "metadata": {
    "collapsed": false
   },
   "outputs": [],
   "source": [
    "\n"
   ]
  },
  {
   "cell_type": "code",
   "execution_count": null,
   "metadata": {
    "collapsed": true
   },
   "outputs": [],
   "source": []
  },
  {
   "cell_type": "code",
   "execution_count": 126,
   "metadata": {
    "collapsed": false
   },
   "outputs": [],
   "source": [
    "#Train NaiveBayes model\n",
    "\n",
    "modelNB = NaiveBayes.train(train_data)\n",
    "\n",
    "def predict_proba_NB(f,model):\n",
    "    import numpy as np\n",
    "    '''\n",
    "    Naive Bayes model prediction with probability. f is features [Sparse] vector. model is mllib.NaiveBayesModel.\n",
    "    Function selects winning class with it probability.\n",
    "    Output: tuple with model selected class number as first element (type int) and it probability as second (type float).\n",
    "    '''\n",
    "    logp = [[i,f.dot(model.theta[i]) + model.pi[i]] for i in range(len(model.theta))] # classes with log probabilities\n",
    "    wi = sorted(logp, key = lambda e:  - e[1])[0][0] #winning index\n",
    "    prob = 1./sum([np.exp(e[1] - logp[wi][1]) for e in logp]) #winning class probability\n",
    "    return wi, prob\n",
    "\n",
    "def predict_proba_NB_2(f, model):\n",
    "    import numpy as np\n",
    "    '''\n",
    "    Naive Bayes model prediction with probability for 2-class classification.\n",
    "    f is features [Sparse] vector. model is mllib.NaiveBayesModel.\n",
    "    Output: probability of class 1 (type float).\n",
    "    '''\n",
    "    if len(model.theta) != 2:\n",
    "        print('Model is NOT a 2-class classifier')\n",
    "        return None\n",
    "    logp = [f.dot(model.theta[i]) + model.pi[i] for i in range(2)]    \n",
    "    return 1./(1. + np.exp(logp[0] - logp[1]))\n"
   ]
  },
  {
   "cell_type": "code",
   "execution_count": 127,
   "metadata": {
    "collapsed": false
   },
   "outputs": [],
   "source": [
    "#LogisticRegression model\n",
    "\n",
    "modelLR = LogisticRegressionWithSGD.train(train_data)\n",
    "modelLR.clearThreshold()"
   ]
  },
  {
   "cell_type": "code",
   "execution_count": 128,
   "metadata": {
    "collapsed": false
   },
   "outputs": [],
   "source": [
    "# 3. Current approach (results only). All calculations in Hive\n",
    "\n",
    "ca_res = hc.sql(current_approach_results_query).toPandas()"
   ]
  },
  {
   "cell_type": "code",
   "execution_count": null,
   "metadata": {
    "collapsed": false
   },
   "outputs": [],
   "source": []
  },
  {
   "cell_type": "code",
   "execution_count": null,
   "metadata": {
    "collapsed": false
   },
   "outputs": [],
   "source": []
  },
  {
   "cell_type": "code",
   "execution_count": 129,
   "metadata": {
    "collapsed": false
   },
   "outputs": [],
   "source": [
    "#Testing result\n",
    "\n",
    "df_test = test_data.map( lambda lp: pyspark.sql.Row(\n",
    "        Label = lp.label,\n",
    "        NaiveBayes = float(predict_proba_NB_2(lp.features, modelNB)),\n",
    "        LogisticRegression = float(modelLR.predict(lp.features))\n",
    "    )).toDF().toPandas()\n"
   ]
  },
  {
   "cell_type": "code",
   "execution_count": 130,
   "metadata": {
    "collapsed": false
   },
   "outputs": [
    {
     "name": "stdout",
     "output_type": "stream",
     "text": [
      "Methods AUCROC performance on test sample (1882095 samples with 5 positives):\n",
      "CurrApproach                  0.70687\n",
      "LogisticRegression            0.42715\n",
      "NaiveBayes                    0.64418\n"
     ]
    }
   ],
   "source": [
    "#Build AUCROC metric and print results\n",
    "\n",
    "import sklearn\n",
    "AUCROC = {}\n",
    "for c in df_test.columns:\n",
    "    if c!= 'Label':\n",
    "        AUCROC[c] = sklearn.metrics.roc_auc_score(df_test['Label'],df_test[c])\n",
    "AUCROC['CurrApproach'] = sklearn.metrics.roc_auc_score(ca_res['label'], ca_res['score'])\n",
    "        \n",
    "print('Methods AUCROC performance on test sample ({0:.0f} samples with {1:.0f} positives):\\n'.format(\n",
    "        df_test.size,df_test['Label'].sum()) +'\\n'.join(['{0:<30}{1:.5f}'.format(k,v) for (k,v) in AUCROC.items()])\n",
    ")\n"
   ]
  },
  {
   "cell_type": "code",
   "execution_count": 131,
   "metadata": {
    "collapsed": false
   },
   "outputs": [
    {
     "name": "stdout",
     "output_type": "stream",
     "text": [
      "Time of work 0:14:04.885821\n"
     ]
    }
   ],
   "source": [
    "print('Time of work {0}'.format(datetime.datetime.now() - start))"
   ]
  },
  {
   "cell_type": "code",
   "execution_count": null,
   "metadata": {
    "collapsed": true
   },
   "outputs": [],
   "source": []
  },
  {
   "cell_type": "code",
   "execution_count": null,
   "metadata": {
    "collapsed": true
   },
   "outputs": [],
   "source": []
  }
 ],
 "metadata": {
  "kernelspec": {
   "display_name": "Python 2",
   "language": "python",
   "name": "python2"
  },
  "language_info": {
   "codemirror_mode": {
    "name": "ipython",
    "version": 2
   },
   "file_extension": ".py",
   "mimetype": "text/x-python",
   "name": "python",
   "nbconvert_exporter": "python",
   "pygments_lexer": "ipython2",
   "version": "2.7.10"
  }
 },
 "nbformat": 4,
 "nbformat_minor": 0
}
