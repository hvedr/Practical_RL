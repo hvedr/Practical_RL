{
 "cells": [
  {
   "cell_type": "code",
   "execution_count": 1,
   "metadata": {
    "collapsed": true
   },
   "outputs": [],
   "source": [
    "import datetime\n",
    "from pyspark import SparkConf, SparkContext, HiveContext\n",
    "sc.stop()\n",
    "conf = SparkConf().set(\"spark.executor.instances\", 32).set(\"spark.driver.maxResultSize\", \"16g\")\n",
    "sc = SparkContext(conf=conf)"
   ]
  },
  {
   "cell_type": "code",
   "execution_count": 39,
   "metadata": {
    "collapsed": false
   },
   "outputs": [
    {
     "name": "stdout",
     "output_type": "stream",
     "text": [
      "End. Time of work 0:01:40.011619.\n"
     ]
    }
   ],
   "source": [
    "\n",
    "def repartition(filename):\n",
    "    starttime = datetime.datetime.now()\n",
    "    sc.textFile(filename).repartition(32*3).saveAsTextFile('.'.join(filename.split('.')[:-1]))\n",
    "    print('End. Time of work {0}.'.format(datetime.datetime.now() - starttime))\n",
    "repartition(\"/user/kposminin/la_20160817.txt\")"
   ]
  },
  {
   "cell_type": "code",
   "execution_count": 41,
   "metadata": {
    "collapsed": false
   },
   "outputs": [],
   "source": [
    "from pyspark.mllib.tree import GradientBoostedTrees, GradientBoostedTreesModel\n",
    "from pyspark.mllib.util import MLUtils\n",
    "from pyspark.mllib.regression import LabeledPoint\n",
    "from pyspark.mllib.evaluation import BinaryClassificationMetrics\n",
    "import sklearn\n",
    "\n",
    "# Load and parse the data file.\n",
    "train = sc.textFile(\"/user/kposminin/la_20160817\").map(lambda r:r.split('\\t')) \\\n",
    "  .map(lambda r: LabeledPoint(int(r[0]), [int(e) for e in r[1:]]))\n",
    "#test = sc.textFile(\"/user/kposminin/la_20160824\").map(lambda r:r.split('\\t')) \\\n",
    "#  .map(lambda r: LabeledPoint(int(r[0]), [int(e) for e in r[1:]]))"
   ]
  },
  {
   "cell_type": "code",
   "execution_count": null,
   "metadata": {
    "collapsed": false
   },
   "outputs": [],
   "source": []
  },
  {
   "cell_type": "code",
   "execution_count": 38,
   "metadata": {
    "collapsed": false
   },
   "outputs": [],
   "source": [
    "columns = '''smax ,savg ,ssum ,smedian ,sstd ,cntrepeat ,cntuniq \n",
    ",duration ,mobile ,emailru ,vkru ,okru ,social_other , s1 ,s2 ,s3 ,s4 ,s5 ,s6 ,s7 ,s8 ,s9 ,s10 , \n",
    "sm1 ,sm2 ,sm3 ,sm4 ,sm5'''.replace(' ','').replace('\\n','').split(',')\n"
   ]
  },
  {
   "cell_type": "code",
   "execution_count": null,
   "metadata": {
    "collapsed": false
   },
   "outputs": [],
   "source": [
    "\n",
    "# Train a GradientBoostedTrees model.\n",
    "#  Notes: (a) Empty categoricalFeaturesInfo indicates all features are continuous.\n",
    "#         (b) Use more iterations in practice.\n",
    "train.cache()\n",
    "model = GradientBoostedTrees.trainClassifier(train, maxDepth = 4,\n",
    "                                             categoricalFeaturesInfo={}, numIterations = 200)\n",
    "\n",
    "# Evaluate model on test instances and compute test error\n",
    "predictions = model.predict(test.map(lambda x: x.features))\n",
    "predictionAndLabels = test.map(lambda lp: (float(model.predict(lp.features)), lp.label))\n",
    "\n",
    "# Instantiate metrics object\n",
    "metrics = BinaryClassificationMetrics(predictionAndLabels)\n",
    "\n",
    "testErr = predictionAndLabels.filter(lambda (p, v): v != p).count() / float(test.count())\n",
    "print('Test Error = ' + str(testErr))\n",
    "\n",
    "# Area under precision-recall curve\n",
    "print(\"Area under PR = %s\" % metrics.areaUnderPR)\n",
    "\n",
    "# Area under ROC curve\n",
    "print(\"Area under ROC = %s\" % metrics.areaUnderROC)\n",
    "\n",
    "#print('Learned classification GBT model:')\n",
    "#print(model.toDebugString())\n",
    "#print('AUCROC: {0}'.format(sklearn.metrics.roc_auc_score(\n",
    "#            labelsAndPredictions.map(lambda r:r[0]).collect(),\n",
    "#            labelsAndPredictions.map(lambda r:r[1]).collect()\n",
    "#)))\n",
    "\n",
    "\n",
    "# Save and load model\n",
    "#model.save(sc, \"target/tmp/myGradientBoostingClassificationModel\")\n",
    "#sameModel = GradientBoostedTreesModel.load(sc,\n",
    "#                                           \"target/tmp/myGradientBoostingClassificationModel\")\n"
   ]
  },
  {
   "cell_type": "code",
   "execution_count": 29,
   "metadata": {
    "collapsed": false,
    "scrolled": true
   },
   "outputs": [
    {
     "name": "stdout",
     "output_type": "stream",
     "text": [
      "smax train AUCROC = 0.772543052016\n",
      "smax test AUCROC = 0.726966198686\n"
     ]
    }
   ],
   "source": [
    "mtrain = BinaryClassificationMetrics(train.map(lambda lp: (float(lp.features[0]),lp.label)))\n",
    "mtest = BinaryClassificationMetrics(test.map(lambda lp: (float(lp.features[0]),lp.label)))\n",
    "print(\"smax train AUCROC = %s\" % mtrain.areaUnderROC)\n",
    "print(\"smax test AUCROC = %s\" % mtest.areaUnderROC)"
   ]
  },
  {
   "cell_type": "code",
   "execution_count": 30,
   "metadata": {
    "collapsed": false
   },
   "outputs": [
    {
     "name": "stdout",
     "output_type": "stream",
     "text": [
      "savg train AUCROC = 0.910496539603\n",
      "savg test AUCROC = 0.798869030436\n"
     ]
    }
   ],
   "source": [
    "mtrain = BinaryClassificationMetrics(train.map(lambda lp: (float(lp.features[1]),lp.label)))\n",
    "mtest = BinaryClassificationMetrics(test.map(lambda lp: (float(lp.features[1]),lp.label)))\n",
    "print(\"savg train AUCROC = %s\" % mtrain.areaUnderROC)\n",
    "print(\"savg test AUCROC = %s\" % mtest.areaUnderROC)"
   ]
  },
  {
   "cell_type": "code",
   "execution_count": 18,
   "metadata": {
    "collapsed": false
   },
   "outputs": [
    {
     "name": "stdout",
     "output_type": "stream",
     "text": [
      "Test Error = 4.46081634146e-06\n",
      "Learned classification GBT model:\n",
      "TreeEnsembleModel classifier with 3 trees\n",
      "\n",
      "  Tree 0:\n",
      "    If (feature 21 <= -636475.0)\n",
      "     If (feature 1 <= -348819.0)\n",
      "      If (feature 16 <= -421010.0)\n",
      "       Predict: -1.0\n",
      "      Else (feature 16 > -421010.0)\n",
      "       Predict: -0.9999822380035333\n",
      "     Else (feature 1 > -348819.0)\n",
      "      If (feature 16 <= -421010.0)\n",
      "       Predict: -1.0\n",
      "      Else (feature 16 > -421010.0)\n",
      "       Predict: -0.9997001703032677\n",
      "    Else (feature 21 > -636475.0)\n",
      "     If (feature 23 <= -1121762.0)\n",
      "      If (feature 23 <= -1221988.0)\n",
      "       Predict: -0.999987214352226\n",
      "      Else (feature 23 > -1221988.0)\n",
      "       Predict: -0.9998206484378863\n",
      "     Else (feature 23 > -1121762.0)\n",
      "      If (feature 2 <= -6.0640101E7)\n",
      "       Predict: -0.9722650231124808\n",
      "      Else (feature 2 > -6.0640101E7)\n",
      "       Predict: -0.9994552068441773\n",
      "  Tree 1:\n",
      "    If (feature 1 <= -604519.0)\n",
      "     If (feature 21 <= -625575.0)\n",
      "      If (feature 27 <= -1080549.0)\n",
      "       Predict: -0.47681251680415304\n",
      "      Else (feature 27 > -1080549.0)\n",
      "       Predict: -0.476805745938948\n",
      "     Else (feature 21 > -625575.0)\n",
      "      If (feature 23 <= -1114115.0)\n",
      "       Predict: -0.4767799606871262\n",
      "      Else (feature 23 > -1114115.0)\n",
      "       Predict: -0.47383448831962355\n",
      "    Else (feature 1 > -604519.0)\n",
      "     If (feature 4 <= 0.0)\n",
      "      If (feature 27 <= -563511.0)\n",
      "       Predict: -0.47666434933511787\n",
      "      Else (feature 27 > -563511.0)\n",
      "       Predict: -0.47349343556584067\n",
      "     Else (feature 4 > 0.0)\n",
      "      If (feature 9 <= 0.0)\n",
      "       Predict: -0.4767567714566622\n",
      "      Else (feature 9 > 0.0)\n",
      "       Predict: -0.4764776572453655\n",
      "  Tree 2:\n",
      "    If (feature 19 <= -649375.0)\n",
      "     If (feature 1 <= -351724.0)\n",
      "      If (feature 1 <= -466698.0)\n",
      "       Predict: -0.43819315840722445\n",
      "      Else (feature 1 > -466698.0)\n",
      "       Predict: -0.43816140337369297\n",
      "     Else (feature 1 > -351724.0)\n",
      "      If (feature 4 <= 0.0)\n",
      "       Predict: -0.43789318697110025\n",
      "      Else (feature 4 > 0.0)\n",
      "       Predict: -0.4382200194470485\n",
      "    Else (feature 19 > -649375.0)\n",
      "     If (feature 23 <= -1153501.0)\n",
      "      If (feature 23 <= -1264578.0)\n",
      "       Predict: -0.4382007288444008\n",
      "      Else (feature 23 > -1264578.0)\n",
      "       Predict: -0.4380903302866459\n",
      "     Else (feature 23 > -1153501.0)\n",
      "      If (feature 2 <= -5.7884163E7)\n",
      "       Predict: -0.4247593664832495\n",
      "      Else (feature 2 > -5.7884163E7)\n",
      "       Predict: -0.4377209224147553\n",
      "\n",
      "AUCROC: 0.5\n"
     ]
    }
   ],
   "source": [
    "print('Test Error = ' + str(testErr))\n",
    "print('Learned classification GBT model:')\n",
    "print(model.toDebugString())\n",
    "print('AUCROC: {0}'.format(sklearn.metrics.roc_auc_score(\n",
    "            labelsAndPredictions.map(lambda r:r[0]).collect(),\n",
    "            labelsAndPredictions.map(lambda r:r[1]).collect()\n",
    ")))\n"
   ]
  },
  {
   "cell_type": "code",
   "execution_count": 25,
   "metadata": {
    "collapsed": false
   },
   "outputs": [
    {
     "name": "stdout",
     "output_type": "stream",
     "text": [
      "AUCROC smax: 0.726966198686\n"
     ]
    }
   ],
   "source": [
    "print('AUCROC smax: {0}'.format(sklearn.metrics.roc_auc_score(\n",
    "            test.map(lambda lp: lp.label).collect(),\n",
    "            test.map(lambda lp: lp.features[0]).collect()\n",
    ")))"
   ]
  },
  {
   "cell_type": "code",
   "execution_count": 23,
   "metadata": {
    "collapsed": false
   },
   "outputs": [
    {
     "data": {
      "text/plain": [
       "[(0.0, 0.0),\n",
       " (0.0, 0.0),\n",
       " (0.0, 0.0),\n",
       " (0.0, 0.0),\n",
       " (0.0, 0.0),\n",
       " (0.0, 0.0),\n",
       " (0.0, 0.0),\n",
       " (0.0, 0.0),\n",
       " (0.0, 0.0),\n",
       " (0.0, 0.0)]"
      ]
     },
     "execution_count": 23,
     "metadata": {},
     "output_type": "execute_result"
    }
   ],
   "source": [
    "\n"
   ]
  },
  {
   "cell_type": "code",
   "execution_count": null,
   "metadata": {
    "collapsed": true
   },
   "outputs": [],
   "source": []
  }
 ],
 "metadata": {
  "kernelspec": {
   "display_name": "Python 2",
   "language": "python",
   "name": "python2"
  },
  "language_info": {
   "codemirror_mode": {
    "name": "ipython",
    "version": 2
   },
   "file_extension": ".py",
   "mimetype": "text/x-python",
   "name": "python",
   "nbconvert_exporter": "python",
   "pygments_lexer": "ipython2",
   "version": "2.7.10"
  }
 },
 "nbformat": 4,
 "nbformat_minor": 0
}
