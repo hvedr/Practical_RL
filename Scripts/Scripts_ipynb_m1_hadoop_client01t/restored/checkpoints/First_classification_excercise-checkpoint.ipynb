{
 "cells": [
  {
   "cell_type": "code",
   "execution_count": null,
   "metadata": {
    "collapsed": false
   },
   "outputs": [],
   "source": [
    "from pyspark import HiveContext\n",
    "hc = HiveContext(sc)\n",
    "query = '''\n",
    "SELECT * \n",
    "FROM  prod_raw_liveinternet.access_log \n",
    "where ymd = '2016-07-01'\n",
    "limit 1000\n",
    "'''\n",
    "\n",
    "table_name = 'urls_w_levels1'\n",
    "query2 = '''\n",
    "drop table if exists  user_kposminin.{0};\n",
    "\n",
    "create table user_kposminin.{0} as\n",
    "    select\n",
    "     a.id as cookie\n",
    "    ,concat(a.id, \"-\", a.ymd) as object_id\n",
    "    ,a.ip\n",
    "    ,regexp_extract(regexp_extract(a.url, \"([^\\?]*)\", 0), '^([^/]*)', 1) as domain\n",
    "    ,regexp_extract(regexp_extract(a.url, \"([^\\?]*)\", 0), '^([^/]*)/?([^/]*)?', 2) lev0\n",
    "    ,regexp_extract(regexp_extract(a.url, \"([^\\?]*)\", 0), '^([^/]*)/?([^/]*)?/?([^/]*)?', 3) lev1\n",
    "    ,regexp_extract(regexp_extract(a.url, \"([^\\?]*)\", 0), '^([^/]*)/?([^/]*)?/?([^/]*)?/?([^/]*)?', 4) lev2\n",
    "    ,a.url\n",
    "    ,regexp_extract(regexp_extract(a.referrer, \"([^\\?]*)\", 0), '^([^/]*)', 1) as ref_domain\n",
    "    ,regexp_extract(regexp_extract(a.referrer, \"([^\\?]*)\", 0), '^([^/]*)/?([^/]*)?', 2) ref_lev0\n",
    "    ,regexp_extract(regexp_extract(a.referrer, \"([^\\?]*)\", 0), '^([^/]*)/?([^/]*)?/?([^/]*)?', 3) ref_lev1\n",
    "    ,regexp_extract(regexp_extract(a.referrer, \"([^\\?]*)\", 0), '^([^/]*)/?([^/]*)?/?([^/]*)?/?([^/]*)?', 4) ref_lev2\n",
    "    ,a.referrer\n",
    "    ,a.timestamp\n",
    "    from prod_raw_liveinternet.access_log  a\n",
    "    where ymd = '2016-07-01'\n",
    "    limit 1000;\n",
    "\n",
    "select * from user_kposminin.{0};\n",
    "'''.format(table_name).split(';')\n",
    "\n",
    "# !!REMOVE 1000 limitation !!\n",
    "\n",
    "hc.sql(query2[0])\n",
    "hc.sql(query2[1])\n",
    "\n",
    "rdd = hc.sql(query2[2]).rdd\n"
   ]
  },
  {
   "cell_type": "code",
   "execution_count": 4,
   "metadata": {
    "collapsed": false
   },
   "outputs": [
    {
     "data": {
      "text/plain": [
       "(u'217.118.90.186', u'm.vk.com')"
      ]
     },
     "execution_count": 4,
     "metadata": {},
     "output_type": "execute_result"
    }
   ],
   "source": [
    "rdd2 = rdd.map(lambda row: (row['cookie'] , row['domain'])).reduceByKey(lambda a,b: a + ';;' + b)\n",
    "rdd2.top(5)"
   ]
  },
  {
   "cell_type": "code",
   "execution_count": 5,
   "metadata": {
    "collapsed": false
   },
   "outputs": [
    {
     "data": {
      "text/plain": [
       "[(u'95.84.214.193', u'24freelance.net'),\n",
       " (u'95.83.169.21', u'mintmanga.com'),\n",
       " (u'95.83.169.117', u'vk.com'),\n",
       " (u'95.78.44.26', u'yandex.ru'),\n",
       " (u'95.72.68.246', u'anketa.rsb.ru')]"
      ]
     },
     "execution_count": 5,
     "metadata": {},
     "output_type": "execute_result"
    }
   ],
   "source": []
  },
  {
   "cell_type": "code",
   "execution_count": null,
   "metadata": {
    "collapsed": true
   },
   "outputs": [],
   "source": [
    "1+1"
   ]
  },
  {
   "cell_type": "code",
   "execution_count": null,
   "metadata": {
    "collapsed": true
   },
   "outputs": [],
   "source": []
  }
 ],
 "metadata": {
  "kernelspec": {
   "display_name": "Python 2",
   "language": "python",
   "name": "python2"
  }
 },
 "nbformat": 4,
 "nbformat_minor": 0
}
