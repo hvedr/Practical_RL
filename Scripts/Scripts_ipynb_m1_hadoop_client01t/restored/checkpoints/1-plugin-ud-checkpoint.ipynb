{
 "cells": [
  {
   "cell_type": "code",
   "execution_count": 3,
   "metadata": {
    "collapsed": false
   },
   "outputs": [],
   "source": [
    "from pyspark import HiveContext"
   ]
  },
  {
   "cell_type": "code",
   "execution_count": 4,
   "metadata": {
    "collapsed": true
   },
   "outputs": [],
   "source": [
    "hc = HiveContext(sc)"
   ]
  },
  {
   "cell_type": "code",
   "execution_count": 42,
   "metadata": {
    "collapsed": false
   },
   "outputs": [],
   "source": [
    "rdd_00 = hc.sql(\"select id, url_domain from user_melnikov.user_domain_0208_307\").rdd"
   ]
  },
  {
   "cell_type": "code",
   "execution_count": 38,
   "metadata": {
    "collapsed": true
   },
   "outputs": [],
   "source": [
    "import hashlib\n",
    "def filter_func(user_id):\n",
    "    h = hashlib.md5(user_id).hexdigest()[-1]\n",
    "    return h == '0' or h == '1'"
   ]
  },
  {
   "cell_type": "code",
   "execution_count": 55,
   "metadata": {
    "collapsed": false
   },
   "outputs": [],
   "source": [
    "rdd_01 = rdd_00.filter(lambda x: filter_func(x.id))"
   ]
  },
  {
   "cell_type": "code",
   "execution_count": 201,
   "metadata": {
    "collapsed": true
   },
   "outputs": [],
   "source": [
    "def collect_domains(a, b):\n",
    "    return (a[0] | b[0], a[1] | b[1])"
   ]
  },
  {
   "cell_type": "code",
   "execution_count": 202,
   "metadata": {
    "collapsed": true
   },
   "outputs": [],
   "source": [
    "def gen_triples(a):\n",
    "    if type(a[1][0]) is set:\n",
    "        return [(a[0], d, a[1][1]) for d in a[1][0]]\n",
    "    else:\n",
    "        return [(a[0], a[1][0], a[1][1])]"
   ]
  },
  {
   "cell_type": "code",
   "execution_count": 321,
   "metadata": {
    "collapsed": true
   },
   "outputs": [],
   "source": [
    "def t(p, q, m, n):\n",
    "    s_1 = p * (1 - p)\n",
    "    s_2 = q * (1 - q)\n",
    "    return (p - q) / np.sqrt(s_1 / float(m) + s_2 / float(n))\n",
    "\n",
    "def pd_check(a, pd_user_num, user_num):\n",
    "    p = a[1][0] / float(pd_user_num)\n",
    "    q = (a[1][1] - a[1][0]) / float(user_num - pd_user_num)\n",
    "    return t(p, q, pd_user_num, user_num - pd_user_num) > 2.32"
   ]
  },
  {
   "cell_type": "code",
   "execution_count": 315,
   "metadata": {
    "collapsed": false
   },
   "outputs": [],
   "source": [
    "#set(['facebook.com', 'google.com', 'google.ru', 'yandex.ru', 'youtube.com', 'ru.wikipedia.org'])\n",
    "def main(rdd_00, init_pd): \n",
    "    K = 20\n",
    "    pd = set()\n",
    "    new_pd = set(init_pd)\n",
    "    rdd = rdd_00.map(lambda x: (x.id, x.url_domain, 0))\n",
    "    total_user_num = rdd.map(lambda x: x[0]).distinct().count()\n",
    "    for k in range(K):\n",
    "        prev_len = len(pd)\n",
    "        pd = pd.union(new_pd)\n",
    "        if prev_len == len(pd):\n",
    "            break\n",
    "        else:\n",
    "            rdd = rdd.map(lambda x: (x[0], (set([x[1]]), x[1] in new_pd)))\\\n",
    "                     .reduceByKey(collect_domains)\\\n",
    "                     .flatMap(gen_triples)\n",
    "            plugin_user_num = rdd.filter(lambda x: x[2] == 1)\\\n",
    "                                 .map(lambda x: x[0])\\\n",
    "                                 .distinct()\\\n",
    "                                 .count()\n",
    "            print plugin_user_num\n",
    "            new_pd = rdd.map(lambda x: (x[1], np.array([x[2], 1])))\\\n",
    "                        .reduceByKey(lambda x, y: x + y)\\\n",
    "                        .filter(lambda x: pd_check(x, plugin_user_num, total_user_num))\\\n",
    "                        .keys()\\\n",
    "                        .collect()\n",
    "            print new_pd\n",
    "    print k\n",
    "    return pd"
   ]
  },
  {
   "cell_type": "code",
   "execution_count": 336,
   "metadata": {
    "collapsed": false
   },
   "outputs": [
    {
     "data": {
      "text/plain": [
       "0.35204589770000466"
      ]
     },
     "execution_count": 336,
     "metadata": {},
     "output_type": "execute_result"
    }
   ],
   "source": [
    "p_1 = 930000 / 2641701.0\n",
    "p_1"
   ]
  },
  {
   "cell_type": "code",
   "execution_count": 434,
   "metadata": {
    "collapsed": false
   },
   "outputs": [
    {
     "data": {
      "text/plain": [
       "0.004426194646354805"
      ]
     },
     "execution_count": 434,
     "metadata": {},
     "output_type": "execute_result"
    }
   ],
   "source": [
    "p_0 = 930000 / 210112766.0\n",
    "p_0"
   ]
  },
  {
   "cell_type": "code",
   "execution_count": 341,
   "metadata": {
    "collapsed": false
   },
   "outputs": [],
   "source": [
    "from scipy.stats import poisson, binom"
   ]
  },
  {
   "cell_type": "code",
   "execution_count": 344,
   "metadata": {
    "collapsed": false
   },
   "outputs": [],
   "source": [
    "import matplotlib\n",
    "import matplotlib.pyplot as plt\n",
    "plt.style.use('ggplot')\n",
    "%matplotlib inline"
   ]
  },
  {
   "cell_type": "code",
   "execution_count": 435,
   "metadata": {
    "collapsed": false
   },
   "outputs": [
    {
     "data": {
      "image/png": "[encoded data removed]",
      "text/plain": [
       "<matplotlib.figure.Figure at 0x7fc73fedca50>"
      ]
     },
     "metadata": {},
     "output_type": "display_data"
    }
   ],
   "source": [
    "import pandas as pd\n",
    "\n",
    "n_values = [1, 3, 5, 10, 20, 50, 100, 200]\n",
    "fig, axes = plt.subplots(nrows = 4, ncols = 2, figsize = (10, 10))\n",
    "plt.subplots_adjust(wspace=0.6, hspace=0.6)\n",
    "for i in range(4):\n",
    "    for j in range(2):\n",
    "        n = n_values[i * 2 + j]\n",
    "        axes[i, j].set_title('n = %d' % n)\n",
    "        axes[i, j].set_ylim([0, 1])\n",
    "        tpr = []\n",
    "        fpr = []\n",
    "        for k in range(n + 1):\n",
    "            fpr.append(1 - binom.cdf(k - 1, n, p_0))\n",
    "            tpr.append(1 - binom.cdf(k - 1, n, p_1))\n",
    "        pd.DataFrame({'k': range(n + 1), 'fpr': fpr, 'tpr': tpr}).plot(x = 'k', ax = axes[i, j])"
   ]
  },
  {
   "cell_type": "code",
   "execution_count": 436,
   "metadata": {
    "collapsed": false
   },
   "outputs": [
    {
     "name": "stdout",
     "output_type": "stream",
     "text": [
      "n = 100, max_tpr = 1.000000e+00, th_best = 0.070000\n",
      "n = 200, max_tpr = 1.000000e+00, th_best = 0.040000\n",
      "n = 300, max_tpr = 1.000000e+00, th_best = 0.033333\n",
      "n = 400, max_tpr = 1.000000e+00, th_best = 0.027500\n",
      "n = 500, max_tpr = 1.000000e+00, th_best = 0.024000\n",
      "n = 600, max_tpr = 1.000000e+00, th_best = 0.021667\n",
      "n = 700, max_tpr = 1.000000e+00, th_best = 0.020000\n",
      "n = 800, max_tpr = 1.000000e+00, th_best = 0.018750\n",
      "n = 900, max_tpr = 1.000000e+00, th_best = 0.017778\n"
     ]
    }
   ],
   "source": [
    "for n in np.arange(100, 1000, 100):\n",
    "    tpr = []\n",
    "    fpr = []\n",
    "    for k in range(n + 1):\n",
    "        fpr.append(1 - binom.cdf(k - 1, n, p_0))\n",
    "        tpr.append(1 - binom.cdf(k - 1, n, p_1))\n",
    "    mask = np.array(fpr) * 200000 > 1\n",
    "    z = np.array(tpr)\n",
    "    z[mask] = 0\n",
    "    print 'n = %d, max_tpr = %e, th_best = %f' % (n, np.max(z), np.argmax(z) / float(n))"
   ]
  },
  {
   "cell_type": "code",
   "execution_count": 439,
   "metadata": {
    "collapsed": false
   },
   "outputs": [
    {
     "name": "stdout",
     "output_type": "stream",
     "text": [
      "3.47741835327e-11 0.999999983712\n",
      "1.11022302463e-16 1.0\n",
      "1.11022302463e-16 1.0\n",
      "1.11022302463e-16 1.0\n",
      "1.11022302463e-16 1.0\n",
      "1.11022302463e-16 1.0\n",
      "1.11022302463e-16 1.0\n",
      "1.11022302463e-16 1.0\n",
      "1.11022302463e-16 1.0\n"
     ]
    }
   ],
   "source": [
    "for n in np.arange(100, 1000, 100):\n",
    "    k = int(0.1 * n)\n",
    "    print (1 - binom.cdf(k - 1, n, p_0)), (1 - binom.cdf(k - 1, n, 0.33))"
   ]
  },
  {
   "cell_type": "code",
   "execution_count": 442,
   "metadata": {
    "collapsed": true
   },
   "outputs": [],
   "source": [
    "p_pd = 3793 / 199333.0"
   ]
  },
  {
   "cell_type": "code",
   "execution_count": 444,
   "metadata": {
    "collapsed": false
   },
   "outputs": [
    {
     "data": {
      "text/plain": [
       "0.019028459913812565"
      ]
     },
     "execution_count": 444,
     "metadata": {},
     "output_type": "execute_result"
    }
   ],
   "source": [
    "p_pd"
   ]
  },
  {
   "cell_type": "code",
   "execution_count": 443,
   "metadata": {
    "collapsed": false
   },
   "outputs": [
    {
     "name": "stdout",
     "output_type": "stream",
     "text": [
      "n = 100, max_acc = 1.000000e+00, th_best = 0.100000\n",
      "n = 200, max_acc = 1.000000e+00, th_best = 0.085000\n",
      "n = 300, max_acc = 1.000000e+00, th_best = 0.066667\n",
      "n = 400, max_acc = 1.000000e+00, th_best = 0.055000\n",
      "n = 500, max_acc = 1.000000e+00, th_best = 0.048000\n",
      "n = 600, max_acc = 1.000000e+00, th_best = 0.041667\n",
      "n = 700, max_acc = 1.000000e+00, th_best = 0.038571\n",
      "n = 800, max_acc = 1.000000e+00, th_best = 0.036250\n",
      "n = 900, max_acc = 1.000000e+00, th_best = 0.033333\n"
     ]
    }
   ],
   "source": [
    "for n in np.arange(100, 1000, 100):\n",
    "    tpr = []\n",
    "    fpr = []\n",
    "    for k in range(n + 1):\n",
    "        fpr.append(1 - binom.cdf(k - 1, n, p_0))\n",
    "        tpr.append(1 - binom.cdf(k - 1, n, p_1))\n",
    "    acc = np.array(tpr) * p_pd + (1 - np.array(fpr)) * (1 - p_pd)\n",
    "    print 'n = %d, max_acc = %e, th_best = %f' % (n, np.max(acc), np.argmax(acc) / float(n))"
   ]
  },
  {
   "cell_type": "code",
   "execution_count": 447,
   "metadata": {
    "collapsed": false,
    "scrolled": true
   },
   "outputs": [
    {
     "name": "stdout",
     "output_type": "stream",
     "text": [
      "0.99999999994\n",
      "1.0\n",
      "1.0\n",
      "1.0\n",
      "1.0\n",
      "1.0\n",
      "1.0\n",
      "1.0\n",
      "1.0\n"
     ]
    }
   ],
   "source": [
    "for n in np.arange(100, 1000, 100):\n",
    "    k = int(0.1 * n)\n",
    "    print (1 - binom.cdf(k - 1, n, p_1)) * p_pd + binom.cdf(k - 1, n, p_0) * (1 - p_pd)"
   ]
  },
  {
   "cell_type": "code",
   "execution_count": null,
   "metadata": {
    "collapsed": true
   },
   "outputs": [],
   "source": []
  }
 ],
 "metadata": {
  "kernelspec": {
   "display_name": "Python 2",
   "language": "python",
   "name": "python2"
  },
  "language_info": {
   "codemirror_mode": {
    "name": "ipython",
    "version": 2
   },
   "file_extension": ".py",
   "mimetype": "text/x-python",
   "name": "python",
   "nbconvert_exporter": "python",
   "pygments_lexer": "ipython2",
   "version": "2.7.10"
  }
 },
 "nbformat": 4,
 "nbformat_minor": 0
}
