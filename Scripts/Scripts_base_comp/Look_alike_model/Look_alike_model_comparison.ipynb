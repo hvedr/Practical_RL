{
 "cells": [
  {
   "cell_type": "markdown",
   "metadata": {},
   "source": [
    "###  Построение Look-alike модели для целевой аудитории раздела веб-сайта\n",
    "\n",
    "Используются различные подходы:\n",
    "- Логистическая регрессия\n",
    "- Naive Bayes\n",
    "- текущий подход, рассмотренный в Wiki[https://wiki.tcsbank.ru/pages/viewpage.action?pageId=176096365].\n",
    "\n",
    "Сравнение методов производится по метрике AUC ROC.\n",
    "\n",
    "** Модификация - все через Hive, в Spark только само обучение и вывод результатов. **"
   ]
  },
  {
   "cell_type": "code",
   "execution_count": 4,
   "metadata": {
    "collapsed": false
   },
   "outputs": [],
   "source": [
    "from pyspark import SparkConf, SparkContext, HiveContext\n",
    "import re\n",
    "import numpy as np\n",
    "import pandas as pd\n",
    "\n",
    "sc.stop()\n",
    "conf = SparkConf().set(\"spark.executor.instances\", 32).set(\"spark.driver.maxResultSize\", \"8g\")\n",
    "sc = SparkContext(conf=conf)\n",
    "hc = HiveContext(sc)\n",
    "\n",
    "\n",
    "target_urls =['avito.ru'] #['raiffeisen.ru/retail/cards/credit/']\n",
    "exclude_urls = target_urls + [] #['raiffeisen.ru']\n",
    "\n",
    "first_table_name = 'user_kposminin.urls_w_levels2'\n",
    "second_table_name = 'user_kposminin.user_urlp3'\n",
    "train_start_date, train_end_date, test_date = '2016-06-01', '2016-06-02', '2016-06-30'\n",
    "\n",
    "select_query = '''\n",
    "select * from {0}\n",
    "\n",
    "'''.format(second_table_name)\n",
    "\n",
    "\n",
    "train_labeledpoint_query = '''\n",
    "select\n",
    "    u.label,\n",
    "    cu.url_list\n",
    "from\n",
    "   (select\n",
    "      cookie,\n",
    "      collect_list(urlp) as url_list\n",
    "   from \n",
    "      user_kposminin.user_urlp_train7\n",
    "   where not urlp like '%avito.ru%'\n",
    "   group by cookie) cu\n",
    "join user_kposminin.id_train7 u\n",
    "on cu.cookie = u.cookie\n",
    "'''\n",
    "\n",
    "test_labeledpoint_query = '''\n",
    "select\n",
    "    u.label,\n",
    "    cu.url_list\n",
    "from\n",
    "   (select\n",
    "      cookie,\n",
    "      collect_list(urlp) as url_list\n",
    "   from \n",
    "      user_kposminin.user_urlp_test7\n",
    "   where not urlp like '%avito.ru%'\n",
    "   group by cookie) cu\n",
    "join user_kposminin.id_test7 u\n",
    "on cu.cookie = u.cookie\n",
    "'''\n",
    "\n",
    "current_approach_results_query = '''\n",
    "select\n",
    "    score,\n",
    "    label\n",
    "from \n",
    "    user_kposminin.user_score_test7\n",
    "'''\n"
   ]
  },
  {
   "cell_type": "code",
   "execution_count": 5,
   "metadata": {
    "collapsed": false
   },
   "outputs": [],
   "source": [
    "\n",
    "'''\n",
    "# (str id, (bool test, bool positive))\n",
    "rdd_id = rdd_id_urlp.aggregateByKey([],lambda acc,v: acc + [v], lambda acc1,acc2: acc1 + acc2) \\\n",
    "    .map(lambda r: (r[0], handle_row1(r, target_urls)))\n",
    "\n",
    "rdd_id.cache()\n",
    "\n",
    "# (str id, str urlp)   filtered\n",
    "rdd_id_urlpp = rdd_id_urlp.filter(lambda r: not any(tu in r[1] for tu in exclude_urls))\n",
    "rdd_id_urlpp.cache()\n",
    "'''\n",
    "\n",
    "from pyspark.mllib.regression import LabeledPoint\n",
    "from pyspark.mllib.feature import HashingTF\n",
    "from pyspark.mllib.classification import LogisticRegressionWithSGD, NaiveBayes, NaiveBayesModel\n",
    "\n",
    "tf = HashingTF(numFeatures = 10 ** 6)\n",
    "\n",
    "#transform urls (as Bag of Words) into features and form features with labels\n",
    "train_data = hc.sql(train_labeledpoint_query).rdd.map(lambda r: LabeledPoint(r.label,tf.transform(r.url_list)))\n",
    "train_data.cache()\n",
    "\n",
    "test_data = hc.sql(test_labeledpoint_query).rdd.map(lambda r: LabeledPoint(r.label,tf.transform(r.url_list)))\n"
   ]
  },
  {
   "cell_type": "code",
   "execution_count": 6,
   "metadata": {
    "collapsed": false
   },
   "outputs": [],
   "source": [
    "#Train NaiveBayes model\n",
    "\n",
    "modelNB = NaiveBayes.train(train_data)\n",
    "\n",
    "def predict_proba_NB(f,model):\n",
    "    import numpy as np\n",
    "    '''\n",
    "    Naive Bayes model prediction with probability. f is features [Sparse] vector. model is mllib.NaiveBayesModel.\n",
    "    Function selects winning class with it probability.\n",
    "    Output: tuple with model selected class number as first element (type int) and it probability as second (type float).\n",
    "    '''\n",
    "    logp = [[i,f.dot(model.theta[i]) + model.pi[i]] for i in range(len(model.theta))] # classes with log probabilities\n",
    "    wi = sorted(logp, key = lambda e:  - e[1])[0][0] #winning index\n",
    "    prob = 1./sum([np.exp(e[1] - logp[wi][1]) for e in logp]) #winning class probability\n",
    "    return wi, prob\n",
    "\n",
    "def predict_proba_NB_2(f, model):\n",
    "    import numpy as np\n",
    "    '''\n",
    "    Naive Bayes model prediction with probability for 2-class classification.\n",
    "    f is features [Sparse] vector. model is mllib.NaiveBayesModel.\n",
    "    Output: probability of class 1 (type float).\n",
    "    '''\n",
    "    if len(model.theta) != 2:\n",
    "        print('Model is NOT a 2-class classifier')\n",
    "        return None\n",
    "    logp = [f.dot(model.theta[i]) + model.pi[i] for i in range(2)]    \n",
    "    return 1./(1. + np.exp(logp[0] - logp[1]))\n",
    "\n"
   ]
  },
  {
   "cell_type": "code",
   "execution_count": 7,
   "metadata": {
    "collapsed": false
   },
   "outputs": [],
   "source": [
    "#LogisticRegression model\n",
    "modelLR = LogisticRegressionWithSGD.train(train_data)\n",
    "modelLR.clearThreshold()"
   ]
  },
  {
   "cell_type": "code",
   "execution_count": 22,
   "metadata": {
    "collapsed": false
   },
   "outputs": [],
   "source": [
    "# 3. Current approach\n",
    "#rdd_tmp = rdd3.map(lambda row: (row[1],row[2]))\n",
    "# NB: works only for boolean value but not for int.\n",
    "ca_res = hc.sql(current_approach_results_query).toPandas()"
   ]
  },
  {
   "cell_type": "code",
   "execution_count": 23,
   "metadata": {
    "collapsed": false
   },
   "outputs": [],
   "source": []
  },
  {
   "cell_type": "code",
   "execution_count": 9,
   "metadata": {
    "collapsed": false
   },
   "outputs": [],
   "source": [
    "#Testing result\n",
    "df_test = test_data.map( lambda lp: pyspark.sql.Row(\n",
    "        Label = lp.label,\n",
    "        NaiveBayes = float(predict_proba_NB_2(lp.features, modelNB)),\n",
    "        LogisticRegression = float(modelLR.predict(lp.features))\n",
    "    )).toDF().toPandas()\n"
   ]
  },
  {
   "cell_type": "code",
   "execution_count": 24,
   "metadata": {
    "collapsed": false
   },
   "outputs": [
    {
     "name": "stdout",
     "output_type": "stream",
     "text": [
      "Methods AUCROC performance on test sample (27846 samples with 118 positives):\n",
      "CurrApproach                  0.79219\n",
      "LogisticRegression            0.58612\n",
      "NaiveBayes                    0.75785\n"
     ]
    }
   ],
   "source": [
    "#Build AUCROC metric and print results\n",
    "import sklearn\n",
    "AUCROC = {}\n",
    "for c in df_test.columns:\n",
    "    if c!= 'Label':\n",
    "        AUCROC[c] = sklearn.metrics.roc_auc_score(df_test['Label'],df_test[c])\n",
    "AUCROC['CurrApproach'] = sklearn.metrics.roc_auc_score(ca_res['label'], ca_res['score'])\n",
    "        \n",
    "print('Methods AUCROC performance on test sample ({0:.0f} samples with {1:.0f} positives):\\n'.format(df_test.size,df_test['Label'].sum()) +\n",
    "     '\\n'.join(['{0:<30}{1:.5f}'.format(k,v) for (k,v) in AUCROC.items()]))"
   ]
  },
  {
   "cell_type": "code",
   "execution_count": null,
   "metadata": {
    "collapsed": false
   },
   "outputs": [],
   "source": []
  }
 ],
 "metadata": {
  "kernelspec": {
   "display_name": "Python 2",
   "language": "python",
   "name": "python2"
  }
 },
 "nbformat": 4,
 "nbformat_minor": 0
}
