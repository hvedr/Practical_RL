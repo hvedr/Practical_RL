{
 "cells": [
  {
   "cell_type": "markdown",
   "metadata": {},
   "source": [
    "## Текстовый анализ URL в задаче lookalike"
   ]
  },
  {
   "cell_type": "code",
   "execution_count": 82,
   "metadata": {
    "collapsed": false
   },
   "outputs": [],
   "source": [
    "##### Config\n",
    "from pyspark import SparkConf, SparkContext, HiveContext\n",
    "import re\n",
    "import numpy as np\n",
    "import pandas as pd\n",
    "import datetime\n",
    "from pyspark.mllib.regression import LabeledPoint\n",
    "from pyspark.mllib.feature import HashingTF\n",
    "from pyspark.mllib.classification import LogisticRegressionWithSGD, NaiveBayes, NaiveBayesModel\n",
    "import scipy.sparse as sps\n",
    "from pyspark.mllib.linalg import Vectors\n",
    "from pyspark.mllib.linalg import SparseVector\n",
    "from pyspark.mllib.evaluation import BinaryClassificationMetrics\n",
    "import hashlib\n",
    "from collections import Counter\n",
    "\n",
    "hive_config_query = '''\n",
    "set hive.vectorized.execution.enabled=true;\n",
    "set hive.vectorized.execution.reduce.enabled = true;\n",
    "set mapreduce.map.memory.mb=4096;\n",
    "set mapreduce.map.child.java.opts=-Xmx4g;\n",
    "set mapreduce.task.io.sort.mb=1024;\n",
    "set mapreduce.reduce.child.java.opts=-Xmx4g;\n",
    "set mapreduce.reduce.memory.mb=7000;\n",
    "set mapreduce.reduce.shuffle.input.buffer.percent=0.5;\n",
    "set mapreduce.input.fileinputformat.split.minsize=536870912;\n",
    "set mapreduce.input.fileinputformat.split.maxsize=1073741824;\n",
    "set hive.optimize.ppd=true;\n",
    "set hive.merge.smallfiles.avgsize=536870912;\n",
    "set hive.merge.mapredfiles=true;\n",
    "set hive.merge.mapfiles=true;\n",
    "set hive.hadoop.supports.splittable.combineinputformat=true;\n",
    "set hive.exec.reducers.bytes.per.reducer=536870912;\n",
    "set hive.exec.parallel=true;\n",
    "set hive.exec.max.created.files=10000000;\n",
    "set hive.exec.compress.output=true;\n",
    "set hive.exec.dynamic.partition.mode=nonstrict;\n",
    "set hive.exec.max.dynamic.partitions=1000000;\n",
    "set hive.exec.max.dynamic.partitions.pernode=100000;\n",
    "set io.seqfile.compression.type=BLOCK;\n",
    "set mapreduce.map.failures.maxpercent=5;\n",
    "'''\n",
    "\n",
    "sc.stop()\n",
    "conf = (SparkConf()\n",
    "        .set(\"spark.executor.instances\", 2)\n",
    "        .set(\"spark.driver.maxResultSize\", \"16g\")\n",
    "        .set('spark.driver.memory','16g')\n",
    "        .set(\"spark.executor.memory\", '4g')\n",
    "        .set(\"spark.yarn.executor.memoryOverhead\", 1048)        \n",
    "       )\n",
    "sc = SparkContext(conf=conf)\n",
    "hc = HiveContext(sc)\n",
    "\n",
    "for q in hive_config_query.split(';'):\n",
    "    try:\n",
    "        hc.sql(q)\n",
    "    except:\n",
    "        pass\n"
   ]
  },
  {
   "cell_type": "code",
   "execution_count": 57,
   "metadata": {
    "collapsed": true
   },
   "outputs": [],
   "source": [
    "#Constants\n",
    "n_list = [1,2,3,4,5]\n",
    "tf_size = 2 ** 20"
   ]
  },
  {
   "cell_type": "code",
   "execution_count": 58,
   "metadata": {
    "collapsed": true
   },
   "outputs": [],
   "source": [
    "# I used alias to avoid confusion with the mllib library\n",
    "from pyspark import SparkContext\n",
    "from pyspark.sql import SQLContext, Row\n",
    "from pyspark.mllib.linalg import SparseVector\n",
    "from pyspark.ml.feature import HashingTF as MLHashingTF\n",
    "from pyspark.ml.feature import IDF as MLIDF\n",
    "from pyspark.sql.types import DoubleType\n",
    "import urllib"
   ]
  },
  {
   "cell_type": "code",
   "execution_count": null,
   "metadata": {
    "collapsed": false
   },
   "outputs": [],
   "source": [
    "\n",
    "! hadoop fs -du -h hdfs://nameservice1/user/k.p.osminin/url_text_tf_train_dir"
   ]
  },
  {
   "cell_type": "code",
   "execution_count": null,
   "metadata": {
    "collapsed": false
   },
   "outputs": [],
   "source": [
    "start_time = datetime.datetime.now()\n",
    "\n",
    "train_select_query = '''\n",
    "select ymd,phone_num,approve_label,full_app_label,full_app_first_day,sampled,strong_sampled,urls_str \n",
    "from user_kposminin.url_text_train\n",
    "\n",
    "'''\n",
    "\n",
    "\n",
    "df1 = hc.sql(train_select_query)\n",
    "# df2, idf = generate_ngram_stat_manual(df1,n_list,tf_size) # Не проработал за выходные \n",
    "df2 = generate_ngram_tf_manual(df1, n_list, tf_size)\n",
    "\n",
    "\n",
    "\n",
    "(df2\n",
    ".saveAsTextFile('url_text_tf_train_dir')\n",
    " )\n",
    "\n",
    "#.map(lambda (k,v):','.join([str(e) for e in k]) + ',' + ';'.join([' '.join([str(ee) for ee in e]) for e in v]) + '\\n')\n",
    "\n",
    "\n",
    "\n",
    "print('train was handled in {}.'.format(datetime.datetime.now()  - start_time))\n"
   ]
  },
  {
   "cell_type": "code",
   "execution_count": null,
   "metadata": {
    "collapsed": false
   },
   "outputs": [],
   "source": [
    "#prepare libsvm file. All n-grams united\n",
    "\n",
    "# url_text_tf_train_dir columns: ymd,phone_num, approve_label,full_app_label,full_app_first_day,sampled,strong_sampled\n",
    "\n",
    "def cast_int(v):\n",
    "    try:\n",
    "        return int(v)\n",
    "    except:\n",
    "        return None\n",
    "\n",
    "(sc.textFile('url_text_tf_train_dir')\n",
    "          .map(lambda r: (r.split(',')[2], sorted(list(set([cast_int(re.sub('[()\\[\\]L]','',e)) for e in r.split(',')[7::2]])))))\n",
    "          .map(lambda r: ' '.join([str(r[0])] + ['{}:1'.format(e) for e in r[1] if e]).strip())\n",
    "          .saveAsTextFile('url_text_train_libsvm')\n",
    ")\n"
   ]
  },
  {
   "cell_type": "code",
   "execution_count": 61,
   "metadata": {
    "collapsed": false
   },
   "outputs": [
    {
     "name": "stdout",
     "output_type": "stream",
     "text": [
      "17/02/02 17:13:57 INFO fs.TrashPolicyDefault: Namenode trash configuration: Deletion interval = 1440 minutes, Emptier interval = 0 minutes.\r\n",
      "Moved: 'hdfs://nameservice1/user/k.p.osminin/url_text_train_tf_libsvm' to trash at: hdfs://nameservice1/user/k.p.osminin/.Trash/Current\r\n"
     ]
    }
   ],
   "source": [
    "#a = sc.textFile('url_text_tf_train_dir').take(2)\n",
    "import re\n",
    "def cast_int(v):\n",
    "    try:\n",
    "        return int(v)\n",
    "    except:\n",
    "        return None\n",
    "\n",
    "\n",
    "def process_row(r):\n",
    "    l = [re.sub('[()\\[\\]L ]','',e) for e in r.split(',')]\n",
    "    feat = sorted([(cast_int(l[2*i + 7]),l[2*i + 8]) for i in range((len(l)-7)/2)])\n",
    "    feat = [feat[i] for i in range(len(feat)-1) if feat[i][0] != feat[i+1][0]] + feat[-1:] #remove duplicate indices\n",
    "    return  ' '.join(l[2:3] + ['{}:{}'.format(*e) for e in feat])\n",
    "#process_row(r)\n",
    "! hadoop fs -rm -r url_text_train_tf_libsvm"
   ]
  },
  {
   "cell_type": "code",
   "execution_count": 62,
   "metadata": {
    "collapsed": false
   },
   "outputs": [],
   "source": [
    "#prepare libsvm file with tf values. All n-grams united. Positive class is approved applic\n",
    "import re\n",
    "def cast_int(v):\n",
    "    try:\n",
    "        return int(v)\n",
    "    except:\n",
    "        return None\n",
    "\n",
    "def process_row(r):\n",
    "    l = [re.sub('[()\\[\\]L ]','',e) for e in r.split(',')]\n",
    "    feat = sorted([(cast_int(l[2*i + 7]),l[2*i + 8]) for i in range((len(l)-7)/2)])\n",
    "    feat = [feat[i] for i in range(len(feat)-1) if feat[i][0] != feat[i+1][0]] + feat[-1:] #remove duplicate indices\n",
    "    return  ' '.join(l[2:3] + ['{}:{}'.format(*e) for e in feat])\n",
    "\n",
    "    \n",
    "(sc.textFile('url_text_tf_train_dir')\n",
    "          .map(process_row)\n",
    "          .saveAsTextFile('url_text_train_tf_libsvm')\n",
    ")\n"
   ]
  },
  {
   "cell_type": "code",
   "execution_count": 70,
   "metadata": {
    "collapsed": false
   },
   "outputs": [
    {
     "name": "stdout",
     "output_type": "stream",
     "text": [
      "  File: `./external_hdfs/url_text_train_train_tf_libsvm.txt'\r\n",
      "  Size: 0         \tBlocks: 0          IO Block: 1048576 regular empty file\r\n",
      "Device: 1bh/27d\tInode: 538258290   Links: 1\r\n",
      "Access: (0664/-rw-rw-r--)  Uid: (   99/  nobody)   Gid: (   99/  nobody)\r\n",
      "Access: 2017-02-02 18:02:34.707000000 +0300\r\n",
      "Modify: 2017-02-02 18:12:38.988000000 +0300\r\n",
      "Change: 2017-02-02 18:12:38.988000000 +0300\r\n"
     ]
    }
   ],
   "source": [
    "! rm ./external_hdfs/url_text_train_train_tf_libsvm.txt"
   ]
  },
  {
   "cell_type": "code",
   "execution_count": 66,
   "metadata": {
    "collapsed": false
   },
   "outputs": [
    {
     "name": "stdout",
     "output_type": "stream",
     "text": [
      "/bin/sh: ./external_hdfs/url_text_train_train_tf_libsvm.txt: Permission denied\n",
      "/bin/sh: ./external_hdfs/url_text_valid_tf_libsvm.txt: Permission denied\n"
     ]
    }
   ],
   "source": [
    "#!hadoop fs -ls | grep libsvm\n",
    "os.popen('hadoop fs -cat url_text_train_tf_libsvm/* > ./external_hdfs/url_text_train_tf_libsvm.txt').read() # Скидываем в один файл и на локаль\n",
    "\n",
    "#!hadoop fs -du -h | grep url_text_train_libsvm.txt\n",
    "#! du -ah ./data | grep libsvm\n",
    "#! wc -l ./data/url_text_train_libsvm.txt # 307840\n",
    "#! head -250000 ./data/url_text_train_libsvm.txt > ./external_hdfs/url_text_train_train_libsvm.txt\n",
    "#! tail -57000 ./data/url_text_train_libsvm.txt > ./external_hdfs/url_text_valid_libsvm.txt\n",
    "! head -250000 ./external_hdfs/url_text_train_tf_libsvm.txt > ./external_hdfs/url_text_train_train_tf_libsvm.txt\n",
    "! tail -57000 ./external_hdfs/url_text_train_tf_libsvm.txt > ./external_hdfs/url_text_valid_tf_libsvm.txt"
   ]
  },
  {
   "cell_type": "code",
   "execution_count": null,
   "metadata": {
    "collapsed": false
   },
   "outputs": [],
   "source": []
  },
  {
   "cell_type": "code",
   "execution_count": 10,
   "metadata": {
    "collapsed": true
   },
   "outputs": [],
   "source": [
    "import xgboost as xgb\n",
    "dtrain = xgb.DMatrix('./external_hdfs/url_text_train_train_libsvm.txt')\n",
    "dvalid = xgb.DMatrix('./external_hdfs/url_text_valid_libsvm.txt')"
   ]
  },
  {
   "cell_type": "code",
   "execution_count": 18,
   "metadata": {
    "collapsed": true
   },
   "outputs": [],
   "source": [
    "param = {'bst:max_depth':5, 'silent':1, 'objective':'binary:logistic' }\n",
    "\n",
    "param['eval_metric'] = 'auc'\n",
    "\n",
    "evallist  = [(dvalid,'eval'), (dtrain,'train')]"
   ]
  },
  {
   "cell_type": "code",
   "execution_count": 19,
   "metadata": {
    "collapsed": false
   },
   "outputs": [
    {
     "name": "stderr",
     "output_type": "stream",
     "text": [
      "[0]\teval-auc:0.563897\ttrain-auc:0.558476\n",
      "[1]\teval-auc:0.563762\ttrain-auc:0.563430\n",
      "[2]\teval-auc:0.575056\ttrain-auc:0.579148\n",
      "[3]\teval-auc:0.577535\ttrain-auc:0.583780\n",
      "[4]\teval-auc:0.577546\ttrain-auc:0.590134\n",
      "[5]\teval-auc:0.594114\ttrain-auc:0.611501\n",
      "[6]\teval-auc:0.593749\ttrain-auc:0.619849\n",
      "[7]\teval-auc:0.597691\ttrain-auc:0.639583\n",
      "[8]\teval-auc:0.602108\ttrain-auc:0.653352\n",
      "[9]\teval-auc:0.602476\ttrain-auc:0.661798\n",
      "[10]\teval-auc:0.609029\ttrain-auc:0.672112\n",
      "[11]\teval-auc:0.619646\ttrain-auc:0.681447\n",
      "[12]\teval-auc:0.623031\ttrain-auc:0.691910\n",
      "[13]\teval-auc:0.627075\ttrain-auc:0.702705\n",
      "[14]\teval-auc:0.627038\ttrain-auc:0.707417\n",
      "[15]\teval-auc:0.625863\ttrain-auc:0.713642\n",
      "[16]\teval-auc:0.627058\ttrain-auc:0.717362\n",
      "[17]\teval-auc:0.629855\ttrain-auc:0.724428\n",
      "[18]\teval-auc:0.628943\ttrain-auc:0.729411\n",
      "[19]\teval-auc:0.629905\ttrain-auc:0.733581\n",
      "[20]\teval-auc:0.624326\ttrain-auc:0.739696\n",
      "[21]\teval-auc:0.628357\ttrain-auc:0.743814\n",
      "[22]\teval-auc:0.628884\ttrain-auc:0.746629\n",
      "[23]\teval-auc:0.626559\ttrain-auc:0.750020\n",
      "[24]\teval-auc:0.625221\ttrain-auc:0.751960\n",
      "[25]\teval-auc:0.625089\ttrain-auc:0.757156\n",
      "[26]\teval-auc:0.625385\ttrain-auc:0.761508\n",
      "[27]\teval-auc:0.628286\ttrain-auc:0.764421\n",
      "[28]\teval-auc:0.629159\ttrain-auc:0.766816\n",
      "[29]\teval-auc:0.635454\ttrain-auc:0.771334\n",
      "[30]\teval-auc:0.636270\ttrain-auc:0.774136\n",
      "[31]\teval-auc:0.637323\ttrain-auc:0.775486\n",
      "[32]\teval-auc:0.636379\ttrain-auc:0.777245\n",
      "[33]\teval-auc:0.639193\ttrain-auc:0.780742\n",
      "[34]\teval-auc:0.639986\ttrain-auc:0.782765\n",
      "[35]\teval-auc:0.640692\ttrain-auc:0.784790\n",
      "[36]\teval-auc:0.638615\ttrain-auc:0.786941\n",
      "[37]\teval-auc:0.637992\ttrain-auc:0.788487\n",
      "[38]\teval-auc:0.636196\ttrain-auc:0.790183\n",
      "[39]\teval-auc:0.636095\ttrain-auc:0.792200\n",
      "[40]\teval-auc:0.636932\ttrain-auc:0.794072\n",
      "[41]\teval-auc:0.635616\ttrain-auc:0.795506\n",
      "[42]\teval-auc:0.635746\ttrain-auc:0.797824\n",
      "[43]\teval-auc:0.638777\ttrain-auc:0.802727\n",
      "[44]\teval-auc:0.637395\ttrain-auc:0.803630\n",
      "[45]\teval-auc:0.636449\ttrain-auc:0.806191\n",
      "[46]\teval-auc:0.636502\ttrain-auc:0.807186\n",
      "[47]\teval-auc:0.637284\ttrain-auc:0.808720\n",
      "[48]\teval-auc:0.635375\ttrain-auc:0.809713\n",
      "[49]\teval-auc:0.634635\ttrain-auc:0.810732\n"
     ]
    }
   ],
   "source": [
    "num_round = 50\n",
    "bst = xgb.train(param, dtrain, num_round, evallist)"
   ]
  },
  {
   "cell_type": "code",
   "execution_count": 16,
   "metadata": {
    "collapsed": true
   },
   "outputs": [],
   "source": [
    "xgboost [35]\teval-auc:0.6407 на валидирующей выборке"
   ]
  },
  {
   "cell_type": "code",
   "execution_count": null,
   "metadata": {
    "collapsed": true
   },
   "outputs": [],
   "source": []
  },
  {
   "cell_type": "code",
   "execution_count": null,
   "metadata": {
    "collapsed": false
   },
   "outputs": [],
   "source": []
  },
  {
   "cell_type": "code",
   "execution_count": 6,
   "metadata": {
    "collapsed": false
   },
   "outputs": [],
   "source": [
    "from sklearn.externals.joblib import Memory\n",
    "from sklearn.datasets import load_svmlight_file\n",
    "#mem = Memory(\"./mycache\")\n",
    "\n",
    "\n",
    "def get_data(filename):\n",
    "    data = load_svmlight_file(filename)\n",
    "    return data[0], data[1]\n",
    "\n",
    "X, y = get_data('./external_hdfs/url_text_train_train_libsvm.txt')"
   ]
  },
  {
   "cell_type": "code",
   "execution_count": 14,
   "metadata": {
    "collapsed": false
   },
   "outputs": [],
   "source": [
    "Xt, yt = get_data('./external_hdfs/url_text_valid_libsvm.txt')"
   ]
  },
  {
   "cell_type": "code",
   "execution_count": 13,
   "metadata": {
    "collapsed": false
   },
   "outputs": [
    {
     "data": {
      "text/plain": [
       "BernoulliNB(alpha=1.0, binarize=0.0, class_prior=None, fit_prior=True)"
      ]
     },
     "execution_count": 13,
     "metadata": {},
     "output_type": "execute_result"
    }
   ],
   "source": [
    "import sklearn\n",
    "from sklearn import naive_bayes\n",
    "clfNB = sklearn.naive_bayes.BernoulliNB()\n",
    "clfNB.fit(X,y)\n"
   ]
  },
  {
   "cell_type": "code",
   "execution_count": 80,
   "metadata": {
    "collapsed": false
   },
   "outputs": [],
   "source": []
  },
  {
   "cell_type": "code",
   "execution_count": 29,
   "metadata": {
    "collapsed": false
   },
   "outputs": [
    {
     "name": "stdout",
     "output_type": "stream",
     "text": [
      "NaiveBayes Validation AUCROC 0.574530107059. AUC PR 0.0826299541565.\n"
     ]
    }
   ],
   "source": [
    "from sklearn.metrics import roc_auc_score,precision_recall_curve,auc\n",
    "\n",
    "#pt = clfNB.predict_proba(Xt)\n",
    "\n",
    "print('NaiveBayes Validation AUCROC {}. AUC PR {}.'.format(\n",
    "        roc_auc_score(y_true = yt, y_score = pt[:,1]),\n",
    "        auc(*precision_recall_curve(y_true = yt, probas_pred  = pt[:,1])[:2],reorder = True)\n",
    "     ))"
   ]
  },
  {
   "cell_type": "code",
   "execution_count": 37,
   "metadata": {
    "collapsed": false
   },
   "outputs": [
    {
     "data": {
      "text/plain": [
       "LogisticRegression(C=0.4, class_weight=None, dual=False, fit_intercept=True,\n",
       "          intercept_scaling=1, max_iter=100, multi_class='ovr', n_jobs=1,\n",
       "          penalty='l1', random_state=None, solver='liblinear', tol=0.0001,\n",
       "          verbose=0, warm_start=False)"
      ]
     },
     "execution_count": 37,
     "metadata": {},
     "output_type": "execute_result"
    }
   ],
   "source": [
    "import sklearn\n",
    "from sklearn.linear_model import LogisticRegression\n",
    "clfLR = LogisticRegression(penalty='l1', C=0.4)\n",
    "clfLR.fit(X,y)"
   ]
  },
  {
   "cell_type": "code",
   "execution_count": 38,
   "metadata": {
    "collapsed": false
   },
   "outputs": [
    {
     "name": "stdout",
     "output_type": "stream",
     "text": [
      "LogisticRegression Validation AUCROC 0.564393834024. AUC PR 0.0733905747138.\n"
     ]
    }
   ],
   "source": [
    "pt1 = clfLR.predict_proba(Xt)\n",
    "\n",
    "print('LogisticRegression Validation AUCROC {}. AUC PR {}.'.format(\n",
    "        roc_auc_score(y_true = yt, y_score = pt1[:,1]),\n",
    "        auc(*precision_recall_curve(y_true = yt, probas_pred  = pt1[:,1])[:2],reorder = True)\n",
    "     ))"
   ]
  },
  {
   "cell_type": "code",
   "execution_count": null,
   "metadata": {
    "collapsed": true
   },
   "outputs": [],
   "source": []
  },
  {
   "cell_type": "code",
   "execution_count": null,
   "metadata": {
    "collapsed": true
   },
   "outputs": [],
   "source": []
  },
  {
   "cell_type": "code",
   "execution_count": null,
   "metadata": {
    "collapsed": false
   },
   "outputs": [],
   "source": [
    "print(datetime.datetime.now())"
   ]
  },
  {
   "cell_type": "code",
   "execution_count": null,
   "metadata": {
    "collapsed": false
   },
   "outputs": [],
   "source": [
    "df_test = test_data.map( lambda lp: pyspark.sql.Row(\n",
    "        Label = lp.label,\n",
    "        NaiveBayes = float(predict_proba_NB_2(lp.features, modelNB)),\n",
    "        LogisticRegression = float(modelLR.predict(lp.features))\n",
    "    )).toDF().toPandas()\n",
    "print(datetime.datetime.now())"
   ]
  },
  {
   "cell_type": "code",
   "execution_count": null,
   "metadata": {
    "collapsed": false
   },
   "outputs": [],
   "source": [
    "#Build AUCROC metric and print results\n",
    "import sklearn\n",
    "AUCROC = {}\n",
    "for c in df_test.columns:\n",
    "    if c!= 'Label':\n",
    "        AUCROC[c] = sklearn.metrics.roc_auc_score(df_test['Label'],df_test[c])\n",
    "        \n",
    "print('Methods AUCROC performance on test sample ({0:.0f} samples with {1:.0f} positives):\\n'.format(len(df_test),df_test['Label'].sum()) +\n",
    "     '\\n'.join(['{0:<30}{1:.5f}'.format(k,v) for (k,v) in AUCROC.items()]))\n",
    "print(datetime.datetime.now())"
   ]
  },
  {
   "cell_type": "code",
   "execution_count": null,
   "metadata": {
    "collapsed": false
   },
   "outputs": [],
   "source": []
  },
  {
   "cell_type": "code",
   "execution_count": null,
   "metadata": {
    "collapsed": false
   },
   "outputs": [],
   "source": [
    "train_conf_str = '''\n",
    "# task type, support train and predict\n",
    "task = train\n",
    "\n",
    "# boosting type, support gbdt for now, alias: boosting, boost\n",
    "boosting_type = gbdt\n",
    "\n",
    "# application type, support following application\n",
    "# regression , regression task\n",
    "# binary , binary classification task\n",
    "# lambdarank , lambdarank task\n",
    "# alias: application, app\n",
    "objective = binary\n",
    "\n",
    "# eval metrics, support multi metric, delimite by ',' , support following metrics\n",
    "# l1 \n",
    "# l2 , default metric for regression\n",
    "# ndcg , default metric for lambdarank\n",
    "# auc \n",
    "# binary_logloss , default metric for binary\n",
    "# binary_error\n",
    "metric = auc,binary_logloss\n",
    "\n",
    "# frequence for metric output\n",
    "metric_freq = 1\n",
    "\n",
    "# true if need output metric for training data, alias: tranining_metric, train_metric\n",
    "is_training_metric = true\n",
    "\n",
    "# number of bins for feature bucket, 255 is a recommend setting, it can save memories, and also has good accuracy. \n",
    "max_bin = 255\n",
    "\n",
    "# training data\n",
    "# if exsting weight file, should name to \"binary.train.weight\"\n",
    "# alias: train_data, train\n",
    "#data = binary.train\n",
    "\n",
    "# validation data, support multi validation data, separated by ','\n",
    "# if exsting weight file, should name to \"binary.test.weight\"\n",
    "# alias: valid, test, test_data, \n",
    "#valid_data = binary.test\n",
    "\n",
    "# number of trees(iterations), alias: num_tree, num_iteration, num_iterations, num_round, num_rounds\n",
    "num_trees = 100\n",
    "\n",
    "# shrinkage rate , alias: shrinkage_rate\n",
    "learning_rate = 0.05\n",
    "\n",
    "# number of leaves for one tree, alias: num_leaf\n",
    "num_leaves = 63\n",
    "\n",
    "# type of tree learner, support following types:\n",
    "# serial , single machine version\n",
    "# feature , use feature parallel to train\n",
    "# data , use data parallel to train\n",
    "# voting , use voting based parallel to train\n",
    "# alias: tree\n",
    "tree_learner = data\n",
    "\n",
    "# number of threads for multi-threading. One thread will use one CPU, defalut is setted to #cpu. \n",
    "# num_threads = 8\n",
    "\n",
    "# feature sub-sample, will random select 80% feature to train on each iteration \n",
    "# alias: sub_feature\n",
    "feature_fraction = 0.8\n",
    "\n",
    "#classes are unbalanced\n",
    "is_unbalance = true\n",
    "\n",
    "# Support bagging (data sub-sample), will perform bagging every 5 iterations\n",
    "bagging_freq = 5\n",
    "\n",
    "# Bagging farction, will random select 80% data on bagging\n",
    "# alias: sub_row\n",
    "bagging_fraction = 0.8\n",
    "\n",
    "# minimal number data for one leaf, use this to deal with over-fit\n",
    "# alias : min_data_per_leaf, min_data\n",
    "min_data_in_leaf = 5\n",
    "\n",
    "# minimal sum hessians for one leaf, use this to deal with over-fit\n",
    "#min_sum_hessian_in_leaf = 5.0\n",
    "\n",
    "# save memory and faster speed for sparse feature, alias: is_sparse\n",
    "is_enable_sparse = true\n",
    "\n",
    "# when data is bigger than memory size, set this to true. otherwise set false will have faster speed\n",
    "# alias: two_round_loading, two_round\n",
    "use_two_round_loading = true\n",
    "\n",
    "# true if need to save data to binary file and application will auto load data from binary file next time\n",
    "# alias: is_save_binary, save_binary\n",
    "is_save_binary_file = false\n",
    "\n",
    "# output model file\n",
    "output_model = lgbm.model\n",
    "\n",
    "'''\n",
    "\n",
    "lgbm_dir = './lgbm'\n",
    "import os\n",
    "os.popen('mkdir -p '+lgbm_dir).read()\n",
    "open(lgbm_dir + '/train.conf','w').write(train_conf_str)"
   ]
  },
  {
   "cell_type": "code",
   "execution_count": null,
   "metadata": {
    "collapsed": true
   },
   "outputs": [],
   "source": [
    "#! ls /data1/share/kosm/data\n",
    "train_file_path = '/data1/share/kosm/data/train_data.txt'\n",
    "test_file_path = '/data1/share/kosm/data/test_data_all.txt'\n",
    "test1_file_path = '/data1/share/kosm/data/url_text_test_data_sampled.txt' # Тест с исходной долей положительного класса\n",
    "lgbm_exec_path = \"/data1/share/LightGBM/lightgbm\""
   ]
  },
  {
   "cell_type": "code",
   "execution_count": null,
   "metadata": {
    "collapsed": true
   },
   "outputs": [],
   "source": [
    "#os.popen(lgbm_exec_path +' config=' + lgbm_dir + '/train.conf data=' + train_file_path + ' valid=' + test_file_path + '> ' + lgbm_dir + '/log').read()\n",
    "#print(os.popen('tail -200 ' + lgbm_dir + '/log').read())"
   ]
  },
  {
   "cell_type": "code",
   "execution_count": 90,
   "metadata": {
    "collapsed": false
   },
   "outputs": [
    {
     "data": {
      "text/plain": [
       "u'2016-05-13'"
      ]
     },
     "execution_count": 90,
     "metadata": {},
     "output_type": "execute_result"
    }
   ],
   "source": [
    "#a = sc.textFile('url_text_tf_train_dir').map(lambda r:(r.split(',')[0],1)).reduceByKey(lambda v1,v2:v1+v2).collect()\n",
    "#sorted(a)\n",
    "re.sub(\"[u()\\[\\]L \\']\",'',a[0][0])"
   ]
  },
  {
   "cell_type": "code",
   "execution_count": null,
   "metadata": {
    "collapsed": false
   },
   "outputs": [],
   "source": [
    "#prepare libsvm file with tf values. All n-grams united. Positive class is approved applic\n",
    "import re\n",
    "def cast_int(v):\n",
    "    try:\n",
    "        return int(v)\n",
    "    except:\n",
    "        return None\n",
    "\n",
    "def process_row(r):\n",
    "    l = [re.sub('[()\\[\\]L ]','',e) for e in r.split(',')]\n",
    "    feat = sorted([(cast_int(l[2*i + 7]),l[2*i + 8]) for i in range((len(l)-7)/2)])\n",
    "    feat = [feat[i] for i in range(len(feat)-1) if feat[i][0] != feat[i+1][0]] + feat[-1:] #remove duplicate indices\n",
    "    return  ' '.join(l[2:3] + ['{}:{}'.format(*e) for e in feat])\n",
    "\n",
    "    \n",
    "(sc.textFile('url_text_tf_train_dir')\n",
    "          .filter(lambda row: row.split(',')[3].strip() == '1')\n",
    "          .filter(lambda row: re.sub(\"[u()\\[\\]L \\']\",'',row.split(',')[0]) < '2016-11-01')\n",
    "          .map(process_row)\n",
    "          .saveAsTextFile('url_text_train_tf_libsvm')\n",
    ")"
   ]
  },
  {
   "cell_type": "code",
   "execution_count": 94,
   "metadata": {
    "collapsed": false,
    "scrolled": true
   },
   "outputs": [],
   "source": [
    "#z = sc.textFile('url_text_tf_train_dir').take(1)\n",
    "# url_text_tf_train_dir columns: ymd,phone_num, approve_label,full_app_label,full_app_first_day,sampled,strong_sampled"
   ]
  },
  {
   "cell_type": "markdown",
   "metadata": {},
   "source": [
    "###Подготовить выборку полных заявок против одобренных. Признаки - tf."
   ]
  },
  {
   "cell_type": "code",
   "execution_count": 93,
   "metadata": {
    "collapsed": false
   },
   "outputs": [
    {
     "name": "stdout",
     "output_type": "stream",
     "text": [
      "2017-02-07 12:20:15.434579\n",
      "0:44:17.318954\n",
      "0:24:22.569780\n"
     ]
    }
   ],
   "source": [
    "print(datetime.datetime.now())\n",
    "start = datetime.datetime.now()\n",
    "(sc.textFile('url_text_tf_train_dir')\n",
    "          .filter(lambda row: row.split(',')[3].strip() == '1')\n",
    "          .filter(lambda row: re.sub(\"[u()\\[\\]L \\']\",'',row.split(',')[0]) < '2016-11-01')\n",
    "          .map(process_row)\n",
    "          .saveAsTextFile('url_text_fullapp_train_tf_libsvm')\n",
    ")\n",
    "print(datetime.datetime.now() - start)\n",
    "start = datetime.datetime.now()\n",
    "(sc.textFile('url_text_tf_train_dir')\n",
    "          .filter(lambda row: row.split(',')[3].strip() == '1')\n",
    "          .filter(lambda row: re.sub(\"[u()\\[\\]L \\']\",'',row.split(',')[0]) >= '2016-11-01')\n",
    "          .map(process_row)\n",
    "          .saveAsTextFile('url_text_fullapp_test_tf_libsvm')\n",
    ")\n",
    "print(datetime.datetime.now() - start)\n"
   ]
  },
  {
   "cell_type": "code",
   "execution_count": 95,
   "metadata": {
    "collapsed": false
   },
   "outputs": [
    {
     "data": {
      "text/plain": [
       "''"
      ]
     },
     "execution_count": 95,
     "metadata": {},
     "output_type": "execute_result"
    }
   ],
   "source": [
    "os.popen('hadoop fs -cat url_text_fullapp_train_tf_libsvm/* > ./external_hdfs/url_text_fullapp_train_tf_libsvm.txt').read()\n",
    "os.popen('hadoop fs -cat url_text_fullapp_test_tf_libsvm/* > ./external_hdfs/url_text_fullapp_test_tf_libsvm.txt').read()"
   ]
  },
  {
   "cell_type": "code",
   "execution_count": 134,
   "metadata": {
    "collapsed": false
   },
   "outputs": [
    {
     "name": "stdout",
     "output_type": "stream",
     "text": [
      "url_text_fullapp_test_tf_libsvm.txt\r\n",
      "url_text_fullapp_train_tf_libsvm.txt\r\n"
     ]
    }
   ],
   "source": [
    "! ls ./external_hdfs | grep fullapp\n",
    "#! rm -rf ./external_hdfs/url_text_fullapp_test_tf_libsvm\n",
    "\n",
    "#! mkdir ./external_hdfs/tst\n",
    "#! echo 213 > ./external_hdfs/tst/tst.txt\n",
    "#! rm -rf ./external_hdfs/tst\n",
    "\n",
    "#os.popen('rm -rf ./external_hdfs/url_text_fullapp_test_tf_libsvm').read()\n",
    "#os.popen('hadoop fs -rm -r url_text_fullapp_train_tf_libsvm').read()\n"
   ]
  },
  {
   "cell_type": "code",
   "execution_count": 8,
   "metadata": {
    "collapsed": false
   },
   "outputs": [
    {
     "data": {
      "text/plain": [
       "'12746\\n'"
      ]
     },
     "execution_count": 8,
     "metadata": {},
     "output_type": "execute_result"
    }
   ],
   "source": [
    "#! wc -l ./external_hdfs/url_text_fullapp_train_tf_libsvm.txt\n",
    "os.popen('''perl -ne 'print substr($_,0,1) . \"\\n\"' ./external_hdfs/url_text_fullapp_train_tf_libsvm.txt | grep 1 | wc -l''').read()\n"
   ]
  },
  {
   "cell_type": "code",
   "execution_count": 1,
   "metadata": {
    "collapsed": false
   },
   "outputs": [],
   "source": [
    "import xgboost as xgb\n"
   ]
  },
  {
   "cell_type": "code",
   "execution_count": 2,
   "metadata": {
    "collapsed": false
   },
   "outputs": [],
   "source": [
    "dtrain = xgb.DMatrix('./external_hdfs/url_text_fullapp_train_tf_libsvm.txt')\n",
    "dtest = xgb.DMatrix('./external_hdfs/url_text_fullapp_test_tf_libsvm.txt') "
   ]
  },
  {
   "cell_type": "code",
   "execution_count": 15,
   "metadata": {
    "collapsed": true
   },
   "outputs": [],
   "source": [
    "param = {'bst:max_depth':6, 'bst:eta':1, 'silent':1, 'objective':'binary:logistic', 'alpha':1, 'tree_method':'approx','scale_pos_weight':8}\n",
    "#param['eval_metric'] = ['auc','logloss']\n",
    "evallist  = [(dtest,'eval'), (dtrain,'train')]\n"
   ]
  },
  {
   "cell_type": "code",
   "execution_count": 31,
   "metadata": {
    "collapsed": false
   },
   "outputs": [
    {
     "name": "stderr",
     "output_type": "stream",
     "text": [
      "[0]\teval-error:0.488034\ttrain-error:0.438163\n",
      "[1]\teval-error:0.516251\ttrain-error:0.442425\n",
      "[2]\teval-error:0.507632\ttrain-error:0.434123\n",
      "[3]\teval-error:0.485892\ttrain-error:0.416090\n",
      "[4]\teval-error:0.480619\ttrain-error:0.408499\n",
      "[5]\teval-error:0.467113\ttrain-error:0.391105\n",
      "[6]\teval-error:0.458012\ttrain-error:0.385884\n",
      "[7]\teval-error:0.452788\ttrain-error:0.378035\n",
      "[8]\teval-error:0.459601\ttrain-error:0.370284\n",
      "[9]\teval-error:0.443519\ttrain-error:0.351319\n",
      "[10]\teval-error:0.439522\ttrain-error:0.345050\n",
      "[11]\teval-error:0.431674\ttrain-error:0.336056\n",
      "[12]\teval-error:0.428448\ttrain-error:0.332274\n",
      "[13]\teval-error:0.418745\ttrain-error:0.322560\n",
      "[14]\teval-error:0.416265\ttrain-error:0.316461\n",
      "[15]\teval-error:0.413930\ttrain-error:0.313300\n",
      "[16]\teval-error:0.403265\ttrain-error:0.305761\n",
      "[17]\teval-error:0.400111\ttrain-error:0.302361\n",
      "[18]\teval-error:0.400039\ttrain-error:0.299901\n",
      "[19]\teval-error:0.391636\ttrain-error:0.293890\n",
      "[20]\teval-error:0.388193\ttrain-error:0.288945\n",
      "[21]\teval-error:0.385112\ttrain-error:0.283502\n",
      "[22]\teval-error:0.383956\ttrain-error:0.280128\n",
      "[23]\teval-error:0.378828\ttrain-error:0.276577\n",
      "[24]\teval-error:0.377239\ttrain-error:0.272741\n",
      "[25]\teval-error:0.375554\ttrain-error:0.268346\n",
      "[26]\teval-error:0.366646\ttrain-error:0.257523\n",
      "[27]\teval-error:0.364022\ttrain-error:0.254850\n",
      "[28]\teval-error:0.362673\ttrain-error:0.251689\n",
      "[29]\teval-error:0.361445\ttrain-error:0.249141\n",
      "[30]\teval-error:0.358099\ttrain-error:0.246238\n",
      "[31]\teval-error:0.357449\ttrain-error:0.241230\n",
      "[32]\teval-error:0.353693\ttrain-error:0.236089\n",
      "[33]\teval-error:0.345676\ttrain-error:0.234358\n",
      "[34]\teval-error:0.344424\ttrain-error:0.232511\n",
      "[35]\teval-error:0.342907\ttrain-error:0.230611\n",
      "[36]\teval-error:0.341752\ttrain-error:0.228622\n",
      "[37]\teval-error:0.339320\ttrain-error:0.226598\n",
      "[38]\teval-error:0.333927\ttrain-error:0.219477\n",
      "[39]\teval-error:0.332290\ttrain-error:0.217266\n",
      "[40]\teval-error:0.331327\ttrain-error:0.214593\n",
      "[41]\teval-error:0.330918\ttrain-error:0.211867\n",
      "[42]\teval-error:0.329642\ttrain-error:0.209630\n",
      "[43]\teval-error:0.328318\ttrain-error:0.206851\n",
      "[44]\teval-error:0.326127\ttrain-error:0.201834\n",
      "[45]\teval-error:0.325549\ttrain-error:0.199579\n",
      "[46]\teval-error:0.324634\ttrain-error:0.195859\n",
      "[47]\teval-error:0.321865\ttrain-error:0.192583\n",
      "[48]\teval-error:0.319458\ttrain-error:0.189528\n",
      "[49]\teval-error:0.315293\ttrain-error:0.183029\n",
      "[50]\teval-error:0.310333\ttrain-error:0.178208\n",
      "[51]\teval-error:0.308937\ttrain-error:0.177098\n",
      "[52]\teval-error:0.307565\ttrain-error:0.175384\n",
      "[53]\teval-error:0.304724\ttrain-error:0.173440\n",
      "[54]\teval-error:0.304772\ttrain-error:0.171282\n",
      "[55]\teval-error:0.302364\ttrain-error:0.169036\n",
      "[56]\teval-error:0.301425\ttrain-error:0.166923\n",
      "[57]\teval-error:0.300486\ttrain-error:0.164277\n",
      "[58]\teval-error:0.292565\ttrain-error:0.158488\n",
      "[59]\teval-error:0.291338\ttrain-error:0.156605\n",
      "[60]\teval-error:0.291001\ttrain-error:0.154812\n",
      "[61]\teval-error:0.288786\ttrain-error:0.152752\n",
      "[62]\teval-error:0.288617\ttrain-error:0.151038\n",
      "[63]\teval-error:0.287413\ttrain-error:0.148765\n",
      "[64]\teval-error:0.286378\ttrain-error:0.146697\n",
      "[65]\teval-error:0.287028\ttrain-error:0.145178\n",
      "[66]\teval-error:0.284163\ttrain-error:0.142239\n",
      "[67]\teval-error:0.281539\ttrain-error:0.140180\n",
      "[68]\teval-error:0.281178\ttrain-error:0.138786\n",
      "[69]\teval-error:0.279781\ttrain-error:0.137276\n",
      "[70]\teval-error:0.278241\ttrain-error:0.134666\n",
      "[71]\teval-error:0.275231\ttrain-error:0.132162\n",
      "[72]\teval-error:0.274701\ttrain-error:0.130093\n",
      "[73]\teval-error:0.273112\ttrain-error:0.128575\n",
      "[74]\teval-error:0.266636\ttrain-error:0.125201\n",
      "[75]\teval-error:0.253130\ttrain-error:0.113729\n",
      "[76]\teval-error:0.251878\ttrain-error:0.112380\n",
      "[77]\teval-error:0.250867\ttrain-error:0.110204\n",
      "[78]\teval-error:0.252576\ttrain-error:0.109254\n",
      "[79]\teval-error:0.251469\ttrain-error:0.107674\n",
      "[80]\teval-error:0.250843\ttrain-error:0.106529\n",
      "[81]\teval-error:0.249278\ttrain-error:0.105321\n",
      "[82]\teval-error:0.248315\ttrain-error:0.103714\n",
      "[83]\teval-error:0.247761\ttrain-error:0.102418\n",
      "[84]\teval-error:0.247135\ttrain-error:0.101343\n",
      "[85]\teval-error:0.247544\ttrain-error:0.100074\n",
      "[86]\teval-error:0.245907\ttrain-error:0.098538\n",
      "[87]\teval-error:0.245835\ttrain-error:0.097348\n",
      "[88]\teval-error:0.245859\ttrain-error:0.096717\n",
      "[89]\teval-error:0.244944\ttrain-error:0.095395\n",
      "[90]\teval-error:0.244487\ttrain-error:0.094640\n",
      "[91]\teval-error:0.243716\ttrain-error:0.093370\n",
      "[92]\teval-error:0.243138\ttrain-error:0.092536\n",
      "[93]\teval-error:0.242296\ttrain-error:0.091657\n",
      "[94]\teval-error:0.241670\ttrain-error:0.090609\n",
      "[95]\teval-error:0.240153\ttrain-error:0.089419\n",
      "[96]\teval-error:0.239142\ttrain-error:0.088336\n",
      "[97]\teval-error:0.238636\ttrain-error:0.087634\n",
      "[98]\teval-error:0.237577\ttrain-error:0.086844\n",
      "[99]\teval-error:0.237047\ttrain-error:0.086178\n",
      "[100]\teval-error:0.238612\ttrain-error:0.084935\n",
      "[101]\teval-error:0.238372\ttrain-error:0.083781\n",
      "[102]\teval-error:0.237673\ttrain-error:0.082822\n",
      "[103]\teval-error:0.237312\ttrain-error:0.082209\n",
      "[104]\teval-error:0.236205\ttrain-error:0.081215\n",
      "[105]\teval-error:0.236157\ttrain-error:0.080043\n",
      "[106]\teval-error:0.235025\ttrain-error:0.078853\n",
      "[107]\teval-error:0.234279\ttrain-error:0.078001\n",
      "[108]\teval-error:0.233340\ttrain-error:0.076998\n",
      "[109]\teval-error:0.233532\ttrain-error:0.076278\n",
      "[110]\teval-error:0.232593\ttrain-error:0.075044\n",
      "[111]\teval-error:0.231654\ttrain-error:0.073828\n",
      "[112]\teval-error:0.231630\ttrain-error:0.073579\n",
      "[113]\teval-error:0.231149\ttrain-error:0.073020\n",
      "[114]\teval-error:0.230619\ttrain-error:0.072398\n",
      "[115]\teval-error:0.230258\ttrain-error:0.071848\n",
      "[116]\teval-error:0.228838\ttrain-error:0.070223\n",
      "[117]\teval-error:0.228573\ttrain-error:0.069477\n",
      "[118]\teval-error:0.226695\ttrain-error:0.068492\n",
      "[119]\teval-error:0.224937\ttrain-error:0.067124\n",
      "[120]\teval-error:0.223589\ttrain-error:0.066512\n",
      "[121]\teval-error:0.222674\ttrain-error:0.065704\n",
      "[122]\teval-error:0.222867\ttrain-error:0.065224\n",
      "[123]\teval-error:0.221133\ttrain-error:0.063546\n",
      "[124]\teval-error:0.219232\ttrain-error:0.061708\n",
      "[125]\teval-error:0.218943\ttrain-error:0.060989\n",
      "[126]\teval-error:0.218919\ttrain-error:0.060341\n",
      "[127]\teval-error:0.218220\ttrain-error:0.059337\n",
      "[128]\teval-error:0.217209\ttrain-error:0.058450\n",
      "[129]\teval-error:0.216439\ttrain-error:0.057970\n",
      "[130]\teval-error:0.215813\ttrain-error:0.057340\n",
      "[131]\teval-error:0.213381\ttrain-error:0.056416\n",
      "[132]\teval-error:0.213044\ttrain-error:0.056177\n",
      "[133]\teval-error:0.211816\ttrain-error:0.055129\n",
      "[134]\teval-error:0.210733\ttrain-error:0.054126\n",
      "[135]\teval-error:0.210588\ttrain-error:0.053673\n",
      "[136]\teval-error:0.210179\ttrain-error:0.053397\n",
      "[137]\teval-error:0.210324\ttrain-error:0.052723\n",
      "[138]\teval-error:0.209577\ttrain-error:0.052368\n",
      "[139]\teval-error:0.209240\ttrain-error:0.051533\n",
      "[140]\teval-error:0.208759\ttrain-error:0.051036\n",
      "[141]\teval-error:0.208542\ttrain-error:0.050601\n",
      "[142]\teval-error:0.207699\ttrain-error:0.050006\n",
      "[143]\teval-error:0.206760\ttrain-error:0.048976\n",
      "[144]\teval-error:0.205629\ttrain-error:0.048612\n",
      "[145]\teval-error:0.205316\ttrain-error:0.048132\n",
      "[146]\teval-error:0.204329\ttrain-error:0.047546\n",
      "[147]\teval-error:0.203510\ttrain-error:0.046729\n",
      "[148]\teval-error:0.202451\ttrain-error:0.046143\n",
      "[149]\teval-error:0.201006\ttrain-error:0.045753\n",
      "[150]\teval-error:0.191400\ttrain-error:0.040825\n",
      "[151]\teval-error:0.197877\ttrain-error:0.043506\n",
      "[152]\teval-error:0.197636\ttrain-error:0.042716\n",
      "[153]\teval-error:0.196841\ttrain-error:0.042299\n",
      "[154]\teval-error:0.196673\ttrain-error:0.041811\n",
      "[155]\teval-error:0.197058\ttrain-error:0.041376\n",
      "[156]\teval-error:0.196889\ttrain-error:0.040949\n",
      "[157]\teval-error:0.196576\ttrain-error:0.040408\n",
      "[158]\teval-error:0.195782\ttrain-error:0.039795\n",
      "[159]\teval-error:0.195589\ttrain-error:0.039351\n",
      "[160]\teval-error:0.194915\ttrain-error:0.038925\n",
      "[161]\teval-error:0.194145\ttrain-error:0.038525\n",
      "[162]\teval-error:0.193832\ttrain-error:0.037788\n",
      "[163]\teval-error:0.194313\ttrain-error:0.037407\n",
      "[164]\teval-error:0.194506\ttrain-error:0.037211\n",
      "[165]\teval-error:0.194289\ttrain-error:0.037096\n",
      "[166]\teval-error:0.194915\ttrain-error:0.036865\n",
      "[167]\teval-error:0.194458\ttrain-error:0.036554\n",
      "[168]\teval-error:0.192219\ttrain-error:0.035098\n",
      "[169]\teval-error:0.192508\ttrain-error:0.035382\n",
      "[170]\teval-error:0.191689\ttrain-error:0.034832\n",
      "[171]\teval-error:0.192387\ttrain-error:0.034548\n",
      "[172]\teval-error:0.192026\ttrain-error:0.034237\n",
      "[173]\teval-error:0.191641\ttrain-error:0.034077\n",
      "[174]\teval-error:0.190991\ttrain-error:0.032470\n",
      "[175]\teval-error:0.189835\ttrain-error:0.032656\n",
      "[176]\teval-error:0.189378\ttrain-error:0.032257\n",
      "[177]\teval-error:0.189282\ttrain-error:0.031777\n",
      "[178]\teval-error:0.188439\ttrain-error:0.031502\n",
      "[179]\teval-error:0.188728\ttrain-error:0.031245\n",
      "[180]\teval-error:0.188656\ttrain-error:0.030898\n",
      "[181]\teval-error:0.188704\ttrain-error:0.030304\n",
      "[182]\teval-error:0.188150\ttrain-error:0.029638\n",
      "[183]\teval-error:0.187187\ttrain-error:0.028812\n",
      "[184]\teval-error:0.186874\ttrain-error:0.028359\n",
      "[185]\teval-error:0.185622\ttrain-error:0.027871\n",
      "[186]\teval-error:0.184876\ttrain-error:0.027524\n",
      "[187]\teval-error:0.184611\ttrain-error:0.027054\n",
      "[188]\teval-error:0.183744\ttrain-error:0.026184\n",
      "[189]\teval-error:0.183816\ttrain-error:0.025988\n",
      "[190]\teval-error:0.184250\ttrain-error:0.025678\n",
      "[191]\teval-error:0.183239\ttrain-error:0.025394\n",
      "[192]\teval-error:0.181842\ttrain-error:0.025021\n",
      "[193]\teval-error:0.181939\ttrain-error:0.024594\n",
      "[194]\teval-error:0.181313\ttrain-error:0.024381\n",
      "[195]\teval-error:0.180735\ttrain-error:0.024079\n",
      "[196]\teval-error:0.180494\ttrain-error:0.023813\n",
      "[197]\teval-error:0.179459\ttrain-error:0.023360\n",
      "[198]\teval-error:0.179242\ttrain-error:0.023200\n",
      "[199]\teval-error:0.179290\ttrain-error:0.022748\n",
      "[200]\teval-error:0.178712\ttrain-error:0.022259\n",
      "[201]\teval-error:0.178424\ttrain-error:0.022259\n",
      "[202]\teval-error:0.178086\ttrain-error:0.021913\n",
      "[203]\teval-error:0.178062\ttrain-error:0.021629\n",
      "[204]\teval-error:0.177942\ttrain-error:0.021398\n",
      "[205]\teval-error:0.177822\ttrain-error:0.021123\n",
      "[206]\teval-error:0.176449\ttrain-error:0.021096\n",
      "[207]\teval-error:0.175727\ttrain-error:0.020466\n",
      "[208]\teval-error:0.174475\ttrain-error:0.020066\n",
      "[209]\teval-error:0.173945\ttrain-error:0.019809\n",
      "[210]\teval-error:0.174114\ttrain-error:0.019764\n",
      "[211]\teval-error:0.173127\ttrain-error:0.019454\n",
      "[212]\teval-error:0.173151\ttrain-error:0.019303\n",
      "[213]\teval-error:0.172669\ttrain-error:0.019081\n",
      "[214]\teval-error:0.172669\ttrain-error:0.019027\n",
      "[215]\teval-error:0.171923\ttrain-error:0.018672\n",
      "[216]\teval-error:0.171225\ttrain-error:0.018415\n",
      "[217]\teval-error:0.170695\ttrain-error:0.018290\n",
      "[218]\teval-error:0.170262\ttrain-error:0.018033\n",
      "[219]\teval-error:0.170334\ttrain-error:0.017900\n",
      "[220]\teval-error:0.169299\ttrain-error:0.017376\n",
      "[221]\teval-error:0.169130\ttrain-error:0.017118\n",
      "[222]\teval-error:0.168553\ttrain-error:0.017047\n",
      "[223]\teval-error:0.167734\ttrain-error:0.016710\n",
      "[224]\teval-error:0.167710\ttrain-error:0.016408\n",
      "[225]\teval-error:0.167758\ttrain-error:0.016275\n",
      "[226]\teval-error:0.168047\ttrain-error:0.016097\n",
      "[227]\teval-error:0.167590\ttrain-error:0.015822\n",
      "[228]\teval-error:0.165904\ttrain-error:0.015281\n",
      "[229]\teval-error:0.165013\ttrain-error:0.015005\n",
      "[230]\teval-error:0.165086\ttrain-error:0.014739\n",
      "[231]\teval-error:0.165447\ttrain-error:0.014552\n",
      "[232]\teval-error:0.165013\ttrain-error:0.014526\n",
      "[233]\teval-error:0.163978\ttrain-error:0.014259\n",
      "[234]\teval-error:0.163810\ttrain-error:0.014037\n",
      "[235]\teval-error:0.164123\ttrain-error:0.013851\n",
      "[236]\teval-error:0.163617\ttrain-error:0.013691\n",
      "[237]\teval-error:0.162967\ttrain-error:0.013469\n",
      "[238]\teval-error:0.162750\ttrain-error:0.013309\n",
      "[239]\teval-error:0.162943\ttrain-error:0.013141\n",
      "[240]\teval-error:0.163184\ttrain-error:0.013079\n",
      "[241]\teval-error:0.163545\ttrain-error:0.013008\n",
      "[242]\teval-error:0.163136\ttrain-error:0.012919\n",
      "[243]\teval-error:0.162726\ttrain-error:0.012777\n",
      "[244]\teval-error:0.162269\ttrain-error:0.012546\n",
      "[245]\teval-error:0.161450\ttrain-error:0.012324\n",
      "[246]\teval-error:0.161282\ttrain-error:0.012235\n",
      "[247]\teval-error:0.161234\ttrain-error:0.012093\n",
      "[248]\teval-error:0.161041\ttrain-error:0.011924\n",
      "[249]\teval-error:0.160969\ttrain-error:0.011729\n",
      "[250]\teval-error:0.160752\ttrain-error:0.011711\n",
      "[251]\teval-error:0.159789\ttrain-error:0.011534\n",
      "[252]\teval-error:0.158561\ttrain-error:0.011356\n",
      "[253]\teval-error:0.158682\ttrain-error:0.011187\n",
      "[254]\teval-error:0.157767\ttrain-error:0.010992\n",
      "[255]\teval-error:0.158200\ttrain-error:0.010717\n",
      "[256]\teval-error:0.158056\ttrain-error:0.010584\n",
      "[257]\teval-error:0.157622\ttrain-error:0.010442\n",
      "[258]\teval-error:0.156828\ttrain-error:0.010282\n",
      "[259]\teval-error:0.156081\ttrain-error:0.010131\n",
      "[260]\teval-error:0.156924\ttrain-error:0.010015\n",
      "[261]\teval-error:0.157044\ttrain-error:0.009856\n",
      "[262]\teval-error:0.157044\ttrain-error:0.009696\n",
      "[263]\teval-error:0.156202\ttrain-error:0.009527\n",
      "[264]\teval-error:0.155913\ttrain-error:0.009429\n",
      "[265]\teval-error:0.156298\ttrain-error:0.009234\n",
      "[266]\teval-error:0.155215\ttrain-error:0.009136\n",
      "[267]\teval-error:0.155793\ttrain-error:0.009110\n",
      "[268]\teval-error:0.155672\ttrain-error:0.008985\n",
      "[269]\teval-error:0.156563\ttrain-error:0.008781\n",
      "[270]\teval-error:0.156732\ttrain-error:0.008684\n",
      "[271]\teval-error:0.155793\ttrain-error:0.008657\n",
      "[272]\teval-error:0.155504\ttrain-error:0.008586\n",
      "[273]\teval-error:0.154781\ttrain-error:0.008541\n",
      "[274]\teval-error:0.154974\ttrain-error:0.008533\n",
      "[275]\teval-error:0.154155\ttrain-error:0.008453\n",
      "[276]\teval-error:0.153818\ttrain-error:0.008355\n",
      "[277]\teval-error:0.154035\ttrain-error:0.008293\n",
      "[278]\teval-error:0.154228\ttrain-error:0.008177\n",
      "[279]\teval-error:0.153842\ttrain-error:0.008160\n",
      "[280]\teval-error:0.153674\ttrain-error:0.008106\n",
      "[281]\teval-error:0.153144\ttrain-error:0.007955\n",
      "[282]\teval-error:0.152494\ttrain-error:0.007929\n",
      "[283]\teval-error:0.152398\ttrain-error:0.007822\n",
      "[284]\teval-error:0.151868\ttrain-error:0.007831\n",
      "[285]\teval-error:0.151724\ttrain-error:0.007707\n",
      "[286]\teval-error:0.151266\ttrain-error:0.007583\n",
      "[287]\teval-error:0.150279\ttrain-error:0.007503\n",
      "[288]\teval-error:0.150183\ttrain-error:0.007290\n",
      "[289]\teval-error:0.149677\ttrain-error:0.007316\n",
      "[290]\teval-error:0.149340\ttrain-error:0.007165\n",
      "[291]\teval-error:0.149798\ttrain-error:0.007023\n",
      "[292]\teval-error:0.149437\ttrain-error:0.006934\n",
      "[293]\teval-error:0.149750\ttrain-error:0.006846\n",
      "[294]\teval-error:0.149942\ttrain-error:0.006775\n",
      "[295]\teval-error:0.149726\ttrain-error:0.006739\n",
      "[296]\teval-error:0.149798\ttrain-error:0.006668\n",
      "[297]\teval-error:0.149629\ttrain-error:0.006588\n",
      "[298]\teval-error:0.149485\ttrain-error:0.006490\n",
      "[299]\teval-error:0.149076\ttrain-error:0.006375\n",
      "[300]\teval-error:0.149003\ttrain-error:0.006366\n",
      "[301]\teval-error:0.147944\ttrain-error:0.006340\n",
      "[302]\teval-error:0.147920\ttrain-error:0.006286\n",
      "[303]\teval-error:0.147342\ttrain-error:0.006100\n",
      "[304]\teval-error:0.147679\ttrain-error:0.006029\n",
      "[305]\teval-error:0.147149\ttrain-error:0.006091\n",
      "[306]\teval-error:0.147005\ttrain-error:0.006020\n",
      "[307]\teval-error:0.146885\ttrain-error:0.006002\n",
      "[308]\teval-error:0.146909\ttrain-error:0.005922\n",
      "[309]\teval-error:0.147342\ttrain-error:0.005869\n",
      "[310]\teval-error:0.146644\ttrain-error:0.005833\n",
      "[311]\teval-error:0.146909\ttrain-error:0.005745\n",
      "[312]\teval-error:0.146379\ttrain-error:0.005718\n",
      "[313]\teval-error:0.147101\ttrain-error:0.005709\n",
      "[314]\teval-error:0.146861\ttrain-error:0.005709\n",
      "[315]\teval-error:0.146740\ttrain-error:0.005700\n",
      "[316]\teval-error:0.145801\ttrain-error:0.005700\n",
      "[317]\teval-error:0.146186\ttrain-error:0.005647\n",
      "[318]\teval-error:0.145392\ttrain-error:0.005611\n",
      "[319]\teval-error:0.145825\ttrain-error:0.005540\n",
      "[320]\teval-error:0.145705\ttrain-error:0.005487\n",
      "[321]\teval-error:0.144742\ttrain-error:0.005452\n",
      "[322]\teval-error:0.143779\ttrain-error:0.005416\n",
      "[323]\teval-error:0.143490\ttrain-error:0.005256\n",
      "[324]\teval-error:0.143466\ttrain-error:0.005239\n",
      "[325]\teval-error:0.142936\ttrain-error:0.005185\n",
      "[326]\teval-error:0.142720\ttrain-error:0.005176\n",
      "[327]\teval-error:0.142888\ttrain-error:0.005105\n",
      "[328]\teval-error:0.143008\ttrain-error:0.005070\n",
      "[329]\teval-error:0.142912\ttrain-error:0.005008\n",
      "[330]\teval-error:0.142888\ttrain-error:0.004990\n",
      "[331]\teval-error:0.142142\ttrain-error:0.004874\n",
      "[332]\teval-error:0.141781\ttrain-error:0.004830\n",
      "[333]\teval-error:0.142094\ttrain-error:0.004759\n",
      "[334]\teval-error:0.141564\ttrain-error:0.004706\n",
      "[335]\teval-error:0.141179\ttrain-error:0.004679\n",
      "[336]\teval-error:0.140914\ttrain-error:0.004653\n",
      "[337]\teval-error:0.140745\ttrain-error:0.004661\n",
      "[338]\teval-error:0.140842\ttrain-error:0.004617\n",
      "[339]\teval-error:0.140866\ttrain-error:0.004608\n",
      "[340]\teval-error:0.140769\ttrain-error:0.004573\n",
      "[341]\teval-error:0.140577\ttrain-error:0.004555\n",
      "[342]\teval-error:0.140505\ttrain-error:0.004537\n",
      "[343]\teval-error:0.140360\ttrain-error:0.004555\n",
      "[344]\teval-error:0.140168\ttrain-error:0.004528\n",
      "[345]\teval-error:0.139927\ttrain-error:0.004510\n",
      "[346]\teval-error:0.140216\ttrain-error:0.004493\n",
      "[347]\teval-error:0.140240\ttrain-error:0.004484\n",
      "[348]\teval-error:0.140240\ttrain-error:0.004475\n",
      "[349]\teval-error:0.140023\ttrain-error:0.004466\n",
      "[350]\teval-error:0.139373\ttrain-error:0.004413\n",
      "[351]\teval-error:0.139180\ttrain-error:0.004395\n",
      "[352]\teval-error:0.139060\ttrain-error:0.004360\n",
      "[353]\teval-error:0.138434\ttrain-error:0.004351\n",
      "[354]\teval-error:0.138314\ttrain-error:0.004324\n",
      "[355]\teval-error:0.137953\ttrain-error:0.004288\n",
      "[356]\teval-error:0.138362\ttrain-error:0.004280\n",
      "[357]\teval-error:0.138530\ttrain-error:0.004244\n",
      "[358]\teval-error:0.138867\ttrain-error:0.004217\n",
      "[359]\teval-error:0.138193\ttrain-error:0.004173\n",
      "[360]\teval-error:0.137543\ttrain-error:0.004129\n",
      "[361]\teval-error:0.138314\ttrain-error:0.004111\n",
      "[362]\teval-error:0.138675\ttrain-error:0.004093\n",
      "[363]\teval-error:0.138386\ttrain-error:0.004075\n",
      "[364]\teval-error:0.138242\ttrain-error:0.004067\n",
      "[365]\teval-error:0.137712\ttrain-error:0.004075\n",
      "[366]\teval-error:0.137447\ttrain-error:0.004075\n",
      "[367]\teval-error:0.137543\ttrain-error:0.004058\n",
      "[368]\teval-error:0.137591\ttrain-error:0.004058\n",
      "[369]\teval-error:0.136797\ttrain-error:0.004031\n",
      "[370]\teval-error:0.136219\ttrain-error:0.004013\n",
      "[371]\teval-error:0.135978\ttrain-error:0.004013\n",
      "[372]\teval-error:0.135641\ttrain-error:0.003969\n",
      "[373]\teval-error:0.135641\ttrain-error:0.003978\n",
      "[374]\teval-error:0.134871\ttrain-error:0.003969\n",
      "[375]\teval-error:0.134341\ttrain-error:0.003933\n",
      "[376]\teval-error:0.133354\ttrain-error:0.003969\n",
      "[377]\teval-error:0.134076\ttrain-error:0.003916\n",
      "[378]\teval-error:0.134317\ttrain-error:0.003898\n",
      "[379]\teval-error:0.134510\ttrain-error:0.003836\n",
      "[380]\teval-error:0.134871\ttrain-error:0.003827\n",
      "[381]\teval-error:0.134197\ttrain-error:0.003818\n",
      "[382]\teval-error:0.134582\ttrain-error:0.003818\n",
      "[383]\teval-error:0.134702\ttrain-error:0.003809\n",
      "[384]\teval-error:0.134438\ttrain-error:0.003800\n",
      "[385]\teval-error:0.133306\ttrain-error:0.003800\n",
      "[386]\teval-error:0.133571\ttrain-error:0.003791\n",
      "[387]\teval-error:0.133282\ttrain-error:0.003782\n",
      "[388]\teval-error:0.133113\ttrain-error:0.003782\n",
      "[389]\teval-error:0.133354\ttrain-error:0.003782\n",
      "[390]\teval-error:0.132632\ttrain-error:0.003774\n",
      "[391]\teval-error:0.132608\ttrain-error:0.003774\n",
      "[392]\teval-error:0.132656\ttrain-error:0.003738\n",
      "[393]\teval-error:0.132006\ttrain-error:0.003729\n",
      "[394]\teval-error:0.131645\ttrain-error:0.003738\n",
      "[395]\teval-error:0.132006\ttrain-error:0.003738\n",
      "[396]\teval-error:0.132415\ttrain-error:0.003738\n",
      "[397]\teval-error:0.131886\ttrain-error:0.003738\n",
      "[398]\teval-error:0.131693\ttrain-error:0.003738\n",
      "[399]\teval-error:0.131260\ttrain-error:0.003738\n"
     ]
    }
   ],
   "source": [
    "num_round = 400\n",
    "bst = xgb.train( param, dtrain, num_round, evallist )"
   ]
  },
  {
   "cell_type": "code",
   "execution_count": 30,
   "metadata": {
    "collapsed": false,
    "scrolled": true
   },
   "outputs": [
    {
     "name": "stderr",
     "output_type": "stream",
     "text": [
      "Will train until cv error hasn't decreased in 5 rounds.\n",
      "[0]\tcv-test-auc:0.6444712+0.00329681727731\tcv-train-auc:0.6605436+0.0045101052582\n",
      "[1]\tcv-test-auc:0.6826206+0.00590037139848\tcv-train-auc:0.7083654+0.00686434304504\n",
      "[2]\tcv-test-auc:0.6961196+0.00776884801241\tcv-train-auc:0.7282232+0.0103359824574\n",
      "[3]\tcv-test-auc:0.7117018+0.00651794327683\tcv-train-auc:0.7468652+0.00830747175499\n",
      "[4]\tcv-test-auc:0.7231412+0.00676834932314\tcv-train-auc:0.762578+0.00829820337181\n",
      "[5]\tcv-test-auc:0.732629+0.00609884585803\tcv-train-auc:0.7743148+0.00838997872226\n",
      "[6]\tcv-test-auc:0.7403924+0.00685325127512\tcv-train-auc:0.7852554+0.0112800877585\n",
      "[7]\tcv-test-auc:0.7452848+0.00598923158343\tcv-train-auc:0.7932248+0.0114380644936\n",
      "[8]\tcv-test-auc:0.7503126+0.00544879265893\tcv-train-auc:0.8006922+0.0105570273922\n",
      "[9]\tcv-test-auc:0.7565064+0.00473033159937\tcv-train-auc:0.8097298+0.00944158695136\n",
      "[10]\tcv-test-auc:0.7619796+0.00331857473021\tcv-train-auc:0.816801+0.00883543343589\n",
      "[11]\tcv-test-auc:0.7669514+0.00208088996345\tcv-train-auc:0.823977+0.00797448548811\n",
      "[12]\tcv-test-auc:0.7719008+0.00322016175991\tcv-train-auc:0.8316454+0.0075149941477\n",
      "[13]\tcv-test-auc:0.7759876+0.00220770565067\tcv-train-auc:0.837175+0.00754735659685\n",
      "[14]\tcv-test-auc:0.7801088+0.00267753509034\tcv-train-auc:0.8429846+0.00730498291853\n",
      "[15]\tcv-test-auc:0.7834404+0.00289936597207\tcv-train-auc:0.8487954+0.00676769800154\n",
      "[16]\tcv-test-auc:0.7880158+0.00310561848269\tcv-train-auc:0.8545796+0.00631596658003\n",
      "[17]\tcv-test-auc:0.7915606+0.00434356570573\tcv-train-auc:0.8601292+0.0065005944159\n",
      "[18]\tcv-test-auc:0.7944726+0.00461936890062\tcv-train-auc:0.8644184+0.00606915317322\n",
      "[19]\tcv-test-auc:0.7985122+0.00391854816992\tcv-train-auc:0.8693512+0.00505281467699\n",
      "[20]\tcv-test-auc:0.8020166+0.00356460654771\tcv-train-auc:0.8736766+0.00506775135933\n",
      "[21]\tcv-test-auc:0.804766+0.00330126684774\tcv-train-auc:0.8781466+0.00463363004997\n",
      "[22]\tcv-test-auc:0.8074042+0.00307757602018\tcv-train-auc:0.8824794+0.00425624095183\n",
      "[23]\tcv-test-auc:0.8099534+0.00339287150361\tcv-train-auc:0.8867716+0.00395394464301\n",
      "[24]\tcv-test-auc:0.8123244+0.00360124270773\tcv-train-auc:0.8899782+0.00369365544684\n",
      "[25]\tcv-test-auc:0.8144986+0.0035435487636\tcv-train-auc:0.8932038+0.00378781638415\n",
      "[26]\tcv-test-auc:0.8167214+0.00323083299476\tcv-train-auc:0.8958948+0.00358915663631\n",
      "[27]\tcv-test-auc:0.8182724+0.00343565007531\tcv-train-auc:0.8987152+0.00343764392571\n",
      "[28]\tcv-test-auc:0.8204446+0.00311917518585\tcv-train-auc:0.9014982+0.00331079865893\n",
      "[29]\tcv-test-auc:0.8224758+0.0028293929667\tcv-train-auc:0.9045728+0.00312507186477\n",
      "[30]\tcv-test-auc:0.8247942+0.00253727912536\tcv-train-auc:0.9084104+0.00203651463044\n",
      "[31]\tcv-test-auc:0.8271974+0.00310318375866\tcv-train-auc:0.911536+0.00154550354254\n",
      "[32]\tcv-test-auc:0.8290058+0.00396003840385\tcv-train-auc:0.9143398+0.00135996226418\n",
      "[33]\tcv-test-auc:0.8311744+0.0036726466533\tcv-train-auc:0.917218+0.00169218840559\n",
      "[34]\tcv-test-auc:0.8324706+0.00384480754265\tcv-train-auc:0.919572+0.00144432004763\n",
      "[35]\tcv-test-auc:0.8341552+0.00398453306675\tcv-train-auc:0.9219552+0.00148856594076\n",
      "[36]\tcv-test-auc:0.8360084+0.00416467355744\tcv-train-auc:0.9244054+0.00159501092159\n",
      "[37]\tcv-test-auc:0.8373642+0.00454484043284\tcv-train-auc:0.9267664+0.00132823380472\n",
      "[38]\tcv-test-auc:0.8390968+0.00487584410743\tcv-train-auc:0.9288296+0.00133293864825\n",
      "[39]\tcv-test-auc:0.8404538+0.0046939727055\tcv-train-auc:0.930712+0.00141988224864\n",
      "[40]\tcv-test-auc:0.8425084+0.00463668957771\tcv-train-auc:0.933021+0.00120841714652\n",
      "[41]\tcv-test-auc:0.8430346+0.00458534424444\tcv-train-auc:0.93469+0.00117504655227\n",
      "[42]\tcv-test-auc:0.8449694+0.00416882681818\tcv-train-auc:0.9367884+0.00188509740862\n",
      "[43]\tcv-test-auc:0.8464664+0.00431414888941\tcv-train-auc:0.9383472+0.00219551264173\n",
      "[44]\tcv-test-auc:0.8476236+0.00413842006568\tcv-train-auc:0.940247+0.00260436925185\n",
      "[45]\tcv-test-auc:0.848885+0.00427306157222\tcv-train-auc:0.9419116+0.0027255178297\n",
      "[46]\tcv-test-auc:0.850054+0.00399428782138\tcv-train-auc:0.9435576+0.00263387073335\n",
      "[47]\tcv-test-auc:0.8511636+0.00419496472452\tcv-train-auc:0.9449714+0.00274960597905\n",
      "[48]\tcv-test-auc:0.8523154+0.00407928050519\tcv-train-auc:0.9466086+0.00284722837862\n",
      "[49]\tcv-test-auc:0.8534102+0.00412465578685\tcv-train-auc:0.9481208+0.00269654478175\n",
      "[50]\tcv-test-auc:0.8544138+0.00400485602238\tcv-train-auc:0.949609+0.00270285930081\n",
      "[51]\tcv-test-auc:0.8553832+0.00382137521843\tcv-train-auc:0.9509128+0.0025970738457\n",
      "[52]\tcv-test-auc:0.8566864+0.00413643530591\tcv-train-auc:0.9523728+0.00305156303556\n",
      "[53]\tcv-test-auc:0.8576782+0.00433304038292\tcv-train-auc:0.9534838+0.0029614578437\n",
      "[54]\tcv-test-auc:0.8590026+0.00380754800889\tcv-train-auc:0.954976+0.00292775934803\n",
      "[55]\tcv-test-auc:0.8598754+0.00381437830321\tcv-train-auc:0.956397+0.0027659383218\n",
      "[56]\tcv-test-auc:0.8607204+0.00367740379072\tcv-train-auc:0.957688+0.00273504113315\n",
      "[57]\tcv-test-auc:0.8615326+0.0041489889178\tcv-train-auc:0.9586682+0.00272758995452\n",
      "[58]\tcv-test-auc:0.8627312+0.00474074603412\tcv-train-auc:0.9601206+0.00258685265139\n",
      "[59]\tcv-test-auc:0.8636256+0.00457078770454\tcv-train-auc:0.9613256+0.00232254598232\n",
      "[60]\tcv-test-auc:0.8646042+0.00419308389613\tcv-train-auc:0.9624766+0.00229598053999\n",
      "[61]\tcv-test-auc:0.865443+0.00408250864053\tcv-train-auc:0.9635158+0.00215043952717\n",
      "[62]\tcv-test-auc:0.8660898+0.00422296982703\tcv-train-auc:0.9644804+0.00197581118531\n",
      "[63]\tcv-test-auc:0.866729+0.00403952992315\tcv-train-auc:0.9656124+0.00174741553158\n",
      "[64]\tcv-test-auc:0.8676674+0.00374902881291\tcv-train-auc:0.966739+0.00165893206612\n",
      "[65]\tcv-test-auc:0.868643+0.00354595250955\tcv-train-auc:0.9676674+0.00161259897061\n",
      "[66]\tcv-test-auc:0.8700398+0.00310399603093\tcv-train-auc:0.96865+0.00147553922347\n",
      "[67]\tcv-test-auc:0.8707486+0.00321343956533\tcv-train-auc:0.9695786+0.00130912010144\n",
      "[68]\tcv-test-auc:0.8712282+0.00343020404058\tcv-train-auc:0.9704186+0.00136838044417\n",
      "[69]\tcv-test-auc:0.8716324+0.00340482796041\tcv-train-auc:0.9712408+0.00135225950172\n",
      "[70]\tcv-test-auc:0.872188+0.0033298088834\tcv-train-auc:0.9720988+0.00137115694215\n",
      "[71]\tcv-test-auc:0.8727404+0.00311547380666\tcv-train-auc:0.9729448+0.00121064600937\n",
      "[72]\tcv-test-auc:0.8734404+0.00326028014747\tcv-train-auc:0.973619+0.00111372097044\n",
      "[73]\tcv-test-auc:0.8739328+0.00341264691405\tcv-train-auc:0.9743924+0.000913603546403\n",
      "[74]\tcv-test-auc:0.8746786+0.00361648036632\tcv-train-auc:0.9752558+0.000824412129945\n",
      "[75]\tcv-test-auc:0.8753472+0.0034769049685\tcv-train-auc:0.9759916+0.000787314829023\n",
      "[76]\tcv-test-auc:0.875792+0.00348949532168\tcv-train-auc:0.9766764+0.0008347288422\n",
      "[77]\tcv-test-auc:0.8764886+0.00350308633065\tcv-train-auc:0.9773704+0.000861488618613\n",
      "[78]\tcv-test-auc:0.8772326+0.00366361502344\tcv-train-auc:0.9779556+0.000760414255521\n",
      "[79]\tcv-test-auc:0.8777324+0.00344163691287\tcv-train-auc:0.9785408+0.000747744715795\n",
      "[80]\tcv-test-auc:0.8779932+0.00334387173199\tcv-train-auc:0.979066+0.000718613387017\n",
      "[81]\tcv-test-auc:0.8784408+0.00318975217846\tcv-train-auc:0.9796978+0.000751341573454\n",
      "[82]\tcv-test-auc:0.8789042+0.00332613008765\tcv-train-auc:0.9803302+0.000761365982954\n",
      "[83]\tcv-test-auc:0.8792688+0.00350079039075\tcv-train-auc:0.9808484+0.000772501288025\n",
      "[84]\tcv-test-auc:0.8800094+0.00375536643219\tcv-train-auc:0.9814458+0.000675484833286\n",
      "[85]\tcv-test-auc:0.8801028+0.00358697718978\tcv-train-auc:0.9819326+0.000706749347364\n",
      "[86]\tcv-test-auc:0.8809006+0.00379009929158\tcv-train-auc:0.9824578+0.000723844568951\n",
      "[87]\tcv-test-auc:0.8811778+0.00367913731193\tcv-train-auc:0.9829794+0.000723598120506\n",
      "[88]\tcv-test-auc:0.881732+0.00378615757728\tcv-train-auc:0.9835438+0.000800442477633\n",
      "[89]\tcv-test-auc:0.8820838+0.00363403557495\tcv-train-auc:0.9839682+0.000721058499707\n",
      "[90]\tcv-test-auc:0.8823396+0.00354049819093\tcv-train-auc:0.9843996+0.000726867140542\n",
      "[91]\tcv-test-auc:0.8827324+0.00349258486511\tcv-train-auc:0.9847606+0.000731747934743\n",
      "[92]\tcv-test-auc:0.8829976+0.003729348608\tcv-train-auc:0.9852272+0.000623342730767\n",
      "[93]\tcv-test-auc:0.8831942+0.00372498216908\tcv-train-auc:0.9856478+0.000629464343708\n",
      "[94]\tcv-test-auc:0.8836122+0.00361019946263\tcv-train-auc:0.986036+0.000634855259095\n",
      "[95]\tcv-test-auc:0.8840238+0.00365527369153\tcv-train-auc:0.9864376+0.000629531762503\n",
      "[96]\tcv-test-auc:0.884136+0.00362929888546\tcv-train-auc:0.9867446+0.000621525092012\n",
      "[97]\tcv-test-auc:0.8844616+0.00384681486947\tcv-train-auc:0.9871528+0.000592346992902\n",
      "[98]\tcv-test-auc:0.8846658+0.00387294282943\tcv-train-auc:0.987611+0.000566975837228\n",
      "[99]\tcv-test-auc:0.8847824+0.00380169575847\tcv-train-auc:0.9880856+0.000599184979785\n",
      "[100]\tcv-test-auc:0.885241+0.00378091861854\tcv-train-auc:0.9884688+0.000618503160865\n",
      "[101]\tcv-test-auc:0.885669+0.00340787036138\tcv-train-auc:0.9888576+0.00061751456663\n",
      "[102]\tcv-test-auc:0.8861752+0.00338588897633\tcv-train-auc:0.9891936+0.000632721297255\n",
      "[103]\tcv-test-auc:0.886371+0.00332861250373\tcv-train-auc:0.989495+0.000677283987704\n",
      "[104]\tcv-test-auc:0.8863892+0.00337801748959\tcv-train-auc:0.9897726+0.000624879700422\n",
      "[105]\tcv-test-auc:0.886878+0.00350961656025\tcv-train-auc:0.9901134+0.000625312273988\n",
      "[106]\tcv-test-auc:0.8871754+0.00335371833045\tcv-train-auc:0.990411+0.000642603454706\n",
      "[107]\tcv-test-auc:0.8874442+0.00332148294591\tcv-train-auc:0.9906982+0.000634379823134\n",
      "[108]\tcv-test-auc:0.8877692+0.00328601530124\tcv-train-auc:0.9910048+0.000570341792261\n",
      "[109]\tcv-test-auc:0.8880412+0.00321049394331\tcv-train-auc:0.991236+0.000544100725969\n",
      "[110]\tcv-test-auc:0.8883014+0.00304514857437\tcv-train-auc:0.9915358+0.000568888881944\n",
      "[111]\tcv-test-auc:0.8885788+0.00328913249353\tcv-train-auc:0.9917404+0.000540294216145\n",
      "[112]\tcv-test-auc:0.8888028+0.00317426989401\tcv-train-auc:0.992006+0.000582635391991\n",
      "[113]\tcv-test-auc:0.8892306+0.00334606853486\tcv-train-auc:0.9923136+0.00062297691771\n",
      "[114]\tcv-test-auc:0.8894912+0.00343363209444\tcv-train-auc:0.9925464+0.00063065064814\n",
      "[115]\tcv-test-auc:0.8894828+0.00322922699109\tcv-train-auc:0.9927862+0.000594416486985\n",
      "[116]\tcv-test-auc:0.8899318+0.00291511367874\tcv-train-auc:0.993034+0.000578009342485\n",
      "[117]\tcv-test-auc:0.8901072+0.00301958297783\tcv-train-auc:0.9932218+0.000573289246367\n",
      "[118]\tcv-test-auc:0.8904064+0.00312623150774\tcv-train-auc:0.9934618+0.000480637659781\n",
      "[119]\tcv-test-auc:0.8907944+0.00303464828934\tcv-train-auc:0.9936848+0.000468619419145\n",
      "[120]\tcv-test-auc:0.8911884+0.00302529605824\tcv-train-auc:0.9939094+0.000454591068984\n",
      "[121]\tcv-test-auc:0.8913382+0.00302110783654\tcv-train-auc:0.9941232+0.000499417020134\n",
      "[122]\tcv-test-auc:0.8916122+0.00301505279556\tcv-train-auc:0.994285+0.00048885989813\n",
      "[123]\tcv-test-auc:0.8918218+0.00301372343788\tcv-train-auc:0.9944452+0.000448897048331\n",
      "[124]\tcv-test-auc:0.8922838+0.00301608052943\tcv-train-auc:0.9946432+0.000401462526271\n",
      "[125]\tcv-test-auc:0.8924432+0.00303486417488\tcv-train-auc:0.994799+0.000393220548802\n",
      "[126]\tcv-test-auc:0.8924916+0.00304851849921\tcv-train-auc:0.9949482+0.000380413143832\n",
      "[127]\tcv-test-auc:0.8927424+0.00336745717716\tcv-train-auc:0.9951264+0.000367138992753\n",
      "[128]\tcv-test-auc:0.8929174+0.0034336806258\tcv-train-auc:0.9952896+0.000322230104118\n",
      "[129]\tcv-test-auc:0.8930986+0.00329146038105\tcv-train-auc:0.9954284+0.00030824444845\n",
      "[130]\tcv-test-auc:0.8931588+0.00344754285833\tcv-train-auc:0.9955626+0.000292217453278\n",
      "[131]\tcv-test-auc:0.8932872+0.0035100257207\tcv-train-auc:0.9957162+0.000269312012357\n",
      "[132]\tcv-test-auc:0.8935146+0.00350711041172\tcv-train-auc:0.9958738+0.000269283048111\n",
      "[133]\tcv-test-auc:0.8936718+0.00361484646424\tcv-train-auc:0.9960052+0.000253979054254\n",
      "[134]\tcv-test-auc:0.894039+0.00371115701635\tcv-train-auc:0.9961846+0.000264808308027\n",
      "[135]\tcv-test-auc:0.8942532+0.00362870149778\tcv-train-auc:0.9963522+0.000252272392465\n",
      "[136]\tcv-test-auc:0.894305+0.00345580473985\tcv-train-auc:0.9964764+0.000238314582013\n",
      "[137]\tcv-test-auc:0.894534+0.00346005439264\tcv-train-auc:0.9965746+0.000232057406691\n",
      "[138]\tcv-test-auc:0.8946322+0.00346257727134\tcv-train-auc:0.9966708+0.000239161368118\n",
      "[139]\tcv-test-auc:0.8946052+0.00367750760162\tcv-train-auc:0.9967712+0.000226485672836\n",
      "[140]\tcv-test-auc:0.8948386+0.00371248739257\tcv-train-auc:0.996897+0.000209216634138\n",
      "[141]\tcv-test-auc:0.8949632+0.00364458905228\tcv-train-auc:0.9969908+0.000208006153755\n",
      "[142]\tcv-test-auc:0.8949836+0.00356059430994\tcv-train-auc:0.9970946+0.000190791614071\n",
      "[143]\tcv-test-auc:0.895219+0.00357485954969\tcv-train-auc:0.997173+0.000191096834092\n",
      "[144]\tcv-test-auc:0.8955486+0.00369834333723\tcv-train-auc:0.9972884+0.000176778505481\n",
      "[145]\tcv-test-auc:0.8956794+0.0036451591241\tcv-train-auc:0.9973896+0.000172574157973\n",
      "[146]\tcv-test-auc:0.8957838+0.0036686695354\tcv-train-auc:0.9974604+0.000171278253144\n",
      "[147]\tcv-test-auc:0.8960884+0.00360444096081\tcv-train-auc:0.9975328+0.000182345167197\n",
      "[148]\tcv-test-auc:0.8961758+0.00363638025514\tcv-train-auc:0.9976134+0.00018970988377\n",
      "[149]\tcv-test-auc:0.8961594+0.00356744186218\tcv-train-auc:0.997705+0.000184191205002\n",
      "[150]\tcv-test-auc:0.8962066+0.00350520696108\tcv-train-auc:0.9977596+0.000185401833864\n",
      "[151]\tcv-test-auc:0.896318+0.00355867126889\tcv-train-auc:0.9978234+0.00018212369423\n",
      "[152]\tcv-test-auc:0.89625+0.00361255865004\tcv-train-auc:0.9978916+0.000179366217555\n",
      "[153]\tcv-test-auc:0.8962258+0.00349930846883\tcv-train-auc:0.997972+0.000166092745176\n",
      "[154]\tcv-test-auc:0.8964952+0.00343274021155\tcv-train-auc:0.9980356+0.000161999506172\n",
      "[155]\tcv-test-auc:0.8966386+0.003572308139\tcv-train-auc:0.998105+0.000143023075061\n",
      "[156]\tcv-test-auc:0.8965982+0.00351141290081\tcv-train-auc:0.998169+0.000144748056982\n",
      "[157]\tcv-test-auc:0.8963984+0.00358532830296\tcv-train-auc:0.9982462+0.000152692370471\n",
      "[158]\tcv-test-auc:0.896424+0.0035929999165\tcv-train-auc:0.998304+0.000152932664922\n",
      "[159]\tcv-test-auc:0.8966894+0.00321197917801\tcv-train-auc:0.9983592+0.000147711069321\n",
      "[160]\tcv-test-auc:0.8969308+0.00316045372692\tcv-train-auc:0.9984144+0.000144649369166\n",
      "[161]\tcv-test-auc:0.8971086+0.00320139560817\tcv-train-auc:0.9984712+0.000128239463505\n",
      "[162]\tcv-test-auc:0.8971274+0.00316435387402\tcv-train-auc:0.9985186+0.000124332779266\n",
      "[163]\tcv-test-auc:0.8972362+0.00314496113807\tcv-train-auc:0.9985612+0.000123792406875\n",
      "[164]\tcv-test-auc:0.8972448+0.00318363649935\tcv-train-auc:0.9985958+0.000128020935788\n",
      "[165]\tcv-test-auc:0.8973158+0.00326302837254\tcv-train-auc:0.998648+0.00011312294197\n",
      "[166]\tcv-test-auc:0.897434+0.00333051833804\tcv-train-auc:0.9987104+0.000111600358422\n",
      "[167]\tcv-test-auc:0.8975434+0.00346372866143\tcv-train-auc:0.9987546+0.000112670493032\n",
      "[168]\tcv-test-auc:0.8975502+0.00348017139808\tcv-train-auc:0.998817+9.35414346693e-05\n",
      "[169]\tcv-test-auc:0.8975602+0.00326581391999\tcv-train-auc:0.9988518+8.82142845576e-05\n",
      "[170]\tcv-test-auc:0.897433+0.0035252254396\tcv-train-auc:0.9988984+7.78218478321e-05\n",
      "[171]\tcv-test-auc:0.8974958+0.00352841161998\tcv-train-auc:0.9989232+7.57031042957e-05\n",
      "[172]\tcv-test-auc:0.8977092+0.00342580883296\tcv-train-auc:0.998956+6.42121483833e-05\n",
      "[173]\tcv-test-auc:0.8978174+0.0033442209616\tcv-train-auc:0.9990052+6.03801291817e-05\n",
      "[174]\tcv-test-auc:0.8978346+0.00330632966293\tcv-train-auc:0.9990294+5.98351067518e-05\n",
      "[175]\tcv-test-auc:0.898027+0.00322177510078\tcv-train-auc:0.9990646+5.84896572054e-05\n",
      "[176]\tcv-test-auc:0.8983204+0.00332735946961\tcv-train-auc:0.9990934+6.58926399532e-05\n",
      "[177]\tcv-test-auc:0.8983822+0.00312003194855\tcv-train-auc:0.999122+5.96187889847e-05\n",
      "[178]\tcv-test-auc:0.8984768+0.0031756101398\tcv-train-auc:0.9991504+5.41833922895e-05\n",
      "[179]\tcv-test-auc:0.8987008+0.00313396345863\tcv-train-auc:0.999186+6.44670458452e-05\n",
      "[180]\tcv-test-auc:0.8986632+0.00324117209663\tcv-train-auc:0.9992202+6.55573031782e-05\n",
      "[181]\tcv-test-auc:0.8987396+0.00330811043347\tcv-train-auc:0.9992498+7.25214451042e-05\n",
      "[182]\tcv-test-auc:0.8988916+0.00342328839568\tcv-train-auc:0.9992714+6.66351258722e-05\n",
      "[183]\tcv-test-auc:0.8990166+0.00352471585238\tcv-train-auc:0.9992998+6.42476458713e-05\n",
      "[184]\tcv-test-auc:0.8991512+0.00339837587091\tcv-train-auc:0.9993246+6.61229158462e-05\n",
      "[185]\tcv-test-auc:0.8993766+0.0033768658013\tcv-train-auc:0.9993494+6.91306010389e-05\n",
      "[186]\tcv-test-auc:0.8993468+0.0033048963312\tcv-train-auc:0.9993758+6.94676903315e-05\n",
      "[187]\tcv-test-auc:0.8993072+0.00332390092512\tcv-train-auc:0.9993952+7.27224862061e-05\n",
      "[188]\tcv-test-auc:0.899408+0.00324948211258\tcv-train-auc:0.999418+7.27213861254e-05\n",
      "[189]\tcv-test-auc:0.8992326+0.00324104727519\tcv-train-auc:0.999437+7.48438374217e-05\n",
      "[190]\tcv-test-auc:0.8994614+0.00313735510263\tcv-train-auc:0.9994602+7.26454403249e-05\n",
      "[191]\tcv-test-auc:0.8995236+0.00298569332652\tcv-train-auc:0.999475+6.79058171293e-05\n",
      "[192]\tcv-test-auc:0.8994742+0.00306939436371\tcv-train-auc:0.999496+7.25037930042e-05\n",
      "[193]\tcv-test-auc:0.8995042+0.00296560694631\tcv-train-auc:0.9995108+7.06438957023e-05\n",
      "[194]\tcv-test-auc:0.8995158+0.00303053674454\tcv-train-auc:0.9995266+7.18904722477e-05\n",
      "[195]\tcv-test-auc:0.8995764+0.00302937964607\tcv-train-auc:0.9995426+6.80399882422e-05\n",
      "[196]\tcv-test-auc:0.8995394+0.00306748878401\tcv-train-auc:0.9995558+6.84263107291e-05\n",
      "[197]\tcv-test-auc:0.8995554+0.00298030834646\tcv-train-auc:0.9995722+7.14546009715e-05\n",
      "[198]\tcv-test-auc:0.8996576+0.00287662014176\tcv-train-auc:0.9995832+7.01238903656e-05\n",
      "[199]\tcv-test-auc:0.8999932+0.00303833463595\tcv-train-auc:0.9995986+6.57315753653e-05\n",
      "[200]\tcv-test-auc:0.9001306+0.00299719606299\tcv-train-auc:0.99961+6.72101182859e-05\n",
      "[201]\tcv-test-auc:0.9002738+0.0031186213236\tcv-train-auc:0.999625+6.29698340477e-05\n",
      "[202]\tcv-test-auc:0.9001604+0.00303239012002\tcv-train-auc:0.9996416+6.27808888118e-05\n",
      "[203]\tcv-test-auc:0.9004108+0.00312493317689\tcv-train-auc:0.9996544+6.20793041198e-05\n",
      "[204]\tcv-test-auc:0.9004186+0.00311778867789\tcv-train-auc:0.9996678+5.49632604564e-05\n",
      "[205]\tcv-test-auc:0.900502+0.00322708977253\tcv-train-auc:0.999675+5.44316084642e-05\n",
      "[206]\tcv-test-auc:0.900509+0.00319088808954\tcv-train-auc:0.999683+5.55301719789e-05\n",
      "[207]\tcv-test-auc:0.9005126+0.00332232012907\tcv-train-auc:0.9996934+5.21329070741e-05\n",
      "[208]\tcv-test-auc:0.9005666+0.00324352108672\tcv-train-auc:0.9997086+4.58109157298e-05\n",
      "[209]\tcv-test-auc:0.9006508+0.00326299748084\tcv-train-auc:0.999722+5.19153156593e-05\n",
      "[210]\tcv-test-auc:0.9008756+0.0031947718917\tcv-train-auc:0.9997336+5.19253310052e-05\n",
      "[211]\tcv-test-auc:0.900806+0.00311734682062\tcv-train-auc:0.9997456+5.207148932e-05\n",
      "[212]\tcv-test-auc:0.9008676+0.00307365590787\tcv-train-auc:0.999754+5.22187705715e-05\n",
      "[213]\tcv-test-auc:0.9008084+0.00316070805991\tcv-train-auc:0.9997628+4.73683438596e-05\n",
      "[214]\tcv-test-auc:0.9008974+0.00305681727292\tcv-train-auc:0.999773+4.45735347488e-05\n",
      "[215]\tcv-test-auc:0.9008466+0.00296289004858\tcv-train-auc:0.9997806+4.49915547631e-05\n",
      "[216]\tcv-test-auc:0.9008482+0.00299137970843\tcv-train-auc:0.9997904+4.45807133187e-05\n",
      "[217]\tcv-test-auc:0.900948+0.00300745354079\tcv-train-auc:0.9998032+3.41666504065e-05\n",
      "[218]\tcv-test-auc:0.9009894+0.00291317164616\tcv-train-auc:0.9998122+3.36e-05\n",
      "[219]\tcv-test-auc:0.9009918+0.00298930569865\tcv-train-auc:0.9998182+3.23382126903e-05\n",
      "[220]\tcv-test-auc:0.9011016+0.00293373758881\tcv-train-auc:0.9998252+2.85965032827e-05\n",
      "[221]\tcv-test-auc:0.901193+0.00287696138313\tcv-train-auc:0.999832+2.86635657238e-05\n",
      "[222]\tcv-test-auc:0.9012022+0.00287130844042\tcv-train-auc:0.9998382+2.80385448981e-05\n",
      "[223]\tcv-test-auc:0.9010534+0.00286723522579\tcv-train-auc:0.9998442+2.83294899354e-05\n",
      "[224]\tcv-test-auc:0.9012078+0.00287340323658\tcv-train-auc:0.999848+2.87054001888e-05\n",
      "[225]\tcv-test-auc:0.9013038+0.00286115245312\tcv-train-auc:0.9998516+2.81538629676e-05\n",
      "[226]\tcv-test-auc:0.9014928+0.00294855553789\tcv-train-auc:0.9998568+2.63241334141e-05\n",
      "[227]\tcv-test-auc:0.901468+0.00294066162623\tcv-train-auc:0.9998632+2.18851547858e-05\n",
      "[228]\tcv-test-auc:0.9015222+0.00301546543008\tcv-train-auc:0.999865+2.18723569832e-05\n",
      "[229]\tcv-test-auc:0.9015542+0.00298080669618\tcv-train-auc:0.9998692+2.04098015669e-05\n",
      "[230]\tcv-test-auc:0.9015258+0.00295671239048\tcv-train-auc:0.999874+2.12320512433e-05\n",
      "[231]\tcv-test-auc:0.9015568+0.00292487725554\tcv-train-auc:0.9998784+2.06842935582e-05\n",
      "[232]\tcv-test-auc:0.9016464+0.00294482227647\tcv-train-auc:0.9998812+2.04e-05\n",
      "[233]\tcv-test-auc:0.9017218+0.00315920910356\tcv-train-auc:0.9998864+2.01752323407e-05\n",
      "[234]\tcv-test-auc:0.9019742+0.00316646600487\tcv-train-auc:0.9998906+1.92520128818e-05\n",
      "[235]\tcv-test-auc:0.901916+0.00302080671345\tcv-train-auc:0.9998958+1.97017765696e-05\n",
      "[236]\tcv-test-auc:0.9019164+0.00298198099256\tcv-train-auc:0.9998998+1.88722017793e-05\n",
      "[237]\tcv-test-auc:0.9019602+0.00300843004905\tcv-train-auc:0.9999026+1.90536085821e-05\n",
      "[238]\tcv-test-auc:0.901916+0.00299985612988\tcv-train-auc:0.9999048+1.96916225842e-05\n",
      "[239]\tcv-test-auc:0.902112+0.00304495261047\tcv-train-auc:0.9999074+1.91582880237e-05\n",
      "[240]\tcv-test-auc:0.9021878+0.003115038324\tcv-train-auc:0.9999106+1.70833252033e-05\n",
      "[241]\tcv-test-auc:0.9021476+0.00319081849061\tcv-train-auc:0.9999128+1.56639713993e-05\n",
      "[242]\tcv-test-auc:0.9022272+0.00312955213409\tcv-train-auc:0.999915+1.53101273672e-05\n",
      "[243]\tcv-test-auc:0.9023984+0.00317941117819\tcv-train-auc:0.9999188+1.50519101778e-05\n",
      "[244]\tcv-test-auc:0.902461+0.00300371982715\tcv-train-auc:0.9999204+1.41223227551e-05\n",
      "[245]\tcv-test-auc:0.9024248+0.00315155183362\tcv-train-auc:0.999923+1.27906215642e-05\n",
      "[246]\tcv-test-auc:0.9024538+0.00316158254044\tcv-train-auc:0.9999256+1.17405280971e-05\n",
      "[247]\tcv-test-auc:0.9025922+0.00327504677219\tcv-train-auc:0.9999278+1.12142766151e-05\n",
      "[248]\tcv-test-auc:0.902588+0.00344828838701\tcv-train-auc:0.9999298+1.0476640683e-05\n",
      "[249]\tcv-test-auc:0.9027258+0.00344257225923\tcv-train-auc:0.9999312+1.02254584249e-05\n",
      "[250]\tcv-test-auc:0.9027838+0.00345200454229\tcv-train-auc:0.999933+1.01390334845e-05\n",
      "[251]\tcv-test-auc:0.9027536+0.0035714379513\tcv-train-auc:0.9999348+1.05905618359e-05\n",
      "[252]\tcv-test-auc:0.9027772+0.00340632789966\tcv-train-auc:0.9999366+1.08554133961e-05\n",
      "[253]\tcv-test-auc:0.9028586+0.00359089334846\tcv-train-auc:0.9999388+1.04957134107e-05\n",
      "[254]\tcv-test-auc:0.9028344+0.00350820652756\tcv-train-auc:0.9999404+9.85088828482e-06\n",
      "[255]\tcv-test-auc:0.9029656+0.00347379323507\tcv-train-auc:0.9999422+9.62081077665e-06\n",
      "[256]\tcv-test-auc:0.90303+0.00342691715686\tcv-train-auc:0.9999438+9.2822411087e-06\n",
      "[257]\tcv-test-auc:0.9032594+0.00332316996857\tcv-train-auc:0.9999452+8.7954533709e-06\n",
      "[258]\tcv-test-auc:0.9035028+0.00334789398876\tcv-train-auc:0.9999462+8.42377587546e-06\n",
      "[259]\tcv-test-auc:0.9033562+0.00340490765807\tcv-train-auc:0.9999478+8.97552226892e-06\n",
      "[260]\tcv-test-auc:0.9034004+0.00340833681434\tcv-train-auc:0.999949+8.43800924387e-06\n",
      "[261]\tcv-test-auc:0.9034624+0.00342530375879\tcv-train-auc:0.99995+7.97496081495e-06\n",
      "[262]\tcv-test-auc:0.9036512+0.00342501470946\tcv-train-auc:0.999951+7.97496081494e-06\n",
      "[263]\tcv-test-auc:0.9038222+0.00345084531093\tcv-train-auc:0.999952+8.12403840462e-06\n",
      "[264]\tcv-test-auc:0.903848+0.00342962656859\tcv-train-auc:0.9999526+8.08949936645e-06\n",
      "[265]\tcv-test-auc:0.9038342+0.0034530875112\tcv-train-auc:0.9999542+7.65245058787e-06\n",
      "[266]\tcv-test-auc:0.9039152+0.00331084638121\tcv-train-auc:0.9999552+7.30479294708e-06\n",
      "[267]\tcv-test-auc:0.9039334+0.00321604412905\tcv-train-auc:0.9999582+4.79165942028e-06\n",
      "[268]\tcv-test-auc:0.9039274+0.00327613819\tcv-train-auc:0.9999588+4.48998886415e-06\n",
      "[269]\tcv-test-auc:0.9040064+0.00337723174212\tcv-train-auc:0.9999604+3.72021504753e-06\n",
      "[270]\tcv-test-auc:0.9040026+0.00330484823252\tcv-train-auc:0.9999612+3.65513337646e-06\n",
      "[271]\tcv-test-auc:0.9040626+0.00332058215378\tcv-train-auc:0.9999622+3.65513337652e-06\n",
      "[272]\tcv-test-auc:0.9040082+0.00337177041923\tcv-train-auc:0.9999628+4.16653333123e-06\n",
      "[273]\tcv-test-auc:0.904131+0.00329910533327\tcv-train-auc:0.9999634+4.12795348814e-06\n",
      "[274]\tcv-test-auc:0.9043336+0.00330058737803\tcv-train-auc:0.9999642+3.05941170819e-06\n",
      "[275]\tcv-test-auc:0.904308+0.00336588365812\tcv-train-auc:0.999965+3.28633534503e-06\n",
      "[276]\tcv-test-auc:0.904686+0.00330016296567\tcv-train-auc:0.9999658+3.12409987034e-06\n",
      "[277]\tcv-test-auc:0.9046836+0.0034322656424\tcv-train-auc:0.9999666+2.57681974533e-06\n",
      "[278]\tcv-test-auc:0.9047686+0.0034007395431\tcv-train-auc:0.9999674+2.41660919474e-06\n",
      "[279]\tcv-test-auc:0.9048038+0.00345186948768\tcv-train-auc:0.9999682+1.83303027798e-06\n",
      "[280]\tcv-test-auc:0.904828+0.0033592725403\tcv-train-auc:0.9999692+1.46969384568e-06\n",
      "[281]\tcv-test-auc:0.904995+0.00335360963739\tcv-train-auc:0.9999696+1.35646599666e-06\n",
      "[282]\tcv-test-auc:0.9050782+0.00335565292603\tcv-train-auc:0.9999704+2.05912602821e-06\n",
      "[283]\tcv-test-auc:0.9051126+0.00337747696365\tcv-train-auc:0.999971+2.09761769635e-06\n",
      "[284]\tcv-test-auc:0.9051808+0.00343738990515\tcv-train-auc:0.9999712+2.31516738057e-06\n",
      "[285]\tcv-test-auc:0.9051358+0.00347673210932\tcv-train-auc:0.9999718+1.93907194297e-06\n",
      "[286]\tcv-test-auc:0.9051824+0.0035802620351\tcv-train-auc:0.9999724+1.62480768092e-06\n",
      "[287]\tcv-test-auc:0.9051822+0.003597596998\tcv-train-auc:0.9999726+1.85472369907e-06\n",
      "[288]\tcv-test-auc:0.9052368+0.00352881693489\tcv-train-auc:0.9999734+2.05912602816e-06\n",
      "[289]\tcv-test-auc:0.9052908+0.00362172049722\tcv-train-auc:0.9999738+1.72046505338e-06\n",
      "[290]\tcv-test-auc:0.905283+0.00372414623773\tcv-train-auc:0.9999742+1.93907194294e-06\n",
      "[291]\tcv-test-auc:0.9055372+0.0035585568648\tcv-train-auc:0.9999744+2.05912602817e-06\n",
      "[292]\tcv-test-auc:0.9056664+0.00356069637009\tcv-train-auc:0.999975+1.89736659611e-06\n",
      "[293]\tcv-test-auc:0.9056092+0.00348336592393\tcv-train-auc:0.9999752+1.833030278e-06\n",
      "[294]\tcv-test-auc:0.9056114+0.00333415930033\tcv-train-auc:0.9999756+1.74355957743e-06\n",
      "[295]\tcv-test-auc:0.9057488+0.00345372844329\tcv-train-auc:0.9999762+1.72046505342e-06\n",
      "[296]\tcv-test-auc:0.9058362+0.00360055542382\tcv-train-auc:0.9999766+2.05912602819e-06\n",
      "[297]\tcv-test-auc:0.9059472+0.00353754951343\tcv-train-auc:0.999977+1.78885438199e-06\n",
      "[298]\tcv-test-auc:0.90604+0.00361080650271\tcv-train-auc:0.9999772+1.72046505339e-06\n"
     ]
    },
    {
     "name": "stdout",
     "output_type": "stream",
     "text": [
      "     test-auc-mean  test-auc-std  train-auc-mean  train-auc-std\n",
      "0         0.644471      0.003297        0.660544       0.004510\n",
      "1         0.682621      0.005900        0.708365       0.006864\n",
      "2         0.696120      0.007769        0.728223       0.010336\n",
      "3         0.711702      0.006518        0.746865       0.008307\n",
      "4         0.723141      0.006768        0.762578       0.008298\n",
      "5         0.732629      0.006099        0.774315       0.008390\n",
      "6         0.740392      0.006853        0.785255       0.011280\n",
      "7         0.745285      0.005989        0.793225       0.011438\n",
      "8         0.750313      0.005449        0.800692       0.010557\n",
      "9         0.756506      0.004730        0.809730       0.009442\n",
      "10        0.761980      0.003319        0.816801       0.008835\n",
      "11        0.766951      0.002081        0.823977       0.007974\n",
      "12        0.771901      0.003220        0.831645       0.007515\n",
      "13        0.775988      0.002208        0.837175       0.007547\n",
      "14        0.780109      0.002678        0.842985       0.007305\n",
      "15        0.783440      0.002899        0.848795       0.006768\n",
      "16        0.788016      0.003106        0.854580       0.006316\n",
      "17        0.791561      0.004344        0.860129       0.006501\n",
      "18        0.794473      0.004619        0.864418       0.006069\n",
      "19        0.798512      0.003919        0.869351       0.005053\n",
      "20        0.802017      0.003565        0.873677       0.005068\n",
      "21        0.804766      0.003301        0.878147       0.004634\n",
      "22        0.807404      0.003078        0.882479       0.004256\n",
      "23        0.809953      0.003393        0.886772       0.003954\n",
      "24        0.812324      0.003601        0.889978       0.003694\n",
      "25        0.814499      0.003544        0.893204       0.003788\n",
      "26        0.816721      0.003231        0.895895       0.003589\n",
      "27        0.818272      0.003436        0.898715       0.003438\n",
      "28        0.820445      0.003119        0.901498       0.003311\n",
      "29        0.822476      0.002829        0.904573       0.003125\n",
      "..             ...           ...             ...            ...\n",
      "270       0.904003      0.003305        0.999961       0.000004\n",
      "271       0.904063      0.003321        0.999962       0.000004\n",
      "272       0.904008      0.003372        0.999963       0.000004\n",
      "273       0.904131      0.003299        0.999963       0.000004\n",
      "274       0.904334      0.003301        0.999964       0.000003\n",
      "275       0.904308      0.003366        0.999965       0.000003\n",
      "276       0.904686      0.003300        0.999966       0.000003\n",
      "277       0.904684      0.003432        0.999967       0.000003\n",
      "278       0.904769      0.003401        0.999967       0.000002\n",
      "279       0.904804      0.003452        0.999968       0.000002\n",
      "280       0.904828      0.003359        0.999969       0.000001\n",
      "281       0.904995      0.003354        0.999970       0.000001\n",
      "282       0.905078      0.003356        0.999970       0.000002\n",
      "283       0.905113      0.003377        0.999971       0.000002\n",
      "284       0.905181      0.003437        0.999971       0.000002\n",
      "285       0.905136      0.003477        0.999972       0.000002\n",
      "286       0.905182      0.003580        0.999972       0.000002\n",
      "287       0.905182      0.003598        0.999973       0.000002\n",
      "288       0.905237      0.003529        0.999973       0.000002\n",
      "289       0.905291      0.003622        0.999974       0.000002\n",
      "290       0.905283      0.003724        0.999974       0.000002\n",
      "291       0.905537      0.003559        0.999974       0.000002\n",
      "292       0.905666      0.003561        0.999975       0.000002\n",
      "293       0.905609      0.003483        0.999975       0.000002\n",
      "294       0.905611      0.003334        0.999976       0.000002\n",
      "295       0.905749      0.003454        0.999976       0.000002\n",
      "296       0.905836      0.003601        0.999977       0.000002\n",
      "297       0.905947      0.003538        0.999977       0.000002\n",
      "298       0.906040      0.003611        0.999977       0.000002\n",
      "299       0.906181      0.003550        0.999977       0.000002\n",
      "\n",
      "[300 rows x 4 columns]\n"
     ]
    },
    {
     "name": "stderr",
     "output_type": "stream",
     "text": [
      "[299]\tcv-test-auc:0.9061806+0.0035495046753\tcv-train-auc:0.9999774+1.85472369907e-06\n"
     ]
    }
   ],
   "source": [
    "#help(xgb.cv)\n",
    "res = xgb.cv(param, dtrain,num_boost_round = 300, nfold = 5, metrics = ['auc'],show_progress = True,early_stopping_rounds = 5)\n",
    "print(res)"
   ]
  },
  {
   "cell_type": "code",
   "execution_count": 23,
   "metadata": {
    "collapsed": false
   },
   "outputs": [
    {
     "data": {
      "text/plain": [
       "(40, 4)"
      ]
     },
     "execution_count": 23,
     "metadata": {},
     "output_type": "execute_result"
    }
   ],
   "source": [
    "res.shape"
   ]
  },
  {
   "cell_type": "code",
   "execution_count": null,
   "metadata": {
    "collapsed": false
   },
   "outputs": [],
   "source": []
  },
  {
   "cell_type": "code",
   "execution_count": 25,
   "metadata": {
    "collapsed": true
   },
   "outputs": [],
   "source": [
    "sc.stop()"
   ]
  },
  {
   "cell_type": "code",
   "execution_count": null,
   "metadata": {
    "collapsed": true
   },
   "outputs": [],
   "source": []
  }
 ],
 "metadata": {
  "kernelspec": {
   "display_name": "Python 2",
   "language": "python",
   "name": "python2"
  },
  "language_info": {
   "codemirror_mode": {
    "name": "ipython",
    "version": 2
   },
   "file_extension": ".py",
   "mimetype": "text/x-python",
   "name": "python",
   "nbconvert_exporter": "python",
   "pygments_lexer": "ipython2",
   "version": "2.7.10"
  }
 },
 "nbformat": 4,
 "nbformat_minor": 0
}
