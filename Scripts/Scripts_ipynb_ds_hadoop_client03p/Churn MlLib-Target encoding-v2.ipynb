{
 "cells": [
  {
   "cell_type": "markdown",
   "metadata": {},
   "source": [
    "### Изменения:\n",
    "#### columns_to_drop\n",
    "#### columns_to_fill_with_zero\n",
    "#### columns_to_fill_with_N"
   ]
  },
  {
   "cell_type": "code",
   "execution_count": 92,
   "metadata": {
    "collapsed": false
   },
   "outputs": [],
   "source": [
    "from pyspark import HiveContext, SparkContext, SparkConf\n",
    "from pyspark.ml.feature import OneHotEncoder, StringIndexer, IndexToString, VectorAssembler\n",
    "from pyspark.ml import Pipeline\n",
    "from pyspark.mllib.linalg import SparseVector\n",
    "from pyspark.mllib.regression import LabeledPoint\n",
    "from pyspark.sql import functions as fn\n",
    "from pyspark.sql.types import StringType, FloatType\n",
    "from subprocess import call\n",
    "from time import sleep\n",
    "from pyspark.sql import Row\n",
    "from pyspark.ml.linalg import Vectors\n",
    "from pyspark.ml.classification import RandomForestClassifier as RF, LogisticRegression as LR\n",
    "from pyspark.ml.tuning import CrossValidator, ParamGridBuilder\n",
    "from pyspark.ml.evaluation import BinaryClassificationEvaluator\n",
    "import numpy as np\n",
    "import pandas as pd\n",
    "import math\n",
    "%matplotlib inline"
   ]
  },
  {
   "cell_type": "code",
   "execution_count": 125,
   "metadata": {
    "collapsed": true
   },
   "outputs": [],
   "source": [
    "try:\n",
    "    sc.stop()\n",
    "except:\n",
    "    pass"
   ]
  },
  {
   "cell_type": "code",
   "execution_count": 3,
   "metadata": {
    "collapsed": false
   },
   "outputs": [],
   "source": [
    "os.environ['PYSPARK_SUBMIT_ARGS']='''--master yarn --deploy-mode client --num-executors 128 --executor-memory 16g \n",
    "--executor-cores 1 --conf spark.yarn.executor.memoryOverhead=4096 --conf spark.yarn.queue=mvsurovikov pyspark-shell'''"
   ]
  },
  {
   "cell_type": "code",
   "execution_count": 4,
   "metadata": {
    "collapsed": false,
    "scrolled": true
   },
   "outputs": [],
   "source": [
    "sc = SparkContext()\n",
    "hc = HiveContext(sc)"
   ]
  },
  {
   "cell_type": "code",
   "execution_count": 40,
   "metadata": {
    "collapsed": true
   },
   "outputs": [],
   "source": [
    "columns_to_encode = '''tarif_id\n",
    ",suppress_flg\n",
    ",limit_change_cd\n",
    ",mail_stmt_send_flg\n",
    ",email_stmt_send_flg\n",
    ",credit_payment_protection_cd\n",
    ",gender_cd\n",
    ",education_level_cd\n",
    ",marital_status_cd\n",
    ",has_email\n",
    ",ibank_register_flg\n",
    ",pensioner_flg\n",
    ",job_org_own_bsns_flg\n",
    ",suppress_limit\n",
    ",ib_status_cd\n",
    ",cust_value_cd\n",
    ",auth_type\n",
    ",car_type_flg\n",
    ",car_own_flg'''.split('\\n,')\n",
    "target_column = 'churned'\n",
    "num_splits = 4"
   ]
  },
  {
   "cell_type": "code",
   "execution_count": 15,
   "metadata": {
    "collapsed": false
   },
   "outputs": [],
   "source": [
    "columns_to_drop = \\\n",
    "['own_car_manufacturing_year','churn_dt','days_to_churn','account_rk','ymd','suppress_call_flg','suppress_mail_flg','suppress_sms_flg','suppress_fax_flg',\n",
    "'suppress_email_flg','suppress_mail_flg', 'suppress_fax_flg', 'suppress_email_flg', 'suppress_sms_flg', 'suppress_call_flg', 'incorrect_overdue_flg_1m'\n",
    " , 'core_recently_opened', 'dep_recently_opened', 'svn_recently_opened', 'cur_recently_opened', 'sav_recently_opened', 'leg_recently_opened'\n",
    " , 'col_recently_opened', 'dep_recently_closed','svn_recently_closed', 'cur_recently_closed', 'sav_recently_closed', 'leg_recently_closed'\n",
    " , 'col_recently_closed', 'loan_recently_opened', 'loan_recently_closed'\n",
    "]"
   ]
  },
  {
   "cell_type": "code",
   "execution_count": 32,
   "metadata": {
    "collapsed": true
   },
   "outputs": [],
   "source": [
    "columns_to_fill_with_zero = ['sum_hum_wait_time_1m', 'sum_hum_talk_time_1m', 'max_hum_wait_time_1m'\n",
    " 'max_hum_talk_time_1m', 'sum_moves_cnt_1', 'call_duration_1m', 'max_call_duration_1m', 'max_moves_cnt_1m'\n",
    " 'trans_debit_sum_prev_m', 'trans_debit_sum_1m', 'children_cnt']\n",
    "columns_to_fill_with_N = ['suppress_limit', 'job_org_own_bsns_flg']"
   ]
  },
  {
   "cell_type": "code",
   "execution_count": 35,
   "metadata": {
    "collapsed": false
   },
   "outputs": [],
   "source": [
    "df_train_0 = hc.sql('select * from user_mvsurovikov.ch_features_clean_train').repartition(250)\\\n",
    ".select(*[col for col in df_train_0.columns if col not in columns_to_drop])\\\n",
    ".fillna(0, subset = columns_to_fill_with_zero)\\\n",
    ".fillna('N', subset = columns_to_fill_with_N)\\\n",
    ".cache()\n",
    "#.fillna('__missing_val__', subset = columns_to_encode)\\"
   ]
  },
  {
   "cell_type": "code",
   "execution_count": 37,
   "metadata": {
    "collapsed": false,
    "scrolled": true
   },
   "outputs": [
    {
     "data": {
      "text/plain": [
       "139645686"
      ]
     },
     "execution_count": 37,
     "metadata": {},
     "output_type": "execute_result"
    }
   ],
   "source": [
    "df_train_0.count()"
   ]
  },
  {
   "cell_type": "code",
   "execution_count": 36,
   "metadata": {
    "collapsed": false
   },
   "outputs": [
    {
     "name": "stdout",
     "output_type": "stream",
     "text": [
      "+--------------------+--------------+--------------------+\n",
      "|job_org_own_bsns_flg|count(churned)|        avg(churned)|\n",
      "+--------------------+--------------+--------------------+\n",
      "|                   Y|       9523261|0.005864482764884844|\n",
      "|                   N|     130122425|0.007262045723479254|\n",
      "+--------------------+--------------+--------------------+\n",
      "\n"
     ]
    }
   ],
   "source": [
    "df_train_0.groupBy('job_org_own_bsns_flg').agg(*[fn.count('churned'), fn.avg('churned')]).show()"
   ]
  },
  {
   "cell_type": "code",
   "execution_count": 38,
   "metadata": {
    "collapsed": false
   },
   "outputs": [],
   "source": [
    "features_numeric = list(set(df_train_0.columns) - set([target_column]) - set(columns_to_encode))"
   ]
  },
  {
   "cell_type": "code",
   "execution_count": 41,
   "metadata": {
    "collapsed": true
   },
   "outputs": [],
   "source": [
    "df_train_0_splits = df_train_0.randomSplit([1.0]*num_splits, 24)\n",
    "for df in df_train_0_splits:\n",
    "    df.cache()"
   ]
  },
  {
   "cell_type": "code",
   "execution_count": 47,
   "metadata": {
    "collapsed": true
   },
   "outputs": [],
   "source": [
    "global_avg = df_train_0.groupBy().agg(fn.avg(target_column)).collect()[0][0]"
   ]
  },
  {
   "cell_type": "code",
   "execution_count": 48,
   "metadata": {
    "collapsed": false
   },
   "outputs": [
    {
     "data": {
      "text/plain": [
       "0.007166737682107845"
      ]
     },
     "execution_count": 48,
     "metadata": {},
     "output_type": "execute_result"
    }
   ],
   "source": [
    "global_avg"
   ]
  },
  {
   "cell_type": "code",
   "execution_count": 42,
   "metadata": {
    "collapsed": false
   },
   "outputs": [],
   "source": [
    "columns_to_encode_values = {}\n",
    "for i in range(num_splits):\n",
    "    columns_to_encode_values[i] = {}\n",
    "    for col in columns_to_encode:\n",
    "        columns_to_encode_values[i][col] = {}        \n",
    "        gr = df_train_0_splits[i].groupBy(col).agg(fn.sum(target_column), fn.count(target_column)).collect()\n",
    "        for x in gr:\n",
    "            columns_to_encode_values[i][col][x[0]] = (x[1], x[2])"
   ]
  },
  {
   "cell_type": "code",
   "execution_count": 49,
   "metadata": {
    "collapsed": false
   },
   "outputs": [],
   "source": [
    "columns_to_encode_cds = {}\n",
    "for i in range(num_splits):\n",
    "    for col in columns_to_encode:\n",
    "        try:\n",
    "            columns_to_encode_cds[col].extend(columns_to_encode_values[i][col].keys())\n",
    "        except:\n",
    "            columns_to_encode_cds[col] = columns_to_encode_values[i][col].keys()\n",
    "\n",
    "for cd in columns_to_encode_cds.keys():\n",
    "    columns_to_encode_cds[cd] = list(set(columns_to_encode_cds[cd]))"
   ]
  },
  {
   "cell_type": "code",
   "execution_count": 50,
   "metadata": {
    "collapsed": false
   },
   "outputs": [],
   "source": [
    "columns_to_encode_sums = {}\n",
    "for i in range(num_splits):\n",
    "    columns_to_encode_sums[i] = {}\n",
    "    for column in columns_to_encode:\n",
    "        columns_to_encode_sums[i][column] = {}\n",
    "        for cd in columns_to_encode_cds[column]:\n",
    "            columns_to_encode_sums[i][column][cd] = [0, 0]"
   ]
  },
  {
   "cell_type": "code",
   "execution_count": 51,
   "metadata": {
    "collapsed": false
   },
   "outputs": [],
   "source": [
    "for i in range(num_splits): \n",
    "    for j in range(num_splits):\n",
    "        if i <> j:\n",
    "            for col in columns_to_encode:\n",
    "                for cd in columns_to_encode_cds[col]:\n",
    "                    try:\n",
    "                        columns_to_encode_sums[i][col][cd][0] += columns_to_encode_values[j][col][cd][0]\n",
    "                        columns_to_encode_sums[i][col][cd][1] += columns_to_encode_values[j][col][cd][1]\n",
    "                    except:\n",
    "                        pass                    "
   ]
  },
  {
   "cell_type": "code",
   "execution_count": 95,
   "metadata": {
    "collapsed": false
   },
   "outputs": [],
   "source": [
    "columns_to_encode_encoded = {}\n",
    "for i in range(num_splits):\n",
    "    columns_to_encode_encoded[i] = {}\n",
    "    for column in columns_to_encode:\n",
    "        columns_to_encode_encoded[i][column] = {}\n",
    "        for cd in columns_to_encode_cds[column]:\n",
    "            if cd is not None:\n",
    "                columns_to_encode_encoded[i][column][cd] = (1.0*columns_to_encode_sums[i][column][cd][0] + 100.0*global_avg)/(1.0*columns_to_encode_sums[i][column][cd][1]+100)                \n",
    "            else:\n",
    "                columns_to_encode_encoded[i][column][cd] = global_avg"
   ]
  },
  {
   "cell_type": "code",
   "execution_count": 97,
   "metadata": {
    "collapsed": false
   },
   "outputs": [],
   "source": [
    "def label_encode(i, c, c_val):\n",
    "    try:\n",
    "        res = columns_to_encode_encoded[i][c][c_val]\n",
    "    except:\n",
    "        res = global_avg\n",
    "    return res"
   ]
  },
  {
   "cell_type": "code",
   "execution_count": 98,
   "metadata": {
    "collapsed": true
   },
   "outputs": [],
   "source": [
    "def mapper(row):\n",
    "    data = row.asDict()\n",
    "    for c in columns_to_encode:\n",
    "        data[c + '_encoded'] = label_encode(i, c, data[c])\n",
    "    return Row(**data)"
   ]
  },
  {
   "cell_type": "code",
   "execution_count": 99,
   "metadata": {
    "collapsed": false
   },
   "outputs": [],
   "source": [
    "rdd_train_l = []\n",
    "for i in range(num_splits):\n",
    "    rdd_tmp = df_train_0_splits[i].rdd\n",
    "    rdd_tmp = rdd_tmp.map(lambda x: mapper(x))\n",
    "    rdd_train_l.append(rdd_tmp)"
   ]
  },
  {
   "cell_type": "code",
   "execution_count": 100,
   "metadata": {
    "collapsed": true
   },
   "outputs": [],
   "source": [
    "features_encoded = [name + '_encoded' for name in columns_to_encode]\n",
    "features_all = features_encoded + features_numeric\n",
    "label_features_all = [target_column] + features_all"
   ]
  },
  {
   "cell_type": "code",
   "execution_count": 101,
   "metadata": {
    "collapsed": false
   },
   "outputs": [],
   "source": [
    "df_train_1 = sc.union(rdd_train_l).toDF(sampleRatio=0.05).select([c for c in label_features_all])"
   ]
  },
  {
   "cell_type": "code",
   "execution_count": 102,
   "metadata": {
    "collapsed": true
   },
   "outputs": [],
   "source": [
    "def vectorizeData(df):\n",
    "    return df.rdd.map(lambda x: [x[0], Vectors.dense(x[1:])]).toDF(['label','features'])"
   ]
  },
  {
   "cell_type": "code",
   "execution_count": 103,
   "metadata": {
    "collapsed": false
   },
   "outputs": [],
   "source": [
    "vectorized_train_data = vectorizeData(df_train_1)"
   ]
  },
  {
   "cell_type": "code",
   "execution_count": 104,
   "metadata": {
    "collapsed": false,
    "scrolled": true
   },
   "outputs": [
    {
     "data": {
      "text/plain": [
       "[Row(label=0, features=DenseVector([0.0072, 0.0072, 0.0072, 0.0072, 0.0072, 0.0072, 0.0068, 0.0071, 0.007, 0.0073, 0.0072, 0.0072, 0.0073, 0.0071, 0.0073, 0.0072, 0.0069, 0.0067, 0.0069, 0.0, 0.0, 0.0, 0.0, 2.4769, 0.0, 1.0, nan, 0.0, nan, 0.0, nan, nan, 0.0, 0.0, 0.0, 0.0, nan, nan, 0.0, 0.0, 0.0, 3000.0, nan, 1.0, 0.0, 1.0, nan, 0.0, 1.0, 0.0, nan, 0.0, 20523.7625, 0.0, 1.0, 0.0, 3000.0, 0.0, 0.0, 3.0, 0.0, 0.0, 1.0, 0.0, nan, 0.0, 0.0, 0.0, 0.0, 0.0, 1.0, nan, 0.0, 0.0, 0.0, 0.0, 0.0, 0.0, 0.0, nan, nan, 1.0, 0.0, nan, 0.0, 0.0, 0.0, 0.0, 0.0, 1390.0, 0.0, nan, 0.0, 0.0, 0.0, 0.0, 0.0, 0.0, 0.0, 0.0, 0.0, 0.0, 60.0, 0.0, 0.0, nan, 0.0, 0.0, 0.0, nan, 0.0, 20523.7619, 0.0, 1.0, 0.0, 0.0, 0.0, 0.0, 8.0, 0.0, 0.0, 0.0, 0.0, nan, 0.0, 36.4384, 0.0, nan, 0.0, 0.0]))]"
      ]
     },
     "execution_count": 104,
     "metadata": {},
     "output_type": "execute_result"
    }
   ],
   "source": [
    "vectorized_train_data.take(1)"
   ]
  },
  {
   "cell_type": "code",
   "execution_count": 105,
   "metadata": {
    "collapsed": false
   },
   "outputs": [],
   "source": [
    "labelIndexer = StringIndexer(inputCol='label',\n",
    "                             outputCol='indexedLabel').fit(vectorized_train_data)"
   ]
  },
  {
   "cell_type": "code",
   "execution_count": 107,
   "metadata": {
    "collapsed": false
   },
   "outputs": [],
   "source": [
    "trainingData = vectorized_train_data\n",
    "trainingData.cache()\n",
    "numFolds = 5\n",
    "\n",
    "rf_cv = RF(labelCol=\"indexedLabel\", featuresCol=\"features\")\n",
    "evaluator = BinaryClassificationEvaluator(labelCol=\"indexedLabel\")\n",
    "\n",
    "pipeline = Pipeline(stages=[labelIndexer, rf_cv])\n",
    "\n",
    "paramGrid = ParamGridBuilder().addGrid(rf_cv.maxDepth, [5]).addGrid(rf_cv.numTrees, [100]).build()\n",
    "#paramGrid = ParamGridBuilder().addGrid(rf_cv.maxDepth, [2,3]).addGrid(rf_cv.numTrees, [5,10]).build()\n",
    "\n",
    "crossval = CrossValidator(\n",
    "    estimator=pipeline,\n",
    "    estimatorParamMaps=paramGrid,\n",
    "    evaluator=evaluator,\n",
    "    numFolds=numFolds)\n",
    "\n",
    "model = crossval.fit(trainingData)"
   ]
  },
  {
   "cell_type": "code",
   "execution_count": 108,
   "metadata": {
    "collapsed": false
   },
   "outputs": [
    {
     "name": "stdout",
     "output_type": "stream",
     "text": [
      "[0.7008682883640599]\n",
      "PipelineModel_4b6ca991fa2b2d4cc97a\n"
     ]
    }
   ],
   "source": [
    "print model.avgMetrics\n",
    "print model.bestModel"
   ]
  },
  {
   "cell_type": "code",
   "execution_count": 109,
   "metadata": {
    "collapsed": false,
    "scrolled": true
   },
   "outputs": [
    {
     "data": {
      "text/plain": [
       "<matplotlib.axes._subplots.AxesSubplot at 0x7fc05cecc990>"
      ]
     },
     "execution_count": 109,
     "metadata": {},
     "output_type": "execute_result"
    },
    {
     "data": {
      "image/png": "[encoded data removed]",
      "text/plain": [
       "<matplotlib.figure.Figure at 0x7fc05cf3a110>"
      ]
     },
     "metadata": {},
     "output_type": "display_data"
    }
   ],
   "source": [
    "imp = np.array(model.bestModel.stages[1].featureImportances, dtype=np.float64)\n",
    "\n",
    "feature_importance = zip(features_all, imp)\n",
    "    \n",
    "feature_importance = sorted(feature_importance, key=lambda tup: tup[1])\n",
    "df = pd.DataFrame(feature_importance, columns=['feature', 'importance'])\n",
    "df = df[df['importance'] > 0.001]\n",
    "df.plot(kind='barh', x='feature', y='importance', figsize=(6, 10))"
   ]
  },
  {
   "cell_type": "code",
   "execution_count": 110,
   "metadata": {
    "collapsed": false
   },
   "outputs": [],
   "source": [
    "df_test_0 = hc.sql('select * from user_mvsurovikov.ch_features_clean_test').repartition(250)\\\n",
    ".select(*[col for col in df_train_0.columns if col not in columns_to_drop])\\\n",
    ".fillna(0, subset = columns_to_fill_with_zero)\\\n",
    ".fillna('N', subset = columns_to_fill_with_N)\\\n",
    ".cache()\n",
    "#.fillna('__missing_val__', subset = columns_to_encode)\\"
   ]
  },
  {
   "cell_type": "code",
   "execution_count": 124,
   "metadata": {
    "collapsed": false
   },
   "outputs": [
    {
     "data": {
      "text/plain": [
       "0.007166737682107845"
      ]
     },
     "execution_count": 124,
     "metadata": {},
     "output_type": "execute_result"
    }
   ],
   "source": [
    "global_avg"
   ]
  },
  {
   "cell_type": "code",
   "execution_count": 123,
   "metadata": {
    "collapsed": false
   },
   "outputs": [
    {
     "name": "stdout",
     "output_type": "stream",
     "text": [
      "+--------------------+\n",
      "|        avg(churned)|\n",
      "+--------------------+\n",
      "|0.006410825632370339|\n",
      "+--------------------+\n",
      "\n"
     ]
    }
   ],
   "source": [
    "df_test_0.agg(fn.avg('churned')).show()"
   ]
  },
  {
   "cell_type": "code",
   "execution_count": 111,
   "metadata": {
    "collapsed": false
   },
   "outputs": [],
   "source": [
    "rdd_tmp = df_test_0.rdd.map(lambda x: mapper(x))"
   ]
  },
  {
   "cell_type": "code",
   "execution_count": 112,
   "metadata": {
    "collapsed": false
   },
   "outputs": [
    {
     "data": {
      "text/plain": [
       "19684984"
      ]
     },
     "execution_count": 112,
     "metadata": {},
     "output_type": "execute_result"
    }
   ],
   "source": [
    "rdd_tmp.count()"
   ]
  },
  {
   "cell_type": "code",
   "execution_count": 113,
   "metadata": {
    "collapsed": true
   },
   "outputs": [],
   "source": [
    "df_test_1 = rdd_tmp.toDF(sampleRatio=0.05).select([c for c in label_features_all])\n",
    "\n",
    "def vectorizeData(df):\n",
    "    return df.rdd.map(lambda x: [x[0], Vectors.dense(x[1:])]).toDF(['label','features'])\n",
    "\n",
    "vectorized_test_data = vectorizeData(df_test_1)"
   ]
  },
  {
   "cell_type": "code",
   "execution_count": 114,
   "metadata": {
    "collapsed": true
   },
   "outputs": [],
   "source": [
    "transformed_test = model.transform(vectorized_test_data)"
   ]
  },
  {
   "cell_type": "code",
   "execution_count": 115,
   "metadata": {
    "collapsed": false
   },
   "outputs": [
    {
     "data": {
      "text/plain": [
       "0.7640289678318556"
      ]
     },
     "execution_count": 115,
     "metadata": {},
     "output_type": "execute_result"
    }
   ],
   "source": [
    "evaluator.evaluate(transformed_test)"
   ]
  },
  {
   "cell_type": "code",
   "execution_count": 116,
   "metadata": {
    "collapsed": false
   },
   "outputs": [
    {
     "data": {
      "text/plain": [
       "0.7017519269346445"
      ]
     },
     "execution_count": 116,
     "metadata": {},
     "output_type": "execute_result"
    }
   ],
   "source": [
    "transformed_train = model.transform(vectorized_train_data)\n",
    "evaluator.evaluate(transformed_train)"
   ]
  }
 ],
 "metadata": {
  "kernelspec": {
   "display_name": "Python 2",
   "language": "python",
   "name": "python2"
  },
  "language_info": {
   "codemirror_mode": {
    "name": "ipython",
    "version": 2
   },
   "file_extension": ".py",
   "mimetype": "text/x-python",
   "name": "python",
   "nbconvert_exporter": "python",
   "pygments_lexer": "ipython2",
   "version": "2.7.10"
  }
 },
 "nbformat": 4,
 "nbformat_minor": 0
}
