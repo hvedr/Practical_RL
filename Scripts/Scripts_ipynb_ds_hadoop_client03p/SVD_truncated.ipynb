{
 "cells": [
  {
   "cell_type": "code",
   "execution_count": null,
   "metadata": {
    "collapsed": true
   },
   "outputs": [],
   "source": []
  },
  {
   "cell_type": "code",
   "execution_count": null,
   "metadata": {
    "collapsed": true
   },
   "outputs": [],
   "source": []
  },
  {
   "cell_type": "code",
   "execution_count": 3,
   "metadata": {
    "collapsed": true
   },
   "outputs": [],
   "source": [
    "import scipy\n",
    "import numpy as np"
   ]
  },
  {
   "cell_type": "code",
   "execution_count": 4,
   "metadata": {
    "collapsed": true
   },
   "outputs": [],
   "source": [
    "lambda_ = 0.1\n",
    "n_factors = 100\n",
    "m, n = 5000, 3000\n",
    "n_iterations = 100"
   ]
  },
  {
   "cell_type": "code",
   "execution_count": 5,
   "metadata": {
    "collapsed": false
   },
   "outputs": [],
   "source": [
    "#M = np.random.randint(10, size=(m, n))\n",
    "M = scipy.sparse.rand(m = m, n = n, density=0.01, format='coo', random_state=213)\n",
    "\n",
    "X = 5 * np.random.rand(m, n_factors) \n",
    "Y = 5 * np.random.rand(n_factors, n)\n",
    "\n",
    "def get_error(M, X, Y, W):\n",
    "    return np.sum((W * (M - np.dot(X, Y)))**2)\n",
    "\n",
    "W = np.ones(shape=(m, n))\n",
    "\n"
   ]
  },
  {
   "cell_type": "code",
   "execution_count": null,
   "metadata": {
    "collapsed": false
   },
   "outputs": [],
   "source": []
  },
  {
   "cell_type": "code",
   "execution_count": null,
   "metadata": {
    "collapsed": false
   },
   "outputs": [],
   "source": [
    "errors = []\n",
    "for ii in range(n_iterations):\n",
    "    X = np.linalg.solve(\n",
    "          np.dot(Y, Y.T) + lambda_ * np.eye(n_factors), \n",
    "          np.dot(Y, M.T)).T\n",
    "    Y = np.linalg.solve(\n",
    "           np.dot(X.T, X) + lambda_ * np.eye(n_factors),\n",
    "           np.dot(X.T, M))\n",
    "    err = get_error(M, X, Y, W)\n",
    "    #if ii % 5 == 0:\n",
    "    print('{}th iteration is completed,Error {}'.format(ii,err))\n",
    "    errors.append(err)\n",
    "M_hat = np.dot(X, Y)\n",
    "print('Error: {}'.format(get_error(M, X, Y, W)))\n"
   ]
  },
  {
   "cell_type": "code",
   "execution_count": null,
   "metadata": {
    "collapsed": false,
    "scrolled": false
   },
   "outputs": [],
   "source": [
    "from pyspark.mllib.linalg import Matrix, Matrices\n",
    "m,n = 30, 20\n",
    "\n",
    "pop = int(m*n*0.1)\n",
    "\n",
    "# ??? Not working\n",
    "M1 = Matrices.sparse(\n",
    "                     numRows = m, \n",
    "                     numCols = n, \n",
    "                     colPtrs = np.random.randint(n, size = pop), \n",
    "                     rowIndices = np.random.randint(m, size = pop), \n",
    "                     values = np.random.randint(20, size = pop)\n",
    ")\n",
    "\n",
    "X1 = Matrices.dense(m, n_factors, np.random.rand(m * n_factors))\n",
    "Y1 = Matrices.dense(n_factors, n, np.random.rand(n * n_factors))\n"
   ]
  },
  {
   "cell_type": "code",
   "execution_count": null,
   "metadata": {
    "collapsed": false
   },
   "outputs": [],
   "source": [
    "help(Matrices.sparse)"
   ]
  },
  {
   "cell_type": "code",
   "execution_count": null,
   "metadata": {
    "collapsed": false
   },
   "outputs": [],
   "source": [
    "sm = Matrices.sparse(3, 4, [0, 1, 9, 2, 7], [0, 2, 1,1,2], [1, 2, 3,4,5])\n",
    "sm.toArray()"
   ]
  },
  {
   "cell_type": "code",
   "execution_count": null,
   "metadata": {
    "collapsed": false
   },
   "outputs": [],
   "source": []
  },
  {
   "cell_type": "code",
   "execution_count": 8,
   "metadata": {
    "collapsed": true
   },
   "outputs": [],
   "source": [
    "import numpy as np\n",
    "import scipy.sparse as sparse\n",
    "from scipy.sparse.linalg import spsolve\n",
    "import time\n",
    "\n",
    "def load_matrix(filename, num_users, num_items):\n",
    "    t0 = time.time()\n",
    "    counts = sparse.dok_matrix((num_users, num_items), dtype=float)\n",
    "    total = 0.0\n",
    "    num_zeros = num_users * num_items\n",
    "    for i, line in enumerate(open(filename, 'r')):\n",
    "        user, item, count = line.strip().split('\\t')\n",
    "        user = int(user)\n",
    "        item = int(item)\n",
    "        count = float(count)\n",
    "        if user >= num_users:\n",
    "            continue\n",
    "        if item >= num_items:\n",
    "            continue\n",
    "        if count != 0:\n",
    "            counts[user, item] = count\n",
    "            total += count\n",
    "            num_zeros -= 1\n",
    "        if i % 100000 == 0:\n",
    "            print 'loaded %i counts...' % i\n",
    "    alpha = num_zeros / total\n",
    "    print 'alpha %.2f' % alpha\n",
    "    counts *= alpha\n",
    "    counts = counts.tocsr()\n",
    "    t1 = time.time()\n",
    "    print 'Finished loading matrix in %f seconds' % (t1 - t0)\n",
    "    return counts\n",
    "\n",
    "\n",
    "class ImplicitMF():\n",
    "\n",
    "    def __init__(self, counts, num_factors=40, num_iterations=30,\n",
    "                 reg_param=0.8):\n",
    "        self.counts = counts\n",
    "        self.num_users = counts.shape[0]\n",
    "        self.num_items = counts.shape[1]\n",
    "        self.num_factors = num_factors\n",
    "        self.num_iterations = num_iterations\n",
    "        self.reg_param = reg_param\n",
    "\n",
    "    def train_model(self):\n",
    "        self.user_vectors = np.random.normal(size=(self.num_users,\n",
    "                                                   self.num_factors))\n",
    "        self.item_vectors = np.random.normal(size=(self.num_items,\n",
    "                                                   self.num_factors))\n",
    "\n",
    "        for i in xrange(self.num_iterations):\n",
    "            t0 = time.time()\n",
    "            print 'Solving for user vectors...'\n",
    "            self.user_vectors = self.iteration(True, sparse.csr_matrix(self.item_vectors))\n",
    "            print 'Solving for item vectors...'\n",
    "            self.item_vectors = self.iteration(False, sparse.csr_matrix(self.user_vectors))\n",
    "            t1 = time.time()\n",
    "            print 'iteration %i finished in %f seconds' % (i + 1, t1 - t0)\n",
    "\n",
    "    def iteration(self, user, fixed_vecs):\n",
    "        num_solve = self.num_users if user else self.num_items\n",
    "        num_fixed = fixed_vecs.shape[0]\n",
    "        YTY = fixed_vecs.T.dot(fixed_vecs)\n",
    "        eye = sparse.eye(num_fixed)\n",
    "        lambda_eye = self.reg_param * sparse.eye(self.num_factors)\n",
    "        solve_vecs = np.zeros((num_solve, self.num_factors))\n",
    "\n",
    "        t = time.time()\n",
    "        for i in xrange(num_solve):\n",
    "            if user:\n",
    "                counts_i = self.counts[i].toarray()\n",
    "            else:\n",
    "                counts_i = self.counts[:, i].T.toarray()\n",
    "            CuI = sparse.diags(counts_i, [0])\n",
    "            pu = counts_i.copy()\n",
    "            pu[np.where(pu != 0)] = 1.0\n",
    "            YTCuIY = fixed_vecs.T.dot(CuI).dot(fixed_vecs)\n",
    "            YTCupu = fixed_vecs.T.dot(CuI + eye).dot(sparse.csr_matrix(pu).T)\n",
    "            xu = spsolve(YTY + YTCuIY + lambda_eye, YTCupu)\n",
    "            solve_vecs[i] = xu\n",
    "            if i % 1000 == 0:\n",
    "                print 'Solved %i vecs in %d seconds' % (i, time.time() - t)\n",
    "                t = time.time()\n",
    "\n",
    "        return solve_vecs"
   ]
  },
  {
   "cell_type": "code",
   "execution_count": 11,
   "metadata": {
    "collapsed": false
   },
   "outputs": [
    {
     "name": "stdout",
     "output_type": "stream",
     "text": [
      "Solving for user vectors...\n"
     ]
    },
    {
     "ename": "TypeError",
     "evalue": "'coo_matrix' object does not support indexing",
     "output_type": "error",
     "traceback": [
      "\u001b[1;31m---------------------------------------------------------------------------\u001b[0m",
      "\u001b[1;31mTypeError\u001b[0m                                 Traceback (most recent call last)",
      "\u001b[1;32m<ipython-input-11-2d8adcc627d7>\u001b[0m in \u001b[0;36m<module>\u001b[1;34m()\u001b[0m\n\u001b[0;32m      1\u001b[0m \u001b[0ma\u001b[0m \u001b[1;33m=\u001b[0m \u001b[0mImplicitMF\u001b[0m\u001b[1;33m(\u001b[0m\u001b[0mcounts\u001b[0m \u001b[1;33m=\u001b[0m \u001b[0mM\u001b[0m\u001b[1;33m)\u001b[0m\u001b[1;33m\u001b[0m\u001b[0m\n\u001b[0;32m      2\u001b[0m \u001b[1;33m\u001b[0m\u001b[0m\n\u001b[1;32m----> 3\u001b[1;33m \u001b[0ma\u001b[0m\u001b[1;33m.\u001b[0m\u001b[0mtrain_model\u001b[0m\u001b[1;33m(\u001b[0m\u001b[1;33m)\u001b[0m\u001b[1;33m\u001b[0m\u001b[0m\n\u001b[0m",
      "\u001b[1;32m<ipython-input-8-b73fe16942a1>\u001b[0m in \u001b[0;36mtrain_model\u001b[1;34m(self)\u001b[0m\n\u001b[0;32m     53\u001b[0m             \u001b[0mt0\u001b[0m \u001b[1;33m=\u001b[0m \u001b[0mtime\u001b[0m\u001b[1;33m.\u001b[0m\u001b[0mtime\u001b[0m\u001b[1;33m(\u001b[0m\u001b[1;33m)\u001b[0m\u001b[1;33m\u001b[0m\u001b[0m\n\u001b[0;32m     54\u001b[0m             \u001b[1;32mprint\u001b[0m \u001b[1;34m'Solving for user vectors...'\u001b[0m\u001b[1;33m\u001b[0m\u001b[0m\n\u001b[1;32m---> 55\u001b[1;33m             \u001b[0mself\u001b[0m\u001b[1;33m.\u001b[0m\u001b[0muser_vectors\u001b[0m \u001b[1;33m=\u001b[0m \u001b[0mself\u001b[0m\u001b[1;33m.\u001b[0m\u001b[0miteration\u001b[0m\u001b[1;33m(\u001b[0m\u001b[0mTrue\u001b[0m\u001b[1;33m,\u001b[0m \u001b[0msparse\u001b[0m\u001b[1;33m.\u001b[0m\u001b[0mcsr_matrix\u001b[0m\u001b[1;33m(\u001b[0m\u001b[0mself\u001b[0m\u001b[1;33m.\u001b[0m\u001b[0mitem_vectors\u001b[0m\u001b[1;33m)\u001b[0m\u001b[1;33m)\u001b[0m\u001b[1;33m\u001b[0m\u001b[0m\n\u001b[0m\u001b[0;32m     56\u001b[0m             \u001b[1;32mprint\u001b[0m \u001b[1;34m'Solving for item vectors...'\u001b[0m\u001b[1;33m\u001b[0m\u001b[0m\n\u001b[0;32m     57\u001b[0m             \u001b[0mself\u001b[0m\u001b[1;33m.\u001b[0m\u001b[0mitem_vectors\u001b[0m \u001b[1;33m=\u001b[0m \u001b[0mself\u001b[0m\u001b[1;33m.\u001b[0m\u001b[0miteration\u001b[0m\u001b[1;33m(\u001b[0m\u001b[0mFalse\u001b[0m\u001b[1;33m,\u001b[0m \u001b[0msparse\u001b[0m\u001b[1;33m.\u001b[0m\u001b[0mcsr_matrix\u001b[0m\u001b[1;33m(\u001b[0m\u001b[0mself\u001b[0m\u001b[1;33m.\u001b[0m\u001b[0muser_vectors\u001b[0m\u001b[1;33m)\u001b[0m\u001b[1;33m)\u001b[0m\u001b[1;33m\u001b[0m\u001b[0m\n",
      "\u001b[1;32m<ipython-input-8-b73fe16942a1>\u001b[0m in \u001b[0;36miteration\u001b[1;34m(self, user, fixed_vecs)\u001b[0m\n\u001b[0;32m     70\u001b[0m         \u001b[1;32mfor\u001b[0m \u001b[0mi\u001b[0m \u001b[1;32min\u001b[0m \u001b[0mxrange\u001b[0m\u001b[1;33m(\u001b[0m\u001b[0mnum_solve\u001b[0m\u001b[1;33m)\u001b[0m\u001b[1;33m:\u001b[0m\u001b[1;33m\u001b[0m\u001b[0m\n\u001b[0;32m     71\u001b[0m             \u001b[1;32mif\u001b[0m \u001b[0muser\u001b[0m\u001b[1;33m:\u001b[0m\u001b[1;33m\u001b[0m\u001b[0m\n\u001b[1;32m---> 72\u001b[1;33m                 \u001b[0mcounts_i\u001b[0m \u001b[1;33m=\u001b[0m \u001b[0mself\u001b[0m\u001b[1;33m.\u001b[0m\u001b[0mcounts\u001b[0m\u001b[1;33m[\u001b[0m\u001b[0mi\u001b[0m\u001b[1;33m]\u001b[0m\u001b[1;33m.\u001b[0m\u001b[0mtoarray\u001b[0m\u001b[1;33m(\u001b[0m\u001b[1;33m)\u001b[0m\u001b[1;33m\u001b[0m\u001b[0m\n\u001b[0m\u001b[0;32m     73\u001b[0m             \u001b[1;32melse\u001b[0m\u001b[1;33m:\u001b[0m\u001b[1;33m\u001b[0m\u001b[0m\n\u001b[0;32m     74\u001b[0m                 \u001b[0mcounts_i\u001b[0m \u001b[1;33m=\u001b[0m \u001b[0mself\u001b[0m\u001b[1;33m.\u001b[0m\u001b[0mcounts\u001b[0m\u001b[1;33m[\u001b[0m\u001b[1;33m:\u001b[0m\u001b[1;33m,\u001b[0m \u001b[0mi\u001b[0m\u001b[1;33m]\u001b[0m\u001b[1;33m.\u001b[0m\u001b[0mT\u001b[0m\u001b[1;33m.\u001b[0m\u001b[0mtoarray\u001b[0m\u001b[1;33m(\u001b[0m\u001b[1;33m)\u001b[0m\u001b[1;33m\u001b[0m\u001b[0m\n",
      "\u001b[1;31mTypeError\u001b[0m: 'coo_matrix' object does not support indexing"
     ]
    }
   ],
   "source": [
    "a = ImplicitMF(counts = M)\n",
    "\n",
    "a.train_model()"
   ]
  },
  {
   "cell_type": "code",
   "execution_count": null,
   "metadata": {
    "collapsed": true
   },
   "outputs": [],
   "source": []
  }
 ],
 "metadata": {
  "kernelspec": {
   "display_name": "Python 2",
   "language": "python",
   "name": "python2"
  }
 },
 "nbformat": 4,
 "nbformat_minor": 0
}
