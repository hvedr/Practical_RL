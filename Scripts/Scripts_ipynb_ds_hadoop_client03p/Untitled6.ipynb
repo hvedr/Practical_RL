{
 "cells": [
  {
   "cell_type": "code",
   "execution_count": 3,
   "metadata": {
    "collapsed": true
   },
   "outputs": [],
   "source": [
    "import re\n",
    "\n",
    "def transliterate(string):\n",
    "    tr = {u'а': u'a',\n",
    "           u'б': u'b',\n",
    "           u'в': u'v',\n",
    "           u'г': u'g',\n",
    "           u'д': u'd',\n",
    "           u'е': u'e',\n",
    "           u'ё': u'e',\n",
    "           u'ж': u'zh',\n",
    "           u'з': u'z',\n",
    "           u'и': u'i',\n",
    "           u'й': u'y',\n",
    "           u'к': u'k',\n",
    "           u'л': u'l',\n",
    "           u'м': u'm',\n",
    "           u'н': u'n',\n",
    "           u'о': u'o',\n",
    "           u'п': u'p',\n",
    "           u'р': u'r',\n",
    "           u'с': u's',\n",
    "           u'т': u't',\n",
    "           u'у': u'u',\n",
    "           u'ф': u'f',\n",
    "           u'х': u'h',\n",
    "           u'ц': u'ts',\n",
    "           u'ч': u'ch',\n",
    "           u'ш': u'sh',\n",
    "           u'щ': u'sch',\n",
    "           u'ъ': u'',\n",
    "           u'ы': u'y',\n",
    "           u'ь': u'',\n",
    "           u'э': u'e',\n",
    "           u'ю': u'yu',\n",
    "           u'я': u'ya',}\n",
    "\n",
    "    for k in tr:\n",
    "        string = string.replace(k, tr[k])\n",
    "        \n",
    "    return string\n",
    "\n",
    "def tri(s, d = dict()):\n",
    "    s = transliterate(s.lower())\n",
    "    prefix = 'D'\n",
    "    for i in range(len(s)-2):\n",
    "        if s[i] == '#':\n",
    "            prefix = 'U'\n",
    "            continue\n",
    "        k = prefix + s[i:i+3]\n",
    "        #if not k.isalnum():\n",
    "        #if not k.isalpha():\n",
    "        #    continue\n",
    "        d[k] = d[k] + 1 if k in d else 1\n",
    "    return d"
   ]
  },
  {
   "cell_type": "code",
   "execution_count": 7,
   "metadata": {
    "collapsed": false
   },
   "outputs": [
    {
     "data": {
      "text/plain": [
       "{u'D.ru': 1,\n",
       " u'Dand': 1,\n",
       " u'Ddex': 1,\n",
       " u'Dex.': 1,\n",
       " u'Dnde': 1,\n",
       " u'Dru#': 1,\n",
       " u'Du#u': 1,\n",
       " u'Dx.r': 1,\n",
       " u'Dyan': 1,\n",
       " u'Uart': 1,\n",
       " u'Ulpa': 1,\n",
       " u'Upar': 1,\n",
       " u'Urlp': 1,\n",
       " u'Uurl': 1}"
      ]
     },
     "execution_count": 7,
     "metadata": {},
     "output_type": "execute_result"
    }
   ],
   "source": [
    "tri('yandex.ru#urlpart', d = dict())"
   ]
  },
  {
   "cell_type": "code",
   "execution_count": 1,
   "metadata": {
    "collapsed": false
   },
   "outputs": [
    {
     "ename": "ImportError",
     "evalue": "No module named stats",
     "output_type": "error",
     "traceback": [
      "\u001b[1;31m---------------------------------------------------------------------------\u001b[0m",
      "\u001b[1;31mImportError\u001b[0m                               Traceback (most recent call last)",
      "\u001b[1;32m<ipython-input-1-cb4a6c8d268b>\u001b[0m in \u001b[0;36m<module>\u001b[1;34m()\u001b[0m\n\u001b[1;32m----> 1\u001b[1;33m \u001b[1;32mimport\u001b[0m \u001b[0mstats\u001b[0m\u001b[1;33m\u001b[0m\u001b[0m\n\u001b[0m\u001b[0;32m      2\u001b[0m \u001b[0mstats\u001b[0m\u001b[1;33m.\u001b[0m\u001b[0mnorm\u001b[0m\u001b[1;33m.\u001b[0m\u001b[0mppf\u001b[0m\u001b[1;33m(\u001b[0m\u001b[1;36m0.01\u001b[0m\u001b[1;33m)\u001b[0m\u001b[1;33m\u001b[0m\u001b[0m\n",
      "\u001b[1;31mImportError\u001b[0m: No module named stats"
     ]
    }
   ],
   "source": [
    "import stats\n",
    "stats.norm.ppf(0.01)"
   ]
  },
  {
   "cell_type": "code",
   "execution_count": null,
   "metadata": {
    "collapsed": true
   },
   "outputs": [],
   "source": []
  }
 ],
 "metadata": {
  "kernelspec": {
   "display_name": "Python 2",
   "language": "python",
   "name": "python2"
  }
 },
 "nbformat": 4,
 "nbformat_minor": 0
}
