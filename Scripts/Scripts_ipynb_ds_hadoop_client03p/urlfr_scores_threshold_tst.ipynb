{
 "cells": [
  {
   "cell_type": "code",
   "execution_count": 1,
   "metadata": {
    "collapsed": true
   },
   "outputs": [],
   "source": [
    "from pyspark import SparkConf, SparkContext, HiveContext\n",
    "import re\n",
    "conf = (SparkConf()\n",
    "        .set(\"spark.executor.instances\", 16)\n",
    "        .set(\"spark.driver.maxResultSize\", \"16g\")\n",
    "        .set('spark.driver.memory','16g')\n",
    "        .set(\"spark.executor.memory\", '4g')\n",
    "        .set(\"spark.yarn.executor.memoryOverhead\", 1048)\n",
    "       )\n",
    "\n",
    "try:\n",
    "    sc.stop()\n",
    "except:\n",
    "    pass\n",
    "sc = SparkContext()\n",
    "hc = HiveContext(sc)"
   ]
  },
  {
   "cell_type": "code",
   "execution_count": 2,
   "metadata": {
    "collapsed": true
   },
   "outputs": [],
   "source": [
    "\n",
    "def metrics(y_true,y_score,lift = None, return_str = False):\n",
    "    import sklearn\n",
    "    import collections\n",
    "    \n",
    "    if True:\n",
    "        \n",
    "        res = collections.OrderedDict()\n",
    "        samp_size = len(y_true)\n",
    "        res['Sample size'] = samp_size\n",
    "        res['Posit share'] = sum(y_true) * 1./ samp_size\n",
    "        res['Sample size'] = len(y_true)\n",
    "        res['AUC ROC'] = sklearn.metrics.roc_auc_score(y_true = y_true, y_score = y_score)\n",
    "        res['AUC PR'] = sklearn.metrics.average_precision_score( y_true,  y_score)\n",
    "        res['Log loss'] = sklearn.metrics.log_loss(y_true = y_true, y_pred = y_score)\n",
    "        if lift:\n",
    "            predictions_and_labels = sorted(zip(y_score,y_true), key = lambda e:-e[0])\n",
    "            for l in lift:\n",
    "                res['Lift ' + str(l)] = sum([e[1] for e in predictions_and_labels[:int(l * samp_size)]]) * 1. / int(l * samp_size) / res['Posit share']                \n",
    "        if return_str:\n",
    "            res = '\\n'.join(['{:<12}: {:.5f}'.format(k,v) for (k,v) in res.items()]) + '.'\n",
    "        return res"
   ]
  },
  {
   "cell_type": "code",
   "execution_count": 16,
   "metadata": {
    "collapsed": true
   },
   "outputs": [],
   "source": [
    "query1 = '''\n",
    "\n",
    "\n",
    "create table user_kposminin.urlfr_scores_threshold_tst as\n",
    "  select \n",
    "    v.id, \n",
    "    v.load_src, \n",
    "    max(m.phone_num) as phone_num, \n",
    "    max(if(u.id is Null,0,1)) as label, \n",
    "    max(t1.coeff) as score1, \n",
    "    max(t2.coeff) as score2, \n",
    "    max(t3.coeff) as score3 \n",
    "  from \n",
    "   \n",
    "   (select id, load_src, url_fragment from prod_odd.visit_feature where ymd = '2017-06-13') v\n",
    "   left join     (select \n",
    "       uid_str as id,\n",
    "       property_value as phone_num,\n",
    "       load_src\n",
    "     from\n",
    "       prod_dds.md_uid_property \n",
    "     where\n",
    "       property_cd = 'PHONE'\n",
    "    ) m on v.id = m.id and v.load_src = m.load_src\n",
    "   left join \n",
    "    (\n",
    "      select id\n",
    "      from prod_features_liveinternet.user_action \n",
    "      where ymd between '2017-06-13' and date_add('2017-06-13',3)\n",
    "      and action_type = 'tinkoff_platinum_approved_application'\n",
    "    ) u on u.id = v.id\n",
    "   left join dds_dic. max_coeff_url_fragment_score t1 on t1.url_fragment = v.url_fragment and t1.segment_nm = 'la_apppr_ccall_2_1'\n",
    "   left join dds_dic. max_coeff_url_fragment_score t2 on t2.url_fragment = v.url_fragment and t2.segment_nm = 'la_apppr_ccall_2'\n",
    "   left join dds_dic. max_coeff_url_fragment_score t3 on t3.url_fragment = v.url_fragment and t3.segment_nm = 'la_stand_ccall_2'\n",
    "\n",
    "   group by\n",
    "    v.id, v.load_src \n",
    "\n",
    "'''\n",
    "\n",
    "\n",
    "query2 = '''\n",
    "\n",
    "'''"
   ]
  },
  {
   "cell_type": "code",
   "execution_count": 3,
   "metadata": {
    "collapsed": false
   },
   "outputs": [],
   "source": [
    "data = hc.sql('''\n",
    "   select * from user_kposminin.urlfr_scores_threshold_test \n",
    "   '''\n",
    "   ).toPandas()"
   ]
  },
  {
   "cell_type": "code",
   "execution_count": 4,
   "metadata": {
    "collapsed": false
   },
   "outputs": [
    {
     "data": {
      "text/plain": [
       "[0.5,\n",
       " 0.3,\n",
       " 0.2,\n",
       " 0.1,\n",
       " 0.05,\n",
       " 0.03,\n",
       " 0.02,\n",
       " 0.01,\n",
       " 0.004,\n",
       " 0.0036,\n",
       " 0.0032,\n",
       " 0.0028,\n",
       " 0.0024,\n",
       " 0.002,\n",
       " 0.0016,\n",
       " 0.0012,\n",
       " 0.0008,\n",
       " 0.0004]"
      ]
     },
     "execution_count": 4,
     "metadata": {},
     "output_type": "execute_result"
    }
   ],
   "source": []
  },
  {
   "cell_type": "code",
   "execution_count": 5,
   "metadata": {
    "collapsed": false
   },
   "outputs": [
    {
     "name": "stdout",
     "output_type": "stream",
     "text": [
      "Sample size : 25031520.00000\n",
      "Posit share : 0.00005\n",
      "AUC ROC     : 0.74133\n",
      "AUC PR      : 0.00808\n",
      "Log loss    : 0.00166\n",
      "Lift 0.5    : 1.58271\n",
      "Lift 0.3    : 2.14464\n",
      "Lift 0.2    : 2.66833\n",
      "Lift 0.1    : 4.13965\n",
      "Lift 0.05   : 6.71654\n",
      "Lift 0.03   : 8.45110\n",
      "Lift 0.02   : 11.76227\n",
      "Lift 0.01   : 20.61515\n",
      "Lift 0.004  : 41.56279\n",
      "Lift 0.0036 : 46.18109\n",
      "Lift 0.0032 : 50.39539\n",
      "Lift 0.0028 : 56.40681\n",
      "Lift 0.0024 : 62.69117\n",
      "Lift 0.002  : 72.73489\n",
      "Lift 0.0016 : 87.80228\n",
      "Lift 0.0012 : 114.99346\n",
      "Lift 0.0008 : 162.09651\n",
      "Lift 0.0004 : 286.80046.\n"
     ]
    }
   ],
   "source": [
    "import sklearn,sklearn.metrics\n",
    "print(metrics(y_true = data['approve_label'].fillna(0),y_score = data['score1'].fillna(-100),\n",
    "              lift = [0.5,0.3,0.2,0.1,0.05,0.03,0.02,0.01] + [10.**4*i /(25 * 10**6) for i in range(10,0,-1)], return_str = True))"
   ]
  },
  {
   "cell_type": "code",
   "execution_count": 6,
   "metadata": {
    "collapsed": false
   },
   "outputs": [
    {
     "name": "stdout",
     "output_type": "stream",
     "text": [
      "Sample size : 25031520.00000\n",
      "Posit share : 0.00005\n",
      "AUC ROC     : 0.73756\n",
      "AUC PR      : 0.00457\n",
      "Log loss    : 0.00166\n",
      "Lift 0.5    : 1.58770\n",
      "Lift 0.3    : 2.20837\n",
      "Lift 0.2    : 2.62261\n",
      "Lift 0.1    : 4.23940\n",
      "Lift 0.05   : 5.93516\n",
      "Lift 0.03   : 8.42339\n",
      "Lift 0.02   : 11.22195\n",
      "Lift 0.01   : 20.28264\n",
      "Lift 0.004  : 40.10810\n",
      "Lift 0.0036 : 42.71750\n",
      "Lift 0.0032 : 45.71953\n",
      "Lift 0.0028 : 51.95364\n",
      "Lift 0.0024 : 59.22757\n",
      "Lift 0.002  : 70.24112\n",
      "Lift 0.0016 : 84.68504\n",
      "Lift 0.0012 : 99.06063\n",
      "Lift 0.0008 : 131.96319\n",
      "Lift 0.0004 : 232.76559.\n"
     ]
    }
   ],
   "source": [
    "print(metrics(y_true = data['approve_label'].fillna(0),y_score = data['score2'].fillna(-100),\n",
    "              lift = [0.5,0.3,0.2,0.1,0.05,0.03,0.02,0.01] + [10.**4*i /(25 * 10**6) for i in range(10,0,-1)], return_str = True))"
   ]
  },
  {
   "cell_type": "code",
   "execution_count": 7,
   "metadata": {
    "collapsed": false
   },
   "outputs": [
    {
     "name": "stdout",
     "output_type": "stream",
     "text": [
      "Sample size : 25031520.00000\n",
      "Posit share : 0.00005\n",
      "AUC ROC     : 0.73031\n",
      "AUC PR      : 0.00438\n",
      "Log loss    : 0.00166\n",
      "Lift 0.5    : 1.57440\n",
      "Lift 0.3    : 2.14464\n",
      "Lift 0.2    : 2.62677\n",
      "Lift 0.1    : 4.13965\n",
      "Lift 0.05   : 5.93516\n",
      "Lift 0.03   : 8.83902\n",
      "Lift 0.02   : 12.09477\n",
      "Lift 0.01   : 20.19952\n",
      "Lift 0.004  : 36.36744\n",
      "Lift 0.0036 : 38.56121\n",
      "Lift 0.0032 : 42.60229\n",
      "Lift 0.0028 : 46.90671\n",
      "Lift 0.0024 : 52.99309\n",
      "Lift 0.002  : 60.68168\n",
      "Lift 0.0016 : 75.85285\n",
      "Lift 0.0012 : 96.28970\n",
      "Lift 0.0008 : 136.11951\n",
      "Lift 0.0004 : 222.37427.\n"
     ]
    }
   ],
   "source": [
    "print(metrics(y_true = data['approve_label'].fillna(0),y_score = data['score3'].fillna(-100),\n",
    "              lift = [0.5,0.3,0.2,0.1,0.05,0.03,0.02,0.01] + [10.**4*i /(25 * 10**6) for i in range(10,0,-1)], return_str = True))"
   ]
  },
  {
   "cell_type": "code",
   "execution_count": 71,
   "metadata": {
    "collapsed": false
   },
   "outputs": [
    {
     "name": "stdout",
     "output_type": "stream",
     "text": [
      "Sample size : 25031520.00000\n",
      "Posit share : 0.00028\n",
      "AUC ROC     : 0.75486\n",
      "AUC PR      : 0.01469\n",
      "Log loss    : 0.00972\n",
      "Lift 0.5    : 1.61039\n",
      "Lift 0.3    : 2.24934\n",
      "Lift 0.2    : 2.86890\n",
      "Lift 0.1    : 4.48638\n",
      "Lift 0.05   : 7.24461\n",
      "Lift 0.03   : 10.74064\n",
      "Lift 0.02   : 14.33741\n",
      "Lift 0.01   : 23.75144\n",
      "Lift 0.005  : 39.95479\n",
      "Lift 0.001  : 125.71203\n",
      "Lift 0.0005 : 203.75812\n",
      "Lift 0.0001 : 360.40781.\n"
     ]
    }
   ],
   "source": [
    "print(metrics(y_true = data['full_app_label'].fillna(0),y_score = data['score3'].fillna(-100),\n",
    "              lift = [0.5,0.3,0.2,0.1,0.05,0.03,0.02,0.01,0.005,0.001,0.0005,0.0001], return_str = True))"
   ]
  },
  {
   "cell_type": "code",
   "execution_count": 104,
   "metadata": {
    "collapsed": false
   },
   "outputs": [
    {
     "data": {
      "text/html": [
       "<div>\n",
       "<table border=\"1\" class=\"dataframe\">\n",
       "  <thead>\n",
       "    <tr style=\"text-align: right;\">\n",
       "      <th></th>\n",
       "      <th>score1_q</th>\n",
       "      <th>score2_q</th>\n",
       "      <th>score3_q</th>\n",
       "      <th>cnt</th>\n",
       "    </tr>\n",
       "  </thead>\n",
       "  <tbody>\n",
       "    <tr>\n",
       "      <th>0.0015</th>\n",
       "      <td>-7.484206</td>\n",
       "      <td>-6.366194</td>\n",
       "      <td>-5.727061</td>\n",
       "      <td>37547.280</td>\n",
       "    </tr>\n",
       "    <tr>\n",
       "      <th>0.0010</th>\n",
       "      <td>-7.206221</td>\n",
       "      <td>-6.229065</td>\n",
       "      <td>-5.458266</td>\n",
       "      <td>25031.520</td>\n",
       "    </tr>\n",
       "    <tr>\n",
       "      <th>0.0004</th>\n",
       "      <td>-6.320478</td>\n",
       "      <td>-5.741620</td>\n",
       "      <td>-5.086167</td>\n",
       "      <td>10012.608</td>\n",
       "    </tr>\n",
       "    <tr>\n",
       "      <th>0.0002</th>\n",
       "      <td>-5.677153</td>\n",
       "      <td>-5.121159</td>\n",
       "      <td>-4.576494</td>\n",
       "      <td>5006.304</td>\n",
       "    </tr>\n",
       "  </tbody>\n",
       "</table>\n",
       "</div>"
      ],
      "text/plain": [
       "        score1_q  score2_q  score3_q        cnt\n",
       "0.0015 -7.484206 -6.366194 -5.727061  37547.280\n",
       "0.0010 -7.206221 -6.229065 -5.458266  25031.520\n",
       "0.0004 -6.320478 -5.741620 -5.086167  10012.608\n",
       "0.0002 -5.677153 -5.121159 -4.576494   5006.304"
      ]
     },
     "execution_count": 104,
     "metadata": {},
     "output_type": "execute_result"
    }
   ],
   "source": [
    "import pandas as pd\n",
    "quantiles = [0.0015,0.001,0.0004,0.0002]\n",
    "df_quantiles = pd.DataFrame(index = quantiles)\n",
    "df_quantiles['score1_q'] = data.loc[:,'score1'].quantile(1 - np.array(quantiles)).values\n",
    "df_quantiles['score2_q'] = data.loc[:,'score2'].quantile(1 - np.array(quantiles)).values\n",
    "df_quantiles['score3_q'] = data.loc[:,'score3'].quantile(1 - np.array(quantiles)).values\n",
    "df_quantiles['cnt'] = np.array([0.0015,0.001,0.0004,0.0002])* data.shape[0]\n",
    "df_quantiles"
   ]
  },
  {
   "cell_type": "markdown",
   "metadata": {},
   "source": [
    "Для тестирования увеличения охвата снижаем порог отсечения:\n",
    "'la_apppr_ccall_2_1' -7.2\n",
    "'la_apppr_ccall_2' -6.23\n",
    "'la_stand_ccall_2э -5.46"
   ]
  },
  {
   "cell_type": "code",
   "execution_count": null,
   "metadata": {
    "collapsed": true
   },
   "outputs": [],
   "source": []
  }
 ],
 "metadata": {
  "kernelspec": {
   "display_name": "Python 2",
   "language": "python",
   "name": "python2"
  },
  "language_info": {
   "codemirror_mode": {
    "name": "ipython",
    "version": 2
   },
   "file_extension": ".py",
   "mimetype": "text/x-python",
   "name": "python",
   "nbconvert_exporter": "python",
   "pygments_lexer": "ipython2",
   "version": "2.7.10"
  }
 },
 "nbformat": 4,
 "nbformat_minor": 0
}
