{
 "cells": [
  {
   "cell_type": "code",
   "execution_count": 4,
   "metadata": {
    "collapsed": true
   },
   "outputs": [],
   "source": [
    "sc.stop()\n",
    "\n",
    "sc = SparkContext()\n",
    "hc = HiveContext(sc)\n",
    "\n",
    "\n"
   ]
  },
  {
   "cell_type": "code",
   "execution_count": 5,
   "metadata": {
    "collapsed": false
   },
   "outputs": [
    {
     "name": "stdout",
     "output_type": "stream",
     "text": [
      "+------------+\n",
      "|line_item_id|\n",
      "+------------+\n",
      "|         413|\n",
      "|         413|\n",
      "|         447|\n",
      "|         447|\n",
      "|         447|\n",
      "|         426|\n",
      "|         426|\n",
      "|         426|\n",
      "|         426|\n",
      "|         413|\n",
      "+------------+\n",
      "\n"
     ]
    }
   ],
   "source": [
    "q1 = \"\"\"\n",
    "select line_item_id\n",
    "from prod_odd_dsp.click\n",
    "where ymd between '2017-02-10' and '2017-02-15'\n",
    " and utm_source='datamind_cc'\n",
    " limit 10\n",
    "\"\"\"\n",
    "\n",
    "hc.sql(q1).show()"
   ]
  },
  {
   "cell_type": "code",
   "execution_count": 6,
   "metadata": {
    "collapsed": false
   },
   "outputs": [
    {
     "name": "stdout",
     "output_type": "stream",
     "text": [
      "+---+\n",
      "|  a|\n",
      "+---+\n",
      "|  1|\n",
      "+---+\n",
      "\n"
     ]
    }
   ],
   "source": [
    "hc.sql('select 1 as a').show()"
   ]
  },
  {
   "cell_type": "code",
   "execution_count": null,
   "metadata": {
    "collapsed": false
   },
   "outputs": [],
   "source": []
  },
  {
   "cell_type": "code",
   "execution_count": null,
   "metadata": {
    "collapsed": false
   },
   "outputs": [],
   "source": []
  },
  {
   "cell_type": "code",
   "execution_count": 1,
   "metadata": {
    "collapsed": false
   },
   "outputs": [
    {
     "name": "stdout",
     "output_type": "stream",
     "text": [
      "\n",
      "insert overwrite \n",
      " table user_kposminin.cred_app_visits partition(ymd)\n",
      "select\n",
      " id\n",
      " ,urlfr\n",
      " ,cast(count(*) as int) cnt\n",
      " ,MIN(time) as first_visit\n",
      " ,cast(MAX(time) - MIN(time) as int) as duration\n",
      " ,cast(from_unixtime(cast(AVG(time) as Bigint), 'HH') AS int) as avg_hour\n",
      " ,max(current_timestamp()) as load_dttm\n",
      " ,max(ymd) ymd\n",
      "from\n",
      " (\n",
      "   select\n",
      "    id\n",
      "    ,cast(timestamp as Bigint) as time\n",
      "    ,concat(parse_url(url, 'HOST'), '#', path_fr) as urlfr\n",
      "    ,ymd\n",
      "   from\n",
      "    prod_odd.weblog\n",
      "    left semi join user_kposminin.\n",
      "    LATERAL VIEW explode(split(parse_url(url, \"PATH\"), '/')) tt AS path_fr\n",
      "   where\n",
      "    ymd = '2015-12-31'\n",
      "   ) t\n",
      "group by\n",
      " id\n",
      " ,urlfr\n",
      "\n"
     ]
    }
   ],
   "source": [
    "init_query = '''\n",
    "CREATE TABLE `user_kposminin.cred_app_visits`(\n",
    "  `phone_mobile` varchar(35), \n",
    "  `approve` int, \n",
    "  `call_ymd` string, \n",
    "  `id` string, \n",
    "  `urlfr` string, \n",
    "  `cnt` int, \n",
    "  `duration` int, \n",
    "  `avg_hour` int)\n",
    "PARTITIONED BY ( \n",
    "  `ymd` string)\n",
    "STORED AS RCFile\n",
    ";\n",
    "\n",
    "create table user_kposminin.cred_app_id_phone as\n",
    "select \n",
    "  financial_application_rk, \n",
    "  retro_date, \n",
    "  mobile_telephone_no as phone_num,\n",
    "  id,\n",
    "  load_src,\n",
    "  financial_product_type_cd, \n",
    "  default_flg\n",
    "from\n",
    "  user_kposminin.credit_app_default_2014_2016 c \n",
    "  inner join (\n",
    "     select \n",
    "       uid_str as id,\n",
    "       property_value as phone_num,\n",
    "       load_src\n",
    "     from\n",
    "       prod_dds.md_uid_property \n",
    "     where\n",
    "       property_cd = 'PHONE' \n",
    "      ) m on c.mobile_telephone_no = m.phone_num\n",
    ";\n",
    "\n",
    "'''\n",
    "\n",
    "\n",
    "query = '''\n",
    "insert overwrite \n",
    " table user_kposminin.cred_app_visits partition(ymd)\n",
    "select\n",
    " id\n",
    " ,urlfr\n",
    " ,cast(count(*) as int) cnt\n",
    " ,MIN(time) as first_visit\n",
    " ,cast(MAX(time) - MIN(time) as int) as duration\n",
    " ,cast(from_unixtime(cast(AVG(time) as Bigint), 'HH') AS int) as avg_hour\n",
    " ,max(current_timestamp()) as load_dttm\n",
    " ,max(ymd) ymd\n",
    "from\n",
    " (\n",
    "   select\n",
    "    id\n",
    "    ,cast(timestamp as Bigint) as time\n",
    "    ,concat(parse_url(url, 'HOST'), '#', path_fr) as urlfr\n",
    "    ,ymd\n",
    "   from\n",
    "    prod_odd.weblog\n",
    "    inner join user_kposminin.\n",
    "    LATERAL VIEW explode(split(parse_url(url, \"PATH\"), '/')) tt AS path_fr\n",
    "   where\n",
    "    ymd = '#ymd'\n",
    "   ) t\n",
    "group by\n",
    " id\n",
    " ,urlfr\n",
    "'''\n",
    "\n",
    "ymd_to_process = '2015-12-31'\n",
    "\n",
    "print(query.replace('#ymd',ymd_to_process))\n"
   ]
  },
  {
   "cell_type": "code",
   "execution_count": 2,
   "metadata": {
    "collapsed": true
   },
   "outputs": [],
   "source": [
    "sc.stop()"
   ]
  },
  {
   "cell_type": "code",
   "execution_count": null,
   "metadata": {
    "collapsed": true
   },
   "outputs": [],
   "source": []
  }
 ],
 "metadata": {
  "kernelspec": {
   "display_name": "Python 2",
   "language": "python",
   "name": "python2"
  },
  "language_info": {
   "codemirror_mode": {
    "name": "ipython",
    "version": 2
   },
   "file_extension": ".py",
   "mimetype": "text/x-python",
   "name": "python",
   "nbconvert_exporter": "python",
   "pygments_lexer": "ipython2",
   "version": "2.7.10"
  }
 },
 "nbformat": 4,
 "nbformat_minor": 0
}
