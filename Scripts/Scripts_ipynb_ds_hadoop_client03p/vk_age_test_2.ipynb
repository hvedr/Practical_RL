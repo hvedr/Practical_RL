{
 "cells": [
  {
   "cell_type": "code",
   "execution_count": 1,
   "metadata": {
    "collapsed": true
   },
   "outputs": [],
   "source": [
    "##### Config\n",
    "\n",
    "import datetime\n",
    "import pandas as pd\n",
    "from pyspark import SparkConf, SparkContext, HiveContext\n",
    "import re\n",
    "import numpy as np\n",
    "import pandas as pd\n",
    "import sklearn,sklearn.metrics\n",
    "import datetime\n",
    "from pyspark.mllib.regression import LabeledPoint\n",
    "from pyspark.mllib.feature import HashingTF\n",
    "from pyspark.mllib.classification import LogisticRegressionWithSGD, NaiveBayes, NaiveBayesModel\n",
    "import scipy.sparse as sps\n",
    "from pyspark.mllib.linalg import Vectors\n",
    "from pyspark.mllib.linalg import SparseVector\n",
    "from pyspark.mllib.evaluation import BinaryClassificationMetrics\n",
    "\n",
    "\n",
    "hive_config_query = '''\n",
    "set hive.vectorized.execution.enabled=true;\n",
    "set hive.vectorized.execution.reduce.enabled = true;\n",
    "set mapreduce.map.memory.mb=4096;\n",
    "set mapreduce.map.child.java.opts=-Xmx4g;\n",
    "set mapreduce.task.io.sort.mb=1024;\n",
    "set mapreduce.reduce.child.java.opts=-Xmx4g;\n",
    "set mapreduce.reduce.memory.mb=7000;\n",
    "set mapreduce.reduce.shuffle.input.buffer.percent=0.5;\n",
    "set mapreduce.input.fileinputformat.split.minsize=536870912;\n",
    "set mapreduce.input.fileinputformat.split.maxsize=1073741824;\n",
    "set hive.optimize.ppd=true;\n",
    "set hive.merge.smallfiles.avgsize=536870912;\n",
    "set hive.merge.mapredfiles=true;\n",
    "set hive.merge.mapfiles=true;\n",
    "set hive.hadoop.supports.splittable.combineinputformat=true;\n",
    "set hive.exec.reducers.bytes.per.reducer=536870912;\n",
    "set hive.exec.parallel=true;\n",
    "set hive.exec.max.created.files=10000000;\n",
    "set hive.exec.compress.output=true;\n",
    "set hive.exec.dynamic.partition.mode=nonstrict;\n",
    "set hive.exec.max.dynamic.partitions=1000000;\n",
    "set hive.exec.max.dynamic.partitions.pernode=100000;\n",
    "set io.seqfile.compression.type=BLOCK;\n",
    "set mapreduce.map.failures.maxpercent=5;\n",
    "'''\n",
    "try:\n",
    "    sc.stop()\n",
    "except NameError:\n",
    "    pass\n",
    "\n",
    "conf = (SparkConf()\n",
    "        .set(\"spark.executor.instances\", 4)\n",
    "        .set(\"spark.driver.maxResultSize\", \"8g\")\n",
    "        .set('spark.driver.memory','8g')\n",
    "        .set(\"spark.executor.memory\", '4g')\n",
    "        .set(\"spark.yarn.executor.memoryOverhead\", 1048)\n",
    "        .set(\"spark.akka.frameSize\", '1024')        \n",
    "       )\n",
    "sc = SparkContext(conf=conf)\n",
    "hc = HiveContext(sc)"
   ]
  },
  {
   "cell_type": "code",
   "execution_count": 5,
   "metadata": {
    "collapsed": true
   },
   "outputs": [],
   "source": [
    "train = hc.sql('select * from user_kposminin.appl_ages_train_2').toPandas()\n",
    "test = hc.sql('select * from user_kposminin.appl_ages_test_2').toPandas()"
   ]
  },
  {
   "cell_type": "code",
   "execution_count": 3,
   "metadata": {
    "collapsed": true
   },
   "outputs": [],
   "source": [
    "def cv(clf, X, y, folds = 5, metrics = 'roc_auc,pr_auc'):\n",
    "    '''calc cross-validation metrics for clf classfier on X,y data.\n",
    "       clf must support predict_proba method.\n",
    "       Returns dictionary with metrics values on each fold.\n",
    "    '''\n",
    "    assert X.shape[0] == len(y), 'X and y lengths doesnt match'\n",
    "    idx = range(X.shape[0])\n",
    "    np.random.shuffle(idx)\n",
    "    fold_idx = []\n",
    "    for i in range(folds):\n",
    "        fold_idx.append(idx[i*len(idx)/folds:(i+1)*len(idx)/folds])\n",
    "    res = {k:[] for k in metrics.split(',')}\n",
    "    \n",
    "    for i in range(folds):\n",
    "        train_idx = reduce(lambda x,y: x+y,(fold_idx[:i] + fold_idx[(i+1):]))\n",
    "        valid_idx = fold_idx[i]\n",
    "        \n",
    "        clf.fit(X[train_idx],y[train_idx])\n",
    "        valid_pred = clf.predict_proba(X[valid_idx])[:,1]\n",
    "        \n",
    "        if('roc_auc' in metrics):\n",
    "            res['roc_auc'].append(\n",
    "                sklearn.metrics.roc_auc_score(\n",
    "                  y_true = y[valid_idx],\n",
    "                  y_score = valid_pred\n",
    "                )\n",
    "            )\n",
    "        if('pr_auc' in metrics):\n",
    "            res['pr_auc'].append(\n",
    "                sklearn.metrics.average_precision_score(\n",
    "                  y_true = y[valid_idx],\n",
    "                  y_score = valid_pred\n",
    "                )\n",
    "            )\n",
    "            \n",
    "    return res"
   ]
  },
  {
   "cell_type": "code",
   "execution_count": 15,
   "metadata": {
    "collapsed": false
   },
   "outputs": [
    {
     "data": {
      "text/plain": [
       "((3781692, 4), (3781692,), (233833, 4), (3781692,))"
      ]
     },
     "execution_count": 15,
     "metadata": {},
     "output_type": "execute_result"
    }
   ],
   "source": [
    "X_train.shape,y_train.shape,X_test.shape,y_test.shape"
   ]
  },
  {
   "cell_type": "code",
   "execution_count": 16,
   "metadata": {
    "collapsed": false,
    "scrolled": true
   },
   "outputs": [
    {
     "name": "stdout",
     "output_type": "stream",
     "text": [
      "[LightGBM] [Info] Finished loading parameters\n",
      "[LightGBM] [Info] Finished loading data in 5.745677 seconds\n",
      "[LightGBM] [Info] Number of postive: 49556, number of negative: 3732136\n",
      "[LightGBM] [Info] Number of data: 3781692, number of features: 4\n",
      "[LightGBM] [Info] Finished initializing training\n",
      "[LightGBM] [Info] Started training...\n",
      "[LightGBM] [Info] Iteration:1, valid_1 auc : 0.723567\n",
      "[LightGBM] [Info] 0.434355 seconds elapsed, finished iteration 1\n",
      "[LightGBM] [Info] Iteration:2, valid_1 auc : 0.725728\n",
      "[LightGBM] [Info] 0.848092 seconds elapsed, finished iteration 2\n",
      "[LightGBM] [Info] Iteration:3, valid_1 auc : 0.726147\n",
      "[LightGBM] [Info] 1.262182 seconds elapsed, finished iteration 3\n",
      "[LightGBM] [Info] Iteration:4, valid_1 auc : 0.727655\n",
      "[LightGBM] [Info] 1.673239 seconds elapsed, finished iteration 4\n",
      "[LightGBM] [Info] Iteration:5, valid_1 auc : 0.727451\n",
      "[LightGBM] [Info] 2.091664 seconds elapsed, finished iteration 5\n",
      "[LightGBM] [Info] Iteration:6, valid_1 auc : 0.727692\n",
      "[LightGBM] [Info] 2.508739 seconds elapsed, finished iteration 6\n",
      "[LightGBM] [Info] Iteration:7, valid_1 auc : 0.727628\n",
      "[LightGBM] [Info] 2.916189 seconds elapsed, finished iteration 7\n",
      "[LightGBM] [Info] Iteration:8, valid_1 auc : 0.727679\n",
      "[LightGBM] [Info] 3.345036 seconds elapsed, finished iteration 8\n",
      "[LightGBM] [Info] Iteration:9, valid_1 auc : 0.727789\n",
      "[LightGBM] [Info] 3.767299 seconds elapsed, finished iteration 9\n",
      "[LightGBM] [Info] Iteration:10, valid_1 auc : 0.727775\n",
      "[LightGBM] [Info] 4.181353 seconds elapsed, finished iteration 10\n",
      "[LightGBM] [Info] Iteration:11, valid_1 auc : 0.728052\n",
      "[LightGBM] [Info] 4.690440 seconds elapsed, finished iteration 11\n",
      "[LightGBM] [Info] Iteration:12, valid_1 auc : 0.728515\n",
      "[LightGBM] [Info] 5.124571 seconds elapsed, finished iteration 12\n",
      "[LightGBM] [Info] Iteration:13, valid_1 auc : 0.728718\n",
      "[LightGBM] [Info] 5.555595 seconds elapsed, finished iteration 13\n",
      "[LightGBM] [Info] Iteration:14, valid_1 auc : 0.729383\n",
      "[LightGBM] [Info] 5.985747 seconds elapsed, finished iteration 14\n",
      "[LightGBM] [Info] Iteration:15, valid_1 auc : 0.729377\n",
      "[LightGBM] [Info] 6.599624 seconds elapsed, finished iteration 15\n",
      "[LightGBM] [Info] Iteration:16, valid_1 auc : 0.729686\n",
      "[LightGBM] [Info] 7.188998 seconds elapsed, finished iteration 16\n",
      "[LightGBM] [Info] Iteration:17, valid_1 auc : 0.729812\n",
      "[LightGBM] [Info] 7.627533 seconds elapsed, finished iteration 17\n",
      "[LightGBM] [Info] Iteration:18, valid_1 auc : 0.729865\n",
      "[LightGBM] [Info] 8.063185 seconds elapsed, finished iteration 18\n",
      "[LightGBM] [Info] Iteration:19, valid_1 auc : 0.730254\n",
      "[LightGBM] [Info] 8.513317 seconds elapsed, finished iteration 19\n",
      "[LightGBM] [Info] Iteration:20, valid_1 auc : 0.730736\n",
      "[LightGBM] [Info] 9.093499 seconds elapsed, finished iteration 20\n",
      "[LightGBM] [Info] Iteration:21, valid_1 auc : 0.731543\n",
      "[LightGBM] [Info] 9.637139 seconds elapsed, finished iteration 21\n",
      "[LightGBM] [Info] Iteration:22, valid_1 auc : 0.731860\n",
      "[LightGBM] [Info] 10.092894 seconds elapsed, finished iteration 22\n",
      "[LightGBM] [Info] Iteration:23, valid_1 auc : 0.731902\n",
      "[LightGBM] [Info] 10.655728 seconds elapsed, finished iteration 23\n",
      "[LightGBM] [Info] Iteration:24, valid_1 auc : 0.732115\n",
      "[LightGBM] [Info] 11.304949 seconds elapsed, finished iteration 24\n",
      "[LightGBM] [Info] Iteration:25, valid_1 auc : 0.732310\n",
      "[LightGBM] [Info] 11.896055 seconds elapsed, finished iteration 25\n",
      "[LightGBM] [Info] Iteration:26, valid_1 auc : 0.732726\n",
      "[LightGBM] [Info] 12.554495 seconds elapsed, finished iteration 26\n",
      "[LightGBM] [Info] Iteration:27, valid_1 auc : 0.732851\n",
      "[LightGBM] [Info] 13.005550 seconds elapsed, finished iteration 27\n",
      "[LightGBM] [Info] Iteration:28, valid_1 auc : 0.732838\n",
      "[LightGBM] [Info] 13.476517 seconds elapsed, finished iteration 28\n",
      "[LightGBM] [Info] Iteration:29, valid_1 auc : 0.733035\n",
      "[LightGBM] [Info] 13.912569 seconds elapsed, finished iteration 29\n",
      "[LightGBM] [Info] Iteration:30, valid_1 auc : 0.733119\n",
      "[LightGBM] [Info] 14.365237 seconds elapsed, finished iteration 30\n",
      "[LightGBM] [Info] Iteration:31, valid_1 auc : 0.733187\n",
      "[LightGBM] [Info] 14.914223 seconds elapsed, finished iteration 31\n",
      "[LightGBM] [Info] Iteration:32, valid_1 auc : 0.733300\n",
      "[LightGBM] [Info] 15.362995 seconds elapsed, finished iteration 32\n",
      "[LightGBM] [Info] Iteration:33, valid_1 auc : 0.733302\n",
      "[LightGBM] [Info] 15.811417 seconds elapsed, finished iteration 33\n",
      "[LightGBM] [Info] Iteration:34, valid_1 auc : 0.733176\n",
      "[LightGBM] [Info] 16.215937 seconds elapsed, finished iteration 34\n",
      "[LightGBM] [Info] Iteration:35, valid_1 auc : 0.733210\n",
      "[LightGBM] [Info] 16.601640 seconds elapsed, finished iteration 35\n",
      "[LightGBM] [Info] Iteration:36, valid_1 auc : 0.733160\n",
      "[LightGBM] [Info] 16.994400 seconds elapsed, finished iteration 36\n",
      "[LightGBM] [Info] Iteration:37, valid_1 auc : 0.733221\n",
      "[LightGBM] [Info] 17.372027 seconds elapsed, finished iteration 37\n",
      "[LightGBM] [Info] Iteration:38, valid_1 auc : 0.733234\n",
      "[LightGBM] [Info] 17.715725 seconds elapsed, finished iteration 38\n",
      "[LightGBM] [Info] Iteration:39, valid_1 auc : 0.733243\n",
      "[LightGBM] [Info] 18.251906 seconds elapsed, finished iteration 39\n",
      "[LightGBM] [Info] Iteration:40, valid_1 auc : 0.733215\n",
      "[LightGBM] [Info] 18.753134 seconds elapsed, finished iteration 40\n",
      "[LightGBM] [Info] Iteration:41, valid_1 auc : 0.733242\n",
      "[LightGBM] [Info] 19.301896 seconds elapsed, finished iteration 41\n",
      "[LightGBM] [Info] Iteration:42, valid_1 auc : 0.733319\n",
      "[LightGBM] [Info] 19.671590 seconds elapsed, finished iteration 42\n",
      "[LightGBM] [Info] Iteration:43, valid_1 auc : 0.733319\n",
      "[LightGBM] [Info] 20.237891 seconds elapsed, finished iteration 43\n",
      "[LightGBM] [Info] Iteration:44, valid_1 auc : 0.733343\n",
      "[LightGBM] [Info] 20.593291 seconds elapsed, finished iteration 44\n",
      "[LightGBM] [Info] Iteration:45, valid_1 auc : 0.733313\n",
      "[LightGBM] [Info] 20.884207 seconds elapsed, finished iteration 45\n",
      "[LightGBM] [Info] Iteration:46, valid_1 auc : 0.733249\n",
      "[LightGBM] [Info] 21.243055 seconds elapsed, finished iteration 46\n",
      "[LightGBM] [Info] Iteration:47, valid_1 auc : 0.733166\n",
      "[LightGBM] [Info] 21.687736 seconds elapsed, finished iteration 47\n",
      "[LightGBM] [Info] Iteration:48, valid_1 auc : 0.733150\n",
      "[LightGBM] [Info] 21.960216 seconds elapsed, finished iteration 48\n",
      "[LightGBM] [Info] Iteration:49, valid_1 auc : 0.733132\n",
      "[LightGBM] [Info] 22.259889 seconds elapsed, finished iteration 49\n",
      "[LightGBM] [Info] Iteration:50, valid_1 auc : 0.733110\n",
      "[LightGBM] [Info] 22.565158 seconds elapsed, finished iteration 50\n",
      "[LightGBM] [Info] Iteration:51, valid_1 auc : 0.733154\n",
      "[LightGBM] [Info] 22.966340 seconds elapsed, finished iteration 51\n",
      "[LightGBM] [Info] Iteration:52, valid_1 auc : 0.733163\n",
      "[LightGBM] [Info] 23.290019 seconds elapsed, finished iteration 52\n",
      "[LightGBM] [Info] Iteration:53, valid_1 auc : 0.733137\n",
      "[LightGBM] [Info] 23.678504 seconds elapsed, finished iteration 53\n",
      "[LightGBM] [Info] Iteration:54, valid_1 auc : 0.733149\n",
      "[LightGBM] [Info] Early stopping at iteration 54, the best iteration round is 44\n",
      "[LightGBM] [Info] 24.014801 seconds elapsed, finished iteration 54\n",
      "[LightGBM] [Info] Finished training\n"
     ]
    }
   ],
   "source": [
    "from sklearn.feature_extraction import DictVectorizer\n",
    "import os\n",
    "import sklearn, sklearn.cross_validation\n",
    "from pylightgbm.models import GBMClassifier\n",
    "import sklearn.model_selection\n",
    "\n",
    "start = datetime.datetime.now()\n",
    "exec_path = \"/opt/share/LightGBM-master/lightgbm\"\n",
    "os.environ[\"LIGHTGBM_EXEC\"] = exec_path\n",
    "\n",
    "feats = [u'max_score', u'avg_score', u'cnt', u'visit_count',u'good_url_avg_hour']\n",
    "\n",
    "X_train, y_train = train[feat_cols].values, train['label'].values\n",
    "X_test, y_test   =  test[feat_cols].values, test['label'].values\n",
    "\n",
    "result = []\n",
    "clf = GBMClassifier(\n",
    "        exec_path=exec_path,\n",
    "        min_data_in_leaf = 50,\n",
    "       # is_unbalance = True,\n",
    "        num_iterations = 600,\n",
    "        bagging_fraction = 0.8,\n",
    "        bagging_freq = 10,\n",
    "        num_leaves = 16,\n",
    "        learning_rate = 0.2,\n",
    "        metric = 'auc',\n",
    "        early_stopping_round = 10\n",
    "        \n",
    "    )\n",
    "clf.fit(X_train,y_train, test_data=[(X_test, y_test)])\n",
    "\n",
    "#result.append((i,feat_list[i], cv(clf, data[feats].values, df_train[label].values, folds = 5, metrics = 'roc_auc,pr_auc')))\n",
    "#print(datetime.datetime.now())\n",
    "\n"
   ]
  },
  {
   "cell_type": "code",
   "execution_count": null,
   "metadata": {
    "collapsed": false
   },
   "outputs": [],
   "source": [
    "import numpy as np\n",
    "from sklearn import datasets, metrics, model_selection\n",
    "\n",
    "\n",
    "# Parameters\n",
    "seed = 7376\n",
    "np.random.seed(seed)  # for reproducibility\n",
    "\n",
    "\n",
    "# 'exec_path' is the path to lightgbm executable\n",
    "\n",
    "gbm = GBMClassifier(\n",
    "        exec_path=exec_path,\n",
    "        min_data_in_leaf = 100,\n",
    "       # is_unbalance = True,\n",
    "        num_iterations = 700,\n",
    "        bagging_fraction = 0.8,\n",
    "        bagging_freq = 10,\n",
    "        num_leaves = 16,\n",
    "        learning_rate = 0.2,\n",
    "        metric = 'auc',\n",
    "        early_stopping_round = 10,\n",
    "        verbose = False\n",
    "        \n",
    "    )\n",
    "\n",
    "param_grid = {\n",
    "    'learning_rate': [0.2, 0.1, 0.04],\n",
    "    'min_data_in_leaf': [10,100,500],\n",
    "    'bagging_fraction': [0.5, 0.9],\n",
    "    'num_leaves': [3,7,31,127],\n",
    "    'num_iterations': [20,40,100,300,600]\n",
    "}\n",
    "\n",
    "scorer = metrics.make_scorer(metrics.accuracy_score, greater_is_better=True)\n",
    "#scorer = metrics.make_scorer(metrics.roc_auc_score, greater_is_better=True)\n",
    "#clf = model_selection.GridSearchCV(gbm, param_grid, scoring=scorer, cv=2)\n",
    "clf = model_selection.RandomizedSearchCV(gbm, param_grid, scoring=scorer, cv = 4, n_iter = 15)\n",
    "\n",
    "clf.fit(X_train, y_train)\n",
    "\n",
    "print(\"Best score: \", clf.best_score_)\n",
    "print(\"Best params: \", clf.best_params_)"
   ]
  },
  {
   "cell_type": "code",
   "execution_count": null,
   "metadata": {
    "collapsed": false
   },
   "outputs": [],
   "source": []
  },
  {
   "cell_type": "code",
   "execution_count": 17,
   "metadata": {
    "collapsed": false
   },
   "outputs": [
    {
     "name": "stdout",
     "output_type": "stream",
     "text": [
      "[LightGBM] [Info] Finished loading parameters\n",
      "[LightGBM] [Info] Finished loading 44 models\n",
      "[LightGBM] [Info] Finished initializing prediction\n",
      "[LightGBM] [Info] Finished prediction\n"
     ]
    }
   ],
   "source": [
    "y_pred = clf.predict_proba(X_test)[:,1]"
   ]
  },
  {
   "cell_type": "code",
   "execution_count": 18,
   "metadata": {
    "collapsed": false
   },
   "outputs": [
    {
     "data": {
      "image/png": "[encoded data removed]",
      "text/plain": [
       "<matplotlib.figure.Figure at 0x7f188f069a10>"
      ]
     },
     "metadata": {},
     "output_type": "display_data"
    }
   ],
   "source": [
    "%matplotlib inline\n",
    "\n",
    "import matplotlib\n",
    "import numpy as np\n",
    "import matplotlib.pyplot as plt\n",
    "fpr, tpr, threshold = sklearn.metrics.roc_curve(y_test, y_pred)\n",
    "precision,recall, thres1 = sklearn.metrics.precision_recall_curve(y_test, y_pred)\n",
    "roc_auc = sklearn.metrics.auc(fpr, tpr)\n",
    "\n",
    "\n",
    "import matplotlib.pyplot as plt\n",
    "plt.title('Receiver Operating Characteristic')\n",
    "plt.plot(fpr, tpr, 'b', label = 'AUC = %0.4f' % roc_auc)\n",
    "plt.legend(loc = 'lower right')\n",
    "plt.plot([0, 1], [0, 1],'r--')\n",
    "plt.xlim([0, 1])\n",
    "plt.ylim([0, 1])\n",
    "plt.ylabel('True Positive Rate')\n",
    "plt.xlabel('False Positive Rate')\n",
    "plt.show()\n",
    "\n",
    "#a = sklearn.metrics.roc_curve(y_test,y_pred)"
   ]
  },
  {
   "cell_type": "code",
   "execution_count": 19,
   "metadata": {
    "collapsed": true
   },
   "outputs": [],
   "source": [
    "#y_control = np.array(sorted(zip(y_pred_aza,y_test_aza),reverse = True))\n",
    "test_pred_labels = np.array(sorted(zip(y_pred,y_test),reverse = True))"
   ]
  },
  {
   "cell_type": "code",
   "execution_count": 34,
   "metadata": {
    "collapsed": false
   },
   "outputs": [
    {
     "name": "stdout",
     "output_type": "stream",
     "text": [
      "Test: Scholars share and lift\n",
      "quantile  \tshare     \tlift      \n",
      "1.0%      \t11.68%    \t4.49      \n",
      "2.0%      \t11.04%    \t4.24      \n",
      "3.0%      \t9.97%     \t3.83      \n",
      "10.0%     \t7.98%     \t3.07      \n",
      "20.0%     \t6.73%     \t2.59      \n",
      "50.0%     \t4.24%     \t1.63      \n",
      "100.0%    \t2.60%     \t1.0       \n"
     ]
    }
   ],
   "source": [
    "print('Test: Scholars share and lift\\n{:<10}\\t{:<10}\\t{:<10}'.format(*'quantile share lift'.split(' ')))\n",
    "for q in [0.01,0.02,0.03,0.1,0.2,0.5,1]:\n",
    "    print('{:<10.1%}\\t{:<10.2%}\\t{:<10.3}'.format(q,\n",
    "                                                     test_pred_labels[:int(q*test_pred_labels.shape[0]),1].mean(),\n",
    "                                                     test_pred_labels[:int(q*test_pred_labels.shape[0]),1].mean()/test_pred_labels[:,1].mean())\n",
    "         )\n"
   ]
  },
  {
   "cell_type": "markdown",
   "metadata": {},
   "source": [
    "Простой классификатор дает AUC ROC 0.73. Попробуем еще лог регрессию"
   ]
  },
  {
   "cell_type": "code",
   "execution_count": 72,
   "metadata": {
    "collapsed": false
   },
   "outputs": [],
   "source": [
    "import pyspark.ml.feature as pmf\n",
    "from pyspark.sql import functions as F\n",
    "from pyspark.ml.classification import LogisticRegression\n",
    "\n",
    "# Data prepartion. url_fragment a sbag of words. Hashing for dimension reduction + TFIDF\n",
    "sdf_train = hc.sql('select * from user_kposminin.appl_ages_visits_mar_1')\n",
    "sdf_test = hc.sql('select * from user_kposminin.appl_ages_visits_apr_test_1')\n",
    "\n",
    "hashingTF = pmf.HashingTF(inputCol=\"ufl\", outputCol=\"url_fragment_TF\", numFeatures = 2**17)\n",
    "sdf_train_TF = hashingTF.transform(sdf_train.groupBy('phone_num').agg(F.max('label').alias('label'),F.collect_list(\"url_fragment\").alias('ufl')))\n",
    "sdf_test_TF = hashingTF.transform(sdf_test.groupBy('phone_num').agg(F.max('label').alias('label'),F.collect_list(\"url_fragment\").alias('ufl')))\n",
    "\n",
    "idf = pmf.IDF(inputCol=\"url_fragment_TF\", outputCol=\"features\")\n",
    "idfModel = idf.fit(sdf_train_TF)\n",
    "sdf_train_TFIDF = idfModel.transform(sdf_train_TF)\n",
    "sdf_test_TFIDF = idfModel.transform(sdf_test_TF)\n",
    "\n",
    "#sdf_train_TFIDF.select(\"label\", \"features\").show()\n",
    "\n"
   ]
  },
  {
   "cell_type": "code",
   "execution_count": 88,
   "metadata": {
    "collapsed": false
   },
   "outputs": [
    {
     "name": "stdout",
     "output_type": "stream",
     "text": [
      "Test ROC AUC 0.709745965471, ROC PR 0.0661287946177\n"
     ]
    }
   ],
   "source": [
    "from pyspark.ml.evaluation import BinaryClassificationEvaluator\n",
    "\n",
    "lr = LogisticRegression(maxIter=10, regParam=0.01)\n",
    "\n",
    "# Fit the model\n",
    "lrModel = lr.fit(sdf_train_TFIDF)\n",
    "test_pred = lrModel.transform(sdf_test_TFIDF)\n",
    "evaluator = BinaryClassificationEvaluator(rawPredictionCol=\"rawPrediction\")\n",
    "print('Test ROC AUC {}, ROC PR {}'.format(evaluator.evaluate(test_pred, {evaluator.metricName: \"areaUnderROC\"}), \n",
    "                                          evaluator.evaluate(test_pred, {evaluator.metricName: \"areaUnderPR\"})\n",
    "                                         ))"
   ]
  },
  {
   "cell_type": "code",
   "execution_count": null,
   "metadata": {
    "collapsed": false
   },
   "outputs": [],
   "source": [
    "from pyspark.ml.tuning import CrossValidator, ParamGridBuilder\n",
    "\n",
    "lr = LogisticRegression(maxIter=10)\n",
    "\n",
    "paramGrid = (ParamGridBuilder()\n",
    "    .addGrid(lr.regParam, [0.1, 0.01,0]) \n",
    "    .addGrid(lr.maxIter, [10,50]) \n",
    "   .build())\n",
    "\n",
    "crossval = CrossValidator(estimator = lr,\n",
    "                          estimatorParamMaps = paramGrid,\n",
    "                          evaluator = BinaryClassificationEvaluator(),\n",
    "                          numFolds = 3)  # use 3+ folds in practice\n",
    "\n",
    "# Run cross-validation, and choose the best set of parameters.\n",
    "cvModel = crossval.fit(sdf_train_TFIDF)\n",
    "\n",
    "# Make predictions on test documents. cvModel uses the best model found (lrModel).\n",
    "test_pred = cvModel.transform(sdf_test_TFIDF)\n",
    "\n",
    "evaluator = BinaryClassificatilr.maxIteraluator(rawPredictionCol=\"rawPrediction\")\n",
    "print('Test ROC AUC {}, ROC PR {}'.format(evaluator.evaluate(test_pred, {evaluator.metricName: \"areaUnderROC\"}), \n",
    "                                          evaluator.evaluate(test_pred, {evaluator.metricName: \"areaUnderPR\"})\n",
    "                                         ))\n"
   ]
  },
  {
   "cell_type": "code",
   "execution_count": null,
   "metadata": {
    "collapsed": true
   },
   "outputs": [],
   "source": []
  }
 ],
 "metadata": {
  "kernelspec": {
   "display_name": "Python 2",
   "language": "python",
   "name": "python2"
  },
  "language_info": {
   "codemirror_mode": {
    "name": "ipython",
    "version": 2
   },
   "file_extension": ".py",
   "mimetype": "text/x-python",
   "name": "python",
   "nbconvert_exporter": "python",
   "pygments_lexer": "ipython2",
   "version": "2.7.10"
  }
 },
 "nbformat": 4,
 "nbformat_minor": 0
}
