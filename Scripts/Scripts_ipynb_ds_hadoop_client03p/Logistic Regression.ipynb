{
 "cells": [
  {
   "cell_type": "markdown",
   "metadata": {},
   "source": [
    "# Модели по Тинькофф Платинум"
   ]
  },
  {
   "cell_type": "markdown",
   "metadata": {},
   "source": [
    "## Загрузка данных"
   ]
  },
  {
   "cell_type": "code",
   "execution_count": 203,
   "metadata": {
    "collapsed": false
   },
   "outputs": [
    {
     "name": "stdout",
     "output_type": "stream",
     "text": [
      "Populating the interactive namespace from numpy and matplotlib\n"
     ]
    },
    {
     "data": {
      "text/plain": [
       "<pyspark.context.SparkContext at 0x7f81f1331e10>"
      ]
     },
     "execution_count": 203,
     "metadata": {},
     "output_type": "execute_result"
    }
   ],
   "source": [
    "%pylab inline\n",
    "\n",
    "import pandas\n",
    "import numpy\n",
    "import sklearn.linear_model\n",
    "import sklearn.cross_validation\n",
    "import time\n",
    "import sys\n",
    "import sklearn.metrics\n",
    "import sklearn.ensemble\n",
    "import sklearn.tree\n",
    "sc"
   ]
  },
  {
   "cell_type": "code",
   "execution_count": 204,
   "metadata": {
    "collapsed": false
   },
   "outputs": [],
   "source": [
    "data = hc.sql('SELECT * FROM tmp.frank_bd_model_apr_features60')\n",
    "data = data.map(lambda x: (x[1], x[2])).collect()"
   ]
  },
  {
   "cell_type": "code",
   "execution_count": 221,
   "metadata": {
    "collapsed": false
   },
   "outputs": [],
   "source": [
    "import sklearn.feature_extraction\n",
    "\n",
    "labels = []\n",
    "features = []\n",
    "for instance in data:\n",
    "    if len(instance[1]) >= 0:\n",
    "        labels.append(instance[0])\n",
    "        features.append(' '.join(instance[1]))\n",
    "\n",
    "tf_idf = sklearn.feature_extraction.text.TfidfVectorizer()\n",
    "features = tf_idf.fit_transform(features)\n",
    "labels = numpy.array(labels)"
   ]
  },
  {
   "cell_type": "code",
   "execution_count": 222,
   "metadata": {
    "collapsed": false
   },
   "outputs": [
    {
     "name": "stdout",
     "output_type": "stream",
     "text": [
      "(260682, 539832)\n",
      "(260682,)\n"
     ]
    }
   ],
   "source": [
    "print features.shape\n",
    "print labels.shape"
   ]
  },
  {
   "cell_type": "markdown",
   "metadata": {},
   "source": [
    "## Логистическая регрессия"
   ]
  },
  {
   "cell_type": "code",
   "execution_count": 223,
   "metadata": {
    "collapsed": false
   },
   "outputs": [
    {
     "name": "stdout",
     "output_type": "stream",
     "text": [
      "('Fold completed, learning time: ', 16.53853487968445)\n",
      "('Fold completed, learning time: ', 17.931752920150757)\n",
      "('Fold completed, learning time: ', 19.674695014953613)\n",
      "('Fold completed, learning time: ', 18.014172077178955)\n",
      "('Fold completed, learning time: ', 19.0087628364563)\n"
     ]
    }
   ],
   "source": [
    "## LOGISTIC REGRESSION\n",
    "\n",
    "k_fold = sklearn.cross_validation.KFold(n=features.shape[0], n_folds=5)\n",
    "\n",
    "test_scores = []\n",
    "test_predictions = []\n",
    "test_true_labels = []\n",
    "\n",
    "train_predictions = []\n",
    "train_true_labels = []\n",
    "train_scores = []\n",
    "\n",
    "for train_idx, test_idx in k_fold:\n",
    "    features_train = features[train_idx, :]\n",
    "    features_test = features[test_idx, :]\n",
    "    labels_train = labels[train_idx]\n",
    "    labels_test = labels[test_idx]\n",
    "\n",
    "    log_regression = sklearn.linear_model.LogisticRegression(penalty='l1', C=0.5)\n",
    "    \n",
    "    start = time.time()\n",
    "    log_regression.fit(features_train, labels_train)\n",
    "    end = time.time()\n",
    "    print('Fold completed, learning time: ', end - start)\n",
    "    sys.stdout.flush()\n",
    "    \n",
    "    local_test_preds = log_regression.predict(features_test)\n",
    "    local_test_scores = log_regression.predict_proba(features_test)\n",
    "    \n",
    "    local_train_preds = log_regression.predict(features_train)\n",
    "    local_train_scores = log_regression.predict_proba(features_train)\n",
    "    \n",
    "    test_true_labels.append(labels_test)\n",
    "    test_scores.append(local_test_scores)\n",
    "    test_predictions.append(local_test_preds)\n",
    "    \n",
    "    train_predictions.append(local_train_preds)\n",
    "    train_true_labels.append(labels_train)\n",
    "    train_scores.append(local_train_scores)\n",
    "    \n",
    "train_scores = numpy.concatenate(train_scores)\n",
    "train_predictions = numpy.concatenate(train_predictions)\n",
    "train_true_labels = numpy.concatenate(train_true_labels)\n",
    "    \n",
    "test_scores = numpy.concatenate(test_scores)\n",
    "test_predictions = numpy.concatenate(test_predictions)\n",
    "test_true_labels = numpy.concatenate(test_true_labels)"
   ]
  },
  {
   "cell_type": "code",
   "execution_count": 224,
   "metadata": {
    "collapsed": false
   },
   "outputs": [
    {
     "name": "stdout",
     "output_type": "stream",
     "text": [
      "===Logistic Regression report: train, test ===\n",
      "Accuracy:\t0.829\t0.829\n",
      "ROC AUC:\t0.717\t0.704\n",
      "Precision:\t0.662\t0.645\n",
      "Recall:\t\t0.055\t0.054\n"
     ]
    }
   ],
   "source": [
    "##LOGISTIC REGRESSION SCORES\n",
    "\n",
    "test_accuracy = sklearn.metrics.accuracy_score(test_true_labels, test_predictions)\n",
    "test_roc_auc = sklearn.metrics.roc_auc_score(test_true_labels, test_scores[:, 1])\n",
    "test_precision = sklearn.metrics.precision_score(test_true_labels, test_predictions)\n",
    "test_recall = sklearn.metrics.recall_score(test_true_labels, test_predictions)\n",
    "\n",
    "train_accuracy = sklearn.metrics.accuracy_score(train_true_labels, train_predictions)\n",
    "train_roc_auc = sklearn.metrics.roc_auc_score(train_true_labels, train_scores[:, 1])\n",
    "train_precision = sklearn.metrics.precision_score(train_true_labels, train_predictions)\n",
    "train_recall = sklearn.metrics.recall_score(train_true_labels, train_predictions)\n",
    "\n",
    "print '===Logistic Regression report: train, test ==='\n",
    "print 'Accuracy:\\t%.3f\\t%.3f' % (train_accuracy, test_accuracy)\n",
    "print 'ROC AUC:\\t%.3f\\t%.3f' % (train_roc_auc, test_roc_auc)\n",
    "print 'Precision:\\t%.3f\\t%.3f' % (train_precision, test_precision)\n",
    "print 'Recall:\\t\\t%.3f\\t%.3f' % (train_recall, test_recall)"
   ]
  },
  {
   "cell_type": "code",
   "execution_count": 225,
   "metadata": {
    "collapsed": true
   },
   "outputs": [],
   "source": [
    "test_roc_curve = sklearn.metrics.roc_curve(test_true_labels, test_scores[:, 1])\n",
    "test_prc = sklearn.metrics.precision_recall_curve(test_true_labels, test_scores[:, 1])\n",
    "\n",
    "train_roc_curve = sklearn.metrics.roc_curve(train_true_labels, train_scores[:, 1])\n",
    "train_prc = sklearn.metrics.precision_recall_curve(train_true_labels, train_scores[:, 1])"
   ]
  },
  {
   "cell_type": "code",
   "execution_count": 226,
   "metadata": {
    "collapsed": false
   },
   "outputs": [
    {
     "data": {
      "image/png": "[encoded data removed]",
      "text/plain": [
       "<matplotlib.figure.Figure at 0x7f81838d5b50>"
      ]
     },
     "metadata": {},
     "output_type": "display_data"
    }
   ],
   "source": [
    "plot(test_roc_curve[0], test_roc_curve[1], '-b')\n",
    "plot(train_roc_curve[0], train_roc_curve[1], '--b')\n",
    "plot([1, 0], [1, 0], '--r')\n",
    "title('Logistic Regression ROC AUC: %.3f' % test_roc_auc)\n",
    "xlabel('FP')\n",
    "ylabel('TP')\n",
    "legend(['test', 'train'],loc='lower right')\n",
    "grid(True)"
   ]
  },
  {
   "cell_type": "code",
   "execution_count": 227,
   "metadata": {
    "collapsed": false
   },
   "outputs": [
    {
     "data": {
      "image/png": "[encoded data removed]",
      "text/plain": [
       "<matplotlib.figure.Figure at 0x7f8181383f10>"
      ]
     },
     "metadata": {},
     "output_type": "display_data"
    }
   ],
   "source": [
    "plot(test_prc[0], test_prc[1], '-b')\n",
    "plot(train_prc[0], train_prc[1], '--b')\n",
    "title('Logistic Regression Precision-Recall')\n",
    "xlabel('Precision')\n",
    "ylabel('Recall')\n",
    "legend(['test', 'train'])\n",
    "grid(True)"
   ]
  },
  {
   "cell_type": "markdown",
   "metadata": {},
   "source": [
    "## Один SGD классификатор"
   ]
  },
  {
   "cell_type": "code",
   "execution_count": 188,
   "metadata": {
    "collapsed": false
   },
   "outputs": [
    {
     "name": "stdout",
     "output_type": "stream",
     "text": [
      "('Fold completed, learning time: ', 43.601691007614136)\n",
      "('Fold completed, learning time: ', 42.37533497810364)\n",
      "('Fold completed, learning time: ', 42.70388984680176)\n",
      "('Fold completed, learning time: ', 42.922348976135254)\n",
      "('Fold completed, learning time: ', 42.53057599067688)\n"
     ]
    }
   ],
   "source": [
    "## LOGISTIC REGRESSION\n",
    "\n",
    "k_fold = sklearn.cross_validation.KFold(n=features.shape[0], n_folds=5)\n",
    "\n",
    "test_scores = []\n",
    "test_predictions = []\n",
    "test_true_labels = []\n",
    "\n",
    "train_predictions = []\n",
    "train_true_labels = []\n",
    "train_scores = []\n",
    "\n",
    "for train_idx, test_idx in k_fold:\n",
    "    features_train = features[train_idx, :]\n",
    "    features_test = features[test_idx, :]\n",
    "    labels_train = labels[train_idx]\n",
    "    labels_test = labels[test_idx]\n",
    "\n",
    "    classifier = sklearn.linear_model.SGDClassifier(loss='log', penalty='l1', alpha=1.0e-5, n_iter=100)\n",
    "    \n",
    "    start = time.time()\n",
    "    classifier.fit(features_train, labels_train)\n",
    "    end = time.time()\n",
    "    print('Fold completed, learning time: ', end - start)\n",
    "    sys.stdout.flush()\n",
    "    \n",
    "    local_test_preds = classifier.predict(features_test)\n",
    "    local_test_scores = classifier.predict_proba(features_test)\n",
    "    \n",
    "    local_train_preds = classifier.predict(features_train)\n",
    "    local_train_scores = classifier.predict_proba(features_train)\n",
    "    \n",
    "    test_true_labels.append(labels_test)\n",
    "    test_scores.append(local_test_scores)\n",
    "    test_predictions.append(local_test_preds)\n",
    "    \n",
    "    train_predictions.append(local_train_preds)\n",
    "    train_true_labels.append(labels_train)\n",
    "    train_scores.append(local_train_scores)\n",
    "    \n",
    "train_scores = numpy.concatenate(train_scores)\n",
    "train_predictions = numpy.concatenate(train_predictions)\n",
    "train_true_labels = numpy.concatenate(train_true_labels)\n",
    "    \n",
    "test_scores = numpy.concatenate(test_scores)\n",
    "test_predictions = numpy.concatenate(test_predictions)\n",
    "test_true_labels = numpy.concatenate(test_true_labels)"
   ]
  },
  {
   "cell_type": "code",
   "execution_count": 189,
   "metadata": {
    "collapsed": false
   },
   "outputs": [
    {
     "name": "stdout",
     "output_type": "stream",
     "text": [
      "===Logistic Regression report: train, test ===\n",
      "Accuracy:\t0.829\t0.829\n",
      "ROC AUC:\t0.715\t0.703\n",
      "Precision:\t0.663\t0.644\n",
      "Recall:\t\t0.053\t0.052\n"
     ]
    }
   ],
   "source": [
    "## SGD scores\n",
    "\n",
    "test_accuracy = sklearn.metrics.accuracy_score(test_true_labels, test_predictions)\n",
    "test_roc_auc = sklearn.metrics.roc_auc_score(test_true_labels, test_scores[:, 1])\n",
    "test_precision = sklearn.metrics.precision_score(test_true_labels, test_predictions)\n",
    "test_recall = sklearn.metrics.recall_score(test_true_labels, test_predictions)\n",
    "\n",
    "train_accuracy = sklearn.metrics.accuracy_score(train_true_labels, train_predictions)\n",
    "train_roc_auc = sklearn.metrics.roc_auc_score(train_true_labels, train_scores[:, 1])\n",
    "train_precision = sklearn.metrics.precision_score(train_true_labels, train_predictions)\n",
    "train_recall = sklearn.metrics.recall_score(train_true_labels, train_predictions)\n",
    "\n",
    "print '===Logistic Regression report: train, test ==='\n",
    "print 'Accuracy:\\t%.3f\\t%.3f' % (train_accuracy, test_accuracy)\n",
    "print 'ROC AUC:\\t%.3f\\t%.3f' % (train_roc_auc, test_roc_auc)\n",
    "print 'Precision:\\t%.3f\\t%.3f' % (train_precision, test_precision)\n",
    "print 'Recall:\\t\\t%.3f\\t%.3f' % (train_recall, test_recall)"
   ]
  },
  {
   "cell_type": "code",
   "execution_count": 190,
   "metadata": {
    "collapsed": true
   },
   "outputs": [],
   "source": [
    "test_roc_curve = sklearn.metrics.roc_curve(test_true_labels, test_scores[:, 1])\n",
    "test_prc = sklearn.metrics.precision_recall_curve(test_true_labels, test_scores[:, 1])\n",
    "\n",
    "train_roc_curve = sklearn.metrics.roc_curve(train_true_labels, train_scores[:, 1])\n",
    "train_prc = sklearn.metrics.precision_recall_curve(train_true_labels, train_scores[:, 1])"
   ]
  },
  {
   "cell_type": "code",
   "execution_count": 191,
   "metadata": {
    "collapsed": false
   },
   "outputs": [
    {
     "data": {
      "image/png": "[encoded data removed]",
      "text/plain": [
       "<matplotlib.figure.Figure at 0x7f8185911710>"
      ]
     },
     "metadata": {},
     "output_type": "display_data"
    }
   ],
   "source": [
    "plot(test_roc_curve[0], test_roc_curve[1], '-b')\n",
    "plot(train_roc_curve[0], train_roc_curve[1], '--b')\n",
    "plot([1, 0], [1, 0], '--r')\n",
    "title('Logistic Regression ROC AUC: %.3f' % test_roc_auc)\n",
    "xlabel('FP')\n",
    "ylabel('TP')\n",
    "legend(['test', 'train'],loc='lower right')\n",
    "grid(True)"
   ]
  },
  {
   "cell_type": "code",
   "execution_count": 192,
   "metadata": {
    "collapsed": false
   },
   "outputs": [
    {
     "data": {
      "image/png": "[encoded data removed]",
      "text/plain": [
       "<matplotlib.figure.Figure at 0x7f81861db5d0>"
      ]
     },
     "metadata": {},
     "output_type": "display_data"
    }
   ],
   "source": [
    "plot(test_prc[0], test_prc[1], '-b')\n",
    "plot(train_prc[0], train_prc[1], '--b')\n",
    "title('Logistic Regression Precision-Recall')\n",
    "xlabel('Precision')\n",
    "ylabel('Recall')\n",
    "legend(['test', 'train'])\n",
    "grid(True)"
   ]
  },
  {
   "cell_type": "markdown",
   "metadata": {},
   "source": [
    "## AdaBoost на SGD классификаторах"
   ]
  },
  {
   "cell_type": "code",
   "execution_count": 114,
   "metadata": {
    "collapsed": false
   },
   "outputs": [
    {
     "name": "stdout",
     "output_type": "stream",
     "text": [
      "Fold completed, learning time:  17119.5703909\n",
      "Fold completed, learning time:  8218.94736314\n",
      "Fold completed, learning time:  8205.17810011\n",
      "Fold completed, learning time:  8224.0753839\n",
      "Fold completed, learning time:  8228.09467983\n"
     ]
    }
   ],
   "source": [
    "## LOGISTIC REGRESSION\n",
    "\n",
    "k_fold = sklearn.cross_validation.KFold(n=features.shape[0], n_folds=5)\n",
    "\n",
    "test_scores = []\n",
    "test_predictions = []\n",
    "test_true_labels = []\n",
    "\n",
    "train_predictions = []\n",
    "train_true_labels = []\n",
    "train_scores = []\n",
    "\n",
    "for train_idx, test_idx in k_fold:\n",
    "    features_train = features[train_idx, :]\n",
    "    features_test = features[test_idx, :]\n",
    "    labels_train = labels[train_idx]\n",
    "    labels_test = labels[test_idx]\n",
    "\n",
    "    classifier = sklearn.linear_model.SGDClassifier(loss='log', penalty='l1', alpha=0.00001, n_iter=100)\n",
    "    \n",
    "    start = time.time()\n",
    "    classifier.fit(features_train, labels_train)\n",
    "    end = time.time()\n",
    "    print('Fold completed, learning time: ', end - start)\n",
    "    sys.stdout.flush()\n",
    "    \n",
    "    local_test_preds = classifier.predict(features_test)\n",
    "    local_test_scores = classifier.predict_proba(features_test)\n",
    "    \n",
    "    local_train_preds = classifier.predict(features_train)\n",
    "    local_train_scores = classifier.predict_proba(features_train)\n",
    "    \n",
    "    test_true_labels.append(labels_test)\n",
    "    test_scores.append(local_test_scores)\n",
    "    test_predictions.append(local_test_preds)\n",
    "    \n",
    "    train_predictions.append(local_train_preds)\n",
    "    train_true_labels.append(labels_train)\n",
    "    train_scores.append(local_train_scores)\n",
    "    \n",
    "train_scores = numpy.concatenate(train_scores)\n",
    "train_predictions = numpy.concatenate(train_predictions)\n",
    "train_true_labels = numpy.concatenate(train_true_labels)\n",
    "    \n",
    "test_scores = numpy.concatenate(test_scores)\n",
    "test_predictions = numpy.concatenate(test_predictions)\n",
    "test_true_labels = numpy.concatenate(test_true_labels)"
   ]
  },
  {
   "cell_type": "code",
   "execution_count": 115,
   "metadata": {
    "collapsed": false
   },
   "outputs": [
    {
     "name": "stdout",
     "output_type": "stream",
     "text": [
      "===Logistic Regression report: ===\n",
      "Accuracy:  0.82838477532\n",
      "ROC AUC:  0.703518244397\n",
      "Precision:  0.635480288728\n",
      "Recall:  0.0500732833111\n"
     ]
    }
   ],
   "source": [
    "## AdaBoost scores\n",
    "\n",
    "accuracy = sklearn.metrics.accuracy_score(true_labels, predictions)\n",
    "roc_auc = sklearn.metrics.roc_auc_score(true_labels, scores[:, 1])\n",
    "precision = sklearn.metrics.precision_score(true_labels, predictions)\n",
    "recall = sklearn.metrics.recall_score(true_labels, predictions)\n",
    "\n",
    "print '===Logistic Regression report: ==='\n",
    "print 'Accuracy: ', accuracy\n",
    "print 'ROC AUC: ', roc_auc\n",
    "print 'Precision: ', precision\n",
    "print 'Recall: ', recall"
   ]
  },
  {
   "cell_type": "code",
   "execution_count": 116,
   "metadata": {
    "collapsed": true
   },
   "outputs": [],
   "source": [
    "roc_curve = sklearn.metrics.roc_curve(true_labels, scores[:, 1])\n",
    "prc = sklearn.metrics.precision_recall_curve(true_labels, scores[:, 1])"
   ]
  },
  {
   "cell_type": "code",
   "execution_count": 119,
   "metadata": {
    "collapsed": false
   },
   "outputs": [
    {
     "data": {
      "image/png": "[encoded data removed]",
      "text/plain": [
       "<matplotlib.figure.Figure at 0x7f8186c57050>"
      ]
     },
     "metadata": {},
     "output_type": "display_data"
    }
   ],
   "source": [
    "plot(roc_curve[0], roc_curve[1], '-b')\n",
    "plot([1, 0], [1, 0], '--r')\n",
    "title('AdaBoost LogRegression ROC AUC: %.3f' % test_roc_auc)\n",
    "xlabel('FP')\n",
    "ylabel('TP')\n",
    "grid(True)"
   ]
  },
  {
   "cell_type": "code",
   "execution_count": 120,
   "metadata": {
    "collapsed": false
   },
   "outputs": [
    {
     "data": {
      "image/png": "[encoded data removed]",
      "text/plain": [
       "<matplotlib.figure.Figure at 0x7f8186f302d0>"
      ]
     },
     "metadata": {},
     "output_type": "display_data"
    }
   ],
   "source": [
    "plot(prc[0], prc[1], '-b')\n",
    "title('AdaBoost LogRegression Precision-Recall')\n",
    "xlabel('Precision')\n",
    "ylabel('Recall')\n",
    "grid(True)"
   ]
  },
  {
   "cell_type": "code",
   "execution_count": 2,
   "metadata": {
    "collapsed": true
   },
   "outputs": [],
   "source": [
    "sc.stop()"
   ]
  },
  {
   "cell_type": "code",
   "execution_count": null,
   "metadata": {
    "collapsed": true
   },
   "outputs": [],
   "source": []
  }
 ],
 "metadata": {
  "kernelspec": {
   "display_name": "Python 2",
   "language": "python",
   "name": "python2"
  },
  "language_info": {
   "codemirror_mode": {
    "name": "ipython",
    "version": 2
   },
   "file_extension": ".py",
   "mimetype": "text/x-python",
   "name": "python",
   "nbconvert_exporter": "python",
   "pygments_lexer": "ipython2",
   "version": "2.7.10"
  }
 },
 "nbformat": 4,
 "nbformat_minor": 0
}
