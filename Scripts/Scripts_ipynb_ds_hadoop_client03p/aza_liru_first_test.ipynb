{
 "cells": [
  {
   "cell_type": "code",
   "execution_count": 21,
   "metadata": {
    "collapsed": true
   },
   "outputs": [],
   "source": [
    "import datetime\n",
    "from pyspark import SparkConf, SparkContext, HiveContext\n",
    "sc.stop()\n",
    "conf = SparkConf().set(\"spark.executor.instances\", 1).set(\"spark.driver.maxResultSize\", \"1g\")\n",
    "sc = SparkContext(conf=conf)\n",
    "hc = HiveContext(sc)\n",
    "#sc.setCheckpointDir('/user/kposminin/checkpointdir/')"
   ]
  },
  {
   "cell_type": "code",
   "execution_count": 23,
   "metadata": {
    "collapsed": false
   },
   "outputs": [
    {
     "data": {
      "text/html": [
       "<div>\n",
       "<table border=\"1\" class=\"dataframe\">\n",
       "  <thead>\n",
       "    <tr style=\"text-align: right;\">\n",
       "      <th></th>\n",
       "      <th>approve_label</th>\n",
       "      <th>full_app_first_day</th>\n",
       "      <th>max_score</th>\n",
       "      <th>avg_score</th>\n",
       "    </tr>\n",
       "  </thead>\n",
       "  <tbody>\n",
       "    <tr>\n",
       "      <th>0</th>\n",
       "      <td>1</td>\n",
       "      <td>0</td>\n",
       "      <td>4.709530</td>\n",
       "      <td>-1.317073</td>\n",
       "    </tr>\n",
       "    <tr>\n",
       "      <th>1</th>\n",
       "      <td>0</td>\n",
       "      <td>1</td>\n",
       "      <td>7.378384</td>\n",
       "      <td>-1.194880</td>\n",
       "    </tr>\n",
       "    <tr>\n",
       "      <th>2</th>\n",
       "      <td>1</td>\n",
       "      <td>1</td>\n",
       "      <td>7.378384</td>\n",
       "      <td>0.126864</td>\n",
       "    </tr>\n",
       "    <tr>\n",
       "      <th>3</th>\n",
       "      <td>0</td>\n",
       "      <td>1</td>\n",
       "      <td>6.792344</td>\n",
       "      <td>-0.762199</td>\n",
       "    </tr>\n",
       "    <tr>\n",
       "      <th>4</th>\n",
       "      <td>0</td>\n",
       "      <td>1</td>\n",
       "      <td>6.647688</td>\n",
       "      <td>-2.002536</td>\n",
       "    </tr>\n",
       "  </tbody>\n",
       "</table>\n",
       "</div>"
      ],
      "text/plain": [
       "   approve_label  full_app_first_day  max_score  avg_score\n",
       "0              1                   0   4.709530  -1.317073\n",
       "1              0                   1   7.378384  -1.194880\n",
       "2              1                   1   7.378384   0.126864\n",
       "3              0                   1   6.792344  -0.762199\n",
       "4              0                   1   6.647688  -2.002536"
      ]
     },
     "execution_count": 23,
     "metadata": {},
     "output_type": "execute_result"
    }
   ],
   "source": [
    "create_result_table_query = '''\n",
    "\n",
    "\n",
    "create table user_kposminin.full_app_vs_approve as\n",
    " select\n",
    "    uf.id,\n",
    "    max(if(ua.id is Null,0,1)) as approve_label,\n",
    "    max(nvl(uf.first_day,0)) as full_app_first_day,\n",
    "    max(log((t1.cnt_positive + 0.1)/(t2.cnt_positive - t1.cnt_positive + 0.1))) as max_score,\n",
    "    avg(log((t1.cnt_positive + 0.1)/(t2.cnt_positive - t1.cnt_positive + 0.1))) as avg_score,\n",
    "    '2016-11-24' as ymd\n",
    "  from\n",
    "    (\n",
    "      select distinct id, if(ymd = '2016-11-25',1,0) as first_day\n",
    "      from prod_features_liveinternet.user_action\n",
    "      where action_type = 'tinkoff_platinum_complete_application'\n",
    "        and ymd between '2016-11-25' and '2016-11-27'\n",
    "    ) uf\n",
    "    left join(\n",
    "      select distinct id, if(ymd = '2016-11-25',1,0) as first_day\n",
    "      from prod_features_liveinternet.user_action\n",
    "      where action_type = 'tinkoff_platinum_approved_application'\n",
    "        and ymd between '2016-11-25' and '2016-11-27'\n",
    "    ) ua on uf.id = ua.id\n",
    "  inner join prod_features_liveinternet.visits v on uf.id = v.id \n",
    "  left join (\n",
    "    select\n",
    "      urlfr, \n",
    "      cnt_positive,\n",
    "      cnt_total\n",
    "    from prod_features_liveinternet.urlfr_tgt_cnt\n",
    "    where\n",
    "      ymd = '2016-11-23' and\n",
    "      target = 'tinkoff_platinum_approved_application@tinkoff_action' and\n",
    "      (cnt_total > 10000 or cnt_positive >= 1)\n",
    "    ) t1 on t1.urlfr = v.urlfr\n",
    "  left join (\n",
    "    select\n",
    "      urlfr, \n",
    "      cnt_positive,\n",
    "      cnt_total\n",
    "    from prod_features_liveinternet.urlfr_tgt_cnt\n",
    "    where\n",
    "      ymd = '2016-11-23' and\n",
    "      target = 'tinkoff_platinum_complete_application@tinkoff_action' and\n",
    "      (cnt_total > 10000 or cnt_positive > 1)\n",
    "    ) t2 on t1.urlfr = v.urlfr\n",
    "where\n",
    "  v.ymd = '2016-11-24'\n",
    "group by uf.id    \n",
    ";\n",
    "\n",
    "insert into table user_kposminin.full_app_vs_approve\n",
    " select\n",
    "    uf.id,\n",
    "    max(if(ua.id is Null,0,1)) as approve_label,\n",
    "    max(nvl(uf.first_day,0)) as full_app_first_day,\n",
    "    max(log((t1.cnt_positive + 0.1)/(t2.cnt_positive - t1.cnt_positive + 0.1))) as max_score,\n",
    "    avg(log((t1.cnt_positive + 0.1)/(t2.cnt_positive - t1.cnt_positive + 0.1))) as avg_score,\n",
    "    '2016-11-15' as ymd\n",
    "  from\n",
    "    (\n",
    "      select distinct id, if(ymd = '2016-11-16',1,0) as first_day\n",
    "      from prod_features_liveinternet.user_action\n",
    "      where action_type = 'tinkoff_platinum_complete_application'\n",
    "        and ymd between '2016-11-16' and '2016-11-18'\n",
    "    ) uf\n",
    "    left join(\n",
    "      select distinct id, if(ymd = '2016-11-16',1,0) as first_day\n",
    "      from prod_features_liveinternet.user_action\n",
    "      where action_type = 'tinkoff_platinum_approved_application'\n",
    "        and ymd between '2016-11-16' and '2016-11-18'\n",
    "    ) ua on uf.id = ua.id\n",
    "  inner join prod_features_liveinternet.visits v on uf.id = v.id \n",
    "  left join (\n",
    "    select\n",
    "      urlfr, \n",
    "      cnt_positive,\n",
    "      cnt_total\n",
    "    from prod_features_liveinternet.urlfr_tgt_cnt\n",
    "    where\n",
    "      ymd = '2016-11-14' and\n",
    "      target = 'tinkoff_platinum_approved_application@tinkoff_action' and\n",
    "      (cnt_total > 10000 or cnt_positive >= 1)\n",
    "    ) t1 on t1.urlfr = v.urlfr\n",
    "  left join (\n",
    "    select\n",
    "      urlfr, \n",
    "      cnt_positive,\n",
    "      cnt_total\n",
    "    from prod_features_liveinternet.urlfr_tgt_cnt\n",
    "    where\n",
    "      ymd = '2016-11-14' and\n",
    "      target = 'tinkoff_platinum_complete_application@tinkoff_action' and\n",
    "      (cnt_total > 10000 or cnt_positive > 1)\n",
    "    ) t2 on t1.urlfr = v.urlfr\n",
    "where\n",
    "  v.ymd = '2016-11-15'\n",
    "group by uf.id    \n",
    ";\n",
    "\n",
    "\n",
    "'''\n",
    "\n",
    "\n",
    "df = hc.sql('''select approve_label,full_app_first_day,nvl(max_score,-20) as max_score, nvl(avg_score,-20) as avg_score\n",
    "               from user_kposminin.full_app_vs_approve''').toPandas()\n",
    "df.head()"
   ]
  },
  {
   "cell_type": "code",
   "execution_count": 28,
   "metadata": {
    "collapsed": false
   },
   "outputs": [],
   "source": [
    "#df[df.in_work==1].full_app.sum()\n",
    "#data = sorted(df[['avg_score','approve_label']].values.tolist(), reverse = True)\n",
    "df['approve_first_day'] = df.approve_label * df.full_app_first_day"
   ]
  },
  {
   "cell_type": "code",
   "execution_count": 49,
   "metadata": {
    "collapsed": false
   },
   "outputs": [
    {
     "name": "stdout",
     "output_type": "stream",
     "text": [
      "Max score AUC ROC: 0.532380423374\n",
      "Avg score AUC ROC: 0.511590682577\n",
      "Max score first_day. AUC ROC: 0.547225533054\n",
      "Avg score  first_day. AUC ROC: 0.513407424055\n",
      "\n",
      "Max score AUC PR: 0.061704826149\n",
      "Avg score AUC PR: 0.0106046428652\n",
      "Max score first_day. AUC PR: 0.0757242517789\n",
      "Avg score  first_day. AUC PR: 0.00576490014429\n"
     ]
    }
   ],
   "source": [
    "from sklearn.metrics import roc_auc_score,precision_recall_curve,auc\n",
    "   \n",
    "print('Max score AUC ROC: {}'.format(roc_auc_score(y_true = df.approve_label,y_score = df.max_score)))\n",
    "print('Avg score AUC ROC: {}'.format(roc_auc_score(y_true = df.approve_label,y_score = df.avg_score)))\n",
    "print('Max score first_day. AUC ROC: {}'.format(roc_auc_score(y_true = df.approve_first_day,y_score = df.max_score)))\n",
    "print('Avg score  first_day. AUC ROC: {}'.format(roc_auc_score(y_true = df.approve_first_day,y_score = df.avg_score)))\n",
    "\n",
    "print('\\nMax score AUC PR: {}'.format(auc(*precision_recall_curve(y_true = df.approve_label,probas_pred  = df.max_score)[:2],reorder = True)))\n",
    "print('Avg score AUC PR: {}'.format(auc(*precision_recall_curve(y_true = df.approve_label,probas_pred  = df.avg_score)[:2],reorder = True)))\n",
    "print('Max score first_day. AUC PR: {}'.format(auc(*precision_recall_curve(y_true = df.approve_first_day,probas_pred  = df.max_score)[:2],reorder = True)))\n",
    "print('Avg score  first_day. AUC PR: {}'.format(auc(*precision_recall_curve(y_true = df.approve_first_day,probas_pred  = df.avg_score)[:2],reorder = True)))\n"
   ]
  },
  {
   "cell_type": "code",
   "execution_count": 59,
   "metadata": {
    "collapsed": false
   },
   "outputs": [],
   "source": []
  },
  {
   "cell_type": "code",
   "execution_count": 61,
   "metadata": {
    "collapsed": false
   },
   "outputs": [
    {
     "name": "stdout",
     "output_type": "stream",
     "text": [
      "\n",
      "Lift table for ph_stand_la\n",
      "\n",
      "q         \tpos_cnt   \tpos%      \tcnt       \tpos/cnt   \tlift      \tscore     \n",
      "0.95      \t186.0     \t10.51%    \t857       \t21.70362% \t2.10      \t7.37838   \n",
      "0.9       \t565.0     \t31.92%    \t1714      \t32.96383% \t3.19      \t7.35308   \n",
      "0.8       \t565.0     \t31.92%    \t3429      \t16.47711% \t1.60      \t7.35308   \n",
      "0.7       \t669.0     \t37.80%    \t5144      \t13.00544% \t1.26      \t6.87833   \n",
      "0.6       \t766.0     \t43.28%    \t6859      \t11.16781% \t1.08      \t6.58064   \n",
      "0.5       \t980.0     \t55.37%    \t8574      \t11.42990% \t1.11      \t6.04263   \n",
      "0.4       \t1148.0    \t64.86%    \t10289     \t11.15755% \t1.08      \t5.60212   \n",
      "0.3       \t1288.0    \t72.77%    \t12004     \t10.72976% \t1.04      \t4.88898   \n",
      "0.2       \t1465.0    \t82.77%    \t13719     \t10.67862% \t1.03      \t3.93183   \n",
      "0         \t1770.0    \t100.00%   \t17149     \t10.32130% \t1.00      \t-20.00000 \n"
     ]
    }
   ],
   "source": [
    "data = sorted(df[['max_score','approve_label']].values.tolist(), reverse = True)\n",
    "data \n",
    "def nvl(a,b):\n",
    "    if a:\n",
    "        return a\n",
    "    else:\n",
    "        return b\n",
    "    \n",
    "print('\\nLift table for ph_stand_la\\n\\n{:<10}\\t{:<10}\\t{:<10}\\t{:<10}\\t{:<10}\\t{:<10}\\t{:<10}'.format(\n",
    "        'q','pos_cnt','pos%','cnt','pos/cnt','lift','score'))\n",
    "pos_tot = sum([e[1] for e in data])\n",
    "pos_share_tot = float(pos_tot) / len(data)\n",
    "for q in [0.95,0.9,0.8,0.7,0.6,0.5,0.4,0.3,0.2,0]:\n",
    "    pos_cnt = sum([e[1] for e in data[:int((1-q)*len(data))]])\n",
    "    cnt = int((1-q)*len(data))\n",
    "    pos_share = float(pos_cnt)/cnt\n",
    "    print('{:<10}\\t{:<10}\\t{:<10.2%}\\t{:<10}\\t{:<10.5%}\\t{:<10.2f}\\t{:<10.5f}'.format(q,\n",
    "                                                                                      pos_cnt,\n",
    "                                                                                      float(pos_cnt)/pos_tot,\n",
    "                                                                                      cnt,pos_share,\n",
    "                                                                                      pos_share/pos_share_tot,\n",
    "                                                                                      nvl(data[int((1-q)*len(data))-1][0],-20)\n",
    "                                                                                     ))"
   ]
  },
  {
   "cell_type": "markdown",
   "metadata": {
    "collapsed": false
   },
   "source": [
    "### Классификатор на основе стандартной модели работает плохо. Нужен более тонкий подход."
   ]
  },
  {
   "cell_type": "code",
   "execution_count": null,
   "metadata": {
    "collapsed": true
   },
   "outputs": [],
   "source": []
  }
 ],
 "metadata": {
  "kernelspec": {
   "display_name": "Python 2",
   "language": "python",
   "name": "python2"
  },
  "language_info": {
   "codemirror_mode": {
    "name": "ipython",
    "version": 2
   },
   "file_extension": ".py",
   "mimetype": "text/x-python",
   "name": "python",
   "nbconvert_exporter": "python",
   "pygments_lexer": "ipython2",
   "version": "2.7.10"
  }
 },
 "nbformat": 4,
 "nbformat_minor": 0
}
