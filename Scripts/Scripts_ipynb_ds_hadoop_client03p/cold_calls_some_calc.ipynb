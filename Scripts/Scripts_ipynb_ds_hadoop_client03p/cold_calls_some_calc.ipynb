{
 "cells": [
  {
   "cell_type": "code",
   "execution_count": 1,
   "metadata": {
    "collapsed": false
   },
   "outputs": [],
   "source": [
    "#Config\n",
    "from pyspark import SparkConf, SparkContext, HiveContext\n",
    "import re\n",
    "import numpy as np\n",
    "import pandas as pd\n",
    "import datetime\n",
    "from pyspark.mllib.regression import LabeledPoint\n",
    "from pyspark.mllib.feature import HashingTF\n",
    "from pyspark.mllib.classification import LogisticRegressionWithSGD, NaiveBayes, NaiveBayesModel\n",
    "import scipy.sparse as sps\n",
    "from pyspark.mllib.linalg import Vectors\n",
    "\n",
    "sc.stop()\n",
    "conf = SparkConf().set(\"spark.executor.instances\", 4).set(\"spark.driver.maxResultSize\", \"4g\")\n",
    "sc = SparkContext(conf=conf)\n",
    "hc = HiveContext(sc)\n",
    "\n",
    "\n",
    "query = '''\n",
    "select * from user_kposminin.more_features_coldcalls_2weeks_20160414\n",
    "'''\n",
    "\n",
    "data = hc.sql(query) \n",
    "\n",
    "train_data = data \\\n",
    "    .filter(\"ymd < '2016-04-12'\") \\\n",
    "    .toPandas() \\\n",
    "    .dropna()\n",
    "    \n",
    "test_data = data \\\n",
    "    .filter(\"ymd >= '2016-04-12'\") \\\n",
    "    .toPandas() \\\n",
    "    .dropna()"
   ]
  },
  {
   "cell_type": "code",
   "execution_count": 2,
   "metadata": {
    "collapsed": false
   },
   "outputs": [
    {
     "data": {
      "text/html": [
       "<div>\n",
       "<table border=\"1\" class=\"dataframe\">\n",
       "  <thead>\n",
       "    <tr style=\"text-align: right;\">\n",
       "      <th></th>\n",
       "      <th>ymd</th>\n",
       "      <th>phone_num</th>\n",
       "      <th>approve</th>\n",
       "      <th>full_app</th>\n",
       "      <th>max_score</th>\n",
       "      <th>min_score</th>\n",
       "      <th>avg_score</th>\n",
       "      <th>cnt</th>\n",
       "      <th>hits</th>\n",
       "      <th>min_avg_hour</th>\n",
       "      <th>max_avg_hour</th>\n",
       "    </tr>\n",
       "  </thead>\n",
       "  <tbody>\n",
       "    <tr>\n",
       "      <th>0</th>\n",
       "      <td>2016-04-01</td>\n",
       "      <td>89000165602</td>\n",
       "      <td>0</td>\n",
       "      <td>0</td>\n",
       "      <td>-8.149877</td>\n",
       "      <td>-15.405658</td>\n",
       "      <td>-9.957737</td>\n",
       "      <td>758</td>\n",
       "      <td>4926</td>\n",
       "      <td>0</td>\n",
       "      <td>23</td>\n",
       "    </tr>\n",
       "    <tr>\n",
       "      <th>1</th>\n",
       "      <td>2016-04-01</td>\n",
       "      <td>89000262616</td>\n",
       "      <td>0</td>\n",
       "      <td>0</td>\n",
       "      <td>-8.854922</td>\n",
       "      <td>-11.085176</td>\n",
       "      <td>-10.095812</td>\n",
       "      <td>50</td>\n",
       "      <td>114</td>\n",
       "      <td>8</td>\n",
       "      <td>11</td>\n",
       "    </tr>\n",
       "    <tr>\n",
       "      <th>2</th>\n",
       "      <td>2016-04-01</td>\n",
       "      <td>89000288815</td>\n",
       "      <td>0</td>\n",
       "      <td>0</td>\n",
       "      <td>-8.635742</td>\n",
       "      <td>-12.568947</td>\n",
       "      <td>-9.575737</td>\n",
       "      <td>406</td>\n",
       "      <td>2171</td>\n",
       "      <td>7</td>\n",
       "      <td>23</td>\n",
       "    </tr>\n",
       "    <tr>\n",
       "      <th>3</th>\n",
       "      <td>2016-04-01</td>\n",
       "      <td>89000415018</td>\n",
       "      <td>0</td>\n",
       "      <td>0</td>\n",
       "      <td>-8.345416</td>\n",
       "      <td>-12.836229</td>\n",
       "      <td>-9.820509</td>\n",
       "      <td>212</td>\n",
       "      <td>2315</td>\n",
       "      <td>0</td>\n",
       "      <td>23</td>\n",
       "    </tr>\n",
       "    <tr>\n",
       "      <th>4</th>\n",
       "      <td>2016-04-01</td>\n",
       "      <td>89000865324</td>\n",
       "      <td>0</td>\n",
       "      <td>0</td>\n",
       "      <td>-8.251351</td>\n",
       "      <td>-12.597713</td>\n",
       "      <td>-9.680008</td>\n",
       "      <td>314</td>\n",
       "      <td>1767</td>\n",
       "      <td>1</td>\n",
       "      <td>23</td>\n",
       "    </tr>\n",
       "  </tbody>\n",
       "</table>\n",
       "</div>"
      ],
      "text/plain": [
       "          ymd    phone_num  approve  full_app  max_score  min_score  \\\n",
       "0  2016-04-01  89000165602        0         0  -8.149877 -15.405658   \n",
       "1  2016-04-01  89000262616        0         0  -8.854922 -11.085176   \n",
       "2  2016-04-01  89000288815        0         0  -8.635742 -12.568947   \n",
       "3  2016-04-01  89000415018        0         0  -8.345416 -12.836229   \n",
       "4  2016-04-01  89000865324        0         0  -8.251351 -12.597713   \n",
       "\n",
       "   avg_score  cnt  hits  min_avg_hour  max_avg_hour  \n",
       "0  -9.957737  758  4926             0            23  \n",
       "1 -10.095812   50   114             8            11  \n",
       "2  -9.575737  406  2171             7            23  \n",
       "3  -9.820509  212  2315             0            23  \n",
       "4  -9.680008  314  1767             1            23  "
      ]
     },
     "execution_count": 2,
     "metadata": {},
     "output_type": "execute_result"
    }
   ],
   "source": [
    "train_data.head()\n"
   ]
  },
  {
   "cell_type": "code",
   "execution_count": 3,
   "metadata": {
    "collapsed": false
   },
   "outputs": [
    {
     "name": "stdout",
     "output_type": "stream",
     "text": [
      "XGBoost AUCROC: 0.554252978211\n"
     ]
    }
   ],
   "source": [
    "import sklearn\n",
    "import xgboost as xgb\n",
    "clfXGB = xgb.XGBClassifier()\n",
    "clfXGB.fit(X = train_data.iloc[:,4:],y = train_data['full_app'])\n",
    "print('{0} AUCROC: {1}'.format('XGBoost',sklearn.metrics.roc_auc_score(\n",
    "                y_true = test_data['full_app'], \n",
    "                y_score = [e[1] for e in clfXGB.predict_proba(test_data.iloc[:,4:])]\n",
    "    )))"
   ]
  },
  {
   "cell_type": "code",
   "execution_count": 5,
   "metadata": {
    "collapsed": false
   },
   "outputs": [
    {
     "data": {
      "text/plain": [
       "0.045550492772189304"
      ]
     },
     "execution_count": 5,
     "metadata": {},
     "output_type": "execute_result"
    }
   ],
   "source": [
    "train_data['approve'].mean()"
   ]
  },
  {
   "cell_type": "code",
   "execution_count": 15,
   "metadata": {
    "collapsed": false
   },
   "outputs": [],
   "source": [
    "sc.stop()"
   ]
  },
  {
   "cell_type": "code",
   "execution_count": null,
   "metadata": {
    "collapsed": true
   },
   "outputs": [],
   "source": []
  }
 ],
 "metadata": {
  "kernelspec": {
   "display_name": "Python 2",
   "language": "python",
   "name": "python2"
  },
  "language_info": {
   "codemirror_mode": {
    "name": "ipython",
    "version": 2
   },
   "file_extension": ".py",
   "mimetype": "text/x-python",
   "name": "python",
   "nbconvert_exporter": "python",
   "pygments_lexer": "ipython2",
   "version": "2.7.10"
  }
 },
 "nbformat": 4,
 "nbformat_minor": 0
}
