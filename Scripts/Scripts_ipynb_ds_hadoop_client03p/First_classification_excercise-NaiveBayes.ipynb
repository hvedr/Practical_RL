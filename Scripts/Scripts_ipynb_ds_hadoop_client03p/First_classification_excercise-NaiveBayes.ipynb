{
 "cells": [
  {
   "cell_type": "code",
   "execution_count": 88,
   "metadata": {
    "collapsed": false
   },
   "outputs": [],
   "source": [
    "#Description TODO\n",
    "from pyspark import SparkConf, SparkContext, HiveContext\n",
    "\n",
    "sc.stop()\n",
    "conf = SparkConf().set(\"spark.executor.instances\", 32).set(\"spark.driver.maxResultSize\", \"8g\")\n",
    "sc = SparkContext(conf=conf)\n",
    "\n",
    "hc = HiveContext(sc)\n",
    "table_name = 'user_kposminin.urls_w_levels1'\n",
    "query2 = '''\n",
    "select * from {0}\n",
    "where hash(cookie) % 19 = 0\n",
    "'''.format(table_name)\n",
    "\n",
    "#hc.sql(query2[0])\n",
    "#hc.sql(query2[1])\n",
    "\n",
    "rdd = hc.sql(query2).rdd \n"
   ]
  },
  {
   "cell_type": "code",
   "execution_count": 89,
   "metadata": {
    "collapsed": false
   },
   "outputs": [],
   "source": [
    "#Group by cookie and form url list the cookie visited\n",
    "def test(id):\n",
    "    ''' Is id (==cookie + '-'+date) is from test sample or not(=train sample)? True or False\n",
    "        In ths case test sample == sample from May month.    \n",
    "    '''\n",
    "    import re\n",
    "    return int(re.findall('[0-9]{4}-([0-9]{2})-[0-9]{2}',id)[0]) == 5\n",
    "\n",
    "    \n",
    "rdd2 = rdd.flatMap(lambda row: [(row['cookie'] + str(test(row['object_id'])) , row['domain']),\n",
    "                                (row['cookie'] + str(test(row['object_id'])), row['domain']+'[0]'+row['lev0']),\n",
    "                                (row['cookie'] + str(test(row['object_id'])), row['domain']+'[1]'+row['lev1']),\n",
    "                                (row['cookie'] + str(test(row['object_id'])), row['domain']+'[2]'+row['lev2']),\n",
    "                                (row['cookie'] + str(test(row['object_id'])), row['domain']+'[r]'+row['ref_domain']),\n",
    "                                (row['cookie'] + str(test(row['object_id'])), row['domain']+'[r0]'+row['ref_lev0']),\n",
    "                                (row['cookie'] + str(test(row['object_id'])), row['domain']+'[r1]'+row['ref_lev1']),\n",
    "                                (row['cookie'] + str(test(row['object_id'])), row['domain']+'[r2]'+row['ref_lev2'])\n",
    "]).reduceByKey(lambda a,b: a + ';;' + b)\n",
    "#rdd2 = rdd.map(lambda row: (row['cookie'] , row['domain'])).reduceByKey(lambda a, b: a + ';;' + b)\n",
    "\n",
    "# Label target cookies (=cookies visited target url) and exclude some urls\n",
    "import re\n",
    "#target_urls =['mkb.ru/facility/private_person/cards/credit_card','mkb.ru']\n",
    "target_urls =['avito.ru']\n",
    "exclude_urls = target_urls + []\n",
    "\n",
    "def handle_row(row,targ_urls, exclud_urls):\n",
    "    proc_urls = row[1]\n",
    "    for u in exclud_urls:\n",
    "        proc_urls = re.sub('[^;;]*'+ u +'[^;;]*','',proc_urls)\n",
    "    return (\n",
    "        any(tu in row[1] for tu in targ_urls), \n",
    "        re.sub('[;]{3,}',';;',proc_urls)\n",
    "    )\n",
    "\n",
    "rdd3 = rdd2.map(lambda row: handle_row(row,target_urls, exclude_urls))\n",
    "\n",
    "from pyspark.mllib.regression import LabeledPoint\n",
    "from pyspark.mllib.feature import HashingTF\n",
    "from pyspark.mllib.classification import LogisticRegressionWithSGD, NaiveBayes, NaiveBayesModel\n",
    "\n",
    "tf = HashingTF(numFeatures = 10 ** 4)\n",
    "\n",
    "#transform urls (as Bag of Words) into features and form features with labels\n",
    "all_data = rdd3.map(lambda row: LabeledPoint(row[0], tf.transform(row[1].split(';;'))))\n",
    "# TODO count visits or not\n",
    "# split into train and test samples\n",
    "train_data, test_data = all_data.randomSplit([6, 4])"
   ]
  },
  {
   "cell_type": "code",
   "execution_count": null,
   "metadata": {
    "collapsed": false
   },
   "outputs": [],
   "source": []
  },
  {
   "cell_type": "code",
   "execution_count": 90,
   "metadata": {
    "collapsed": false
   },
   "outputs": [],
   "source": [
    "#Train model\n",
    "train_data.cache()\n",
    "model = NaiveBayes.train(train_data)\n",
    "\n",
    "def predict_proba_NB(f,model):\n",
    "    import numpy as np\n",
    "    '''\n",
    "    Naive Bayes model prediction with probability. f is features [Sparse] vector. model is mllib.NaiveBayesModel.\n",
    "    Function selects winning class with it probability.\n",
    "    Output: tuple with model selected class number as first element (type int) and it probability as second (type float).\n",
    "    '''\n",
    "    logp = [[i,f.dot(model.theta[i]) + model.pi[i]] for i in range(len(model.theta))] # classes with log probabilities\n",
    "    wi = sorted(logp, key = lambda e:  - e[1])[0][0] #winning index\n",
    "    prob = 1./sum([np.exp(e[1] - logp[wi][1]) for e in logp]) #winning class probability\n",
    "    return wi, prob\n",
    "\n",
    "def predict_proba_NB_2(f, model):\n",
    "    import numpy as np\n",
    "    '''\n",
    "    Naive Bayes model prediction with probability for 2-class classification.\n",
    "    f is features [Sparse] vector. model is mllib.NaiveBayesModel.\n",
    "    Output: probability of class 1 (type float).\n",
    "    '''\n",
    "    if len(model.theta) != 2:\n",
    "        print('Model is NOT a 2-class classifier')\n",
    "        return None\n",
    "    logp = [f.dot(model.theta[i]) + model.pi[i] for i in range(2)]    \n",
    "    return 1./(1. + np.exp(logp[0] - logp[1]))\n",
    "    \n",
    "#Testing result\n",
    "test_res = test_data.map(lambda lp: (predict_proba_NB_2(lp.features, model),lp.label)) #.sortByKey(ascending = False)"
   ]
  },
  {
   "cell_type": "code",
   "execution_count": 91,
   "metadata": {
    "collapsed": false
   },
   "outputs": [
    {
     "data": {
      "text/plain": [
       "0.75152601999024649"
      ]
     },
     "execution_count": 91,
     "metadata": {},
     "output_type": "execute_result"
    }
   ],
   "source": [
    "import sklearn\n",
    "test_res_list = test_res.collect()\n",
    "aucroc = sklearn.metrics.roc_auc_score(\n",
    "        [e[1] for e in test_res_list],\n",
    "        [e[0] for e in test_res_list]\n",
    ")\n",
    "aucroc"
   ]
  },
  {
   "cell_type": "code",
   "execution_count": 92,
   "metadata": {
    "collapsed": false
   },
   "outputs": [
    {
     "data": {
      "text/plain": [
       "False"
      ]
     },
     "execution_count": 92,
     "metadata": {},
     "output_type": "execute_result"
    }
   ],
   "source": [
    "id = '83718619B80DB268A1CE-2016-06-04'\n",
    "test(id)"
   ]
  },
  {
   "cell_type": "code",
   "execution_count": 60,
   "metadata": {
    "collapsed": false
   },
   "outputs": [
    {
     "name": "stdout",
     "output_type": "stream",
     "text": [
      "0 class log probability: -619.957533125\n",
      "1 class log probability: -3131.73194761\n",
      "True.     model prediction is 0.0.\n",
      "(0, 1.0)\n",
      "0.0\n",
      "-----\n",
      "0 class log probability: -134.270812141\n",
      "1 class log probability: -123.060793405\n",
      "True.     model prediction is 1.0.\n",
      "(1, 0.99998646230137556)\n",
      "0.999986462301\n",
      "-----\n",
      "0 class log probability: -27.6021001885\n",
      "1 class log probability: -42.2886633545\n",
      "True.     model prediction is 0.0.\n",
      "(0, 0.99999958148938561)\n",
      "4.18510614324e-07\n",
      "-----\n",
      "0 class log probability: -7.30620121256\n",
      "1 class log probability: -10.2155865149\n",
      "True.     model prediction is 0.0.\n",
      "(0, 0.94830844063646769)\n",
      "0.0516915593635\n",
      "-----\n",
      "0 class log probability: -24.150500498\n",
      "1 class log probability: -26.0810285698\n",
      "True.     model prediction is 0.0.\n",
      "(0, 0.87330785791760546)\n",
      "0.126692142082\n",
      "-----\n",
      "0 class log probability: -179.71064474\n",
      "1 class log probability: -179.014984778\n",
      "True.     model prediction is 1.0.\n",
      "(1, 0.66722482859549426)\n",
      "0.667224828595\n",
      "-----\n",
      "0 class log probability: -287.578280807\n",
      "1 class log probability: -284.620817229\n",
      "True.     model prediction is 1.0.\n",
      "(1, 0.95061505491041065)\n",
      "0.95061505491\n",
      "-----\n",
      "0 class log probability: -38.50178682\n",
      "1 class log probability: -197.348542488\n",
      "True.     model prediction is 0.0.\n",
      "(0, 1.0)\n",
      "1.03212083554e-69\n",
      "-----\n",
      "0 class log probability: -97.8752620284\n",
      "1 class log probability: -91.6865586171\n",
      "True.     model prediction is 1.0.\n",
      "(1, 0.99795171781169334)\n",
      "0.997951717812\n",
      "-----\n",
      "0 class log probability: -36.2393130989\n",
      "1 class log probability: -185.930708226\n",
      "True.     model prediction is 0.0.\n",
      "(0, 1.0)\n",
      "9.76906743967e-66\n",
      "-----\n",
      "0 class log probability: -14.8444896297\n",
      "1 class log probability: -15.3266040797\n",
      "True.     model prediction is 0.0.\n",
      "(0, 0.61824704689109833)\n",
      "0.381752953109\n",
      "-----\n",
      "0 class log probability: -22.9253620144\n",
      "1 class log probability: -37.498862831\n",
      "True.     model prediction is 0.0.\n",
      "(0, 0.99999953139295883)\n",
      "4.6860704108e-07\n",
      "-----\n",
      "0 class log probability: -87.6553462456\n",
      "1 class log probability: -88.7503036898\n",
      "True.     model prediction is 0.0.\n",
      "(0, 0.74931409069116384)\n",
      "0.250685909309\n",
      "-----\n",
      "0 class log probability: -316.687051553\n",
      "1 class log probability: -303.747520388\n",
      "True.     model prediction is 1.0.\n",
      "(1, 0.9999975987798797)\n",
      "0.99999759878\n",
      "-----\n",
      "0 class log probability: -48.0680811758\n",
      "1 class log probability: -71.7523656146\n",
      "True.     model prediction is 0.0.\n",
      "(0, 0.99999999994823385)\n",
      "5.1766161199e-11\n",
      "-----\n",
      "0 class log probability: -79.6361836773\n",
      "1 class log probability: -74.7822046228\n",
      "True.     model prediction is 1.0.\n",
      "(1, 0.99226303744086397)\n",
      "0.992263037441\n",
      "-----\n",
      "0 class log probability: -20.0743462754\n",
      "1 class log probability: -38.5569613487\n",
      "True.     model prediction is 0.0.\n",
      "(0, 0.999999990600554)\n",
      "9.39944602659e-09\n",
      "-----\n",
      "0 class log probability: -86.1714717283\n",
      "1 class log probability: -140.259371182\n",
      "True.     model prediction is 0.0.\n",
      "(0, 1.0)\n",
      "3.23536832737e-24\n",
      "-----\n",
      "0 class log probability: -7.2173784096\n",
      "1 class log probability: -14.6631943086\n",
      "True.     model prediction is 0.0.\n",
      "(0, 0.99941646119708138)\n",
      "0.000583538802919\n",
      "-----\n",
      "0 class log probability: -1.89032807085\n",
      "1 class log probability: -4.75551555148\n",
      "True.     model prediction is 0.0.\n",
      "(0, 0.94609845416559168)\n",
      "0.0539015458344\n",
      "-----\n",
      "0 class log probability: -386.08329281\n",
      "1 class log probability: -488.703288979\n",
      "True.     model prediction is 0.0.\n",
      "(0, 1.0)\n",
      "2.70833218486e-45\n",
      "-----\n",
      "0 class log probability: -1205.86907679\n",
      "1 class log probability: -1044.74105387\n",
      "True.     model prediction is 1.0.\n",
      "(1, 1.0)\n",
      "1.0\n",
      "-----\n",
      "0 class log probability: -40.764260541\n",
      "1 class log probability: -208.766376749\n",
      "True.     model prediction is 0.0.\n",
      "(0, 1.0)\n",
      "1.09045558927e-73\n",
      "-----\n",
      "0 class log probability: -239.88794728\n",
      "1 class log probability: -254.444714751\n",
      "True.     model prediction is 0.0.\n",
      "(0, 0.99999952348562593)\n",
      "4.76514374106e-07\n",
      "-----\n",
      "0 class log probability: -84.9636373905\n",
      "1 class log probability: -76.0664833885\n",
      "True.     model prediction is 1.0.\n",
      "(1, 0.99986324106358593)\n",
      "0.999863241064\n",
      "-----\n",
      "0 class log probability: -771.814097184\n",
      "1 class log probability: -766.891284337\n",
      "True.     model prediction is 1.0.\n",
      "(1, 0.99277396724437517)\n",
      "0.992773967244\n",
      "-----\n",
      "0 class log probability: -4495.04783721\n",
      "1 class log probability: -4397.07582725\n",
      "True.     model prediction is 1.0.\n",
      "(1, 1.0)\n",
      "1.0\n",
      "-----\n",
      "0 class log probability: -15.853676931\n",
      "1 class log probability: -26.0810285698\n",
      "True.     model prediction is 0.0.\n",
      "(0, 0.99996383388059984)\n",
      "3.61661194e-05\n",
      "-----\n",
      "0 class log probability: -8.38970827416\n",
      "1 class log probability: -12.583752767\n",
      "True.     model prediction is 0.0.\n",
      "(0, 0.9851390304016554)\n",
      "0.0148609695983\n",
      "-----\n",
      "0 class log probability: -1.89032807085\n",
      "1 class log probability: -4.75551555148\n",
      "True.     model prediction is 0.0.\n",
      "(0, 0.94609845416559168)\n",
      "0.0539015458344\n",
      "-----\n",
      "0 class log probability: -10.1492068812\n",
      "1 class log probability: -14.6631943086\n",
      "True.     model prediction is 0.0.\n",
      "(0, 0.9891640129666901)\n",
      "0.0108359870333\n",
      "-----\n",
      "0 class log probability: -657.871463385\n",
      "1 class log probability: -684.700041202\n",
      "True.     model prediction is 0.0.\n",
      "(0, 0.99999999999776912)\n",
      "2.23098523925e-12\n",
      "-----\n",
      "0 class log probability: -1240.75511401\n",
      "1 class log probability: -1651.36015556\n",
      "True.     model prediction is 0.0.\n",
      "(0, 1.0)\n",
      "4.74784151789e-179\n",
      "-----\n",
      "0 class log probability: -5.66486006225\n",
      "1 class log probability: -9.30660803396\n",
      "True.     model prediction is 0.0.\n",
      "(0, 0.97446274623708551)\n",
      "0.0255372537629\n",
      "-----\n",
      "0 class log probability: -61.7667989746\n",
      "1 class log probability: -71.6751359277\n",
      "True.     model prediction is 0.0.\n",
      "(0, 0.99995024435880675)\n",
      "4.97556411932e-05\n",
      "-----\n",
      "0 class log probability: -4.63346133345\n",
      "1 class log probability: -9.75257726529\n",
      "True.     model prediction is 0.0.\n",
      "(0, 0.99405425489279131)\n",
      "0.00594574510721\n",
      "-----\n",
      "0 class log probability: -540.679439249\n",
      "1 class log probability: -561.168083526\n",
      "True.     model prediction is 0.0.\n",
      "(0, 0.99999999873556988)\n",
      "1.2644301655e-09\n",
      "-----\n",
      "0 class log probability: -298.205104387\n",
      "1 class log probability: -653.368765755\n",
      "True.     model prediction is 0.0.\n",
      "(0, 1.0)\n",
      "5.68043631618e-155\n",
      "-----\n",
      "0 class log probability: -2.30220728347\n",
      "1 class log probability: -14.6631943086\n",
      "True.     model prediction is 0.0.\n",
      "(0, 0.99999571757580308)\n",
      "4.28242419681e-06\n",
      "-----\n",
      "0 class log probability: -43.6556283505\n",
      "1 class log probability: -60.3345313534\n",
      "True.     model prediction is 0.0.\n",
      "(0, 0.99999994292519501)\n",
      "5.70748050644e-08\n",
      "-----\n",
      "0 class log probability: -261.210385839\n",
      "1 class log probability: -271.866379247\n",
      "True.     model prediction is 0.0.\n",
      "(0, 0.99997644133740471)\n",
      "2.35586625954e-05\n",
      "-----\n",
      "0 class log probability: -7.403769148\n",
      "1 class log probability: -14.6631943086\n",
      "True.     model prediction is 0.0.\n",
      "(0, 0.99929698225567276)\n",
      "0.000703017744327\n",
      "-----\n",
      "0 class log probability: -2.90182109286\n",
      "1 class log probability: -8.28987451905\n",
      "True.     model prediction is 0.0.\n",
      "(0, 0.99544993551561545)\n",
      "0.00455006448438\n",
      "-----\n",
      "0 class log probability: -16.5129447208\n",
      "1 class log probability: -23.4419712402\n",
      "True.     model prediction is 0.0.\n",
      "(0, 0.99902200401564489)\n",
      "0.000977995984355\n",
      "-----\n",
      "0 class log probability: -623.615415742\n",
      "1 class log probability: -613.909959577\n",
      "True.     model prediction is 1.0.\n",
      "(1, 0.9999390536819428)\n",
      "0.999939053682\n",
      "-----\n",
      "0 class log probability: -2.30220728347\n",
      "1 class log probability: -14.6631943086\n",
      "True.     model prediction is 0.0.\n",
      "(0, 0.99999571757580308)\n",
      "4.28242419681e-06\n",
      "-----\n",
      "0 class log probability: -4392.15931814\n",
      "1 class log probability: -4798.74726428\n",
      "True.     model prediction is 0.0.\n",
      "(0, 1.0)\n",
      "2.63692988968e-177\n",
      "-----\n",
      "0 class log probability: -62.055058471\n",
      "1 class log probability: -91.0927924884\n",
      "True.     model prediction is 0.0.\n",
      "(0, 0.99999999999975508)\n",
      "2.44947126623e-13\n",
      "-----\n",
      "0 class log probability: -21.7425548894\n",
      "1 class log probability: -14.8916058106\n",
      "True.     model prediction is 1.0.\n",
      "(1, 0.99894266847023072)\n",
      "0.99894266847\n",
      "-----\n",
      "0 class log probability: -50.2002738959\n",
      "1 class log probability: -52.5395530331\n",
      "True.     model prediction is 0.0.\n",
      "(0, 0.91207829528097817)\n",
      "0.087921704719\n",
      "-----\n"
     ]
    }
   ],
   "source": [
    "for f in test_data.top(50):\n",
    "    ex = f.features\n",
    "    p = []\n",
    "    for i in [0,1]:\n",
    "        p.append(ex.dot(model.theta[i]) + model.pi[i])\n",
    "        print('{0} class log probability: {1}'.format(i, p[i]))\n",
    "    print('{0}.     model prediction is {1}.'.format((p[0] < p[1]) == model.predict(ex), model.predict(ex)))\n",
    "    print(predict_proba_NB(ex,model))\n",
    "    print(predict_proba_NB_2(ex,model))\n",
    "    print('-'*5)"
   ]
  },
  {
   "cell_type": "raw",
   "metadata": {},
   "source": []
  },
  {
   "cell_type": "code",
   "execution_count": 72,
   "metadata": {
    "collapsed": false
   },
   "outputs": [],
   "source": [
    "def calc_ROC(arr):\n",
    "    ''''Calculates ROC curve from arr input with two columns: \n",
    "        first is classifier score and second is label (0 or 1). arr is sorted by score.\n",
    "        Output is tuple with AUC ROC as first element and ROC array with two \n",
    "        columns FPR and TPR as second element.\n",
    "    '''\n",
    "    #cumulative positive, negative, true positive rate, false positive rate,\n",
    "    # area under ROC curve\n",
    "    TPR, FPR, AUC = 0., 0., 0.\n",
    "    one_to_P = 1. / sum([e[1] for e in arr])\n",
    "    one_to_N =  one_to_P / (len(arr) *  one_to_P - 1)\n",
    "    ROC = []\n",
    "    for e in arr:\n",
    "        if e[1] == 0 :            \n",
    "            FPR+= one_to_N\n",
    "            AUC += TPR * one_to_N\n",
    "        else:            \n",
    "            TPR+= one_to_P\n",
    "        ROC.append([FPR,TPR])\n",
    "    return (AUC, ROC)\n",
    "    \n",
    "#test_res_list = sorted(test_res_list, key = lambda e: -e[0])\n",
    "#res = calc_ROC(arr)    "
   ]
  },
  {
   "cell_type": "code",
   "execution_count": 78,
   "metadata": {
    "collapsed": false
   },
   "outputs": [
    {
     "data": {
      "text/plain": [
       "<matplotlib.collections.PathCollection at 0x7f69c45ed290>"
      ]
     },
     "execution_count": 78,
     "metadata": {},
     "output_type": "execute_result"
    },
    {
     "name": "stderr",
     "output_type": "stream",
     "text": [
      "/opt/anaconda/lib/python2.7/site-packages/matplotlib/collections.py:590: FutureWarning: elementwise comparison failed; returning scalar instead, but in the future will perform elementwise comparison\n",
      "  if self._edgecolors == str('face'):\n"
     ]
    },
    {
     "data": {
      "image/png": "[encoded data removed]",
      "text/plain": [
       "<matplotlib.figure.Figure at 0x7f69c45f1b50>"
      ]
     },
     "metadata": {},
     "output_type": "display_data"
    }
   ],
   "source": [
    "%matplotlib inline\n",
    "import pandas as pd\n",
    "import numpy as np\n",
    "import matplotlib.pyplot as plt\n",
    "\n",
    "#plt.scatter([e[0] for e in res[1]],[e[0] for e in res[1]])"
   ]
  },
  {
   "cell_type": "code",
   "execution_count": 82,
   "metadata": {
    "collapsed": false
   },
   "outputs": [
    {
     "data": {
      "text/plain": [
       "SparseVector(20, {1: 1.0, 14: 1.0, 18: 1.0})"
      ]
     },
     "execution_count": 82,
     "metadata": {},
     "output_type": "execute_result"
    }
   ],
   "source": [
    "tf1 = HashingTF(numFeatures = 20 ) \n",
    "tf1.transform(['fF','EFE','AS'])"
   ]
  },
  {
   "cell_type": "code",
   "execution_count": 50,
   "metadata": {
    "collapsed": false
   },
   "outputs": [
    {
     "ename": "TypeError",
     "evalue": "'int' object is not iterable",
     "output_type": "error",
     "traceback": [
      "\u001b[1;31m---------------------------------------------------------------------------\u001b[0m",
      "\u001b[1;31mTypeError\u001b[0m                                 Traceback (most recent call last)",
      "\u001b[1;32m<ipython-input-50-c183df81d05e>\u001b[0m in \u001b[0;36m<module>\u001b[1;34m()\u001b[0m\n\u001b[1;32m----> 1\u001b[1;33m \u001b[0mlist\u001b[0m\u001b[1;33m(\u001b[0m\u001b[1;36m2\u001b[0m\u001b[1;33m)\u001b[0m\u001b[1;33m\u001b[0m\u001b[0m\n\u001b[0m",
      "\u001b[1;31mTypeError\u001b[0m: 'int' object is not iterable"
     ]
    }
   ],
   "source": []
  },
  {
   "cell_type": "code",
   "execution_count": 4,
   "metadata": {
    "collapsed": false
   },
   "outputs": [
    {
     "ename": "AttributeError",
     "evalue": "'DataFrame' object has no attribute 'set_columns'",
     "output_type": "error",
     "traceback": [
      "\u001b[1;31m---------------------------------------------------------------------------\u001b[0m",
      "\u001b[1;31mAttributeError\u001b[0m                            Traceback (most recent call last)",
      "\u001b[1;32m<ipython-input-4-06f21e7c00f8>\u001b[0m in \u001b[0;36m<module>\u001b[1;34m()\u001b[0m\n\u001b[0;32m      1\u001b[0m \u001b[1;32mimport\u001b[0m \u001b[0mpandas\u001b[0m \u001b[1;32mas\u001b[0m \u001b[0mpd\u001b[0m\u001b[1;33m\u001b[0m\u001b[0m\n\u001b[1;32m----> 2\u001b[1;33m \u001b[0mpd\u001b[0m\u001b[1;33m.\u001b[0m\u001b[0mDataFrame\u001b[0m\u001b[1;33m(\u001b[0m\u001b[1;33m[\u001b[0m\u001b[0mrange\u001b[0m\u001b[1;33m(\u001b[0m\u001b[1;36m10\u001b[0m\u001b[1;33m)\u001b[0m\u001b[1;33m,\u001b[0m\u001b[0mrange\u001b[0m\u001b[1;33m(\u001b[0m\u001b[1;36m10\u001b[0m\u001b[1;33m)\u001b[0m\u001b[1;33m]\u001b[0m\u001b[1;33m)\u001b[0m\u001b[1;33m.\u001b[0m\u001b[0mset_columns\u001b[0m\u001b[1;33m(\u001b[0m\u001b[1;33m[\u001b[0m\u001b[1;34m'af'\u001b[0m\u001b[1;33m,\u001b[0m\u001b[1;34m'fg'\u001b[0m\u001b[1;33m]\u001b[0m\u001b[1;33m)\u001b[0m\u001b[1;33m\u001b[0m\u001b[0m\n\u001b[0m",
      "\u001b[1;32m/opt/anaconda/lib/python2.7/site-packages/pandas/core/generic.pyc\u001b[0m in \u001b[0;36m__getattr__\u001b[1;34m(self, name)\u001b[0m\n\u001b[0;32m   2148\u001b[0m                 \u001b[1;32mreturn\u001b[0m \u001b[0mself\u001b[0m\u001b[1;33m[\u001b[0m\u001b[0mname\u001b[0m\u001b[1;33m]\u001b[0m\u001b[1;33m\u001b[0m\u001b[0m\n\u001b[0;32m   2149\u001b[0m             raise AttributeError(\"'%s' object has no attribute '%s'\" %\n\u001b[1;32m-> 2150\u001b[1;33m                                  (type(self).__name__, name))\n\u001b[0m\u001b[0;32m   2151\u001b[0m \u001b[1;33m\u001b[0m\u001b[0m\n\u001b[0;32m   2152\u001b[0m     \u001b[1;32mdef\u001b[0m \u001b[0m__setattr__\u001b[0m\u001b[1;33m(\u001b[0m\u001b[0mself\u001b[0m\u001b[1;33m,\u001b[0m \u001b[0mname\u001b[0m\u001b[1;33m,\u001b[0m \u001b[0mvalue\u001b[0m\u001b[1;33m)\u001b[0m\u001b[1;33m:\u001b[0m\u001b[1;33m\u001b[0m\u001b[0m\n",
      "\u001b[1;31mAttributeError\u001b[0m: 'DataFrame' object has no attribute 'set_columns'"
     ]
    }
   ],
   "source": [
    "import pandas as pd\n",
    "pd.DataFrame([range(10),range(10)]).set_columns(['af','fg'])"
   ]
  },
  {
   "cell_type": "code",
   "execution_count": null,
   "metadata": {
    "collapsed": true
   },
   "outputs": [],
   "source": []
  }
 ],
 "metadata": {
  "kernelspec": {
   "display_name": "Python 2",
   "language": "python",
   "name": "python2"
  },
  "language_info": {
   "codemirror_mode": {
    "name": "ipython",
    "version": 2
   },
   "file_extension": ".py",
   "mimetype": "text/x-python",
   "name": "python",
   "nbconvert_exporter": "python",
   "pygments_lexer": "ipython2",
   "version": "2.7.10"
  }
 },
 "nbformat": 4,
 "nbformat_minor": 0
}
