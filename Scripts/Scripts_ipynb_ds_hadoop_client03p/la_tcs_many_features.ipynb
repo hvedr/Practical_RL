{
 "cells": [
  {
   "cell_type": "code",
   "execution_count": null,
   "metadata": {
    "collapsed": false
   },
   "outputs": [],
   "source": [
    "import datetime\n",
    "from pyspark import SparkConf, SparkContext, HiveContext\n",
    "sc.stop()\n",
    "conf = SparkConf().set(\"spark.executor.instances\", 32).set(\"spark.driver.maxResultSize\", \"16g\")\n",
    "sc = SparkContext(conf=conf)\n",
    "hc = HiveContext(sc)\n",
    "import pandas as pd\n",
    "import numpy as np\n",
    "import xgboost\n",
    "import sklearn"
   ]
  },
  {
   "cell_type": "code",
   "execution_count": null,
   "metadata": {
    "collapsed": false
   },
   "outputs": [],
   "source": [
    "train_query = '''\n",
    "select \n",
    "  label, first_day, max_tcs_score, max_work_hours_tcs_score, avg_work_hours_tcs_score, cnt, hits, work_hours_hits, min_avg_hour, \n",
    "  max_avg_hour, avg_avg_hour, sum_duration, avg_duration, emailru, mobile_share, \n",
    "  vk_share, social_share, hour_std, hour_cnt, log_avg_exp_tsc_score, avg_tcs_score, sum_tcs_score, min_tcs_score, \n",
    "  q75_tcs_score, q25_tcs_score, q50_tcs_score, q90_tcs_score, good_tcs_urlfr_visited_cnt, \n",
    "  very_good_tcs_urlfr_visited_cnt, max_urlfr_avg_hour, max_urlfr_hits_cnt, max_urlfr_cnt_total from  \n",
    "user_kposminin.la_scores_20161011_2\n",
    "where label = 1 or rand() < 0.01\n",
    "'''\n",
    "\n",
    "test_query = '''\n",
    "select \n",
    "  label, first_day, max_tcs_score, max_work_hours_tcs_score, avg_work_hours_tcs_score, cnt, hits, work_hours_hits, min_avg_hour, \n",
    "  max_avg_hour, avg_avg_hour, sum_duration, avg_duration, emailru, mobile_share, \n",
    "  vk_share, social_share, hour_std, hour_cnt, log_avg_exp_tsc_score, avg_tcs_score, sum_tcs_score, min_tcs_score, \n",
    "  q75_tcs_score, q25_tcs_score, q50_tcs_score, q90_tcs_score, good_tcs_urlfr_visited_cnt, \n",
    "  very_good_tcs_urlfr_visited_cnt, max_urlfr_avg_hour, max_urlfr_hits_cnt, max_urlfr_cnt_total from  \n",
    "user_kposminin.la_scores_20161018_2\n",
    "where rand() < 0.02\n",
    "'''\n",
    "\n",
    "# Load and parse the data file.\n",
    "train = hc.sql(train_query) \\\n",
    "    .toPandas()\n",
    "    \n",
    "test = hc.sql(test_query) \\\n",
    "    .toPandas()"
   ]
  },
  {
   "cell_type": "code",
   "execution_count": null,
   "metadata": {
    "collapsed": false
   },
   "outputs": [],
   "source": [
    "label = 'label'\n",
    "feat_cols = [c for c in train.columns if not c in ['label','first_day']]"
   ]
  },
  {
   "cell_type": "code",
   "execution_count": null,
   "metadata": {
    "collapsed": false
   },
   "outputs": [],
   "source": [
    "import xgboost as xgb\n",
    "# read in data\n",
    "#param = {'max_depth':5, 'eta':1, 'silent':1, 'objective':'binary:logistic' }\n",
    "\n",
    "clfXGB1 = xgb.XGBClassifier()\n",
    "clfXGB1.fit(train[feat_cols],train[label])\n"
   ]
  },
  {
   "cell_type": "code",
   "execution_count": null,
   "metadata": {
    "collapsed": false
   },
   "outputs": [],
   "source": [
    "print('{0} AUCROC sampled100 test: {1}. train {2}'.format(\n",
    "               'XGBoost',\n",
    "                sklearn.metrics.roc_auc_score(\n",
    "                  y_true = test[label], \n",
    "                  y_score = [e[1] for e in clfXGB1.predict_proba(test[feat_cols])]\n",
    "                ),\n",
    "                sklearn.metrics.roc_auc_score(\n",
    "                  y_true = train[label], \n",
    "                  y_score = [e[1] for e in clfXGB1.predict_proba(train[feat_cols])]\n",
    "                )                                              \n",
    "))\n",
    "\n",
    "print('{0} AUCROC sampled100 test: {1}. train {2}'.format(\n",
    "               'max_score',\n",
    "                sklearn.metrics.roc_auc_score(\n",
    "                  y_true = test[label], \n",
    "                  y_score = test['max_tcs_score'].fillna(-100)\n",
    "                ),\n",
    "                sklearn.metrics.roc_auc_score(\n",
    "                  y_true = train[label], \n",
    "                  y_score = train['max_tcs_score'].fillna(-100)\n",
    "                )                                              \n",
    "))"
   ]
  },
  {
   "cell_type": "code",
   "execution_count": null,
   "metadata": {
    "collapsed": false
   },
   "outputs": [],
   "source": [
    "from sklearn.preprocessing import Imputer\n",
    "imp = Imputer(missing_values='NaN', strategy='mean')\n",
    "X, y  = imp.fit_transform(train[feat_cols]), train[label]\n",
    "Xt,yt = imp.transform(test[feat_cols])     , test[label]"
   ]
  },
  {
   "cell_type": "code",
   "execution_count": null,
   "metadata": {
    "collapsed": false
   },
   "outputs": [],
   "source": [
    "from sklearn.ensemble import AdaBoostClassifier\n",
    "\n",
    "clfAB = AdaBoostClassifier(learning_rate = 0.5, n_estimators = 100)\n",
    "clfAB.fit(X,y)\n",
    "print('{0} AUCROC sampled100 test: {1}. train {2}'.format(\n",
    "               'clfAB',\n",
    "                sklearn.metrics.roc_auc_score(\n",
    "                  y_true = yt, \n",
    "                  y_score = [e[1] for e in clfAB.predict_proba(Xt)]\n",
    "                ),\n",
    "                sklearn.metrics.roc_auc_score(\n",
    "                  y_true = y, \n",
    "                  y_score = [e[1] for e in clfAB.predict_proba(X)]\n",
    "                )                                              \n",
    "))"
   ]
  },
  {
   "cell_type": "code",
   "execution_count": 14,
   "metadata": {
    "collapsed": false
   },
   "outputs": [
    {
     "data": {
      "text/plain": [
       "[(0.11, 'q90_tcs_score'),\n",
       " (0.11, 'max_tcs_score'),\n",
       " (0.089999999999999997, 'avg_tcs_score'),\n",
       " (0.080000000000000002, 'min_tcs_score'),\n",
       " (0.070000000000000007, 'q25_tcs_score'),\n",
       " (0.059999999999999998, 'sum_tcs_score'),\n",
       " (0.059999999999999998, 'q50_tcs_score'),\n",
       " (0.059999999999999998, 'avg_duration'),\n",
       " (0.050000000000000003, 'social_share'),\n",
       " (0.040000000000000001, 'mobile_share'),\n",
       " (0.029999999999999999, 'max_work_hours_tcs_score'),\n",
       " (0.029999999999999999, 'max_urlfr_cnt_total'),\n",
       " (0.029999999999999999, 'hour_std'),\n",
       " (0.029999999999999999, 'cnt'),\n",
       " (0.02, 'q75_tcs_score'),\n",
       " (0.02, 'max_urlfr_hits_cnt'),\n",
       " (0.02, 'hour_cnt'),\n",
       " (0.02, 'avg_avg_hour'),\n",
       " (0.01, 'work_hours_hits'),\n",
       " (0.01, 'sum_duration'),\n",
       " (0.01, 'min_avg_hour'),\n",
       " (0.01, 'log_avg_exp_tsc_score'),\n",
       " (0.01, 'hits'),\n",
       " (0.01, 'emailru'),\n",
       " (0.01, 'avg_work_hours_tcs_score'),\n",
       " (0.0, 'vk_share'),\n",
       " (0.0, 'very_good_tcs_urlfr_visited_cnt'),\n",
       " (0.0, 'max_urlfr_avg_hour'),\n",
       " (0.0, 'max_avg_hour'),\n",
       " (0.0, 'good_tcs_urlfr_visited_cnt')]"
      ]
     },
     "execution_count": 14,
     "metadata": {},
     "output_type": "execute_result"
    }
   ],
   "source": [
    "sorted(zip(clfAB.feature_importances_,feat_cols),reverse = True)"
   ]
  },
  {
   "cell_type": "code",
   "execution_count": null,
   "metadata": {
    "collapsed": false
   },
   "outputs": [],
   "source": [
    "import pickle\n",
    "#pickle.dump(clfXGB1,open('XGBclf_20161114.pck','w'))\n",
    "#clfXGB1 = pickle.load(open('XGBclf_20161114.pck','r'))"
   ]
  },
  {
   "cell_type": "code",
   "execution_count": null,
   "metadata": {
    "collapsed": false
   },
   "outputs": [],
   "source": [
    "test_query1 = '''\n",
    "select \n",
    "  label, max_tcs_score, max_work_hours_tcs_score, avg_work_hours_tcs_score, cnt, hits, work_hours_hits, min_avg_hour, \n",
    "  max_avg_hour, avg_avg_hour, sum_duration, avg_duration, emailru, mobile_share, \n",
    "  vk_share, social_share, hour_std, hour_cnt, log_avg_exp_tsc_score, avg_tcs_score, sum_tcs_score, min_tcs_score, \n",
    "  q75_tcs_score, q25_tcs_score, q50_tcs_score, q90_tcs_score, good_tcs_urlfr_visited_cnt, \n",
    "  very_good_tcs_urlfr_visited_cnt, max_urlfr_avg_hour, max_urlfr_hits_cnt, max_urlfr_cnt_total from  \n",
    "user_kposminin.la_scores_20161018_2\n",
    "where rand() < 0.08\n",
    "'''\n",
    "    \n",
    "test1 = hc.sql(test_query1) \\\n",
    "    .toPandas()"
   ]
  },
  {
   "cell_type": "code",
   "execution_count": null,
   "metadata": {
    "collapsed": false
   },
   "outputs": [],
   "source": [
    "print('{0} AUCROC sampled10 test: {1}. '.format(\n",
    "               'XGBoost',\n",
    "                sklearn.metrics.roc_auc_score(\n",
    "                  y_true = test1[label], \n",
    "                  y_score = [e[1] for e in clfXGB1.predict_proba(test1[feat_cols])]\n",
    "                )                                               \n",
    "))"
   ]
  },
  {
   "cell_type": "code",
   "execution_count": null,
   "metadata": {
    "collapsed": true
   },
   "outputs": [],
   "source": [
    "print('{0} AUCROC sampled10 test: {1}. '.format(\n",
    "               'max_tcs_score',\n",
    "                sklearn.metrics.roc_auc_score(\n",
    "                  y_true = test1[label], \n",
    "                  y_score = test1['max_tcs_score'].fillna(-20)\n",
    "                )\n",
    "                                               \n",
    "))"
   ]
  },
  {
   "cell_type": "code",
   "execution_count": null,
   "metadata": {
    "collapsed": true
   },
   "outputs": [],
   "source": []
  }
 ],
 "metadata": {
  "kernelspec": {
   "display_name": "Python 2",
   "language": "python",
   "name": "python2"
  },
  "language_info": {
   "codemirror_mode": {
    "name": "ipython",
    "version": 2
   },
   "file_extension": ".py",
   "mimetype": "text/x-python",
   "name": "python",
   "nbconvert_exporter": "python",
   "pygments_lexer": "ipython2",
   "version": "2.7.10"
  }
 },
 "nbformat": 4,
 "nbformat_minor": 0
}
