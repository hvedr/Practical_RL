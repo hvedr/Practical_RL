{
 "cells": [
  {
   "cell_type": "markdown",
   "metadata": {},
   "source": [
    "##  Холодные звонки\n",
    "\n",
    "Тест эффективности скоров текущей модели lookalike."
   ]
  },
  {
   "cell_type": "code",
   "execution_count": 2,
   "metadata": {
    "collapsed": false
   },
   "outputs": [],
   "source": [
    "#Config\n",
    "from pyspark import SparkConf, SparkContext, HiveContext\n",
    "import re\n",
    "import numpy as np\n",
    "import pandas as pd\n",
    "import datetime\n",
    "\n",
    "sc.stop()\n",
    "conf = SparkConf().set(\"spark.executor.instances\", 32).set(\"spark.driver.maxResultSize\", \"16g\")\n",
    "sc = SparkContext(conf=conf)\n",
    "hc = HiveContext(sc)\n",
    "\n"
   ]
  },
  {
   "cell_type": "code",
   "execution_count": 72,
   "metadata": {
    "collapsed": false
   },
   "outputs": [],
   "source": [
    "read_query = '''\n",
    "select \n",
    "  a.ymd,\n",
    "  a.id,\n",
    "  m.approve as label,\n",
    "  score_ccall_total, \n",
    "  score_ccall_approve_total,\n",
    "  score_ccall_not_approve_total, \n",
    "  score_ccall_approve_ccall_not_approve\n",
    "from\n",
    "  (select ymd, id, ccall_approve_label as label,score_ccall_total, score_ccall_approve_total,\n",
    "    score_ccall_not_approve_total, score_ccall_approve_ccall_not_approve\n",
    "    from  user_kposminin.ccalls_scores_1 where ymd = '2016-05-18'\n",
    "  ) a\n",
    "  inner join (select id,approve from user_kposminin.cold_calls_matched_1 where ymd = '2016-05-25') m on m.id = a.id\n",
    "'''\n",
    "\n",
    "data = hc.sql(read_query).toPandas()\n"
   ]
  },
  {
   "cell_type": "code",
   "execution_count": 84,
   "metadata": {
    "collapsed": false
   },
   "outputs": [
    {
     "data": {
      "text/plain": [
       "Index([u'ymd', u'id', u'label', u'score_ccall_total',\n",
       "       u'score_ccall_approve_total', u'score_ccall_not_approve_total',\n",
       "       u'score_ccall_approve_ccall_not_approve'],\n",
       "      dtype='object')"
      ]
     },
     "execution_count": 84,
     "metadata": {},
     "output_type": "execute_result"
    }
   ],
   "source": [
    "data.columns"
   ]
  },
  {
   "cell_type": "code",
   "execution_count": 87,
   "metadata": {
    "collapsed": false
   },
   "outputs": [
    {
     "name": "stdout",
     "output_type": "stream",
     "text": [
      "AUC ROC score_ccall_total: 0.491384631633\n",
      "AUC ROC score_ccall_approve_total: 0.492002879026\n",
      "AUC ROC score_ccall_not_approve_total: 0.491351577597\n",
      "AUC ROC score_ccall_approve_ccall_not_approve: 0.495696520916\n"
     ]
    }
   ],
   "source": [
    "import sklearn as sk\n",
    "from sklearn import linear_model\n",
    "from sklearn.cross_validation import train_test_split\n",
    "feat_cols = data.columns[3:]\n",
    "for c in feat_cols:\n",
    "    print('AUC ROC {0}: {1}'.format(\n",
    "            c,\n",
    "            sk.metrics.roc_auc_score(y_true = data['label'], y_score = data[c])\n",
    "    ))"
   ]
  },
  {
   "cell_type": "code",
   "execution_count": 88,
   "metadata": {
    "collapsed": false
   },
   "outputs": [],
   "source": [
    "train, test = train_test_split(data, test_size = 0.4)"
   ]
  },
  {
   "cell_type": "code",
   "execution_count": 104,
   "metadata": {
    "collapsed": false,
    "scrolled": true
   },
   "outputs": [
    {
     "name": "stdout",
     "output_type": "stream",
     "text": [
      "Lars AUCROC:    0.5098502533\n",
      "LinRegr AUCROC:    0.510559128784\n",
      "Ridge AUCROC:    0.510553935557\n",
      "ElasticNet AUCROC:    0.5\n",
      "BayesianRidge AUCROC:    0.500969835141\n",
      "Lasso AUCROC:    0.5\n"
     ]
    }
   ],
   "source": [
    "from sklearn import linear_model\n",
    "lin_models = {\n",
    "    'Ridge': linear_model.Ridge (alpha = .5),\n",
    "    'Lasso': linear_model.Lasso(),\n",
    "    'ElasticNet': linear_model.ElasticNet(),\n",
    "    'Lars': linear_model.Lars(),\n",
    "    'LinRegr': linear_model.LinearRegression(),\n",
    "    'BayesianRidge':  linear_model.BayesianRidge()\n",
    "}\n",
    "for m in lin_models:\n",
    "    lin_models[m].fit(train[feat_cols],train['label']) \n",
    "    print('{0} AUCROC:    {1}'.format(m,sk.metrics.roc_auc_score(\n",
    "                y_true = test['label'] , \n",
    "                y_score = lin_models[m].predict(test[feat_cols]))))"
   ]
  },
  {
   "cell_type": "code",
   "execution_count": 107,
   "metadata": {
    "collapsed": false
   },
   "outputs": [
    {
     "name": "stdout",
     "output_type": "stream",
     "text": [
      "RandomForest AUCROC: 0.47588395215\n",
      "GBM AUCROC: 0.469179496101\n",
      "SVC AUCROC: 0.54859172667\n",
      "LogRegr AUCROC: 0.514344991262\n"
     ]
    }
   ],
   "source": [
    "import sklearn.ensemble\n",
    "#from sklearn import svm\n",
    "clf = {\n",
    "    'SVC': sk.svm.SVC(probability = True),\n",
    "    'LogRegr': sk.linear_model.LogisticRegression(),\n",
    "    'RandomForest': sk.ensemble.RandomForestClassifier(),\n",
    "    'GBM': sk.ensemble.GradientBoostingClassifier()\n",
    "    \n",
    "}\n",
    "for m in clf:\n",
    "    clf[m].fit(train[feat_cols],train['label']) \n",
    "    print('{0} AUCROC: {1}'.format(m,sk.metrics.roc_auc_score(\n",
    "                y_true = test['label'] , \n",
    "                y_score = [e[1] for e in clf[m].predict_proba(test[feat_cols])]\n",
    "    )))"
   ]
  },
  {
   "cell_type": "code",
   "execution_count": 100,
   "metadata": {
    "collapsed": false
   },
   "outputs": [],
   "source": []
  },
  {
   "cell_type": "code",
   "execution_count": null,
   "metadata": {
    "collapsed": false,
    "scrolled": false
   },
   "outputs": [],
   "source": []
  },
  {
   "cell_type": "code",
   "execution_count": null,
   "metadata": {
    "collapsed": true
   },
   "outputs": [],
   "source": []
  }
 ],
 "metadata": {
  "kernelspec": {
   "display_name": "Python 2",
   "language": "python",
   "name": "python2"
  },
  "language_info": {
   "codemirror_mode": {
    "name": "ipython",
    "version": 2
   },
   "file_extension": ".py",
   "mimetype": "text/x-python",
   "name": "python",
   "nbconvert_exporter": "python",
   "pygments_lexer": "ipython2",
   "version": "2.7.10"
  }
 },
 "nbformat": 4,
 "nbformat_minor": 0
}
