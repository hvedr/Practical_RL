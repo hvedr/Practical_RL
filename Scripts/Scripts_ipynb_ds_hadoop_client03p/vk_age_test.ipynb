﻿{
 "cells": [
  {
   "cell_type": "code",
   "execution_count": 51,
   "metadata": {
    "collapsed": true
   },
   "outputs": [],
   "source": [
    "##### Config\n",
    "\n",
    "import datetime\n",
    "import pandas as pd\n",
    "from pyspark import SparkConf, SparkContext, HiveContext\n",
    "import re\n",
    "import numpy as np\n",
    "import pandas as pd\n",
    "import datetime\n",
    "from pyspark.mllib.regression import LabeledPoint\n",
    "from pyspark.mllib.feature import HashingTF\n",
    "from pyspark.mllib.classification import LogisticRegressionWithSGD, NaiveBayes, NaiveBayesModel\n",
    "import scipy.sparse as sps\n",
    "from pyspark.mllib.linalg import Vectors\n",
    "from pyspark.mllib.linalg import SparseVector\n",
    "from pyspark.mllib.evaluation import BinaryClassificationMetrics\n",
    "import hashlib\n",
    "from collections import Counter\n",
    "\n",
    "hive_config_query = '''\n",
    "set hive.vectorized.execution.enabled=true;\n",
    "set hive.vectorized.execution.reduce.enabled = true;\n",
    "set mapreduce.map.memory.mb=4096;\n",
    "set mapreduce.map.child.java.opts=-Xmx4g;\n",
    "set mapreduce.task.io.sort.mb=1024;\n",
    "set mapreduce.reduce.child.java.opts=-Xmx4g;\n",
    "set mapreduce.reduce.memory.mb=7000;\n",
    "set mapreduce.reduce.shuffle.input.buffer.percent=0.5;\n",
    "set mapreduce.input.fileinputformat.split.minsize=536870912;\n",
    "set mapreduce.input.fileinputformat.split.maxsize=1073741824;\n",
    "set hive.optimize.ppd=true;\n",
    "set hive.merge.smallfiles.avgsize=536870912;\n",
    "set hive.merge.mapredfiles=true;\n",
    "set hive.merge.mapfiles=true;\n",
    "set hive.hadoop.supports.splittable.combineinputformat=true;\n",
    "set hive.exec.reducers.bytes.per.reducer=536870912;\n",
    "set hive.exec.parallel=true;\n",
    "set hive.exec.max.created.files=10000000;\n",
    "set hive.exec.compress.output=true;\n",
    "set hive.exec.dynamic.partition.mode=nonstrict;\n",
    "set hive.exec.max.dynamic.partitions=1000000;\n",
    "set hive.exec.max.dynamic.partitions.pernode=100000;\n",
    "set io.seqfile.compression.type=BLOCK;\n",
    "set mapreduce.map.failures.maxpercent=5;\n",
    "'''\n",
    "try:\n",
    "    sc.stop()\n",
    "except NameError:\n",
    "    pass\n",
    "\n",
    "conf = (SparkConf()\n",
    "        .set(\"spark.executor.instances\", 4)\n",
    "        .set(\"spark.driver.maxResultSize\", \"8g\")\n",
    "        .set('spark.driver.memory','8g')\n",
    "        .set(\"spark.executor.memory\", '4g')\n",
    "        .set(\"spark.yarn.executor.memoryOverhead\", 1048)\n",
    "        .set(\"spark.akka.frameSize\", '1024')        \n",
    "       )\n",
    "sc = SparkContext(conf=conf)\n",
    "hc = HiveContext(sc)"
   ]
  },
  {
   "cell_type": "code",
   "execution_count": 3,
   "metadata": {
    "collapsed": true
   },
   "outputs": [],
   "source": [
    "data = hc.sql('select * from user_kposminin.vk_ages_test').toPandas()",
    "insert overwrite
 table prod_stage.uid_contact partition (contact_type_cd = 'PHONE')
select uid
     , contact_str
     , min(load_src) as load_src
     , collect_set(named_struct('event_dttm', event_dttm, 'ip', ip)) as visit_info
     , collect_set(named_struct('kind', source, 'value', uri_str)) as source_info
     , min(ymd) as ymd
  from(select uid
            , event_dttm
            , ip
            , source
            , load_src
            , ymd
            , case source
              when 'avito' then trim(concat('+7', substr(extracted_phone, 2, length(extracted_phone))))
                           else trim(regexp_replace(regexp_replace(extracted_phone, '(\\+7|^8)', '+7'), '(\\s| |\\(|\\(|\\)|\\-|\\)|\\-)', '' ))
       end as contact_str
            , uri_str
         from(select uid
                   , event_dttm
                   , ip
                   , source
                   , ymd
                   , load_src
                   , case source 
                     when 'avito' then get_json_object(uri_str, '$.uri') 
                                  else uri_str
              end as uri_str
                   , case source 
                     when 'avito' then get_json_object(uri_str, '$.phone')
                                  else regexp_extract(uri_str, '(^|\\D)((\\+7|8)(\\s| |\\(|\\(|\\-|\\-)?\\d{3}(\\s| |\\)|\\)|\\-|\\-)?\\d{3}(\\-|\\-|\\s| )?\\d{2}(\\-|\\-|\\s| )?\\d{2})(\\D|\$)', 2)
              end as extracted_phone
                from prod_stage.tmp_uid_contact src
               where src.uri_str like '%vk.com/login%email=%'  
                  or src.uri_str like '%vk.com/restore%email=%'
                  or src.uri_str like '%ok.ru/%errors.password.wrong%email=%'
                  or src.uri_str like '%ok.ru/%anonympasswordrecovery%lgn=%'
                  or src.uri_str like '%drom.ru/myreg.php%sign=%'
                  or src.source = 'avito'
            ) t0 
        where coalesce(trim(extracted_phone), '') != '' 
          and extracted_phone not rlike '\r' 
          and extracted_phone not rlike '\n'
     ) t1
 group
    by uid
     , contact_str
 ;

set io.seqfile.compression.type=BLOCK;
set mapreduce.reduce.memory.mb=6144;
set mapreduce.reduce.shuffle.input.buffer.percent=0.5;
set mapreduce.task.io.sort.mb=1024;
set mapreduce.input.fileinputformat.split.maxsize=1073741824;
set mapreduce.input.fileinputformat.split.minsize=536870912;
set hive.exec.parallel=true;
set hive.exec.compress.output=true;
set hive.exec.reducers.bytes.per.reducer=536870912;
set hive.exec.dynamic.partition.mode=strict;
set hive.optimize.ppd=true;
set hive.hadoop.supports.splittable.combineinputformat=true;
set hive.enforce.bucketing=true;

insert overwrite
 table prod_stage.uid_contact partition (contact_type_cd = 'EMAIL')
select uid
     , trim(contact_str) as contact_str
     , min(load_src) as load_src
     , collect_set(named_struct('event_dttm',event_dttm,'ip',ip)) as visit_info
     , collect_set(named_struct('kind', source, 'value', uri_str)) as source_info
     , min(ymd) as ymd
  from(select uid
            , event_dttm
            , ip
            , source
            , trim(
              case 
              when flag_list['has_mailru_contact']=true 
              then concat( parse_mail[1], '@', parse_mail[0], '.ru')
              else case 
                   when source_link like '%email=%' 
                   then regexp_extract(source_link,'email=([\\w\\d_\\-\\.]+@(mail\\.ru|mail\\.ua|list\\.ru|bk\\.ru|inbox\\.ru|ya\\.ru|yandex\\.ru|gmail\\.com|yahoo\\.com|rambler\\.ru|ukr\\.net|hotmail\\.com|inbox\\.lv|i\\.ua))', 1)
                   else regexp_extract(source_link,'([\\w\\d_\\-\\.]+@(mail\\.ru|mail\\.ua|list\\.ru|bk\\.ru|inbox\\.ru|ya\\.ru|yandex\\.ru|gmail\\.com|yahoo\\.com|rambler\\.ru|ukr\\.net|hotmail\\.com|inbox\\.lv|i\\.ua))', 1)
  end end) as contact_str
            , load_src
            , ymd     
            , uri_str
         from(select uid
                   , source
                   , event_dttm
                   , ip
                   , load_src
                   , regexp_replace(uri_str, '%40', '@') as source_link
                   , split(regexp_replace(parse_url(uri_str, 'PATH'), '^/', ''), '/')as parse_mail
                   , ymd
                   , uri_str
                   , flag_list
                from prod_stage.tmp_uid_contact
               where source in ('url', 'referrer')
                 and(uri_str rlike '%40|@' 
                 and(uri_str rlike 'e\\.mail\\.ru\/login\\?email=|e\\.mail\\.ru/cgi-bin/getattach.*email=|e\\.mail\\.ru/cgi-bin/link.*x-email='
                  or uri_str rlike 'vk\\.com\/login.*email='
                  or uri_str rlike 'ok\\.ru\/.*st\\.cmd=anonymmain.*error=.*st\\.email='
                  or uri_str rlike 'mvideo\\.ru\/.*reff=action_mail_email_a.*cyemail='
                  or uri_str rlike 'avito\\.ru/profile/login.*email|avito\\.ru/restore\\?email|avito\\.ru/registration/removed/'
                  or uri_str rlike 'hh\\.ru/account/login\\?state=mismatch.*login='
                  or uri_str rlike 'hh\\.ru/account/remember_password.*email='
                  or uri_str rlike 'unsubscribe.*email='
                  or uri_str rlike 'utm_medium=email'
                  or uri_str rlike 'm\\.vk\\.com/login\\?role=fast&.*email='
                  or uri_str rlike 'login\\.mediafort\\.ru/invite/done/\\?email='
                ))or flag_list['has_mailru_contact'] = true 
            ) t0 
     ) t
 where coalesce(contact_str, '') != ''
   and length(regexp_extract(coalesce(contact_str, ''), '(.*)@', 1)) <= 31
   and contact_str not rlike '\\.\\.|\\-\\-|__'
 group
    by uid
     , contact_str
     ;

    "
   ]
  },
  {
   "cell_type": "code",
   "execution_count": 11,
   "metadata": {
    "collapsed": true
   },
   "outputs": [],
   "source": [
    "import pandas as pd, sklearn,sklearn.metrics"
   ]
  },
  {
   "cell_type": "code",
   "execution_count": 13,
   "metadata": {
    "collapsed": false
   },
   "outputs": [
    {
     "name": "stdout",
     "output_type": "stream",
     "text": [
      "max_score ROC AUC 0.666748334394\n",
      " ROC PR 0.326963588026\n",
      "avg_score ROC AUC 0.715489590681\n",
      " ROC PR 0.341876015219\n"
     ]
    }
   ],
   "source": [
    "for param in ['max_score', u'avg_score']:\n",
    "    print('{} ROC AUC {}\\n ROC PR {}'.format(\n",
    "        param,\n",
    "        sklearn.metrics.roc_auc_score(data.label,data[param]),\n",
    "        sklearn.metrics.average_precision_score(data.label,data[param])\n",
    "        ))"
   ]
  },
  {
   "cell_type": "code",
   "execution_count": null,
   "metadata": {
    "collapsed": true
   },
   "outputs": [],
   "source": [
    "def cv(clf, X, y, folds = 5, metrics = 'roc_auc,pr_auc'):\n",
    "    '''calc cross-validation metrics for clf classfier on X,y data.\n",
    "       clf must support predict_proba method.\n",
    "       Returns dictionary with metrics values on each fold.\n",
    "    '''\n",
    "    assert X.shape[0] == len(y), 'X and y lengths doesnt match'\n",
    "    idx = range(X.shape[0])\n",
    "    np.random.shuffle(idx)\n",
    "    fold_idx = []\n",
    "    for i in range(folds):\n",
    "        fold_idx.append(idx[i*len(idx)/folds:(i+1)*len(idx)/folds])\n",
    "    res = {k:[] for k in metrics.split(',')}\n",
    "    \n",
    "    for i in range(folds):\n",
    "        train_idx = reduce(lambda x,y: x+y,(fold_idx[:i] + fold_idx[(i+1):]))\n",
    "        valid_idx = fold_idx[i]\n",
    "        \n",
    "        clf.fit(X[train_idx],y[train_idx])\n",
    "        valid_pred = clf.predict_proba(X[valid_idx])[:,1]\n",
    "        \n",
    "        if('roc_auc' in metrics):\n",
    "            res['roc_auc'].append(\n",
    "                sklearn.metrics.roc_auc_score(\n",
    "                  y_true = y[valid_idx],\n",
    "                  y_score = valid_pred\n",
    "                )\n",
    "            )\n",
    "        if('pr_auc' in metrics):\n",
    "            res['pr_auc'].append(\n",
    "                sklearn.metrics.average_precision_score(\n",
    "                  y_true = y[valid_idx],\n",
    "                  y_score = valid_pred\n",
    "                )\n",
    "            )\n",
    "            \n",
    "    return res"
   ]
  },
  {
   "cell_type": "code",
   "execution_count": 14,
   "metadata": {
    "collapsed": false
   },
   "outputs": [
    {
     "data": {
      "text/plain": [
       "Index([u'vk_id', u'label', u'max_score', u'avg_score', u'cnt', u'visit_count',\n",
       "       u'good_url_avg_hour'],\n",
       "      dtype='object')"
      ]
     },
     "execution_count": 14,
     "metadata": {},
     "output_type": "execute_result"
    }
   ],
   "source": [
    "data.columns"
   ]
  },
  {
   "cell_type": "code",
   "execution_count": 23,
   "metadata": {
    "collapsed": false,
    "scrolled": true
   },
   "outputs": [
    {
     "name": "stdout",
     "output_type": "stream",
     "text": [
      "[LightGBM] [Info] Finished loading parameters\n",
      "[LightGBM] [Info] Finished loading data in 7.689605 seconds\n",
      "[LightGBM] [Info] Number of postive: 512264, number of negative: 2426654\n",
      "[LightGBM] [Info] Number of data: 2938918, number of features: 5\n",
      "[LightGBM] [Info] Finished initializing training\n",
      "[LightGBM] [Info] Started training...\n",
      "[LightGBM] [Info] Iteration:1, valid_1 auc : 0.728016\n",
      "[LightGBM] [Info] 0.617889 seconds elapsed, finished iteration 1\n",
      "[LightGBM] [Info] Iteration:2, valid_1 auc : 0.731361\n",
      "[LightGBM] [Info] 1.330222 seconds elapsed, finished iteration 2\n",
      "[LightGBM] [Info] Iteration:3, valid_1 auc : 0.732613\n",
      "[LightGBM] [Info] 2.049718 seconds elapsed, finished iteration 3\n",
      "[LightGBM] [Info] Iteration:4, valid_1 auc : 0.733873\n",
      "[LightGBM] [Info] 2.674664 seconds elapsed, finished iteration 4\n",
      "[LightGBM] [Info] Iteration:5, valid_1 auc : 0.734665\n",
      "[LightGBM] [Info] 3.339696 seconds elapsed, finished iteration 5\n",
      "[LightGBM] [Info] Iteration:6, valid_1 auc : 0.734877\n",
      "[LightGBM] [Info] 3.987106 seconds elapsed, finished iteration 6\n",
      "[LightGBM] [Info] Iteration:7, valid_1 auc : 0.735747\n",
      "[LightGBM] [Info] 4.737807 seconds elapsed, finished iteration 7\n",
      "[LightGBM] [Info] Iteration:8, valid_1 auc : 0.735976\n",
      "[LightGBM] [Info] 5.409396 seconds elapsed, finished iteration 8\n",
      "[LightGBM] [Info] Iteration:9, valid_1 auc : 0.736488\n",
      "[LightGBM] [Info] 6.099051 seconds elapsed, finished iteration 9\n",
      "[LightGBM] [Info] Iteration:10, valid_1 auc : 0.736887\n",
      "[LightGBM] [Info] 6.938816 seconds elapsed, finished iteration 10\n",
      "[LightGBM] [Info] Iteration:11, valid_1 auc : 0.737268\n",
      "[LightGBM] [Info] 7.695414 seconds elapsed, finished iteration 11\n",
      "[LightGBM] [Info] Iteration:12, valid_1 auc : 0.737562\n",
      "[LightGBM] [Info] 8.408374 seconds elapsed, finished iteration 12\n",
      "[LightGBM] [Info] Iteration:13, valid_1 auc : 0.737885\n",
      "[LightGBM] [Info] 9.107204 seconds elapsed, finished iteration 13\n",
      "[LightGBM] [Info] Iteration:14, valid_1 auc : 0.738178\n",
      "[LightGBM] [Info] 9.818199 seconds elapsed, finished iteration 14\n",
      "[LightGBM] [Info] Iteration:15, valid_1 auc : 0.738419\n",
      "[LightGBM] [Info] 10.521704 seconds elapsed, finished iteration 15\n",
      "[LightGBM] [Info] Iteration:16, valid_1 auc : 0.738660\n",
      "[LightGBM] [Info] 11.232013 seconds elapsed, finished iteration 16\n",
      "[LightGBM] [Info] Iteration:17, valid_1 auc : 0.738880\n",
      "[LightGBM] [Info] 11.935701 seconds elapsed, finished iteration 17\n",
      "[LightGBM] [Info] Iteration:18, valid_1 auc : 0.739088\n",
      "[LightGBM] [Info] 12.617276 seconds elapsed, finished iteration 18\n",
      "[LightGBM] [Info] Iteration:19, valid_1 auc : 0.739241\n",
      "[LightGBM] [Info] 13.347810 seconds elapsed, finished iteration 19\n",
      "[LightGBM] [Info] Iteration:20, valid_1 auc : 0.739435\n",
      "[LightGBM] [Info] 14.163580 seconds elapsed, finished iteration 20\n",
      "[LightGBM] [Info] Iteration:21, valid_1 auc : 0.739627\n",
      "[LightGBM] [Info] 14.950717 seconds elapsed, finished iteration 21\n",
      "[LightGBM] [Info] Iteration:22, valid_1 auc : 0.739756\n",
      "[LightGBM] [Info] 15.733762 seconds elapsed, finished iteration 22\n",
      "[LightGBM] [Info] Iteration:23, valid_1 auc : 0.739941\n",
      "[LightGBM] [Info] 16.432212 seconds elapsed, finished iteration 23\n",
      "[LightGBM] [Info] Iteration:24, valid_1 auc : 0.740097\n",
      "[LightGBM] [Info] 17.152337 seconds elapsed, finished iteration 24\n",
      "[LightGBM] [Info] Iteration:25, valid_1 auc : 0.740198\n",
      "[LightGBM] [Info] 17.869622 seconds elapsed, finished iteration 25\n",
      "[LightGBM] [Info] Iteration:26, valid_1 auc : 0.740271\n",
      "[LightGBM] [Info] 18.569388 seconds elapsed, finished iteration 26\n",
      "[LightGBM] [Info] Iteration:27, valid_1 auc : 0.740350\n",
      "[LightGBM] [Info] 19.260729 seconds elapsed, finished iteration 27\n",
      "[LightGBM] [Info] Iteration:28, valid_1 auc : 0.740447\n",
      "[LightGBM] [Info] 19.994302 seconds elapsed, finished iteration 28\n",
      "[LightGBM] [Info] Iteration:29, valid_1 auc : 0.740573\n",
      "[LightGBM] [Info] 20.733410 seconds elapsed, finished iteration 29\n",
      "[LightGBM] [Info] Iteration:30, valid_1 auc : 0.740623\n",
      "[LightGBM] [Info] 21.409753 seconds elapsed, finished iteration 30\n",
      "[LightGBM] [Info] Iteration:31, valid_1 auc : 0.740741\n",
      "[LightGBM] [Info] 22.503136 seconds elapsed, finished iteration 31\n",
      "[LightGBM] [Info] Iteration:32, valid_1 auc : 0.740907\n",
      "[LightGBM] [Info] 23.221767 seconds elapsed, finished iteration 32\n",
      "[LightGBM] [Info] Iteration:33, valid_1 auc : 0.740936\n",
      "[LightGBM] [Info] 23.866335 seconds elapsed, finished iteration 33\n",
      "[LightGBM] [Info] Iteration:34, valid_1 auc : 0.741021\n",
      "[LightGBM] [Info] 24.560486 seconds elapsed, finished iteration 34\n",
      "[LightGBM] [Info] Iteration:35, valid_1 auc : 0.741064\n",
      "[LightGBM] [Info] 25.193720 seconds elapsed, finished iteration 35\n",
      "[LightGBM] [Info] Iteration:36, valid_1 auc : 0.741120\n",
      "[LightGBM] [Info] 25.868843 seconds elapsed, finished iteration 36\n",
      "[LightGBM] [Info] Iteration:37, valid_1 auc : 0.741232\n",
      "[LightGBM] [Info] 26.694212 seconds elapsed, finished iteration 37\n",
      "[LightGBM] [Info] Iteration:38, valid_1 auc : 0.741269\n",
      "[LightGBM] [Info] 27.330725 seconds elapsed, finished iteration 38\n",
      "[LightGBM] [Info] Iteration:39, valid_1 auc : 0.741290\n",
      "[LightGBM] [Info] 28.106895 seconds elapsed, finished iteration 39\n",
      "[LightGBM] [Info] Iteration:40, valid_1 auc : 0.741349\n",
      "[LightGBM] [Info] 28.813184 seconds elapsed, finished iteration 40\n",
      "[LightGBM] [Info] Iteration:41, valid_1 auc : 0.741394\n",
      "[LightGBM] [Info] 29.600499 seconds elapsed, finished iteration 41\n",
      "[LightGBM] [Info] Iteration:42, valid_1 auc : 0.741437\n",
      "[LightGBM] [Info] 30.218705 seconds elapsed, finished iteration 42\n",
      "[LightGBM] [Info] Iteration:43, valid_1 auc : 0.741448\n",
      "[LightGBM] [Info] 30.855807 seconds elapsed, finished iteration 43\n",
      "[LightGBM] [Info] Iteration:44, valid_1 auc : 0.741503\n",
      "[LightGBM] [Info] 31.467655 seconds elapsed, finished iteration 44\n",
      "[LightGBM] [Info] Iteration:45, valid_1 auc : 0.741520\n",
      "[LightGBM] [Info] 32.095444 seconds elapsed, finished iteration 45\n",
      "[LightGBM] [Info] Iteration:46, valid_1 auc : 0.741523\n",
      "[LightGBM] [Info] 32.681761 seconds elapsed, finished iteration 46\n",
      "[LightGBM] [Info] Iteration:47, valid_1 auc : 0.741529\n",
      "[LightGBM] [Info] 33.241026 seconds elapsed, finished iteration 47\n",
      "[LightGBM] [Info] Iteration:48, valid_1 auc : 0.741538\n",
      "[LightGBM] [Info] 33.783941 seconds elapsed, finished iteration 48\n",
      "[LightGBM] [Info] Iteration:49, valid_1 auc : 0.741544\n",
      "[LightGBM] [Info] 34.439157 seconds elapsed, finished iteration 49\n",
      "[LightGBM] [Info] Iteration:50, valid_1 auc : 0.741557\n",
      "[LightGBM] [Info] 35.007669 seconds elapsed, finished iteration 50\n",
      "[LightGBM] [Info] Iteration:51, valid_1 auc : 0.741601\n",
      "[LightGBM] [Info] 35.692012 seconds elapsed, finished iteration 51\n",
      "[LightGBM] [Info] Iteration:52, valid_1 auc : 0.741626\n",
      "[LightGBM] [Info] 36.440252 seconds elapsed, finished iteration 52\n",
      "[LightGBM] [Info] Iteration:53, valid_1 auc : 0.741630\n",
      "[LightGBM] [Info] 37.150801 seconds elapsed, finished iteration 53\n",
      "[LightGBM] [Info] Iteration:54, valid_1 auc : 0.741648\n",
      "[LightGBM] [Info] 37.825022 seconds elapsed, finished iteration 54\n",
      "[LightGBM] [Info] Iteration:55, valid_1 auc : 0.741664\n",
      "[LightGBM] [Info] 38.522052 seconds elapsed, finished iteration 55\n",
      "[LightGBM] [Info] Iteration:56, valid_1 auc : 0.741672\n",
      "[LightGBM] [Info] 39.081517 seconds elapsed, finished iteration 56\n",
      "[LightGBM] [Info] Iteration:57, valid_1 auc : 0.741679\n",
      "[LightGBM] [Info] 39.651549 seconds elapsed, finished iteration 57\n",
      "[LightGBM] [Info] Iteration:58, valid_1 auc : 0.741711\n",
      "[LightGBM] [Info] 40.242563 seconds elapsed, finished iteration 58\n",
      "[LightGBM] [Info] Iteration:59, valid_1 auc : 0.741716\n",
      "[LightGBM] [Info] 40.867536 seconds elapsed, finished iteration 59\n",
      "[LightGBM] [Info] Iteration:60, valid_1 auc : 0.741726\n",
      "[LightGBM] [Info] 41.483962 seconds elapsed, finished iteration 60\n",
      "[LightGBM] [Info] Iteration:61, valid_1 auc : 0.741790\n",
      "[LightGBM] [Info] 42.254013 seconds elapsed, finished iteration 61\n",
      "[LightGBM] [Info] Iteration:62, valid_1 auc : 0.741796\n",
      "[LightGBM] [Info] 42.819226 seconds elapsed, finished iteration 62\n",
      "[LightGBM] [Info] Iteration:63, valid_1 auc : 0.741809\n",
      "[LightGBM] [Info] 43.430757 seconds elapsed, finished iteration 63\n",
      "[LightGBM] [Info] Iteration:64, valid_1 auc : 0.741820\n",
      "[LightGBM] [Info] 44.020027 seconds elapsed, finished iteration 64\n",
      "[LightGBM] [Info] Iteration:65, valid_1 auc : 0.741872\n",
      "[LightGBM] [Info] 44.705385 seconds elapsed, finished iteration 65\n",
      "[LightGBM] [Info] Iteration:66, valid_1 auc : 0.741886\n",
      "[LightGBM] [Info] 45.355307 seconds elapsed, finished iteration 66\n",
      "[LightGBM] [Info] Iteration:67, valid_1 auc : 0.741889\n",
      "[LightGBM] [Info] 45.949261 seconds elapsed, finished iteration 67\n",
      "[LightGBM] [Info] Iteration:68, valid_1 auc : 0.741920\n",
      "[LightGBM] [Info] 46.597902 seconds elapsed, finished iteration 68\n",
      "[LightGBM] [Info] Iteration:69, valid_1 auc : 0.741947\n",
      "[LightGBM] [Info] 47.506488 seconds elapsed, finished iteration 69\n",
      "[LightGBM] [Info] Iteration:70, valid_1 auc : 0.741990\n",
      "[LightGBM] [Info] 48.241270 seconds elapsed, finished iteration 70\n",
      "[LightGBM] [Info] Iteration:71, valid_1 auc : 0.741996\n",
      "[LightGBM] [Info] 48.897927 seconds elapsed, finished iteration 71\n",
      "[LightGBM] [Info] Iteration:72, valid_1 auc : 0.742039\n",
      "[LightGBM] [Info] 49.540228 seconds elapsed, finished iteration 72\n",
      "[LightGBM] [Info] Iteration:73, valid_1 auc : 0.742048\n",
      "[LightGBM] [Info] 50.212731 seconds elapsed, finished iteration 73\n",
      "[LightGBM] [Info] Iteration:74, valid_1 auc : 0.742067\n",
      "[LightGBM] [Info] 50.902141 seconds elapsed, finished iteration 74\n",
      "[LightGBM] [Info] Iteration:75, valid_1 auc : 0.742068\n",
      "[LightGBM] [Info] 51.460711 seconds elapsed, finished iteration 75\n",
      "[LightGBM] [Info] Iteration:76, valid_1 auc : 0.742082\n",
      "[LightGBM] [Info] 52.104890 seconds elapsed, finished iteration 76\n",
      "[LightGBM] [Info] Iteration:77, valid_1 auc : 0.742100\n",
      "[LightGBM] [Info] 52.784176 seconds elapsed, finished iteration 77\n",
      "[LightGBM] [Info] Iteration:78, valid_1 auc : 0.742115\n",
      "[LightGBM] [Info] 53.349602 seconds elapsed, finished iteration 78\n",
      "[LightGBM] [Info] Iteration:79, valid_1 auc : 0.742117\n",
      "[LightGBM] [Info] 53.901606 seconds elapsed, finished iteration 79\n",
      "[LightGBM] [Info] Iteration:80, valid_1 auc : 0.742129\n",
      "[LightGBM] [Info] 54.536889 seconds elapsed, finished iteration 80\n",
      "[LightGBM] [Info] Iteration:81, valid_1 auc : 0.742138\n",
      "[LightGBM] [Info] 55.223804 seconds elapsed, finished iteration 81\n",
      "[LightGBM] [Info] Iteration:82, valid_1 auc : 0.742168\n",
      "[LightGBM] [Info] 55.898546 seconds elapsed, finished iteration 82\n",
      "[LightGBM] [Info] Iteration:83, valid_1 auc : 0.742197\n",
      "[LightGBM] [Info] 56.535851 seconds elapsed, finished iteration 83\n",
      "[LightGBM] [Info] Iteration:84, valid_1 auc : 0.742207\n",
      "[LightGBM] [Info] 57.134304 seconds elapsed, finished iteration 84\n",
      "[LightGBM] [Info] Iteration:85, valid_1 auc : 0.742210\n",
      "[LightGBM] [Info] 57.698431 seconds elapsed, finished iteration 85\n",
      "[LightGBM] [Info] Iteration:86, valid_1 auc : 0.742211\n",
      "[LightGBM] [Info] 58.274445 seconds elapsed, finished iteration 86\n",
      "[LightGBM] [Info] Iteration:87, valid_1 auc : 0.742226\n",
      "[LightGBM] [Info] 58.908490 seconds elapsed, finished iteration 87\n",
      "[LightGBM] [Info] Iteration:88, valid_1 auc : 0.742235\n",
      "[LightGBM] [Info] 59.508275 seconds elapsed, finished iteration 88\n",
      "[LightGBM] [Info] Iteration:89, valid_1 auc : 0.742235\n",
      "[LightGBM] [Info] 60.076848 seconds elapsed, finished iteration 89\n",
      "[LightGBM] [Info] Iteration:90, valid_1 auc : 0.742244\n",
      "[LightGBM] [Info] 60.674731 seconds elapsed, finished iteration 90\n",
      "[LightGBM] [Info] Iteration:91, valid_1 auc : 0.742247\n",
      "[LightGBM] [Info] 61.314792 seconds elapsed, finished iteration 91\n",
      "[LightGBM] [Info] Iteration:92, valid_1 auc : 0.742248\n",
      "[LightGBM] [Info] 61.914348 seconds elapsed, finished iteration 92\n",
      "[LightGBM] [Info] Iteration:93, valid_1 auc : 0.742260\n",
      "[LightGBM] [Info] 62.524350 seconds elapsed, finished iteration 93\n",
      "[LightGBM] [Info] Iteration:94, valid_1 auc : 0.742267\n",
      "[LightGBM] [Info] 63.203404 seconds elapsed, finished iteration 94\n",
      "[LightGBM] [Info] Iteration:95, valid_1 auc : 0.742275\n",
      "[LightGBM] [Info] 63.823507 seconds elapsed, finished iteration 95\n",
      "[LightGBM] [Info] Iteration:96, valid_1 auc : 0.742276\n",
      "[LightGBM] [Info] 64.397046 seconds elapsed, finished iteration 96\n",
      "[LightGBM] [Info] Iteration:97, valid_1 auc : 0.742277\n",
      "[LightGBM] [Info] 64.945547 seconds elapsed, finished iteration 97\n",
      "[LightGBM] [Info] Iteration:98, valid_1 auc : 0.742277\n",
      "[LightGBM] [Info] 65.541295 seconds elapsed, finished iteration 98\n",
      "[LightGBM] [Info] Iteration:99, valid_1 auc : 0.742286\n",
      "[LightGBM] [Info] 66.186598 seconds elapsed, finished iteration 99\n",
      "[LightGBM] [Info] Iteration:100, valid_1 auc : 0.742286\n",
      "[LightGBM] [Info] 66.754166 seconds elapsed, finished iteration 100\n",
      "[LightGBM] [Info] Iteration:101, valid_1 auc : 0.742294\n",
      "[LightGBM] [Info] 67.535502 seconds elapsed, finished iteration 101\n",
      "[LightGBM] [Info] Iteration:102, valid_1 auc : 0.742297\n",
      "[LightGBM] [Info] 68.111673 seconds elapsed, finished iteration 102\n",
      "[LightGBM] [Info] Iteration:103, valid_1 auc : 0.742314\n",
      "[LightGBM] [Info] 68.701425 seconds elapsed, finished iteration 103\n",
      "[LightGBM] [Info] Iteration:104, valid_1 auc : 0.742326\n",
      "[LightGBM] [Info] 69.349390 seconds elapsed, finished iteration 104\n",
      "[LightGBM] [Info] Iteration:105, valid_1 auc : 0.742328\n",
      "[LightGBM] [Info] 69.927220 seconds elapsed, finished iteration 105\n",
      "[LightGBM] [Info] Iteration:106, valid_1 auc : 0.742345\n",
      "[LightGBM] [Info] 70.556265 seconds elapsed, finished iteration 106\n",
      "[LightGBM] [Info] Iteration:107, valid_1 auc : 0.742356\n",
      "[LightGBM] [Info] 71.281610 seconds elapsed, finished iteration 107\n",
      "[LightGBM] [Info] Iteration:108, valid_1 auc : 0.742367\n",
      "[LightGBM] [Info] 71.947585 seconds elapsed, finished iteration 108\n",
      "[LightGBM] [Info] Iteration:109, valid_1 auc : 0.742391\n",
      "[LightGBM] [Info] 72.592381 seconds elapsed, finished iteration 109\n",
      "[LightGBM] [Info] Iteration:110, valid_1 auc : 0.742409\n",
      "[LightGBM] [Info] 73.187740 seconds elapsed, finished iteration 110\n",
      "[LightGBM] [Info] Iteration:111, valid_1 auc : 0.742418\n",
      "[LightGBM] [Info] 73.850562 seconds elapsed, finished iteration 111\n",
      "[LightGBM] [Info] Iteration:112, valid_1 auc : 0.742429\n",
      "[LightGBM] [Info] 74.453963 seconds elapsed, finished iteration 112\n",
      "[LightGBM] [Info] Iteration:113, valid_1 auc : 0.742429\n",
      "[LightGBM] [Info] 75.069481 seconds elapsed, finished iteration 113\n",
      "[LightGBM] [Info] Iteration:114, valid_1 auc : 0.742430\n",
      "[LightGBM] [Info] 75.623865 seconds elapsed, finished iteration 114\n",
      "[LightGBM] [Info] Iteration:115, valid_1 auc : 0.742433\n",
      "[LightGBM] [Info] 76.208158 seconds elapsed, finished iteration 115\n",
      "[LightGBM] [Info] Iteration:116, valid_1 auc : 0.742456\n",
      "[LightGBM] [Info] 76.807543 seconds elapsed, finished iteration 116\n",
      "[LightGBM] [Info] Iteration:117, valid_1 auc : 0.742461\n",
      "[LightGBM] [Info] 77.366700 seconds elapsed, finished iteration 117\n",
      "[LightGBM] [Info] Iteration:118, valid_1 auc : 0.742463\n",
      "[LightGBM] [Info] 77.932994 seconds elapsed, finished iteration 118\n",
      "[LightGBM] [Info] Iteration:119, valid_1 auc : 0.742468\n",
      "[LightGBM] [Info] 78.513093 seconds elapsed, finished iteration 119\n",
      "[LightGBM] [Info] Iteration:120, valid_1 auc : 0.742487\n",
      "[LightGBM] [Info] 79.181323 seconds elapsed, finished iteration 120\n",
      "[LightGBM] [Info] Iteration:121, valid_1 auc : 0.742486\n",
      "[LightGBM] [Info] 79.876317 seconds elapsed, finished iteration 121\n",
      "[LightGBM] [Info] Iteration:122, valid_1 auc : 0.742498\n",
      "[LightGBM] [Info] 80.496965 seconds elapsed, finished iteration 122\n",
      "[LightGBM] [Info] Iteration:123, valid_1 auc : 0.742498\n",
      "[LightGBM] [Info] 81.053828 seconds elapsed, finished iteration 123\n",
      "[LightGBM] [Info] Iteration:124, valid_1 auc : 0.742497\n",
      "[LightGBM] [Info] 81.645066 seconds elapsed, finished iteration 124\n",
      "[LightGBM] [Info] Iteration:125, valid_1 auc : 0.742500\n",
      "[LightGBM] [Info] 82.302446 seconds elapsed, finished iteration 125\n",
      "[LightGBM] [Info] Iteration:126, valid_1 auc : 0.742503\n",
      "[LightGBM] [Info] 82.874549 seconds elapsed, finished iteration 126\n",
      "[LightGBM] [Info] Iteration:127, valid_1 auc : 0.742517\n",
      "[LightGBM] [Info] 83.497478 seconds elapsed, finished iteration 127\n",
      "[LightGBM] [Info] Iteration:128, valid_1 auc : 0.742516\n",
      "[LightGBM] [Info] 84.038005 seconds elapsed, finished iteration 128\n",
      "[LightGBM] [Info] Iteration:129, valid_1 auc : 0.742522\n",
      "[LightGBM] [Info] 84.611808 seconds elapsed, finished iteration 129\n",
      "[LightGBM] [Info] Iteration:130, valid_1 auc : 0.742522\n",
      "[LightGBM] [Info] 85.186458 seconds elapsed, finished iteration 130\n",
      "[LightGBM] [Info] Iteration:131, valid_1 auc : 0.742526\n",
      "[LightGBM] [Info] 85.878728 seconds elapsed, finished iteration 131\n",
      "[LightGBM] [Info] Iteration:132, valid_1 auc : 0.742536\n",
      "[LightGBM] [Info] 86.496031 seconds elapsed, finished iteration 132\n",
      "[LightGBM] [Info] Iteration:133, valid_1 auc : 0.742542\n",
      "[LightGBM] [Info] 87.061801 seconds elapsed, finished iteration 133\n",
      "[LightGBM] [Info] Iteration:134, valid_1 auc : 0.742554\n",
      "[LightGBM] [Info] 87.760981 seconds elapsed, finished iteration 134\n",
      "[LightGBM] [Info] Iteration:135, valid_1 auc : 0.742554\n",
      "[LightGBM] [Info] 88.370580 seconds elapsed, finished iteration 135\n",
      "[LightGBM] [Info] Iteration:136, valid_1 auc : 0.742556\n",
      "[LightGBM] [Info] 88.938366 seconds elapsed, finished iteration 136\n",
      "[LightGBM] [Info] Iteration:137, valid_1 auc : 0.742567\n",
      "[LightGBM] [Info] 89.575345 seconds elapsed, finished iteration 137\n",
      "[LightGBM] [Info] Iteration:138, valid_1 auc : 0.742566\n",
      "[LightGBM] [Info] 90.149466 seconds elapsed, finished iteration 138\n",
      "[LightGBM] [Info] Iteration:139, valid_1 auc : 0.742569\n",
      "[LightGBM] [Info] 90.723929 seconds elapsed, finished iteration 139\n",
      "[LightGBM] [Info] Iteration:140, valid_1 auc : 0.742573\n",
      "[LightGBM] [Info] 91.308900 seconds elapsed, finished iteration 140\n",
      "[LightGBM] [Info] Iteration:141, valid_1 auc : 0.742604\n",
      "[LightGBM] [Info] 92.056985 seconds elapsed, finished iteration 141\n",
      "[LightGBM] [Info] Iteration:142, valid_1 auc : 0.742625\n",
      "[LightGBM] [Info] 92.783290 seconds elapsed, finished iteration 142\n",
      "[LightGBM] [Info] Iteration:143, valid_1 auc : 0.742632\n",
      "[LightGBM] [Info] 93.581739 seconds elapsed, finished iteration 143\n",
      "[LightGBM] [Info] Iteration:144, valid_1 auc : 0.742651\n",
      "[LightGBM] [Info] 94.276044 seconds elapsed, finished iteration 144\n",
      "[LightGBM] [Info] Iteration:145, valid_1 auc : 0.742657\n",
      "[LightGBM] [Info] 94.902002 seconds elapsed, finished iteration 145\n",
      "[LightGBM] [Info] Iteration:146, valid_1 auc : 0.742668\n",
      "[LightGBM] [Info] 95.681751 seconds elapsed, finished iteration 146\n",
      "[LightGBM] [Info] Iteration:147, valid_1 auc : 0.742673\n",
      "[LightGBM] [Info] 96.590972 seconds elapsed, finished iteration 147\n",
      "[LightGBM] [Info] Iteration:148, valid_1 auc : 0.742692\n",
      "[LightGBM] [Info] 97.468643 seconds elapsed, finished iteration 148\n",
      "[LightGBM] [Info] Iteration:149, valid_1 auc : 0.742690\n",
      "[LightGBM] [Info] 98.263814 seconds elapsed, finished iteration 149\n",
      "[LightGBM] [Info] Iteration:150, valid_1 auc : 0.742697\n",
      "[LightGBM] [Info] 99.118916 seconds elapsed, finished iteration 150\n",
      "[LightGBM] [Info] Iteration:151, valid_1 auc : 0.742697\n",
      "[LightGBM] [Info] 100.192461 seconds elapsed, finished iteration 151\n",
      "[LightGBM] [Info] Iteration:152, valid_1 auc : 0.742704\n",
      "[LightGBM] [Info] 101.233001 seconds elapsed, finished iteration 152\n",
      "[LightGBM] [Info] Iteration:153, valid_1 auc : 0.742723\n",
      "[LightGBM] [Info] 102.005169 seconds elapsed, finished iteration 153\n",
      "[LightGBM] [Info] Iteration:154, valid_1 auc : 0.742752\n",
      "[LightGBM] [Info] 102.687758 seconds elapsed, finished iteration 154\n",
      "[LightGBM] [Info] Iteration:155, valid_1 auc : 0.742758\n",
      "[LightGBM] [Info] 103.349062 seconds elapsed, finished iteration 155\n",
      "[LightGBM] [Info] Iteration:156, valid_1 auc : 0.742756\n",
      "[LightGBM] [Info] 103.955526 seconds elapsed, finished iteration 156\n",
      "[LightGBM] [Info] Iteration:157, valid_1 auc : 0.742756\n",
      "[LightGBM] [Info] 104.520944 seconds elapsed, finished iteration 157\n",
      "[LightGBM] [Info] Iteration:158, valid_1 auc : 0.742757\n",
      "[LightGBM] [Info] 105.169900 seconds elapsed, finished iteration 158\n",
      "[LightGBM] [Info] Iteration:159, valid_1 auc : 0.742758\n",
      "[LightGBM] [Info] 105.740524 seconds elapsed, finished iteration 159\n",
      "[LightGBM] [Info] Iteration:160, valid_1 auc : 0.742762\n",
      "[LightGBM] [Info] 106.352692 seconds elapsed, finished iteration 160\n",
      "[LightGBM] [Info] Iteration:161, valid_1 auc : 0.742768\n",
      "[LightGBM] [Info] 107.086747 seconds elapsed, finished iteration 161\n",
      "[LightGBM] [Info] Iteration:162, valid_1 auc : 0.742780\n",
      "[LightGBM] [Info] 107.722278 seconds elapsed, finished iteration 162\n",
      "[LightGBM] [Info] Iteration:163, valid_1 auc : 0.742779\n",
      "[LightGBM] [Info] 108.334572 seconds elapsed, finished iteration 163\n",
      "[LightGBM] [Info] Iteration:164, valid_1 auc : 0.742791\n",
      "[LightGBM] [Info] 108.957225 seconds elapsed, finished iteration 164\n",
      "[LightGBM] [Info] Iteration:165, valid_1 auc : 0.742814\n",
      "[LightGBM] [Info] 109.601408 seconds elapsed, finished iteration 165\n",
      "[LightGBM] [Info] Iteration:166, valid_1 auc : 0.742814\n",
      "[LightGBM] [Info] 110.173801 seconds elapsed, finished iteration 166\n",
      "[LightGBM] [Info] Iteration:167, valid_1 auc : 0.742818\n",
      "[LightGBM] [Info] 110.737081 seconds elapsed, finished iteration 167\n",
      "[LightGBM] [Info] Iteration:168, valid_1 auc : 0.742818\n",
      "[LightGBM] [Info] 111.329525 seconds elapsed, finished iteration 168\n",
      "[LightGBM] [Info] Iteration:169, valid_1 auc : 0.742826\n",
      "[LightGBM] [Info] 111.947444 seconds elapsed, finished iteration 169\n",
      "[LightGBM] [Info] Iteration:170, valid_1 auc : 0.742835\n",
      "[LightGBM] [Info] 112.567278 seconds elapsed, finished iteration 170\n",
      "[LightGBM] [Info] Iteration:171, valid_1 auc : 0.742835\n",
      "[LightGBM] [Info] 113.209754 seconds elapsed, finished iteration 171\n",
      "[LightGBM] [Info] Iteration:172, valid_1 auc : 0.742838\n",
      "[LightGBM] [Info] 113.802204 seconds elapsed, finished iteration 172\n",
      "[LightGBM] [Info] Iteration:173, valid_1 auc : 0.742840\n",
      "[LightGBM] [Info] 114.552651 seconds elapsed, finished iteration 173\n",
      "[LightGBM] [Info] Iteration:174, valid_1 auc : 0.742847\n",
      "[LightGBM] [Info] 115.314083 seconds elapsed, finished iteration 174\n",
      "[LightGBM] [Info] Iteration:175, valid_1 auc : 0.742849\n",
      "[LightGBM] [Info] 116.006476 seconds elapsed, finished iteration 175\n",
      "[LightGBM] [Info] Iteration:176, valid_1 auc : 0.742852\n",
      "[LightGBM] [Info] 116.835080 seconds elapsed, finished iteration 176\n",
      "[LightGBM] [Info] Iteration:177, valid_1 auc : 0.742852\n",
      "[LightGBM] [Info] 117.395735 seconds elapsed, finished iteration 177\n",
      "[LightGBM] [Info] Iteration:178, valid_1 auc : 0.742852\n",
      "[LightGBM] [Info] 118.042861 seconds elapsed, finished iteration 178\n",
      "[LightGBM] [Info] Iteration:179, valid_1 auc : 0.742858\n",
      "[LightGBM] [Info] 118.745244 seconds elapsed, finished iteration 179\n",
      "[LightGBM] [Info] Iteration:180, valid_1 auc : 0.742859\n",
      "[LightGBM] [Info] 119.351417 seconds elapsed, finished iteration 180\n",
      "[LightGBM] [Info] Iteration:181, valid_1 auc : 0.742863\n",
      "[LightGBM] [Info] 120.142241 seconds elapsed, finished iteration 181\n",
      "[LightGBM] [Info] Iteration:182, valid_1 auc : 0.742863\n",
      "[LightGBM] [Info] 120.868188 seconds elapsed, finished iteration 182\n",
      "[LightGBM] [Info] Iteration:183, valid_1 auc : 0.742870\n",
      "[LightGBM] [Info] 121.670330 seconds elapsed, finished iteration 183\n",
      "[LightGBM] [Info] Iteration:184, valid_1 auc : 0.742873\n",
      "[LightGBM] [Info] 122.327181 seconds elapsed, finished iteration 184\n",
      "[LightGBM] [Info] Iteration:185, valid_1 auc : 0.742869\n",
      "[LightGBM] [Info] 123.231493 seconds elapsed, finished iteration 185\n",
      "[LightGBM] [Info] Iteration:186, valid_1 auc : 0.742873\n",
      "[LightGBM] [Info] 123.873964 seconds elapsed, finished iteration 186\n",
      "[LightGBM] [Info] Iteration:187, valid_1 auc : 0.742873\n",
      "[LightGBM] [Info] 124.603703 seconds elapsed, finished iteration 187\n",
      "[LightGBM] [Info] Iteration:188, valid_1 auc : 0.742871\n",
      "[LightGBM] [Info] 125.292422 seconds elapsed, finished iteration 188\n",
      "[LightGBM] [Info] Iteration:189, valid_1 auc : 0.742873\n",
      "[LightGBM] [Info] 125.936582 seconds elapsed, finished iteration 189\n",
      "[LightGBM] [Info] Iteration:190, valid_1 auc : 0.742884\n",
      "[LightGBM] [Info] 126.776020 seconds elapsed, finished iteration 190\n",
      "[LightGBM] [Info] Iteration:191, valid_1 auc : 0.742884\n",
      "[LightGBM] [Info] 127.711822 seconds elapsed, finished iteration 191\n",
      "[LightGBM] [Info] Iteration:192, valid_1 auc : 0.742885\n",
      "[LightGBM] [Info] 128.363542 seconds elapsed, finished iteration 192\n",
      "[LightGBM] [Info] Iteration:193, valid_1 auc : 0.742891\n",
      "[LightGBM] [Info] 128.933710 seconds elapsed, finished iteration 193\n",
      "[LightGBM] [Info] Iteration:194, valid_1 auc : 0.742885\n",
      "[LightGBM] [Info] 129.573783 seconds elapsed, finished iteration 194\n",
      "[LightGBM] [Info] Iteration:195, valid_1 auc : 0.742887\n",
      "[LightGBM] [Info] 130.159366 seconds elapsed, finished iteration 195\n",
      "[LightGBM] [Info] Iteration:196, valid_1 auc : 0.742887\n",
      "[LightGBM] [Info] 130.760018 seconds elapsed, finished iteration 196\n",
      "[LightGBM] [Info] Iteration:197, valid_1 auc : 0.742888\n",
      "[LightGBM] [Info] 131.388490 seconds elapsed, finished iteration 197\n",
      "[LightGBM] [Info] Iteration:198, valid_1 auc : 0.742894\n",
      "[LightGBM] [Info] 132.007730 seconds elapsed, finished iteration 198\n",
      "[LightGBM] [Info] Iteration:199, valid_1 auc : 0.742893\n",
      "[LightGBM] [Info] 132.678025 seconds elapsed, finished iteration 199\n",
      "[LightGBM] [Info] Iteration:200, valid_1 auc : 0.742894\n",
      "[LightGBM] [Info] 133.302564 seconds elapsed, finished iteration 200\n",
      "[LightGBM] [Info] Iteration:201, valid_1 auc : 0.742896\n",
      "[LightGBM] [Info] 133.952572 seconds elapsed, finished iteration 201\n",
      "[LightGBM] [Info] Iteration:202, valid_1 auc : 0.742901\n",
      "[LightGBM] [Info] 134.588600 seconds elapsed, finished iteration 202\n",
      "[LightGBM] [Info] Iteration:203, valid_1 auc : 0.742906\n",
      "[LightGBM] [Info] 135.204158 seconds elapsed, finished iteration 203\n",
      "[LightGBM] [Info] Iteration:204, valid_1 auc : 0.742909\n",
      "[LightGBM] [Info] 135.776438 seconds elapsed, finished iteration 204\n",
      "[LightGBM] [Info] Iteration:205, valid_1 auc : 0.742908\n",
      "[LightGBM] [Info] 136.344097 seconds elapsed, finished iteration 205\n",
      "[LightGBM] [Info] Iteration:206, valid_1 auc : 0.742910\n",
      "[LightGBM] [Info] 136.937652 seconds elapsed, finished iteration 206\n",
      "[LightGBM] [Info] Iteration:207, valid_1 auc : 0.742909\n",
      "[LightGBM] [Info] 137.818965 seconds elapsed, finished iteration 207\n",
      "[LightGBM] [Info] Iteration:208, valid_1 auc : 0.742911\n",
      "[LightGBM] [Info] 138.515819 seconds elapsed, finished iteration 208\n",
      "[LightGBM] [Info] Iteration:209, valid_1 auc : 0.742912\n",
      "[LightGBM] [Info] 139.049594 seconds elapsed, finished iteration 209\n",
      "[LightGBM] [Info] Iteration:210, valid_1 auc : 0.742907\n",
      "[LightGBM] [Info] 139.623915 seconds elapsed, finished iteration 210\n",
      "[LightGBM] [Info] Iteration:211, valid_1 auc : 0.742907\n",
      "[LightGBM] [Info] 140.270577 seconds elapsed, finished iteration 211\n",
      "[LightGBM] [Info] Iteration:212, valid_1 auc : 0.742907\n",
      "[LightGBM] [Info] 140.805827 seconds elapsed, finished iteration 212\n",
      "[LightGBM] [Info] Iteration:213, valid_1 auc : 0.742905\n",
      "[LightGBM] [Info] 141.378229 seconds elapsed, finished iteration 213\n",
      "[LightGBM] [Info] Iteration:214, valid_1 auc : 0.742905\n",
      "[LightGBM] [Info] 141.971566 seconds elapsed, finished iteration 214\n",
      "[LightGBM] [Info] Iteration:215, valid_1 auc : 0.742907\n",
      "[LightGBM] [Info] 142.498337 seconds elapsed, finished iteration 215\n",
      "[LightGBM] [Info] Iteration:216, valid_1 auc : 0.742905\n",
      "[LightGBM] [Info] 143.140971 seconds elapsed, finished iteration 216\n",
      "[LightGBM] [Info] Iteration:217, valid_1 auc : 0.742907\n",
      "[LightGBM] [Info] 143.940362 seconds elapsed, finished iteration 217\n",
      "[LightGBM] [Info] Iteration:218, valid_1 auc : 0.742906\n",
      "[LightGBM] [Info] 144.595394 seconds elapsed, finished iteration 218\n",
      "[LightGBM] [Info] Iteration:219, valid_1 auc : 0.742906\n",
      "[LightGBM] [Info] Early stopping at iteration 219, the best iteration round is 209\n",
      "[LightGBM] [Info] 145.254895 seconds elapsed, finished iteration 219\n",
      "[LightGBM] [Info] Finished training\n"
     ]
    }
   ],
   "source": [
    "from sklearn.feature_extraction import DictVectorizer\n",
    "import os\n",
    "import sklearn, sklearn.cross_validation\n",
    "from pylightgbm.models import GBMClassifier\n",
    "import sklearn.model_selection\n",
    "\n",
    "start = datetime.datetime.now()\n",
    "exec_path = \"/opt/share/LightGBM-master/lightgbm\"\n",
    "os.environ[\"LIGHTGBM_EXEC\"] = exec_path\n",
    "\n",
    "feats = [u'max_score', u'avg_score', u'cnt', u'visit_count',u'good_url_avg_hour']\n",
    "\n",
    "X_train, X_test, y_train, y_test = sklearn.model_selection.train_test_split(\n",
    "     data[feats], data.label, test_size=0.33, random_state=1)\n",
    "\n",
    "result = []\n",
    "clf = GBMClassifier(\n",
    "        exec_path=exec_path,\n",
    "        min_data_in_leaf = 50,\n",
    "       # is_unbalance = True,\n",
    "        num_iterations = 600,\n",
    "        bagging_fraction = 0.8,\n",
    "        bagging_freq = 10,\n",
    "        num_leaves = 16,\n",
    "        learning_rate = 0.2,\n",
    "        metric = 'auc',\n",
    "        early_stopping_round = 10\n",
    "        \n",
    "    )\n",
    "clf.fit(X_train,y_train, test_data=[(X_test, y_test)])\n",
    "\n",
    "#result.append((i,feat_list[i], cv(clf, data[feats].values, df_train[label].values, folds = 5, metrics = 'roc_auc,pr_auc')))\n",
    "#print(datetime.datetime.now())\n",
    "\n"
   ]
  },
  {
   "cell_type": "markdown",
   "metadata": {},
   "source": [
    "Iteration:210, valid_1 auc : 0.742907"
   ]
  },
  {
   "cell_type": "code",
   "execution_count": 33,
   "metadata": {
    "collapsed": false
   },
   "outputs": [
    {
     "name": "stdout",
     "output_type": "stream",
     "text": [
      "[LightGBM] [Info] Finished loading parameters\n",
      "[LightGBM] [Info] Finished loading 209 models\n",
      "[LightGBM] [Info] Finished initializing prediction\n",
      "[LightGBM] [Info] Finished prediction\n"
     ]
    }
   ],
   "source": [
    "y_pred = clf.predict_proba(X_test)[:,1]"
   ]
  },
  {
   "cell_type": "code",
   "execution_count": 48,
   "metadata": {
    "collapsed": false
   },
   "outputs": [
    {
     "data": {
      "image/png": "iVBORw0KGgoAAAANSUhEUgAAAYYAAAEZCAYAAACTsIJzAAAABHNCSVQICAgIfAhkiAAAAAlwSFlz\nAAALEgAACxIB0t1+/AAAIABJREFUeJzt3Xd4VHX2+PH3oUlHQPmpVJWiKCpIca1RWMGKhSIoruta\nsLvi6nfdVbPu2hvKiqIgCotYFgsqKyoaRBEQSeggKF0E6VVCkvP743MnmQyTZJLMzJ1yXs8zT6bc\nuffMTXLPfLqoKsYYY0xAFb8DMMYYk1gsMRhjjCnGEoMxxphiLDEYY4wpxhKDMcaYYiwxGGOMKcYS\ngymTiCwQkTP9jiNRiMhfReQVn479moj8049jR5uIXCkikyv4XvubjCFLDElGRFaKyB4R2Skiv4jI\nWBGpH8tjqurxqvpVLI8RICIHicijIrLK+5w/iMjd8Th2CfFkiMia4OdU9VFVvT5GxxMRuV1E5ovI\nLhFZIyJvi8jxgcN7N1+JSKaIjK3MPlR1nKr2jOBYByTDeP5NpiNLDMlHgQtVtR5wItAB+Lu/IZWf\niFQr4aV3gLOB84C6wCDgBhF5LgYxiIhItPdbSc8BtwO3AQ2BtsD7wPnRPpCIVI32PpPh2CYCqmq3\nJLoBK4Bzgh4/AXwc9PgUYDqwFcgBzgp6rREwGlgHbAHeC3rtQm/7rcA3QIeg11YC5wBHAHuAhkGv\ndQR+Bap6j68FFnn7/wRoEbRtAXAzsAz4Mcxn6w7sBZqGPN8VyAOO8h5nAY8CM4HtuAtnwwjPQRbw\nL+8z7gGOBv7oxbwD+BG4wdu2jhdPPrDTe/1wIBMY623TyvtcVwOrvHNxX9DxagGve+djEXAPsKaE\n320b73N2LuX3Pxr4N/CRF8+MwHnxXn8OWO2dl9nA6UGvZQL/BcZ6r18LdAG+9c7Vz8AwoHrQe44D\nPgM2A78AfwV6AvuAXO+8ZHvbNgBGeftZC/wTqOK9do13zp8BNnmvXQNM814X4FlggxfbPO/YN3jH\n2ecd64Ogv8nu3v2qwH3Acu+czAaa+f2/msw33wOwWzl/YS4xBP4hmnn/QA94j5t6/3S9vMc9vMeN\nvccfA+O9f+BqwBne8x29f8gu3j/o1d5xqgcd8xzv/hTguqB4ngSGe/d74y767XCl0b8B3wRtWwBM\nBg4GDgrz2R4Dvizhc68ErvfuZ3kXnvZA7cDFLsJzkOXt61gvxmq4b+NHeq+fCewGOnqPzyLkQg48\nyIGJYQRwEHAC8BvQLvgzeee8qff7Wl3CZxwMrCjj9/+a93k6exfE/wDjg16/ElfSqALcBawHaniv\nZeIushd7j2sCnXCJtwrQEpe87vBer+e9/89ADVwJrmvQORgTEtt7wIu4ZHgoLnEHkuw1wH7gFu9Y\nNSmeGHriLuj1vcftgMO8+6OBh8L8HwT+Jv/indc23uMOQCO//1eT+WZVSclHgPdFZAfum+GPuG/A\nAFcBk1T1EwBV/Rz3z3aBiBwO9AIGq+p2Vc1T1Wne+24ARqjqd+qMwX1DOyXM8d8ABoCrigH6e8+B\nu7A9qqpLVbUA963+JBFpHvT+R1V1m6ruC7PvQ3DfSsNZ770OrjptjKouUtU9wP1APxGpUto5CHrv\na6q6WFULvPMwSVVXeNt/BXwKnOFtH66qKdxz/1DVfao6D5iLq+YD6As84p3zdbhv9CVVXzUu5fMH\nKPCuqs5W1XxgHHBS4Yuu3n6r99mewSWrdkHvn66qE71tf1PVOao6y9t+FfAyLhmCK0X+rKrPqmqu\nqu5S1VlB56Dwc4jI/8NV//1ZVfeq6q/AUOCKoGP/rKoveMf6LeRz7cclomNFpIr3NxR8Lkqr8rsO\n+JuqLvM+13xV3VLK9qYMlhiSjwK9VbU+kIGr4unsvdYS6CsiWwM34DTgMKA5sEVVt4fZZ0tgSMj7\nmuGqjkK9C/xORA7DfbsuUNWvg/bzXNA+NnvPNw16f7GG3BC/4qpqwjkC90053H5WA9VxiaO0cxA2\nBhE5T0RmiMhmb/vzcRfp8gi+iO3BfbsOxB18vLWl7GMzJX/+YBuC7u8NOhYicreILBKRbd5naUBR\nQj3g+CLSVkQ+EpH1IrIdeJiiz94c+CmCeMCd9+rA+qDz/hKu5BBQ4u9eVb/AVZG9AGwQkREiUi/C\nYzfDfUEyUWKJIYl5326HAY97T63GVXE0DLrVU9UncP+UjUSkQZhdrQYeDnlfXVV9K8wxt+K+UfcH\nBuKqpoL3c0PIfuqo6ozgXZTykT4HuolIs+AnRaQb7p//i6CnW4Tc349LLKWdgwNiEJGDgAm4tpom\nqtoQmETRN9Rw8ZanV9B63AU2oHlJG+Kq6ZqJyMnl2H8hETkDV63SV1UP9j7Ldop/2w6N/UVc9VFr\nVW2Aq/4LXBdWA0eVcLiCkMdrcKXMxkHnvYGqdijl2MWo6jBV7YyrImzrfZYy3+cdu3UZ25hysMSQ\n/IYCXb2L53+Ai0TkXBGpKiI1ve6WTVV1PfA/YLiIHCwi1YP6gb8CDBaRrl5HnToicoGI1C3hmG8A\nfwAup6gaCdw3xPtEpD2AiDQQkb6RfhBVnYK7OE4QkfbeZzgF11g6XFUD3woFuEpEjhWR2sBDwDuq\nqqWdg6BDBV8oa3i3TUCBiJwHnBv0+gagcUiX4PL0ZHob+Kt3zpsCt1LChc6rChkOjBeRs0Skhhf/\nFSJybwTHrodrvN7kvfcBoKyuzHVxjbp7ROQY4Kag1z4GDheRO7xuxPVEpKv32gagVaBXl/f39Snw\njLddFRE5WiIcayAinUWkm4hUx5W4fsM1+geOVVKCAhgJ/FNEWnt/vyeISKNIjmvCs8SQ5FR1E67X\ny72quhbXAHwfsBH3jW8IRb/nQbhv1ktw/2y3e/v4HrgeV5TfgmtAvpqSv6lNxH1DW6+q84NieR9X\nennTq5aYj2tULNwkgo90Oa6x9hPcBWssMFJVbwvZz1hcQ+x63IU98FlKOgdhvzWr6k7vvW97n30A\n8EHQ60twpaKfRGSL11YTOpagtM/1EK76ZgXuwvkOrgE4LFW9naIqla24nja9cec8cKzQ4wUef+Ld\nfsA1sO/Fff7g7ULfezeu5LcD177wZmAb79z8HrgId55/wFVf4n0OgM0iMtu7fzXudxHolfYORVV4\nJcUdeK6+d/wtXuybcB0bwPV0au9VUb3LgZ7B/f4+xZWQXsE1bpsKEvclK0Y7F3kV1+i3MaRIGbzN\n87hGqz3ANaqaHbOATEoQkS9x1UWv+h1LeYnITUA/VT3b71iMKUmsSwyjcT1hwhKR83F1m21wPWNe\njHE8JnUk2sC0sETkMBE5zataaYfrQvqe33EZU5qYJgavO+TWUja5GFcNgqrOBA72ur0ZUxbfp4WI\nUA1c28sOXPvJ+7h2BGMSVknTEsRLUw7syteM4t3xjCkmmaphVHU1bsCVMUkjERqfQ6sEkuWboDHG\npCS/SwzrKN6vu5n3XDEiYsnCGGMqQFXL3R7nd2KYiOvX/abXX32bqoatRopl76lkkpmZSWZmpt9h\nJAQ7F0XsXBRJ9HPx22/w449Ft5UrYdUq93PlSsjPh6OPhpYti25HHll0v3FjCDsncHY2XHMNNG8O\nL78MRxxBRScPjmliEJHxuHlXDhE3p/2DuGHzqOoIVZ0kIueLyHLcxGV/jGU8xhgTD7m57iK/eDEs\nXQrLlsFPP7lE8Msv7gLfujUcdZS76J91lnuuVSto1KiEC39pnn0WHn0UnnoKBg2qwA6Ki2liUNUB\nEWxzayxjMMaYWNmxAxYtOvC2ahUcdhh06gTt2rmfffq4ZNCiBVSvHuVAunSBnBw4Itz0ZuXnd1WS\nKaeMjAy/Q0gYdi6K2LkoEotzkZfnLvgLF8LcubBgAcybB5s3w7HHQvv27ufgwe5+q1ZQLZ5X19NP\nj+ruYjryOVpERJMhTmNM8tuzx130s7OLbgsXwqGHwvHHQ7du0KEDnHCCqwaqkgh9O0sgIhVqfLbE\nYIxJW1u3uhqY7GyYM8f9XLECjjkGOnYsup10EtSp43Owubnw8MNw8MHw5z9H9BZLDMYYU4r164su\n/oHbr7+6b/6dOhUlgeOOgxo1/I42RJgeR5GwxGCMMYCq6wEUuPgHkkFeXtHFP5AIWreGqlX9jrgU\ngVLCiy9WqMdRRRODNT4bY5JWQYHrDvrdd0WJICcH6tUruvgPHux+Nm9e6V6c8XfnnbB6dVR7HEXC\nSgzGmKSxebNLAt9+CzNmuPsNGrgG4eCSwCGHlL2vpLBzJ9StW+GMZlVJxpiUouoGiE2bBrNmwddf\nu3aCk0+G3/3O3bp0ceMFTHiWGIwxSS0vD+bPh+nT4auvYOpUqFULzjzTlQhOO811F03oNoGKys11\npYPGjaO6W0sMxpiksmOHKwV8/bUrEcyaBc2auZLAGWe4aSKOPNLvKOMg0OOoTx+4//6o7toSgzEm\noe3a5UoCn38OX37p5g/q0sWVCLp0gVNPdfMEpY1K9jiKhPVKMsYklNxcmDkTpkxxt+xs6NwZevSA\nF15w9xNuvEC8BI9LiHOPo0hYicEYExUFBe4a9+WX8MUXroqoTRvo3t3dTj8datf2O8oE8cwzrutU\nDEoJwawqyRgTV4FeQ4EkMGWKazvt3h3OPhsyMlKo22iSssRgjIm5ffsgKws+/BD+9z834dxZZ0Gv\nXnDOOW5KaZM4rI3BGBMT69fDxx+7ZPDll25m0Ysugvfec/eTbjRxPGVnw7ZtrgiVRCwxGGOKUXXX\nsw8/hI8+guXLoWdP6NcPXn016l3tU1Nwj6Phw/2OptwsMRhj2LPHtRUEkkGdOq5U8MQTrtE46iuO\npbIE73EUCUsMxqSpdeuKEsFXX7mpJi680FUXtW3rd3RJ6t//hoceitm4hHixxmdj0oSq+wL70Ucu\nIfz4I5x3nksGPXtCw4Z+R5gCvv8eDj88YUoJ1ivJGHOA/HzXlfTdd11j8UEHuSqiiy6yKqJ0YL2S\njDEA7N/vJqCbMMHdmjaFyy933Uvbt0/a2g0TR5YYjEkBe/a4KqL334dPPnEjji+5xK1ZcNRRfkeX\nYgI9jqpUgQcf9DuamLCqJGOS1P79MHkyjB8Pkya5ieguv9xVEyVIFXfqqeDay36xNgZj0oAqzJ4N\nY8bAW2+5ksHAgS4h2II1MRSHmVBjwdoYjElhK1bAa6+5ZJCX565L334LRx/td2Rp4m9/cxNDJem4\nhPKyEoMxCWrTJpcIxo2DH36AK6+EAQPcamZJ8GU1tezdCzVrJt2Jt6okY1LAb7+59oIxY9xAswsv\ndFVF555rXUtN+VliMCZJqbreQ6NHu+6lJ54IV13lVnqsX9/v6NJMbi5s2ZIyDTbWxmBMktmwAcaO\ndRPT5ee7zi45Oa7Di/FBoMfRBRfAI4/4HY2vLDEYE0d5efDppzBqlJu07pJLYMQINwo5yaqvU0e4\nHkdpzhKDMXGwbh288gqMHOlGIv/pT66k0KCB35GluRSYCTUWrI3BmBgpKIDPP3dfRKdOdT2KbrwR\nTjjB78hMoZEjoUaNpBmXUF7W+GxMgti0yTUkjxgB9erBTTe5pFCvnt+RmXRjjc/G+EgVpk93pYOP\nPoLeveE//7ExByY5WYnBmErYvt2NOXj5Zdi3DwYPdlXWjRr5HZkpJjvbNfRceKHfkcRVRUsMVWIR\nTICI9BKRJSKyTETuDfP6ISLyiYjkiMgCEbkmlvEYEy0//AC33gpHHgnTpsGwYbB0Kdx1lyWFhJKb\n62ZA7dkTdu/2O5qkEbOqJBGpCvwb6AGsA74TkYmqujhos1uBbFX9q4gcAiwVkf+oal6s4jKmolRh\nyhQYOhRmzXINyQsWWEeWhGU9jioslm0MXYHlqroSQETeBHoDwYlhPRDoo1Ef2GxJwSSavXvdfEVD\nh7r2gjvvhHfegVq1/I7MlOjll+Hvf0+qmVATSSwTQ1NgTdDjtUC3kG1eAb4QkZ+BekC/GMZjTLms\nXw8vvOCuMV27usTQvbtdY5LC6adbKaESYpkYImktvg/IUdUMETka+ExETlTVnaEbZmZmFt7PyMgg\nIyMjWnEaU8yyZfDkk65UMHCgWzO5bVu/ozLl0r693xH4Iisri6ysrErvJ2a9kkTkFCBTVXt5j/8K\nFKjq40HbTAIeVtVvvMdTgHtVdXbIvqxXkom52bPh8cchKwtuvtk1Lh96qN9RmTKpWjGuBInYK2k2\n0EZEWolIDaA/MDFkmyW4xmlE5P8B7YCfYhiTMcWoutHJPXrApZfCaae5RXH+8Q9LCgkv0ONoyBC/\nI0k5MatKUtU8EbkVmAxUBUap6mIRudF7fQTwCDBaRObiktQ9qrolVjEZE5Cf76a4fvxx17h8771u\ndHKNGn5HZiISuvayiSob4GbSyt69bonMp5+GJk3g//7PjXmqEtMRPSZqknTtZb/YlBjGlGLbNhg+\n3A1E69LFzWVkU10noUcege+/tx5HMWYlBpPSNmxw3Uxfftmtv3LPPXD88X5HZSosN9etcWoZPSKJ\n2PhsjG9WrYJbboFjj4UdO9yXzDFjLCkkvRo1LCnEgSUGk1JWr3bTXHfq5Ka5XrTIDVJr1crvyEy5\n5Oa6X6bxhSUGkxLWrnXjDjp2dKuiLV0Kjz2WMmu6p5fsbNcQNHSo35GkLUsMJqn98gvcfrtbFa1m\nTVdCeOwxOOQQvyMz5RY8E+qQIa7rmPGF9UoySWnHDveF8vnnXY/FRYusdJDUbCbUhGKJwSSVXbtc\nm8FTT7kvlt9959ZEMElu2TJXSrBxCQnBuquapLB7Nzz3nCslnH22m7LimGP8jsqYxGbdVU1Kys+H\nUaOgTRuYO9etlvbWW5YUjIklq0oyCUkVJk92cxjVrw8ffOA6qpgkl53tuoxdcYXfkZhSWInBJJyc\nHDjnHLdS2oMPwldfWVJIesE9jgoK/I7GlMESg0kYq1fD1VdDr17Qv79bT/myy6wtMukFxiUE5jga\nONDviEwZLDEY3+3ZA//6lxut3LKl66AyeDBUs4rO5Pfaa0XjEj780LqhJgn71zO+KSiA8ePd1Nfd\nurkV1GzqihRz5pk2LiEJWXdV44sZM9wUFiKuC+ppp/kdkTGpx9ZjMElh40Y39fVnn7nV06680toQ\nUoatvZwyrI3BxEVenisZtG/v5jFasgSuusquIykh0OPo+uv9jsREiZUYTMzNnAk33ugSwjffQLt2\nfkdkosbWXk5JEZcYRKR2LAMxqWfrVrc2wqWXFlUfWVJIEaEzoVqPo5RSZmIQkVNFZBGw1Ht8kogM\nj3lkJmmpwn/+46qNqlRxM58OHGjVRill2LCicQlXX22/3BRTZq8kEZkF9AE+UNWO3nMLVfW4OMQX\niMF6JSWJJUvg5ptdaWHECOja1e+ITEzk5UHVqpYQElxMJ9FT1dA19vLKeyCT2vbtg/vvh9NPh969\n3XTYlhRSWLVqlhRSWCSNz6tF5DQAEakB3A4sjmlUJqlMnw7XXQdt27oZUJs29TsiEzW5ubBqlZve\n1qSNSEoMNwG3AE2BdUBH77FJc7t2wR13QJ8+bn2E996zpJBSAnMcPfus35GYOIskMbRV1YGq2kRV\nD1XVKwGbDT/NffopdOgA27fD/PnQt6/VLKSM3Fx44AHX4+juu92SeSatRFKV9G9cKaGs50wa2LIF\n7roLsrJc43LPnn5HZKIqOxv+8Ac3m6HNcZS2SkwMIvI74FTgUBG5Cwh8H6yHjZhOO6owYQLcfrur\nOpo/H+rV8zsqE3W//AJ/+YsNS09zpZUYauCSQFXvZ8AOXPdVkyZ+/dVNg71oEbzzjk14l9LOO8/v\nCEwCiGQcQytVXRmfcEqMwcYx+GTyZLj2WjfZ3UMPQc2afkdkjIlULGdX3SMiTwHtgVrec6qq55T3\nYCZ57N3rprH44AMYMwa6d/c7IhNVc+a423XX+R2JSUCRtBWMA5YARwGZwEpgduxCMn7LzoaTT3ZV\nSHPnWlJIKYEeR716Qa1aZW9v0lIkiaGxqo4EclV1qqr+EbDSQgrKz3drJJx7Lvztb251tYYN/Y7K\nRM2cOdC5s8v8OTmuftCYMCKpSsr1fv4iIhcCPwN2uUgxmzbBoEGwe7dbYrNlS78jMlE1bhz8+c/w\n9NPW48iUKZLG54uAaUBzYBhQH8hU1YmxD68wBmt8jqFp09zsp1dcAY88AtWr+x2Ribqff3Y/bVxC\nWqlo43OF1nwWka6qOiuC7XoBQ3FdXkeq6uNhtskAngWqA5tUNSPMNpYYYqCgwFUdPfccvPoqnH++\n3xEZY6Ip6r2SRKQKcClwNLBAVSeJSGfgEaAJcFIZAVXFjZDugZtj6TsRmaiqi4O2ORh4AeipqmtF\n5JDyfgBTMRs3umn0d+1yVUfNmvkdkYmaggK3EIYxFVTaX8/LwM249oS/i8gE4HVgOJFNh9EVWK6q\nK1V1P/Am0Dtkm4HABFVdC6Cqm8oZv6mATz+Fk05yPY+ysiwppIxAj6OBA/2OxCS50hqfTwFOUNUC\nEakJ/AIcraqbI9x3U2BN0OO1QLeQbdoA1UXkS9zo6udUdWyE+zfllJ/v1kwYM8a1RZ59tt8RmaiZ\nM8etvdyiha29bCqttMSwX1ULAFT1NxFZUY6kABBJo0B1oBPQHagNfCsiM1R1WTmOYyKwbp3rdQSu\nt+Khh/obj4mS3Fx4+GF48UV46in3S7YeR6aSSksMx4jI/KDHRwc9VlU9oYx9r8P1ZApojis1BFuD\na3DeC+wVka+AE4EDEkNmZmbh/YyMDDIyMso4vAmYOhUGDICbboL77nMrMpoU8eqrRWsvW4+jtJeV\nlUVWVlal91NiryQRaVXaG8uaP0lEqgFLcaWBn4FZwICQxudjcA3UPYGDgJlAf1VdFLIv65VUAapu\njZUnnnDVR+ee63dEJuoKClwJwUoJJoyo90qq7MR5qponIrcCk3HdVUep6mIRudF7fYSqLhGRT4B5\nQAHwSmhSMBWzaxf86U/w448wYwa0auV3RCYmrPeRiYEKjWOINysxlM/SpXDZZXDKKW7xLZsRNQXk\n5sKyZXDccX5HYpJIRUsM9nUjxfzvf3DGGXDnnTBqlCWFlJCTA127wjPP+B2JSRMRJQYRqS0i7WId\njKk4Vdcp5dpr4f334frr/Y7IVFpuLjz4oGscuusuGDnS74hMmihzEj0RuRh4Etc43EpEOgL/UNWL\nYx2ciUxurksE8+fDzJmuK7tJcvPmuaHpzZpZjyMTd5GUGDJxA9O2AqhqNm5tBpMANm6EjAzX2Dxt\nmiWFlLF9uyslfPihJQUTd5Ekhv2qui3kuYJYBGPKZ+FCV/Xcvbtbi7lOHb8jMlFzxhmuxGDdUI0P\nIlmPYaGIXAlUE5E2wO3A9NiGZcoydSr061c0vb4xxkRLJCWG24DjgH3AeGAHcGcsgzKle+st6NsX\n3njDkkLSy8mBoUP9jsKYYiJJDO1U9T5V7ezd/qaqv8U8MnMAVddj8e674bPPbC3mpBbc46hxY7+j\nMaaYSKqSnhGRw4B3gLdUdUGMYzJh5OfDkCHw+ecwfTo0b172e0yCyslxM6FajyOToMosMXgrqp0N\nbAJGiMh8Ebk/1oGZIvv2uWU3c3Lg668tKSS1CROKxiVYjyOToMo1JYaIdADuxU10F7eVgdN5Sowd\nO+DSS6FhQ7eGwkEH+R2RqZTNm12mt4Rg4iBmU2KISHsRyRSRBbiZUKfjFuExMbZxo1tMp21b1+Bs\nSSEFNG5sScEkvDJLDCIyA7cs5zuqui4uUR0YQ9qVGNaudY3L/frBQw9Zd/aklJ9vi18YX1W0xGCz\nqyagNWtcSeHGG+Evf/E7GlNugVXVZs+Gjz/2OxqTxqK+HoOIvKOqfUNWcQuIZAU3UwErVkCPHnDL\nLa590iSZ4B5Hr7zidzTGVEhpK7gdoao/i0hLIDTjqKquinl0RbGkRYnhhx9cUrj3XpcYTBKxtZdN\nAorFCm4/e3dvVtV7Qw72OK53komShQtdL8Z//tNNnW2SzDvv2NrLJmVE0vicraodQ56br6odYhpZ\n8eOldIlh7lzo1ct90bzySr+jMRUS+Pu0UoJJILFoY7gJuBk4OqSdoR7wTflDNOHMng0XXOCW4OzT\nx+9oTIVZQjAppLQ2hgZAQ+AxXLVR4C9/p6pujk94hbGkZIlh7lzo2RNGjIDevf2OxkQkNxcWLIBO\nnfyOxJgyxWKAm6rqSuAWYCduVtUdgIpIowpFaQotXOiqj4YNs6SQNGztZZMmSptEbzxwAfA9EO7r\n+pExiSgNLF3qGpqfftpNn20SXLgeR8aksNJ6JV3g/WwVt2jSwPLlrkvqww/DwIF+R2PKNH++SwQ2\nE6pJI5HMlXSaiNT17g8SkWe8sQ2mnFaudNNc3H+/GwNlkkB+vs2EatJOJN1V5wMnAh2A14BRQF9V\nPSvm0RXFkPSNz2vWwFlnuTUVbPCaMSYeYja7KpCnqgXAJcALqvpvXJdVE6ENG1z10a23WlIwxiS+\nSBLDThG5D7gK+EhEqgJxW4sh2W3Z4rqkDhhgcx8ltJwcN+zcGBNRYugP7AOuVdVfcGsxPBnTqFLE\nnj1w0UWuXeHBB/2OxoQVvPZyS2s6MwYinHbbW/O5C67b6ixV3RjrwEKOn3RtDAUFbuW1Bg3gtdeg\nSiQp2MRX8EyoL79sjcsm5cRyBbd+wEygL9APmCUi1vu+DPfcA9u2wciRlhQS0scf29rLxpQgkl5J\n84AegVKCiBwKTInnegzJVmJ46SUYOhSmT4dGNkY8Me3c6W6WEEwKi/okesH7Bn4NeryZA9dnMJ5J\nkyAzE775xpJCQqtXz92MMQeIJDF8AkwWkTdwCaE/8L+YRpWk5s51VdYffABHH+13NKbQ/v1Q3TrS\nGROpSBufLwNO9x5OU9X3YhrVgcdP+KqkX39186s99hj07+93NAYomuMoK8vdbGpsk2ZisR5DW1y3\n1NbAPOAvqrq24iGmrrw8NxneFVdYUkgYwT2Oxo+3pGBMOZTWX+ZV4CPgcmAO8HxcIkpCf/kL1Krl\nvpwanwWPS7AeR8ZUSGltDHVV9RXv/hIRyS7vzkWkFzAUqAqMVNXHS9iuC/At0E9V3y3vcfw0bpy7\n9nz3nXU+abuhAAAYA0lEQVRLTQiTJ9vay8ZUUmkruC0BAhNDCzDOeyy4RXzmlLpjN3XGUqAHsA74\nDhigqovDbPcZsAcYraoTwuwrIdsYZs50I5unTIEOcVsB25TK1l42plAsuqv+AjxdyuOzy9h3V2C5\ntwocIvIm0BtYHLLdbcB/cSOrk8amTa5d4ZVXLCkkFEsIxlRaaQv1ZFRy302BNUGP1wLdgjcQkaa4\nZHEORVNuJLyCAvjDH9zEeLYsp09yc2H2bDj1VL8jMSblxLJWPJKL/FDg/7x6IiFJBs4NHQqbN8O/\n/uV3JGkqsPbys88WVR0ZY6ImkgFuFbUOaB70uDmu1BDsZOBNccX/Q4DzRGS/qk4M3VlmZmbh/YyM\nDDIyMqIcbmSmTYPHH4cZM2zMVNyFW3vZqo6MKZSVlUVWVlal9xPRALcK7VikGq7xuTvwMzCLMI3P\nQduPBj4M1yspURqff/kFTj4ZRo2CXr38jibNLFrkFsm2mVCNiVgsZ1et4q31/ID3uIWIdC3rfaqa\nB9wKTAYWAW+p6mIRuVFEbixvoH7bv98NYLv+eksKvqhRw8YlGBMnkcyu+hJQAJyjqseISCPgU1Xt\nHI8AvRh8LzE88gh88YXrJl+1qq+hGGNMRGI5u2o3Ve0YGOCmqltEJK1q1+fOde2cs2dbUjDGpL5I\neiXleoPQgML1GApiF1Ji2bfPtXE++aSt/BgXOTlujpEEaFMyJl1FkhiGAe8BTUTkEeAb4NGYRpVA\n7r0XWrd24xZMDAXPcWQjBo3xVZlVSar6HxH5Hte7CKB3ST2LUs2UKTBhAsybZ70iYyp4JlSb48gY\n30XS+NwicNf7qQCqujqGcYXGEPfG523b4IQT3JQXPXvG9dDpZcoUN4TcxiUYE3UVbXyOJDEsoGgU\nc03gSGCpqh5X7igryI/E8Mc/uqm0hw+P62HTz759bhi5lRKMibqY9UpS1eNDDtQJuKW8B0omH38M\nU6e6KiQTYwcdZEnBmARToZHPIrIgNGHEUjxLDFu3urbPsWPh7LLmjzXl89tvULOm31EYkzZiWZU0\nJOhhFaAT0EhV41bzHs/EcO21rgrphRficrj0EJjj6OOP3YpG1o5gTFzEcoBb3aD7ebjlPg9YTCcV\nTJnibgsW+B1JCgnucTRxoiUFY5JAqYnBG9hWX1WHlLZdKti3D265BYYNg3r1/I4mBdhMqMYkrRIT\ng4hUU9U8ETlNEmGyohh77DE45hi4+GK/I0kR334Lc+bYuARjklBpaz7PUdVO3iR6RwDv4NZlBrfm\n8wHTY8dKrPPS2rVw4omQnQ0tWpS9vTHGJINYtDEEdlYT2IxbfjNY3BJDrP3973DDDZYUjDEGSk8M\nh4rIXcD8eAXjh+xsN5X2Dz/4HUmSys11y9p17172tsaYpFBaYqgKpHwz7F//Cg88YA3OFRLocXTk\nkW7QR5VYLiFujImX0toYslW1Y5zjCStWbQyffw433giLF7sFwkyErMeRMUkhluMYUlJBgZv2/4kn\nLCmUy5Ilbo1TmwnVmJRVWmLoEbcofDB+vJud4bLL/I4kydSvD0OGwFVXWSnBmBRVobmS4i3aVUn7\n90O7djB6NJx1VtR2a4wxCaWiVUlp2Vo4ahQcfbQlBWOMCSftEsO+fa7d9OGH/Y4kweXkwODBrjHG\nGJNW0i4xjBoFxx8PXbv6HUmCCl57+dRTrR3BmDSUVr2S9u51JYUPPvA7kgRlay8bY0izEsNLL0GX\nLtC5s9+RJKDp010p4a674MMPLSkYk8bSplfS7t3QujV88ombMM+EyM+HX3+Fww7zOxJjTJRYr6Qy\nvPSSqzK3pFCCqlUtKRhjgDQpMezdC0cd5SbLO+GEKAaWrHbvhjp1/I7CGBNjVmIoxdixcPLJlhQK\nexx17eqqjowxJoyUTwwFBW6et3vu8TsSn+XkuITw/ffw2Weu6sgYY8JI+cTw6adQty6ccYbfkfgk\neFyC9TgyxkQg5ccxvPgi3HRTGo/Tmj/flRZsXIIxJkIp3fj800+u9mTVKmtrNcakH2t8DmPYMLj2\nWksKxhhTHilbYti5E1q2dDUoLVrEKLBEkpvrGlQuvNDvSIwxCcJKDCHGj4eMjDRJCoEeRy+/DHl5\nfkdjjElyMU8MItJLRJaIyDIRuTfM61eKyFwRmSci34hIVEYbjBwJf/pTNPaUwEJ7HH3wAVRL+f4E\nxpgYi+lVRESqAv/GLRO6DvhORCaq6uKgzX4CzlTV7SLSC3gZOKUyx/3+e9i4EXr1qsxeEtzy5dCn\nj82EaoyJulh/vewKLFfVlQAi8ibQGyhMDKr6bdD2M4FmlT3oiy/CjTem+Biuxo3dqL0BA9K4L64x\nJhZinRiaAmuCHq8FupWy/Z+ASZU54LZtMGECLF1amb0kgYYNYeBAv6MwxqSgWCeGiLsSicjZwLXA\naeFez8zMLLyfkZFBRkZG2P2MGQM9e0KTJuUJ0xhjkl9WVhZZWVmV3k9Mu6uKyClApqr28h7/FShQ\n1cdDtjsBeBfoparLw+wnou6qqm6ivGHDXI+klJCT4yZ7Gj0aqlf3OxpjTBJJ1O6qs4E2ItJKRGoA\n/YGJwRuISAtcUrgqXFIoj+xsN6P0mWdWZi8JIrjH0bnnWm8jY0zcxPRqo6p5InIrMBmoCoxS1cUi\ncqP3+gjgAaAh8KK4RtT9qtq1IscbMwauvhqqJPvoDFt72Rjjo5QZ+ZyXB82bw1dfQZs2cQosFrKz\nXSPJU0/BoEHW48gYU2EVrUpKmfqJL75wiSGpkwLASSfBwoVw6KF+R2KMSVPJXulS6I03UqT3pogl\nBWOMr1KiKmnfPreO/cKFSVYdv307NGjgdxTGmBSVqL2S4uLTT1031aRJCoEeR506ufvGGJNAUiIx\nvPMO9O3rdxQRys6GLl3chE7TpkGNGn5HZIwxxSR9VVKgGmnRIjj88DgHVh65ufDww24ip6efhquu\nsh5HxpiYStteSZ9+Ch06JHhSAPjxR1iwwMYlGGMSXtKXGK6+2tXM3HZbnIMyxpgEV9ESQ1Inhn37\nXElhwQL7Em6MMaHSslfSF1/AsccmWFLIzXWt4cYYk6SSOjG8/z5ceqnfUQQJ9DgaM8YVZ4wxJgkl\nbVWSqptj7osvoF07nwILsB5HJsmJ/b0mvXDX8rTrlTR3LtSqlQBJYcUKuOQSaNHCehyZpJYMXxJN\neNFO7EmbGP73P7jgAr+jwC0Vd9990K+flRKMMSkhadsYJk2CXr38jgKoUwf697ekYIxJGUnZxrB1\nK7RsCRs2uOokY0zleHXRfodhKqik319adVedPBnOOivOSSE7Gy67DH77LY4HNcaY+EvKxDBpEpx/\nfpwOFpgJtWdP1zf2oIPidGBjjPFH0iUGVVdiOO+8OBwsMC5hzhzX48iW2jTGNxkZGTRq1IjckKnq\nMzIyGDVqVLHnsrKyaN68eeFjVeX555+nQ4cO1K1bl+bNm9OvXz8WLFgQ1Ri3bNnCpZdeSt26dWnV\nqhXjx48vcdvBgwdTr169wlvNmjWpX7/+AdstW7aMmjVrMmjQoKjGWpqkSwwLF0LdutCqVYwPtHSp\nKyXcfTdMnGjdUI3x0cqVK5k1axZNmjRh4sSJxV4TkTK7a95xxx08//zzDBs2jK1bt/LDDz9wySWX\n8PHHH0c1zltuuYWaNWuyceNGxo0bx0033cSiRYvCbvvSSy+xc+fOwtuAAQPo169f2H127do1rmNN\nkq676hdfwDnnxOFA7dq55NCwYRwOZowpzZgxY+jRowfdunXj9ddfp0+fPhG/d9myZQwfPpwZM2bQ\nuXNnAKpXr87AKK8FvHv3bt59910WLlxI7dq1Oe200+jduzdjx47l0UcfLfO9EyZMOCBRvfnmmzRs\n2JD27duzfPnyqMZbmqQrMUyd6hqe48KSgjEJYcyYMfTv359+/foxefJkNm7cGPF7p0yZQvPmzQuT\nQiRuvvlmGjZsGPZ20kknhX3PDz/8QLVq1WjdunXhcyeeeCILFy4s83gTJkygSZMmnHHGGYXP7dix\ngwcffJBnn3027j3Gkiox5OdDVlYMSgybN0d5h8akFpHo3Cri66+/Zt26dVx88cW0adOG9u3b88Yb\nb0T8/s2bN3PYYYeV65jDhw9n69atYW85OTlh37Nr164D2gjq1avHzp07yzze66+/ztVXX13sufvv\nv5/rrruOI444Iu5TliRVYpg71w00jlp1f6DHUceOsGdPlHZqTOpRjc6tIl5//XXOPfdc6tWrB0Df\nvn15/fXXC1+vVq0a+/fvL/ae/fv3U716dQAaN27M+vXrK3bwcqhbty47duwo9tz27dsL4y7J6tWr\nmTp1arHEkJOTw5QpU7jzzjuB+E9XklRtDF9+CWefHaWdZWfDNde4OY5mzIDataO0Y2NMtOzdu5e3\n336bgoICDveWady3bx/btm1j3rx5nHDCCbRo0YIVK1YUe9+KFSto5fVQ6d69O7feeivff/89J598\nckTHHTx4MOPGjQv7WqtWrZg/f/4Bz7dt25a8vDyWL19eWJ00d+5cjj/++FKPNXbsWE4//fTCeAGm\nTp3KypUradGiBeBKI/n5+SxevJjZs2dH9BkqRVUT/ubCVO3dW/XNN7Vy9u1TfeAB1UMPVR0zRrWg\noJI7NCb5Bf7HEs0bb7yhjRo10jVr1uiGDRt0w4YN+ssvv+iZZ56pQ4YMUVXVyZMna5MmTXTWrFla\nUFCgS5cu1WOPPVZHjBhRuJ/bbrtN27Rpo1lZWbpv3z7du3evjh8/Xh977LGoxnvFFVfogAEDdPfu\n3Tpt2jRt0KCBLlq0qNT3tG3bVkePHl3suT179hT7vHfffbf26dNHN23aFHYfJf3+vOfLf82tyJvi\nfQM0P1+1cWPVtWtLPL+RWblStV8/1XXrKrkjY1JHoiaGXr166d13333A82+//bYefvjhmp+fr6qq\nr776qh533HFav359bd26tT7++ONaEPKl77nnntPjjjtOa9eurU2bNtUrrriizIt2eW3ZskUvueQS\nrVOnjrZs2VLHjx9f+NqqVau0bt26umbNmsLnpk+frnXr1tVdu3aVut/MzEwdNGhQia9HOzEkzVxJ\nS5cqv/89rFrldzTGpB6bKym5pe1cSd98A6ee6ncUxhiT+pImMXz7bTkTQ24uvP56xbtCGGNMmkqa\nxDBzJnTrFuHGgTmO/vtf64ZqjDHllDRtDLVrK1u2lDG5qa29bEyFWBtDcot2G0PSjGM4/vgyksLa\ntW6tT1t72RhjKiVpEkOZ1UhNmrhRzJdeaqUEY4yphKRJDF26lLFBjRpuhTVjTIXEez4ek7himhhE\npBcwFKgKjFTVx8Ns8zxwHrAHuEZVs8Ptq2PHWEZqTHqz9gUTLGa9kkSkKvBvoBfQHhggIseGbHM+\n0FpV2wA3AC+WtL9jA+/MznbLt4VMVpUusrKy/A4hYdi5KGLnooidi8qLZXfVrsByVV2pqvuBN4He\nIdtcDLwOoKozgYNF5P+F21nV/KC1lwcOhDJmLExV9kdfxM5FETsXRexcVF4sq5KaAmuCHq8FQpuQ\nw23TDNhwwN66dLEeR8YYEwexTAyRVlqGtniFf9+QITBokPU4MsaYGIvZADcROQXIVNVe3uO/AgXB\nDdAi8hKQpapveo+XAGep6oaQfVnLmDHGVECiDXCbDbQRkVbAz0B/YEDINhOBW4E3vUSyLTQpQMU+\nmDHGmIqJWWJQ1TwRuRWYjOuuOkpVF4vIjd7rI1R1koicLyLLgd3AH2MVjzHGmMgkxVxJxhhj4ieh\nZlcVkV4iskRElonIvSVs87z3+lwRSdlhb2WdCxG50jsH80TkGxE5wY844yGSvwtvuy4ikiciKTkE\nPsL/jwwRyRaRBSKSFecQ4yaC/49DROQTEcnxzsU1PoQZFyLyqohsEJEDF6Iu2qZ8182KLPsWixuu\numk50AqoDuQAx4Zscz4wybvfDZjhd9w+novfAQ28+73S+VwEbfcF8BFwud9x+/Q3cTCwEGjmPT7E\n77h9PBeZwKOB8wBsBqr5HXuMzscZQEdgfgmvl/u6mUglhqgOiEtyZZ4LVf1WVbd7D2fixn+kokj+\nLgBuA/4L/BrP4OIokvMwEJigqmsBVHVTnGOMl0jOxXqgvne/PrBZVfPiGGPcqOo0YGspm5T7uplI\niSHcYLemEWyTihfESM5FsD8Bk2IakX/KPBci0hR3YQhMqZKKDWeR/E20ARqJyJciMltEBsUtuviK\n5Fy8AhwnIj8Dc4E74hRbIir3dTORZleN7oC45BbxZxKRs4FrgdNiF46vIjkXQ4H/U1UVN0VoKnZv\njuQ8VAc6Ad2B2sC3IjJDVZfFNLL4i+Rc3AfkqGqGiBwNfCYiJ6rqzhjHlqjKdd1MpMSwDmge9Lg5\nLrOVtk0z77lUE8m5wGtwfgXopaqlFSWTWSTn4mTcWBhw9cnnich+VZ0YnxDjIpLzsAbYpKp7gb0i\n8hVwIpBqiSGSc3Eq8DCAqv4oIiuAdrjxVemm3NfNRKpKKhwQJyI1cAPiQv+xJwJXQ+HI6rAD4lJA\nmedCRFoA7wJXqepyH2KMlzLPhaoepapHquqRuHaGm1IsKUBk/x8fAKeLSFURqY1raFwU5zjjIZJz\nsQToAeDVp7cDfoprlImj3NfNhCkxqA2IKxTJuQAeABoCL3rflPerale/Yo6VCM9Fyovw/2OJiHwC\nzAMKgFdUNeUSQ4R/E48Ao0VkLu4L8D2qusW3oGNIRMYDZwGHiMga4EFctWKFr5s2wM0YY0wxiVSV\nZIwxJgFYYjDGGFOMJQZjjDHFWGIwxhhTjCUGY4wxxVhiMMYYU4wlBpMwRCTfmzI6cGtRyra7onC8\n10TkJ+9Y33uDf8q7j1dE5Bjv/n0hr31T2Ri9/QTOyzwReVdE6pax/Ykicl40jm3Sk41jMAlDRHaq\nar1ob1vKPkYDH6rquyLye+ApVT2xEvurdExl7VdEXsNNr/x0KdtfA5ysqrdFOxaTHqzEYBKWiNQR\nkc+9b/PzROTiMNscLiJfed+o54vI6d7z54rIdO+9b4tInZIO4/2cBrT23nuXt6/5InJHUCwfewu/\nzBeRvt7zWSJysog8BtTy4hjrvbbL+/mmiJwfFPNrInKZiFQRkSdFZJa3gMoNEZyWb4Gjvf109T7j\nHHGLNbX1poh4COjvxdLXi/1VEZnpbXvAeTSmGL8XmbCb3QI3IA/I9m4TcNMd1PNeOwRYFrTtTu/n\nEOA+734VoK637VSglvf8vcD9YY43Gm9RH6Av7qLbCTelRC2gDrAAOAm4HHg56L31vZ9fAp2CYwoT\n4yXAa979GsBq4CDgBuBv3vMHAd8BrcLEGdhPVe+83Ow9rgdU9e73AP7r3f8D8HzQ+x8BrvTuHwws\nBWr7/fu2W+LeEmauJGOAvapauOygiFQHHhWRM3Bz/xwhIk1UdWPQe2YBr3rbvq+qc0UkA2gPTPfm\nkaoBTA9zPAGeFJG/Axtx61r8HnhX3QyliMi7uBWyPgGe8koGH6nq1+X4XJ8Az3nf5s8DpqrqPhE5\nF+ggIn287erjSi0rQ95fS0SycfPqrwRe8p4/GBgjIq1x0ygH/p9Dpx4/F7hIRO72Hh+Em21zaTk+\ng0kjlhhMIrsS9+2/k6rmi5s6uWbwBqo6zUscFwKvicgzuNWsPlPVgWXsX4G7VfXdwBMi0oPiF1Vx\nh9Fl4tbKvQD4l4hMUdV/RvIhVPU3cesv9wT6AeODXr5VVT8rYxd7VbWjiNTCTRzXG3gP+CcwRVUv\nFZGWQFYp+7hMU29dBhMj1sZgEll9YKOXFM4GWoZu4PVc+lVVRwIjcWvfzgBOE7dAS6B9oE0Jxwhd\nwGQacImI1PLaJS4BponI4cBvqjoOeMo7Tqj9IlLSl623cAsqBUof4C7yNwfe47UR1C7h/XilmNuB\nh8UVheoDP3svB8+YuQNXzRQw2Xsf3nHKXgzepDVLDCaRhHaRGwd0FpF5wCBgcZhtzwZyRGQO7tv4\nc+rWOr4GGO9NuzwdNx9/mcdU1WzgNVwV1Qzc1NVzgQ7ATK9K5wHgX2H29TIwL9D4HLLvT4EzcSWZ\nwNrDI3HrJcwRkfm4pUnDJZbC/ahqDrDc+6xP4Kra5uDaHwLbfQm0DzQ+40oW1b0G/AXAP0o4F8YA\n1l3VGGNMCCsxGGOMKcYSgzHGmGIsMRhjjCnGEoMxxphiLDEYY4wpxhKDMcaYYiwxGGOMKcYSgzHG\nmGL+P1FMyg/m5I9RAAAAAElFTkSuQmCC\n",
      "text/plain": [
       "<matplotlib.figure.Figure at 0x7fe8ac393410>"
      ]
     },
     "metadata": {},
     "output_type": "display_data"
    }
   ],
   "source": [
    "%matplotlib inline\n",
    "\n",
    "import matplotlib\n",
    "import numpy as np\n",
    "import matplotlib.pyplot as plt\n",
    "fpr, tpr, threshold = sklearn.metrics.roc_curve(y_test, y_pred)\n",
    "precision,recall, thres1 = sklearn.metrics.precision_recall_curve(y_test, y_pred)\n",
    "roc_auc = sklearn.metrics.auc(fpr, tpr)\n",
    "\n",
    "\n",
    "import matplotlib.pyplot as plt\n",
    "plt.title('Receiver Operating Characteristic')\n",
    "plt.plot(fpr, tpr, 'b', label = 'AUC = %0.2f' % roc_auc)\n",
    "plt.legend(loc = 'lower right')\n",
    "plt.plot([0, 1], [0, 1],'r--')\n",
    "plt.xlim([0, 1])\n",
    "plt.ylim([0, 1])\n",
    "plt.ylabel('True Positive Rate')\n",
    "plt.xlabel('False Positive Rate')\n",
    "plt.show()\n",
    "\n",
    "#a = sklearn.metrics.roc_curve(y_test,y_pred)"
   ]
  },
  {
   "cell_type": "code",
   "execution_count": 52,
   "metadata": {
    "collapsed": false
   },
   "outputs": [],
   "source": [
    "data_test_aza = hc.sql('select * from user_kposminin.vk_ages_test_2').toPandas()"
   ]
  },
  {
   "cell_type": "code",
   "execution_count": 57,
   "metadata": {
    "collapsed": false
   },
   "outputs": [
    {
     "name": "stdout",
     "output_type": "stream",
     "text": [
      "[LightGBM] [Info] Finished loading parameters\n",
      "[LightGBM] [Info] Finished loading 209 models\n",
      "[LightGBM] [Info] Finished initializing prediction\n",
      "[LightGBM] [Info] Finished prediction\n"
     ]
    }
   ],
   "source": [
    "X_test_aza,y_test_aza = data_test_aza[feats],data_test_aza['label']\n",
    "y_pred_aza = clf.predict_proba(X_test_aza)[:,1]"
   ]
  },
  {
   "cell_type": "code",
   "execution_count": 58,
   "metadata": {
    "collapsed": false
   },
   "outputs": [
    {
     "data": {
      "image/png": "iVBORw0KGgoAAAANSUhEUgAAAYYAAAEZCAYAAACTsIJzAAAABHNCSVQICAgIfAhkiAAAAAlwSFlz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\nwRKDMcaYHCwxGGOMycESgzHGmBz+HxU89eDBVDaLAAAAAElFTkSuQmCC\n",
      "text/plain": [
       "<matplotlib.figure.Figure at 0x7fe8ac02e390>"
      ]
     },
     "metadata": {},
     "output_type": "display_data"
    }
   ],
   "source": [
    "%matplotlib inline\n",
    "\n",
    "import matplotlib\n",
    "import numpy as np\n",
    "import matplotlib.pyplot as plt\n",
    "fpr, tpr, threshold = sklearn.metrics.roc_curve(y_test_aza, y_pred_aza)\n",
    "#precision,recall, thres1 = sklearn.metrics.precision_recall_curve(y_test, y_pred)\n",
    "roc_auc = sklearn.metrics.auc(fpr, tpr)\n",
    "\n",
    "\n",
    "import matplotlib.pyplot as plt\n",
    "plt.title('Receiver Operating Characteristic')\n",
    "plt.plot(fpr, tpr, 'b', label = 'AUC = %0.2f' % roc_auc)\n",
    "plt.legend(loc = 'lower right')\n",
    "plt.plot([0, 1], [0, 1],'r--')\n",
    "plt.xlim([0, 1])\n",
    "plt.ylim([0, 1])\n",
    "plt.ylabel('True Positive Rate')\n",
    "plt.xlabel('False Positive Rate')\n",
    "plt.show()"
   ]
  },
  {
   "cell_type": "markdown",
   "metadata": {},
   "source": [
    "На контрольной выборке разделяет не очень. Возможно, связано с нечеткой связкой телефона с кукой в этой выборке "
   ]
  },
  {
   "cell_type": "code",
   "execution_count": 72,
   "metadata": {
    "collapsed": true
   },
   "outputs": [],
   "source": [
    "y_control = np.array(sorted(zip(y_pred_aza,y_test_aza),reverse = True))\n",
    "test = np.array(sorted(zip(y_pred,y_test),reverse = True))"
   ]
  },
  {
   "cell_type": "code",
   "execution_count": 82,
   "metadata": {
    "collapsed": false
   },
   "outputs": [
    {
     "name": "stdout",
     "output_type": "stream",
     "text": [
      "Test: Scholars share in top 3%: 58.73%, lift 3.37\n",
      "Control: Scholars share in top 3%: 6.74%, lift 2.38\n"
     ]
    }
   ],
   "source": [
    "print('Test: Scholars share in top 3%: {:.2%}, lift {:.3}.'.format(test[:3*test.shape[0]/100,1].mean(),\n",
    "                                                              test[:3*test.shape[0]/100,1].mean()/test[:,1].mean()))\n",
    "print('Control: Scholars share in top 3%: {:.2%}, lift {:.3}.'.format(y_control[:3*y_control.shape[0]/100,1].mean(),\n",
    "                                                              y_control[:3*y_control.shape[0]/100,1].mean()/y_control[:,1].mean()))"
   ]
  },
  {
   "cell_type": "markdown",
   "metadata": {},
   "source": [
    "На тесте еще норм, но на контроле лифт маленький слишком.\n",
    "При этом модель будет применяться на данных, весьма близких к контролю.\n",
    "Можно попробовать проскорить на основе аза выборки, тогда может лучше получиться."
   ]
  },
  {
   "cell_type": "code",
   "execution_count": 83,
   "metadata": {
    "collapsed": true
   },
   "outputs": [],
   "source": [
    "sc."
   ]
  },
  {
   "cell_type": "code",
   "execution_count": null,
   "metadata": {
    "collapsed": true
   },
   "outputs": [],
   "source": []
  }
 ],
 "metadata": {
  "kernelspec": {
   "display_name": "Python 2",
   "language": "python",
   "name": "python2"
  },
  "language_info": {
   "codemirror_mode": {
    "name": "ipython",
    "version": 2
   },
   "file_extension": ".py",
   "mimetype": "text/x-python",
   "name": "python",
   "nbconvert_exporter": "python",
   "pygments_lexer": "ipython2",
   "version": "2.7.10"
  }
 },
 "nbformat": 4,
 "nbformat_minor": 0
}
