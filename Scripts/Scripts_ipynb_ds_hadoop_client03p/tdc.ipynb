{
 "cells": [
  {
   "cell_type": "markdown",
   "metadata": {},
   "source": [
    "## Tinkoff Data Challenge\n",
    "### Задача 1. \n",
    "https://boosters.pro/champ_3#"
   ]
  },
  {
   "cell_type": "code",
   "execution_count": 1,
   "metadata": {
    "collapsed": true
   },
   "outputs": [],
   "source": [
    "%matplotlib inline \n",
    "import matplotlib\n",
    "import numpy as np\n",
    "import matplotlib.pyplot as plt\n",
    "import seaborn as sns"
   ]
  },
  {
   "cell_type": "code",
   "execution_count": 74,
   "metadata": {
    "collapsed": true
   },
   "outputs": [],
   "source": [
    "import pandas as pd\n",
    "import numpy as np\n",
    "import sklearn\n",
    "import os "
   ]
  },
  {
   "cell_type": "markdown",
   "metadata": {},
   "source": [
    "### Загрузка данных"
   ]
  },
  {
   "cell_type": "code",
   "execution_count": 3,
   "metadata": {
    "collapsed": false
   },
   "outputs": [],
   "source": [
    "df_train = pd.read_csv('./data/tdc/credit_train.csv',encoding = 'cp1251',sep = ';')\n",
    "df_test = pd.read_csv('./data/tdc/credit_test.csv',encoding = 'cp1251',sep = ';')"
   ]
  },
  {
   "cell_type": "code",
   "execution_count": 4,
   "metadata": {
    "collapsed": false,
    "scrolled": true
   },
   "outputs": [
    {
     "data": {
      "text/html": [
       "<div>\n",
       "<table border=\"1\" class=\"dataframe\">\n",
       "  <thead>\n",
       "    <tr style=\"text-align: right;\">\n",
       "      <th></th>\n",
       "      <th>client_id</th>\n",
       "      <th>gender</th>\n",
       "      <th>age</th>\n",
       "      <th>marital_status</th>\n",
       "      <th>job_position</th>\n",
       "      <th>credit_sum</th>\n",
       "      <th>credit_month</th>\n",
       "      <th>tariff_id</th>\n",
       "      <th>score_shk</th>\n",
       "      <th>education</th>\n",
       "      <th>living_region</th>\n",
       "      <th>monthly_income</th>\n",
       "      <th>credit_count</th>\n",
       "      <th>overdue_credit_count</th>\n",
       "      <th>open_account_flg</th>\n",
       "    </tr>\n",
       "  </thead>\n",
       "  <tbody>\n",
       "    <tr>\n",
       "      <th>0</th>\n",
       "      <td>1</td>\n",
       "      <td>M</td>\n",
       "      <td>48</td>\n",
       "      <td>MAR</td>\n",
       "      <td>UMN</td>\n",
       "      <td>59998,00</td>\n",
       "      <td>10</td>\n",
       "      <td>1.6</td>\n",
       "      <td>0,770249</td>\n",
       "      <td>GRD</td>\n",
       "      <td>КРАСНОДАРСКИЙ КРАЙ</td>\n",
       "      <td>30000</td>\n",
       "      <td>1</td>\n",
       "      <td>1</td>\n",
       "      <td>0</td>\n",
       "    </tr>\n",
       "    <tr>\n",
       "      <th>1</th>\n",
       "      <td>2</td>\n",
       "      <td>F</td>\n",
       "      <td>28</td>\n",
       "      <td>MAR</td>\n",
       "      <td>UMN</td>\n",
       "      <td>10889,00</td>\n",
       "      <td>6</td>\n",
       "      <td>1.1</td>\n",
       "      <td>0,248514</td>\n",
       "      <td>GRD</td>\n",
       "      <td>МОСКВА</td>\n",
       "      <td>43000</td>\n",
       "      <td>2</td>\n",
       "      <td>0</td>\n",
       "      <td>0</td>\n",
       "    </tr>\n",
       "    <tr>\n",
       "      <th>2</th>\n",
       "      <td>3</td>\n",
       "      <td>M</td>\n",
       "      <td>32</td>\n",
       "      <td>MAR</td>\n",
       "      <td>SPC</td>\n",
       "      <td>10728,00</td>\n",
       "      <td>12</td>\n",
       "      <td>1.1</td>\n",
       "      <td>0,459589</td>\n",
       "      <td>SCH</td>\n",
       "      <td>ОБЛ САРАТОВСКАЯ</td>\n",
       "      <td>23000</td>\n",
       "      <td>5</td>\n",
       "      <td>0</td>\n",
       "      <td>0</td>\n",
       "    </tr>\n",
       "    <tr>\n",
       "      <th>3</th>\n",
       "      <td>4</td>\n",
       "      <td>F</td>\n",
       "      <td>27</td>\n",
       "      <td>DIV</td>\n",
       "      <td>SPC</td>\n",
       "      <td>12009,09</td>\n",
       "      <td>12</td>\n",
       "      <td>1.1</td>\n",
       "      <td>0,362536</td>\n",
       "      <td>GRD</td>\n",
       "      <td>ОБЛ ВОЛГОГРАДСКАЯ</td>\n",
       "      <td>17000</td>\n",
       "      <td>2</td>\n",
       "      <td>0</td>\n",
       "      <td>0</td>\n",
       "    </tr>\n",
       "    <tr>\n",
       "      <th>4</th>\n",
       "      <td>5</td>\n",
       "      <td>M</td>\n",
       "      <td>45</td>\n",
       "      <td>MAR</td>\n",
       "      <td>SPC</td>\n",
       "      <td>16908,89</td>\n",
       "      <td>10</td>\n",
       "      <td>1.1</td>\n",
       "      <td>0,421385</td>\n",
       "      <td>SCH</td>\n",
       "      <td>ЧЕЛЯБИНСКАЯ ОБЛАСТЬ</td>\n",
       "      <td>25000</td>\n",
       "      <td>1</td>\n",
       "      <td>0</td>\n",
       "      <td>0</td>\n",
       "    </tr>\n",
       "  </tbody>\n",
       "</table>\n",
       "</div>"
      ],
      "text/plain": [
       "   client_id gender  age marital_status job_position credit_sum  credit_month  \\\n",
       "0          1      M   48            MAR          UMN   59998,00            10   \n",
       "1          2      F   28            MAR          UMN   10889,00             6   \n",
       "2          3      M   32            MAR          SPC   10728,00            12   \n",
       "3          4      F   27            DIV          SPC   12009,09            12   \n",
       "4          5      M   45            MAR          SPC   16908,89            10   \n",
       "\n",
       "   tariff_id score_shk education        living_region  monthly_income  \\\n",
       "0        1.6  0,770249       GRD   КРАСНОДАРСКИЙ КРАЙ           30000   \n",
       "1        1.1  0,248514       GRD               МОСКВА           43000   \n",
       "2        1.1  0,459589       SCH      ОБЛ САРАТОВСКАЯ           23000   \n",
       "3        1.1  0,362536       GRD    ОБЛ ВОЛГОГРАДСКАЯ           17000   \n",
       "4        1.1  0,421385       SCH  ЧЕЛЯБИНСКАЯ ОБЛАСТЬ           25000   \n",
       "\n",
       "   credit_count  overdue_credit_count  open_account_flg  \n",
       "0             1                     1                 0  \n",
       "1             2                     0                 0  \n",
       "2             5                     0                 0  \n",
       "3             2                     0                 0  \n",
       "4             1                     0                 0  "
      ]
     },
     "execution_count": 4,
     "metadata": {},
     "output_type": "execute_result"
    }
   ],
   "source": [
    "df_train.head()"
   ]
  },
  {
   "cell_type": "markdown",
   "metadata": {},
   "source": [
    "###Обработка данных"
   ]
  },
  {
   "cell_type": "code",
   "execution_count": 5,
   "metadata": {
    "collapsed": false
   },
   "outputs": [],
   "source": [
    "def replace_comma(df,col_name):\n",
    "    '''\n",
    "    Replace comma by dot in col_name columns of df pandas DataFrame and transform into number.\n",
    "    '''\n",
    "    df[col_name] = df[col_name].map(lambda v:float(v.replace(',','.')))\n",
    "\n",
    "replace_comma(df_train,'credit_sum')\n",
    "replace_comma(df_train,'score_shk')\n",
    "replace_comma(df_test,'credit_sum')\n",
    "replace_comma(df_test,'score_shk')"
   ]
  },
  {
   "cell_type": "code",
   "execution_count": 6,
   "metadata": {
    "collapsed": false
   },
   "outputs": [
    {
     "data": {
      "text/plain": [
       "<matplotlib.axes._subplots.AxesSubplot at 0x7f788de008d0>"
      ]
     },
     "execution_count": 6,
     "metadata": {},
     "output_type": "execute_result"
    },
    {
     "data": {
      "image/png": "[encoded data removed]",
      "text/plain": [
       "<matplotlib.figure.Figure at 0x7f788dde4a50>"
      ]
     },
     "metadata": {},
     "output_type": "display_data"
    }
   ],
   "source": [
    "df_train.groupby('job_position')['credit_sum'].mean().plot('bar')"
   ]
  },
  {
   "cell_type": "code",
   "execution_count": 55,
   "metadata": {
    "collapsed": false
   },
   "outputs": [],
   "source": []
  },
  {
   "cell_type": "code",
   "execution_count": 68,
   "metadata": {
    "collapsed": false
   },
   "outputs": [
    {
     "data": {
      "text/plain": [
       "<matplotlib.text.Text at 0x7ffaae5ce910>"
      ]
     },
     "execution_count": 68,
     "metadata": {},
     "output_type": "execute_result"
    },
    {
     "data": {
      "image/png": "[encoded data removed]",
      "text/plain": [
       "<matplotlib.figure.Figure at 0x7ffaaec5dcd0>"
      ]
     },
     "metadata": {},
     "output_type": "display_data"
    }
   ],
   "source": [
    "#df_train.groupby('age')['monthly_income'].mean().plot('line')\n",
    "#fig, ax = plt.subplots(2, 1)\n",
    "dfp =  df_train.groupby('age')['monthly_income'].agg({'mean':np.mean,'cnt':np.size})\n",
    "\n",
    "ax = dfp[['cnt']].plot(kind=\"bar\",color = 'g',alpha = 0.5, width = 1,label = 'cnt')\n",
    "ax2 = ax.twinx()\n",
    "ax2.plot(ax.get_xticks(),dfp[['mean']],label = 'mean')   \n",
    "plt.xticks(rotation=0)\n",
    "plt.title(u'Средняя зарплата от возраста')\n"
   ]
  },
  {
   "cell_type": "code",
   "execution_count": 88,
   "metadata": {
    "collapsed": false
   },
   "outputs": [
    {
     "data": {
      "text/plain": [
       "<matplotlib.text.Text at 0x7ffaad422810>"
      ]
     },
     "execution_count": 88,
     "metadata": {},
     "output_type": "execute_result"
    },
    {
     "data": {
      "image/png": "[encoded data removed]",
      "text/plain": [
       "<matplotlib.figure.Figure at 0x7ffaad52e490>"
      ]
     },
     "metadata": {},
     "output_type": "display_data"
    }
   ],
   "source": [
    "def cast_int(v):\n",
    "    try:\n",
    "        return 10000 * min(int(v/10000),10)\n",
    "    except:\n",
    "        return None\n",
    "    \n",
    "dfp = df_train.groupby((df_train['monthly_income']).map(cast_int))['open_account_flg'].agg({'mean':np.mean,'cnt':np.size})\n",
    "ax = dfp[['cnt']].plot(kind=\"bar\",color = 'g',alpha = 0.5, width = 1,label = 'cnt')\n",
    "ax2 = ax.twinx()\n",
    "ax2.plot(ax.get_xticks(),dfp[['mean']],label = 'mean')   \n",
    "plt.xticks(rotation=0)\n",
    "plt.title(u'Доля заявок от зарплаты')\n",
    "\n",
    "#.mean().plot(title = u'Доля заявок от зарплаты')"
   ]
  },
  {
   "cell_type": "code",
   "execution_count": 111,
   "metadata": {
    "collapsed": false
   },
   "outputs": [],
   "source": [
    "#Преобразуем строковые категориальные факторы в числовые\n",
    "df_train['tariff_id_str'] = df_train['tariff_id'].astype(str)\n",
    "df_test['tariff_id_str'] = df_test['tariff_id'].astype(str)\n",
    "\n",
    "str_cols = ['gender','marital_status','job_position','education','living_region','tariff_id_str']\n",
    "\n",
    "df_train1 = pd.get_dummies(df_train, columns = str_cols)\n",
    "df_test1 = pd.get_dummies(df_test, columns = str_cols)"
   ]
  },
  {
   "cell_type": "code",
   "execution_count": 81,
   "metadata": {
    "collapsed": false,
    "scrolled": false
   },
   "outputs": [],
   "source": [
    "feat_cols = [c for c in df_train1.columns if c not in ['client_id','open_account_flg'] + str_cols ]\n",
    "label = 'open_account_flg'\n",
    "\n",
    "train_idx, valid_idx = sklearn.model_selection.train_test_split(df_train1.index,test_size = 0.3)"
   ]
  },
  {
   "cell_type": "code",
   "execution_count": 85,
   "metadata": {
    "collapsed": false,
    "scrolled": true
   },
   "outputs": [
    {
     "data": {
      "text/plain": [
       "LogisticRegression(C=1.0, class_weight=None, dual=False, fit_intercept=True,\n",
       "          intercept_scaling=1, max_iter=100, multi_class='ovr', n_jobs=1,\n",
       "          penalty='l2', random_state=None, solver='liblinear', tol=0.0001,\n",
       "          verbose=0, warm_start=False)"
      ]
     },
     "execution_count": 85,
     "metadata": {},
     "output_type": "execute_result"
    }
   ],
   "source": [
    "import sklearn.linear_model\n",
    "clfLR = sklearn.linear_model.LogisticRegression()\n",
    "\n",
    "clfLR.fit(df_train1.loc[train_idx,feat_cols].fillna(-100), df_train1.loc[train_idx,label])"
   ]
  },
  {
   "cell_type": "code",
   "execution_count": 125,
   "metadata": {
    "collapsed": false
   },
   "outputs": [
    {
     "name": "stdout",
     "output_type": "stream",
     "text": [
      "Logistic regression withou normalization AUC ROC on valid data: 0.5729\n"
     ]
    }
   ],
   "source": [
    "#import sklearn.metrics.roc_auc_score\n",
    "print('Logistic regression without normalization AUC ROC on valid data: {:.4f}'.format(\n",
    "    sklearn.metrics.roc_auc_score(\n",
    "            y_true  = df_train1.loc[valid_idx,label],\n",
    "            y_score = clfLR.predict_proba(df_train1.loc[valid_idx,feat_cols].fillna(-100))[:,1]\n",
    "    )\n",
    "))\n"
   ]
  },
  {
   "cell_type": "code",
   "execution_count": null,
   "metadata": {
    "collapsed": true
   },
   "outputs": [],
   "source": []
  },
  {
   "cell_type": "markdown",
   "metadata": {},
   "source": [
    "### LightGBM"
   ]
  },
  {
   "cell_type": "code",
   "execution_count": 121,
   "metadata": {
    "collapsed": false,
    "scrolled": true
   },
   "outputs": [
    {
     "name": "stdout",
     "output_type": "stream",
     "text": [
      "pyLightGBM is looking for 'LIGHTGBM_EXEC' environment variable, cannot be found.\n",
      "exec_path will be deprecated in favor of environment variable\n"
     ]
    }
   ],
   "source": [
    "import pylightgbm\n",
    "from pylightgbm.models import GBMClassifier\n",
    "\n",
    "# full path to lightgbm executable (on Windows include .exe)\n",
    "lgbm_exec_path = \"/opt/share/LightGBM-master/lightgbm\"\n",
    "\n",
    "clfGBM = GBMClassifier(exec_path=lgbm_exec_path,num_iterations=200, verbose = False)\n",
    "clfGBM.fit(df_train1.loc[train_idx,feat_cols], df_train1.loc[train_idx,label])"
   ]
  },
  {
   "cell_type": "code",
   "execution_count": 123,
   "metadata": {
    "collapsed": false
   },
   "outputs": [
    {
     "name": "stdout",
     "output_type": "stream",
     "text": [
      "LightGBM AUC ROC on valid data: 0.7589\n"
     ]
    }
   ],
   "source": [
    "print('LightGBM AUC ROC on valid data: {:.4f}'.format(\n",
    "    sklearn.metrics.roc_auc_score(\n",
    "            y_true  = df_train1.loc[valid_idx,label],\n",
    "            y_score = clfGBM.predict_proba(df_train1.loc[valid_idx,feat_cols])[:,1]\n",
    "    )\n",
    "))\n"
   ]
  },
  {
   "cell_type": "code",
   "execution_count": 113,
   "metadata": {
    "collapsed": false
   },
   "outputs": [],
   "source": [
    "import xgboost as xgb\n",
    "dtrain_xgb = xgb.DMatrix( df_train1.loc[train_idx,feat_cols], label = df_train1.loc[train_idx,label], missing = np.nan)\n",
    "dvalid_xgb = xgb.DMatrix( df_train1.loc[valid_idx,feat_cols], label = df_train1.loc[valid_idx,label], missing = np.nan)\n",
    "dtest_xgb  = xgb.DMatrix( df_test1.loc[:,feat_cols], missing = np.nan)"
   ]
  },
  {
   "cell_type": "code",
   "execution_count": 109,
   "metadata": {
    "collapsed": false
   },
   "outputs": [
    {
     "name": "stderr",
     "output_type": "stream",
     "text": [
      "Will train until valid error hasn't decreased in 20 rounds.\n",
      "Multiple eval metrics have been passed: 'auc' will be used for early stopping.\n",
      "\n",
      "[0]\ttrain-logloss:0.674156\ttrain-auc:0.722228\tvalid-logloss:0.674290\tvalid-auc:0.718668\n",
      "[1]\ttrain-logloss:0.656642\ttrain-auc:0.722845\tvalid-logloss:0.656905\tvalid-auc:0.719338\n",
      "[2]\ttrain-logloss:0.640426\ttrain-auc:0.727059\tvalid-logloss:0.640840\tvalid-auc:0.723589\n",
      "[3]\ttrain-logloss:0.625420\ttrain-auc:0.728548\tvalid-logloss:0.626019\tvalid-auc:0.724640\n",
      "[4]\ttrain-logloss:0.611466\ttrain-auc:0.732169\tvalid-logloss:0.612193\tvalid-auc:0.727402\n",
      "[5]\ttrain-logloss:0.598464\ttrain-auc:0.732508\tvalid-logloss:0.599370\tvalid-auc:0.727781\n",
      "[6]\ttrain-logloss:0.586427\ttrain-auc:0.733408\tvalid-logloss:0.587459\tvalid-auc:0.728255\n",
      "[7]\ttrain-logloss:0.575186\ttrain-auc:0.733944\tvalid-logloss:0.576384\tvalid-auc:0.728587\n",
      "[8]\ttrain-logloss:0.564687\ttrain-auc:0.734253\tvalid-logloss:0.566014\tvalid-auc:0.728922\n",
      "[9]\ttrain-logloss:0.554947\ttrain-auc:0.734776\tvalid-logloss:0.556406\tvalid-auc:0.729430\n",
      "[10]\ttrain-logloss:0.545758\ttrain-auc:0.735507\tvalid-logloss:0.547322\tvalid-auc:0.730094\n",
      "[11]\ttrain-logloss:0.537235\ttrain-auc:0.735918\tvalid-logloss:0.538909\tvalid-auc:0.730449\n",
      "[12]\ttrain-logloss:0.529226\ttrain-auc:0.736729\tvalid-logloss:0.530979\tvalid-auc:0.731008\n",
      "[13]\ttrain-logloss:0.521776\ttrain-auc:0.738532\tvalid-logloss:0.523652\tvalid-auc:0.732646\n",
      "[14]\ttrain-logloss:0.514774\ttrain-auc:0.739413\tvalid-logloss:0.516742\tvalid-auc:0.733563\n",
      "[15]\ttrain-logloss:0.508132\ttrain-auc:0.739518\tvalid-logloss:0.510237\tvalid-auc:0.733588\n",
      "[16]\ttrain-logloss:0.501934\ttrain-auc:0.740422\tvalid-logloss:0.504155\tvalid-auc:0.734425\n",
      "[17]\ttrain-logloss:0.496186\ttrain-auc:0.740646\tvalid-logloss:0.498489\tvalid-auc:0.734609\n",
      "[18]\ttrain-logloss:0.490765\ttrain-auc:0.741235\tvalid-logloss:0.493197\tvalid-auc:0.735141\n",
      "[19]\ttrain-logloss:0.485646\ttrain-auc:0.741272\tvalid-logloss:0.488173\tvalid-auc:0.735098\n",
      "[20]\ttrain-logloss:0.480841\ttrain-auc:0.742439\tvalid-logloss:0.483519\tvalid-auc:0.735965\n",
      "[21]\ttrain-logloss:0.476300\ttrain-auc:0.742399\tvalid-logloss:0.479107\tvalid-auc:0.735793\n",
      "[22]\ttrain-logloss:0.472034\ttrain-auc:0.742984\tvalid-logloss:0.474936\tvalid-auc:0.736347\n",
      "[23]\ttrain-logloss:0.468042\ttrain-auc:0.743314\tvalid-logloss:0.471071\tvalid-auc:0.736551\n",
      "[24]\ttrain-logloss:0.464284\ttrain-auc:0.743685\tvalid-logloss:0.467466\tvalid-auc:0.736661\n",
      "[25]\ttrain-logloss:0.460712\ttrain-auc:0.744447\tvalid-logloss:0.463990\tvalid-auc:0.737422\n",
      "[26]\ttrain-logloss:0.457342\ttrain-auc:0.744659\tvalid-logloss:0.460749\tvalid-auc:0.737578\n",
      "[27]\ttrain-logloss:0.454223\ttrain-auc:0.745172\tvalid-logloss:0.457717\tvalid-auc:0.737904\n",
      "[28]\ttrain-logloss:0.451259\ttrain-auc:0.745373\tvalid-logloss:0.454850\tvalid-auc:0.738051\n",
      "[29]\ttrain-logloss:0.448456\ttrain-auc:0.745522\tvalid-logloss:0.452170\tvalid-auc:0.738033\n",
      "[30]\ttrain-logloss:0.445688\ttrain-auc:0.747790\tvalid-logloss:0.449528\tvalid-auc:0.740303\n",
      "[31]\ttrain-logloss:0.443082\ttrain-auc:0.749347\tvalid-logloss:0.447027\tvalid-auc:0.741669\n",
      "[32]\ttrain-logloss:0.440616\ttrain-auc:0.750884\tvalid-logloss:0.444676\tvalid-auc:0.743064\n",
      "[33]\ttrain-logloss:0.438318\ttrain-auc:0.751657\tvalid-logloss:0.442469\tvalid-auc:0.743721\n",
      "[34]\ttrain-logloss:0.436145\ttrain-auc:0.752632\tvalid-logloss:0.440402\tvalid-auc:0.744562\n",
      "[35]\ttrain-logloss:0.434087\ttrain-auc:0.753245\tvalid-logloss:0.438458\tvalid-auc:0.744963\n",
      "[36]\ttrain-logloss:0.432130\ttrain-auc:0.753979\tvalid-logloss:0.436592\tvalid-auc:0.745645\n",
      "[37]\ttrain-logloss:0.430287\ttrain-auc:0.754473\tvalid-logloss:0.434864\tvalid-auc:0.746155\n",
      "[38]\ttrain-logloss:0.428538\ttrain-auc:0.754886\tvalid-logloss:0.433215\tvalid-auc:0.746560\n",
      "[39]\ttrain-logloss:0.426865\ttrain-auc:0.755308\tvalid-logloss:0.431663\tvalid-auc:0.746909\n",
      "[40]\ttrain-logloss:0.425327\ttrain-auc:0.755849\tvalid-logloss:0.430224\tvalid-auc:0.747291\n",
      "[41]\ttrain-logloss:0.423846\ttrain-auc:0.756431\tvalid-logloss:0.428834\tvalid-auc:0.747882\n",
      "[42]\ttrain-logloss:0.422453\ttrain-auc:0.756802\tvalid-logloss:0.427536\tvalid-auc:0.748197\n",
      "[43]\ttrain-logloss:0.421138\ttrain-auc:0.757197\tvalid-logloss:0.426305\tvalid-auc:0.748510\n",
      "[44]\ttrain-logloss:0.419879\ttrain-auc:0.757905\tvalid-logloss:0.425133\tvalid-auc:0.749122\n",
      "[45]\ttrain-logloss:0.418688\ttrain-auc:0.758211\tvalid-logloss:0.424043\tvalid-auc:0.749388\n",
      "[46]\ttrain-logloss:0.417562\ttrain-auc:0.758869\tvalid-logloss:0.423022\tvalid-auc:0.749837\n",
      "[47]\ttrain-logloss:0.416505\ttrain-auc:0.759267\tvalid-logloss:0.422037\tvalid-auc:0.750169\n",
      "[48]\ttrain-logloss:0.415464\ttrain-auc:0.759849\tvalid-logloss:0.421080\tvalid-auc:0.750670\n",
      "[49]\ttrain-logloss:0.414446\ttrain-auc:0.760529\tvalid-logloss:0.420198\tvalid-auc:0.751149\n",
      "[50]\ttrain-logloss:0.413544\ttrain-auc:0.760913\tvalid-logloss:0.419361\tvalid-auc:0.751427\n",
      "[51]\ttrain-logloss:0.412688\ttrain-auc:0.761252\tvalid-logloss:0.418585\tvalid-auc:0.751744\n",
      "[52]\ttrain-logloss:0.411831\ttrain-auc:0.761786\tvalid-logloss:0.417843\tvalid-auc:0.752219\n",
      "[53]\ttrain-logloss:0.411016\ttrain-auc:0.762041\tvalid-logloss:0.417152\tvalid-auc:0.752295\n",
      "[54]\ttrain-logloss:0.410260\ttrain-auc:0.762469\tvalid-logloss:0.416491\tvalid-auc:0.752577\n",
      "[55]\ttrain-logloss:0.409522\ttrain-auc:0.762951\tvalid-logloss:0.415877\tvalid-auc:0.752964\n",
      "[56]\ttrain-logloss:0.408790\ttrain-auc:0.763382\tvalid-logloss:0.415265\tvalid-auc:0.753190\n",
      "[57]\ttrain-logloss:0.408120\ttrain-auc:0.763711\tvalid-logloss:0.414685\tvalid-auc:0.753383\n",
      "[58]\ttrain-logloss:0.407488\ttrain-auc:0.764016\tvalid-logloss:0.414150\tvalid-auc:0.753545\n",
      "[59]\ttrain-logloss:0.406963\ttrain-auc:0.764291\tvalid-logloss:0.413664\tvalid-auc:0.753854\n",
      "[60]\ttrain-logloss:0.406352\ttrain-auc:0.764647\tvalid-logloss:0.413174\tvalid-auc:0.753989\n",
      "[61]\ttrain-logloss:0.405870\ttrain-auc:0.764931\tvalid-logloss:0.412726\tvalid-auc:0.754307\n",
      "[62]\ttrain-logloss:0.405367\ttrain-auc:0.765284\tvalid-logloss:0.412297\tvalid-auc:0.754564\n",
      "[63]\ttrain-logloss:0.404833\ttrain-auc:0.765583\tvalid-logloss:0.411858\tvalid-auc:0.754712\n",
      "[64]\ttrain-logloss:0.404363\ttrain-auc:0.766004\tvalid-logloss:0.411443\tvalid-auc:0.755074\n",
      "[65]\ttrain-logloss:0.403936\ttrain-auc:0.766343\tvalid-logloss:0.411100\tvalid-auc:0.755261\n",
      "[66]\ttrain-logloss:0.403458\ttrain-auc:0.766583\tvalid-logloss:0.410730\tvalid-auc:0.755345\n",
      "[67]\ttrain-logloss:0.403040\ttrain-auc:0.766986\tvalid-logloss:0.410375\tvalid-auc:0.755643\n",
      "[68]\ttrain-logloss:0.402651\ttrain-auc:0.767172\tvalid-logloss:0.410057\tvalid-auc:0.755746\n",
      "[69]\ttrain-logloss:0.402233\ttrain-auc:0.767528\tvalid-logloss:0.409761\tvalid-auc:0.755868\n",
      "[70]\ttrain-logloss:0.401811\ttrain-auc:0.767743\tvalid-logloss:0.409424\tvalid-auc:0.755939\n",
      "[71]\ttrain-logloss:0.401484\ttrain-auc:0.767951\tvalid-logloss:0.409149\tvalid-auc:0.756090\n",
      "[72]\ttrain-logloss:0.401090\ttrain-auc:0.768247\tvalid-logloss:0.408864\tvalid-auc:0.756238\n",
      "[73]\ttrain-logloss:0.400712\ttrain-auc:0.768513\tvalid-logloss:0.408504\tvalid-auc:0.756529\n",
      "[74]\ttrain-logloss:0.400354\ttrain-auc:0.768780\tvalid-logloss:0.408245\tvalid-auc:0.756627\n",
      "[75]\ttrain-logloss:0.400075\ttrain-auc:0.768976\tvalid-logloss:0.408042\tvalid-auc:0.756731\n",
      "[76]\ttrain-logloss:0.399687\ttrain-auc:0.769424\tvalid-logloss:0.407779\tvalid-auc:0.756968\n",
      "[77]\ttrain-logloss:0.399402\ttrain-auc:0.769647\tvalid-logloss:0.407550\tvalid-auc:0.757092\n",
      "[78]\ttrain-logloss:0.399083\ttrain-auc:0.769943\tvalid-logloss:0.407299\tvalid-auc:0.757301\n",
      "[79]\ttrain-logloss:0.398816\ttrain-auc:0.770175\tvalid-logloss:0.407104\tvalid-auc:0.757408\n",
      "[80]\ttrain-logloss:0.398498\ttrain-auc:0.770334\tvalid-logloss:0.406868\tvalid-auc:0.757484\n",
      "[81]\ttrain-logloss:0.398255\ttrain-auc:0.770552\tvalid-logloss:0.406679\tvalid-auc:0.757650\n",
      "[82]\ttrain-logloss:0.397969\ttrain-auc:0.770799\tvalid-logloss:0.406489\tvalid-auc:0.757721\n",
      "[83]\ttrain-logloss:0.397698\ttrain-auc:0.771107\tvalid-logloss:0.406301\tvalid-auc:0.757918\n",
      "[84]\ttrain-logloss:0.397475\ttrain-auc:0.771333\tvalid-logloss:0.406130\tvalid-auc:0.758088\n",
      "[85]\ttrain-logloss:0.397230\ttrain-auc:0.771626\tvalid-logloss:0.405964\tvalid-auc:0.758261\n",
      "[86]\ttrain-logloss:0.396956\ttrain-auc:0.771780\tvalid-logloss:0.405762\tvalid-auc:0.758332\n",
      "[87]\ttrain-logloss:0.396727\ttrain-auc:0.772058\tvalid-logloss:0.405615\tvalid-auc:0.758465\n",
      "[88]\ttrain-logloss:0.396494\ttrain-auc:0.772320\tvalid-logloss:0.405448\tvalid-auc:0.758640\n",
      "[89]\ttrain-logloss:0.396244\ttrain-auc:0.772496\tvalid-logloss:0.405212\tvalid-auc:0.758838\n",
      "[90]\ttrain-logloss:0.396006\ttrain-auc:0.772668\tvalid-logloss:0.405035\tvalid-auc:0.758952\n",
      "[91]\ttrain-logloss:0.395791\ttrain-auc:0.772907\tvalid-logloss:0.404901\tvalid-auc:0.759058\n",
      "[92]\ttrain-logloss:0.395570\ttrain-auc:0.773178\tvalid-logloss:0.404766\tvalid-auc:0.759170\n",
      "[93]\ttrain-logloss:0.395373\ttrain-auc:0.773272\tvalid-logloss:0.404629\tvalid-auc:0.759197\n",
      "[94]\ttrain-logloss:0.395156\ttrain-auc:0.773542\tvalid-logloss:0.404493\tvalid-auc:0.759345\n",
      "[95]\ttrain-logloss:0.394964\ttrain-auc:0.773808\tvalid-logloss:0.404392\tvalid-auc:0.759443\n",
      "[96]\ttrain-logloss:0.394794\ttrain-auc:0.773913\tvalid-logloss:0.404243\tvalid-auc:0.759561\n",
      "[97]\ttrain-logloss:0.394565\ttrain-auc:0.774219\tvalid-logloss:0.404117\tvalid-auc:0.759686\n",
      "[98]\ttrain-logloss:0.394392\ttrain-auc:0.774361\tvalid-logloss:0.404031\tvalid-auc:0.759762\n",
      "[99]\ttrain-logloss:0.394218\ttrain-auc:0.774506\tvalid-logloss:0.403942\tvalid-auc:0.759789\n",
      "[100]\ttrain-logloss:0.394029\ttrain-auc:0.774771\tvalid-logloss:0.403844\tvalid-auc:0.759902\n",
      "[101]\ttrain-logloss:0.393837\ttrain-auc:0.775012\tvalid-logloss:0.403746\tvalid-auc:0.759989\n",
      "[102]\ttrain-logloss:0.393699\ttrain-auc:0.775180\tvalid-logloss:0.403680\tvalid-auc:0.760054\n",
      "[103]\ttrain-logloss:0.393492\ttrain-auc:0.775363\tvalid-logloss:0.403531\tvalid-auc:0.760144\n",
      "[104]\ttrain-logloss:0.393311\ttrain-auc:0.775578\tvalid-logloss:0.403443\tvalid-auc:0.760208\n",
      "[105]\ttrain-logloss:0.393154\ttrain-auc:0.775819\tvalid-logloss:0.403374\tvalid-auc:0.760279\n",
      "[106]\ttrain-logloss:0.393015\ttrain-auc:0.775937\tvalid-logloss:0.403261\tvalid-auc:0.760361\n",
      "[107]\ttrain-logloss:0.392820\ttrain-auc:0.776225\tvalid-logloss:0.403173\tvalid-auc:0.760445\n",
      "[108]\ttrain-logloss:0.392673\ttrain-auc:0.776435\tvalid-logloss:0.403099\tvalid-auc:0.760529\n",
      "[109]\ttrain-logloss:0.392532\ttrain-auc:0.776604\tvalid-logloss:0.403000\tvalid-auc:0.760656\n",
      "[110]\ttrain-logloss:0.392401\ttrain-auc:0.776791\tvalid-logloss:0.402953\tvalid-auc:0.760712\n",
      "[111]\ttrain-logloss:0.392277\ttrain-auc:0.776885\tvalid-logloss:0.402850\tvalid-auc:0.760786\n",
      "[112]\ttrain-logloss:0.392127\ttrain-auc:0.777009\tvalid-logloss:0.402789\tvalid-auc:0.760846\n",
      "[113]\ttrain-logloss:0.392037\ttrain-auc:0.777117\tvalid-logloss:0.402743\tvalid-auc:0.760884\n",
      "[114]\ttrain-logloss:0.391899\ttrain-auc:0.777297\tvalid-logloss:0.402683\tvalid-auc:0.760921\n",
      "[115]\ttrain-logloss:0.391776\ttrain-auc:0.777483\tvalid-logloss:0.402628\tvalid-auc:0.760990\n",
      "[116]\ttrain-logloss:0.391646\ttrain-auc:0.777634\tvalid-logloss:0.402539\tvalid-auc:0.761090\n",
      "[117]\ttrain-logloss:0.391548\ttrain-auc:0.777779\tvalid-logloss:0.402483\tvalid-auc:0.761170\n",
      "[118]\ttrain-logloss:0.391444\ttrain-auc:0.777889\tvalid-logloss:0.402444\tvalid-auc:0.761215\n",
      "[119]\ttrain-logloss:0.391315\ttrain-auc:0.777976\tvalid-logloss:0.402344\tvalid-auc:0.761287\n",
      "[120]\ttrain-logloss:0.391215\ttrain-auc:0.778108\tvalid-logloss:0.402287\tvalid-auc:0.761358\n",
      "[121]\ttrain-logloss:0.391091\ttrain-auc:0.778296\tvalid-logloss:0.402239\tvalid-auc:0.761413\n",
      "[122]\ttrain-logloss:0.390988\ttrain-auc:0.778444\tvalid-logloss:0.402206\tvalid-auc:0.761451\n",
      "[123]\ttrain-logloss:0.390905\ttrain-auc:0.778596\tvalid-logloss:0.402170\tvalid-auc:0.761520\n",
      "[124]\ttrain-logloss:0.390804\ttrain-auc:0.778697\tvalid-logloss:0.402117\tvalid-auc:0.761586\n",
      "[125]\ttrain-logloss:0.390688\ttrain-auc:0.778893\tvalid-logloss:0.402067\tvalid-auc:0.761650\n",
      "[126]\ttrain-logloss:0.390581\ttrain-auc:0.779029\tvalid-logloss:0.402026\tvalid-auc:0.761668\n",
      "[127]\ttrain-logloss:0.390505\ttrain-auc:0.779120\tvalid-logloss:0.401967\tvalid-auc:0.761739\n",
      "[128]\ttrain-logloss:0.390381\ttrain-auc:0.779303\tvalid-logloss:0.401921\tvalid-auc:0.761794\n",
      "[129]\ttrain-logloss:0.390267\ttrain-auc:0.779461\tvalid-logloss:0.401882\tvalid-auc:0.761825\n",
      "[130]\ttrain-logloss:0.390155\ttrain-auc:0.779614\tvalid-logloss:0.401818\tvalid-auc:0.761911\n",
      "[131]\ttrain-logloss:0.390056\ttrain-auc:0.779714\tvalid-logloss:0.401755\tvalid-auc:0.761978\n",
      "[132]\ttrain-logloss:0.389984\ttrain-auc:0.779833\tvalid-logloss:0.401719\tvalid-auc:0.762032\n",
      "[133]\ttrain-logloss:0.389890\ttrain-auc:0.779976\tvalid-logloss:0.401679\tvalid-auc:0.762081\n",
      "[134]\ttrain-logloss:0.389788\ttrain-auc:0.780065\tvalid-logloss:0.401589\tvalid-auc:0.762185\n",
      "[135]\ttrain-logloss:0.389668\ttrain-auc:0.780235\tvalid-logloss:0.401527\tvalid-auc:0.762272\n",
      "[136]\ttrain-logloss:0.389574\ttrain-auc:0.780373\tvalid-logloss:0.401508\tvalid-auc:0.762305\n",
      "[137]\ttrain-logloss:0.389499\ttrain-auc:0.780481\tvalid-logloss:0.401459\tvalid-auc:0.762375\n",
      "[138]\ttrain-logloss:0.389372\ttrain-auc:0.780606\tvalid-logloss:0.401390\tvalid-auc:0.762438\n",
      "[139]\ttrain-logloss:0.389319\ttrain-auc:0.780670\tvalid-logloss:0.401363\tvalid-auc:0.762464\n",
      "[140]\ttrain-logloss:0.389210\ttrain-auc:0.780809\tvalid-logloss:0.401320\tvalid-auc:0.762495\n",
      "[141]\ttrain-logloss:0.389156\ttrain-auc:0.780908\tvalid-logloss:0.401288\tvalid-auc:0.762551\n",
      "[142]\ttrain-logloss:0.389066\ttrain-auc:0.781039\tvalid-logloss:0.401268\tvalid-auc:0.762590\n",
      "[143]\ttrain-logloss:0.389009\ttrain-auc:0.781105\tvalid-logloss:0.401239\tvalid-auc:0.762617\n",
      "[144]\ttrain-logloss:0.388900\ttrain-auc:0.781268\tvalid-logloss:0.401192\tvalid-auc:0.762682\n",
      "[145]\ttrain-logloss:0.388791\ttrain-auc:0.781391\tvalid-logloss:0.401137\tvalid-auc:0.762741\n",
      "[146]\ttrain-logloss:0.388661\ttrain-auc:0.781554\tvalid-logloss:0.401050\tvalid-auc:0.762856\n",
      "[147]\ttrain-logloss:0.388540\ttrain-auc:0.781745\tvalid-logloss:0.401006\tvalid-auc:0.762922\n",
      "[148]\ttrain-logloss:0.388448\ttrain-auc:0.781913\tvalid-logloss:0.400975\tvalid-auc:0.762967\n",
      "[149]\ttrain-logloss:0.388329\ttrain-auc:0.782086\tvalid-logloss:0.400903\tvalid-auc:0.763082\n",
      "[150]\ttrain-logloss:0.388275\ttrain-auc:0.782193\tvalid-logloss:0.400870\tvalid-auc:0.763145\n",
      "[151]\ttrain-logloss:0.388167\ttrain-auc:0.782356\tvalid-logloss:0.400827\tvalid-auc:0.763195\n",
      "[152]\ttrain-logloss:0.388117\ttrain-auc:0.782422\tvalid-logloss:0.400802\tvalid-auc:0.763237\n",
      "[153]\ttrain-logloss:0.387999\ttrain-auc:0.782556\tvalid-logloss:0.400733\tvalid-auc:0.763310\n",
      "[154]\ttrain-logloss:0.387879\ttrain-auc:0.782710\tvalid-logloss:0.400687\tvalid-auc:0.763342\n",
      "[155]\ttrain-logloss:0.387793\ttrain-auc:0.782809\tvalid-logloss:0.400647\tvalid-auc:0.763372\n",
      "[156]\ttrain-logloss:0.387684\ttrain-auc:0.782959\tvalid-logloss:0.400595\tvalid-auc:0.763452\n",
      "[157]\ttrain-logloss:0.387634\ttrain-auc:0.783046\tvalid-logloss:0.400569\tvalid-auc:0.763500\n",
      "[158]\ttrain-logloss:0.387562\ttrain-auc:0.783147\tvalid-logloss:0.400559\tvalid-auc:0.763525\n",
      "[159]\ttrain-logloss:0.387454\ttrain-auc:0.783277\tvalid-logloss:0.400503\tvalid-auc:0.763585\n",
      "[160]\ttrain-logloss:0.387390\ttrain-auc:0.783365\tvalid-logloss:0.400474\tvalid-auc:0.763623\n",
      "[161]\ttrain-logloss:0.387308\ttrain-auc:0.783490\tvalid-logloss:0.400440\tvalid-auc:0.763671\n",
      "[162]\ttrain-logloss:0.387226\ttrain-auc:0.783589\tvalid-logloss:0.400404\tvalid-auc:0.763710\n",
      "[163]\ttrain-logloss:0.387148\ttrain-auc:0.783705\tvalid-logloss:0.400379\tvalid-auc:0.763731\n",
      "[164]\ttrain-logloss:0.387108\ttrain-auc:0.783780\tvalid-logloss:0.400364\tvalid-auc:0.763765\n",
      "[165]\ttrain-logloss:0.387060\ttrain-auc:0.783830\tvalid-logloss:0.400343\tvalid-auc:0.763787\n",
      "[166]\ttrain-logloss:0.386973\ttrain-auc:0.783957\tvalid-logloss:0.400318\tvalid-auc:0.763817\n",
      "[167]\ttrain-logloss:0.386885\ttrain-auc:0.784058\tvalid-logloss:0.400295\tvalid-auc:0.763834\n",
      "[168]\ttrain-logloss:0.386821\ttrain-auc:0.784152\tvalid-logloss:0.400261\tvalid-auc:0.763894\n",
      "[169]\ttrain-logloss:0.386765\ttrain-auc:0.784233\tvalid-logloss:0.400239\tvalid-auc:0.763929\n",
      "[170]\ttrain-logloss:0.386651\ttrain-auc:0.784359\tvalid-logloss:0.400183\tvalid-auc:0.763978\n",
      "[171]\ttrain-logloss:0.386597\ttrain-auc:0.784433\tvalid-logloss:0.400166\tvalid-auc:0.763987\n",
      "[172]\ttrain-logloss:0.386539\ttrain-auc:0.784503\tvalid-logloss:0.400149\tvalid-auc:0.764000\n",
      "[173]\ttrain-logloss:0.386484\ttrain-auc:0.784597\tvalid-logloss:0.400119\tvalid-auc:0.764056\n",
      "[174]\ttrain-logloss:0.386389\ttrain-auc:0.784712\tvalid-logloss:0.400083\tvalid-auc:0.764099\n",
      "[175]\ttrain-logloss:0.386348\ttrain-auc:0.784774\tvalid-logloss:0.400054\tvalid-auc:0.764147\n",
      "[176]\ttrain-logloss:0.386279\ttrain-auc:0.784870\tvalid-logloss:0.400038\tvalid-auc:0.764156\n",
      "[177]\ttrain-logloss:0.386185\ttrain-auc:0.785008\tvalid-logloss:0.400025\tvalid-auc:0.764160\n",
      "[178]\ttrain-logloss:0.386144\ttrain-auc:0.785055\tvalid-logloss:0.400004\tvalid-auc:0.764188\n",
      "[179]\ttrain-logloss:0.386085\ttrain-auc:0.785122\tvalid-logloss:0.399980\tvalid-auc:0.764210\n",
      "[180]\ttrain-logloss:0.386036\ttrain-auc:0.785195\tvalid-logloss:0.399973\tvalid-auc:0.764226\n",
      "[181]\ttrain-logloss:0.385948\ttrain-auc:0.785329\tvalid-logloss:0.399944\tvalid-auc:0.764268\n",
      "[182]\ttrain-logloss:0.385896\ttrain-auc:0.785400\tvalid-logloss:0.399932\tvalid-auc:0.764290\n",
      "[183]\ttrain-logloss:0.385848\ttrain-auc:0.785452\tvalid-logloss:0.399914\tvalid-auc:0.764294\n",
      "[184]\ttrain-logloss:0.385760\ttrain-auc:0.785560\tvalid-logloss:0.399878\tvalid-auc:0.764334\n",
      "[185]\ttrain-logloss:0.385715\ttrain-auc:0.785617\tvalid-logloss:0.399855\tvalid-auc:0.764368\n",
      "[186]\ttrain-logloss:0.385642\ttrain-auc:0.785700\tvalid-logloss:0.399841\tvalid-auc:0.764379\n",
      "[187]\ttrain-logloss:0.385574\ttrain-auc:0.785801\tvalid-logloss:0.399814\tvalid-auc:0.764421\n",
      "[188]\ttrain-logloss:0.385526\ttrain-auc:0.785886\tvalid-logloss:0.399794\tvalid-auc:0.764455\n",
      "[189]\ttrain-logloss:0.385487\ttrain-auc:0.785925\tvalid-logloss:0.399776\tvalid-auc:0.764475\n",
      "[190]\ttrain-logloss:0.385416\ttrain-auc:0.786005\tvalid-logloss:0.399748\tvalid-auc:0.764498\n",
      "[191]\ttrain-logloss:0.385384\ttrain-auc:0.786051\tvalid-logloss:0.399731\tvalid-auc:0.764529\n",
      "[192]\ttrain-logloss:0.385284\ttrain-auc:0.786193\tvalid-logloss:0.399705\tvalid-auc:0.764542\n",
      "[193]\ttrain-logloss:0.385206\ttrain-auc:0.786317\tvalid-logloss:0.399692\tvalid-auc:0.764552\n",
      "[194]\ttrain-logloss:0.385152\ttrain-auc:0.786396\tvalid-logloss:0.399674\tvalid-auc:0.764579\n",
      "[195]\ttrain-logloss:0.385115\ttrain-auc:0.786453\tvalid-logloss:0.399661\tvalid-auc:0.764592\n",
      "[196]\ttrain-logloss:0.385056\ttrain-auc:0.786531\tvalid-logloss:0.399627\tvalid-auc:0.764644\n",
      "[197]\ttrain-logloss:0.385003\ttrain-auc:0.786613\tvalid-logloss:0.399608\tvalid-auc:0.764672\n",
      "[198]\ttrain-logloss:0.384948\ttrain-auc:0.786692\tvalid-logloss:0.399578\tvalid-auc:0.764710\n"
     ]
    },
    {
     "name": "stdout",
     "output_type": "stream",
     "text": [
      "199\n"
     ]
    },
    {
     "name": "stderr",
     "output_type": "stream",
     "text": [
      "[199]\ttrain-logloss:0.384879\ttrain-auc:0.786782\tvalid-logloss:0.399547\tvalid-auc:0.764745\n"
     ]
    }
   ],
   "source": [
    "\n",
    "param = {\n",
    "    'bst:max_depth': 6,     \n",
    "    'silent': 1, \n",
    "    'objective':'binary:logistic', \n",
    "    'alpha': 1, \n",
    "    'tree_method':'approx',\n",
    "    'learning_rate': 0.04,\n",
    "    'eval_metric' : ['logloss','auc']\n",
    "}\n",
    "#'bst:eta':1, \n",
    "#    'tree_method':'approx',\n",
    "evallist  = [ (dtrain_xgb,'train'),(dvalid_xgb,'valid')]\n",
    "num_round = 200\n",
    "bst = xgb.train( param, dtrain_xgb, num_round, evallist, early_stopping_rounds = 20)\n",
    "print(bst.best_iteration)"
   ]
  },
  {
   "cell_type": "code",
   "execution_count": 117,
   "metadata": {
    "collapsed": false
   },
   "outputs": [],
   "source": [
    "df_test1['pred_xgb'] = bst.predict(dtest_xgb)"
   ]
  },
  {
   "cell_type": "code",
   "execution_count": 120,
   "metadata": {
    "collapsed": false
   },
   "outputs": [],
   "source": [
    "df_test1[['client_id','pred_xgb']].to_csv('data/tbc_submit1.csv',index = False, header = False)"
   ]
  },
  {
   "cell_type": "code",
   "execution_count": 126,
   "metadata": {
    "collapsed": false
   },
   "outputs": [
    {
     "data": {
      "text/plain": [
       "Index([           u'client_id',               u'gender',\n",
       "                        u'age',       u'marital_status',\n",
       "               u'job_position',           u'credit_sum',\n",
       "               u'credit_month',            u'tariff_id',\n",
       "                  u'score_shk',            u'education',\n",
       "              u'living_region',       u'monthly_income',\n",
       "               u'credit_count', u'overdue_credit_count',\n",
       "           u'open_account_flg',        u'tariff_id_str'],\n",
       "      dtype='object')"
      ]
     },
     "execution_count": 126,
     "metadata": {},
     "output_type": "execute_result"
    }
   ],
   "source": [
    "df_train.columns"
   ]
  },
  {
   "cell_type": "code",
   "execution_count": 147,
   "metadata": {
    "collapsed": false
   },
   "outputs": [
    {
     "ename": "AttributeError",
     "evalue": "'float' object has no attribute 'replace'",
     "output_type": "error",
     "traceback": [
      "\u001b[1;31m---------------------------------------------------------------------------\u001b[0m",
      "\u001b[1;31mAttributeError\u001b[0m                            Traceback (most recent call last)",
      "\u001b[1;32m<ipython-input-147-b1492340c589>\u001b[0m in \u001b[0;36m<module>\u001b[1;34m()\u001b[0m\n\u001b[1;32m----> 1\u001b[1;33m \u001b[0mdf_train\u001b[0m\u001b[1;33m[\u001b[0m\u001b[1;34mu'living_region'\u001b[0m\u001b[1;33m]\u001b[0m\u001b[1;33m.\u001b[0m\u001b[0mmap\u001b[0m\u001b[1;33m(\u001b[0m\u001b[1;32mlambda\u001b[0m \u001b[0mr\u001b[0m\u001b[1;33m:\u001b[0m \u001b[0mr\u001b[0m\u001b[1;33m.\u001b[0m\u001b[0mreplace\u001b[0m\u001b[1;33m(\u001b[0m\u001b[1;34mu'ОБЛАСТЬ'\u001b[0m\u001b[1;33m,\u001b[0m\u001b[1;34m''\u001b[0m\u001b[1;33m)\u001b[0m\u001b[1;33m.\u001b[0m\u001b[0mreplace\u001b[0m\u001b[1;33m(\u001b[0m\u001b[1;34mu'ОБЛ'\u001b[0m\u001b[1;33m,\u001b[0m\u001b[1;34m''\u001b[0m\u001b[1;33m)\u001b[0m\u001b[1;33m.\u001b[0m\u001b[0mreplace\u001b[0m\u001b[1;33m(\u001b[0m\u001b[1;34m'-'\u001b[0m\u001b[1;33m,\u001b[0m\u001b[1;34m''\u001b[0m\u001b[1;33m)\u001b[0m\u001b[1;33m.\u001b[0m\u001b[0mreplace\u001b[0m\u001b[1;33m(\u001b[0m\u001b[1;34m' '\u001b[0m\u001b[1;33m,\u001b[0m\u001b[1;34m''\u001b[0m\u001b[1;33m)\u001b[0m \u001b[1;32mif\u001b[0m \u001b[0mr\u001b[0m \u001b[1;32melse\u001b[0m \u001b[1;34m''\u001b[0m\u001b[1;33m)\u001b[0m\u001b[1;33m.\u001b[0m\u001b[0munique\u001b[0m\u001b[1;33m(\u001b[0m\u001b[1;33m)\u001b[0m\u001b[1;33m\u001b[0m\u001b[0m\n\u001b[0m",
      "\u001b[1;32m/opt/anaconda/lib/python2.7/site-packages/pandas/core/series.pyc\u001b[0m in \u001b[0;36mmap\u001b[1;34m(self, arg, na_action)\u001b[0m\n\u001b[0;32m   2014\u001b[0m                                      index=self.index).__finalize__(self)\n\u001b[0;32m   2015\u001b[0m         \u001b[1;32melse\u001b[0m\u001b[1;33m:\u001b[0m\u001b[1;33m\u001b[0m\u001b[0m\n\u001b[1;32m-> 2016\u001b[1;33m             \u001b[0mmapped\u001b[0m \u001b[1;33m=\u001b[0m \u001b[0mmap_f\u001b[0m\u001b[1;33m(\u001b[0m\u001b[0mvalues\u001b[0m\u001b[1;33m,\u001b[0m \u001b[0marg\u001b[0m\u001b[1;33m)\u001b[0m\u001b[1;33m\u001b[0m\u001b[0m\n\u001b[0m\u001b[0;32m   2017\u001b[0m             return self._constructor(mapped,\n\u001b[0;32m   2018\u001b[0m                                      index=self.index).__finalize__(self)\n",
      "\u001b[1;32mpandas/src/inference.pyx\u001b[0m in \u001b[0;36mpandas.lib.map_infer (pandas/lib.c:58435)\u001b[1;34m()\u001b[0m\n",
      "\u001b[1;32m<ipython-input-147-b1492340c589>\u001b[0m in \u001b[0;36m<lambda>\u001b[1;34m(r)\u001b[0m\n\u001b[1;32m----> 1\u001b[1;33m \u001b[0mdf_train\u001b[0m\u001b[1;33m[\u001b[0m\u001b[1;34mu'living_region'\u001b[0m\u001b[1;33m]\u001b[0m\u001b[1;33m.\u001b[0m\u001b[0mmap\u001b[0m\u001b[1;33m(\u001b[0m\u001b[1;32mlambda\u001b[0m \u001b[0mr\u001b[0m\u001b[1;33m:\u001b[0m \u001b[0mr\u001b[0m\u001b[1;33m.\u001b[0m\u001b[0mreplace\u001b[0m\u001b[1;33m(\u001b[0m\u001b[1;34mu'ОБЛАСТЬ'\u001b[0m\u001b[1;33m,\u001b[0m\u001b[1;34m''\u001b[0m\u001b[1;33m)\u001b[0m\u001b[1;33m.\u001b[0m\u001b[0mreplace\u001b[0m\u001b[1;33m(\u001b[0m\u001b[1;34mu'ОБЛ'\u001b[0m\u001b[1;33m,\u001b[0m\u001b[1;34m''\u001b[0m\u001b[1;33m)\u001b[0m\u001b[1;33m.\u001b[0m\u001b[0mreplace\u001b[0m\u001b[1;33m(\u001b[0m\u001b[1;34m'-'\u001b[0m\u001b[1;33m,\u001b[0m\u001b[1;34m''\u001b[0m\u001b[1;33m)\u001b[0m\u001b[1;33m.\u001b[0m\u001b[0mreplace\u001b[0m\u001b[1;33m(\u001b[0m\u001b[1;34m' '\u001b[0m\u001b[1;33m,\u001b[0m\u001b[1;34m''\u001b[0m\u001b[1;33m)\u001b[0m \u001b[1;32mif\u001b[0m \u001b[0mr\u001b[0m \u001b[1;32melse\u001b[0m \u001b[1;34m''\u001b[0m\u001b[1;33m)\u001b[0m\u001b[1;33m.\u001b[0m\u001b[0munique\u001b[0m\u001b[1;33m(\u001b[0m\u001b[1;33m)\u001b[0m\u001b[1;33m\u001b[0m\u001b[0m\n\u001b[0m",
      "\u001b[1;31mAttributeError\u001b[0m: 'float' object has no attribute 'replace'"
     ]
    }
   ],
   "source": [
    "df_train[u'living_region'].map(lambda r: r.replace(u'ОБЛАСТЬ','').replace(u'ОБЛ','').replace('-','').replace(' ','') if r else '').unique()\n"
   ]
  },
  {
   "cell_type": "code",
   "execution_count": 148,
   "metadata": {
    "collapsed": false
   },
   "outputs": [],
   "source": [
    "#sorted(df_train[u'living_region'].unique())\n"
   ]
  },
  {
   "cell_type": "code",
   "execution_count": null,
   "metadata": {
    "collapsed": true
   },
   "outputs": [],
   "source": []
  }
 ],
 "metadata": {
  "kernelspec": {
   "display_name": "Python 2",
   "language": "python",
   "name": "python2"
  },
  "language_info": {
   "codemirror_mode": {
    "name": "ipython",
    "version": 2
   },
   "file_extension": ".py",
   "mimetype": "text/x-python",
   "name": "python",
   "nbconvert_exporter": "python",
   "pygments_lexer": "ipython2",
   "version": "2.7.10"
  }
 },
 "nbformat": 4,
 "nbformat_minor": 0
}
