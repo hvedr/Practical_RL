{
 "cells": [
  {
   "cell_type": "code",
   "execution_count": 2,
   "metadata": {
    "collapsed": false
   },
   "outputs": [],
   "source": [
    "from pyspark import HiveContext\n",
    "hc = HiveContext(sc)\n",
    "rdd = hc.sql(\"select * from user_kposminin.test\").rdd\n",
    "rdd.count()"
   ]
  },
  {
   "cell_type": "code",
   "execution_count": 2,
   "metadata": {
    "collapsed": false
   },
   "outputs": [],
   "source": [
    "import pandas as pd\n",
    "import os\n",
    "df = pd.read_excel('./data/domain_clusters_dcrp065cos.xlsx')\n",
    "\n",
    "#os.listdir(os.getcwd()+'/data')"
   ]
  },
  {
   "cell_type": "code",
   "execution_count": 5,
   "metadata": {
    "collapsed": false
   },
   "outputs": [
    {
     "data": {
      "text/plain": [
       "DataFrame[]"
      ]
     },
     "execution_count": 5,
     "metadata": {},
     "output_type": "execute_result"
    }
   ],
   "source": [
    "from pyspark import HiveContext\n",
    "hc = HiveContext(sc)\n",
    "#hc.sql('drop table if exists clusters')\n",
    "hc.registerDataFrameAsTable(hc.createDataFrame(df), 'clusters1')\n",
    "hc.sql('drop table if exists user_kposminin.url_clusters')\n",
    "hc.sql('create table user_kposminin.url_clusters as select * from clusters1')"
   ]
  },
  {
   "cell_type": "code",
   "execution_count": 4,
   "metadata": {
    "collapsed": false
   },
   "outputs": [
    {
     "data": {
      "text/plain": [
       "485451"
      ]
     },
     "execution_count": 4,
     "metadata": {},
     "output_type": "execute_result"
    }
   ],
   "source": [
    "# Urls with more than 4-fold structure\n",
    "r1 = rdd.filter(lambda r: len(r['url'].split('/'))>4)\n",
    "1.*r1.count()/rdd.count()"
   ]
  },
  {
   "cell_type": "code",
   "execution_count": 6,
   "metadata": {
    "collapsed": false,
    "scrolled": true
   },
   "outputs": [
    {
     "ename": "TypeError",
     "evalue": "sequence item 0: expected string, tuple found",
     "output_type": "error",
     "traceback": [
      "\u001b[1;31m---------------------------------------------------------------------------\u001b[0m",
      "\u001b[1;31mTypeError\u001b[0m                                 Traceback (most recent call last)",
      "\u001b[1;32m<ipython-input-6-e09f1ecbfa03>\u001b[0m in \u001b[0;36m<module>\u001b[1;34m()\u001b[0m\n\u001b[0;32m      3\u001b[0m \u001b[1;32mimport\u001b[0m \u001b[0moperator\u001b[0m\u001b[1;33m\u001b[0m\u001b[0m\n\u001b[0;32m      4\u001b[0m \u001b[0murls_w_count\u001b[0m \u001b[1;33m=\u001b[0m \u001b[0msorted\u001b[0m\u001b[1;33m(\u001b[0m\u001b[0murls_w_count\u001b[0m\u001b[1;33m.\u001b[0m\u001b[0mitems\u001b[0m\u001b[1;33m(\u001b[0m\u001b[1;33m)\u001b[0m\u001b[1;33m,\u001b[0m \u001b[0mkey\u001b[0m\u001b[1;33m=\u001b[0m\u001b[0moperator\u001b[0m\u001b[1;33m.\u001b[0m\u001b[0mitemgetter\u001b[0m\u001b[1;33m(\u001b[0m\u001b[1;36m1\u001b[0m\u001b[1;33m)\u001b[0m\u001b[1;33m,\u001b[0m \u001b[0mreverse\u001b[0m \u001b[1;33m=\u001b[0m \u001b[0mTrue\u001b[0m\u001b[1;33m)\u001b[0m\u001b[1;33m\u001b[0m\u001b[0m\n\u001b[1;32m----> 5\u001b[1;33m \u001b[1;32mprint\u001b[0m\u001b[1;33m(\u001b[0m\u001b[1;34m'\\n'\u001b[0m\u001b[1;33m.\u001b[0m\u001b[0mjoin\u001b[0m\u001b[1;33m(\u001b[0m\u001b[0murls_w_count\u001b[0m\u001b[1;33m[\u001b[0m\u001b[1;33m:\u001b[0m\u001b[1;36m20\u001b[0m\u001b[1;33m]\u001b[0m\u001b[1;33m)\u001b[0m\u001b[1;33m)\u001b[0m\u001b[1;33m\u001b[0m\u001b[0m\n\u001b[0m",
      "\u001b[1;31mTypeError\u001b[0m: sequence item 0: expected string, tuple found"
     ]
    }
   ],
   "source": [
    "# of urls with visits count\n",
    "urls_w_count = rdd.map(lambda row: row['url'].split('/')[0]).countByValue()\n",
    "import operator\n",
    "urls_w_count = sorted(urls_w_count.items(), key=operator.itemgetter(1), reverse = True)\n"
   ]
  },
  {
   "cell_type": "code",
   "execution_count": 10,
   "metadata": {
    "collapsed": false,
    "scrolled": true
   },
   "outputs": [
    {
     "name": "stdout",
     "output_type": "stream",
     "text": [
      "vk.com: 612710\n",
      "m.vk.com: 416910\n",
      "m.odnoklassniki.ru: 409102\n",
      "e.mail.ru: 315467\n",
      "new.vk.com: 274401\n",
      "ok.ru: 251501\n",
      "m.ok.ru: 223481\n",
      "avito.ru: 188150\n",
      "mail.ru: 89641\n",
      "m.avito.ru: 81769\n",
      "olx.ua: 36310\n",
      "my.mail.ru: 34803\n",
      "fotostrana.ru: 29700\n",
      "mediateaser.biz: 26376\n",
      "news.mail.ru: 23877\n",
      "ulogin.ru: 23676\n",
      "auto.drom.ru: 23259\n",
      "go.mail.ru: 19681\n",
      "info.zonasearch.com: 13667\n",
      "24video.xxx: 13483\n",
      "m.tabor.ru: 13339\n",
      "drive2.ru: 12274\n",
      "lady.mail.ru: 11293\n",
      "lenta.ru: 10931\n",
      "loveread.ec: 10926\n",
      "rbc.ru: 10100\n",
      "m.perfectgirls.net: 10017\n",
      "gismeteo.ru: 9776\n",
      "winvideo.org: 9753\n",
      "hh.ru: 9265\n",
      "fishki.net: 8800\n",
      "woman.ru: 7601\n",
      "ria.ru: 7339\n",
      "liveinternet.ru: 7218\n",
      "e1.ru: 7005\n",
      "farpost.ru: 6893\n",
      "connect.mail.ru: 6861\n",
      "echo.msk.ru: 6844\n",
      "touch.mail.ru: 6805\n",
      "extratorrent.cc: 6780\n"
     ]
    }
   ],
   "source": [
    "print('\\n'.join(['{0}:  {1}'.format(*e) for e in urls_w_count[:40]]))"
   ]
  },
  {
   "cell_type": "code",
   "execution_count": 23,
   "metadata": {
    "collapsed": false
   },
   "outputs": [
    {
     "data": {
      "text/plain": [
       "[[0.79438802156456978, 0.4993776899654484, 1],\n",
       " [0.17866110028258653, 0.4647719409825789, 1],\n",
       " [0.39738847630300211, 0.060089054869790659, 1],\n",
       " [0.22348138130527417, 0.24807530900640895, 1],\n",
       " [0.24559391994991375, 0.96586065198635107, 1],\n",
       " [0.23396685020171726, 0.27605823209130298, 1],\n",
       " [0.57756603849591626, 0.8010112079715046, 1],\n",
       " [0.8312057924822206, 0.66911316815557853, 1],\n",
       " [0.45246090518323256, 0.081840844199551954, 1],\n",
       " [0.80161417989836636, 0.99343758873150279, 1]]"
      ]
     },
     "execution_count": 23,
     "metadata": {},
     "output_type": "execute_result"
    }
   ],
   "source": [
    "import numpy as np\n",
    "sc.parallelize([list(e) for e in np.random.rand(10,2)]).map(lambda r:r+[1]).collect()"
   ]
  },
  {
   "cell_type": "code",
   "execution_count": 22,
   "metadata": {
    "collapsed": false
   },
   "outputs": [
    {
     "data": {
      "text/plain": [
       "[1, 1, 2, 1, 2, 3]"
      ]
     },
     "execution_count": 22,
     "metadata": {},
     "output_type": "execute_result"
    }
   ],
   "source": [
    "sc.parallelize([2, 3, 4]).flatMap(lambda x: range(1, x)).collect()"
   ]
  },
  {
   "cell_type": "code",
   "execution_count": 5,
   "metadata": {
    "collapsed": false
   },
   "outputs": [],
   "source": [
    "a = 1"
   ]
  },
  {
   "cell_type": "markdown",
   "metadata": {},
   "source": [
    "a"
   ]
  },
  {
   "cell_type": "code",
   "execution_count": 2,
   "metadata": {
    "collapsed": false
   },
   "outputs": [
    {
     "ename": "ImportError",
     "evalue": "No module named mmh5",
     "output_type": "error",
     "traceback": [
      "\u001b[1;31m---------------------------------------------------------------------------\u001b[0m",
      "\u001b[1;31mImportError\u001b[0m                               Traceback (most recent call last)",
      "\u001b[1;32m<ipython-input-2-b1baa891b41e>\u001b[0m in \u001b[0;36m<module>\u001b[1;34m()\u001b[0m\n\u001b[1;32m----> 1\u001b[1;33m \u001b[1;32mimport\u001b[0m \u001b[0mmmh5\u001b[0m\u001b[1;33m\u001b[0m\u001b[0m\n\u001b[0m",
      "\u001b[1;31mImportError\u001b[0m: No module named mmh5"
     ]
    }
   ],
   "source": [
    "import mmh5"
   ]
  },
  {
   "cell_type": "code",
   "execution_count": null,
   "metadata": {
    "collapsed": true
   },
   "outputs": [],
   "source": []
  }
 ],
 "metadata": {
  "kernelspec": {
   "display_name": "Python 2",
   "language": "python",
   "name": "python2"
  }
 },
 "nbformat": 4,
 "nbformat_minor": 0
}
