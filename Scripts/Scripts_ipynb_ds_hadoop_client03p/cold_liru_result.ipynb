{
 "cells": [
  {
   "cell_type": "code",
   "execution_count": 1,
   "metadata": {
    "collapsed": true
   },
   "outputs": [],
   "source": [
    "import datetime\n",
    "from pyspark import SparkConf, SparkContext, HiveContext\n",
    "sc.stop()\n",
    "conf = SparkConf().set(\"spark.executor.instances\", 1).set(\"spark.driver.maxResultSize\", \"1g\")\n",
    "sc = SparkContext(conf=conf)\n",
    "hc = HiveContext(sc)\n",
    "#sc.setCheckpointDir('/user/kposminin/checkpointdir/')"
   ]
  },
  {
   "cell_type": "code",
   "execution_count": 4,
   "metadata": {
    "collapsed": false
   },
   "outputs": [
    {
     "data": {
      "text/html": [
       "<div>\n",
       "<table border=\"1\" class=\"dataframe\">\n",
       "  <thead>\n",
       "    <tr style=\"text-align: right;\">\n",
       "      <th></th>\n",
       "      <th>call_ymd</th>\n",
       "      <th>phone_mobile</th>\n",
       "      <th>score</th>\n",
       "      <th>in_work</th>\n",
       "      <th>full_app</th>\n",
       "      <th>considered</th>\n",
       "      <th>approve</th>\n",
       "      <th>utilization</th>\n",
       "    </tr>\n",
       "  </thead>\n",
       "  <tbody>\n",
       "    <tr>\n",
       "      <th>0</th>\n",
       "      <td>2017-01-25</td>\n",
       "      <td>89633122223</td>\n",
       "      <td>-4.978807</td>\n",
       "      <td>1</td>\n",
       "      <td>0</td>\n",
       "      <td>0</td>\n",
       "      <td>0</td>\n",
       "      <td>0</td>\n",
       "    </tr>\n",
       "    <tr>\n",
       "      <th>1</th>\n",
       "      <td>2017-01-25</td>\n",
       "      <td>89619153434</td>\n",
       "      <td>-3.949567</td>\n",
       "      <td>0</td>\n",
       "      <td>0</td>\n",
       "      <td>0</td>\n",
       "      <td>0</td>\n",
       "      <td>0</td>\n",
       "    </tr>\n",
       "    <tr>\n",
       "      <th>2</th>\n",
       "      <td>2017-01-26</td>\n",
       "      <td>89504957407</td>\n",
       "      <td>-4.393766</td>\n",
       "      <td>1</td>\n",
       "      <td>0</td>\n",
       "      <td>0</td>\n",
       "      <td>0</td>\n",
       "      <td>0</td>\n",
       "    </tr>\n",
       "    <tr>\n",
       "      <th>3</th>\n",
       "      <td>2017-01-26</td>\n",
       "      <td>89612095505</td>\n",
       "      <td>-4.393766</td>\n",
       "      <td>1</td>\n",
       "      <td>0</td>\n",
       "      <td>0</td>\n",
       "      <td>0</td>\n",
       "      <td>0</td>\n",
       "    </tr>\n",
       "    <tr>\n",
       "      <th>4</th>\n",
       "      <td>2017-01-26</td>\n",
       "      <td>89202445024</td>\n",
       "      <td>-3.764830</td>\n",
       "      <td>1</td>\n",
       "      <td>0</td>\n",
       "      <td>0</td>\n",
       "      <td>0</td>\n",
       "      <td>0</td>\n",
       "    </tr>\n",
       "  </tbody>\n",
       "</table>\n",
       "</div>"
      ],
      "text/plain": [
       "     call_ymd phone_mobile     score  in_work  full_app  considered  approve  \\\n",
       "0  2017-01-25  89633122223 -4.978807        1         0           0        0   \n",
       "1  2017-01-25  89619153434 -3.949567        0         0           0        0   \n",
       "2  2017-01-26  89504957407 -4.393766        1         0           0        0   \n",
       "3  2017-01-26  89612095505 -4.393766        1         0           0        0   \n",
       "4  2017-01-26  89202445024 -3.764830        1         0           0        0   \n",
       "\n",
       "   utilization  \n",
       "0            0  \n",
       "1            0  \n",
       "2            0  \n",
       "3            0  \n",
       "4            0  "
      ]
     },
     "execution_count": 4,
     "metadata": {},
     "output_type": "execute_result"
    }
   ],
   "source": [
    "create_result_table_query = '''\n",
    "\n",
    "create table user_kposminin.cold_liru_results_20170126 as\n",
    "select\n",
    "  to_date(create_dt) as call_ymd,\n",
    "  b.phone_mobile,\n",
    "  nvl(s.score,-20) as score,\n",
    "  if(status = 'В работе',1,0) as in_work,\n",
    "  if(a.financial_application_rk is not Null, 1, 0) as full_app,\n",
    "  if(a.decision_dt is not Null, 1, 0) as considered,\n",
    "  if(a.decision_approve_dt is not Null, 1, 0) as approve,\n",
    "  if(a.utilization_dt is not Null, 1, 0) as utilization\n",
    "  \n",
    "from prod_emart.short_applications_current b \n",
    "  left join prod_emart.financial_account_application a on b.financial_application_rk = a.financial_application_rk\n",
    "  left join (select phone_num, score from prod_lookalike.phone_x_segment where segment_nm = 'la_apppr_ccall' and ymd between '2017-01-22' and '2017-01-24') s on substr(s.phone_num,3,20) = substr(b.phone_mobile,2,20)\n",
    "where (not b.status in ('Дубль', 'Черный список'))\n",
    "  and b.utm_campaign = 'cold_liru'\n",
    "  and create_dt >= '2017-01-25' and create_dt < '2017-01-27'\n",
    "\n",
    "'''\n",
    "# Запрос выполнялся в хайве. При выполнении из спарк надо смотреть на корректность передачи кириллицы.\n",
    "\n",
    "df = hc.sql('select * from user_kposminin.cold_liru_results_20170126').toPandas()\n",
    "df.head()"
   ]
  },
  {
   "cell_type": "code",
   "execution_count": 43,
   "metadata": {
    "collapsed": false
   },
   "outputs": [],
   "source": [
    "#df[df.in_work==1].full_app.sum()\n",
    "data = sorted(df[df.in_work==0][['score','approve']].values.tolist(), reverse = True)\n"
   ]
  },
  {
   "cell_type": "code",
   "execution_count": 44,
   "metadata": {
    "collapsed": false
   },
   "outputs": [
    {
     "name": "stdout",
     "output_type": "stream",
     "text": [
      "Max score AUC ROC: 0.467465366927\n"
     ]
    }
   ],
   "source": [
    "from sklearn.metrics import roc_auc_score\n",
    "   \n",
    "print('Max score AUC ROC: {}'.format(roc_auc_score(y_true = [e[1] for e in data],y_score = [e[0] for e in data])))"
   ]
  },
  {
   "cell_type": "code",
   "execution_count": 45,
   "metadata": {
    "collapsed": false
   },
   "outputs": [
    {
     "name": "stdout",
     "output_type": "stream",
     "text": [
      "\n",
      "Lift table for ph_stand_la\n",
      "\n",
      "q         \tpos_cnt   \tpos%      \tcnt       \tpos/cnt   \tlift      \tscore     \n",
      "0.99      \t0.0       \t0.00%     \t31        \t0.00000%  \t0.00      \t-3.74813  \n",
      "0.98      \t1.0       \t2.17%     \t62        \t1.61290%  \t1.10      \t-3.76483  \n",
      "0.95      \t1.0       \t2.17%     \t156       \t0.64103%  \t0.44      \t-3.76483  \n",
      "0.9       \t5.0       \t10.87%    \t312       \t1.60256%  \t1.09      \t-4.13541  \n",
      "0.8       \t10.0      \t21.74%    \t625       \t1.60000%  \t1.09      \t-4.39377  \n",
      "0.7       \t12.0      \t26.09%    \t938       \t1.27932%  \t0.87      \t-4.95734  \n",
      "0.6       \t18.0      \t39.13%    \t1251      \t1.43885%  \t0.98      \t-5.23706  \n",
      "0.5       \t23.0      \t50.00%    \t1564      \t1.47059%  \t1.00      \t-5.47575  \n",
      "0.4       \t25.0      \t54.35%    \t1876      \t1.33262%  \t0.91      \t-5.65396  \n",
      "0.3       \t29.0      \t63.04%    \t2189      \t1.32481%  \t0.90      \t-5.76780  \n",
      "0         \t46.0      \t100.00%   \t3128      \t1.47059%  \t1.00      \t-5.99839  \n"
     ]
    }
   ],
   "source": [
    "def nvl(a,b):\n",
    "    if a:\n",
    "        return a\n",
    "    else:\n",
    "        return b\n",
    "    \n",
    "print('\\nLift table for ph_stand_la\\n\\n{:<10}\\t{:<10}\\t{:<10}\\t{:<10}\\t{:<10}\\t{:<10}\\t{:<10}'.format(\n",
    "        'q','pos_cnt','pos%','cnt','pos/cnt','lift','score'))\n",
    "pos_tot = sum([e[1] for e in data])\n",
    "pos_share_tot = float(pos_tot) / len(data)\n",
    "for q in [0.99,0.98,0.95,0.9,0.8,0.7,0.6,0.5,0.4,0.3,0]:\n",
    "    pos_cnt = sum([e[1] for e in data[:int((1-q)*len(data))]])\n",
    "    cnt = int((1-q)*len(data))\n",
    "    pos_share = float(pos_cnt)/cnt\n",
    "    print('{:<10}\\t{:<10}\\t{:<10.2%}\\t{:<10}\\t{:<10.5%}\\t{:<10.2f}\\t{:<10.5f}'.format(q,\n",
    "                                                                                      pos_cnt,\n",
    "                                                                                      float(pos_cnt)/pos_tot,\n",
    "                                                                                      cnt,pos_share,\n",
    "                                                                                      pos_share/pos_share_tot,\n",
    "                                                                                      nvl(data[int((1-q)*len(data))-1][0],-20)\n",
    "                                                                                     ))"
   ]
  },
  {
   "cell_type": "markdown",
   "metadata": {
    "collapsed": false
   },
   "source": [
    "### Вывод: на прозвоне зависимость от скора не прослеживается по всем переменным: approve, full_app, in_work. \n",
    "### Причины: либо из-за однородной структуры выборки (верхняя 0.03% квантиль), либо в связи с неправильной работой классификатора."
   ]
  },
  {
   "cell_type": "code",
   "execution_count": null,
   "metadata": {
    "collapsed": true
   },
   "outputs": [],
   "source": []
  }
 ],
 "metadata": {
  "kernelspec": {
   "display_name": "Python 2",
   "language": "python",
   "name": "python2"
  },
  "language_info": {
   "codemirror_mode": {
    "name": "ipython",
    "version": 2
   },
   "file_extension": ".py",
   "mimetype": "text/x-python",
   "name": "python",
   "nbconvert_exporter": "python",
   "pygments_lexer": "ipython2",
   "version": "2.7.10"
  }
 },
 "nbformat": 4,
 "nbformat_minor": 0
}
