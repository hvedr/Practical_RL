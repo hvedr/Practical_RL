{
 "cells": [
  {
   "cell_type": "code",
   "execution_count": 11,
   "metadata": {
    "collapsed": false
   },
   "outputs": [
    {
     "data": {
      "text/plain": [
       "'/home/k.p.osminin'"
      ]
     },
     "execution_count": 11,
     "metadata": {},
     "output_type": "execute_result"
    }
   ],
   "source": [
    "import os\n",
    "os.path.abspath(os.getcwd())"
   ]
  },
  {
   "cell_type": "code",
   "execution_count": 4,
   "metadata": {
    "collapsed": false
   },
   "outputs": [],
   "source": [
    "# сырая таблица\n",
    "f = open(\"/home/k.p.osminin/data/phone codes geo.txt\")"
   ]
  },
  {
   "cell_type": "code",
   "execution_count": 6,
   "metadata": {
    "collapsed": false
   },
   "outputs": [],
   "source": [
    "# целевая таблица и таблица для ошибок конвертации\n",
    "dest_f = open('/home/k.p.osminin/data/phone codes geo dict.txt', 'w')\n",
    "error_f = open('/home/k.p.osminin/data/phone codes geo dict_err.txt', 'w')"
   ]
  },
  {
   "cell_type": "code",
   "execution_count": 7,
   "metadata": {
    "collapsed": false
   },
   "outputs": [
    {
     "name": "stdout",
     "output_type": "stream",
     "text": [
      "916\n",
      "926\n"
     ]
    }
   ],
   "source": [
    "for line in f:\n",
    "    if line[0] == '9':\n",
    "        code = line[:3]\n",
    "        #print 'line = ' + line    \n",
    "        operator_start = line.find('\\t') + 1\n",
    "        region_start = line.rfind('\\t') +1\n",
    "        operator = line[operator_start:region_start-1]\n",
    "        region = line[region_start:-1]\n",
    "        subcodes = line[4:operator_start - 1].replace('x',' ').split()\n",
    "        #print 'region = ' + region\n",
    "        #print 'operator = ' + operator\n",
    "        #print 'code = '  + code\n",
    "        #print subcodes\n",
    "        if len(subcodes) == 0:\n",
    "            print(code)\n",
    "            for x in xrange(10**6):\n",
    "                dest_f.write(\"%s \\t %s \\t %s\\n\" % (int(code)*10**6 + x, operator.strip(), region.strip()))\n",
    "        try:\n",
    "            for i in xrange(len(subcodes)):\n",
    "                l = len(subcodes[i])\n",
    "                subcode_range_len = 6 - l\n",
    "                #print subcode_range_len\n",
    "                x = 0\n",
    "                for x in xrange(10**subcode_range_len):\n",
    "                    dest_f.write(\"%s \\t %s \\t %s\\n\" % (int(code + subcodes[i])*10**subcode_range_len + x, operator.strip(), region.strip()))\n",
    "        except:\n",
    "            error_f.write(line)\n",
    "dest_f.close()\n",
    "error_f.close()"
   ]
  },
  {
   "cell_type": "code",
   "execution_count": 8,
   "metadata": {
    "collapsed": false
   },
   "outputs": [
    {
     "data": {
      "text/plain": [
       "52865959"
      ]
     },
     "execution_count": 8,
     "metadata": {},
     "output_type": "execute_result"
    }
   ],
   "source": [
    "fil = open('/home/k.p.osminin/data/phone codes geo dict.txt','r').readlines()\n",
    "len(fil)"
   ]
  },
  {
   "cell_type": "code",
   "execution_count": 9,
   "metadata": {
    "collapsed": false
   },
   "outputs": [
    {
     "data": {
      "text/plain": [
       "'900000000 \\t Tele2 \\t \\xd0\\x9a\\xd1\\x80\\xd0\\xb0\\xd1\\x81\\xd0\\xbd\\xd0\\xbe\\xd0\\xb4\\xd0\\xb0\\xd1\\x80\\xd1\\x81\\xd0\\xba\\xd0\\xb8\\xd0\\xb9 \\xd0\\xba\\xd1\\x80\\xd0\\xb0\\xd0\\xb9\\n'"
      ]
     },
     "execution_count": 9,
     "metadata": {},
     "output_type": "execute_result"
    }
   ],
   "source": [
    "fil[0]"
   ]
  }
 ],
 "metadata": {
  "kernelspec": {
   "display_name": "Python 2",
   "language": "python",
   "name": "python2"
  },
  "language_info": {
   "codemirror_mode": {
    "name": "ipython",
    "version": 2
   },
   "file_extension": ".py",
   "mimetype": "text/x-python",
   "name": "python",
   "nbconvert_exporter": "python",
   "pygments_lexer": "ipython2",
   "version": "2.7.10"
  }
 },
 "nbformat": 4,
 "nbformat_minor": 0
}
