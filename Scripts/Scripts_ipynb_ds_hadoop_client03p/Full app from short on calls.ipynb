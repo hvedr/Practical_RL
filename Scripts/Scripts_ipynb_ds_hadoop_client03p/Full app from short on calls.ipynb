{
 "cells": [
  {
   "cell_type": "markdown",
   "metadata": {},
   "source": [
    "# Предсказание согласия на заявку при условии звонка\n",
    "#### Задача https://jira.tcsbank.ru/browse/DMP-3713"
   ]
  },
  {
   "cell_type": "markdown",
   "metadata": {},
   "source": [
    "Исходные данные:\n",
    "   * Выборка звонков лежит в big_data_science.aza_to_liru_170627 . Период с конца 2015 года по середину 2017."
   ]
  },
  {
   "cell_type": "code",
   "execution_count": 15,
   "metadata": {
    "collapsed": true
   },
   "outputs": [],
   "source": [
    "##### Config\n",
    "\n",
    "import datetime\n",
    "import pandas as pd\n",
    "from pyspark import SparkConf, SparkContext, HiveContext\n",
    "import re\n",
    "import numpy as np\n",
    "import pandas as pd\n",
    "import datetime\n",
    "from pyspark.mllib.regression import LabeledPoint\n",
    "from pyspark.mllib.feature import HashingTF\n",
    "from pyspark.mllib.classification import LogisticRegressionWithSGD, NaiveBayes, NaiveBayesModel\n",
    "import scipy.sparse as sps\n",
    "from pyspark.mllib.linalg import Vectors\n",
    "from pyspark.mllib.linalg import SparseVector\n",
    "from pyspark.mllib.evaluation import BinaryClassificationMetrics\n",
    "import hashlib\n",
    "from collections import Counter\n",
    "\n",
    "hive_config_query = '''\n",
    "set hive.vectorized.execution.enabled=true;\n",
    "set hive.vectorized.execution.reduce.enabled = true;\n",
    "set mapreduce.map.memory.mb=4096;\n",
    "set mapreduce.map.child.java.opts=-Xmx4g;\n",
    "set mapreduce.task.io.sort.mb=1024;\n",
    "set mapreduce.reduce.child.java.opts=-Xmx4g;\n",
    "set mapreduce.reduce.memory.mb=7000;\n",
    "set mapreduce.reduce.shuffle.input.buffer.percent=0.5;\n",
    "set mapreduce.input.fileinputformat.split.minsize=536870912;\n",
    "set mapreduce.input.fileinputformat.split.maxsize=1073741824;\n",
    "set hive.optimize.ppd=true;\n",
    "set hive.merge.smallfiles.avgsize=536870912;\n",
    "set hive.merge.mapredfiles=true;\n",
    "set hive.merge.mapfiles=true;\n",
    "set hive.hadoop.supports.splittable.combineinputformat=true;\n",
    "set hive.exec.reducers.bytes.per.reducer=536870912;\n",
    "set hive.exec.parallel=true;\n",
    "set hive.exec.max.created.files=10000000;\n",
    "set hive.exec.compress.output=true;\n",
    "set hive.exec.dynamic.partition.mode=nonstrict;\n",
    "set hive.exec.max.dynamic.partitions=1000000;\n",
    "set hive.exec.max.dynamic.partitions.pernode=100000;\n",
    "set io.seqfile.compression.type=BLOCK;\n",
    "set mapreduce.map.failures.maxpercent=5;\n",
    "'''\n",
    "try:\n",
    "    sc.stop()\n",
    "except NameError:\n",
    "    pass\n",
    "\n",
    "conf = (SparkConf()\n",
    "        .set(\"spark.executor.instances\", 4)\n",
    "        .set(\"spark.driver.maxResultSize\", \"8g\")\n",
    "        .set('spark.driver.memory','8g')\n",
    "        .set(\"spark.executor.memory\", '4g')\n",
    "        .set(\"spark.yarn.executor.memoryOverhead\", 1048)\n",
    "        .set(\"spark.akka.frameSize\", '1024')        \n",
    "       )\n",
    "sc = SparkContext(conf=conf)\n",
    "hc = HiveContext(sc)"
   ]
  },
  {
   "cell_type": "markdown",
   "metadata": {},
   "source": [
    "### Привязываем лиру куки и создаем таблицу с визитами"
   ]
  },
  {
   "cell_type": "code",
   "execution_count": 1,
   "metadata": {
    "collapsed": true
   },
   "outputs": [],
   "source": [
    "queries = '''\n",
    "\n",
    "create table user_kposminin.full_app_from_short_id as \n",
    "select\n",
    "    concat('+7', substr(a.phone_mobile,2,20)) as phone_num,\n",
    "    m.id,\n",
    "    cast(a.create_dt as date) as call_ymd, \n",
    "    a.wo_task_reason_desc as reason_desc,\n",
    "    a.approve\n",
    "from\n",
    "    big_data_science.aza_to_liru_170627 a\n",
    "    inner join\n",
    "    (select \n",
    "       uid_str as id,\n",
    "       property_value as phone_num,\n",
    "       load_src\n",
    "     from\n",
    "       prod_dds.md_uid_property \n",
    "     where\n",
    "       property_cd = 'PHONE'\n",
    "    ) m on concat('+7', substr(a.phone_mobile,2,20)) = m.phone_num\n",
    ";\n",
    "\n",
    "create table user_kposminin.full_app_from_short_visits (\n",
    "       phone_num string,\n",
    "       call_ymd string,\n",
    "       url_fragemtn string,\n",
    "       duration_sec int,\n",
    "       visit_count int,\n",
    "       average_visit_hour int,\n",
    "       load_src string,\n",
    "       visit_ymd string\n",
    ")\n",
    "stored as RCFile\n",
    ";\n",
    "'''"
   ]
  },
  {
   "cell_type": "code",
   "execution_count": 12,
   "metadata": {
    "collapsed": true
   },
   "outputs": [],
   "source": [
    "visits_query_parttern = '''\n",
    "insert into user_kposminin.full_app_from_short_visits \n",
    "select\n",
    "       a.phone_num,\n",
    "       a.call_ymd,\n",
    "       v.url_fragment,\n",
    "       v.duration_sec, \n",
    "       v.visit_count, \n",
    "       v.average_visit_hour, \n",
    "       v.load_src, \n",
    "       v.ymd as visit_ymd\n",
    "  from user_kposminin.full_app_from_short_id a\n",
    " inner join prod_odd.visit_feature v on v.id = a.id\n",
    " where v.ymd = \\\\'#ymd0\\\\'\n",
    "   and a.call_ymd between date_add(\\\\'#ymd0\\\\',1) and date_add(\\\\'#ymd0\\\\', 180)\n",
    "      \n",
    "'''\n",
    "open('./scripts/full_app_from_short_visits_query_parttern.sql','w').write(visits_query_parttern.replace('\\n',' ') + '\\n')"
   ]
  },
  {
   "cell_type": "code",
   "execution_count": 6,
   "metadata": {
    "collapsed": false,
    "scrolled": true
   },
   "outputs": [],
   "source": [
    "! seq 800 | xargs -I {} date -d '20170531 -{} days' +%Y-%m-%d | xargs -I {} sed -e 's/#ymd0/{}/g' ./scripts/full_app_from_short_visits_query_parttern.sql | xargs -P 16 -I '{}' sh -c 'hive -e \"{}\" &>/dev/null'"
   ]
  },
  {
   "cell_type": "markdown",
   "metadata": {
    "collapsed": true
   },
   "source": [
    "### Как-то плохо работает. Непараллелится и часть дней не посчитал"
   ]
  },
  {
   "cell_type": "code",
   "execution_count": null,
   "metadata": {
    "collapsed": false,
    "scrolled": true
   },
   "outputs": [],
   "source": [
    "import datetime, os\n",
    "ymd_loaded = [d[6:]+'-'+d[3:5] + '-' + d[:2] for d in ymd_loaded_str.split('\\n')[1:-1]]\n",
    "c=0\n",
    "for d in [(datetime.date(2017,5,31) + datetime.timedelta(days = -i)).strftime('%Y-%m-%d') for i in range(800)]:\n",
    "    if not d in ymd_loaded:\n",
    "        c+=1\n",
    "        query = visits_query_parttern1.replace('#ymd0',d)\n",
    "        print(query + ';\\n')\n",
    "        #os.popen(\"hive -e '\" + query + \"' &>/dev/null\").read()"
   ]
  },
  {
   "cell_type": "code",
   "execution_count": null,
   "metadata": {
    "collapsed": true
   },
   "outputs": [],
   "source": []
  }
 ],
 "metadata": {
  "kernelspec": {
   "display_name": "Python 2",
   "language": "python",
   "name": "python2"
  },
  "language_info": {
   "codemirror_mode": {
    "name": "ipython",
    "version": 2
   },
   "file_extension": ".py",
   "mimetype": "text/x-python",
   "name": "python",
   "nbconvert_exporter": "python",
   "pygments_lexer": "ipython2",
   "version": "2.7.10"
  }
 },
 "nbformat": 4,
 "nbformat_minor": 0
}
