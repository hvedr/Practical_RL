{
 "cells": [
  {
   "cell_type": "code",
   "execution_count": 1,
   "metadata": {
    "collapsed": false
   },
   "outputs": [
    {
     "data": {
      "text/plain": [
       "(16053235, 16053235)"
      ]
     },
     "execution_count": 1,
     "metadata": {},
     "output_type": "execute_result"
    }
   ],
   "source": [
    "scores = [float(e.strip()) for e in open('./data/lgbm_score_20161019.txt','r')]\n",
    "labels = [int(e) for e in open('./data/bigrams_labels_20161019.txt','r').read()]\n",
    "len(scores),len(labels)"
   ]
  },
  {
   "cell_type": "code",
   "execution_count": 2,
   "metadata": {
    "collapsed": false
   },
   "outputs": [],
   "source": [
    "import sklearn.metrics as m\n",
    "auc = m.roc_auc_score(y_true = labels, y_score = scores)"
   ]
  },
  {
   "cell_type": "code",
   "execution_count": 3,
   "metadata": {
    "collapsed": false
   },
   "outputs": [],
   "source": [
    "sl = sorted(zip(scores,labels),reverse = True)"
   ]
  },
  {
   "cell_type": "code",
   "execution_count": 4,
   "metadata": {
    "collapsed": false
   },
   "outputs": [
    {
     "name": "stdout",
     "output_type": "stream",
     "text": [
      "\n",
      "Lift table\n",
      "\n",
      "q         \tpos_cnt   \tpos%      \tcnt       \tpos/cnt   \tlift      \n",
      "0.9999    \t18        \t0.70%     \t1605      \t1.12150%  \t69.57     \n",
      "0.9998    \t24        \t0.93%     \t3210      \t0.74766%  \t46.38     \n",
      "0.9997    \t33        \t1.28%     \t4815      \t0.68536%  \t42.51     \n",
      "0.9995    \t47        \t1.82%     \t8026      \t0.58560%  \t36.32     \n",
      "0.999     \t75        \t2.90%     \t16053     \t0.46720%  \t28.98     \n",
      "0.998     \t98        \t3.79%     \t32106     \t0.30524%  \t18.93     \n",
      "0.997     \t116       \t4.48%     \t48159     \t0.24087%  \t14.94     \n",
      "0.995     \t146       \t5.64%     \t80266     \t0.18190%  \t11.28     \n",
      "0.99      \t204       \t7.88%     \t160532    \t0.12708%  \t7.88      \n",
      "0.98      \t286       \t11.05%    \t321064    \t0.08908%  \t5.53      \n",
      "0.95      \t527       \t20.36%    \t802661    \t0.06566%  \t4.07      \n",
      "0.9       \t803       \t31.03%    \t1605323   \t0.05002%  \t3.10      \n",
      "0.8       \t1201      \t46.41%    \t3210646   \t0.03741%  \t2.32      \n",
      "0.7       \t1520      \t58.73%    \t4815970   \t0.03156%  \t1.96      \n",
      "0.5       \t1903      \t73.53%    \t8026617   \t0.02371%  \t1.47      \n",
      "0.3       \t2256      \t87.17%    \t11237264  \t0.02008%  \t1.25      \n",
      "0         \t2588      \t100.00%   \t16053235  \t0.01612%  \t1.00      \n"
     ]
    }
   ],
   "source": [
    "print('\\nLift table\\n\\n{:<10}\\t{:<10}\\t{:<10}\\t{:<10}\\t{:<10}\\t{:<10}'.format('q','pos_cnt','pos%','cnt','pos/cnt','lift'))\n",
    "pos_tot = sum([e[1] for e in sl])\n",
    "pos_share_tot = float(pos_tot) / len(sl)\n",
    "for q in [0.9999,0.9998,0.9997,0.9995,0.999,0.998,0.997,0.995,0.99,0.98,0.95,0.9,0.8,0.7,0.5,0.3,0]:\n",
    "    pos_cnt = sum([e[1] for e in sl[:int((1-q)*len(sl))]])\n",
    "    cnt = int((1-q)*len(sl))\n",
    "    pos_share = float(pos_cnt)/cnt\n",
    "    print('{:<10}\\t{:<10}\\t{:<10.2%}\\t{:<10}\\t{:<10.5%}\\t{:<10.2f}'.format(q,pos_cnt,float(pos_cnt)/pos_tot,cnt,pos_share,pos_share/pos_share_tot))"
   ]
  },
  {
   "cell_type": "code",
   "execution_count": 5,
   "metadata": {
    "collapsed": false
   },
   "outputs": [
    {
     "name": "stdout",
     "output_type": "stream",
     "text": [
      "\n",
      "AUCROC 0.67639.\n",
      "\n"
     ]
    }
   ],
   "source": [
    "print('\\nAUCROC {:.5f}.\\n'.format(auc))"
   ]
  },
  {
   "cell_type": "code",
   "execution_count": 54,
   "metadata": {
    "collapsed": false
   },
   "outputs": [
    {
     "name": "stdout",
     "output_type": "stream",
     "text": [
      "\n",
      "Lift table\n",
      "\n",
      "q         \tpos_cnt   \tpos%      \tcnt       \tpos/cnt   \tlift      \n",
      "0.9999    \t18        \t0.70%     \t1605      \t1.12150%  \t69.57     \n",
      "0.9998    \t24        \t0.93%     \t3210      \t0.74766%  \t46.38     \n",
      "0.9997    \t33        \t1.28%     \t4815      \t0.68536%  \t42.51     \n",
      "0.9995    \t47        \t1.82%     \t8026      \t0.58560%  \t36.32     \n",
      "0.9994    \t53        \t2.05%     \t9631      \t0.55031%  \t34.14     \n",
      "0.9993    \t60        \t2.32%     \t11237     \t0.53395%  \t33.12     \n",
      "0.9992    \t65        \t2.51%     \t12842     \t0.50615%  \t31.40     \n",
      "0.999     \t75        \t2.90%     \t16053     \t0.46720%  \t28.98     \n"
     ]
    }
   ],
   "source": [
    "print('\\nLift table\\n\\n{:<10}\\t{:<10}\\t{:<10}\\t{:<10}\\t{:<10}\\t{:<10}'.format('q','pos_cnt','pos%','cnt','pos/cnt','lift'))\n",
    "pos_tot = sum([e[1] for e in sl])\n",
    "pos_share_tot = float(pos_tot) / len(sl)\n",
    "for q in [0.9999,0.9998,0.9997,0.9995,0.9994,0.9993,0.9992,0.999]:\n",
    "    pos_cnt = sum([e[1] for e in sl[:int((1-q)*len(sl))]])\n",
    "    cnt = int((1-q)*len(sl))\n",
    "    pos_share = float(pos_cnt)/cnt\n",
    "    print('{:<10}\\t{:<10}\\t{:<10.2%}\\t{:<10}\\t{:<10.5%}\\t{:<10.2f}'.format(q,pos_cnt,float(pos_cnt)/pos_tot,cnt,pos_share,pos_share/pos_share_tot))"
   ]
  },
  {
   "cell_type": "code",
   "execution_count": null,
   "metadata": {
    "collapsed": true
   },
   "outputs": [],
   "source": []
  }
 ],
 "metadata": {
  "kernelspec": {
   "display_name": "Python 2",
   "language": "python",
   "name": "python2"
  },
  "language_info": {
   "codemirror_mode": {
    "name": "ipython",
    "version": 2
   },
   "file_extension": ".py",
   "mimetype": "text/x-python",
   "name": "python",
   "nbconvert_exporter": "python",
   "pygments_lexer": "ipython2",
   "version": "2.7.10"
  }
 },
 "nbformat": 4,
 "nbformat_minor": 0
}
