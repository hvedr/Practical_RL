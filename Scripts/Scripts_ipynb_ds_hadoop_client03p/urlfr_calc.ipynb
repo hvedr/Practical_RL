{
 "cells": [
  {
   "cell_type": "code",
   "execution_count": 7,
   "metadata": {
    "collapsed": false
   },
   "outputs": [],
   "source": [
    "#Config\n",
    "from pyspark import SparkConf, SparkContext, HiveContext\n",
    "import re\n",
    "import numpy as np\n",
    "import pandas as pd\n",
    "import datetime\n",
    "from pyhive import hive\n",
    "HIVE_PORT = 10000\n",
    "HIVE_HOST = 'ds-hadoop-cs01p'\n",
    "HIVE_USER = 'kposminin'\n",
    "CONF={'hive.vectorized.execution.enabled':'true'\n",
    "    ,'mapreduce.map.memory.mb':'4096'\n",
    "    ,'mapreduce.map.child.java.opts':'-Xmx4g'\n",
    "    ,'mapreduce.task.io.sort.mb':'1024'\n",
    "    ,'mapreduce.reduce.child.java.opts':'-Xmx4g'\n",
    "    ,'mapreduce.reduce.memory.mb':'7000'\n",
    "    ,'mapreduce.reduce.shuffle.input.buffer.percent':'0.5'\n",
    "    ,'mapreduce.input.fileinputformat.split.minsize':'536870912'\n",
    "    ,'mapreduce.input.fileinputformat.split.maxsize':'1073741824'\n",
    "    ,'hive.optimize.ppd':'true'\n",
    "    ,'hive.merge.smallfiles.avgsize':'536870912'\n",
    "    ,'hive.merge.mapredfiles':'true'\n",
    "    ,'hive.merge.mapfiles':'true'\n",
    "    ,'hive.hadoop.supports.splittable.combineinputformat':'true'\n",
    "    ,'hive.exec.reducers.bytes.per.reducer':'536870912'\n",
    "    ,'hive.exec.parallel':'true'\n",
    "    ,'hive.exec.max.created.files':'10000000'\n",
    "    ,'hive.exec.compress.output':'true'\n",
    "    ,'hive.exec.dynamic.partition.mode':'nonstrict'\n",
    "    ,'hive.exec.max.dynamic.partitions':'1000000'\n",
    "    ,'hive.exec.max.dynamic.partitions.pernode':'100000'\n",
    "    ,'io.seqfile.compression.type':'BLOCK'\n",
    "          }\n",
    "#sc.stop()\n",
    "#conf = SparkConf().set(\"spark.executor.instances\", 32).set(\"spark.driver.maxResultSize\", \"8g\")\n",
    "#sc = SparkContext(conf=conf)\n",
    "# hc = HiveContext(sc)\n",
    "\n",
    "conn = hive.Connection(host=HIVE_HOST, port=HIVE_PORT, username=HIVE_USER, configuration=CONF)\n",
    "cursor = conn.cursor()"
   ]
  },
  {
   "cell_type": "code",
   "execution_count": 13,
   "metadata": {
    "collapsed": false
   },
   "outputs": [
    {
     "name": "stdout",
     "output_type": "stream",
     "text": [
      "2016-08-30\n",
      "2016-08-31\n",
      "2016-09-01\n",
      "2016-09-02\n",
      "2016-09-03\n",
      "2016-09-04\n",
      "2016-09-05\n",
      "2016-09-06\n",
      "2016-09-07\n",
      "2016-09-08\n",
      "2016-09-09\n",
      "2016-09-10\n",
      "2016-09-11\n",
      "2016-09-12\n",
      "2016-09-13\n",
      "2016-09-14\n",
      "2016-09-15\n",
      "2016-09-16\n",
      "2016-09-17\n",
      "2016-09-18\n",
      "2016-09-19\n",
      "2016-09-20\n",
      "2016-09-21\n",
      "2016-09-22\n",
      "2016-09-23\n",
      "2016-09-24\n",
      "2016-09-25\n",
      "2016-09-26\n",
      "2016-09-27\n"
     ]
    }
   ],
   "source": [
    "\n",
    "\n",
    "calc_up_day = '''\n",
    "insert into prod_features_liveinternet.urlfr_scores partition (ymd, target) \n",
    "select    \n",
    "    urlfr,\n",
    "    positive,\n",
    "    total,\n",
    "    log((positive + 0.1)/(total - positive + 0.1)) as score,\n",
    "    ymd,\n",
    "    'tinkoff_platinum_complete_application@tinkoff_actions' as target\n",
    "from (\n",
    "       select \n",
    "              v.ymd,\n",
    "              v.urlfr,\n",
    "              count(distinct v.id) as total,\n",
    "              count(distinct ta.id) as positive\n",
    "       from\n",
    "            (select id,urlfr,ymd from prod_features_liveinternet.visits where ymd = '#day') v\n",
    "            left join (select id, ymd from prod_features_liveinternet.tinkoff_actions where ymd = '#day' and action_type = 'tinkoff_platinum_complete_application') ta \n",
    "            on v.id = ta.id and v.ymd=ta.ymd\n",
    "       where not urlfr like 'tinkoff.ru%'\n",
    "       group by v.ymd, v.urlfr\n",
    "     ) a\n",
    "where\n",
    "       total > 30000\n",
    "       OR (positive > 1 and total > 20)\n",
    "'''\n",
    "\n",
    "day = datetime.date(2016,8,30)\n",
    "\n",
    "for _ in range(29):\n",
    "    print(day)\n",
    "    cursor.execute(calc_up_day.replace('#day',str(day)))\n",
    "    day += datetime.timedelta(1)\n",
    "           \n"
   ]
  },
  {
   "cell_type": "code",
   "execution_count": 6,
   "metadata": {
    "collapsed": false
   },
   "outputs": [
    {
     "name": "stdout",
     "output_type": "stream",
     "text": [
      "\n",
      "insert into prod_features_liveinternet.urlfr \n",
      "select \n",
      "    ymd,\n",
      "    urlfr,\n",
      "    total,\n",
      "    positive,\n",
      "    log((positive + 0.1)/(total - positive + 0.1)) as score\n",
      "from (\n",
      "       select \n",
      "              v.ymd,\n",
      "              v.urlfr,\n",
      "              count(distinct v.id) as total,\n",
      "              count(distinct ta.id) as positive\n",
      "       from\n",
      "            (select id,urlfr,ymd from prod_features_liveinternet.visits where ymd = '2016-08-30') v\n",
      "            left join (select id, ymd from prod_features_liveinternet.tinkoff_actions where ymd = '2016-08-30' and action_type = 'tinkoff_platinum_complete_application') ta \n",
      "            on v.id = ta.id and v.ymd=ta.ymd\n",
      "       where not urlfr like 'tinkoff.ru%'\n",
      "       group by v.ymd, v.urlfr\n",
      "     ) a\n",
      "where\n",
      "       total > 30000\n",
      "       OR (positive > 1 and total > 20)\n",
      "\n"
     ]
    }
   ],
   "source": [
    "print(calc_up_day.replace('#day',str(day)))"
   ]
  },
  {
   "cell_type": "code",
   "execution_count": 11,
   "metadata": {
    "collapsed": false
   },
   "outputs": [],
   "source": [
    "cursor.execute('select 1')"
   ]
  },
  {
   "cell_type": "code",
   "execution_count": 12,
   "metadata": {
    "collapsed": false
   },
   "outputs": [
    {
     "data": {
      "text/plain": [
       "[[1]]"
      ]
     },
     "execution_count": 12,
     "metadata": {},
     "output_type": "execute_result"
    }
   ],
   "source": [
    "cursor.fetchall()"
   ]
  },
  {
   "cell_type": "code",
   "execution_count": null,
   "metadata": {
    "collapsed": true
   },
   "outputs": [],
   "source": []
  }
 ],
 "metadata": {
  "kernelspec": {
   "display_name": "Python 2",
   "language": "python",
   "name": "python2"
  },
  "language_info": {
   "codemirror_mode": {
    "name": "ipython",
    "version": 2
   },
   "file_extension": ".py",
   "mimetype": "text/x-python",
   "name": "python",
   "nbconvert_exporter": "python",
   "pygments_lexer": "ipython2",
   "version": "2.7.10"
  }
 },
 "nbformat": 4,
 "nbformat_minor": 0
}
