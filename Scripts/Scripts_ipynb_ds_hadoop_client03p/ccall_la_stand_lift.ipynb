{
 "cells": [
  {
   "cell_type": "code",
   "execution_count": 1,
   "metadata": {
    "collapsed": true
   },
   "outputs": [],
   "source": [
    "import datetime\n",
    "from pyspark import SparkConf, SparkContext, HiveContext\n",
    "sc.stop()\n",
    "conf = SparkConf().set(\"spark.executor.instances\", 32).set(\"spark.driver.maxResultSize\", \"16g\")\n",
    "sc = SparkContext(conf=conf)\n",
    "hc = HiveContext(sc)\n",
    "#sc.setCheckpointDir('/user/kposminin/checkpointdir/')"
   ]
  },
  {
   "cell_type": "code",
   "execution_count": null,
   "metadata": {
    "collapsed": true
   },
   "outputs": [],
   "source": [
    "create_query='''\n",
    "create table user_kposminin.urlfr_max_score_20161020_2 as\n",
    "select\n",
    "    v.ymd\n",
    "   ,max(if(p.id is Null,0,1)) as label\n",
    "   ,max(if((unix_timestamp(p.ymd, 'yyyy-MM-dd') - unix_timestamp(v.ymd, 'yyyy-MM-dd'))/60/60/24 = 1, 1, 0)) as first_day\n",
    "   ,v.id\n",
    "   , max(score) as max_score\n",
    "\n",
    "from\n",
    "    prod_features_liveinternet.visits v\n",
    "    left join (\n",
    "      select id,ymd from prod_features_liveinternet.user_action \n",
    "      where ymd between '2016-10-21' and '2016-10-23'\n",
    "      and action_type = 'tinkoff_platinum_complete_application'\n",
    "    ) p on p.id = v.id\n",
    "    left join (\n",
    "     select urlfr, cnt_positive, cnt_total, log((cnt_positive + 0.1)/(cnt_total - cnt_positive + 0.1)) as score\n",
    "     from prod_features_liveinternet.urlfr_tgt_cnt_cumulative\n",
    "     where ymd1_ymd2_target  = '2016-08-19_2016-09-18_tinkoff_platinum_complete_application@tinkoff_action'      \n",
    "       and (cnt_total > 25000 or cnt_positive > 100)\n",
    "    ) t on t.urlfr = v.urlfr\n",
    "where \n",
    "   v.ymd = '2016-10-20'\n",
    "  group by v.id,v.ymd\n",
    ";\n",
    "\n",
    "\n",
    "create table user_kposminin.urlfr_max_score_w_phone_20161020_2 as\n",
    "select \n",
    "  b.contact_str as phone_num,\n",
    "  max(a.label) as label, \n",
    "  max(a.first_day) as first_day,   \n",
    "  max(a.max_score) as max_score\n",
    "from \n",
    "    user_kposminin.urlfr_max_score_20161020_2 a\n",
    "    left join (select uid_str,h_uid_rk from prod_dds.h_uid where load_src = 'LI.02') d on d.uid_str = a.id\n",
    "    left join (select h_contact_rk, h_uid_rk from prod_dds.l_uid_contact where contact_type_cd = 'PHONE') c on d.h_uid_rk = c.h_uid_rk\n",
    "    left join (select h_contact_rk, contact_str from prod_dds.h_contact where contact_type_cd = 'PHONE') b on b.h_contact_rk = c.h_contact_rk\n",
    "where \n",
    "  (not b.contact_str is Null)\n",
    "group by b.contact_str;\n",
    "\n",
    "with cs as (select (1-label)*sum(label) OVER (ORDER BY max_score DESC ROWS BETWEEN UNBOUNDED PRECEDING AND CURRENT ROW) as sl  from user_kposminin.urlfr_max_score_w_phone_20161020_2)\n",
    "select sum(sl)*1.0/((count(*)-max(sl))*max(sl)) as auc_roc,count(*) as cnt from cs;\n",
    "-- 0.75\n",
    "'''"
   ]
  },
  {
   "cell_type": "code",
   "execution_count": 2,
   "metadata": {
    "collapsed": false
   },
   "outputs": [],
   "source": [
    "from pyspark.mllib.tree import GradientBoostedTrees, GradientBoostedTreesModel\n",
    "from pyspark.mllib.util import MLUtils\n",
    "from pyspark.mllib.regression import LabeledPoint\n",
    "from pyspark.mllib.evaluation import BinaryClassificationMetrics\n",
    "import sklearn\n",
    "import sklearn.ensemble\n",
    "import hashlib\n",
    "\n",
    "# Load and parse the data file.\n",
    "data = hc.sql('select max_score,label from user_kposminin.urlfr_max_score_w_phone_20161020_2') \\\n",
    "    .collect()\n",
    "data = sorted(data,reverse = True)"
   ]
  },
  {
   "cell_type": "code",
   "execution_count": 38,
   "metadata": {
    "collapsed": false
   },
   "outputs": [
    {
     "name": "stdout",
     "output_type": "stream",
     "text": [
      "Max score AUC ROC: 0.724966118938\n"
     ]
    }
   ],
   "source": [
    "from sklearn.metrics import roc_auc_score\n",
    "\n",
    "def parse_label(l):\n",
    "    try:\n",
    "        return int(l)\n",
    "    except:\n",
    "        return 0\n",
    "    \n",
    "def parse_score(s):\n",
    "    try:\n",
    "        return float(s)\n",
    "    except:\n",
    "        return -100\n",
    "    \n",
    "print('Max score AUC ROC: {}'.format(roc_auc_score(y_true = [parse_label(e[1]) for e in data],y_score = [parse_score(e[0]) for e in data])))"
   ]
  },
  {
   "cell_type": "code",
   "execution_count": 34,
   "metadata": {
    "collapsed": false
   },
   "outputs": [
    {
     "name": "stdout",
     "output_type": "stream",
     "text": [
      "\n",
      "Lift table for ph_stand_la\n",
      "\n",
      "q         \tpos_cnt   \tpos%      \tcnt       \tpos/cnt   \tlift      \tscore     \n",
      "0.9999    \t52        \t1.25%     \t2404      \t2.16306%  \t125.20    \t-2.94403  \n",
      "0.9998    \t69        \t1.66%     \t4809      \t1.43481%  \t83.05     \t-3.21691  \n",
      "0.9997    \t85        \t2.05%     \t7214      \t1.17826%  \t68.20     \t-3.34495  \n",
      "0.9995    \t149       \t3.59%     \t12024     \t1.23919%  \t71.72     \t-3.58836  \n",
      "0.999     \t280       \t6.74%     \t24048     \t1.16434%  \t67.39     \t-4.09803  \n",
      "0.998     \t396       \t9.53%     \t48097     \t0.82334%  \t47.65     \t-4.97413  \n",
      "0.997     \t431       \t10.37%    \t72146     \t0.59740%  \t34.58     \t-5.67015  \n",
      "0.995     \t478       \t11.50%    \t120244    \t0.39753%  \t23.01     \t-6.17293  \n",
      "0.99      \t555       \t13.36%    \t240488    \t0.23078%  \t13.36     \t-7.30908  \n",
      "0.98      \t677       \t16.29%    \t480976    \t0.14076%  \t8.15      \t-7.98030  \n",
      "0.95      \t1065      \t25.63%    \t1202441   \t0.08857%  \t5.13      \t-8.37234  \n",
      "0.9       \t1541      \t37.09%    \t2404882   \t0.06408%  \t3.71      \t-8.69816  \n",
      "0.8       \t2214      \t53.29%    \t4809765   \t0.04603%  \t2.66      \t-9.05674  \n",
      "0.7       \t2703      \t65.05%    \t7214649   \t0.03747%  \t2.17      \t-9.29891  \n",
      "0.5       \t3240      \t77.98%    \t12024415  \t0.02695%  \t1.56      \t-9.67638  \n",
      "0.3       \t3743      \t90.08%    \t16834181  \t0.02223%  \t1.29      \t-9.99780  \n",
      "0         \t4155      \t100.00%   \t24048830  \t0.01728%  \t1.00      \t-20.00000 \n"
     ]
    }
   ],
   "source": [
    "def nvl(a,b):\n",
    "    if a:\n",
    "        return a\n",
    "    else:\n",
    "        return b\n",
    "    \n",
    "print('\\nLift table for ph_stand_la\\n\\n{:<10}\\t{:<10}\\t{:<10}\\t{:<10}\\t{:<10}\\t{:<10}\\t{:<10}'.format(\n",
    "        'q','pos_cnt','pos%','cnt','pos/cnt','lift','score'))\n",
    "pos_tot = sum([e[1] for e in data])\n",
    "pos_share_tot = float(pos_tot) / len(data)\n",
    "for q in [0.9999,0.9998,0.9997,0.9995,0.999,0.998,0.997,0.995,0.99,0.98,0.95,0.9,0.8,0.7,0.5,0.3,0]:\n",
    "    pos_cnt = sum([e[1] for e in data[:int((1-q)*len(data))]])\n",
    "    cnt = int((1-q)*len(data))\n",
    "    pos_share = float(pos_cnt)/cnt\n",
    "    print('{:<10}\\t{:<10}\\t{:<10.2%}\\t{:<10}\\t{:<10.5%}\\t{:<10.2f}\\t{:<10.5f}'.format(q,\n",
    "                                                                                      pos_cnt,\n",
    "                                                                                      float(pos_cnt)/pos_tot,\n",
    "                                                                                      cnt,pos_share,\n",
    "                                                                                      pos_share/pos_share_tot,\n",
    "                                                                                      nvl(data[int((1-q)*len(data))-1][0],-20)\n",
    "                                                                                     ))"
   ]
  },
  {
   "cell_type": "code",
   "execution_count": 35,
   "metadata": {
    "collapsed": false
   },
   "outputs": [],
   "source": []
  },
  {
   "cell_type": "code",
   "execution_count": null,
   "metadata": {
    "collapsed": true
   },
   "outputs": [],
   "source": []
  }
 ],
 "metadata": {
  "kernelspec": {
   "display_name": "Python 2",
   "language": "python",
   "name": "python2"
  },
  "language_info": {
   "codemirror_mode": {
    "name": "ipython",
    "version": 2
   },
   "file_extension": ".py",
   "mimetype": "text/x-python",
   "name": "python",
   "nbconvert_exporter": "python",
   "pygments_lexer": "ipython2",
   "version": "2.7.10"
  }
 },
 "nbformat": 4,
 "nbformat_minor": 0
}
