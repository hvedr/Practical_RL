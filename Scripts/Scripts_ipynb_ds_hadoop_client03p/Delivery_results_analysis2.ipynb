{
 "cells": [
  {
   "cell_type": "code",
   "execution_count": 59,
   "metadata": {
    "collapsed": true
   },
   "outputs": [],
   "source": [
    "#Config\n",
    "from pyspark import SparkConf, SparkContext, HiveContext\n",
    "import re\n",
    "import numpy as np\n",
    "import pandas as pd\n",
    "import datetime"
   ]
  },
  {
   "cell_type": "code",
   "execution_count": 60,
   "metadata": {
    "collapsed": true
   },
   "outputs": [],
   "source": [
    "sc.stop()\n",
    "conf = SparkConf().set(\"spark.executor.instances\", 32).set(\"spark.driver.maxResultSize\", \"8g\")\n",
    "sc = SparkContext(conf=conf)\n",
    "hc = HiveContext(sc)"
   ]
  },
  {
   "cell_type": "code",
   "execution_count": 61,
   "metadata": {
    "collapsed": true
   },
   "outputs": [],
   "source": [
    "# Cyrrilic -> Latin\n",
    "symbols = (u\"абвгдеёжзийклмнопрстуфхцчшщъыьэюяАБВГДЕЁЖЗИЙКЛМНОПРСТУФХЦЧШЩЪЫЬЭЮЯ\",\n",
    "           u\"abvgdeejzijklmnoprstufhzcss_y_euaABVGDEEJZIJKLMNOPRSTUFHZCSS_Y_EUA\")\n",
    "\n",
    "tr = {ord(a):ord(b) for a, b in zip(*symbols)}"
   ]
  },
  {
   "cell_type": "code",
   "execution_count": 62,
   "metadata": {
    "collapsed": false
   },
   "outputs": [],
   "source": [
    "#Read data\n",
    "dfr = pd.read_csv('./data/result_Card_21.csv',sep=';')\n",
    "df1 = pd.get_dummies(dfr[[u'open', u'click', u'abuse', u'unsubscribe', u'error']])\n",
    "df1.columns = [c.decode('utf-8').translate(tr).replace(' ','_') for c in df1.columns]\n",
    "df1['email'] = dfr['email']\n",
    "df1 = df1.rename(columns = {       u'abuse':u'abuse',\n",
    "                               u'open_open': u'open',\n",
    "                             u'click_click': u'click',\n",
    "                 u'unsubscribe_unsubscribe': u'unsubscribe',\n",
    "                    u'error_Jaloba_na_spam': u'err_spam',\n",
    "       u'error_Poctovyj_asik_ne_susestvuet': u'err_not_exists',\n",
    "           u'error_Poctovyj_asik_neaktiven': u'err_not_active',\n",
    "                                   u'email':u'email'})\n",
    "df1[[  u'open',u'click',  u'unsubscribe',   u'err_spam', u'err_not_exists',u'err_not_active']] = \\\n",
    "df1[[  u'open',u'click',  u'unsubscribe',   u'err_spam', u'err_not_exists',u'err_not_active']].astype(int)"
   ]
  },
  {
   "cell_type": "code",
   "execution_count": 3,
   "metadata": {
    "collapsed": false
   },
   "outputs": [
    {
     "data": {
      "text/plain": [
       "1087"
      ]
     },
     "execution_count": 3,
     "metadata": {},
     "output_type": "execute_result"
    }
   ],
   "source": []
  },
  {
   "cell_type": "code",
   "execution_count": 63,
   "metadata": {
    "collapsed": false
   },
   "outputs": [
    {
     "data": {
      "text/plain": [
       "\"\\nhc.sql('drop table if exists deliv_res_temp1')\\nhc.registerDataFrameAsTable(hc.createDataFrame(df1), 'deliv_res_temp1')\\nhc.sql('drop table if exists user_kposminin.delivery_results2')\\nhc.sql('create table user_kposminin.delivery_results2 as select * from deliv_res_temp')\\n\""
      ]
     },
     "execution_count": 63,
     "metadata": {},
     "output_type": "execute_result"
    }
   ],
   "source": [
    "#hc.createDataFrame(df1).registerTempTable(\"deliv_res_temp\")\n",
    "'''\n",
    "hc.sql('drop table if exists deliv_res_temp1')\n",
    "hc.registerDataFrameAsTable(hc.createDataFrame(df1), 'deliv_res_temp1')\n",
    "hc.sql('drop table if exists user_kposminin.delivery_results2')\n",
    "hc.sql('create table user_kposminin.delivery_results2 as select * from deliv_res_temp')\n",
    "'''"
   ]
  },
  {
   "cell_type": "code",
   "execution_count": 64,
   "metadata": {
    "collapsed": false
   },
   "outputs": [],
   "source": [
    "process_query = '''\n",
    "drop table if exists user_kposminin.delivery_results3;\n",
    "\n",
    "create table user_kposminin.delivery_results3 as \n",
    "select \n",
    "   d.*,\n",
    "   not (t.email is NULL) as control,\n",
    "   s.model,\n",
    "   s.score,\n",
    "   not (pa.utm_term is NULL) as started,\n",
    "   eu.utm_term,\n",
    "   (pa.is_processed = 3) as completed\n",
    "\n",
    "from \n",
    "   user_kposminin.delivery_results2 d\n",
    "left join (select `_1` as email from user_mvsurovikov.la_cc_emails_hashed_ctrl_20160809) t\n",
    "    on d.email = t.email\n",
    "left join\n",
    "     (select \n",
    "        email,\n",
    "        model,\n",
    "        max(score) as score\n",
    "      from\n",
    "        user_mvsurovikov.la_cc_scored_20160809_3\n",
    "      group by \n",
    "        email,\n",
    "        model\n",
    "      ) s\n",
    "     on\n",
    "      d.email = s.email\n",
    "left join\n",
    "    (select \n",
    "        `_1` as email,\n",
    "        `_2` as utm_term\n",
    "    from\n",
    "        (\n",
    "        select * from user_mvsurovikov.la_cc_emails_hashed_ctrl_20160809 \n",
    "        union all\n",
    "        select * from user_mvsurovikov.la_cc_emails_hashed_20160809 \n",
    "        ) a\n",
    "    ) eu\n",
    "    on d.email = eu.email\n",
    "left join prod_dds.portal_application pa \n",
    "    on eu.utm_term = pa.utm_term'''\n",
    "\n",
    "#for q in process_query.split(';'):\n",
    "#    hc.sql(q)\n",
    "\n",
    "df = pd.DataFrame([r.asDict() for r in hc.sql('select * from user_kposminin.delivery_results3').collect()])\n"
   ]
  },
  {
   "cell_type": "code",
   "execution_count": 65,
   "metadata": {
    "collapsed": false
   },
   "outputs": [],
   "source": [
    "df1 = df\n",
    "for c in df.columns:\n",
    "    if df[c].dtype == type(True): df[c] = df[c].astype(int)"
   ]
  },
  {
   "cell_type": "code",
   "execution_count": null,
   "metadata": {
    "collapsed": false
   },
   "outputs": [],
   "source": [
    "df\n",
    "#df[[ u'open', u'click', u'unsubscribe', u'err_spam', u'err_not_exists', u'err_not_active', u'control', u'started']].drop_duplicates()"
   ]
  },
  {
   "cell_type": "code",
   "execution_count": null,
   "metadata": {
    "collapsed": false
   },
   "outputs": [],
   "source": [
    "#df.mean()"
   ]
  },
  {
   "cell_type": "code",
   "execution_count": null,
   "metadata": {
    "collapsed": false
   },
   "outputs": [],
   "source": [
    "df.groupby(['model','control'])['email'].count()\n",
    "#df.ix[df[(df['control'] == 1) &(df['model'] == 'NA')].index,'model'] = 'control'"
   ]
  },
  {
   "cell_type": "code",
   "execution_count": null,
   "metadata": {
    "collapsed": false
   },
   "outputs": [],
   "source": []
  },
  {
   "cell_type": "code",
   "execution_count": null,
   "metadata": {
    "collapsed": false
   },
   "outputs": [],
   "source": [
    " %matplotlib inline\n",
    "import pandas as pd\n",
    "import numpy as np\n",
    "import matplotlib.pyplot as plt\n"
   ]
  },
  {
   "cell_type": "code",
   "execution_count": null,
   "metadata": {
    "collapsed": false
   },
   "outputs": [],
   "source": [
    "model = 'mkb_cc'\n",
    "dfm = df[df['model'] == model]"
   ]
  },
  {
   "cell_type": "code",
   "execution_count": null,
   "metadata": {
    "collapsed": false
   },
   "outputs": [],
   "source": [
    "dfm['scb'] = pd.cut(dfm['score'], bins = dfm['score'].quantile(np.arange(0,1.2,0.2)).values, labels  = False).values\n"
   ]
  },
  {
   "cell_type": "code",
   "execution_count": null,
   "metadata": {
    "collapsed": false
   },
   "outputs": [],
   "source": [
    "dfm.groupby('scb').mean()"
   ]
  },
  {
   "cell_type": "code",
   "execution_count": null,
   "metadata": {
    "collapsed": false
   },
   "outputs": [],
   "source": []
  },
  {
   "cell_type": "code",
   "execution_count": null,
   "metadata": {
    "collapsed": true
   },
   "outputs": [],
   "source": []
  }
 ],
 "metadata": {
  "kernelspec": {
   "display_name": "Python 2",
   "language": "python",
   "name": "python2"
  },
  "language_info": {
   "codemirror_mode": {
    "name": "ipython",
    "version": 2
   },
   "file_extension": ".py",
   "mimetype": "text/x-python",
   "name": "python",
   "nbconvert_exporter": "python",
   "pygments_lexer": "ipython2",
   "version": "2.7.10"
  }
 },
 "nbformat": 4,
 "nbformat_minor": 0
}
