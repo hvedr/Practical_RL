{
 "cells": [
  {
   "cell_type": "markdown",
   "metadata": {},
   "source": [
    "##Кредитный скоринг\n",
    "### Разметка выборки"
   ]
  },
  {
   "cell_type": "code",
   "execution_count": 29,
   "metadata": {
    "collapsed": true
   },
   "outputs": [],
   "source": [
    "#### Config\n",
    "from pyspark import SparkConf, SparkContext, HiveContext\n",
    "import re\n",
    "import numpy as np\n",
    "import pandas as pd\n",
    "import datetime\n",
    "from pyspark.mllib.regression import LabeledPoint\n",
    "from pyspark.mllib.feature import HashingTF\n",
    "from pyspark.mllib.classification import LogisticRegressionWithSGD, NaiveBayes, NaiveBayesModel\n",
    "import scipy.sparse as sps\n",
    "from pyspark.mllib.linalg import Vectors\n",
    "from pyspark.mllib.linalg import SparseVector\n",
    "from pyspark.mllib.evaluation import BinaryClassificationMetrics\n",
    "import hashlib\n",
    "from collections import Counter\n",
    "\n",
    "hive_config_query = '''\n",
    "set hive.vectorized.execution.enabled=true;\n",
    "set hive.vectorized.execution.reduce.enabled = true;\n",
    "set mapreduce.map.memory.mb=4096;\n",
    "set mapreduce.map.child.java.opts=-Xmx4g;\n",
    "set mapreduce.task.io.sort.mb=1024;\n",
    "set mapreduce.reduce.child.java.opts=-Xmx4g;\n",
    "set mapreduce.reduce.memory.mb=7000;\n",
    "set mapreduce.reduce.shuffle.input.buffer.percent=0.5;\n",
    "set mapreduce.input.fileinputformat.split.minsize=536870912;\n",
    "set mapreduce.input.fileinputformat.split.maxsize=1073741824;\n",
    "set hive.optimize.ppd=true;\n",
    "set hive.merge.smallfiles.avgsize=536870912;\n",
    "set hive.merge.mapredfiles=true;\n",
    "set hive.merge.mapfiles=true;\n",
    "set hive.hadoop.supports.splittable.combineinputformat=true;\n",
    "set hive.exec.reducers.bytes.per.reducer=536870912;\n",
    "set hive.exec.parallel=true;\n",
    "set hive.exec.max.created.files=10000000;\n",
    "set hive.exec.compress.output=true;\n",
    "set hive.exec.dynamic.partition.mode=nonstrict;\n",
    "set hive.exec.max.dynamic.partitions=1000000;\n",
    "set hive.exec.max.dynamic.partitions.pernode=100000;\n",
    "set io.seqfile.compression.type=BLOCK;\n",
    "set mapreduce.map.failures.maxpercent=5;\n",
    "'''\n",
    "\n",
    "sc.stop()\n",
    "conf = (SparkConf()\n",
    "        .set(\"spark.executor.instances\", 2)\n",
    "        .set(\"spark.driver.maxResultSize\", \"8g\")\n",
    "        .set('spark.driver.memory','6g')\n",
    "        .set(\"spark.executor.memory\", '2g')\n",
    "        .set(\"spark.yarn.executor.memoryOverhead\", 1048)        \n",
    "       )\n",
    "sc = SparkContext(conf=conf)\n",
    "hc = HiveContext(sc)\n",
    "\n",
    "for q in hive_config_query.split(';'):\n",
    "    try:\n",
    "        hc.sql(q)\n",
    "    except:\n",
    "        pass"
   ]
  },
  {
   "cell_type": "markdown",
   "metadata": {},
   "source": [
    "#### Создаем таблицу визитов"
   ]
  },
  {
   "cell_type": "code",
   "execution_count": 30,
   "metadata": {
    "collapsed": true
   },
   "outputs": [],
   "source": [
    "query_pattern = '''\n",
    "\n",
    "insert overwrite \n",
    " table user_kposminin.ccall_visits_aza_test_20170309 partition(ymd)\n",
    "select\n",
    "  a.phone_mobile\n",
    " ,'2017-03-09' as call_ymd\n",
    " ,v.id\n",
    " ,v.url_fragment as urlfr\n",
    " ,v.visit_count as cnt\n",
    " ,v.duration_sec as duration\n",
    " ,v.average_visit_hour as avg_hour\n",
    " ,v.ymd\n",
    " \n",
    "from\n",
    "  prod_odd.visit_feature v \n",
    "  inner join user_kposminin.aza_to_scoring_liru_id a on v.id = a.id and v.load_src = a.load_src\n",
    "where\n",
    "  v.ymd = '#visit_ymd'\n",
    ";\n",
    "'''\n",
    "\n",
    "import datetime\n",
    "start_date = datetime.date(2017,3,8)\n",
    "\n",
    "#Uncomment 2 rows below to generate queries for visits filling\n",
    "#for i in range(180):\n",
    "#    print(query_pattern.replace('#visit_ymd', str(start_date - datetime.timedelta(days = i))))"
   ]
  },
  {
   "cell_type": "markdown",
   "metadata": {},
   "source": [
    "#### Обсчитываем признаки"
   ]
  },
  {
   "cell_type": "code",
   "execution_count": 1,
   "metadata": {
    "collapsed": true
   },
   "outputs": [],
   "source": [
    "gen_features_query = '''\n",
    "\n",
    "-- -- user_kposminin.cred_app_visits -- --\n",
    "\n",
    "-- select ymd,count(*) from cred_app_visits group by ymd order by ymd;\n",
    "-- user_kposminin.ccall_visits_aza_test_20170309\n",
    "\n",
    "create table user_kposminin.ccall_sc_aza_20170309_1 as\n",
    "select \n",
    "  phone_mobile, \n",
    "  call_ymd,\n",
    "  (unix_timestamp(max(ymd), 'yyyy-MM-dd') - unix_timestamp(min(ymd), 'yyyy-MM-dd'))/60/60/24 as ymd_range,\n",
    "  stddev(unix_timestamp(ymd, 'yyyy-MM-dd')/60/60 + avg_hour) as time_std,\n",
    "  count(distinct ymd) as ymd_cnt,\n",
    "  count(distinct id) as id_cnt,\n",
    "  avg(avg_hour) as avg_hour,\n",
    "  percentile_approx(avg_hour,0.1) as avg_hour_q10,\n",
    "  percentile_approx(avg_hour,0.9) as avg_hour_q90,\n",
    "  urlfr,\n",
    "  count(*) as cnt,\n",
    "  sum(cnt) as hits,\n",
    "  avg(duration) as avg_duration\n",
    "from \n",
    "  user_kposminin.ccall_visits_aza_test_20170309  v\n",
    "where\n",
    "  call_ymd > ymd and call_ymd < date_add(ymd,180)\n",
    "group by\n",
    "  phone_mobile, \n",
    "  call_ymd,\n",
    "  urlfr\n",
    ";\n",
    "\n",
    "create table user_kposminin.ccall_sc_aza_20170309_2 as \n",
    "  select \n",
    "     v.phone_mobile,     \n",
    "     v.call_ymd,\n",
    "     v.urlfr,\n",
    "     log((t1.cnt_positive + 1)/(t1.cnt_total - t1.cnt_positive + 1)) as score1,\n",
    "     t2.score as score2,\n",
    "     t3.score as score3,\n",
    "     v.cnt,\n",
    "     v.hits,\n",
    "     v.avg_duration,\n",
    "     v.time_std, \n",
    "     v.ymd_range, \n",
    "     v.avg_hour,\n",
    "     v.avg_hour_q10, \n",
    "     v.avg_hour_q90, \n",
    "     v.ymd_cnt,\n",
    "     substr(y.section_ind, 0, 6) as yaca_ind   \n",
    "  from\n",
    "     user_kposminin.ccall_sc_aza_20170309_1 v\n",
    "     left join user_kposminin.urlfr_tgt_cnt_ccall_20161201 t1 on t1.urlfr = v.urlfr\n",
    "     left join (\n",
    "       select urlfr,score from prod_features_liveinternet.urlfr_tgt_cnt_cumulative2\n",
    "       where ymd = '2017-01-15' and target = 'tinkoff_platinum_approved_application03@tinkoff_action'\n",
    "       and (cnt_total > 30000 or cnt_positive > 10)) t2 on t2.urlfr = v.urlfr\n",
    "     left join (\n",
    "       select urlfr,score from prod_features_liveinternet.urlfr_tgt_cnt_cumulative2\n",
    "       where ymd = '2017-01-15' and target = 'tinkoff_platinum_complete_application03@tinkoff_action'\n",
    "       and (cnt_total > 30000 or cnt_positive > 10)) t3 on t3.urlfr = v.urlfr\n",
    "     left join user_kposminin.yaca_urlfr y on y.urlfr = v.urlfr\n",
    "\n",
    ";\n",
    "\n",
    "\n",
    "create table user_kposminin.ccall_sc_aza_20170309_3 as \n",
    "select\n",
    "  phone_mobile                   as phone_mobile,\n",
    "  call_ymd                       as call_ymd, \n",
    "  yaca_ind                       as yaca_ind,\n",
    "  sum(cnt)                       as visits_cnt\n",
    "from user_kposminin.ccall_sc_aza_20170309_2 a\n",
    "group by\n",
    "  phone_mobile, call_ymd, yaca_ind \n",
    ";\n",
    "\n",
    "\n",
    "create table user_kposminin.ccall_sc_aza_20170309_4 as \n",
    "select\n",
    "  phone_mobile                   as phone_mobile,\n",
    "  call_ymd                       as call_ymd, \n",
    "  sum(cnt)                       as visits_cnt\n",
    "from user_kposminin.ccall_sc_aza_20170309_2 a\n",
    "group by\n",
    "  phone_mobile, call_ymd\n",
    ";\n",
    "\n",
    "\n",
    "#Здесь не хочет считать. Помогает, если таблицу user_kposminin.cc_sc_tr_2_t  хранить в формате bzip2 и выставить настройки :\n",
    "\n",
    "\n",
    "create table user_kposminin.ccall_sc_aza_20170309_5 as \n",
    "select \n",
    "  phone_mobile as phone_mobile, \n",
    "  call_ymd as call_ymd, \n",
    "  count(*) as cnt, \n",
    "  sum(cnt) as visits_cnt, \n",
    "  sum(hits) as hits, \n",
    "  avg(avg_duration) as avg_duration, \n",
    "  avg(time_std) as avg_time_std, \n",
    "  avg(ymd_range) as avg_ymd_range, \n",
    "  avg(ymd_cnt) as avg_ymd_cnt, \n",
    "  avg(avg_hour) as avg_hour, \n",
    "  avg(avg_hour_q10) as avg_hour_q10, \n",
    "  avg(avg_hour_q90) as avg_hour_q90, \n",
    "  max(score1) as max_score1, \n",
    "  avg(score1) as avg_score1, \n",
    "  percentile_approx(score1,array(0.95,0.9,0.7,0.5,0.3)) as q_arr_score1, \n",
    "  max(score2) as max_score2, \n",
    "  avg(score2) as avg_score2, \n",
    "  percentile_approx(score2,array(0.95,0.9,0.7,0.5,0.3)) as q_arr_score2, \n",
    "  max(score3) as max_score3,\n",
    "  avg(score3) as avg_score3, \n",
    "  percentile_approx(score3,array(0.95,0.9,0.7,0.5,0.3)) as q_arr_score3 \n",
    "from user_kposminin.ccall_sc_aza_20170309_2 a \n",
    "group by a.phone_mobile, a.call_ymd\n",
    ";\n",
    "\n",
    "create table user_kposminin.ccall_sc_aza_20170309_5_part2 as \n",
    "select \n",
    "  phone_mobile as phone_mobile, \n",
    "  call_ymd as call_ymd, \n",
    "  sum(if(urlfr like 'e.mail.ru%',1,0)) as emailru,\n",
    "  sum(if(urlfr like 'm.%',1,0))/sum(1) as mobile_share,\n",
    "  sum(if(urlfr rlike '^(m\\\\.)?vk.com%', 1, 0))/sum(1) as vk_share,\n",
    "  sum(if(urlfr like 'vk.com%' or urlfr rlike '^(m\\\\.)?ok\\\\.ru' or urlfr like 'm.odnoklassniki.ru%' or urlfr rlike '^(m\\\\.)?my.mail.ru',1,0))/sum(1) as social_share,\n",
    "\n",
    "  sum(if(avg_hour >= 9 and avg_hour <= 20,cnt,0))/sum(1) as work_hours_hits_share,\n",
    "  stddev(avg_hour) as hour_std,  \n",
    "  count( if(score1 > 1, urlfr,Null))/sum(1) as good_urlfr_share_score1,\n",
    "  count( if(score2 > -7, urlfr,Null))/sum(1) as good_urlfr_share_score2,\n",
    "  count( if(score3 > -7, urlfr,Null))/sum(1) as good_urlfr_share_score3,\n",
    "  avg( if(score1 > 1, time_std ,Null)) as good_urlfr_timestd_score1,\n",
    "  max(\n",
    "             named_struct(\n",
    "             'score1', score1,\n",
    "             'time_std', time_std\n",
    "             )           \n",
    "     ).time_std as max_urlfr_time_std_1\n",
    "from user_kposminin.ccall_sc_aza_20170309_2 a \n",
    "group by a.phone_mobile, a.call_ymd\n",
    ";\n",
    "\n",
    "\n",
    "create table user_kposminin.ccall_sc_aza_20170309_6 as \n",
    "select\n",
    "  b.phone_mobile                 as phone_mobile,\n",
    "  b.call_ymd                     as call_ymd, \n",
    "  concat_ws(\" \",sort_array(collect_list(concat(b.yaca_ind,\":\",format_number(b.visits_cnt/greatest(c.visits_cnt,cast(1 as bigint)),5))))) as yaca_str\n",
    "  \n",
    "from user_kposminin.ccall_sc_aza_20170309_3 b \n",
    "  left join user_kposminin.ccall_sc_aza_20170309_5 c on c.phone_mobile = b.phone_mobile and c.call_ymd = b.call_ymd\n",
    "group by\n",
    "  b.phone_mobile, b.call_ymd ;\n",
    " \n",
    "\n",
    "create table user_kposminin.ccall_sc_aza_20170309_scoring as\n",
    "select\n",
    "  a.*,\n",
    "  c.emailru, \n",
    "  c.mobile_share, \n",
    "  c.vk_share, \n",
    "  c.social_share,\n",
    "  c.work_hours_hits_share, \n",
    "  c.hour_std, \n",
    "  c.good_urlfr_share_score1, \n",
    "  c.good_urlfr_share_score2, \n",
    "  c.good_urlfr_share_score3, \n",
    "  c.good_urlfr_timestd_score1, \n",
    "  c.max_urlfr_time_std_1, \n",
    "  b.yaca_str\n",
    "from\n",
    "  user_kposminin.ccall_sc_aza_20170309_5 a\n",
    "  left join ccall_sc_aza_20170309_6 b on b.phone_mobile = a.phone_mobile and b.call_ymd = a.call_ymd\n",
    "  left join ccall_sc_aza_20170309_5_part2 c on c.phone_mobile = a.phone_mobile and c.call_ymd = a.call_ymd\n",
    ";\n",
    "\n",
    "'''"
   ]
  },
  {
   "cell_type": "markdown",
   "metadata": {},
   "source": [
    "#### Загрузить и обработать таблицу с признаками"
   ]
  },
  {
   "cell_type": "code",
   "execution_count": 32,
   "metadata": {
    "collapsed": true
   },
   "outputs": [],
   "source": [
    "cols = [u'phone_mobile', u'call_ymd', u'cnt', u'visits_cnt',\n",
    "       u'hits', u'avg_duration', u'avg_time_std', u'avg_ymd_range',\n",
    "       u'avg_ymd_cnt', u'avg_hour', u'avg_hour_q10', u'avg_hour_q90',\n",
    "       u'max_score1', u'avg_score1', u'q95_score1', u'q90_score1',\n",
    "       u'q70_score1', u'q50_score1', u'q30_score1', u'max_score2',\n",
    "       u'avg_score2', u'q95_score2', u'q90_score2', u'q70_score2',\n",
    "       u'q50_score2', u'q30_score2', u'max_score3', u'avg_score3',\n",
    "       u'q95_score3', u'q90_score3', u'q70_score3', u'q50_score3',\n",
    "       u'q30_score3', u'emailru', u'mobile_share', u'vk_share',\n",
    "       u'social_share', u'work_hours_hits_share', u'hour_std',\n",
    "       u'good_urlfr_share_score1', u'good_urlfr_share_score2',\n",
    "       u'good_urlfr_share_score3', u'good_urlfr_timestd_score1',\n",
    "       u'max_urlfr_time_std_1', u'yaca_str']"
   ]
  },
  {
   "cell_type": "code",
   "execution_count": 33,
   "metadata": {
    "collapsed": false
   },
   "outputs": [],
   "source": [
    "df_test = (hc.sql('select * from user_kposminin.ccall_sc_aza_20170309_scoring')\n",
    "        .map(lambda r: list(r[:14]) + (r[14] if r[14] else []) + list(r[15:17]) + (r[17] if r[17] else [])  + list(r[18:20]) + (r[20] if r[20] else [])  + list(r[21:]))\n",
    "        .toDF()\n",
    "        .toPandas()\n",
    "         )\n",
    "df_test.columns = cols #[c for c in df_train_all.columns if c != 'approve']"
   ]
  },
  {
   "cell_type": "code",
   "execution_count": 34,
   "metadata": {
    "collapsed": false
   },
   "outputs": [],
   "source": [
    "feat_cols = df_test.columns[2:-1]\n",
    "#label     = 'approve'"
   ]
  },
  {
   "cell_type": "markdown",
   "metadata": {},
   "source": [
    "###Факторы Я.каталога"
   ]
  },
  {
   "cell_type": "code",
   "execution_count": 35,
   "metadata": {
    "collapsed": false
   },
   "outputs": [
    {
     "data": {
      "text/plain": [
       "sklearn.feature_extraction.dict_vectorizer.DictVectorizer"
      ]
     },
     "execution_count": 35,
     "metadata": {},
     "output_type": "execute_result"
    }
   ],
   "source": [
    "import cPickle\n",
    "from sklearn.feature_extraction import DictVectorizer\n",
    "# cPickle.dump(v,open('data/ccall_scoring_dict_vectorizer','w'))\n",
    "v1 = cPickle.load(open('data/ccall_scoring_dict_vectorizer','r'))\n",
    "type(v1)"
   ]
  },
  {
   "cell_type": "code",
   "execution_count": 36,
   "metadata": {
    "collapsed": false
   },
   "outputs": [],
   "source": [
    "#df_train_all_yaca_dense = v1.fit_transform(df_train_all['yaca_str'].map(lambda s: { kv.split(':')[0]:float(kv.split(':')[1])  for kv in s.split(' ')} if s else {}))\n",
    "df_test_yaca_dense = v1.transform(df_test['yaca_str'].map(lambda s: { kv.split(':')[0]:float(kv.split(':')[1])  for kv in s.split(' ')} if s else {}))"
   ]
  },
  {
   "cell_type": "code",
   "execution_count": 37,
   "metadata": {
    "collapsed": false
   },
   "outputs": [],
   "source": [
    "yaca_cols = ['yaca_{}'.format(i) for i in range(df_train_all_yaca_dense.shape[1])]\n",
    "for i in range(df_test_yaca_dense.shape[1]):\n",
    "    #df_train_all.loc[:,'yaca_{}'.format(i)] = df_train_all_yaca_dense[:,i]\n",
    "    df_test.loc[:,'yaca_{}'.format(i)] = df_test_yaca_dense[:,i]"
   ]
  },
  {
   "cell_type": "code",
   "execution_count": 38,
   "metadata": {
    "collapsed": false
   },
   "outputs": [],
   "source": [
    "import xgboost as xgb\n",
    "feat_cols_w_yaca = feat_cols.tolist() + yaca_cols\n",
    "#dtrain_all_yaca = xgb.DMatrix( df_train_all[feat_cols_w_yaca], label=df_train_all['approve'], missing = np.nan)\n",
    "dtest_all_yaca = xgb.DMatrix( df_test[feat_cols_w_yaca], missing = np.nan)"
   ]
  },
  {
   "cell_type": "markdown",
   "metadata": {},
   "source": [
    "### Модель xgboost"
   ]
  },
  {
   "cell_type": "code",
   "execution_count": 39,
   "metadata": {
    "collapsed": false
   },
   "outputs": [
    {
     "data": {
      "text/plain": [
       "xgboost.core.Booster"
      ]
     },
     "execution_count": 39,
     "metadata": {},
     "output_type": "execute_result"
    }
   ],
   "source": [
    "bst1 = cPickle.load(open('data/ccall_scoring_xgb.model','r'))\n",
    "type(bst1)"
   ]
  },
  {
   "cell_type": "code",
   "execution_count": 40,
   "metadata": {
    "collapsed": false
   },
   "outputs": [],
   "source": [
    "df_test.loc[:,'pred'] = bst1.predict(dtest_all_yaca)"
   ]
  },
  {
   "cell_type": "code",
   "execution_count": 42,
   "metadata": {
    "collapsed": false
   },
   "outputs": [],
   "source": [
    "df_test[['phone_mobile','call_ymd','pred']].to_csv('data/scoring_results.csv')"
   ]
  },
  {
   "cell_type": "markdown",
   "metadata": {
    "collapsed": false
   },
   "source": [
    "### Ожидаемый AUC ROC 0.68"
   ]
  },
  {
   "cell_type": "code",
   "execution_count": null,
   "metadata": {
    "collapsed": true
   },
   "outputs": [],
   "source": []
  },
  {
   "cell_type": "code",
   "execution_count": 9,
   "metadata": {
    "collapsed": true
   },
   "outputs": [],
   "source": []
  },
  {
   "cell_type": "code",
   "execution_count": null,
   "metadata": {
    "collapsed": true
   },
   "outputs": [],
   "source": []
  }
 ],
 "metadata": {
  "kernelspec": {
   "display_name": "Python 2",
   "language": "python",
   "name": "python2"
  },
  "language_info": {
   "codemirror_mode": {
    "name": "ipython",
    "version": 2
   },
   "file_extension": ".py",
   "mimetype": "text/x-python",
   "name": "python",
   "nbconvert_exporter": "python",
   "pygments_lexer": "ipython2",
   "version": "2.7.10"
  }
 },
 "nbformat": 4,
 "nbformat_minor": 0
}
