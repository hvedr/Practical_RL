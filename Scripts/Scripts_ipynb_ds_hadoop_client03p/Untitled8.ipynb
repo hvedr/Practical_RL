{
 "cells": [
  {
   "cell_type": "code",
   "execution_count": 16,
   "metadata": {
    "collapsed": false
   },
   "outputs": [
    {
     "data": {
      "text/plain": [
       "[(datetime.datetime(2017, 1, 1, 0, 0), datetime.datetime(2017, 1, 31, 0, 0)),\n",
       " (datetime.datetime(2017, 2, 1, 0, 0), datetime.datetime(2017, 2, 28, 0, 0)),\n",
       " (datetime.datetime(2017, 3, 1, 0, 0), datetime.datetime(2017, 3, 31, 0, 0)),\n",
       " (datetime.datetime(2017, 4, 1, 0, 0), datetime.datetime(2017, 4, 30, 0, 0)),\n",
       " (datetime.datetime(2017, 5, 1, 0, 0), datetime.datetime(2017, 5, 31, 0, 0)),\n",
       " (datetime.datetime(2017, 6, 1, 0, 0), datetime.datetime(2017, 6, 30, 0, 0))]"
      ]
     },
     "execution_count": 16,
     "metadata": {},
     "output_type": "execute_result"
    }
   ],
   "source": [
    "import datetime\n",
    "acc_months = 6\n",
    " \n",
    "ymd_to_calc   = datetime.datetime(2017, 7, 1) #(datetime.datetime.combine(datetime.date.today(),datetime.time(0,0,0)) - datetime.timedelta(days = 1) # yesterday with 0 time \n",
    "month_change = (ymd_to_calc.day == 1)\n",
    "acc_last_ymd  = ymd_to_calc - datetime.timedelta(days = 1) \n",
    "if(month_change):\n",
    "    pass #acc_first_ymd\n",
    "acc_first_ymd = add_months(datetime.datetime(ymd_to_calc.year,ymd_to_calc.month,1), -acc_months)\n",
    "cur_month_first_ymd = datetime.datetime(ymd_to_calc.year,ymd_to_calc.month,1)\n",
    "ymd_to_calc,acc_last_ymd,acc_first_ymd,cur_month_first_ymd\n",
    "first_days = [add_months(acc_first_ymd,i) for i in range(acc_months + 1)]\n",
    "acc_to_merge = [(fd,nfd - datetime.timedelta(days = 1)) for fd,nfd in zip(first_days[:-1],first_days[1:])]\n",
    "acc_to_merge"
   ]
  },
  {
   "cell_type": "code",
   "execution_count": 2,
   "metadata": {
    "collapsed": true
   },
   "outputs": [],
   "source": [
    "def add_months(ymd,months):\n",
    "    '''ymd is datetime.datetime.'''\n",
    "    year = ymd.year + (ymd.month + months - 1) / 12\n",
    "    month = (ymd.month + months - 1) % 12 + 1\n",
    "    day = ymd.day\n",
    "    return datetime.datetime(year,month,day)\n"
   ]
  },
  {
   "cell_type": "code",
   "execution_count": 5,
   "metadata": {
    "collapsed": false
   },
   "outputs": [
    {
     "data": {
      "text/plain": [
       "(datetime.datetime(2017, 6, 28, 0, 0),\n",
       " datetime.datetime(2017, 6, 27, 0, 0),\n",
       " datetime.datetime(2017, 4, 1, 0, 0),\n",
       " datetime.datetime(2017, 6, 1, 0, 0))"
      ]
     },
     "execution_count": 5,
     "metadata": {},
     "output_type": "execute_result"
    }
   ],
   "source": [
    "ymd_to_calc,acc_last_ymd,acc_first_ymd,cur_month_first_ymd"
   ]
  },
  {
   "cell_type": "code",
   "execution_count": 6,
   "metadata": {
    "collapsed": false
   },
   "outputs": [
    {
     "data": {
      "text/plain": [
       "28"
      ]
     },
     "execution_count": 6,
     "metadata": {},
     "output_type": "execute_result"
    }
   ],
   "source": [
    "ymd_to_calc.day"
   ]
  },
  {
   "cell_type": "code",
   "execution_count": 14,
   "metadata": {
    "collapsed": false
   },
   "outputs": [
    {
     "data": {
      "text/plain": [
       "[(datetime.datetime(2017, 5, 1, 0, 0), datetime.datetime(2017, 5, 31, 0, 0)),\n",
       " (datetime.datetime(2017, 6, 1, 0, 0), datetime.datetime(2017, 6, 30, 0, 0)),\n",
       " (datetime.datetime(2017, 7, 1, 0, 0), datetime.datetime(2017, 7, 31, 0, 0)),\n",
       " (datetime.datetime(2017, 8, 1, 0, 0), datetime.datetime(2017, 8, 31, 0, 0)),\n",
       " (datetime.datetime(2017, 9, 1, 0, 0), datetime.datetime(2017, 9, 30, 0, 0)),\n",
       " (datetime.datetime(2017, 10, 1, 0, 0), datetime.datetime(2017, 10, 31, 0, 0))]"
      ]
     },
     "execution_count": 14,
     "metadata": {},
     "output_type": "execute_result"
    }
   ],
   "source": [
    "acc_months = 6\n",
    "first_days = [add_months(acc_first_ymd,i) for i in range(acc_months + 1)]\n",
    "acc_to_merge = [(fd,nfd - datetime.timedelta(days = 1)) for fd,nfd in zip(first_days[:-1],first_days[1:])]\n",
    "acc_to_merge"
   ]
  },
  {
   "cell_type": "code",
   "execution_count": null,
   "metadata": {
    "collapsed": true
   },
   "outputs": [],
   "source": []
  }
 ],
 "metadata": {
  "kernelspec": {
   "display_name": "Python 2",
   "language": "python",
   "name": "python2"
  },
  "language_info": {
   "codemirror_mode": {
    "name": "ipython",
    "version": 2
   },
   "file_extension": ".py",
   "mimetype": "text/x-python",
   "name": "python",
   "nbconvert_exporter": "python",
   "pygments_lexer": "ipython2",
   "version": "2.7.10"
  }
 },
 "nbformat": 4,
 "nbformat_minor": 0
}
