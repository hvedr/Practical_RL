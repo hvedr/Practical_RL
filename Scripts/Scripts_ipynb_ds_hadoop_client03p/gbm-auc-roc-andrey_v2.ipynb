{
 "cells": [
  {
   "cell_type": "code",
   "execution_count": 34,
   "metadata": {
    "collapsed": true
   },
   "outputs": [],
   "source": [
    "import pandas as pd\n",
    "import numpy as np\n",
    "from pyspark import SparkConf, SparkContext, HiveContext\n",
    "from sklearn.metrics import roc_auc_score\n",
    "\n",
    "sc.stop()\n",
    "conf = SparkConf().set(\"spark.executor.instances\", 32).set(\"spark.driver.maxResultSize\", \"16g\")\n",
    "sc = SparkContext(conf=conf)\n",
    "hc = HiveContext(sc)"
   ]
  },
  {
   "cell_type": "code",
   "execution_count": null,
   "metadata": {
    "collapsed": true
   },
   "outputs": [],
   "source": [
    "'''       ymd,\n",
    "        uid,\n",
    "        (uid IN (SELECT uid from #pos_id_table)) as label,\n",
    "        toInt32(max(score)) as smax,\n",
    "        toInt32(ssum/has_scores) as savg,\n",
    "        toInt64(sum(score * has_score)) as ssum,\n",
    "        toInt32(median(score)) as smedian,\n",
    "        toUInt16(stddevSamp(score)) as sstd,\n",
    "        toUInt32(sum(cnt)) as cntrepeat,\n",
    "        toUInt32(count()) as cntuniq,\n",
    "        toUInt64(sum(duration)) as duration,\n",
    "        toUInt8(sum(has_score)) as has_scores,\n",
    "        toUInt8(max(mobile)) as mobile,\n",
    "        toUInt8(max(emailru)) as emailru,\n",
    "        toUInt8(max(vkru)) as vkru,\n",
    "        toUInt8(max(okru)) as okru,\n",
    "        toUInt8(max(social_other)) as social_other,\n",
    "        length(groupArray(score) as sl) >= 1 ? sl[1] : toInt32(#mv) as s1,\n",
    "        length(sl) >= 2 ? sl[2] : toInt32(#mv) as s2,\n",
    "        length(sl) >= 3 ? sl[3] : toInt32(#mv) as s3,\n",
    "        length(sl) >= 4 ? sl[4] : toInt32(#mv) as s4,\n",
    "        length(sl) >= 5 ? sl[5] : toInt32(#mv) as s5,\n",
    "        length(sl) >= 6 ? sl[6] : toInt32(#mv) as s6,\n",
    "        length(sl) >= 7 ? sl[7] : toInt32(#mv) as s7,\n",
    "        length(sl) >= 8 ? sl[8] : toInt32(#mv) as s8,\n",
    "        length(sl) >= 9 ? sl[9] : toInt32(#mv) as s9,\n",
    "        length(sl) >= 10 ? sl[10] : toInt32(#mv) as s10,\n",
    "        length(sl) >= 1 ? sl[-1] : toInt32(#mv) as sm1,\n",
    "        length(sl) >= 2 ? sl[-2] : toInt32(#mv) as sm2,\n",
    "        length(sl) >= 3 ? sl[-3] : toInt32(#mv) as sm3,\n",
    "        length(sl) >= 4 ? sl[-4] : toInt32(#mv) as sm4,\n",
    "        length(sl) >= 5 ? sl[-5] : toInt32(#mv) as sm5        \n",
    "    FROM        \n",
    "        (SELECT\n",
    "            ymd,\n",
    "            uid,\n",
    "            (score=0) and (total = 0) ? toInt32(#mv) : score as score,\n",
    "            cnt,\n",
    "            (total > 0) ? 1 : 0 as has_score,\n",
    "            duration,\n",
    "            (up like 'm.%') as mobile,\n",
    "            (up like '%e.mail.ru%') as emailru,\n",
    "            match(up,'^vk\\\\.com|[^A-Za-z]vk\\\\.com|^vk.me|[^A-Za-z]vk\\\\.me|^vk\\\\.cc|[^A-Za-z]vk\\\\.cc|vkontakte\\\\.') as vkru,\n",
    "            match(up,'^ok\\\\.ru|[^A-Za-z]ok\\\\.ru|odnoklassniki\\\\.ru') as okru,\n",
    "            match(up,'^fb\\\\.com|[^A-Za-z]fb\\\\.com|instagram\\\\.com|twitter\\\\.com|my\\\\.mail\\\\.ru|livejournal\\\\.com|^lj\\\\.ru') as social_other\n",
    "'''\n",
    "\n",
    "def generate_table_query(day):\n",
    "    return '''\n",
    "    create table user_kposminin.more_features_#ind as\n",
    "    with p as (select \n",
    "           v.id as id,\n",
    "           max(log((t.cnt_positive + 0.1)/(t.cnt_total - t.cnt_positive + 0.1))) as max_score,\n",
    "           min(log((t.cnt_positive + 0.1)/(t.cnt_total - t.cnt_positive + 0.1))) as min_score,\n",
    "           avg(log((t.cnt_positive + 0.1)/(t.cnt_total - t.cnt_positive + 0.1))) as avg_score,\n",
    "           percentile_approx(log((t.cnt_positive + 0.1)/(t.cnt_total - t.cnt_positive + 0.1)),0.9) as q90_score,\n",
    "           percentile_approx(log((t.cnt_positive + 0.1)/(t.cnt_total - t.cnt_positive + 0.1)),0.75) as q75_score,\n",
    "           percentile_approx(log((t.cnt_positive + 0.1)/(t.cnt_total - t.cnt_positive + 0.1)),0.5) as q50_score,\n",
    "           percentile_approx(log((t.cnt_positive + 0.1)/(t.cnt_total - t.cnt_positive + 0.1)),0.25) as q25_score,\n",
    "           count(*) as cnt,\n",
    "           count(distinct v.urlfr) as cnt1,\n",
    "           sum(v.cnt) as hits, \n",
    "           min(v.avg_hour) as min_avg_hour, \n",
    "           max(v.avg_hour) as max_avg_hour,\n",
    "           sum(if(v.urlfr like 'e.mail.ru%',1,0)) as emailru,\n",
    "           sum(if(v.urlfr like 'm.%',1,0))/sum(1) as mobile_share,\n",
    "           sum(if(v.urlfr like 'vk.com%' or v.urlfr like 'ok.ru%' or v.urlfr like 'fb.com%',1,0))/sum(1) as social_share,\n",
    "           max(\n",
    "              named_struct(\n",
    "              'score',(t.cnt_positive + 0.1)/(t.cnt_total - t.cnt_positive + 0.1),\n",
    "              'avg_hour',v.avg_hour\n",
    "              )           \n",
    "           ).avg_hour as max_urlfr_avg_hour,\n",
    "           max(\n",
    "              named_struct(\n",
    "              'score',(t.cnt_positive + 0.1)/(t.cnt_total - t.cnt_positive + 0.1),\n",
    "              'cnt_total',t.cnt_total\n",
    "              )           \n",
    "           ).cnt_total as max_urlfr_cnt_total\n",
    "     from prod_features_liveinternet.visits v\n",
    "     inner join user_kposminin.urlfr_tgt_cnt t on t.urlfr = v.urlfr\n",
    "     where \n",
    "              v.ymd = '#day' and\n",
    "           t.target='tinkoff_platinum_complete_application@tinkoff_action_cumul_month' and\n",
    "           t.ymd = '2016-09-10' and\n",
    "          (t.cnt_total > 25000 or t.cnt_positive > 100) \n",
    "    group by v.id\n",
    "    ),\n",
    "    tt as (SELECT id from prod_features_liveinternet.tinkoff_actions\n",
    "    WHERE ymd = '#day' and action_type = 'tinkoff_platinum_complete_application')\n",
    "    select \n",
    "      a.*, \n",
    "      case when t.id is null then 0 else 1 end as label \n",
    "    from p a\n",
    "    left outer join tt t on t.id = a.id\n",
    "    order by label desc, a.max_score desc;\n",
    "'''.replace('#day',day)..replace('#ind',day.replace('-',''))"
   ]
  },
  {
   "cell_type": "code",
   "execution_count": 35,
   "metadata": {
    "collapsed": true
   },
   "outputs": [],
   "source": [
    "train_query = '''\n",
    "select label, max_score, min_score, avg_score, cnt, hits, min_avg_hour, max_avg_hour\n",
    "from user_kposminin.more_features_20160915_by_1mon_score\n",
    "'''\n",
    "\n",
    "train_data = hc.sql(train_query).toPandas()\n",
    "train_data= train_data.reindex(np.random.permutation(train_data.index)).reset_index(drop = True)"
   ]
  },
  {
   "cell_type": "code",
   "execution_count": 36,
   "metadata": {
    "collapsed": false
   },
   "outputs": [
    {
     "data": {
      "text/plain": [
       "(Index([u'label', u'max_score', u'min_score', u'avg_score', u'cnt', u'hits',\n",
       "        u'min_avg_hour', u'max_avg_hour'],\n",
       "       dtype='object'), (5000000, 8))"
      ]
     },
     "execution_count": 36,
     "metadata": {},
     "output_type": "execute_result"
    }
   ],
   "source": [
    "train_data.columns,train_data.shape"
   ]
  },
  {
   "cell_type": "code",
   "execution_count": 37,
   "metadata": {
    "collapsed": false
   },
   "outputs": [
    {
     "data": {
      "text/plain": [
       "0.59310806955352102"
      ]
     },
     "execution_count": 37,
     "metadata": {},
     "output_type": "execute_result"
    }
   ],
   "source": [
    "roc_auc_score(train_data['label'], train_data['max_score'])"
   ]
  },
  {
   "cell_type": "code",
   "execution_count": 38,
   "metadata": {
    "collapsed": false
   },
   "outputs": [
    {
     "data": {
      "text/plain": [
       "AdaBoostClassifier(algorithm='SAMME.R', base_estimator=None,\n",
       "          learning_rate=1.0, n_estimators=50, random_state=None)"
      ]
     },
     "execution_count": 38,
     "metadata": {},
     "output_type": "execute_result"
    }
   ],
   "source": [
    "from sklearn.ensemble import AdaBoostClassifier\n",
    "\n",
    "cl = AdaBoostClassifier()\n",
    "cl.fit(X =  train_data.iloc[:,1:], y = train_data['label'])"
   ]
  },
  {
   "cell_type": "code",
   "execution_count": 39,
   "metadata": {
    "collapsed": false
   },
   "outputs": [
    {
     "data": {
      "text/plain": [
       "0.95252697659995245"
      ]
     },
     "execution_count": 39,
     "metadata": {},
     "output_type": "execute_result"
    }
   ],
   "source": [
    "roc_auc_score(train_data['label'], cl.predict_proba(train_data.iloc[:,1:])[:,1]) #AUC ROC на train"
   ]
  },
  {
   "cell_type": "code",
   "execution_count": 41,
   "metadata": {
    "collapsed": true
   },
   "outputs": [],
   "source": [
    "test_query = '''\n",
    "select label, max_score, min_score, avg_score, cnt, hits, min_avg_hour, max_avg_hour\n",
    "from user_kposminin.more_features_20160922_by_1mon_score\n",
    "'''\n",
    "\n",
    "test_data = hc.sql(test_query).toPandas()\n",
    "test_data = test_data.reindex(np.random.permutation(test_data.index)).reset_index(drop = True)"
   ]
  },
  {
   "cell_type": "code",
   "execution_count": 42,
   "metadata": {
    "collapsed": false
   },
   "outputs": [
    {
     "data": {
      "text/plain": [
       "0.93816547481898938"
      ]
     },
     "execution_count": 42,
     "metadata": {},
     "output_type": "execute_result"
    }
   ],
   "source": [
    "roc_auc_score(test_data['label'], cl.predict_proba(test_data.iloc[:,1:])[:,1]) #AUC ROC на test"
   ]
  },
  {
   "cell_type": "code",
   "execution_count": 43,
   "metadata": {
    "collapsed": false
   },
   "outputs": [
    {
     "data": {
      "text/plain": [
       "(4999337, 8)"
      ]
     },
     "execution_count": 43,
     "metadata": {},
     "output_type": "execute_result"
    }
   ],
   "source": [
    "min_score = test_data[test_data['label'] == 0]['max_score'].min()\n",
    "test_data_trunc = test_data[test_data['max_score'] >= min_score]\n",
    "test_data_trunc.shape"
   ]
  },
  {
   "cell_type": "code",
   "execution_count": 44,
   "metadata": {
    "collapsed": false
   },
   "outputs": [
    {
     "data": {
      "text/plain": [
       "0.90804329245674831"
      ]
     },
     "execution_count": 44,
     "metadata": {},
     "output_type": "execute_result"
    }
   ],
   "source": [
    "roc_auc_score(test_data_trunc['label'], cl.predict_proba(test_data_trunc.iloc[:,1:])[:,1]) #AUC ROC на честном test"
   ]
  },
  {
   "cell_type": "code",
   "execution_count": 47,
   "metadata": {
    "collapsed": false
   },
   "outputs": [
    {
     "data": {
      "text/plain": [
       "[(0.41999999999999998, 'max_score'),\n",
       " (0.10000000000000001, 'min_score'),\n",
       " (0.20000000000000001, 'avg_score'),\n",
       " (0.10000000000000001, 'cnt'),\n",
       " (0.10000000000000001, 'hits'),\n",
       " (0.059999999999999998, 'min_avg_hour'),\n",
       " (0.02, 'max_avg_hour')]"
      ]
     },
     "execution_count": 47,
     "metadata": {},
     "output_type": "execute_result"
    }
   ],
   "source": [
    "zip(cl.feature_importances_,train_data.columns[1:])"
   ]
  },
  {
   "cell_type": "code",
   "execution_count": null,
   "metadata": {
    "collapsed": true
   },
   "outputs": [],
   "source": []
  },
  {
   "cell_type": "code",
   "execution_count": null,
   "metadata": {
    "collapsed": false
   },
   "outputs": [],
   "source": [
    "import sklearn.model_selection\n",
    "\n",
    "param_grid = {'n_estimators': [20, 50, 100, 400], 'learning_rate': [0.1, 0.5, 1, 2, 5]}\n",
    "\n",
    "GSclf = sklearn.model_selection.RandomizedSearchCV(\n",
    "      estimator = AdaBoostClassifier()\n",
    "    , param_distributions  = param_grid\n",
    "    , n_iter = 20\n",
    "    , scoring = 'roc_auc')\n",
    "GSclf.fit(X =  train_data.iloc[:,1:], y = train_data['label'])\n",
    "roc_auc_score(test_data_trunc['label'], GSclf.predict_proba(test_data_trunc.iloc[:,1:])[:,1]) #AUC ROC на честном test"
   ]
  },
  {
   "cell_type": "code",
   "execution_count": null,
   "metadata": {
    "collapsed": false
   },
   "outputs": [],
   "source": []
  },
  {
   "cell_type": "code",
   "execution_count": null,
   "metadata": {
    "collapsed": true
   },
   "outputs": [],
   "source": []
  }
 ],
 "metadata": {
  "anaconda-cloud": {},
  "kernelspec": {
   "display_name": "Python 2",
   "language": "python",
   "name": "python2"
  },
  "language_info": {
   "codemirror_mode": {
    "name": "ipython",
    "version": 2
   },
   "file_extension": ".py",
   "mimetype": "text/x-python",
   "name": "python",
   "nbconvert_exporter": "python",
   "pygments_lexer": "ipython2",
   "version": "2.7.10"
  }
 },
 "nbformat": 4,
 "nbformat_minor": 1
}
