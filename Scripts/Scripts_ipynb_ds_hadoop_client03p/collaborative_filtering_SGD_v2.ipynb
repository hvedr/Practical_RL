{
 "cells": [
  {
   "cell_type": "code",
   "execution_count": null,
   "metadata": {
    "collapsed": true
   },
   "outputs": [],
   "source": [
    "## !/usr/bin/env python\n",
    "#Config\n",
    "from pyspark import SparkConf, SparkContext, HiveContext\n",
    "#import re\n",
    "import numpy as np\n",
    "import pandas as pd\n",
    "#import datetime\n",
    "#from pyspark.mllib.regression import LabeledPoint\n",
    "#from pyspark.mllib.feature import HashingTF\n",
    "#from pyspark.mllib.classification import LogisticRegressionWithSGD, NaiveBayes, NaiveBayesModel\n",
    "#import scipy.sparse as sps\n",
    "#from pyspark.mllib.linalg import Vectors\n",
    "#import sklearn\n",
    "\n",
    "\n",
    "import sys\n",
    "import itertools\n",
    "\n",
    "#from pyspark.mllib.recommendation import ALS, MatrixFactorizationModel, Rating\n",
    "\n",
    "try:\n",
    "    sc.stop()\n",
    "except NameError:\n",
    "    pass\n",
    "\n",
    "conf = SparkConf().set(\"spark.executor.instances\", 32).set(\"spark.driver.maxResultSize\", \"16g\")\n",
    "sc = SparkContext()\n",
    "hc = HiveContext(sc)\n",
    "sc.setCheckpointDir('checkpoint/')"
   ]
  },
  {
   "cell_type": "code",
   "execution_count": 2,
   "metadata": {
    "collapsed": false,
    "scrolled": true
   },
   "outputs": [],
   "source": [
    "import numpy as np\n",
    "t = sc.parallelize(np.random.rand(20,4))"
   ]
  },
  {
   "cell_type": "markdown",
   "metadata": {},
   "source": [
    "Модель\n",
    "$$\\hat{m}_{ij} = 1/(1+e^{-s_{ij}})$$\n",
    "$$s_{ij} = \\mu + a_i + b_j + \\sum_k X_{ik} \\cdot Y_{kj}$$\n",
    "$$L_{ij} = -m_{ij} \\cdot \\ln(\\hat{m}_{ij}) - (1 - m_{ij}) \\cdot \\ln(1 - \\hat{m}_{ij}) + \\lambda_{0} \\cdot \\mu + \\lambda_{1}\\cdot (a_i^2 + b_j^2) + \\lambda_{2} \\cdot \\sum_k(X_{ik}^2 + Y_{kj}^2)$$"
   ]
  },
  {
   "cell_type": "code",
   "execution_count": 1,
   "metadata": {
    "collapsed": false,
    "scrolled": true
   },
   "outputs": [
    {
     "ename": "NameError",
     "evalue": "name 'np' is not defined",
     "output_type": "error",
     "traceback": [
      "\u001b[1;31m---------------------------------------------------------------------------\u001b[0m",
      "\u001b[1;31mNameError\u001b[0m                                 Traceback (most recent call last)",
      "\u001b[1;32m<ipython-input-1-18e94e17c3f5>\u001b[0m in \u001b[0;36m<module>\u001b[1;34m()\u001b[0m\n\u001b[0;32m     24\u001b[0m \u001b[1;33m\u001b[0m\u001b[0m\n\u001b[0;32m     25\u001b[0m  \u001b[1;31m#   [[0.00001, 0.0001, 0.0001],[0.01, 0.05, 0.01]],\u001b[0m\u001b[1;33m\u001b[0m\u001b[1;33m\u001b[0m\u001b[0m\n\u001b[1;32m---> 26\u001b[1;33m \u001b[1;32mfor\u001b[0m \u001b[0mbase_step\u001b[0m \u001b[1;32min\u001b[0m \u001b[0mnp\u001b[0m\u001b[1;33m.\u001b[0m\u001b[0mexp\u001b[0m\u001b[1;33m(\u001b[0m\u001b[0mnp\u001b[0m\u001b[1;33m.\u001b[0m\u001b[0marange\u001b[0m\u001b[1;33m(\u001b[0m\u001b[1;33m-\u001b[0m\u001b[1;36m8\u001b[0m\u001b[1;33m,\u001b[0m\u001b[1;33m-\u001b[0m\u001b[1;36m2\u001b[0m\u001b[1;33m,\u001b[0m\u001b[1;36m1\u001b[0m\u001b[1;33m)\u001b[0m\u001b[1;33m)\u001b[0m\u001b[1;33m:\u001b[0m\u001b[1;33m\u001b[0m\u001b[0m\n\u001b[0m\u001b[0;32m     27\u001b[0m     \u001b[1;32mfor\u001b[0m \u001b[0mbase_lmbd\u001b[0m \u001b[1;32min\u001b[0m \u001b[0mnp\u001b[0m\u001b[1;33m.\u001b[0m\u001b[0mexp\u001b[0m\u001b[1;33m(\u001b[0m\u001b[0mnp\u001b[0m\u001b[1;33m.\u001b[0m\u001b[0marange\u001b[0m\u001b[1;33m(\u001b[0m\u001b[1;33m-\u001b[0m\u001b[1;36m10\u001b[0m\u001b[1;33m,\u001b[0m\u001b[1;36m0\u001b[0m\u001b[1;33m,\u001b[0m\u001b[1;36m2\u001b[0m\u001b[1;33m)\u001b[0m\u001b[1;33m)\u001b[0m\u001b[1;33m:\u001b[0m\u001b[1;33m\u001b[0m\u001b[0m\n\u001b[0;32m     28\u001b[0m         \u001b[1;32mfor\u001b[0m \u001b[0mvar_step\u001b[0m \u001b[1;32min\u001b[0m \u001b[0mnp\u001b[0m\u001b[1;33m.\u001b[0m\u001b[0marray\u001b[0m\u001b[1;33m(\u001b[0m\u001b[1;33m[\u001b[0m\u001b[1;33m[\u001b[0m\u001b[1;36m0.1\u001b[0m\u001b[1;33m,\u001b[0m\u001b[1;36m1\u001b[0m\u001b[1;33m,\u001b[0m\u001b[1;36m0.1\u001b[0m\u001b[1;33m]\u001b[0m\u001b[1;33m,\u001b[0m\u001b[1;33m[\u001b[0m\u001b[1;36m0.1\u001b[0m\u001b[1;33m,\u001b[0m\u001b[1;36m0.1\u001b[0m\u001b[1;33m,\u001b[0m\u001b[1;36m1\u001b[0m\u001b[1;33m]\u001b[0m\u001b[1;33m,\u001b[0m\u001b[1;33m[\u001b[0m\u001b[1;36m0.01\u001b[0m\u001b[1;33m,\u001b[0m\u001b[1;36m0.1\u001b[0m\u001b[1;33m,\u001b[0m\u001b[1;36m1\u001b[0m\u001b[1;33m]\u001b[0m\u001b[1;33m]\u001b[0m\u001b[1;33m)\u001b[0m\u001b[1;33m:\u001b[0m\u001b[1;33m\u001b[0m\u001b[0m\n",
      "\u001b[1;31mNameError\u001b[0m: name 'np' is not defined"
     ]
    }
   ],
   "source": [
    "import datetime\n",
    "start_time = datetime.datetime.now()\n",
    "# Param selection\n",
    "query = '''\n",
    "select id_num,urlfr_num from \n",
    "(select id_num,urlfr_num,count(*) over (partition by id_num) as uf_cnt,count(*) over (partition by urlfr_num) as id_cnt from user_kposminin.visits_enum_20160412 \n",
    "where id_num < 10000) a\n",
    "where id_cnt > 10 and uf_cnt > 9\n",
    "'''\n",
    "# where uf_cnt > 9 and id_cnt > 500\n",
    "\n",
    "\n",
    "K = 50\n",
    "id_cnt = 10000\n",
    "urlfr_cnt = 3000000\n",
    "epochs = 15\n",
    "\n",
    "\n",
    "#lmbd = np.array([0.01, 0.01, 0.01])\n",
    "\n",
    "#step = np.array([0.001, 0.005, 0.01])\n",
    "\n",
    "param_grid = [[[0.00497871,0.04978707,0.00497871],[4.53999E-07,4.53999E-06,4.53999E-05]]]\n",
    "\n",
    " #   [[0.00001, 0.0001, 0.0001],[0.01, 0.05, 0.01]],\n",
    "for base_step in np.exp(np.arange(-8,-2,1)):\n",
    "    for base_lmbd in np.exp(np.arange(-10,0,2)):\n",
    "        for var_step in np.array([[0.1,1,0.1],[0.1,0.1,1],[0.01,0.1,1]]):\n",
    "            for var_lmbd in np.array([[0.01,0.1,1],[1,0.1,0.01],[1,1,1]]):\n",
    "                param_grid.append([var_step * base_step,var_lmbd * base_lmbd])\n",
    "'''\n",
    "# Load and parse the data\n",
    "sampled_data = hc.sql(query) \\\n",
    "            .collect()\n",
    "print('Sampled data consists of {} rows, {} id and {} uf.'.format(len(sampled_data),len(set([e[0] for e in sampled_data])),len(set([e[1] for e in sampled_data]))))\n",
    "\n",
    "train,test = [], []\n",
    "for r in sampled_data:\n",
    "    if(np.random.rand() < 0.1):\n",
    "        test.append(r)\n",
    "    else:\n",
    "        train.append(r)\n",
    "'''     \n",
    "# \n",
    "# prediction is m^hat_{ij} = 1/(1+exp(-s_{ij})) where s_{ij} = mu + a[i] + b[j] + sum_k (X[i,k] * Y[k,j])\n",
    "# error function is L_{ij} = -m_{ij}*ln(m^hat_{ij}) - (1 - m_{ij})*ln(1 - m^hat_{ij}) + \n",
    "#                            lmbd[0] * mu + lmbd[1]*(a_i^2 + b_j^2) + lmbd[2]*sum_k(X_{ik}^2 + Y_{kj}^2)\n",
    "f = open('data/collab_filter_SGD_param_tuning.csv','a+')\n",
    "stat = []\n",
    "prev_id = -1\n",
    "uf_visited= []\n",
    "neg_sig_share = 2\n",
    "\n",
    "for step,lmbd in param_grid:    \n",
    "    #Init matrices\n",
    "    mu = np.random.rand()\n",
    "    a = np.random.rand(id_cnt)\n",
    "    b = np.random.rand(urlfr_cnt)\n",
    "    X = np.random.rand(id_cnt, K) / (K ** 0.5)\n",
    "    Y = np.random.rand(K,urlfr_cnt) / (K ** 0.5)\n",
    "    \n",
    "    def make_step(i, j, v):\n",
    "        s = mu + a[i] + b[j] + X[i,:].dot(Y[:,j])\n",
    "        pred = 1./(1+np.exp(-s))\n",
    "        err = v - pred # r[2] - pred\n",
    "        grad_mu = -err + lmbd[0] * mu\n",
    "        grad_ai = -err + lmbd[1] * a[i]\n",
    "        grad_bj = -err + lmbd[1] * b[j]\n",
    "        grad_xi = -err * Y[:,j] + lmbd[2] * X[i,:]\n",
    "        grad_yj = -err * X[i,:] + lmbd[2] * Y[:,j]\n",
    "        # TODO Implement Adadelta SGD version. \n",
    "        #http://int8.io/comparison-of-optimization-techniques-stochastic-gradient-descent-momentum-adagrad-and-adadelta/#AdaDelta_8211_implementation\n",
    "        mu   += - grad_mu * step[0]\n",
    "        a[i] += - grad_ai * step[1]\n",
    "        b[j] += - grad_bj * step[1]\n",
    "        X[i,:] = X[i,:] - grad_xi * step[2]\n",
    "        Y[:,j] = Y[:,j] - grad_yj * step[2]\n",
    "\n",
    "    for epoch in range(epochs):\n",
    "        for r in train:\n",
    "            i,j = r[:2]\n",
    "            make_step(i,j,1)\n",
    "            if i == prev_id: \n",
    "                uf_visited.append(j)\n",
    "            else:\n",
    "                # Add negative examples\n",
    "                ni = np.random.randint(len(train) - len(uf_visited) - 5)\n",
    "                n = 0\n",
    "                while(n < int(len(uf_visited) * neg_sig_share)):\n",
    "                    if(not train[ni + n][1] in uf_visited):\n",
    "                        make_step(prev_id, train[ni + n][1],0)\n",
    "                        n +=1                \n",
    "                uf_visited = []\n",
    "                prev_id = i\n",
    "\n",
    "        \n",
    "        #calc err\n",
    "        err1 ,err2 = 0, 0\n",
    "        for r in test:\n",
    "            i,j = r[:2]\n",
    "            s = mu + a[i] + b[j] + X[i,:].dot(Y[:,j])\n",
    "            pred = 1/(1+np.exp(-s))\n",
    "            err1 += - 1 * np.log(pred) # r[2] - pred\n",
    "            err2 += - 1 * np.log(pred) + lmbd[0] * mu + lmbd[1] * (a[i] ** 2 + b[j] ** 2) + lmbd[2] * (X[i,:].dot(X[i,:]) + Y[:,j].dot(Y[:,j]))\n",
    "        err1 /= float(len(test))\n",
    "        err2 /= float(len(test))\n",
    "        \n",
    "        stat=('{} ' * 5).format(step,lmbd,epoch,err1, err2)\n",
    "        #f.write(stat + '\\n')\n",
    "        print(stat)\n",
    "        \n",
    "#open('data/collab_filter_SGD_param_tuning.csv','a+').write(str(stat))\n",
    "print('Finish. Work time {}.'.format(datetime.datetime.now()- start_time))\n",
    "#f.write('\\nFinish at {}. Work time {}.\\n\\n\\n'.format(datetime.datetime.now(),datetime.datetime.now() - start_time))\n",
    "f.close()"
   ]
  },
  {
   "cell_type": "code",
   "execution_count": 158,
   "metadata": {
    "collapsed": false
   },
   "outputs": [
    {
     "data": {
      "text/plain": [
       "1.00000453999"
      ]
     },
     "execution_count": 158,
     "metadata": {},
     "output_type": "execute_result"
    }
   ],
   "source": []
  },
  {
   "cell_type": "code",
   "execution_count": 111,
   "metadata": {
    "collapsed": false,
    "scrolled": true
   },
   "outputs": [
    {
     "data": {
      "text/latex": [
       "$$\\hat{m_{ij}} = 1/(1+e^{-s_{ij}}), s_{ij} = \\mu + a_i + b_j + \\sum_k X_{ik} * Y_{kj}$$"
      ],
      "text/plain": [
       "<IPython.core.display.Math object>"
      ]
     },
     "metadata": {},
     "output_type": "display_data"
    }
   ],
   "source": [
    "#from IPython.display import display, Math, Latex\n",
    "#display(Math(r'F(k) = \\int_{-\\infty}^{\\infty} f(x) e^{2\\pi i k} dx'))\n",
    "display(Math('$$\\hat{m_{ij}} = 1/(1+e^{-s_{ij}}), s_{ij} = \\mu + a_i + b_j + \\sum_k X_{ik} * Y_{kj}$$'))\n",
    "# error function is L_{ij} = -m_{ij}*ln(m^hat_{ij}) - (1 - m_{ij})*ln(1 - m^hat_{ij}) + \n",
    "#                            lmbd[0] * mu + lmbd[1]*(a_i^2 + b_j^2) + lmbd[2]*sum_k(X_{ik}^2 + Y_{kj}^2)\n"
   ]
  },
  {
   "cell_type": "code",
   "execution_count": 114,
   "metadata": {
    "collapsed": false
   },
   "outputs": [
    {
     "data": {
      "text/plain": [
       "(0.0089550880129666641, 0.01349197871646092)"
      ]
     },
     "execution_count": 114,
     "metadata": {},
     "output_type": "execute_result"
    }
   ],
   "source": [
    "err1 ,err2 = 0, 0\n",
    "for k in range(100):\n",
    "    if 1==1:\n",
    "        if 1==1:\n",
    "            i,j = test[k][0],test[i][1]\n",
    "            s = mu + a[i] + b[j] + X[i,:].dot(Y[:,j])\n",
    "            pred = 1/(1+np.exp(-s))\n",
    "            err1 += - 1 * np.log( pred) # r[2] - pred\n",
    "            err2 += - 1 * np.log( pred) + lmbd[0] * mu + lmbd[1] * (a[i] ** 2 + b[j] ** 2) + lmbd[2] * (X[i,:].dot(X[i,:]) + Y[:,j].dot(Y[:,j]))\n",
    "err1 /= 100.0\n",
    "err1, err2/100."
   ]
  },
  {
   "cell_type": "code",
   "execution_count": null,
   "metadata": {
    "collapsed": false
   },
   "outputs": [],
   "source": []
  },
  {
   "cell_type": "code",
   "execution_count": null,
   "metadata": {
    "collapsed": false
   },
   "outputs": [],
   "source": []
  },
  {
   "cell_type": "code",
   "execution_count": null,
   "metadata": {
    "collapsed": true
   },
   "outputs": [],
   "source": []
  }
 ],
 "metadata": {
  "kernelspec": {
   "display_name": "Python 2",
   "language": "python",
   "name": "python2"
  },
  "language_info": {
   "codemirror_mode": {
    "name": "ipython",
    "version": 2
   },
   "file_extension": ".py",
   "mimetype": "text/x-python",
   "name": "python",
   "nbconvert_exporter": "python",
   "pygments_lexer": "ipython2",
   "version": "2.7.10"
  }
 },
 "nbformat": 4,
 "nbformat_minor": 0
}
