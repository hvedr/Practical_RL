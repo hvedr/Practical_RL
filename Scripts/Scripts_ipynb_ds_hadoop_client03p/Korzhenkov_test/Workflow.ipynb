{
 "cells": [
  {
   "cell_type": "markdown",
   "metadata": {},
   "source": [
    "# Тестирование ежедневного процесса"
   ]
  },
  {
   "cell_type": "code",
   "execution_count": 4,
   "metadata": {
    "collapsed": true
   },
   "outputs": [],
   "source": [
    "import cc_rtb\n",
    "import hive2local\n",
    "import mynotification"
   ]
  },
  {
   "cell_type": "code",
   "execution_count": 5,
   "metadata": {
    "collapsed": true
   },
   "outputs": [],
   "source": [
    "from datetime import datetime, timedelta"
   ]
  },
  {
   "cell_type": "code",
   "execution_count": 6,
   "metadata": {
    "collapsed": true
   },
   "outputs": [],
   "source": [
    "HIVE_HOST = 'ds-hadoop-cs01p'\n",
    "HIVE_PORT = 10000\n",
    "USER = 'k.p.osminin'\n",
    "#LIB = 'user_dmkorzhenkov'\n",
    "LIB = 'user_kposminin'\n",
    "\n",
    "CONF2={'hive.vectorized.execution.enabled':'true'\n",
    "    ,'hive.vectorized.execution.reduce.enabled':'true'\n",
    "    ,'mapreduce.map.memory.mb':'4096'\n",
    "    ,'mapreduce.map.child.java.opts':'-Xmx4g'\n",
    "    ,'mapreduce.task.io.sort.mb':'1024'\n",
    "    ,'mapreduce.reduce.child.java.opts':'-Xmx4g'\n",
    "    ,'mapreduce.reduce.memory.mb':'7000'\n",
    "    ,'mapreduce.reduce.shuffle.input.buffer.percent':'0.5'\n",
    "    ,'mapreduce.input.fileinputformat.split.minsize':'536870912'\n",
    "    ,'mapreduce.input.fileinputformat.split.maxsize':'1073741824'\n",
    "    ,'hive.optimize.ppd':'true'\n",
    "    ,'hive.merge.smallfiles.avgsize':'536870912'\n",
    "    ,'hive.merge.mapredfiles':'true'\n",
    "    ,'hive.merge.mapfiles':'true'\n",
    "    ,'hive.hadoop.supports.splittable.combineinputformat':'true'\n",
    "    ,'hive.exec.reducers.bytes.per.reducer':'536870912'\n",
    "    ,'hive.exec.parallel':'true'\n",
    "    ,'hive.exec.max.created.files':'10000000'\n",
    "    ,'hive.exec.compress.output':'true'\n",
    "    ,'hive.exec.dynamic.partition.mode':'nonstrict'\n",
    "    ,'hive.exec.max.dynamic.partitions':'1000000'\n",
    "    ,'hive.exec.max.dynamic.partitions.pernode':'100000'\n",
    "    ,'io.seqfile.compression.type':'BLOCK'    \n",
    "    ,'mapreduce.map.failures.maxpercent':'5'\n",
    "      }\n",
    "\n",
    "conn_params = {'host': HIVE_HOST,\n",
    "               'port': HIVE_PORT,\n",
    "               'username': USER,\n",
    "               'configuration': CONF2,\n",
    "               'lib': LIB\n",
    "              }"
   ]
  },
  {
   "cell_type": "code",
   "execution_count": 7,
   "metadata": {
    "collapsed": false
   },
   "outputs": [],
   "source": [
    "s_today = str(datetime.now().date())\n",
    "dt_yesterday = datetime.now().date() + timedelta(days=-1)"
   ]
  },
  {
   "cell_type": "code",
   "execution_count": 8,
   "metadata": {
    "collapsed": false
   },
   "outputs": [],
   "source": [
    "filename = 'report_' + s_today + '.txt'\n",
    "f = open(filename, 'w')"
   ]
  },
  {
   "cell_type": "code",
   "execution_count": 9,
   "metadata": {
    "collapsed": false
   },
   "outputs": [],
   "source": [
    "# help(cc_rtb.CredCardRTB)"
   ]
  },
  {
   "cell_type": "code",
   "execution_count": 10,
   "metadata": {
    "collapsed": true
   },
   "outputs": [],
   "source": [
    "flow = cc_rtb.CredCardRTB(date=dt_yesterday, verbose=True, output=f, **conn_params)"
   ]
  },
  {
   "cell_type": "code",
   "execution_count": 11,
   "metadata": {
    "collapsed": true
   },
   "outputs": [],
   "source": [
    "flow.set_score_properties('prod_features_liveinternet.urlfr_tgt_cnt_cumulative2',\n",
    "                          \"'2016-12-26'\",\n",
    "                          \"'tinkoff_platinum_approved_application03@tinkoff_action'\"\n",
    "                         )"
   ]
  },
  {
   "cell_type": "code",
   "execution_count": 12,
   "metadata": {
    "collapsed": false
   },
   "outputs": [],
   "source": [
    "stats, dmp_id = flow.create_prod_sample()"
   ]
  },
  {
   "cell_type": "code",
   "execution_count": 13,
   "metadata": {
    "collapsed": false
   },
   "outputs": [
    {
     "data": {
      "text/plain": [
       "('daily_features', 'daily_features_svmlib', 'daily_features_uid')"
      ]
     },
     "execution_count": 13,
     "metadata": {},
     "output_type": "execute_result"
    }
   ],
   "source": [
    "flow.compute_features(lib_table_name=stats, result_name='daily_features', svmlib=True)"
   ]
  },
  {
   "cell_type": "code",
   "execution_count": 14,
   "metadata": {
    "collapsed": true
   },
   "outputs": [],
   "source": [
    "f.write(\"\\nThat's all!\\n\")\n",
    "f.close()"
   ]
  },
  {
   "cell_type": "code",
   "execution_count": 11,
   "metadata": {
    "collapsed": false
   },
   "outputs": [],
   "source": [
    "# # создаем текст письма\n",
    "# html_text = \"\"\"\n",
    "# <html>\n",
    "#     <head>Отчет cc_la_approve_daily_workflow</head>\n",
    "#     <body>\n",
    "#         <p>\n",
    "#             Привет!<br>\n",
    "#             Процесс выполнен!<br>\n",
    "#         </p>\n",
    "#     </body>\n",
    "# </html>\n",
    "# \"\"\"\n",
    "\n",
    "# # посылаем письмо\n",
    "# notification = mynotification.MyNotification(login='d.m.korzhenkov',\n",
    "#                                              encrypted_password=b'Sm9sRlRXWjEy',\n",
    "#                                              mail_from='d.m.korzhenkov@tinkoff.ru'\n",
    "#                                             )\n",
    "# notification.sent_letter_with_file(mail_to=['d.m.korzhenkov@tinkoff.ru'], subject='Test Report',\n",
    "#                                    html_content=html_text, attachment=filename\n",
    "#                                    )"
   ]
  },
  {
   "cell_type": "code",
   "execution_count": 15,
   "metadata": {
    "collapsed": false
   },
   "outputs": [],
   "source": []
  },
  {
   "cell_type": "code",
   "execution_count": 14,
   "metadata": {
    "collapsed": true
   },
   "outputs": [],
   "source": []
  },
  {
   "cell_type": "code",
   "execution_count": null,
   "metadata": {
    "collapsed": true
   },
   "outputs": [],
   "source": []
  }
 ],
 "metadata": {
  "kernelspec": {
   "display_name": "Python 2",
   "language": "python",
   "name": "python2"
  }
 },
 "nbformat": 4,
 "nbformat_minor": 0
}
