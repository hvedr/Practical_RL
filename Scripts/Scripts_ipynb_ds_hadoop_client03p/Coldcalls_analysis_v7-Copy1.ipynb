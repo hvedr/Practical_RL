{
 "cells": [
  {
   "cell_type": "markdown",
   "metadata": {},
   "source": [
    "####  Холодные звонки\n",
    "\n",
    "Классификатор только на основе телефонного номера. Без интернет логов."
   ]
  },
  {
   "cell_type": "code",
   "execution_count": 2,
   "metadata": {
    "collapsed": false
   },
   "outputs": [],
   "source": [
    "#Config\n",
    "from pyspark import SparkConf, SparkContext, HiveContext\n",
    "import re\n",
    "import numpy as np\n",
    "import pandas as pd\n",
    "import datetime\n",
    "from pyspark.mllib.regression import LabeledPoint\n",
    "from pyspark.mllib.feature import HashingTF\n",
    "from pyspark.mllib.classification import LogisticRegressionWithSGD, NaiveBayes, NaiveBayesModel\n",
    "import scipy.sparse as sps\n",
    "from pyspark.mllib.linalg import Vectors\n",
    "import datetime\n",
    "sc.stop()\n",
    "conf = SparkConf().set(\"spark.executor.instances\", 64).set(\"spark.driver.maxResultSize\", \"32g\")\n",
    "sc = SparkContext(conf=conf)\n",
    "hc = HiveContext(sc)\n",
    "\n"
   ]
  },
  {
   "cell_type": "code",
   "execution_count": 6,
   "metadata": {
    "collapsed": true
   },
   "outputs": [],
   "source": [
    "create_table_query = '''\n",
    "create table user_kposminin.ccalls_sig_2 as\n",
    "select \n",
    "  c.ymd,\n",
    "  c.phone_num,\n",
    "  c.approve, \n",
    "  c.full_app, \n",
    "  c.stop_cond, \n",
    "  if(c.status in ('Успешно','Уже оставил заявку','Действующий клиент'),1,0) as target,\n",
    "  if(c.status in ('Нет потребности в кредите','Не требуется сейчас','Попросил не звонить/Претензионный'),1,0) as no_need,\n",
    "  if(c.status in ('Недозвон','Не отвечает','Левый контакт','Занято','Автоответчик','Недоступен','Ошибка телефонии',\n",
    "                'Сбрасывает','Клиент умер','Звонок сорвался',''),1,0) as not_started,\n",
    "  c.util_30,           \n",
    "  c.status, \n",
    "  from_unixtime(unix_timestamp(dt), 'u') as weekday,\n",
    "  hour(dt) as raw_hour,\n",
    "  trim(pc.provider) as mob_provider,\n",
    "  r.ind,\n",
    "  r.pop_country_share, \n",
    "  r.pop_city_share, \n",
    "  r.population / r.area_sq_km as density,\n",
    "  r.area_sq_km,\n",
    "  trim(r.federal_district) as federal_district, \n",
    "  r.avg_salary_2015_rub, \n",
    "  r.utc_time_zone_val\n",
    "from\n",
    "  user_kposminin.cold_calls_4 c\n",
    "  left join hermes.phone_codes pc on trim(pc.phone_code) = substr(c.phone_num,2,9)\n",
    "  left join (select trim(pc_name) as pc_name, max(reg_stat_ind) as reg_stat_ind from user_kposminin.tmp_pc_2 group by  trim(pc_name)) tmp on tmp.pc_name = trim(pc.region)\n",
    "  left join hermes.region_stat r on r.ind = tmp.reg_stat_ind\n",
    ";\n",
    "'''"
   ]
  },
  {
   "cell_type": "code",
   "execution_count": 9,
   "metadata": {
    "collapsed": false
   },
   "outputs": [],
   "source": [
    "read_query = '''\n",
    "select * from user_kposminin.ccalls_sig_2\n",
    "where not ind is Null\n",
    "'''\n",
    "\n",
    "\n",
    "data = hc.sql(read_query) \n",
    "\n",
    "train_data = data \\\n",
    "    .filter(\"ymd < '2016-06-15' and rand() * 7 < 1 \") \\\n",
    "    .toPandas()\n",
    "\n",
    "test_data = data \\\n",
    "    .filter(\"ymd >= '2016-06-15' and rand() * 2 < 1 \") \\\n",
    "    .toPandas()"
   ]
  },
  {
   "cell_type": "code",
   "execution_count": 19,
   "metadata": {
    "collapsed": false
   },
   "outputs": [],
   "source": [
    "train_data = train_data[~train_data['ind'].isnull()]\n",
    "test_data = test_data[~test_data['ind'].isnull()]"
   ]
  },
  {
   "cell_type": "code",
   "execution_count": 36,
   "metadata": {
    "collapsed": false
   },
   "outputs": [
    {
     "data": {
      "text/plain": [
       "Index([           u'status',           u'weekday',          u'raw_hour',\n",
       "            u'mob_provider',               u'ind', u'pop_country_share',\n",
       "          u'pop_city_share',           u'density',        u'area_sq_km',\n",
       "        u'federal_district', \n",
       "       ...\n",
       "                u'ind_78.0',          u'ind_73.0',          u'ind_35.0',\n",
       "                u'ind_61.0',          u'ind_84.0',          u'ind_83.0',\n",
       "                u'ind_55.0',          u'ind_47.0',          u'ind_33.0',\n",
       "                u'ind_26.0'],\n",
       "      dtype='object', length=113)"
      ]
     },
     "execution_count": 36,
     "metadata": {},
     "output_type": "execute_result"
    }
   ],
   "source": [
    "#train_data.columns\n",
    "train_data.columns[9:]"
   ]
  },
  {
   "cell_type": "code",
   "execution_count": 33,
   "metadata": {
    "collapsed": false
   },
   "outputs": [
    {
     "name": "stderr",
     "output_type": "stream",
     "text": [
      "/opt/anaconda/lib/python2.7/site-packages/IPython/kernel/__main__.py:3: SettingWithCopyWarning: \n",
      "A value is trying to be set on a copy of a slice from a DataFrame.\n",
      "Try using .loc[row_indexer,col_indexer] = value instead\n",
      "\n",
      "See the the caveats in the documentation: http://pandas.pydata.org/pandas-docs/stable/indexing.html#indexing-view-versus-copy\n",
      "  app.launch_new_instance()\n"
     ]
    }
   ],
   "source": [
    "for col in ['mob_provider','federal_district']:\n",
    "    for c in pd.concat([train_data,test_data])[col].dropna().unique():\n",
    "        train_data[col + '_' + c] = train_data[col].map(lambda v: 1 * (c == v))\n",
    "        test_data[col + '_' + c]  =  test_data[col].map(lambda v: 1 * (c == v))\n",
    "\n",
    "for col in ['ind']:\n",
    "    for c in pd.concat([train_data,test_data])[col].dropna().unique():\n",
    "        train_data[col + '_' + str(c)] = train_data[col].map(lambda v: 1 * (c == v))\n",
    "        test_data[col + '_' + str(c)]  =  test_data[col].map(lambda v: 1 * (c == v))\n"
   ]
  },
  {
   "cell_type": "code",
   "execution_count": 67,
   "metadata": {
    "collapsed": false
   },
   "outputs": [],
   "source": [
    "#train_data.columns\n",
    "#feat_cols = [u'weekday',u'raw_hour', u'pop_country_share',u'pop_city_share', u'density', u'area_sq_km',\n",
    "#       u'avg_salary_2015_rub', u'utc_time_zone_val']\n",
    "feat_cols = [c for c in train_data.columns if not c in [u'ymd',u'phone_num',u'approve',u'full_app',u'stop_cond',\n",
    "                u'target',u'no_need', u'not_started',u'util_30',u'status',u'mob_provider','federal_district','ind']]\n",
    "label_col = 'approve'"
   ]
  },
  {
   "cell_type": "code",
   "execution_count": 68,
   "metadata": {
    "collapsed": false
   },
   "outputs": [
    {
     "data": {
      "text/plain": [
       "'approve'"
      ]
     },
     "execution_count": 68,
     "metadata": {},
     "output_type": "execute_result"
    }
   ],
   "source": [
    "label_col"
   ]
  },
  {
   "cell_type": "code",
   "execution_count": 65,
   "metadata": {
    "collapsed": false
   },
   "outputs": [
    {
     "name": "stderr",
     "output_type": "stream",
     "text": [
      "/opt/anaconda/lib/python2.7/site-packages/IPython/kernel/__main__.py:2: SettingWithCopyWarning: \n",
      "A value is trying to be set on a copy of a slice from a DataFrame.\n",
      "Try using .loc[row_indexer,col_indexer] = value instead\n",
      "\n",
      "See the the caveats in the documentation: http://pandas.pydata.org/pandas-docs/stable/indexing.html#indexing-view-versus-copy\n",
      "  from IPython.kernel.zmq import kernelapp as app\n"
     ]
    }
   ],
   "source": [
    "test_data[label_col + '_XGBoost']= [e[1] for e in clfXGB.predict_proba(Xt)]\n",
    "train_data[label_col + '_XGBoost']= [e[1] for e in clfXGB.predict_proba(X)]"
   ]
  },
  {
   "cell_type": "code",
   "execution_count": 69,
   "metadata": {
    "collapsed": true
   },
   "outputs": [],
   "source": [
    "from sklearn.preprocessing import Imputer\n",
    "imp = Imputer(missing_values='NaN', strategy='mean')\n",
    "X, y  = imp.fit_transform(train_data[feat_cols]), train_data[label_col]\n",
    "Xt,yt = imp.transform(test_data[feat_cols])     , test_data[label_col]\n"
   ]
  },
  {
   "cell_type": "code",
   "execution_count": 71,
   "metadata": {
    "collapsed": false
   },
   "outputs": [
    {
     "name": "stdout",
     "output_type": "stream",
     "text": [
      "XGBoost AUCROC test: 0.52493187505. train 0.551681911162\n"
     ]
    }
   ],
   "source": [
    "import sklearn\n",
    "import xgboost as xgb\n",
    "\n",
    "clfXGB = xgb.XGBClassifier()\n",
    "clfXGB.fit(X,y)\n",
    "print('{0} AUCROC test: {1}. train {2}'.format(\n",
    "               'XGBoost',\n",
    "                sklearn.metrics.roc_auc_score(\n",
    "                  y_true = yt, \n",
    "                  y_score = [e[1] for e in clfXGB.predict_proba(Xt)]\n",
    "                ),\n",
    "                sklearn.metrics.roc_auc_score(\n",
    "                  y_true = y, \n",
    "                  y_score = [e[1] for e in clfXGB.predict_proba(X)]\n",
    "                )                                              \n",
    "))"
   ]
  },
  {
   "cell_type": "code",
   "execution_count": 73,
   "metadata": {
    "collapsed": false
   },
   "outputs": [
    {
     "name": "stdout",
     "output_type": "stream",
     "text": [
      "AdaBoostClassifier AUCROC: 0.52457212172\n"
     ]
    }
   ],
   "source": [
    "from sklearn.ensemble import AdaBoostClassifier\n",
    "\n",
    "clfAB = AdaBoostClassifier(learning_rate = 0.1, n_estimators = 150)\n",
    "clfAB.fit(X,y)\n",
    "print('{0} AUCROC: {1}'.format('AdaBoostClassifier',sklearn.metrics.roc_auc_score(\n",
    "                y_true = yt, \n",
    "                y_score = [e[1] for e in clfAB.predict_proba(Xt)]\n",
    "    )))"
   ]
  },
  {
   "cell_type": "code",
   "execution_count": 75,
   "metadata": {
    "collapsed": false
   },
   "outputs": [
    {
     "name": "stdout",
     "output_type": "stream",
     "text": [
      "LogisticRegression AUCROC: 0.524069080925\n"
     ]
    },
    {
     "name": "stderr",
     "output_type": "stream",
     "text": [
      "/opt/anaconda/lib/python2.7/site-packages/sklearn/utils/class_weight.py:65: DeprecationWarning: The class_weight='auto' heuristic is deprecated in 0.17 in favor of a new heuristic class_weight='balanced'. 'auto' will be removed in 0.19\n",
      "  \" 0.19\", DeprecationWarning)\n"
     ]
    }
   ],
   "source": [
    "import sklearn.linear_model\n",
    "mLR = sklearn.linear_model.LogisticRegression(penalty = 'l1',C =1, class_weight = 'auto')\n",
    "mLR.fit(X,y)\n",
    "print('{0} AUCROC: {1}'.format('LogisticRegression',sklearn.metrics.roc_auc_score(\n",
    "                y_true = yt, \n",
    "                y_score = [e[1] for e in mLR.predict_proba(Xt)]\n",
    "    )))"
   ]
  },
  {
   "cell_type": "code",
   "execution_count": 74,
   "metadata": {
    "collapsed": false
   },
   "outputs": [
    {
     "name": "stdout",
     "output_type": "stream",
     "text": [
      "AdaBoostClassifier AUCROC: 0.525027464328\n"
     ]
    }
   ],
   "source": [
    "from sklearn.ensemble import AdaBoostClassifier\n",
    "\n",
    "clfAB = AdaBoostClassifier(learning_rate = 0.1, n_estimators = 250)\n",
    "clfAB.fit(X,y)\n",
    "print('{0} AUCROC: {1}'.format('AdaBoostClassifier',sklearn.metrics.roc_auc_score(\n",
    "                y_true = yt, \n",
    "                y_score = [e[1] for e in clfAB.predict_proba(Xt)]\n",
    "    )))"
   ]
  },
  {
   "cell_type": "code",
   "execution_count": null,
   "metadata": {
    "collapsed": true
   },
   "outputs": [],
   "source": []
  }
 ],
 "metadata": {
  "kernelspec": {
   "display_name": "Python 2",
   "language": "python",
   "name": "python2"
  },
  "language_info": {
   "codemirror_mode": {
    "name": "ipython",
    "version": 2
   },
   "file_extension": ".py",
   "mimetype": "text/x-python",
   "name": "python",
   "nbconvert_exporter": "python",
   "pygments_lexer": "ipython2",
   "version": "2.7.10"
  }
 },
 "nbformat": 4,
 "nbformat_minor": 0
}
