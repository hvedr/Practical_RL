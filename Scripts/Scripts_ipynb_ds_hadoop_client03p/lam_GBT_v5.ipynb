{
 "cells": [
  {
   "cell_type": "code",
   "execution_count": 1,
   "metadata": {
    "collapsed": true
   },
   "outputs": [],
   "source": [
    "import datetime\n",
    "from pyspark import SparkConf, SparkContext, HiveContext\n",
    "sc.stop()\n",
    "conf = SparkConf().set(\"spark.executor.instances\", 32).set(\"spark.driver.maxResultSize\", \"32g\")\n",
    "sc = SparkContext(conf=conf)\n",
    "#sc.setCheckpointDir('/user/kposminin/checkpointdir/')"
   ]
  },
  {
   "cell_type": "code",
   "execution_count": 101,
   "metadata": {
    "collapsed": true
   },
   "outputs": [],
   "source": [
    " sc.stop()"
   ]
  },
  {
   "cell_type": "code",
   "execution_count": 2,
   "metadata": {
    "collapsed": false
   },
   "outputs": [],
   "source": [
    "\n",
    "def repart(filename):\n",
    "    starttime = datetime.datetime.now()\n",
    "    sc.textFile(filename).repartition(32*8).saveAsTextFile('.'.join(filename.split('.')[:-1]))\n",
    "    print('End. Time of work {0}.'.format(datetime.datetime.now() - starttime))\n",
    "#repart(\"/user/kposminin/la_20160818.txt\")"
   ]
  },
  {
   "cell_type": "code",
   "execution_count": 13,
   "metadata": {
    "collapsed": false
   },
   "outputs": [],
   "source": [
    "from pyspark.mllib.tree import GradientBoostedTrees, GradientBoostedTreesModel\n",
    "from pyspark.mllib.util import MLUtils\n",
    "from pyspark.mllib.regression import LabeledPoint\n",
    "from pyspark.mllib.evaluation import BinaryClassificationMetrics\n",
    "import sklearn\n",
    "import sklearn.ensemble\n",
    "\n",
    "# Load and parse the data file.\n",
    "train = sc.textFile(\"/user/kposminin/la_20160817\") \\\n",
    "  .filter(lambda s: (s[0] == '1') or (hash(s) % 500 == 0)) \\\n",
    "  .map(lambda r:r.split('\\t')) \\\n",
    "  .map(lambda r:[int(e) for e in r]) \\\n",
    "  .collect()\n",
    "test = sc.textFile(\"/user/kposminin/la_20160824\") \\\n",
    "  .filter(lambda s: (s[0] == '1') or (hash(s) % 500 == 0)) \\\n",
    "  .map(lambda r:r.split('\\t')) \\\n",
    "  .map(lambda r:[int(e) for e in r]) \\\n",
    "  .collect()\n",
    "\n",
    "test_rdd = sc.textFile(\"/user/kposminin/la_20160824\") \\\n",
    "  .map(lambda r:r.split('\\t')) \\\n",
    "  .map(lambda r:[int(e) for e in r])"
   ]
  },
  {
   "cell_type": "markdown",
   "metadata": {},
   "source": [
    "\n",
    "### Варьируем размер семплирования  "
   ]
  },
  {
   "cell_type": "code",
   "execution_count": 100,
   "metadata": {
    "collapsed": false
   },
   "outputs": [
    {
     "name": "stdout",
     "output_type": "stream",
     "text": [
      "34624\n",
      "18098\n"
     ]
    },
    {
     "ename": "ValueError",
     "evalue": "Found arrays with inconsistent numbers of samples: [18098 34624]",
     "output_type": "error",
     "traceback": [
      "\u001b[1;31m---------------------------------------------------------------------------\u001b[0m",
      "\u001b[1;31mValueError\u001b[0m                                Traceback (most recent call last)",
      "\u001b[1;32m<ipython-input-100-edaf34a039a9>\u001b[0m in \u001b[0;36m<module>\u001b[1;34m()\u001b[0m\n\u001b[0;32m     10\u001b[0m     \u001b[1;32mprint\u001b[0m\u001b[1;33m(\u001b[0m\u001b[0ms\u001b[0m\u001b[1;33m)\u001b[0m\u001b[1;33m\u001b[0m\u001b[0m\n\u001b[0;32m     11\u001b[0m     modelGBT[s] = sklearn.ensemble.GradientBoostingClassifier(n_estimators=500, learning_rate=0.1,\n\u001b[1;32m---> 12\u001b[1;33m        max_depth=6, random_state=0).fit(X = [e[1:] for e in train], y = [e[0] for e in train1])\n\u001b[0m\u001b[0;32m     13\u001b[0m     AUCROC[s] = sklearn.metrics.roc_auc_score(\n\u001b[0;32m     14\u001b[0m         \u001b[0my_true\u001b[0m \u001b[1;33m=\u001b[0m \u001b[1;33m[\u001b[0m\u001b[0me\u001b[0m\u001b[1;33m[\u001b[0m\u001b[1;36m0\u001b[0m\u001b[1;33m]\u001b[0m \u001b[1;32mfor\u001b[0m \u001b[0me\u001b[0m \u001b[1;32min\u001b[0m \u001b[0mtest1\u001b[0m\u001b[1;33m]\u001b[0m\u001b[1;33m,\u001b[0m\u001b[1;33m\u001b[0m\u001b[0m\n",
      "\u001b[1;32m/opt/anaconda/lib/python2.7/site-packages/sklearn/ensemble/gradient_boosting.pyc\u001b[0m in \u001b[0;36mfit\u001b[1;34m(self, X, y, sample_weight, monitor)\u001b[0m\n\u001b[0;32m    939\u001b[0m \u001b[1;33m\u001b[0m\u001b[0m\n\u001b[0;32m    940\u001b[0m         \u001b[1;31m# Check input\u001b[0m\u001b[1;33m\u001b[0m\u001b[1;33m\u001b[0m\u001b[0m\n\u001b[1;32m--> 941\u001b[1;33m         \u001b[0mX\u001b[0m\u001b[1;33m,\u001b[0m \u001b[0my\u001b[0m \u001b[1;33m=\u001b[0m \u001b[0mcheck_X_y\u001b[0m\u001b[1;33m(\u001b[0m\u001b[0mX\u001b[0m\u001b[1;33m,\u001b[0m \u001b[0my\u001b[0m\u001b[1;33m,\u001b[0m \u001b[0mdtype\u001b[0m\u001b[1;33m=\u001b[0m\u001b[0mDTYPE\u001b[0m\u001b[1;33m)\u001b[0m\u001b[1;33m\u001b[0m\u001b[0m\n\u001b[0m\u001b[0;32m    942\u001b[0m         \u001b[0mn_samples\u001b[0m\u001b[1;33m,\u001b[0m \u001b[0mself\u001b[0m\u001b[1;33m.\u001b[0m\u001b[0mn_features\u001b[0m \u001b[1;33m=\u001b[0m \u001b[0mX\u001b[0m\u001b[1;33m.\u001b[0m\u001b[0mshape\u001b[0m\u001b[1;33m\u001b[0m\u001b[0m\n\u001b[0;32m    943\u001b[0m         \u001b[1;32mif\u001b[0m \u001b[0msample_weight\u001b[0m \u001b[1;32mis\u001b[0m \u001b[0mNone\u001b[0m\u001b[1;33m:\u001b[0m\u001b[1;33m\u001b[0m\u001b[0m\n",
      "\u001b[1;32m/opt/anaconda/lib/python2.7/site-packages/sklearn/utils/validation.pyc\u001b[0m in \u001b[0;36mcheck_X_y\u001b[1;34m(X, y, accept_sparse, dtype, order, copy, force_all_finite, ensure_2d, allow_nd, multi_output, ensure_min_samples, ensure_min_features, y_numeric)\u001b[0m\n\u001b[0;32m    452\u001b[0m         \u001b[0my\u001b[0m \u001b[1;33m=\u001b[0m \u001b[0my\u001b[0m\u001b[1;33m.\u001b[0m\u001b[0mastype\u001b[0m\u001b[1;33m(\u001b[0m\u001b[0mnp\u001b[0m\u001b[1;33m.\u001b[0m\u001b[0mfloat64\u001b[0m\u001b[1;33m)\u001b[0m\u001b[1;33m\u001b[0m\u001b[0m\n\u001b[0;32m    453\u001b[0m \u001b[1;33m\u001b[0m\u001b[0m\n\u001b[1;32m--> 454\u001b[1;33m     \u001b[0mcheck_consistent_length\u001b[0m\u001b[1;33m(\u001b[0m\u001b[0mX\u001b[0m\u001b[1;33m,\u001b[0m \u001b[0my\u001b[0m\u001b[1;33m)\u001b[0m\u001b[1;33m\u001b[0m\u001b[0m\n\u001b[0m\u001b[0;32m    455\u001b[0m \u001b[1;33m\u001b[0m\u001b[0m\n\u001b[0;32m    456\u001b[0m     \u001b[1;32mreturn\u001b[0m \u001b[0mX\u001b[0m\u001b[1;33m,\u001b[0m \u001b[0my\u001b[0m\u001b[1;33m\u001b[0m\u001b[0m\n",
      "\u001b[1;32m/opt/anaconda/lib/python2.7/site-packages/sklearn/utils/validation.pyc\u001b[0m in \u001b[0;36mcheck_consistent_length\u001b[1;34m(*arrays)\u001b[0m\n\u001b[0;32m    172\u001b[0m     \u001b[1;32mif\u001b[0m \u001b[0mlen\u001b[0m\u001b[1;33m(\u001b[0m\u001b[0muniques\u001b[0m\u001b[1;33m)\u001b[0m \u001b[1;33m>\u001b[0m \u001b[1;36m1\u001b[0m\u001b[1;33m:\u001b[0m\u001b[1;33m\u001b[0m\u001b[0m\n\u001b[0;32m    173\u001b[0m         raise ValueError(\"Found arrays with inconsistent numbers of samples: \"\n\u001b[1;32m--> 174\u001b[1;33m                          \"%s\" % str(uniques))\n\u001b[0m\u001b[0;32m    175\u001b[0m \u001b[1;33m\u001b[0m\u001b[0m\n\u001b[0;32m    176\u001b[0m \u001b[1;33m\u001b[0m\u001b[0m\n",
      "\u001b[1;31mValueError\u001b[0m: Found arrays with inconsistent numbers of samples: [18098 34624]"
     ]
    }
   ],
   "source": [
    "import numpy as np\n",
    "\n",
    "modelGBT = {}\n",
    "AUCROC={}\n",
    "\n",
    "for f in [1,2,5,10,20]:\n",
    "    train1 = [r for r in train if (r[0] == 1) or int(np.random.rand()*f) == 0]\n",
    "    test1 = [r for r in test if (r[0] == 1) or int(np.random.rand()*f) == 0]\n",
    "    s = len(train1)\n",
    "    print(s)\n",
    "    modelGBT[s] = sklearn.ensemble.GradientBoostingClassifier(n_estimators=500, learning_rate=0.1,\n",
    "       max_depth=6, random_state=0).fit(X = [e[1:] for e in train1], y = [e[0] for e in train1])\n",
    "    AUCROC[s] = sklearn.metrics.roc_auc_score(\n",
    "        y_true = [e[0] for e in test1], \n",
    "        y_score = [r[1] for r in modelGBT[s].predict_proba([e[1:] for e in test1])]\n",
    "    )\n",
    "    AUCROC['train '+str(s)] = sklearn.metrics.roc_auc_score(\n",
    "        y_true = [e[0] for e in train1], \n",
    "        y_score = [r[1] for r in modelGBT[s].predict_proba([e[1:] for e in train1])]\n",
    "    )\n",
    "    AUCROC['smax'+str(s)] = sklearn.metrics.roc_auc_score(\n",
    "        y_true = [e[0] for e in test1], \n",
    "        y_score = [e[1] for e in test1]\n",
    "    )\n",
    "    AUCROC['train smax'+str(s)] = sklearn.metrics.roc_auc_score(\n",
    "        y_true = [e[0] for e in train1], \n",
    "        y_score = [e[1] for e in train1]\n",
    "    )"
   ]
  },
  {
   "cell_type": "code",
   "execution_count": 63,
   "metadata": {
    "collapsed": false
   },
   "outputs": [
    {
     "name": "stdout",
     "output_type": "stream",
     "text": [
      "AUCROC  score from sample number:\n",
      "34624 0.94222\n",
      "smax34624 0.87267\n",
      "train 34624 0.99972\n",
      "train smax34624 0.84838\n"
     ]
    }
   ],
   "source": [
    "print('AUCROC  score from sample number:\\n' + '\\n'.join(['{0} {1:.5f}'.format(k,v) for (k,v) in sorted(AUCROC.items())]))"
   ]
  },
  {
   "cell_type": "code",
   "execution_count": null,
   "metadata": {
    "collapsed": false
   },
   "outputs": [],
   "source": [
    "\n"
   ]
  },
  {
   "cell_type": "code",
   "execution_count": 4,
   "metadata": {
    "collapsed": false
   },
   "outputs": [],
   "source": [
    "def write_table_to_file(table, filename):\n",
    "    f = open(filename,'w+')\n",
    "    #f.write('label,' + ','.join(columns)+'\\n')\n",
    "    f.write('\\n'.join([','.join([str(e) for e in r]) for r in table]))\n",
    "    f.close()"
   ]
  },
  {
   "cell_type": "code",
   "execution_count": 14,
   "metadata": {
    "collapsed": true
   },
   "outputs": [],
   "source": [
    "columns = '''smax ,savg ,ssum ,smedian ,sstd ,cntrepeat ,cntuniq \n",
    ",duration ,mobile ,emailru ,vkru ,okru ,social_other , s1 ,s2 ,s3 ,s4 ,s5 ,s6 ,s7 ,s8 ,s9 ,s10 , \n",
    "sm1 ,sm2 ,sm3 ,sm4 ,sm5'''.replace(' ','').replace('\\n','').split(',')"
   ]
  },
  {
   "cell_type": "markdown",
   "metadata": {},
   "source": [
    "### Варьируем количество деревьев "
   ]
  },
  {
   "cell_type": "code",
   "execution_count": 46,
   "metadata": {
    "collapsed": false
   },
   "outputs": [],
   "source": [
    "# Train a GradientBoostedTrees model.\n",
    "import sklearn.ensemble\n",
    "import sklearn\n",
    "modelGBT = {}\n",
    "AUCROC={}\n",
    "for n in [30,50,80,100,200,300,500,800,1200]:\n",
    "    modelGBT[n] = sklearn.ensemble.GradientBoostingClassifier(n_estimators=n, learning_rate=0.1,\n",
    "       max_depth=6, random_state=0).fit(X = [e[1:] for e in train], y = [e[0] for e in train])\n",
    "    AUCROC[n] = sklearn.metrics.roc_auc_score(\n",
    "        y_true = [e[0] for e in test], \n",
    "        y_score = [r[1] for r in modelGBT[n].predict_proba([e[1:] for e in test])]\n",
    "    )\n",
    "    AUCROC['train '+str(n)] = sklearn.metrics.roc_auc_score(\n",
    "        y_true = [e[0] for e in train], \n",
    "        y_score = [r[1] for r in modelGBT[n].predict_proba([e[1:] for e in train])]\n",
    "    )\n",
    "AUCROC['smax'] = sklearn.metrics.roc_auc_score(\n",
    "        y_true = [e[0] for e in test], \n",
    "        y_score = [e[1] for e in test]\n",
    ")\n",
    "AUCROC['train smax'] = sklearn.metrics.roc_auc_score(\n",
    "        y_true = [e[0] for e in train], \n",
    "        y_score = [e[1] for e in train]\n",
    ")\n",
    "#print(AUCROC)\n",
    "# Evaluate model on test instances and compute test error\n",
    "##predictions = model.predict(test.map(lambda x: x.features))\n",
    "#predictionAndLabels = test.map(lambda lp: (float(model.predict(lp.features)), lp.label))"
   ]
  },
  {
   "cell_type": "code",
   "execution_count": 47,
   "metadata": {
    "collapsed": false
   },
   "outputs": [
    {
     "name": "stdout",
     "output_type": "stream",
     "text": [
      "AUCROC test sample score from GBT trees number:\n",
      "30 0.93127\n",
      "50 0.93696\n",
      "80 0.94222\n",
      "100 0.94382\n",
      "200 0.94284\n",
      "300 0.94261\n",
      "500 0.93597\n",
      "800 0.90724\n",
      "1200 0.90574\n",
      "smax 0.87267\n",
      "train 100 0.99993\n",
      "train 1200 1.00000\n",
      "train 200 0.99999\n",
      "train 30 0.99650\n",
      "train 300 1.00000\n",
      "train 50 0.99787\n",
      "train 500 1.00000\n",
      "train 80 0.99972\n",
      "train 800 1.00000\n",
      "train smax 0.84838\n"
     ]
    }
   ],
   "source": [
    "print('AUCROC test sample score from GBT trees number:\\n' + '\\n'.join(['{0} {1:.5f}'.format(k,v) for (k,v) in sorted(AUCROC.items())]))"
   ]
  },
  {
   "cell_type": "markdown",
   "metadata": {},
   "source": [
    "#### Если брать более 100 деревьев, то происходит переобучение на выборке."
   ]
  },
  {
   "cell_type": "markdown",
   "metadata": {
    "collapsed": false
   },
   "source": [
    "#### Вариация глубины дерева"
   ]
  },
  {
   "cell_type": "code",
   "execution_count": 52,
   "metadata": {
    "collapsed": false
   },
   "outputs": [
    {
     "data": {
      "text/plain": [
       "{'smax': 0.87267016262338948, 'train smax': 0.84838146256114544}"
      ]
     },
     "execution_count": 52,
     "metadata": {},
     "output_type": "execute_result"
    }
   ],
   "source": [
    "{'smax':AUCROC['smax'], 'train smax':AUCROC['train smax']}"
   ]
  },
  {
   "cell_type": "code",
   "execution_count": 54,
   "metadata": {
    "collapsed": false
   },
   "outputs": [],
   "source": [
    "modelGBT = {}\n",
    "AUCROC = {'smax':AUCROC['smax'], 'train smax':AUCROC['train smax']}\n",
    "for m in [1,3,5,7,9,11,15]:\n",
    "    modelGBT[m] = sklearn.ensemble.GradientBoostingClassifier(n_estimators=100, learning_rate=0.1,\n",
    "       max_depth=m, random_state=0).fit(X = [e[1:] for e in train], y = [e[0] for e in train])\n",
    "    AUCROC[m] = sklearn.metrics.roc_auc_score(\n",
    "        y_true = [e[0] for e in test], \n",
    "        y_score = [r[1] for r in modelGBT[m].predict_proba([e[1:] for e in test])]\n",
    "    )\n",
    "    AUCROC['train '+str(m)] = sklearn.metrics.roc_auc_score(\n",
    "        y_true = [e[0] for e in train], \n",
    "        y_score = [r[1] for r in modelGBT[m].predict_proba([e[1:] for e in train])]\n",
    "    )\n"
   ]
  },
  {
   "cell_type": "code",
   "execution_count": 56,
   "metadata": {
    "collapsed": false
   },
   "outputs": [
    {
     "name": "stdout",
     "output_type": "stream",
     "text": [
      "AUCROC test sample score from GBT tree depth:\n",
      "1 0.93120\n",
      "3 0.92649\n",
      "5 0.92779\n",
      "7 0.93013\n",
      "9 0.91935\n",
      "11 0.85654\n",
      "15 0.90053\n",
      "smax 0.87267\n",
      "train 1 0.98808\n",
      "train 11 1.00000\n",
      "train 15 1.00000\n",
      "train 3 0.99584\n",
      "train 5 0.99929\n",
      "train 7 0.99998\n",
      "train 9 1.00000\n",
      "train smax 0.84838\n"
     ]
    }
   ],
   "source": [
    "print('AUCROC test sample score from GBT tree depth:\\n' + '\\n'.join(['{0} {1:.5f}'.format(k,v) for (k,v) in sorted(AUCROC.items())]))"
   ]
  },
  {
   "cell_type": "markdown",
   "metadata": {},
   "source": [
    "#### До глубины 7 разница несущественна, далее начинается переобучение."
   ]
  },
  {
   "cell_type": "code",
   "execution_count": 10,
   "metadata": {
    "collapsed": false,
    "scrolled": true
   },
   "outputs": [
    {
     "name": "stdout",
     "output_type": "stream",
     "text": [
      "Test AUCROC 0.913370268124\n"
     ]
    }
   ],
   "source": [
    "import sklearn\n",
    "res = zip([e[0] for e in test], [e[1] for e in modelGBT.predict_proba([e[1:] for e in test])])\n",
    "AUCROC = sklearn.metrics.roc_auc_score(y_true = [e[0] for e in res], y_score = [e[1] for e in res])\n",
    "print('Test AUCROC {0}'.format(AUCROC))"
   ]
  },
  {
   "cell_type": "code",
   "execution_count": null,
   "metadata": {
    "collapsed": false
   },
   "outputs": [],
   "source": [
    "res1 = test_rdd.map(lambda r:(float(r[0]),modelGBT.predict_proba(r[1:])[0][1])).collect()\n",
    "ar = sklearn.metrics.roc_auc_score(y_true = [e[0] for e in res1], y_score = [e[1] for e in res1])"
   ]
  },
  {
   "cell_type": "code",
   "execution_count": null,
   "metadata": {
    "collapsed": false
   },
   "outputs": [],
   "source": [
    "open('test.txt','w').write(str(AUCROC)+','+str(ar)+'\\n'+str(sorted(zip(columns,modelGBT.feature_importances_), key = lambda r:-r[1])))"
   ]
  },
  {
   "cell_type": "code",
   "execution_count": null,
   "metadata": {
    "collapsed": false
   },
   "outputs": [],
   "source": [
    "print('Test Error = ' + str(testErr))\n",
    "print('Learned classification GBT model:')\n",
    "print(model.toDebugString())\n",
    "print('AUCROC: {0}'.format(sklearn.metrics.roc_auc_score(\n",
    "            labelsAndPredictions.map(lambda r:r[0]).collect(),\n",
    "            labelsAndPredictions.map(lambda r:r[1]).collect()\n",
    ")))\n"
   ]
  },
  {
   "cell_type": "code",
   "execution_count": null,
   "metadata": {
    "collapsed": false
   },
   "outputs": [],
   "source": [
    "print('AUCROC smax: {0}'.format(sklearn.metrics.roc_auc_score(\n",
    "            test.map(lambda lp: lp.label).collect(),\n",
    "            test.map(lambda lp: lp.features[0]).collect()\n",
    ")))"
   ]
  },
  {
   "cell_type": "code",
   "execution_count": 59,
   "metadata": {
    "collapsed": false
   },
   "outputs": [
    {
     "name": "stdout",
     "output_type": "stream",
     "text": [
      "smax 0.13844\n",
      "s1 0.11298\n",
      "sm1 0.10010\n",
      "s2 0.09305\n",
      "ssum 0.07244\n",
      "savg 0.06488\n",
      "duration 0.06053\n",
      "sstd 0.04256\n",
      "s3 0.04210\n",
      "s4 0.03787\n",
      "s5 0.03752\n",
      "smedian 0.02722\n",
      "cntrepeat 0.02636\n",
      "s10 0.02193\n",
      "sm5 0.02015\n",
      "cntuniq 0.01583\n",
      "s6 0.01453\n",
      "s8 0.01242\n",
      "sm4 0.01025\n",
      "sm2 0.00985\n",
      "s7 0.00788\n",
      "vkru 0.00674\n",
      "sm3 0.00650\n",
      "s9 0.00633\n",
      "emailru 0.00529\n",
      "mobile 0.00464\n",
      "okru 0.00156\n",
      "social_other 0.00002\n"
     ]
    }
   ],
   "source": [
    "print('\\n'.join(['{0} {1:.5f}'.format(k,v) for (k,v) in sorted(zip(columns,modelGBT[5].feature_importances_), key = lambda r:-r[1])]))"
   ]
  },
  {
   "cell_type": "code",
   "execution_count": null,
   "metadata": {
    "collapsed": false
   },
   "outputs": [],
   "source": []
  },
  {
   "cell_type": "code",
   "execution_count": null,
   "metadata": {
    "collapsed": true
   },
   "outputs": [],
   "source": []
  }
 ],
 "metadata": {
  "kernelspec": {
   "display_name": "Python 2",
   "language": "python",
   "name": "python2"
  },
  "language_info": {
   "codemirror_mode": {
    "name": "ipython",
    "version": 2
   },
   "file_extension": ".py",
   "mimetype": "text/x-python",
   "name": "python",
   "nbconvert_exporter": "python",
   "pygments_lexer": "ipython2",
   "version": "2.7.10"
  }
 },
 "nbformat": 4,
 "nbformat_minor": 0
}
