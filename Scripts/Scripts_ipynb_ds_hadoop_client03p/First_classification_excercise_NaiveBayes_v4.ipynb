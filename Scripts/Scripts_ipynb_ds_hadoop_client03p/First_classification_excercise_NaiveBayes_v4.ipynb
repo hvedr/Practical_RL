{
 "cells": [
  {
   "cell_type": "markdown",
   "metadata": {},
   "source": [
    "###  Построение Look-alike модели для целевой аудитории раздела веб-сайта\n",
    "\n",
    "Используются различные подходы:\n",
    "- Логистическая регрессия\n",
    "- Naive Bayes\n",
    "- текущий подход, рассмотренный в Wiki[https://wiki.tcsbank.ru/pages/viewpage.action?pageId=176096365].\n",
    "\n",
    "Сравнение методов производится по метрике AUC ROC."
   ]
  },
  {
   "cell_type": "code",
   "execution_count": 97,
   "metadata": {
    "collapsed": true
   },
   "outputs": [],
   "source": [
    "from pyspark import SparkConf, SparkContext, HiveContext\n",
    "import re\n",
    "import numpy as np\n",
    "import pandas as pd\n",
    "\n",
    "sc.stop()\n",
    "conf = SparkConf().set(\"spark.executor.instances\", 32).set(\"spark.driver.maxResultSize\", \"8g\")\n",
    "sc = SparkContext(conf=conf)"
   ]
  },
  {
   "cell_type": "code",
   "execution_count": 98,
   "metadata": {
    "collapsed": false
   },
   "outputs": [],
   "source": [
    "hc = HiveContext(sc)\n",
    "table_name = 'user_kposminin.urls_w_levels3'\n",
    "train_start_date, train_end_date  = '2016-06-01', '2016-06-02'\n",
    "test_date = '2016-06-30'\n",
    "\n",
    "\n",
    "select_query = '''\n",
    "select * from {0}\n",
    "where hash(cookie) %   20053 = 0\n",
    "'''.format(table_name)\n",
    "\n",
    "rdd = hc.sql(select_query).rdd \n",
    "#rdd.cache()"
   ]
  },
  {
   "cell_type": "code",
   "execution_count": null,
   "metadata": {
    "collapsed": false
   },
   "outputs": [],
   "source": [
    "#Group by cookie and form url list the cookie visited\n",
    "def test(id, test_date):\n",
    "    ''' Is id (== cookie + '-'+date) from test sample or not ( and is from train sample)? Output is True or False\n",
    "        In this case test sample == sample from 4th of July.    \n",
    "    '''    \n",
    "    return re.findall('([0-9]{4}-[0-9]{2}-[0-9]{2})',id)[0] == test_date\n",
    "\n",
    "    \n",
    "rdd15 = rdd.flatMap(lambda row: [(row['cookie'] + str(1*test(row['object_id'],test_date)) , row['domain']),\n",
    "                                (row['cookie'] + str(1*test(row['object_id'],test_date)), row['domain']+'[0]'+row['lev0']),\n",
    "                                (row['cookie'] + str(1*test(row['object_id'],test_date)), row['domain']+'[1]'+row['lev1']),\n",
    "                                (row['cookie'] + str(1*test(row['object_id'],test_date)), row['domain']+'[2]'+row['lev2']),\n",
    "                                (row['cookie'] + str(1*test(row['object_id'],test_date)), row['domain']+'[r]'+row['ref_domain']),\n",
    "                                (row['cookie'] + str(1*test(row['object_id'],test_date)), row['domain']+'[r0]'+row['ref_lev0']),\n",
    "                                (row['cookie'] + str(1*test(row['object_id'],test_date)), row['domain']+'[r1]'+row['ref_lev1']),\n",
    "                                (row['cookie'] + str(1*test(row['object_id'],test_date)), row['domain']+'[r2]'+row['ref_lev2'])\n",
    "])\n",
    "\n",
    "rdd2 = rdd15.reduceByKey(lambda a,b: a + ';;' + b)\n",
    "\n",
    "# Label target cookies (=cookies visited target url) and exclude some urls\n",
    "\n",
    "#target_urls =['mkb.ru/facility/private_person/cards/credit_card','mkb.ru']\n",
    "target_urls =['avito.ru'] #['raiffeisen.ru/retail/cards/credit/']\n",
    "exclude_urls = target_urls + [] #['raiffeisen.ru']\n",
    "\n",
    "def handle_row(row,targ_urls, exclud_urls):\n",
    "    proc_urls = row[1]\n",
    "    for u in exclud_urls:\n",
    "        proc_urls = re.sub('[^;;]*'+ u +'[^;;]*','',proc_urls)\n",
    "    return (\n",
    "        bool(int(row[0][-1])),\n",
    "        row[0],\n",
    "        any(tu in row[1] for tu in targ_urls), \n",
    "        re.sub('[;]{3,}',';;',proc_urls)\n",
    "    )\n",
    "\n",
    "rdd3 = rdd2.map(lambda row: handle_row(row,target_urls, exclude_urls))\n",
    "\n",
    "from pyspark.mllib.regression import LabeledPoint\n",
    "from pyspark.mllib.feature import HashingTF\n",
    "from pyspark.mllib.classification import LogisticRegressionWithSGD, NaiveBayes, NaiveBayesModel\n",
    "\n",
    "tf = HashingTF(numFeatures = 10 ** 4)\n",
    "\n",
    "#transform urls (as Bag of Words) into features and form features with labels\n",
    "train_data = rdd3.filter(lambda row: not row[0]).map(lambda row: LabeledPoint(row[2], tf.transform(row[3].split(';;'))))\n",
    "test_data  = rdd3.filter(lambda row:     row[0]).map(lambda row: LabeledPoint(row[2], tf.transform(row[3].split(';;'))))\n",
    "# TODO count visits or not\n",
    "# split into train and test samples\n",
    "#train_data, test_data = all_data.randomSplit([6, 4])\n"
   ]
  },
  {
   "cell_type": "code",
   "execution_count": null,
   "metadata": {
    "collapsed": false
   },
   "outputs": [],
   "source": [
    "#Train NaiveBayes model\n",
    "train_data.cache()\n",
    "modelNB = NaiveBayes.train(train_data)\n",
    "\n",
    "def predict_proba_NB(f,model):\n",
    "    import numpy as np\n",
    "    '''\n",
    "    Naive Bayes model prediction with probability. f is features [Sparse] vector. model is mllib.NaiveBayesModel.\n",
    "    Function selects winning class with it probability.\n",
    "    Output: tuple with model selected class number as first element (type int) and it probability as second (type float).\n",
    "    '''\n",
    "    logp = [[i,f.dot(model.theta[i]) + model.pi[i]] for i in range(len(model.theta))] # classes with log probabilities\n",
    "    wi = sorted(logp, key = lambda e:  - e[1])[0][0] #winning index\n",
    "    prob = 1./sum([np.exp(e[1] - logp[wi][1]) for e in logp]) #winning class probability\n",
    "    return wi, prob\n",
    "\n",
    "def predict_proba_NB_2(f, model):\n",
    "    import numpy as np\n",
    "    '''\n",
    "    Naive Bayes model prediction with probability for 2-class classification.\n",
    "    f is features [Sparse] vector. model is mllib.NaiveBayesModel.\n",
    "    Output: probability of class 1 (type float).\n",
    "    '''\n",
    "    if len(model.theta) != 2:\n",
    "        print('Model is NOT a 2-class classifier')\n",
    "        return None\n",
    "    logp = [f.dot(model.theta[i]) + model.pi[i] for i in range(2)]    \n",
    "    return 1./(1. + np.exp(logp[0] - logp[1]))\n",
    "\n"
   ]
  },
  {
   "cell_type": "code",
   "execution_count": null,
   "metadata": {
    "collapsed": false
   },
   "outputs": [],
   "source": [
    "#LogisticRegression model\n",
    "modelLR = LogisticRegressionWithSGD.train(train_data)\n",
    "modelLR.clearThreshold()"
   ]
  },
  {
   "cell_type": "code",
   "execution_count": null,
   "metadata": {
    "collapsed": false
   },
   "outputs": [],
   "source": [
    "# 3. Current approach\n",
    "#rdd_tmp = rdd3.map(lambda row: (row[1],row[2]))\n",
    "# NB: works only for boolean value but not for int.\n",
    "rdd5 = rdd15.leftOuterJoin(rdd3.map(lambda row: (row[1],row[2]))).map(lambda row: row[1]) \\\n",
    "   .aggregateByKey((0,0),\n",
    "     (lambda acc, value: (acc[0] + int((not value is None) and value), acc[1] + 1)),\n",
    "     (lambda acc1, acc2: (acc1[0] + acc2[0], acc1[1] + acc2[1]))\n",
    "   ).filter(lambda row: row[1][1] > 2 and row[1][1] > 100) \\\n",
    "    .map(lambda row: (row[0], pyspark.sql.Row(Positive = row[1][0],Total = row[1][1], Score = np.log((row[1][0]+0.5)/(row[1][1] - row[1][0] + 0.5)))))\n",
    "\n",
    "# Select 1% quantile estimation (using sampling) of Score field\n",
    "n = 10**5 #Sampling size\n",
    "tmp = rdd5.map(lambda row: row[1].Score).randomSplit([n,max(rdd5.count() - n, 0)])[0]\n",
    "tmp_len = tmp.countApprox(timeout = 100)\n",
    "score_threshold = tmp.sortBy(lambda x:-x).zipWithIndex().map(lambda r:(r[1], r[0])).lookup(int(tmp_len * 0.01))[0]\n",
    "\n",
    "rdd5 = rdd5.filter(lambda row: row[1].Score >= score_threshold)\n",
    "rdd5.cache()"
   ]
  },
  {
   "cell_type": "code",
   "execution_count": null,
   "metadata": {
    "collapsed": false
   },
   "outputs": [],
   "source": []
  },
  {
   "cell_type": "code",
   "execution_count": null,
   "metadata": {
    "collapsed": false
   },
   "outputs": [],
   "source": [
    " def calc_score(url_list, rdd):\n",
    "    '''\n",
    "    url_list is a list of target url pieces.\n",
    "    rdd consists of url pieces as key and it score as value.\n",
    "    Output is score for current approach\n",
    "    '''    \n",
    "    try:\n",
    "        return rdd.filter(lambda row: row[0] in url_list).map(lambda r:r[1].Score).max()\n",
    "    except ValueError:\n",
    "        return - 10 ** 30\n",
    "\n",
    "def calc_score1(url_list, rdd_dict):\n",
    "    '''\n",
    "    url_list is a list of target url pieces.\n",
    "    rdd_dict consists of url pieces as key and it score as value.\n",
    "    Output is score for current approach\n",
    "    '''\n",
    "    m = - 10 ** 30\n",
    "    for k in rdd_dict.keys():\n",
    "        if k in url_list:\n",
    "            m = max(rdd_dict[k], m)\n",
    "    return m\n",
    "rdd5_dict = rdd5.map(lambda (k,v): (k, v.Score)).collectAsMap()\n",
    "test_data_ca = rdd3.filter(lambda row: row[0]).map(lambda row: LabeledPoint(row[2], calc_score1(row[3].split(';;'),rdd5_dict)))"
   ]
  },
  {
   "cell_type": "code",
   "execution_count": null,
   "metadata": {
    "collapsed": false
   },
   "outputs": [],
   "source": [
    "test_data_ca.take(5)"
   ]
  },
  {
   "cell_type": "code",
   "execution_count": 81,
   "metadata": {
    "collapsed": false
   },
   "outputs": [
    {
     "data": {
      "text/plain": [
       "[u'4-club.ru[r]4-club.ru', u'4-club.ru[1]', u'4-club.ru[2]', u'4-club.ru']"
      ]
     },
     "execution_count": 81,
     "metadata": {},
     "output_type": "execute_result"
    }
   ],
   "source": []
  },
  {
   "cell_type": "code",
   "execution_count": null,
   "metadata": {
    "collapsed": false
   },
   "outputs": [],
   "source": [
    "#Testing result\n",
    "df_test = test_data.map( lambda lp: pyspark.sql.Row(\n",
    "        Label = lp.label,\n",
    "        NaiveBayes = float(predict_proba_NB_2(lp.features, modelNB)),\n",
    "        LogisticRegression = float(modelLR.predict(lp.features))\n",
    "    )).toDF().toPandas()\n"
   ]
  },
  {
   "cell_type": "code",
   "execution_count": null,
   "metadata": {
    "collapsed": false
   },
   "outputs": [],
   "source": [
    "#Build AUCROC metric and print results\n",
    "import sklearn\n",
    "AUCROC = {}\n",
    "for c in df_test.columns:\n",
    "    if c!= 'Label':\n",
    "        AUCROC[c] = sklearn.metrics.roc_auc_score(df_test['Label'],df_test[c])\n",
    "        \n",
    "print('Methods AUCROC performance on test sample ({0:.0f} samples with {1:.0f} positives):\\n'.format(df_test.size,df_test['Label'].sum()) +\n",
    "     '\\n'.join(['{0:<30}{1:.5f}'.format(k,v) for (k,v) in AUCROC.items()]))"
   ]
  },
  {
   "cell_type": "code",
   "execution_count": null,
   "metadata": {
    "collapsed": false
   },
   "outputs": [],
   "source": []
  },
  {
   "cell_type": "code",
   "execution_count": null,
   "metadata": {
    "collapsed": false
   },
   "outputs": [],
   "source": []
  },
  {
   "cell_type": "code",
   "execution_count": null,
   "metadata": {
    "collapsed": false
   },
   "outputs": [],
   "source": []
  },
  {
   "cell_type": "code",
   "execution_count": null,
   "metadata": {
    "collapsed": false
   },
   "outputs": [],
   "source": []
  },
  {
   "cell_type": "code",
   "execution_count": null,
   "metadata": {
    "collapsed": true
   },
   "outputs": [],
   "source": []
  }
 ],
 "metadata": {
  "kernelspec": {
   "display_name": "Python 2",
   "language": "python",
   "name": "python2"
  },
  "language_info": {
   "codemirror_mode": {
    "name": "ipython",
    "version": 2
   },
   "file_extension": ".py",
   "mimetype": "text/x-python",
   "name": "python",
   "nbconvert_exporter": "python",
   "pygments_lexer": "ipython2",
   "version": "2.7.10"
  }
 },
 "nbformat": 4,
 "nbformat_minor": 0
}
