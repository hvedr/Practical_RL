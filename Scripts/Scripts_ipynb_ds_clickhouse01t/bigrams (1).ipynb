{
 "cells": [
  {
   "cell_type": "code",
   "execution_count": 6,
   "metadata": {
    "collapsed": false
   },
   "outputs": [
    {
     "data": {
      "text/plain": [
       "(8508947, 8508947)"
      ]
     },
     "execution_count": 6,
     "metadata": {},
     "output_type": "execute_result"
    }
   ],
   "source": [
    "scores = [float(e.strip()) for e in open('/data1/share/kosm/data/la_many_feat_predict_20161108_1.txt','r')]\n",
    "labels = [int(e) for e in open('/data1/share/kosm/data/la_many_feat_label_20161108_1.txt','r').read()]\n",
    "len(scores),len(labels)"
   ]
  },
  {
   "cell_type": "code",
   "execution_count": 26,
   "metadata": {
    "collapsed": false
   },
   "outputs": [
    {
     "data": {
      "text/plain": [
       "''"
      ]
     },
     "execution_count": 26,
     "metadata": {},
     "output_type": "execute_result"
    }
   ],
   "source": [
    "import os\n",
    "#os.popen('''perl -ne '@a = split(\" \",$_); print @a[0] . \" \" . @a[1] . \\n\"'  /data1/share/kosm/data/la_many_feat_20161108_1.txt > /data1/share/kosm/data/la_many_feat_label_maxs_20161108_1.txt''').read()\n",
    "os.popen('''mv /data1/share/kosm/data/la_many_feat_label_maxs_20161108.txt /data1/share/kosm/data/la_many_feat_label_maxs_20161108_1.txt''').read()"
   ]
  },
  {
   "cell_type": "code",
   "execution_count": 4,
   "metadata": {
    "collapsed": false
   },
   "outputs": [
    {
     "name": "stdout",
     "output_type": "stream",
     "text": [
      "  File: ‘/data1/share/kosm/data/la_many_feat_predict_20161108_1.txt’\r\n",
      "  Size: 75626017  \tBlocks: 147712     IO Block: 4096   regular file\r\n",
      "Device: 811h/2065d\tInode: 6202722589  Links: 1\r\n",
      "Access: (0664/-rw-rw-r--)  Uid: (35003/k.osminin)   Gid: (35003/k.osminin)\r\n",
      "Access: 2016-12-22 19:13:58.346528738 +0300\r\n",
      "Modify: 2016-12-22 19:26:54.469582746 +0300\r\n",
      "Change: 2016-12-22 19:26:54.469582746 +0300\r\n",
      " Birth: -\r\n"
     ]
    }
   ],
   "source": [
    "! stat /data1/share/kosm/data/la_many_feat_label_20161108_1.txt"
   ]
  },
  {
   "cell_type": "code",
   "execution_count": 10,
   "metadata": {
    "collapsed": false
   },
   "outputs": [
    {
     "name": "stdout",
     "output_type": "stream",
     "text": [
      "\n",
      "AUCROC lgbm  0.73938.\n",
      "\n"
     ]
    }
   ],
   "source": [
    "import sklearn.metrics as m\n",
    "auc = m.roc_auc_score(y_true = labels, y_score = scores)\n",
    "print('\\nAUCROC lgbm  {:.5f}.\\n'.format(auc))"
   ]
  },
  {
   "cell_type": "code",
   "execution_count": 9,
   "metadata": {
    "collapsed": false
   },
   "outputs": [],
   "source": [
    "sc.stop()"
   ]
  },
  {
   "cell_type": "code",
   "execution_count": 8,
   "metadata": {
    "collapsed": false
   },
   "outputs": [
    {
     "name": "stdout",
     "output_type": "stream",
     "text": [
      "\n",
      "Lift table for XGBoost\n",
      "\n",
      "q         \tpos_cnt   \tpos%      \tcnt       \tpos/cnt   \tlift      \tscore     \n",
      "0.9999    \t199       \t7.58%     \t850       \t23.41176% \t758.60    \t0.91497   \n",
      "0.9998    \t199       \t7.58%     \t1701      \t11.69900% \t379.08    \t0.91497   \n",
      "0.9997    \t199       \t7.58%     \t2552      \t7.79781%  \t252.67    \t0.91497   \n",
      "0.9995    \t199       \t7.58%     \t4254      \t4.67795%  \t151.58    \t0.91497   \n",
      "0.999     \t199       \t7.58%     \t8508      \t2.33898%  \t75.79     \t0.91497   \n",
      "0.998     \t218       \t8.30%     \t17017     \t1.28107%  \t41.51     \t0.91260   \n",
      "0.997     \t261       \t9.94%     \t25526     \t1.02249%  \t33.13     \t0.82361   \n",
      "0.995     \t302       \t11.50%    \t42544     \t0.70985%  \t23.00     \t0.80409   \n",
      "0.99      \t355       \t13.52%    \t85089     \t0.41721%  \t13.52     \t0.77847   \n",
      "0.98      \t456       \t17.36%    \t170178    \t0.26795%  \t8.68      \t0.74671   \n",
      "0.95      \t703       \t26.77%    \t425447    \t0.16524%  \t5.35      \t0.67538   \n",
      "0.9       \t989       \t37.66%    \t850894    \t0.11623%  \t3.77      \t0.59667   \n",
      "0.8       \t1404      \t53.47%    \t1701789   \t0.08250%  \t2.67      \t0.49256   \n",
      "0.7       \t1721      \t65.54%    \t2552684   \t0.06742%  \t2.18      \t0.42109   \n",
      "0.5       \t2112      \t80.43%    \t4254473   \t0.04964%  \t1.61      \t0.33074   \n",
      "0.3       \t2388      \t90.94%    \t5956262   \t0.04009%  \t1.30      \t0.26244   \n",
      "0         \t2626      \t100.00%   \t8508947   \t0.03086%  \t1.00      \t0.09192   \n"
     ]
    }
   ],
   "source": [
    "data = sorted(zip(scores,labels),reverse = True)\n",
    "def nvl(a,b):\n",
    "    if a:\n",
    "        return a\n",
    "    else:\n",
    "        return b\n",
    "    \n",
    "print('\\nLift table for LightGBM\\n\\n{:<10}\\t{:<10}\\t{:<10}\\t{:<10}\\t{:<10}\\t{:<10}\\t{:<10}'.format(\n",
    "        'q','pos_cnt','pos%','cnt','pos/cnt','lift','score'))\n",
    "pos_tot = sum([e[1] for e in data])\n",
    "pos_share_tot = float(pos_tot) / len(data)\n",
    "for q in [0.9999,0.9998,0.9997,0.9995,0.999,0.998,0.997,0.995,0.99,0.98,0.95,0.9,0.8,0.7,0.5,0.3,0]:\n",
    "    pos_cnt = sum([e[1] for e in data[:int((1-q)*len(data))]])\n",
    "    cnt = int((1-q)*len(data))\n",
    "    pos_share = float(pos_cnt)/cnt\n",
    "    print('{:<10}\\t{:<10}\\t{:<10.2%}\\t{:<10}\\t{:<10.5%}\\t{:<10.2f}\\t{:<10.5f}'.format(q,\n",
    "                                                                                      pos_cnt,\n",
    "                                                                                      float(pos_cnt)/pos_tot,\n",
    "                                                                                      cnt,pos_share,\n",
    "                                                                                      pos_share/pos_share_tot,\n",
    "                                                                                      nvl(data[int((1-q)*len(data))-1][0],-20)\n",
    "                                                                                     ))"
   ]
  },
  {
   "cell_type": "code",
   "execution_count": null,
   "metadata": {
    "collapsed": false
   },
   "outputs": [],
   "source": []
  },
  {
   "cell_type": "code",
   "execution_count": 29,
   "metadata": {
    "collapsed": false
   },
   "outputs": [
    {
     "data": {
      "text/plain": [
       "8508947"
      ]
     },
     "execution_count": 29,
     "metadata": {},
     "output_type": "execute_result"
    }
   ],
   "source": [
    "#scores_labels1 = [(int(e.strip().split(' ')[0]),float(e.strip().split(' ')[1])) for e in open('/data1/share/kosm/data/la_many_feat_label_maxs_20161108_1.txt','r')]\n",
    "len(scores_labels1)"
   ]
  },
  {
   "cell_type": "code",
   "execution_count": 32,
   "metadata": {
    "collapsed": false
   },
   "outputs": [
    {
     "name": "stdout",
     "output_type": "stream",
     "text": [
      "\n",
      "AUCROC max_score  0.69881.\n",
      "\n"
     ]
    }
   ],
   "source": [
    "auc_maxs = m.roc_auc_score(y_true = [e[0] for e in scores_labels1], y_score = [e[1] for e in scores_labels1])\n",
    "print('\\nAUCROC max_score  {:.5f}.\\n'.format(auc_maxs))"
   ]
  },
  {
   "cell_type": "code",
   "execution_count": 33,
   "metadata": {
    "collapsed": false
   },
   "outputs": [
    {
     "name": "stdout",
     "output_type": "stream",
     "text": [
      "\n",
      "Lift table for LightGBM\n",
      "\n",
      "q         \tpos_cnt   \tpos%      \tcnt       \tpos/cnt   \tlift      \tscore     \n",
      "0.9999    \t0         \t0.00%     \t850       \t0.00000%  \t0.00      \t49.00000  \n",
      "0.9998    \t0         \t0.00%     \t1701      \t0.00000%  \t0.00      \t36.00000  \n",
      "0.9997    \t0         \t0.00%     \t2552      \t0.00000%  \t0.00      \t30.00000  \n",
      "0.9995    \t3         \t0.11%     \t4254      \t0.07052%  \t2.29      \t24.00000  \n",
      "0.999     \t3         \t0.11%     \t8508      \t0.03526%  \t1.14      \t17.00000  \n",
      "0.998     \t4         \t0.15%     \t17017     \t0.02351%  \t0.76      \t12.00000  \n",
      "0.997     \t5         \t0.19%     \t25526     \t0.01959%  \t0.63      \t9.00000   \n",
      "0.995     \t6         \t0.23%     \t42544     \t0.01410%  \t0.46      \t7.00000   \n",
      "0.99      \t10        \t0.38%     \t85089     \t0.01175%  \t0.38      \t4.00000   \n",
      "0.98      \t51        \t1.94%     \t170178    \t0.02997%  \t0.97      \t-3.08295  \n",
      "0.95      \t508       \t19.35%    \t425447    \t0.11940%  \t3.87      \t-8.31090  \n",
      "0.9       \t810       \t30.85%    \t850894    \t0.09519%  \t3.08      \t-8.75006  \n",
      "0.8       \t1254      \t47.75%    \t1701789   \t0.07369%  \t2.39      \t-9.23576  \n",
      "0.7       \t1541      \t58.68%    \t2552684   \t0.06037%  \t1.96      \t-9.48286  \n",
      "0.5       \t2039      \t77.65%    \t4254473   \t0.04793%  \t1.55      \t-9.86117  \n",
      "0.3       \t2348      \t89.41%    \t5956262   \t0.03942%  \t1.28      \t-10.04166 \n",
      "0         \t2626      \t100.00%   \t8508947   \t0.03086%  \t1.00      \t-19.05929 \n"
     ]
    }
   ],
   "source": [
    "data = sorted([(e[1],e[0]) for e in scores_labels1],reverse = True)\n",
    "def nvl(a,b):\n",
    "    if a:\n",
    "        return a\n",
    "    else:\n",
    "        return b\n",
    "    \n",
    "print('\\nLift table for LightGBM\\n\\n{:<10}\\t{:<10}\\t{:<10}\\t{:<10}\\t{:<10}\\t{:<10}\\t{:<10}'.format(\n",
    "        'q','pos_cnt','pos%','cnt','pos/cnt','lift','score'))\n",
    "pos_tot = sum([e[1] for e in data])\n",
    "pos_share_tot = float(pos_tot) / len(data)\n",
    "for q in [0.9999,0.9998,0.9997,0.9995,0.999,0.998,0.997,0.995,0.99,0.98,0.95,0.9,0.8,0.7,0.5,0.3,0]:\n",
    "    pos_cnt = sum([e[1] for e in data[:int((1-q)*len(data))]])\n",
    "    cnt = int((1-q)*len(data))\n",
    "    pos_share = float(pos_cnt)/cnt\n",
    "    print('{:<10}\\t{:<10}\\t{:<10.2%}\\t{:<10}\\t{:<10.5%}\\t{:<10.2f}\\t{:<10.5f}'.format(q,\n",
    "                                                                                      pos_cnt,\n",
    "                                                                                      float(pos_cnt)/pos_tot,\n",
    "                                                                                      cnt,pos_share,\n",
    "                                                                                      pos_share/pos_share_tot,\n",
    "                                                                                      nvl(data[int((1-q)*len(data))-1][0],-20)\n",
    "                                                                                     ))"
   ]
  },
  {
   "cell_type": "code",
   "execution_count": 34,
   "metadata": {
    "collapsed": false
   },
   "outputs": [
    {
     "ename": "AttributeError",
     "evalue": "'tuple' object has no attribute 'append'",
     "output_type": "error",
     "traceback": [
      "\u001b[1;31m---------------------------------------------------------------------------\u001b[0m",
      "\u001b[1;31mAttributeError\u001b[0m                            Traceback (most recent call last)",
      "\u001b[1;32m<ipython-input-34-bfa4a03f88a6>\u001b[0m in \u001b[0;36m<module>\u001b[1;34m()\u001b[0m\n\u001b[0;32m      1\u001b[0m \u001b[0ma\u001b[0m\u001b[1;33m=\u001b[0m \u001b[1;33m(\u001b[0m\u001b[1;36m1\u001b[0m\u001b[1;33m,\u001b[0m\u001b[1;36m2\u001b[0m\u001b[1;33m,\u001b[0m\u001b[1;36m3\u001b[0m\u001b[1;33m)\u001b[0m\u001b[1;33m\u001b[0m\u001b[0m\n\u001b[1;32m----> 2\u001b[1;33m \u001b[0ma\u001b[0m\u001b[1;33m.\u001b[0m\u001b[0mappend\u001b[0m\u001b[1;33m(\u001b[0m\u001b[1;36m4\u001b[0m\u001b[1;33m)\u001b[0m\u001b[1;33m\u001b[0m\u001b[0m\n\u001b[0m",
      "\u001b[1;31mAttributeError\u001b[0m: 'tuple' object has no attribute 'append'"
     ]
    }
   ],
   "source": [
    "\n"
   ]
  },
  {
   "cell_type": "code",
   "execution_count": null,
   "metadata": {
    "collapsed": true
   },
   "outputs": [],
   "source": []
  }
 ],
 "metadata": {
  "kernelspec": {
   "display_name": "Python 2",
   "language": "python",
   "name": "python2"
  },
  "language_info": {
   "codemirror_mode": {
    "name": "ipython",
    "version": 2
   },
   "file_extension": ".py",
   "mimetype": "text/x-python",
   "name": "python",
   "nbconvert_exporter": "python",
   "pygments_lexer": "ipython2",
   "version": "2.7.10"
  }
 },
 "nbformat": 4,
 "nbformat_minor": 0
}
