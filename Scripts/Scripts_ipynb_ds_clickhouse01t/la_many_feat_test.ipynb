{
 "cells": [
  {
   "cell_type": "code",
   "execution_count": 6,
   "metadata": {
    "collapsed": false
   },
   "outputs": [
    {
     "data": {
      "text/plain": [
       "(23699416, 23699416, 23699416)"
      ]
     },
     "execution_count": 6,
     "metadata": {},
     "output_type": "execute_result"
    }
   ],
   "source": [
    "def to_float(v,default = 0):\n",
    "    try:\n",
    "        return float(v)\n",
    "    except:\n",
    "        return default\n",
    "\n",
    "scores = [float(e.strip()) for e in open('/data1/share/kosm/data/la_many_feat_predict_20161108_1.txt','r')]\n",
    "labels_maxsc = [[int(e.split(' ')[0]),to_float(e.split(' ')[1].strip(),-20)] for e in open('/data1/share/kosm/data/la_many_feat_labels_maxsc_20161108_1.txt','r')]\n",
    "labels = [e[0] for e in labels_maxsc]\n",
    "maxsc = [e[1] for e in labels_maxsc]\n",
    "len(scores),len(labels),len(maxsc)\n"
   ]
  },
  {
   "cell_type": "code",
   "execution_count": 7,
   "metadata": {
    "collapsed": false
   },
   "outputs": [
    {
     "name": "stdout",
     "output_type": "stream",
     "text": [
      "Full test Many feat ROC AUC 0.739157443514.\n",
      "Full test Max score ROC AUC 0.712248639926.\n"
     ]
    }
   ],
   "source": [
    "\n",
    "import sklearn.metrics as m\n",
    "auc_many_feat = m.roc_auc_score(y_true = labels, y_score = scores)\n",
    "auc_maxsc = m.roc_auc_score(y_true = labels, y_score = maxsc)\n",
    "print('Full test Many feat ROC AUC {}.'.format(auc_many_feat))\n",
    "print('Full test Max score ROC AUC {}.'.format(auc_maxsc))"
   ]
  },
  {
   "cell_type": "code",
   "execution_count": 10,
   "metadata": {
    "collapsed": false
   },
   "outputs": [
    {
     "name": "stdout",
     "output_type": "stream",
     "text": [
      "\n",
      "Lift table for LGBM\n",
      "\n",
      "q         \tpos_cnt   \tpos%      \tcnt       \tpos/cnt   \tlift      \tscore     \n",
      "0.999     \t639       \t8.40%     \t23699     \t2.69632%  \t83.96     \t0.91497   \n",
      "0.9988    \t639       \t8.40%     \t28439     \t2.24691%  \t69.97     \t0.91497   \n",
      "0.9985    \t639       \t8.40%     \t35549     \t1.79752%  \t55.97     \t0.91497   \n",
      "0.9983    \t639       \t8.40%     \t40289     \t1.58604%  \t49.39     \t0.91497   \n",
      "0.998     \t684       \t8.99%     \t47398     \t1.44310%  \t44.94     \t0.91321   \n",
      "0.997     \t804       \t10.56%    \t71098     \t1.13083%  \t35.21     \t0.82361   \n",
      "0.995     \t910       \t11.96%    \t118497    \t0.76795%  \t23.91     \t0.80420   \n",
      "0.99      \t1087      \t14.28%    \t236994    \t0.45866%  \t14.28     \t0.77850   \n",
      "0.98      \t1405      \t18.46%    \t473988    \t0.29642%  \t9.23      \t0.74672   \n",
      "0.95      \t2126      \t27.93%    \t1184970   \t0.17941%  \t5.59      \t0.67543   \n",
      "0.9       \t3011      \t39.56%    \t2369941   \t0.12705%  \t3.96      \t0.59677   \n",
      "0.8       \t4105      \t53.94%    \t4739883   \t0.08661%  \t2.70      \t0.49266   \n",
      "0.7       \t4928      \t64.75%    \t7109824   \t0.06931%  \t2.16      \t0.42118   \n",
      "0.5       \t6086      \t79.96%    \t11849708  \t0.05136%  \t1.60      \t0.33071   \n",
      "0.3       \t6887      \t90.49%    \t16589591  \t0.04151%  \t1.29      \t0.26247   \n",
      "0         \t7611      \t100.00%   \t23699416  \t0.03211%  \t1.00      \t0.09051   \n"
     ]
    }
   ],
   "source": [
    "data = sorted(zip(scores,labels),reverse = True)\n",
    "def nvl(a,b):\n",
    "    if a:\n",
    "        return a\n",
    "    else:\n",
    "        return b\n",
    "    \n",
    "print('\\nLift table for LGBM\\n\\n{:<10}\\t{:<10}\\t{:<10}\\t{:<10}\\t{:<10}\\t{:<10}\\t{:<10}'.format(\n",
    "        'q','pos_cnt','pos%','cnt','pos/cnt','lift','score'))\n",
    "pos_tot = sum([e[1] for e in data])\n",
    "pos_share_tot = float(pos_tot) / len(data)\n",
    "for q in [0.999,0.9988,0.9985,0.9983,0.998,0.997,0.995,0.99,0.98,0.95,0.9,0.8,0.7,0.5,0.3,0]:\n",
    "    pos_cnt = sum([e[1] for e in data[:int((1-q)*len(data))]])\n",
    "    cnt = int((1-q)*len(data))\n",
    "    pos_share = float(pos_cnt)/cnt\n",
    "    print('{:<10}\\t{:<10}\\t{:<10.2%}\\t{:<10}\\t{:<10.5%}\\t{:<10.2f}\\t{:<10.5f}'.format(q,\n",
    "                                                                                      pos_cnt,\n",
    "                                                                                      float(pos_cnt)/pos_tot,\n",
    "                                                                                      cnt,pos_share,\n",
    "                                                                                      pos_share/pos_share_tot,\n",
    "                                                                                      nvl(data[int((1-q)*len(data))-1][0],-20)\n",
    "                                                                                     ))"
   ]
  },
  {
   "cell_type": "code",
   "execution_count": 13,
   "metadata": {
    "collapsed": false
   },
   "outputs": [
    {
     "name": "stdout",
     "output_type": "stream",
     "text": [
      "\n",
      "Lift table for Max score\n",
      "\n",
      "q         \tpos_cnt   \tpos%      \tcnt       \tpos/cnt   \tlift      \tscore     \n",
      "0.9999    \t95        \t1.25%     \t2369      \t4.01013%  \t124.87    \t-2.78761  \n",
      "0.9998    \t129       \t1.69%     \t4739      \t2.72209%  \t84.76     \t-3.16395  \n",
      "0.9997    \t226       \t2.97%     \t7109      \t3.17907%  \t98.99     \t-3.21931  \n",
      "0.9995    \t328       \t4.31%     \t11849     \t2.76817%  \t86.20     \t-3.47275  \n",
      "0.999     \t490       \t6.44%     \t23699     \t2.06760%  \t64.38     \t-3.89131  \n",
      "0.998     \t719       \t9.45%     \t47398     \t1.51694%  \t47.24     \t-4.34595  \n",
      "0.997     \t803       \t10.55%    \t71098     \t1.12943%  \t35.17     \t-5.12064  \n",
      "0.995     \t860       \t11.30%    \t118497    \t0.72576%  \t22.60     \t-5.98402  \n",
      "0.99      \t993       \t13.05%    \t236994    \t0.41900%  \t13.05     \t-7.22881  \n",
      "0.98      \t1203      \t15.81%    \t473988    \t0.25380%  \t7.90      \t-8.00926  \n",
      "0.95      \t1949      \t25.61%    \t1184970   \t0.16448%  \t5.12      \t-8.50614  \n",
      "0.9       \t2643      \t34.73%    \t2369941   \t0.11152%  \t3.47      \t-8.87582  \n",
      "0.88      \t2888      \t37.95%    \t2843929   \t0.10155%  \t3.16      \t-8.96148  \n",
      "0.86      \t3079      \t40.45%    \t3317918   \t0.09280%  \t2.89      \t-9.03705  \n",
      "0.85      \t3212      \t42.20%    \t3554912   \t0.09035%  \t2.81      \t-9.08676  \n",
      "0.84      \t3395      \t44.61%    \t3791906   \t0.08953%  \t2.79      \t-9.15445  \n",
      "0.82      \t3598      \t47.27%    \t4265894   \t0.08434%  \t2.63      \t-9.23576  \n",
      "0.8       \t4063      \t53.38%    \t4739883   \t0.08572%  \t2.67      \t-9.29891  \n",
      "0.78      \t4063      \t53.38%    \t5213871   \t0.07793%  \t2.43      \t-9.29891  \n",
      "0.76      \t4063      \t53.38%    \t5687859   \t0.07143%  \t2.22      \t-9.29891  \n",
      "0.74      \t4232      \t55.60%    \t6161848   \t0.06868%  \t2.14      \t-9.41304  \n",
      "0.7       \t4596      \t60.39%    \t7109824   \t0.06464%  \t2.01      \t-9.54949  \n",
      "0.5       \t5877      \t77.22%    \t11849708  \t0.04960%  \t1.54      \t-9.86699  \n",
      "0.3       \t6814      \t89.53%    \t16589591  \t0.04107%  \t1.28      \t-10.07139 \n",
      "0         \t7611      \t100.00%   \t23699416  \t0.03211%  \t1.00      \t-20.00000 \n"
     ]
    }
   ],
   "source": [
    "#data1 = sorted(zip(maxsc,labels),reverse = True)\n",
    "def nvl(a,b):\n",
    "    if a:\n",
    "        return a\n",
    "    else:\n",
    "        return b\n",
    "    \n",
    "print('\\nLift table for Max score\\n\\n{:<10}\\t{:<10}\\t{:<10}\\t{:<10}\\t{:<10}\\t{:<10}\\t{:<10}'.format(\n",
    "        'q','pos_cnt','pos%','cnt','pos/cnt','lift','score'))\n",
    "#pos_tot1 = sum([e[1] for e in data1])\n",
    "#pos_share_tot1 = float(pos_tot) / len(data)\n",
    "for q in [0.9999,0.9998,0.9997,0.9995,0.999,0.998,0.997,0.995,0.99,0.98,0.95,0.9,0.88,0.86,0.85,0.84,0.82,0.8,0.78,0.76,0.74,0.7,0.5,0.3,0]:\n",
    "    pos_cnt1 = sum([e[1] for e in data1[:int((1-q)*len(data1))]])\n",
    "    cnt1 = int((1-q)*len(data1))\n",
    "    pos_share1 = float(pos_cnt1)/cnt1\n",
    "    print('{:<10}\\t{:<10}\\t{:<10.2%}\\t{:<10}\\t{:<10.5%}\\t{:<10.2f}\\t{:<10.5f}'.format(q,\n",
    "                                                                                      pos_cnt1,\n",
    "                                                                                      float(pos_cnt1)/pos_tot1,\n",
    "                                                                                      cnt1,pos_share1,\n",
    "                                                                                      pos_share1/pos_share_tot1,\n",
    "                                                                                      nvl(data1[int((1-q)*len(data1))-1][0],-20)\n",
    "                                                                                     ))"
   ]
  },
  {
   "cell_type": "markdown",
   "metadata": {},
   "source": [
    "### Бустер лучше работает в середине, за счет этого выше AUC ROC. Но в нужных верхних квантилях макс скор ранжирует лучше."
   ]
  },
  {
   "cell_type": "code",
   "execution_count": null,
   "metadata": {
    "collapsed": true
   },
   "outputs": [],
   "source": []
  },
  {
   "cell_type": "code",
   "execution_count": null,
   "metadata": {
    "collapsed": true
   },
   "outputs": [],
   "source": []
  }
 ],
 "metadata": {
  "kernelspec": {
   "display_name": "Python 2",
   "language": "python",
   "name": "python2"
  },
  "language_info": {
   "codemirror_mode": {
    "name": "ipython",
    "version": 2
   },
   "file_extension": ".py",
   "mimetype": "text/x-python",
   "name": "python",
   "nbconvert_exporter": "python",
   "pygments_lexer": "ipython2",
   "version": "2.7.10"
  }
 },
 "nbformat": 4,
 "nbformat_minor": 0
}
