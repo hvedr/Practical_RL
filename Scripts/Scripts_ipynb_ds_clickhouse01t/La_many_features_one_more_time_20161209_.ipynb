{
 "cells": [
  {
   "cell_type": "code",
   "execution_count": null,
   "metadata": {
    "collapsed": true
   },
   "outputs": [],
   "source": [
    "## !/usr/bin/env python\n",
    "#Config\n",
    "from pyspark import SparkConf, SparkContext, HiveContext\n",
    "#import re\n",
    "import numpy as np\n",
    "import pandas as pd\n",
    "#import datetime\n",
    "#from pyspark.mllib.regression import LabeledPoint\n",
    "#from pyspark.mllib.feature import HashingTF\n",
    "#from pyspark.mllib.classification import LogisticRegressionWithSGD, NaiveBayes, NaiveBayesModel\n",
    "#import scipy.sparse as sps\n",
    "#from pyspark.mllib.linalg import Vectors\n",
    "#import sklearn\n",
    "import itertools\n",
    "import datetime\n",
    "import sys\n",
    "\n",
    "try:\n",
    "    sc.stop()\n",
    "except NameError:\n",
    "    pass\n",
    "\n",
    "conf = SparkConf().set(\"spark.executor.instances\", 32).set(\"spark.driver.maxResultSize\", \"32g\")\n",
    "sc = SparkContext()\n",
    "hc = HiveContext(sc)\n",
    "sc.setCheckpointDir('checkpoint/')"
   ]
  },
  {
   "cell_type": "code",
   "execution_count": null,
   "metadata": {
    "collapsed": false,
    "scrolled": true
   },
   "outputs": [],
   "source": [
    "ymds = ['2016-10-18','2016-10-25','2016-11-01']\n",
    "\n",
    "visit_r_query_pattern = '''\n",
    "set hive.exec.dynamic.partition.mode=nonstrict;\n",
    "insert overwrite\n",
    " table prod_features_liveinternet.visits_r partition(ymd)    \n",
    "select id\n",
    "     , urlfr\n",
    "     , min(named_struct( 't', if((split(urlfr,'#')[0] <> ref_host) and not ref_host in ('','-','B'), time, time + 10000000)\n",
    "     , 'ref_host', ref_host)).ref_host as ref_host\n",
    "     , cast(count(*) as int) hits\n",
    "     , cast(sum(hits_old) as int) hits_old\n",
    "     , cast(count(distinct url) as int) as page_cnt\n",
    "     , cast(MAX(time) - MIN(time) as int) as duration\n",
    "     , AVG(time) as avg_time\n",
    "     , stddev(time) as time_std\n",
    "     , max(email_visit_flag) as email_visit\n",
    "     , max(email_ru_flag) as emailru\n",
    "     , max(utm_flag) as utm\n",
    "     , max(if(regexp_extract(ref_host,'(.*)\\\\\\\\.[a-zA-Z]*$',1) in ('google','google.co','google.com','yandex','go.mail','nova.rambler','bing','yahoo'),1, 0)) as ref_search\n",
    "     , max(if(regexp_extract(ref_host,'([^.]*)\\\\\\\\.[a-zA-Z]*$',1) in ('vk','facebook','ok','odnoklassniki','instagram','youtube'),1, 0)) as ref_social\n",
    "     , max(ip) as ip\n",
    "     , count(distinct ip) as ip_cnt\n",
    "     , max(current_timestamp()) as load_dttm\n",
    "     , ymd\n",
    "  from(select id\n",
    "            , time\n",
    "            , concat(parse_url(concat('http://', url), 'HOST'), '#', path_fr) as urlfr\n",
    "            , ymd\n",
    "            , if(lower(concat(url,' ',referrer)) rlike '[^a-z](utm[_-]?[a-z]{0,15}|from|source|src(id)?)[%a-f0-9]{0,4}[=-_]?e?mail',1, 0) as email_visit_flag\n",
    "            , if(lower(referrer) rlike 'e\\\\\\\\.mail\\\\\\\\.ru',1, 0) as email_ru_flag\n",
    "            , if(lower(concat(url,' ',referrer)) rlike '([^a-zA-Z]utm(_|-|=|%[0-9][0-9a-fA-F]))|/?[yg]clid=',1, 0) as utm_flag\n",
    "            , url\n",
    "            , parse_url(concat('http://', referrer), 'HOST') as ref_host\n",
    "            , hits_old\n",
    "            , ip\n",
    "         from(select id\n",
    "                   , avg(cast(timestamp as Bigint)) as time\n",
    "                   , url\n",
    "                   , referrer\n",
    "                   , ymd\n",
    "                   , ip\n",
    "                   , count(*) as hits_old\n",
    "                from prod_raw_liveinternet.access_log\n",
    "               where ymd = '#ymd'\n",
    "               group\n",
    "                  by id\n",
    "                   , url\n",
    "                   , referrer,ymd,ip,cast(timestamp/10 as Bigint)\n",
    "            ) a\n",
    "      LATERAL\n",
    "         VIEW explode(split(parse_url(concat('http://', url), \"PATH\"), '/')) tt AS path_fr\n",
    "     ) t\n",
    " group\n",
    "    by ymd\n",
    "     , id\n",
    "     , urlfr\n",
    ";\n",
    "\n",
    "alter table prod_features_liveinternet.visits_r partition (ymd = '#ymd') concatenate\n",
    "\n",
    "'''\n",
    "\n",
    "pattern_test = '''\n",
    "set hive.exec.dynamic.partition.mode=nonstrict;\n",
    "\n",
    "insert overwrite\n",
    " table prod_features_liveinternet.visits_r partition(ymd)    \n",
    "select id\n",
    "     , urlfr\n",
    "     , min(named_struct( 't', if((split(urlfr,'#')[0] <> ref_host) and not ref_host in ('','-','B'), time, time + 10000000)\n",
    "     , 'ref_host', ref_host)).ref_host as ref_host\n",
    "     , cast(count(*) as int) hits\n",
    "     , cast(sum(hits_old) as int) hits_old\n",
    "     , cast(count(distinct url) as int) as page_cnt\n",
    "     , cast(MAX(time) - MIN(time) as int) as duration\n",
    "     , AVG(time) as avg_time\n",
    "     , stddev(time) as time_std\n",
    "     , max(email_visit_flag) as email_visit\n",
    "     , max(email_ru_flag) as emailru\n",
    "     , max(utm_flag) as utm\n",
    "     , max(if(regexp_extract(ref_host,'(.*)\\\\\\\\.[a-zA-Z]*$',1) in ('google','google.co','google.com','yandex','go.mail','nova.rambler','bing','yahoo'),1, 0)) as ref_search\n",
    "     , max(if(regexp_extract(ref_host,'([^.]*)\\\\\\\\.[a-zA-Z]*$',1) in ('vk','facebook','ok','odnoklassniki','instagram','youtube'),1, 0)) as ref_social\n",
    "     , max(ip) as ip\n",
    "     , count(distinct ip) as ip_cnt\n",
    "     , max(current_timestamp()) as load_dttm\n",
    "     , ymd\n",
    "  from(select id\n",
    "            , time\n",
    "            , concat(parse_url(concat('http://', url), 'HOST'), '#', path_fr) as urlfr\n",
    "            , ymd\n",
    "            , if(lower(concat(url,' ',referrer)) rlike '[^a-z](utm[_-]?[a-z]{0,15}|from|source|src(id)?)[%a-f0-9]{0,4}[=-_]?e?mail',1, 0) as email_visit_flag\n",
    "            , if(lower(referrer) rlike 'e\\\\\\\\.mail\\\\\\\\.ru',1, 0) as email_ru_flag\n",
    "            , if(lower(concat(url,' ',referrer)) rlike '([^a-zA-Z]utm(_|-|=|%[0-9][0-9a-fA-F]))|/?[yg]clid=',1, 0) as utm_flag\n",
    "            , url\n",
    "            , parse_url(concat('http://', referrer), 'HOST') as ref_host\n",
    "            , hits_old\n",
    "            , ip\n",
    "         from(select id\n",
    "                   , avg(cast(timestamp as Bigint)) as time\n",
    "                   , url\n",
    "                   , referrer\n",
    "                   , ymd\n",
    "                   , ip\n",
    "                   , count(*) as hits_old\n",
    "                from prod_raw_liveinternet.access_log\n",
    "               where ymd = '#ymd'\n",
    "                 and substr(id,1,5) = '00000'\n",
    "               group\n",
    "                  by id\n",
    "                   , url\n",
    "                   , referrer,ymd,ip,cast(timestamp/10 as Bigint)\n",
    "            ) a\n",
    "      LATERAL\n",
    "         VIEW explode(split(parse_url(concat('http://', url), \"PATH\"), '/')) tt AS path_fr\n",
    "     ) t\n",
    " group\n",
    "    by ymd\n",
    " , id\n",
    "     , urlfr\n",
    ";\n",
    "\n",
    "alter table prod_features_liveinternet.visits_r partition (ymd = '#ymd') concatenate\n",
    "\n",
    "'''\n",
    "\n",
    "for y in ymds:\n",
    "    print(visit_r_query_pattern.replace('#ymd',y))\n",
    "    #for q in pattern_test.replace('#ymd',y).split(';'): \n",
    "    #      hc.sql(q)"
   ]
  },
  {
   "cell_type": "code",
   "execution_count": null,
   "metadata": {
    "collapsed": false,
    "scrolled": true
   },
   "outputs": [],
   "source": [
    "signals_gen_query_pattern = '''\n",
    "create table user_kposminin.la_many_features_#ind as\n",
    "select\n",
    "       v.ymd\n",
    "     , b.contact_str as phone\n",
    "     , max(if(p.id is Null,0,1)) as label\n",
    "     , max(if(p.first_day = 1, 1, 0)) as first_day\n",
    "     , max(score) as max_tcs_score\n",
    "     , max(\n",
    "         if(\n",
    "          hour(v.avg_time) >= 9 and hour(v.avg_time) <= 20, \n",
    "          t.score,\n",
    "          Null\n",
    "         )\n",
    "       ) as max_work_hours_tcs_score\n",
    "     , avg(\n",
    "         if(\n",
    "           hour(v.avg_time) >= 9 and hour(v.avg_time) <= 20, \n",
    "           t.score,\n",
    "           Null\n",
    "         )    \n",
    "       ) as avg_work_hours_tcs_score\n",
    "     , count(distinct v.urlfr) as cnt\n",
    "     , sum(v.hits) as hits\n",
    "     , sum(v.ip_cnt) as ip_cnt\n",
    "     , sum(v.page_cnt) as page_cnt\n",
    "     , count(distinct v.id) as id_cnt\n",
    "     , sum(if(hour(v.avg_time) >= 9 and hour(v.avg_time) <= 20,v.hits,0)) as work_hours_hits\n",
    "     , min(hour(v.avg_time)) as min_avg_hour\n",
    "     , max(hour(v.avg_time)) as max_avg_hour\n",
    "     , avg(hour(v.avg_time)) as avg_avg_hour\n",
    "     , sum(duration) as sum_duration\n",
    "     , avg(duration) as avg_duration\n",
    "     , sum(if(v.urlfr like 'e.mail.ru%',1,0)) as emailru\n",
    "     , sum(if(v.urlfr like 'm.%',1,0))/sum(1) as mobile_share\n",
    "     , sum(if(v.urlfr rlike '^(m\\\\.)?vk.com%', 1, 0))/sum(1) as vk_share\n",
    "     , sum(if(v.urlfr like 'vk.com%' or v.urlfr rlike '^(m\\\\.)?ok\\\\.ru' or v.urlfr like 'm.odnoklassniki.ru%' or v.urlfr rlike '^(m\\\\.)?my.mail.ru',1,0))/sum(1) as social_share\n",
    "     , stddev(v.avg_time) as hour_std     \n",
    "     , log(avg((t.cnt_positive + 0.1)/(t.cnt_total - t.cnt_positive + 0.1))) as log_avg_exp_tsc_score\n",
    "     , avg(t.score) as avg_tcs_score\n",
    "     , sum(t.score) as sum_tcs_score\n",
    "     , min(t.score) as min_tcs_score\n",
    "     , percentile_approx(t.score,0.75) as q75_tcs_score\n",
    "     , percentile_approx(t.score,0.25) as q25_tcs_score\n",
    "     , percentile_approx(t.score,0.5) as q50_tcs_score\n",
    "     , percentile_approx(t.score,0.9) as q90_tcs_score\n",
    "     , count(distinct if(t.score > -7, v.urlfr,Null)) as good_tcs_urlfr_visited_cnt\n",
    "     , count(distinct if(t.score > -5, v.urlfr,Null)) as very_good_tcs_urlfr_visited_cnt\n",
    "     , max(if(v.ref_search = 1,t.score,Null)) as max_ref_search_score \n",
    "     , avg(if(v.ref_search = 1,t.score,Null)) as avg_ref_search_score \n",
    "     , percentile_approx(if(ref_search = 1,t.score,Null),0.9) as q90_ref_search_score \n",
    "     , sum(ref_search) as cnt_ref_search\n",
    "     , max(\n",
    "             named_struct( \n",
    "             'score',t.score, \n",
    "             'avg_hour',hour(v.avg_time)  \n",
    "             )           \n",
    "          ).avg_hour as max_urlfr_avg_hour\n",
    "     , max(\n",
    "             named_struct(\n",
    "             'score', t.score,\n",
    "             'hits', v.hits\n",
    "             )           \n",
    "          ).hits as max_urlfr_hits_cnt\n",
    "     , max(\n",
    "             named_struct(\n",
    "             'score', t.score,\n",
    "             'cnt_total', t.cnt_total\n",
    "             )           \n",
    "          ).cnt_total as max_urlfr_cnt_total\n",
    "\n",
    "     , max(if(ref_social = 1,t.score,Null)) as max_ref_social_score \n",
    "     , avg(if(ref_social = 1,t.score,Null)) as avg_ref_social_score \n",
    "     , percentile_approx(if(ref_social = 1,t.score,Null),0.9) as q90_ref_social_score \n",
    "     , sum(ref_social) as cnt_ref_social\n",
    "\n",
    "     , max(if(utm = 1,t.score,Null)) as max_utm_score \n",
    "     , avg(if(utm = 1,t.score,Null)) as avg_utm_score \n",
    "     , percentile_approx(if(utm = 1,t.score,Null),0.9) as q90_utm_score \n",
    "     , sum(utm) as cnt_utm\n",
    "     \n",
    "     , max(if(emailru = 1, t.score,Null)) as max_emailru_score \n",
    "     , avg(if(emailru = 1, t.score,Null)) as avg_emailru_score \n",
    "     , percentile_approx(if(emailru = 1, t.score,Null),0.9) as q90_emailru_score \n",
    "     , sum(emailru) as cnt_emailru\n",
    "\n",
    "     , max(if(emailru + email_visit > 0, t.score,Null)) as max_email_score \n",
    "     , avg(if(emailru + email_visit > 0, t.score,Null)) as avg_email_score \n",
    "     , percentile_approx(if(emailru + email_visit > 0, t.score,Null), 0.9) as q90_email_score \n",
    "     , sum(if(emailru + email_visit > 0,1,0)) as cnt_email\n",
    "\n",
    "  from prod_features_liveinternet.visits_r v\n",
    "  left join (  \n",
    "       select id, if(ymd = '#ymd1',1,0) as first_day from prod_features_liveinternet.user_action \n",
    "        where ymd between '#ymd1' and '#ymd3'\n",
    "          and action_type = 'tinkoff_platinum_complete_application'\n",
    "     ) p   on p.id = v.id\n",
    "  left join (\n",
    "       select urlfr\n",
    "            , log((cnt_positive + 0.1)/(cnt_total - cnt_positive + 0.1)) as score\n",
    "            , cnt_positive\n",
    "            , cnt_total\n",
    "         from prod_features_liveinternet.urlfr_tgt_cnt_cumulative2 a\n",
    "        inner join \n",
    "             ( select max(ymd) as ymd\n",
    "                 from prod_features_liveinternet.urlfr_tgt_cnt_cumulative2 \n",
    "                where ymd < '#ymd0'\n",
    "             ) b   on a.ymd = b.ymd\n",
    "       where target  = 'tinkoff_platinum_complete_application@tinkoff_action'  \n",
    "         and (cnt_total > 300000 or cnt_positive > 30)\n",
    "     ) t on t.urlfr = v.urlfr\n",
    " inner join (select uid_str,h_uid_rk from prod_dds.h_uid where load_src = 'LI.02') d on d.uid_str = v.id\n",
    " inner join (select h_contact_rk, h_uid_rk from prod_dds.l_uid_contact where contact_type_cd = 'PHONE') c on d.h_uid_rk = c.h_uid_rk\n",
    " inner join (select h_contact_rk, contact_str from prod_dds.h_contact where contact_type_cd = 'PHONE') b on b.h_contact_rk = c.h_contact_rk  \n",
    " where \n",
    "       v.ymd = '#ymd0'\n",
    " group by \n",
    "       b.contact_str\n",
    "     , v.ymd\n",
    ";\n",
    "       \n",
    "'''\n",
    "\n",
    "for y in ymds:\n",
    "    yd = datetime.datetime.strptime(y, '%Y-%m-%d').date()\n",
    "    signals_gen_query = signals_gen_query_pattern \\\n",
    "                               .replace('#ymd0',yd.strftime('%Y-%m-%d')) \\\n",
    "                               .replace('#ymd1',(yd + + datetime.timedelta(1)).strftime('%Y-%m-%d')) \\\n",
    "                               .replace('#ymd3',(yd + + datetime.timedelta(3)).strftime('%Y-%m-%d')) \\\n",
    "                               .replace('#ind',y.replace('-',''))                \n",
    "    print(signals_gen_query)\n",
    "    #for q in signals_gen_query: \n",
    "    #     hc.sql(q)"
   ]
  },
  {
   "cell_type": "code",
   "execution_count": 74,
   "metadata": {
    "collapsed": false
   },
   "outputs": [],
   "source": [
    "sample_query = '''\n",
    "select * from user_kposminin.la_many_features_20161025 \n",
    "where substr(md5(phone),1,1) = '0' or label = 1\n",
    "'''\n",
    "train = hc.sql(sample_query) \\\n",
    "    .toPandas()"
   ]
  },
  {
   "cell_type": "code",
   "execution_count": 77,
   "metadata": {
    "collapsed": true
   },
   "outputs": [],
   "source": [
    "test_sample = hc.sql('select * from user_kposminin.la_many_features_20161103 where substr(md5(phone),1,1) = \"#k\"'.replace('#k','4')) \\\n",
    "    .toPandas()"
   ]
  },
  {
   "cell_type": "code",
   "execution_count": 75,
   "metadata": {
    "collapsed": false
   },
   "outputs": [],
   "source": [
    "feat_cols = [u'max_tcs_score',\n",
    "       u'max_work_hours_tcs_score', u'avg_work_hours_tcs_score', u'cnt',\n",
    "       u'hits', u'ip_cnt', u'page_cnt', u'id_cnt', u'work_hours_hits',\n",
    "       u'min_avg_hour', u'max_avg_hour', u'avg_avg_hour', u'sum_duration',\n",
    "       u'avg_duration', u'emailru', u'mobile_share', u'vk_share',\n",
    "       u'social_share', u'hour_std', u'log_avg_exp_tsc_score',\n",
    "       u'avg_tcs_score', u'sum_tcs_score', u'min_tcs_score', u'q75_tcs_score',\n",
    "       u'q25_tcs_score', u'q50_tcs_score', u'q90_tcs_score',\n",
    "       u'good_tcs_urlfr_visited_cnt', u'very_good_tcs_urlfr_visited_cnt',\n",
    "       u'max_ref_search_score', u'avg_ref_search_score',\n",
    "       u'q90_ref_search_score', u'cnt_ref_search', u'max_urlfr_avg_hour',\n",
    "       u'max_urlfr_hits_cnt', u'max_urlfr_cnt_total', u'max_ref_social_score',\n",
    "       u'avg_ref_social_score', u'q90_ref_social_score', u'cnt_ref_social',\n",
    "       u'max_utm_score', u'avg_utm_score', u'q90_utm_score', u'cnt_utm',\n",
    "       u'max_emailru_score', u'avg_emailru_score', u'q90_emailru_score',\n",
    "       u'cnt_emailru', u'max_email_score', u'avg_email_score',\n",
    "       u'q90_email_score', u'cnt_email']\n",
    "X = train[feat_cols]\n",
    "y = train['label']"
   ]
  },
  {
   "cell_type": "code",
   "execution_count": 1,
   "metadata": {
    "collapsed": false
   },
   "outputs": [
    {
     "ename": "NameError",
     "evalue": "name 'sklearn' is not defined",
     "output_type": "error",
     "traceback": [
      "\u001b[1;31m---------------------------------------------------------------------------\u001b[0m",
      "\u001b[1;31mNameError\u001b[0m                                 Traceback (most recent call last)",
      "\u001b[1;32m<ipython-input-1-e28dc4cd3ad0>\u001b[0m in \u001b[0;36m<module>\u001b[1;34m()\u001b[0m\n\u001b[1;32m----> 1\u001b[1;33m \u001b[0mscaler\u001b[0m \u001b[1;33m=\u001b[0m \u001b[0msklearn\u001b[0m\u001b[1;33m.\u001b[0m\u001b[0mpreprocessing\u001b[0m\u001b[1;33m.\u001b[0m\u001b[0mStandardScaler\u001b[0m\u001b[1;33m(\u001b[0m\u001b[1;33m)\u001b[0m\u001b[1;33m\u001b[0m\u001b[0m\n\u001b[0m\u001b[0;32m      2\u001b[0m \u001b[0mimp\u001b[0m \u001b[1;33m=\u001b[0m \u001b[0msklearn\u001b[0m\u001b[1;33m.\u001b[0m\u001b[0mpreprocessing\u001b[0m\u001b[1;33m.\u001b[0m\u001b[0mImputer\u001b[0m\u001b[1;33m(\u001b[0m\u001b[0mstrategy\u001b[0m\u001b[1;33m=\u001b[0m\u001b[1;34m'min'\u001b[0m\u001b[1;33m)\u001b[0m\u001b[1;33m\u001b[0m\u001b[0m\n\u001b[0;32m      3\u001b[0m \u001b[0mX\u001b[0m \u001b[1;33m=\u001b[0m \u001b[0mscaler\u001b[0m\u001b[1;33m.\u001b[0m\u001b[0mfit_transform\u001b[0m\u001b[1;33m(\u001b[0m\u001b[0mimp\u001b[0m\u001b[1;33m.\u001b[0m\u001b[0mfit_transform\u001b[0m\u001b[1;33m(\u001b[0m\u001b[0mtrain\u001b[0m\u001b[1;33m[\u001b[0m\u001b[0mfeat_cols\u001b[0m\u001b[1;33m]\u001b[0m\u001b[1;33m)\u001b[0m\u001b[1;33m)\u001b[0m\u001b[1;33m\u001b[0m\u001b[0m\n\u001b[0;32m      4\u001b[0m \u001b[0my\u001b[0m \u001b[1;33m=\u001b[0m \u001b[0mtrain\u001b[0m\u001b[1;33m[\u001b[0m\u001b[1;34m'label'\u001b[0m\u001b[1;33m]\u001b[0m\u001b[1;33m\u001b[0m\u001b[0m\n\u001b[0;32m      5\u001b[0m \u001b[0mXt\u001b[0m \u001b[1;33m=\u001b[0m \u001b[0mscaler\u001b[0m\u001b[1;33m.\u001b[0m\u001b[0mtransform\u001b[0m\u001b[1;33m(\u001b[0m\u001b[0mimp\u001b[0m\u001b[1;33m.\u001b[0m\u001b[0mtransform\u001b[0m\u001b[1;33m(\u001b[0m\u001b[0mtest_sample\u001b[0m\u001b[1;33m[\u001b[0m\u001b[0mfeat_cols\u001b[0m\u001b[1;33m]\u001b[0m\u001b[1;33m)\u001b[0m\u001b[1;33m)\u001b[0m\u001b[1;33m\u001b[0m\u001b[0m\n",
      "\u001b[1;31mNameError\u001b[0m: name 'sklearn' is not defined"
     ]
    }
   ],
   "source": [
    "scaler = sklearn.preprocessing.StandardScaler()\n",
    "imp = sklearn.preprocessing.Imputer(strategy='min')\n",
    "X = scaler.fit_transform(imp.fit_transform(train[feat_cols]))\n",
    "y = train['label']\n",
    "Xt = scaler.transform(imp.transform(test_sample[feat_cols]))\n",
    "yt = test_sample['label']\n",
    "clfLogRegr = sklearn.linear_model.LogisticRegression(penalty = 'l1')"
   ]
  },
  {
   "cell_type": "code",
   "execution_count": 2,
   "metadata": {
    "collapsed": false
   },
   "outputs": [
    {
     "ename": "NameError",
     "evalue": "name 'train' is not defined",
     "output_type": "error",
     "traceback": [
      "\u001b[1;31m---------------------------------------------------------------------------\u001b[0m",
      "\u001b[1;31mNameError\u001b[0m                                 Traceback (most recent call last)",
      "\u001b[1;32m<ipython-input-2-2affeab87a77>\u001b[0m in \u001b[0;36m<module>\u001b[1;34m()\u001b[0m\n\u001b[1;32m----> 1\u001b[1;33m \u001b[0mtrain\u001b[0m\u001b[1;33m.\u001b[0m\u001b[0mcount\u001b[0m\u001b[1;33m(\u001b[0m\u001b[1;33m)\u001b[0m\u001b[1;33m\u001b[0m\u001b[0m\n\u001b[0m",
      "\u001b[1;31mNameError\u001b[0m: name 'train' is not defined"
     ]
    }
   ],
   "source": [
    "train.count()"
   ]
  },
  {
   "cell_type": "code",
   "execution_count": 9,
   "metadata": {
    "collapsed": false
   },
   "outputs": [
    {
     "data": {
      "text/plain": [
       "XGBClassifier(base_score=0.5, colsample_bylevel=1, colsample_bytree=0.7,\n",
       "       gamma=0, learning_rate=0.1, max_delta_step=0, max_depth=5,\n",
       "       min_child_weight=1, missing=None, n_estimators=100, nthread=4,\n",
       "       objective='binary:logistic', reg_alpha=0, reg_lambda=1,\n",
       "       scale_pos_weight=1, seed=27, silent=True, subsample=0.7)"
      ]
     },
     "execution_count": 9,
     "metadata": {},
     "output_type": "execute_result"
    }
   ],
   "source": [
    "import sklearn\n",
    "import xgboost as xgb\n",
    "\n",
    "clfXGB = xgb.XGBClassifier(\n",
    " learning_rate = 0.1,\n",
    " n_estimators=100,\n",
    " max_depth=5,\n",
    " min_child_weight=1,\n",
    " gamma=0,\n",
    " subsample=0.7,\n",
    " colsample_bytree=0.7,\n",
    " objective= 'binary:logistic',\n",
    " nthread=4,\n",
    " scale_pos_weight = 1,\n",
    " seed=27\n",
    " )\n",
    "\n",
    "clfXGB.fit(X,y)"
   ]
  },
  {
   "cell_type": "code",
   "execution_count": 17,
   "metadata": {
    "collapsed": false
   },
   "outputs": [
    {
     "name": "stdout",
     "output_type": "stream",
     "text": [
      "XGBoost train AUCROC: 0.840925617616\n"
     ]
    }
   ],
   "source": [
    "print('{0} train AUCROC: {1}'.format('XGBoost',sklearn.metrics.roc_auc_score(\n",
    "                y_true = y, \n",
    "                y_score = clfXGB.predict_proba(X)[:,1]\n",
    "    )))"
   ]
  },
  {
   "cell_type": "code",
   "execution_count": 54,
   "metadata": {
    "collapsed": false
   },
   "outputs": [],
   "source": [
    "test = []\n",
    "for k in list('0123456789abcdef'):\n",
    "    batch = hc.sql('select * from user_kposminin.la_many_features_20161103 where substr(md5(phone),1,1) = \"#k\"'.replace('#k',k)) \\\n",
    "    .toPandas()\n",
    "    batch['XGB pred'] = clfXGB.predict_proba(batch[feat_cols])[:,1]\n",
    "    test = test + batch[['label','max_tcs_score','XGB pred']].values.tolist()"
   ]
  },
  {
   "cell_type": "code",
   "execution_count": 64,
   "metadata": {
    "collapsed": false
   },
   "outputs": [
    {
     "data": {
      "text/plain": [
       "[0.0, -11.074343495190838, 0.0006523363990709186]"
      ]
     },
     "execution_count": 64,
     "metadata": {},
     "output_type": "execute_result"
    }
   ],
   "source": []
  },
  {
   "cell_type": "code",
   "execution_count": 58,
   "metadata": {
    "collapsed": false
   },
   "outputs": [
    {
     "name": "stdout",
     "output_type": "stream",
     "text": [
      "XGBoost test XGB pred AUCROC: 0.719881650568\n"
     ]
    }
   ],
   "source": [
    "#test['XGB pred'] = clfXGB.predict_proba(test[feat_cols])[:,1]\n",
    "print('{0} test XGB pred AUCROC: {1}'.format('XGBoost',sklearn.metrics.roc_auc_score(\n",
    "                y_true = [e[0] for e in test], \n",
    "                y_score = [e[2] for e in test]\n",
    "    )))"
   ]
  },
  {
   "cell_type": "code",
   "execution_count": 59,
   "metadata": {
    "collapsed": false
   },
   "outputs": [
    {
     "name": "stdout",
     "output_type": "stream",
     "text": [
      "XGBoost test max_tcs_score AUCROC: 0.736057171404\n"
     ]
    }
   ],
   "source": [
    "print('{0} test max_tcs_score AUCROC: {1}'.format('XGBoost',sklearn.metrics.roc_auc_score(\n",
    "                y_true = [e[0] for e in test],\n",
    "                y_score = [e[1] for e in test]\n",
    "    )))"
   ]
  },
  {
   "cell_type": "code",
   "execution_count": 23,
   "metadata": {
    "collapsed": false
   },
   "outputs": [
    {
     "data": {
      "text/plain": [
       "[(0.057923496, u'max_tcs_score'),\n",
       " (0.04335155, u'max_ref_social_score'),\n",
       " (0.040801458, u'max_urlfr_cnt_total'),\n",
       " (0.039344262, u'avg_duration'),\n",
       " (0.034972679, u'avg_ref_search_score'),\n",
       " (0.032786883, u'max_work_hours_tcs_score'),\n",
       " (0.032058287, u'hour_std'),\n",
       " (0.031693988, u'q90_tcs_score'),\n",
       " (0.031693988, u'avg_email_score'),\n",
       " (0.030965392, u'avg_avg_hour'),\n",
       " (0.029143898, u'log_avg_exp_tsc_score'),\n",
       " (0.029143898, u'avg_work_hours_tcs_score'),\n",
       " (0.0287796, u'q25_tcs_score'),\n",
       " (0.026593806, u'social_share'),\n",
       " (0.026593806, u'q90_ref_social_score'),\n",
       " (0.026229508, u'max_ref_search_score'),\n",
       " (0.02550091, u'q90_ref_search_score'),\n",
       " (0.023679417, u'q50_tcs_score'),\n",
       " (0.023679417, u'avg_tcs_score'),\n",
       " (0.023315119, u'q75_tcs_score'),\n",
       " (0.022586521, u'min_avg_hour'),\n",
       " (0.022222223, u'avg_utm_score'),\n",
       " (0.021493625, u'sum_duration'),\n",
       " (0.021493625, u'max_urlfr_avg_hour'),\n",
       " (0.021493625, u'avg_ref_social_score'),\n",
       " (0.021129327, u'cnt'),\n",
       " (0.020036429, u'id_cnt'),\n",
       " (0.018943533, u'min_tcs_score'),\n",
       " (0.015664846, u'sum_tcs_score'),\n",
       " (0.01420765, u'work_hours_hits'),\n",
       " (0.01420765, u'q90_utm_score'),\n",
       " (0.013843352, u'mobile_share'),\n",
       " (0.013479053, u'max_utm_score'),\n",
       " (0.012386156, u'cnt_utm'),\n",
       " (0.01129326, u'max_urlfr_hits_cnt'),\n",
       " (0.01129326, u'cnt_ref_search'),\n",
       " (0.0094717667, u'avg_emailru_score'),\n",
       " (0.0087431697, u'q90_email_score'),\n",
       " (0.0083788708, u'page_cnt'),\n",
       " (0.0083788708, u'hits'),\n",
       " (0.0080145719, u'cnt_ref_social'),\n",
       " (0.0076502734, u'max_avg_hour'),\n",
       " (0.0054644807, u'very_good_tcs_urlfr_visited_cnt'),\n",
       " (0.0054644807, u'ip_cnt'),\n",
       " (0.0054644807, u'emailru'),\n",
       " (0.0047358833, u'q90_emailru_score'),\n",
       " (0.0036429872, u'cnt_email'),\n",
       " (0.0032786885, u'max_email_score'),\n",
       " (0.0032786885, u'good_tcs_urlfr_visited_cnt'),\n",
       " (0.0029143898, u'max_emailru_score'),\n",
       " (0.0010928962, u'cnt_emailru'),\n",
       " (0.0, u'vk_share')]"
      ]
     },
     "execution_count": 23,
     "metadata": {},
     "output_type": "execute_result"
    }
   ],
   "source": [
    "sorted(zip(clfXGB.feature_importances_,feat_cols),reverse=True)"
   ]
  },
  {
   "cell_type": "code",
   "execution_count": 60,
   "metadata": {
    "collapsed": false
   },
   "outputs": [],
   "source": [
    "#sl = sorted(zip(scores,labels),reverse = True)\n",
    "sl = sorted([[e[2],e[0]] for e in test],reverse = True) # xgb"
   ]
  },
  {
   "cell_type": "code",
   "execution_count": 79,
   "metadata": {
    "collapsed": false
   },
   "outputs": [
    {
     "name": "stdout",
     "output_type": "stream",
     "text": [
      "\n",
      "Lift table for XGBoost\n",
      "\n",
      "q         \tpos_cnt   \tpos%      \tcnt       \tpos/cnt   \tlift      \tscore     \n",
      "0.9999    \t33.0      \t0.79%     \t2322      \t1.42119%  \t78.98     \t0.39762   \n",
      "0.9998    \t78.0      \t1.87%     \t4645      \t1.67922%  \t93.32     \t0.31385   \n",
      "0.9997    \t122.0     \t2.92%     \t6968      \t1.75086%  \t97.30     \t0.26137   \n",
      "0.9995    \t183.0     \t4.38%     \t11614     \t1.57568%  \t87.57     \t0.19714   \n",
      "0.999     \t264.0     \t6.32%     \t23229     \t1.13651%  \t63.16     \t0.11277   \n",
      "0.998     \t361.0     \t8.64%     \t46459     \t0.77703%  \t43.18     \t0.05563   \n",
      "0.997     \t399.0     \t9.55%     \t69688     \t0.57255%  \t31.82     \t0.03998   \n",
      "0.995     \t468.0     \t11.20%    \t116148    \t0.40293%  \t22.39     \t0.02952   \n",
      "0.99      \t585.0     \t14.00%    \t232296    \t0.25183%  \t14.00     \t0.02125   \n",
      "0.98      \t775.0     \t18.54%    \t464593    \t0.16681%  \t9.27      \t0.01572   \n",
      "0.95      \t1144.0    \t27.37%    \t1161482   \t0.09849%  \t5.47      \t0.01037   \n",
      "0.9       \t1712.0    \t40.96%    \t2322965   \t0.07370%  \t4.10      \t0.00717   \n",
      "0.8       \t2455.0    \t58.73%    \t4645930   \t0.05284%  \t2.94      \t0.00463   \n",
      "0.7       \t2832.0    \t67.75%    \t6968896   \t0.04064%  \t2.26      \t0.00349   \n",
      "0.5       \t3415.0    \t81.70%    \t11614827  \t0.02940%  \t1.63      \t0.00231   \n",
      "0.3       \t3835.0    \t91.75%    \t16260758  \t0.02358%  \t1.31      \t0.00160   \n",
      "0         \t4180.0    \t100.00%   \t23229655  \t0.01799%  \t1.00      \t0.00017   \n"
     ]
    }
   ],
   "source": [
    "data = sl\n",
    "def nvl(a,b):\n",
    "    if a:\n",
    "        return a\n",
    "    else:\n",
    "        return b\n",
    "    \n",
    "print('\\nLift table for XGBoost\\n\\n{:<10}\\t{:<10}\\t{:<10}\\t{:<10}\\t{:<10}\\t{:<10}\\t{:<10}'.format(\n",
    "        'q','pos_cnt','pos%','cnt','pos/cnt','lift','score'))\n",
    "#pos_tot = sum([e[1] for e in data])\n",
    "#pos_share_tot = float(pos_tot) / len(data)\n",
    "for q in [0.9999,0.9998,0.9997,0.9995,0.999,0.998,0.997,0.995,0.99,0.98,0.95,0.9,0.8,0.7,0.5,0.3,0]:\n",
    "    pos_cnt = sum([e[1] for e in data[:int((1-q)*len(data))]])\n",
    "    cnt = int((1-q)*len(data))\n",
    "    pos_share = float(pos_cnt)/cnt\n",
    "    print('{:<10}\\t{:<10}\\t{:<10.2%}\\t{:<10}\\t{:<10.5%}\\t{:<10.2f}\\t{:<10.5f}'.format(q,\n",
    "                                                                                      pos_cnt,\n",
    "                                                                                      float(pos_cnt)/pos_tot,\n",
    "                                                                                      cnt,pos_share,\n",
    "                                                                                      pos_share/pos_share_tot,\n",
    "                                                                                      nvl(data[int((1-q)*len(data))-1][0],-20)\n",
    "                                                                                     ))"
   ]
  },
  {
   "cell_type": "code",
   "execution_count": 132,
   "metadata": {
    "collapsed": false
   },
   "outputs": [],
   "source": [
    "import math\n",
    "sl1 = sorted([[e[1] if not math.isnan(e[1]) else -30,e[0]] for e in test],reverse = True)"
   ]
  },
  {
   "cell_type": "code",
   "execution_count": 133,
   "metadata": {
    "collapsed": false
   },
   "outputs": [
    {
     "name": "stdout",
     "output_type": "stream",
     "text": [
      "\n",
      "Lift table for max score\n",
      "\n",
      "q         \tpos_cnt   \tpos%      \tcnt       \tpos/cnt   \tlift      \tscore     \n",
      "0.9999    \t47.0      \t1.12%     \t2322      \t2.02412%  \t112.49    \t-2.83254  \n",
      "0.9998    \t64.0      \t1.53%     \t4645      \t1.37783%  \t76.57     \t-3.14833  \n",
      "0.9997    \t84.0      \t2.01%     \t6968      \t1.20551%  \t66.99     \t-3.19567  \n",
      "0.9995    \t144.0     \t3.44%     \t11614     \t1.23988%  \t68.90     \t-3.45546  \n",
      "0.999     \t236.0     \t5.65%     \t23229     \t1.01597%  \t56.46     \t-3.89131  \n",
      "0.998     \t373.0     \t8.92%     \t46459     \t0.80286%  \t44.62     \t-4.32704  \n",
      "0.997     \t432.0     \t10.33%    \t69688     \t0.61991%  \t34.45     \t-5.26854  \n",
      "0.995     \t918.0     \t21.96%    \t116148    \t0.79037%  \t43.92     \t-6.00437  \n",
      "0.99      \t982.0     \t23.49%    \t232296    \t0.42274%  \t23.49     \t-7.37057  \n",
      "0.98      \t1108.0    \t26.51%    \t464593    \t0.23849%  \t13.25     \t-8.09208  \n",
      "0.95      \t1469.0    \t35.14%    \t1161482   \t0.12648%  \t7.03      \t-8.54771  \n",
      "0.9       \t1819.0    \t43.52%    \t2322965   \t0.07831%  \t4.35      \t-8.92858  \n",
      "0.8       \t2478.0    \t59.28%    \t4645930   \t0.05334%  \t2.96      \t-9.29891  \n",
      "0.7       \t2737.0    \t65.48%    \t6968896   \t0.03927%  \t2.18      \t-9.54676  \n",
      "0.5       \t3331.0    \t79.69%    \t11614827  \t0.02868%  \t1.59      \t-9.86699  \n",
      "0.3       \t3769.0    \t90.17%    \t16260758  \t0.02318%  \t1.29      \t-10.06236 \n",
      "0         \t4180.0    \t100.00%   \t23229655  \t0.01799%  \t1.00      \t-30.00000 \n"
     ]
    }
   ],
   "source": [
    "data = sl1\n",
    "def nvl(a,b):\n",
    "    if a:\n",
    "        return a\n",
    "    else:\n",
    "        return b\n",
    "    \n",
    "print('\\nLift table for max score\\n\\n{:<10}\\t{:<10}\\t{:<10}\\t{:<10}\\t{:<10}\\t{:<10}\\t{:<10}'.format(\n",
    "        'q','pos_cnt','pos%','cnt','pos/cnt','lift','score'))\n",
    "pos_tot = sum([e[1] for e in data])\n",
    "pos_share_tot = float(pos_tot) / len(data)\n",
    "for q in [0.9999,0.9998,0.9997,0.9995,0.999,0.998,0.997,0.995,0.99,0.98,0.95,0.9,0.8,0.7,0.5,0.3,0]:\n",
    "    pos_cnt = sum([e[1] for e in data[:int((1-q)*len(data))]])\n",
    "    cnt = int((1-q)*len(data))\n",
    "    pos_share = float(pos_cnt)/cnt\n",
    "    print('{:<10}\\t{:<10}\\t{:<10.2%}\\t{:<10}\\t{:<10.5%}\\t{:<10.2f}\\t{:<10.5f}'.format(q,\n",
    "                                                                                      pos_cnt,\n",
    "                                                                                      float(pos_cnt)/pos_tot,\n",
    "                                                                                      cnt,pos_share,\n",
    "                                                                                      pos_share/pos_share_tot,\n",
    "                                                                                      nvl(data[int((1-q)*len(data))-1][0],-20)\n",
    "                                                                                     ))"
   ]
  },
  {
   "cell_type": "code",
   "execution_count": 72,
   "metadata": {
    "collapsed": false
   },
   "outputs": [
    {
     "ename": "NameError",
     "evalue": "name 'test' is not defined",
     "output_type": "error",
     "traceback": [
      "\u001b[1;31m---------------------------------------------------------------------------\u001b[0m",
      "\u001b[1;31mNameError\u001b[0m                                 Traceback (most recent call last)",
      "\u001b[1;32m<ipython-input-72-89a012380c57>\u001b[0m in \u001b[0;36m<module>\u001b[1;34m()\u001b[0m\n\u001b[0;32m      1\u001b[0m \u001b[1;31m#type(sl1[10002][0])\u001b[0m\u001b[1;33m\u001b[0m\u001b[1;33m\u001b[0m\u001b[0m\n\u001b[0;32m      2\u001b[0m \u001b[1;31m#data = sorted(sl1,key  = lambda e: -e[0])\u001b[0m\u001b[1;33m\u001b[0m\u001b[1;33m\u001b[0m\u001b[0m\n\u001b[1;32m----> 3\u001b[1;33m \u001b[0mlen\u001b[0m\u001b[1;33m(\u001b[0m\u001b[0mtest\u001b[0m\u001b[1;33m)\u001b[0m\u001b[1;33m\u001b[0m\u001b[0m\n\u001b[0m",
      "\u001b[1;31mNameError\u001b[0m: name 'test' is not defined"
     ]
    }
   ],
   "source": [
    "#type(sl1[10002][0])\n",
    "#data = sorted(sl1,key  = lambda e: -e[0])\n"
   ]
  },
  {
   "cell_type": "code",
   "execution_count": 68,
   "metadata": {
    "collapsed": false
   },
   "outputs": [],
   "source": [
    "pred = [float(v) for v in open('lgbm_files/LightGBM_predict_result.txt','r').read().split('\\n')[:-1]]\n",
    "labels = [int(v) for v in open('/data1/share/kosm/data/la_many_feat_labels_20161103_1.txt','r').read()]"
   ]
  },
  {
   "cell_type": "code",
   "execution_count": 65,
   "metadata": {
    "collapsed": false
   },
   "outputs": [
    {
     "name": "stdout",
     "output_type": "stream",
     "text": [
      "bigr_lgbm.model\t\t\t  log1.txt\t      nohup.out\r\n",
      "bigr_model_trunc.model\t\t  log_20161213.txt    readme.md\r\n",
      "calc_auc.py\t\t\t  log_20161214_2.txt  test.conf\r\n",
      "ccall_many_feat_lgbm_trunc.model  log_20161214.txt    train.conf\r\n",
      "lgbm.model\t\t\t  log_short.txt       tst.txt\r\n",
      "LightGBM_predict_result.txt\t  log.txt\r\n"
     ]
    }
   ],
   "source": [
    "! ls lgbm_files/"
   ]
  },
  {
   "cell_type": "code",
   "execution_count": 69,
   "metadata": {
    "collapsed": false
   },
   "outputs": [
    {
     "name": "stdout",
     "output_type": "stream",
     "text": [
      "XGBoost test LGBM AUCROC: 0.76008302095\n"
     ]
    }
   ],
   "source": [
    "print('{0} test LGBM AUCROC: {1}'.format('XGBoost',sklearn.metrics.roc_auc_score(\n",
    "                y_true = labels,\n",
    "                y_score = pred\n",
    "    )))"
   ]
  },
  {
   "cell_type": "code",
   "execution_count": 71,
   "metadata": {
    "collapsed": false
   },
   "outputs": [
    {
     "name": "stdout",
     "output_type": "stream",
     "text": [
      "\n",
      "Lift table for LGBM \n",
      "\n",
      "q         \tpos_cnt   \tpos%      \tcnt       \tpos/cnt   \tlift      \tscore     \n",
      "0.9999    \t346       \t8.28%     \t2322      \t14.90095% \t828.10    \t0.91497   \n",
      "0.9998    \t346       \t8.28%     \t4645      \t7.44887%  \t413.96    \t0.91497   \n",
      "0.9997    \t346       \t8.28%     \t6968      \t4.96556%  \t275.95    \t0.91497   \n",
      "0.9995    \t346       \t8.28%     \t11614     \t2.97916%  \t165.56    \t0.91497   \n",
      "0.999     \t346       \t8.28%     \t23229     \t1.48952%  \t82.78     \t0.91497   \n",
      "0.9985    \t346       \t8.28%     \t34844     \t0.99300%  \t55.18     \t0.91497   \n",
      "0.9984    \t346       \t8.28%     \t37167     \t0.93093%  \t51.74     \t0.91497   \n",
      "0.9983    \t363       \t8.68%     \t39490     \t0.91922%  \t51.08     \t0.91488   \n",
      "0.9982    \t386       \t9.23%     \t41813     \t0.92316%  \t51.30     \t0.91260   \n",
      "0.998     \t390       \t9.33%     \t46459     \t0.83945%  \t46.65     \t0.91216   \n",
      "0.997     \t432       \t10.33%    \t69688     \t0.61991%  \t34.45     \t0.81949   \n",
      "0.995     \t484       \t11.58%    \t116148    \t0.41671%  \t23.16     \t0.80091   \n",
      "0.99      \t578       \t13.83%    \t232296    \t0.24882%  \t13.83     \t0.77683   \n",
      "0.98      \t788       \t18.85%    \t464593    \t0.16961%  \t9.43      \t0.74419   \n",
      "0.95      \t1297      \t31.03%    \t1161482   \t0.11167%  \t6.21      \t0.67475   \n",
      "0.9       \t1969      \t47.11%    \t2322965   \t0.08476%  \t4.71      \t0.60096   \n",
      "0.8       \t2476      \t59.23%    \t4645930   \t0.05329%  \t2.96      \t0.50025   \n",
      "0.7       \t2827      \t67.63%    \t6968896   \t0.04057%  \t2.25      \t0.42886   \n",
      "0.5       \t3364      \t80.48%    \t11614827  \t0.02896%  \t1.61      \t0.33761   \n",
      "0.3       \t3821      \t91.41%    \t16260757  \t0.02350%  \t1.31      \t0.26835   \n",
      "0         \t4180      \t100.00%   \t23229654  \t0.01799%  \t1.00      \t0.08996   \n"
     ]
    }
   ],
   "source": [
    "#data = sorted(zip(pred,labels),reverse = True)\n",
    "\n",
    "def nvl(a,b):\n",
    "    if a:\n",
    "        return a\n",
    "    else:\n",
    "        return b\n",
    "    \n",
    "print('\\nLift table for LGBM \\n\\n{:<10}\\t{:<10}\\t{:<10}\\t{:<10}\\t{:<10}\\t{:<10}\\t{:<10}'.format(\n",
    "        'q','pos_cnt','pos%','cnt','pos/cnt','lift','score'))\n",
    "#pos_tot = sum([e[1] for e in data])\n",
    "#pos_share_tot = float(pos_tot) / len(data)\n",
    "for q in [0.9999,0.9998,0.9997,0.9995,0.999,0.9985,0.9984,0.9983,0.9982,0.998,0.997,0.995,0.99,0.98,0.95,0.9,0.8,0.7,0.5,0.3,0]:\n",
    "    pos_cnt = sum([e[1] for e in data[:int((1-q)*len(data))]])\n",
    "    cnt = int((1-q)*len(data))\n",
    "    pos_share = float(pos_cnt)/cnt\n",
    "    print('{:<10}\\t{:<10}\\t{:<10.2%}\\t{:<10}\\t{:<10.5%}\\t{:<10.2f}\\t{:<10.5f}'.format(q,\n",
    "                                                                                      pos_cnt,\n",
    "                                                                                      float(pos_cnt)/pos_tot,\n",
    "                                                                                      cnt,pos_share,\n",
    "                                                                                      pos_share/pos_share_tot,\n",
    "                                                                                      nvl(data[int((1-q)*len(data))-1][0],-20)\n",
    "                                                                                     ))"
   ]
  },
  {
   "cell_type": "code",
   "execution_count": 5,
   "metadata": {
    "collapsed": false
   },
   "outputs": [],
   "source": [
    "feat_cols = [u'max_tcs_score',\n",
    "       u'max_work_hours_tcs_score', u'avg_work_hours_tcs_score', u'cnt',\n",
    "       u'hits', u'ip_cnt', u'page_cnt', u'id_cnt', u'work_hours_hits',\n",
    "       u'min_avg_hour', u'max_avg_hour', u'avg_avg_hour', u'sum_duration',\n",
    "       u'avg_duration', u'emailru', u'mobile_share', u'vk_share',\n",
    "       u'social_share', u'hour_std', u'log_avg_exp_tsc_score',\n",
    "       u'avg_tcs_score', u'sum_tcs_score', u'min_tcs_score', u'q75_tcs_score',\n",
    "       u'q25_tcs_score', u'q50_tcs_score', u'q90_tcs_score',\n",
    "       u'good_tcs_urlfr_visited_cnt', u'very_good_tcs_urlfr_visited_cnt',\n",
    "       u'max_ref_search_score', u'avg_ref_search_score',\n",
    "       u'q90_ref_search_score', u'cnt_ref_search', u'max_urlfr_avg_hour',\n",
    "       u'max_urlfr_hits_cnt', u'max_urlfr_cnt_total', u'max_ref_social_score',\n",
    "       u'avg_ref_social_score', u'q90_ref_social_score', u'cnt_ref_social',\n",
    "       u'max_utm_score', u'avg_utm_score', u'q90_utm_score', u'cnt_utm',\n",
    "       u'max_emailru_score', u'avg_emailru_score', u'q90_emailru_score',\n",
    "       u'cnt_emailru', u'max_email_score', u'avg_email_score',\n",
    "       u'q90_email_score', u'cnt_email']\n",
    "feat_import = [[11,283],\n",
    "[13,265],\n",
    "[18,257],\n",
    "[0,238],\n",
    "[35,238],\n",
    "[17,222],\n",
    "[22,216],\n",
    "[3,207],\n",
    "[31,186],\n",
    "[24,176],\n",
    "[25,175],\n",
    "[29,172],\n",
    "[21,169],\n",
    "[8,165],\n",
    "[23,165],\n",
    "[9,160],\n",
    "[30,153],\n",
    "[4,153],\n",
    "[26,152],\n",
    "[19,152],\n",
    "[12,151],\n",
    "[33,149],\n",
    "[2,140],\n",
    "[1,131],\n",
    "[20,130],\n",
    "[36,124],\n",
    "[37,120],\n",
    "[34,118],\n",
    "[39,116],\n",
    "[32,111],\n",
    "[6,111],\n",
    "[5,111],\n",
    "[38,110],\n",
    "[7,84],\n",
    "[10,77],\n",
    "[28,61],\n",
    "[43,59],\n",
    "[15,48],\n",
    "[49,48],\n",
    "[40,44],\n",
    "[41,40],\n",
    "[42,31],\n",
    "[14,30],\n",
    "[50,29],\n",
    "[47,25],\n",
    "[51,24],\n",
    "[48,23],\n",
    "[45,18],\n",
    "[27,15],\n",
    "[46,11],\n",
    "[44,7]\n",
    "]"
   ]
  },
  {
   "cell_type": "code",
   "execution_count": 6,
   "metadata": {
    "collapsed": false
   },
   "outputs": [
    {
     "name": "stdout",
     "output_type": "stream",
     "text": [
      "(u'avg_avg_hour', 283)\n",
      "(u'avg_duration', 265)\n",
      "(u'hour_std', 257)\n",
      "(u'max_tcs_score', 238)\n",
      "(u'max_urlfr_cnt_total', 238)\n",
      "(u'social_share', 222)\n",
      "(u'min_tcs_score', 216)\n",
      "(u'cnt', 207)\n",
      "(u'q90_ref_search_score', 186)\n",
      "(u'q25_tcs_score', 176)\n",
      "(u'q50_tcs_score', 175)\n",
      "(u'max_ref_search_score', 172)\n",
      "(u'sum_tcs_score', 169)\n",
      "(u'work_hours_hits', 165)\n",
      "(u'q75_tcs_score', 165)\n",
      "(u'min_avg_hour', 160)\n",
      "(u'avg_ref_search_score', 153)\n",
      "(u'hits', 153)\n",
      "(u'q90_tcs_score', 152)\n",
      "(u'log_avg_exp_tsc_score', 152)\n",
      "(u'sum_duration', 151)\n",
      "(u'max_urlfr_avg_hour', 149)\n",
      "(u'avg_work_hours_tcs_score', 140)\n",
      "(u'max_work_hours_tcs_score', 131)\n",
      "(u'avg_tcs_score', 130)\n",
      "(u'max_ref_social_score', 124)\n",
      "(u'avg_ref_social_score', 120)\n",
      "(u'max_urlfr_hits_cnt', 118)\n",
      "(u'cnt_ref_social', 116)\n",
      "(u'cnt_ref_search', 111)\n",
      "(u'page_cnt', 111)\n",
      "(u'ip_cnt', 111)\n",
      "(u'q90_ref_social_score', 110)\n",
      "(u'id_cnt', 84)\n",
      "(u'max_avg_hour', 77)\n",
      "(u'very_good_tcs_urlfr_visited_cnt', 61)\n",
      "(u'cnt_utm', 59)\n",
      "(u'mobile_share', 48)\n",
      "(u'avg_email_score', 48)\n",
      "(u'max_utm_score', 44)\n",
      "(u'avg_utm_score', 40)\n",
      "(u'q90_utm_score', 31)\n",
      "(u'emailru', 30)\n",
      "(u'q90_email_score', 29)\n",
      "(u'cnt_emailru', 25)\n",
      "(u'cnt_email', 24)\n",
      "(u'max_email_score', 23)\n",
      "(u'avg_emailru_score', 18)\n",
      "(u'good_tcs_urlfr_visited_cnt', 15)\n",
      "(u'q90_emailru_score', 11)\n",
      "(u'max_emailru_score', 7)\n"
     ]
    }
   ],
   "source": [
    "for i,v in feat_import:\n",
    "    print(feat_cols[i],v)"
   ]
  },
  {
   "cell_type": "code",
   "execution_count": 58,
   "metadata": {
    "collapsed": false
   },
   "outputs": [
    {
     "name": "stdout",
     "output_type": "stream",
     "text": [
      "XGBoost test max_tcs_score AUCROC: 0.654969600083\n"
     ]
    }
   ],
   "source": [
    "import sklearn\n",
    "print('{0} test max_tcs_score AUCROC: {1}'.format('XGBoost',sklearn.metrics.roc_auc_score(\n",
    "                y_true = train['label'],\n",
    "                y_score = train[u'page_cnt']\n",
    "    )))"
   ]
  },
  {
   "cell_type": "code",
   "execution_count": 24,
   "metadata": {
    "collapsed": false
   },
   "outputs": [
    {
     "data": {
      "text/plain": [
       "ymd                                1516397\n",
       "phone                              1516397\n",
       "label                              1516397\n",
       "first_day                          1516397\n",
       "max_tcs_score                      1488162\n",
       "max_work_hours_tcs_score           1343724\n",
       "avg_work_hours_tcs_score           1343724\n",
       "cnt                                1516397\n",
       "hits                               1516397\n",
       "ip_cnt                             1516397\n",
       "page_cnt                           1516397\n",
       "id_cnt                             1516397\n",
       "work_hours_hits                    1516397\n",
       "min_avg_hour                       1516397\n",
       "max_avg_hour                       1516397\n",
       "avg_avg_hour                       1516397\n",
       "sum_duration                       1516397\n",
       "avg_duration                       1516397\n",
       "emailru                            1516397\n",
       "mobile_share                       1516397\n",
       "vk_share                           1516397\n",
       "social_share                       1516397\n",
       "hour_std                           1516397\n",
       "log_avg_exp_tsc_score              1488162\n",
       "avg_tcs_score                      1488162\n",
       "sum_tcs_score                      1488162\n",
       "min_tcs_score                      1488162\n",
       "q75_tcs_score                      1488162\n",
       "q25_tcs_score                      1488162\n",
       "q50_tcs_score                      1488162\n",
       "q90_tcs_score                      1488162\n",
       "good_tcs_urlfr_visited_cnt         1516397\n",
       "very_good_tcs_urlfr_visited_cnt    1516397\n",
       "max_ref_search_score                972132\n",
       "avg_ref_search_score                972132\n",
       "q90_ref_search_score                972132\n",
       "cnt_ref_search                     1516397\n",
       "max_urlfr_avg_hour                 1516397\n",
       "max_urlfr_hits_cnt                 1516397\n",
       "max_urlfr_cnt_total                1488162\n",
       "max_ref_social_score               1127567\n",
       "avg_ref_social_score               1127567\n",
       "q90_ref_social_score               1127567\n",
       "cnt_ref_social                     1516397\n",
       "max_utm_score                       167849\n",
       "avg_utm_score                       167849\n",
       "q90_utm_score                       167849\n",
       "cnt_utm                            1516397\n",
       "max_emailru_score                   139387\n",
       "avg_emailru_score                   139387\n",
       "q90_emailru_score                   139387\n",
       "cnt_emailru                        1516397\n",
       "max_email_score                     197127\n",
       "avg_email_score                     197127\n",
       "q90_email_score                     197127\n",
       "cnt_email                          1516397\n",
       "dtype: int64"
      ]
     },
     "execution_count": 24,
     "metadata": {},
     "output_type": "execute_result"
    }
   ],
   "source": [
    "train.count()"
   ]
  },
  {
   "cell_type": "code",
   "execution_count": 59,
   "metadata": {
    "collapsed": true
   },
   "outputs": [],
   "source": []
  },
  {
   "cell_type": "code",
   "execution_count": 1,
   "metadata": {
    "collapsed": false
   },
   "outputs": [],
   "source": [
    "import datetime"
   ]
  },
  {
   "cell_type": "code",
   "execution_count": 9,
   "metadata": {
    "collapsed": false
   },
   "outputs": [
    {
     "data": {
      "text/plain": [
       "'2016-10-10'"
      ]
     },
     "execution_count": 9,
     "metadata": {},
     "output_type": "execute_result"
    }
   ],
   "source": [
    "a = '2016-10-13'\n",
    "(datetime.datetime.strptime(a,'%Y-%m-%d').date() + datetime.timedelta(days = -3)).strftime('%Y-%m-%d')"
   ]
  },
  {
   "cell_type": "code",
   "execution_count": null,
   "metadata": {
    "collapsed": true
   },
   "outputs": [],
   "source": []
  }
 ],
 "metadata": {
  "kernelspec": {
   "display_name": "Python 2",
   "language": "python",
   "name": "python2"
  },
  "language_info": {
   "codemirror_mode": {
    "name": "ipython",
    "version": 2
   },
   "file_extension": ".py",
   "mimetype": "text/x-python",
   "name": "python",
   "nbconvert_exporter": "python",
   "pygments_lexer": "ipython2",
   "version": "2.7.10"
  }
 },
 "nbformat": 4,
 "nbformat_minor": 0
}
