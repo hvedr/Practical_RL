{
 "cells": [
  {
   "cell_type": "markdown",
   "metadata": {},
   "source": [
    "## Парсер Яндекс Каталога\n"
   ]
  },
  {
   "cell_type": "code",
   "execution_count": 16,
   "metadata": {
    "collapsed": false
   },
   "outputs": [
    {
     "data": {
      "text/plain": [
       "Index([u'Сайт', u'Title', u'ТИЦ', u'Раздел', u'Подр. 2', u'Подр. 3',\n",
       "       u'Подр. 4', u'Подр. 5', u'Подр. 6', u'Регион', u'Region', u'Reg. 2',\n",
       "       u'Reg. 3', u'Reg. 4'],\n",
       "      dtype='object')"
      ]
     },
     "execution_count": 16,
     "metadata": {},
     "output_type": "execute_result"
    }
   ],
   "source": [
    "import pandas as pd\n",
    "yaca = pd.read_csv('/home/k.osminin/yaca_base.csv')\n",
    "yaca.columns"
   ]
  },
  {
   "cell_type": "code",
   "execution_count": 41,
   "metadata": {
    "collapsed": false
   },
   "outputs": [],
   "source": [
    "yaca.columns = ['Domain','Title','TIC','Section1','Section2','Section3','Section4','Section5','Section6',\n",
    "               'Region','Region1','Region2','Region3','Region4']\n",
    "yaca['Fake'] = 1\n"
   ]
  },
  {
   "cell_type": "code",
   "execution_count": 150,
   "metadata": {
    "collapsed": false
   },
   "outputs": [],
   "source": [
    "cols_to_enum = ['Fake','Section1','Section2','Section3','Section4','Section5','Section6']\n",
    "yaca[cols_to_enum] = cols_to_enum.fillna('na')\n",
    "ind = [1]\n",
    "for i in range(len(cols_to_enum)):\n",
    "    if i > 0:\n",
    "        ind.append(yaca.groupby(cols_to_enum[:i])[cols_to_enum[i]].unique())\n"
   ]
  },
  {
   "cell_type": "code",
   "execution_count": 285,
   "metadata": {
    "collapsed": false
   },
   "outputs": [],
   "source": [
    "yaca['Section_ind'] = yaca.apply(lambda r: ''.join(['{:02d}'.format(ind[i][tuple(r[cols_to_enum[:i]].values) if i>1 \n",
    "   else r[cols_to_enum[:1]][0]].tolist().index(r[cols_to_enum[i]])) for i in range(1,len(cols_to_enum))]),axis = 1)\n"
   ]
  },
  {
   "cell_type": "code",
   "execution_count": 305,
   "metadata": {
    "collapsed": false
   },
   "outputs": [],
   "source": [
    "cols_to_enum = ['Fake','Region1','Region2','Region3','Region4']\n",
    "\n",
    "yaca[cols_to_enum] = cols_to_enum.fillna('na')\n",
    "ind = [1]\n",
    "for i in range(len(cols_to_enum)):\n",
    "    if i > 0:\n",
    "        ind.append(yaca.groupby(cols_to_enum[:i])[cols_to_enum[i]].unique())\n",
    "yaca['Region_ind'] = yaca.apply(lambda r: ''.join(['{:02d}'.format(ind[i][tuple(r[cols_to_enum[:i]].values) if i>1 \n",
    "   else r[cols_to_enum[:1]][0]].tolist().index(r[cols_to_enum[i]])) for i in range(1,len(cols_to_enum))]),axis = 1)\n"
   ]
  },
  {
   "cell_type": "code",
   "execution_count": 417,
   "metadata": {
    "collapsed": false
   },
   "outputs": [],
   "source": [
    "import re\n",
    "yaca['Domain_proc'] = yaca['Domain'].apply(lambda d: re.findall('https?://(www[0-9s]?\\.)?(.+[^/])/?$',d)[0][1])\n",
    "#d = yaca['Domain'][2]\n",
    "#re.findall('https?://(www.)*(.+[^/])/?$','https://mondeoclub.ru')[0]"
   ]
  },
  {
   "cell_type": "code",
   "execution_count": 418,
   "metadata": {
    "collapsed": false
   },
   "outputs": [
    {
     "data": {
      "text/plain": [
       "Index([u'Domain', u'Title', u'TIC', u'Section1', u'Section2', u'Section3',\n",
       "       u'Section4', u'Section5', u'Section6', u'Region', u'Region1',\n",
       "       u'Region2', u'Region3', u'Region4', u'Fake', u'Section_ind',\n",
       "       u'Region_ind', u'Domain_proc'],\n",
       "      dtype='object')"
      ]
     },
     "execution_count": 418,
     "metadata": {},
     "output_type": "execute_result"
    }
   ],
   "source": [
    "\n",
    "cols_to_export = ['Section_ind','Region_ind','Domain_proc','Title','TIC',u'Section1', u'Section2', u'Section3',\n",
    "       u'Section4', u'Section5', u'Section6', u'Region', u'Region1',\n",
    "       u'Region2', u'Region3', u'Region4']\n",
    "yaca.columns"
   ]
  },
  {
   "cell_type": "code",
   "execution_count": 474,
   "metadata": {
    "collapsed": true
   },
   "outputs": [],
   "source": [
    "yaca[cols_to_export].to_csv('yaca_proc.csv', index = False,sep = '\\t',header = False)"
   ]
  },
  {
   "cell_type": "code",
   "execution_count": 420,
   "metadata": {
    "collapsed": false
   },
   "outputs": [],
   "source": [
    "a = yaca[yaca['Domain_proc'].map(lambda r:'/' in r)][['Domain_proc']]"
   ]
  },
  {
   "cell_type": "code",
   "execution_count": 421,
   "metadata": {
    "collapsed": false
   },
   "outputs": [],
   "source": []
  },
  {
   "cell_type": "code",
   "execution_count": 453,
   "metadata": {
    "collapsed": false
   },
   "outputs": [],
   "source": [
    "#a.groupby('domain').count().sort_values(by = 'Domain_proc',ascending = False)"
   ]
  },
  {
   "cell_type": "code",
   "execution_count": null,
   "metadata": {
    "collapsed": false
   },
   "outputs": [],
   "source": []
  },
  {
   "cell_type": "code",
   "execution_count": 475,
   "metadata": {
    "collapsed": false
   },
   "outputs": [],
   "source": [
    "#yaca[yaca['Region_ind'] == '00030000'][['Region1','Region2','Region3','Region4']]\n",
    "#yaca[yaca['Title'].apply(lambda r: ',' in r)]\n",
    "\n",
    "#yaca[yaca['Section3']=='12545']"
   ]
  },
  {
   "cell_type": "code",
   "execution_count": null,
   "metadata": {
    "collapsed": false
   },
   "outputs": [],
   "source": [
    "hive_queries = '''\n",
    "drop table  user_kposminin.yaca_tmp;\n",
    "CREATE EXTERNAL TABLE user_kposminin.yaca_tmp(  \n",
    "  Section_ind string,\n",
    "  Region_ind string,\n",
    "  Domain_proc string,\n",
    "  Title string,\n",
    "  TIC float,\n",
    "  Section1 string,\n",
    "  Section2 string,\n",
    "  Section3 string,\n",
    "  Section4 string,\n",
    "  Section5 string,\n",
    "  Section6 string,\n",
    "  Region string,\n",
    "  Region1 string,\n",
    "  Region2 string,\n",
    "  Region3 string,\n",
    "  Region4 string\n",
    ")\n",
    "row format delimited fields terminated by '\\t' stored as textfile;\n",
    "\tLOCATION\n",
    "\t  'hdfs://nameservice1/user/kposminin/yaca_tmp'\n",
    ";\n",
    "LOAD DATA INPATH '/user/kposminin/yaca_proc.csv' OVERWRITE INTO TABLE user_kposminin.yaca_tmp;\n",
    "\n",
    "create table user_kposminin.yaca as \n",
    "select section_ind, region_ind, domain_proc as site, title, cast(tic as int) as tic\n",
    "from user_kposminin.yaca_tmp \n",
    ";\n",
    "\n",
    "\n",
    "create table user_kposminin.yaca_region_dict as \n",
    "select distinct region_ind, region1, region2, region3, region4, region as region_ru\n",
    "from user_kposminin.yaca_tmp\n",
    "where domain_proc <> 'Domain_proc'\n",
    "order by region_ind\n",
    ";\n",
    "\n",
    "\n",
    "create table user_kposminin.yaca_section_dict as \n",
    "select distinct section_ind, section1, section2, section3, section4, section5, section6\n",
    "from user_kposminin.yaca_tmp\n",
    "where domain_proc <> 'Domain_proc'\n",
    "order by section_ind\n",
    ";\n",
    "\n",
    "create table user_kposminin.yaca_urlfr as\n",
    "select\n",
    "  urlfr,\n",
    "  max(\n",
    "    named_struct(\n",
    "      'tic', tic,\n",
    "      'section_ind',section_ind\n",
    "    )\n",
    "  ).section_ind as section_ind,\n",
    "  max(\n",
    "    named_struct(\n",
    "      'tic', tic,\n",
    "      'region_ind',region_ind\n",
    "    )\n",
    "  ).region_ind as region_ind,\n",
    "  max(\n",
    "    named_struct(\n",
    "      'tic', tic,\n",
    "      'title',title\n",
    "    )\n",
    "  ).title as title,\n",
    "  max(tic) as TIC\n",
    "from\n",
    "  (select\n",
    "    section_ind, \n",
    "    region_ind, \n",
    "    concat(parse_url(concat('http://', site), 'HOST'), '#', path_fr) as urlfr,\n",
    "    title,\n",
    "    tic\n",
    "  from\n",
    "    user_kposminin.yaca\n",
    "    LATERAL VIEW explode(split(parse_url(concat('http://', site), \"PATH\"), '/')) tt AS path_fr\n",
    "  ) a\n",
    "group by urlfr\n",
    ";\n",
    "\n",
    "'''"
   ]
  },
  {
   "cell_type": "code",
   "execution_count": 483,
   "metadata": {
    "collapsed": false
   },
   "outputs": [],
   "source": [
    "#yaca[yaca['Domain_proc'].apply(lambda r: len(r.split('/')))>2]"
   ]
  },
  {
   "cell_type": "code",
   "execution_count": 484,
   "metadata": {
    "collapsed": true
   },
   "outputs": [],
   "source": []
  },
  {
   "cell_type": "code",
   "execution_count": null,
   "metadata": {
    "collapsed": true
   },
   "outputs": [],
   "source": []
  }
 ],
 "metadata": {
  "kernelspec": {
   "display_name": "Python 2",
   "language": "python",
   "name": "python2"
  },
  "language_info": {
   "codemirror_mode": {
    "name": "ipython",
    "version": 2
   },
   "file_extension": ".py",
   "mimetype": "text/x-python",
   "name": "python",
   "nbconvert_exporter": "python",
   "pygments_lexer": "ipython2",
   "version": "2.7.10"
  }
 },
 "nbformat": 4,
 "nbformat_minor": 0
}
