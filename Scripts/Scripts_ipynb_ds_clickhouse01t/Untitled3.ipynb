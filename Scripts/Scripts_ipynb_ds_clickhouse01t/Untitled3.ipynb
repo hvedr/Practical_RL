{
 "cells": [
  {
   "cell_type": "code",
   "execution_count": null,
   "metadata": {
    "collapsed": true
   },
   "outputs": [],
   "source": [
    "sc.stop()\n",
    "\n",
    "sc = SparkContext()\n",
    "hc = HiveContext(sc)\n"
   ]
  },
  {
   "cell_type": "code",
   "execution_count": 2,
   "metadata": {
    "collapsed": false
   },
   "outputs": [
    {
     "name": "stdout",
     "output_type": "stream",
     "text": [
      "+---+\n",
      "|  a|\n",
      "+---+\n",
      "|  1|\n",
      "+---+\n",
      "\n"
     ]
    }
   ],
   "source": [
    "hc.sql('select 1 as a').show()"
   ]
  },
  {
   "cell_type": "code",
   "execution_count": 3,
   "metadata": {
    "collapsed": false
   },
   "outputs": [
    {
     "name": "stdout",
     "output_type": "stream",
     "text": [
      "+------------+\n",
      "|line_item_id|\n",
      "+------------+\n",
      "|         427|\n",
      "|         427|\n",
      "|         427|\n",
      "|         427|\n",
      "|         427|\n",
      "|         427|\n",
      "|         427|\n",
      "|         427|\n",
      "|         427|\n",
      "|         427|\n",
      "+------------+\n",
      "\n"
     ]
    }
   ],
   "source": [
    "q1 = \"\"\"\n",
    "select line_item_id\n",
    "from prod_odd_dsp.click\n",
    "where ymd between '2017-02-10' and '2017-02-15'\n",
    " and utm_source='datamind_cc'\n",
    " limit 10\n",
    "\"\"\"\n",
    "\n",
    "hc.sql(q1).show()"
   ]
  },
  {
   "cell_type": "code",
   "execution_count": null,
   "metadata": {
    "collapsed": true
   },
   "outputs": [],
   "source": [
    "q1 = \"\"\"\n",
    "select line_item_id\n",
    "from prod_odd_dsp.click\n",
    "where ymd between '2017-02-10' and '2017-02-15'\n",
    " and utm_source='datamind_cc'\n",
    " limit 10\n",
    "\"\"\"\n",
    "\n",
    "hc.sql(q1).show()"
   ]
  },
  {
   "cell_type": "code",
   "execution_count": null,
   "metadata": {
    "collapsed": true
   },
   "outputs": [],
   "source": []
  }
 ],
 "metadata": {
  "kernelspec": {
   "display_name": "Python 2",
   "language": "python",
   "name": "python2"
  },
  "language_info": {
   "codemirror_mode": {
    "name": "ipython",
    "version": 2
   },
   "file_extension": ".py",
   "mimetype": "text/x-python",
   "name": "python",
   "nbconvert_exporter": "python",
   "pygments_lexer": "ipython2",
   "version": "2.7.10"
  }
 },
 "nbformat": 4,
 "nbformat_minor": 0
}
