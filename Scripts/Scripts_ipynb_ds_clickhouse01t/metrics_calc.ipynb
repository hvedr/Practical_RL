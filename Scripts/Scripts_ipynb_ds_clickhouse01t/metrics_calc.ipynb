{
 "cells": [
  {
   "cell_type": "code",
   "execution_count": 3,
   "metadata": {
    "collapsed": true
   },
   "outputs": [],
   "source": [
    "def metrics(y_true, y_score, lift = None, return_str = False):\n",
    "    import sklearn\n",
    "    import collections\n",
    "    \n",
    "    if True:\n",
    "        # y_true = [0 if e == '-1' else 1 for e in os.popen('''perl -ne 'print substr($_,0,2) . \"\\n\"' /data1/share/kosm/data/url_text_valid_vw.txt''').read().split()]\n",
    "        # y_score = [float(e.strip('\\n')) for e in open('/data1/share/kosm/data/url_text_valid_predictions_quadr.txt','r').readlines()]\n",
    "        \n",
    "        res = collections.OrderedDict()\n",
    "        samp_size = len(y_true)\n",
    "        res['Sample size'] = samp_size\n",
    "        res['Posit share'] = sum(y_true) * 1./ samp_size\n",
    "        res['Sample size'] = len(y_true)\n",
    "        res['AUC ROC'] = sklearn.metrics.roc_auc_score(y_true = y_true, y_score = y_score)\n",
    "        res['AUC PR'] = sklearn.metrics.auc(\n",
    "                        *sklearn.metrics.precision_recall_curve(y_true = y_true, probas_pred  = y_score)[:2],\n",
    "                        reorder = True\n",
    "        )\n",
    "        res['Log loss'] = sklearn.metrics.log_loss(y_true = y_true, y_pred = y_score)\n",
    "        if lift:\n",
    "            predictions_and_labels = sorted(zip(y_score,y_true), reverse = True)\n",
    "            for l in lift:\n",
    "                res['Lift ' + str(l)] = sum([e[1] for e in predictions_and_labels[:int(l * samp_size)]]) * 1. / int(l * samp_size) / res['Posit share']\n",
    "                \n",
    "        if return_str:\n",
    "            res = '\\n'.join(['{:<12}: {:.5f}'.format(k,v) for (k,v) in res.items()]) + '.'\n",
    "        return res"
   ]
  },
  {
   "cell_type": "code",
   "execution_count": 6,
   "metadata": {
    "collapsed": false
   },
   "outputs": [],
   "source": [
    "#! head ./data/la_hll_test_scoring.tsv\n",
    "data_str = [e.split('\\t') for e in open('./data/la_hll_test_scoring.tsv','r').readlines()]\n",
    "y_true  = [int(e[0]) for e in data_str]\n",
    "y_score = [float(e[1]) for e in data_str]\n",
    "\n",
    "m = metrics(y_true, y_score, lift = [0.0001,0.001, 0.01,0.05,0.1,0.2,0.5], return_str = True)"
   ]
  },
  {
   "cell_type": "code",
   "execution_count": 7,
   "metadata": {
    "collapsed": false
   },
   "outputs": [
    {
     "name": "stdout",
     "output_type": "stream",
     "text": [
      "Sample size : 67199894.00000\n",
      "Posit share : 0.00001\n",
      "AUC ROC     : 0.83151\n",
      "AUC PR      : 0.00157\n",
      "Log loss    : 0.05197\n",
      "Lift 0.0001 : 413.59473\n",
      "Lift 0.001  : 88.34704\n",
      "Lift 0.01   : 23.68424\n",
      "Lift 0.05   : 8.75940\n",
      "Lift 0.1    : 5.90226\n",
      "Lift 0.2    : 3.43985\n",
      "Lift 0.5    : 1.79699.\n"
     ]
    }
   ],
   "source": [
    "print(m)"
   ]
  },
  {
   "cell_type": "code",
   "execution_count": 27,
   "metadata": {
    "collapsed": false,
    "scrolled": true
   },
   "outputs": [
    {
     "data": {
      "text/plain": [
       "(2755265.0491150017, 55299)"
      ]
     },
     "execution_count": 27,
     "metadata": {},
     "output_type": "execute_result"
    }
   ],
   "source": [
    "sum(y_score),len(y_score)"
   ]
  },
  {
   "cell_type": "code",
   "execution_count": null,
   "metadata": {
    "collapsed": false
   },
   "outputs": [],
   "source": []
  },
  {
   "cell_type": "code",
   "execution_count": null,
   "metadata": {
    "collapsed": true
   },
   "outputs": [],
   "source": []
  }
 ],
 "metadata": {
  "kernelspec": {
   "display_name": "Python 2",
   "language": "python",
   "name": "python2"
  },
  "language_info": {
   "codemirror_mode": {
    "name": "ipython",
    "version": 2
   },
   "file_extension": ".py",
   "mimetype": "text/x-python",
   "name": "python",
   "nbconvert_exporter": "python",
   "pygments_lexer": "ipython2",
   "version": "2.7.10"
  }
 },
 "nbformat": 4,
 "nbformat_minor": 0
}
