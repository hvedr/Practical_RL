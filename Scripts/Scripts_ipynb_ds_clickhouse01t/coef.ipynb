{
 "cells": [
  {
   "cell_type": "code",
   "execution_count": 22,
   "metadata": {
    "collapsed": false
   },
   "outputs": [
    {
     "data": {
      "text/plain": [
       "499078719"
      ]
     },
     "execution_count": 22,
     "metadata": {},
     "output_type": "execute_result"
    }
   ],
   "source": [
    "import bz2\n",
    "\n",
    "bz_file = bz2.BZ2File(\"/home/a.melnikov/data.txt.bz2\", 'r')\n",
    "i = 0\n",
    "c = 0\n",
    "voc = dict()\n",
    "prev_key = None\n",
    "prev_approve = None\n",
    "urlfrs = None\n",
    "buf = set()\n",
    "for line in bz_file:\n",
    "    c += 1\n",
    "    (phone, approve, urlfr, ymd, cnt) = line.decode(\"utf-8\").strip().split('\\t')\n",
    "    key = '%s_%s' % (phone, approve)\n",
    "    if key != prev_key:\n",
    "        if prev_key is not None:\n",
    "            for e in buf:\n",
    "                if e not in voc:\n",
    "                    voc[e] = (0, 0)\n",
    "                if prev_approve == '1':\n",
    "                    voc[e] = (voc[e][0], voc[e][1] + 1)\n",
    "                else:\n",
    "                    voc[e] = (voc[e][0] + 1, voc[e][1])\n",
    "            #print('%s\\t%d' % (prev_approve, wc))\n",
    "        prev_key = key\n",
    "        buf = set()\n",
    "        prev_approve = approve\n",
    "    buf.add(urlfr)\n",
    "if prev_key is not None:\n",
    "    for e in buf:\n",
    "        if e not in voc:\n",
    "            voc[e] = (0, 0)\n",
    "        if prev_approve == '1':\n",
    "            voc[e] = (voc[e][0], voc[e][1] + 1)\n",
    "        else:\n",
    "            voc[e] = (voc[e][0] + 1, voc[e][1])\n",
    "\n",
    "len(voc)"
   ]
  },
  {
   "cell_type": "code",
   "execution_count": 24,
   "metadata": {
    "collapsed": false
   },
   "outputs": [
    {
     "name": "stdout",
     "output_type": "stream",
     "text": [
      "e.mail.ru#14805776140000000049 (1, 0)\n",
      "avito.ru#prodazha_telefonov_790953530 (2, 0)\n",
      "artemushka.ru#pevica-valeriya-beremenna-foto (1, 0)\n",
      "e.mail.ru#14622096630000000966 (1, 0)\n",
      "vk.com#audios126775975 (1, 0)\n",
      "vk.com#fotoandreyvalt (1, 0)\n",
      "m.vk.com#photo287792060_429458151 (1, 0)\n",
      "otvet.mail.ru#43352007 (3, 1)\n",
      "rbc.ru#576296e39a7947699a017b1e (5, 10)\n",
      "vk.com#id233002319 (2, 0)\n"
     ]
    }
   ],
   "source": [
    "c = 0\n",
    "for e in voc:\n",
    "    c += 1\n",
    "    if c > 10:\n",
    "        break\n",
    "    print(e, voc[e])"
   ]
  },
  {
   "cell_type": "code",
   "execution_count": 27,
   "metadata": {
    "collapsed": false
   },
   "outputs": [],
   "source": [
    "a = 0.1\n",
    "x = sorted([(k, voc[k], (voc[k][1] + a)/(voc[k][0] + a)) for k in voc if voc[k][0]+voc[k][1] > 100], key = lambda x: -x[2])"
   ]
  },
  {
   "cell_type": "code",
   "execution_count": 28,
   "metadata": {
    "collapsed": false
   },
   "outputs": [
    {
     "data": {
      "text/plain": [
       "1130800"
      ]
     },
     "execution_count": 28,
     "metadata": {},
     "output_type": "execute_result"
    }
   ],
   "source": [
    "len(x)"
   ]
  },
  {
   "cell_type": "code",
   "execution_count": 29,
   "metadata": {
    "collapsed": false
   },
   "outputs": [
    {
     "data": {
      "text/plain": [
       "[('finhow.ru#kak-popolnit-kartu-tinkoff-bez-komissii',\n",
       "  (22, 82),\n",
       "  3.7149321266968323),\n",
       " ('otzovik.com#review_3454893.html', (40, 142), 3.5436408977556106),\n",
       " ('direct-market.ru#kreditnaya-karta-tinkoff.html',\n",
       "  (26, 84),\n",
       "  3.222222222222222),\n",
       " ('frombanks.ru#minimalnyy-platyezh-po-karte-tinkoff',\n",
       "  (26, 83),\n",
       "  3.1839080459770113),\n",
       " ('otzovik.com#review_1247180.html', (43, 133), 3.088167053364269),\n",
       " ('otzovik.com#review_1063452.html', (87, 264), 3.032146957520092),\n",
       " ('lichnye-kabinety.ru#karta-tinkoff-lichnyj-kabinet',\n",
       "  (60, 177),\n",
       "  2.94675540765391),\n",
       " ('tinkoff-credity.ru#kak-zakryt-kartu-tinkoff', (26, 76), 2.915708812260536),\n",
       " ('tinkoffpro.ru#oplata-zhkx-s-pomoshhyu-tinkoff',\n",
       "  (31, 90),\n",
       "  2.8971061093247585),\n",
       " ('otzovik.com#review_1373450.html', (111, 321), 2.8901890189018906)]"
      ]
     },
     "execution_count": 29,
     "metadata": {},
     "output_type": "execute_result"
    }
   ],
   "source": [
    "x[:10]"
   ]
  },
  {
   "cell_type": "code",
   "execution_count": 30,
   "metadata": {
    "collapsed": false
   },
   "outputs": [
    {
     "data": {
      "text/plain": [
       "[('m.vk.com#write343274621', (127, 4), 0.03225806451612903),\n",
       " ('m.vk.com#id359922320', (101, 3), 0.03066271018793274),\n",
       " ('zaimizdes.ru#cherez-contact', (139, 4), 0.029475197699496764),\n",
       " ('m.vk.com#id379463536', (106, 3), 0.029217719132893498),\n",
       " ('zaimisrochno.ru#boostra', (108, 3), 0.028677150786308975),\n",
       " ('manimo.1kreditovanie.ru#zzz', (117, 3), 0.026473099914602907),\n",
       " ('rubanks.in#181.html', (131, 3), 0.02364607170099161),\n",
       " ('rubanks.in#77.html', (100, 2), 0.02097902097902098),\n",
       " ('m.vk.com#id312565547', (126, 2), 0.016653449643140365),\n",
       " ('m.vk.com#id337500679', (108, 1), 0.01017576318223867)]"
      ]
     },
     "execution_count": 30,
     "metadata": {},
     "output_type": "execute_result"
    }
   ],
   "source": [
    "x[-10:]"
   ]
  },
  {
   "cell_type": "code",
   "execution_count": 32,
   "metadata": {
    "collapsed": true
   },
   "outputs": [],
   "source": [
    "with open('urlfr_coef.tsv', 'w') as f:\n",
    "    for e in x:\n",
    "        f.write('%s\\t%d\\t%d\\t%f\\n' % (e[0], e[1][0], e[1][1], e[2]))"
   ]
  },
  {
   "cell_type": "code",
   "execution_count": 33,
   "metadata": {
    "collapsed": false
   },
   "outputs": [
    {
     "name": "stdout",
     "output_type": "stream",
     "text": [
      "1130800 urlfr_coef.tsv\r\n"
     ]
    }
   ],
   "source": [
    "!wc -l urlfr_coef.tsv"
   ]
  },
  {
   "cell_type": "code",
   "execution_count": 34,
   "metadata": {
    "collapsed": false
   },
   "outputs": [
    {
     "data": {
      "text/plain": [
       "1130800"
      ]
     },
     "execution_count": 34,
     "metadata": {},
     "output_type": "execute_result"
    }
   ],
   "source": [
    "len(x)"
   ]
  },
  {
   "cell_type": "code",
   "execution_count": 35,
   "metadata": {
    "collapsed": false
   },
   "outputs": [
    {
     "name": "stdout",
     "output_type": "stream",
     "text": [
      "finhow.ru#kak-popolnit-kartu-tinkoff-bez-komissii\t22\t82\t3.714932\r\n",
      "otzovik.com#review_3454893.html\t40\t142\t3.543641\r\n",
      "direct-market.ru#kreditnaya-karta-tinkoff.html\t26\t84\t3.222222\r\n",
      "frombanks.ru#minimalnyy-platyezh-po-karte-tinkoff\t26\t83\t3.183908\r\n",
      "otzovik.com#review_1247180.html\t43\t133\t3.088167\r\n",
      "otzovik.com#review_1063452.html\t87\t264\t3.032147\r\n",
      "lichnye-kabinety.ru#karta-tinkoff-lichnyj-kabinet\t60\t177\t2.946755\r\n",
      "tinkoff-credity.ru#kak-zakryt-kartu-tinkoff\t26\t76\t2.915709\r\n",
      "tinkoffpro.ru#oplata-zhkx-s-pomoshhyu-tinkoff\t31\t90\t2.897106\r\n",
      "otzovik.com#review_1373450.html\t111\t321\t2.890189\r\n"
     ]
    }
   ],
   "source": [
    "!head urlfr_coef.tsv"
   ]
  },
  {
   "cell_type": "code",
   "execution_count": 2,
   "metadata": {
    "collapsed": false
   },
   "outputs": [],
   "source": [
    "x = {}\n",
    "with open('urlfr_coef.tsv', 'r') as f:\n",
    "    for line in f:\n",
    "        (urlfr, c0, c1, coef) = line.strip().split('\\t')\n",
    "        c0 = int(c0)\n",
    "        c1 = int(c1)\n",
    "        coef = float(coef)\n",
    "        x[urlfr] = ((c0, c1), coef)"
   ]
  },
  {
   "cell_type": "code",
   "execution_count": 3,
   "metadata": {
    "collapsed": false
   },
   "outputs": [
    {
     "data": {
      "text/plain": [
       "1130800"
      ]
     },
     "execution_count": 3,
     "metadata": {},
     "output_type": "execute_result"
    }
   ],
   "source": [
    "len(x)"
   ]
  },
  {
   "cell_type": "code",
   "execution_count": 44,
   "metadata": {
    "collapsed": false
   },
   "outputs": [
    {
     "name": "stdout",
     "output_type": "stream",
     "text": [
      "start\n",
      "start\n",
      "start\n",
      "start\n",
      "1 loop, best of 3: 7.72 s per loop\n"
     ]
    }
   ],
   "source": [
    "%%timeit\n",
    "\n",
    "max_score = dict()\n",
    "sum_score = dict()\n",
    "cnt_score = dict()\n",
    "\n",
    "bz_file = bz2.BZ2File(\"/home/a.melnikov/data.txt.bz2\", 'r')\n",
    "i = 0\n",
    "print('start')\n",
    "for line in bz_file:\n",
    "    i += 1\n",
    "    if i > 100:\n",
    "        break\n",
    "    \n",
    "    (phone, approve, urlfr, ymd, cnt) = line.decode(\"utf-8\").strip().split('\\t')\n",
    "    key = (phone, approve)\n",
    "    if urlfr not in x:\n",
    "        continue\n",
    "    score = x[urlfr][2]\n",
    "    if key not in max_score:\n",
    "        if len(max_score) > 2:\n",
    "            break\n",
    "        max_score[key] = score\n",
    "        sum_score[key] = score\n",
    "        cnt_score[key] = 1 #fix0!\n",
    "        continue\n",
    "    max_score[key] = max(score, max_score[key])\n",
    "    sum_score[key] += score\n",
    "    cnt_score[key] += 1\n",
    "\n",
    "len(max_score)"
   ]
  },
  {
   "cell_type": "code",
   "execution_count": 20,
   "metadata": {
    "collapsed": false
   },
   "outputs": [
    {
     "name": "stdout",
     "output_type": "stream",
     "text": [
      "start\n"
     ]
    },
    {
     "data": {
      "text/plain": [
       "(13549, 100000000)"
      ]
     },
     "execution_count": 20,
     "metadata": {},
     "output_type": "execute_result"
    }
   ],
   "source": [
    "max_score = dict()\n",
    "sum_score = dict()\n",
    "cnt_score = dict()\n",
    "\n",
    "i = 0\n",
    "print('start')\n",
    "with open('/home/a.melnikov/data100m.txt') as f:\n",
    "    for line in f:\n",
    "        i += 1\n",
    "        (phone, approve, urlfr, ymd, cnt) = line.strip().split('\\t')\n",
    "        key = (phone, approve)\n",
    "        if urlfr not in x:\n",
    "            continue\n",
    "        score = x[urlfr][1]\n",
    "        if key not in max_score:\n",
    "            max_score[key] = score\n",
    "            sum_score[key] = score\n",
    "            cnt_score[key] = 1 #fix0!\n",
    "            continue\n",
    "        max_score[key] = max(score, max_score[key])\n",
    "        sum_score[key] += score\n",
    "        cnt_score[key] += 1\n",
    "\n",
    "len(max_score), i"
   ]
  },
  {
   "cell_type": "code",
   "execution_count": 40,
   "metadata": {
    "collapsed": false
   },
   "outputs": [
    {
     "data": {
      "text/plain": [
       "{}"
      ]
     },
     "execution_count": 40,
     "metadata": {},
     "output_type": "execute_result"
    }
   ],
   "source": [
    "cnt_score"
   ]
  },
  {
   "cell_type": "code",
   "execution_count": 23,
   "metadata": {
    "collapsed": false
   },
   "outputs": [
    {
     "data": {
      "text/plain": [
       "0.58750752206915102"
      ]
     },
     "execution_count": 23,
     "metadata": {},
     "output_type": "execute_result"
    }
   ],
   "source": [
    "from sklearn.metrics import roc_auc_score\n",
    "\n",
    "y = []\n",
    "p = []\n",
    "for k in max_score:\n",
    "    y.append(int(k[1]))\n",
    "    p.append(max_score[k])\n",
    "roc_auc_score(y, p) #0.57273262661955249\n"
   ]
  },
  {
   "cell_type": "code",
   "execution_count": 22,
   "metadata": {
    "collapsed": false
   },
   "outputs": [
    {
     "data": {
      "text/plain": [
       "0.64281022633676232"
      ]
     },
     "execution_count": 22,
     "metadata": {},
     "output_type": "execute_result"
    }
   ],
   "source": [
    "from sklearn.metrics import roc_auc_score\n",
    "\n",
    "y = []\n",
    "p = []\n",
    "for k in sum_score:\n",
    "    y.append(int(k[1]))\n",
    "    p.append(sum_score[k]/(cnt_score[k])) #fix \"-1\"\n",
    "roc_auc_score(y, p) #0.6555336595089245"
   ]
  },
  {
   "cell_type": "code",
   "execution_count": 25,
   "metadata": {
    "collapsed": false
   },
   "outputs": [
    {
     "data": {
      "text/plain": [
       "0.2257731197874382"
      ]
     },
     "execution_count": 25,
     "metadata": {},
     "output_type": "execute_result"
    }
   ],
   "source": [
    "sum(y)/len(y)"
   ]
  },
  {
   "cell_type": "code",
   "execution_count": 26,
   "metadata": {
    "collapsed": true
   },
   "outputs": [],
   "source": [
    "yp = sorted([(y[i], p[i]) for i in range(len(y))], key = lambda x: -x[1])"
   ]
  },
  {
   "cell_type": "code",
   "execution_count": 31,
   "metadata": {
    "collapsed": false
   },
   "outputs": [
    {
     "data": {
      "text/plain": [
       "13549"
      ]
     },
     "execution_count": 31,
     "metadata": {},
     "output_type": "execute_result"
    }
   ],
   "source": [
    "len(yp)"
   ]
  },
  {
   "cell_type": "code",
   "execution_count": 29,
   "metadata": {
    "collapsed": false
   },
   "outputs": [
    {
     "data": {
      "text/plain": [
       "0.2679362267493357"
      ]
     },
     "execution_count": 29,
     "metadata": {},
     "output_type": "execute_result"
    }
   ],
   "source": [
    "yy = [e[0] for e in yp]\n",
    "sum(yy[:6774])/6774"
   ]
  },
  {
   "cell_type": "code",
   "execution_count": 34,
   "metadata": {
    "collapsed": false
   },
   "outputs": [
    {
     "data": {
      "text/plain": [
       "0.6"
      ]
     },
     "execution_count": 34,
     "metadata": {},
     "output_type": "execute_result"
    }
   ],
   "source": [
    "sum(yy[:135])/135"
   ]
  },
  {
   "cell_type": "code",
   "execution_count": 35,
   "metadata": {
    "collapsed": false
   },
   "outputs": [
    {
     "data": {
      "text/plain": [
       "2.657535142203334"
      ]
     },
     "execution_count": 35,
     "metadata": {},
     "output_type": "execute_result"
    }
   ],
   "source": [
    "0.6/0.2257731197874382"
   ]
  },
  {
   "cell_type": "code",
   "execution_count": 36,
   "metadata": {
    "collapsed": false
   },
   "outputs": [
    {
     "data": {
      "text/plain": [
       "1130800"
      ]
     },
     "execution_count": 36,
     "metadata": {},
     "output_type": "execute_result"
    }
   ],
   "source": [
    "len(x)"
   ]
  },
  {
   "cell_type": "code",
   "execution_count": 80,
   "metadata": {
    "collapsed": false
   },
   "outputs": [],
   "source": [
    "import re\n",
    "\n",
    "def transliterate(string):\n",
    "    tr = {u'а': u'a',\n",
    "           u'б': u'b',\n",
    "           u'в': u'v',\n",
    "           u'г': u'g',\n",
    "           u'д': u'd',\n",
    "           u'е': u'e',\n",
    "           u'ё': u'e',\n",
    "           u'ж': u'zh',\n",
    "           u'з': u'z',\n",
    "           u'и': u'i',\n",
    "           u'й': u'y',\n",
    "           u'к': u'k',\n",
    "           u'л': u'l',\n",
    "           u'м': u'm',\n",
    "           u'н': u'n',\n",
    "           u'о': u'o',\n",
    "           u'п': u'p',\n",
    "           u'р': u'r',\n",
    "           u'с': u's',\n",
    "           u'т': u't',\n",
    "           u'у': u'u',\n",
    "           u'ф': u'f',\n",
    "           u'х': u'h',\n",
    "           u'ц': u'ts',\n",
    "           u'ч': u'ch',\n",
    "           u'ш': u'sh',\n",
    "           u'щ': u'sch',\n",
    "           u'ъ': u'',\n",
    "           u'ы': u'y',\n",
    "           u'ь': u'',\n",
    "           u'э': u'e',\n",
    "           u'ю': u'yu',\n",
    "           u'я': u'ya',}\n",
    "\n",
    "    for k in tr:\n",
    "        string = string.replace(k, tr[k])\n",
    "        \n",
    "    return string\n",
    "\n",
    "def tri(s, d = dict()):\n",
    "    s = transliterate(s.lower())\n",
    "    prefix = 'D'\n",
    "    for i in range(len(s)-2):\n",
    "        if s[i] == '#':\n",
    "            prefix = 'U'\n",
    "            continue\n",
    "        k = prefix + s[i:i+3]\n",
    "        #if not k.isalnum():\n",
    "        #if not k.isalpha():\n",
    "        #    continue\n",
    "        d[k] = d[k] + 1 if k in d else 1\n",
    "    return d"
   ]
  },
  {
   "cell_type": "code",
   "execution_count": null,
   "metadata": {
    "collapsed": true
   },
   "outputs": [],
   "source": []
  },
  {
   "cell_type": "code",
   "execution_count": 81,
   "metadata": {
    "collapsed": false
   },
   "outputs": [
    {
     "name": "stdout",
     "output_type": "stream",
     "text": [
      "76004\n"
     ]
    }
   ],
   "source": [
    "t = dict()\n",
    "\n",
    "for k in x:\n",
    "    tri(k, t)\n",
    "print(len(t))"
   ]
  },
  {
   "cell_type": "code",
   "execution_count": 83,
   "metadata": {
    "collapsed": false
   },
   "outputs": [
    {
     "data": {
      "text/plain": [
       "16357"
      ]
     },
     "execution_count": 83,
     "metadata": {},
     "output_type": "execute_result"
    }
   ],
   "source": [
    "len([(k, t[k]) for k in t if t[k] > 100])"
   ]
  },
  {
   "cell_type": "code",
   "execution_count": 84,
   "metadata": {
    "collapsed": false,
    "scrolled": true
   },
   "outputs": [
    {
     "data": {
      "text/plain": [
       "[('Ul51', 11),\n",
       " ('U-z5', 11),\n",
       " ('Di#i', 11),\n",
       " ('Dtbn', 11),\n",
       " ('Ub_4', 11),\n",
       " ('Ufuj', 11),\n",
       " ('Dh.j', 11),\n",
       " ('Dffp', 11),\n",
       " ('Ubw_', 11),\n",
       " ('Dbae', 11),\n",
       " ('D5.1', 11),\n",
       " ('Dayy', 11),\n",
       " ('Up_y', 11),\n",
       " ('Uhff', 11),\n",
       " ('Dbwo', 11),\n",
       " ('Ut4_', 11),\n",
       " ('Dlzi', 11),\n",
       " ('Urg8', 11),\n",
       " ('Ufuu', 11),\n",
       " ('Ud6k', 11),\n",
       " ('Dgcr', 11),\n",
       " ('Ua. ', 11),\n",
       " ('Dur1', 11),\n",
       " ('Ut. ', 11),\n",
       " ('Upbi', 11),\n",
       " ('Uffu', 11),\n",
       " ('D.a-', 11),\n",
       " ('Ucwi', 11),\n",
       " ('Uixp', 11),\n",
       " ('Dtdd', 11),\n",
       " ('U11 ', 11),\n",
       " ('Uy77', 11),\n",
       " ('U-rb', 11),\n",
       " ('Uvcl', 11),\n",
       " ('Uezc', 11),\n",
       " ('Uscy', 11),\n",
       " ('Uyzs', 11),\n",
       " ('U5.8', 11),\n",
       " ('D4hr', 11),\n",
       " ('D17-', 11),\n",
       " ('Ukv.', 11),\n",
       " ('Uz m', 11),\n",
       " ('Ue7-', 11),\n",
       " ('D.rp', 11),\n",
       " ('Dho4', 11),\n",
       " ('Dfko', 11),\n",
       " ('Dov6', 11),\n",
       " ('Dgyf', 11),\n",
       " ('Dv13', 11),\n",
       " ('Dj-v', 11),\n",
       " ('Up_4', 11),\n",
       " ('Dp2g', 11),\n",
       " ('Urll', 11),\n",
       " ('Ub_7', 11),\n",
       " ('Dbfk', 11),\n",
       " ('Uzso', 11),\n",
       " ('Ulji', 11),\n",
       " ('Ur74', 11),\n",
       " ('Uv d', 11),\n",
       " ('Uoaz', 11),\n",
       " ('D1a.', 11),\n",
       " ('Uya3', 11),\n",
       " ('Dhl-', 11),\n",
       " ('Ugrd', 11),\n",
       " ('Dusw', 11),\n",
       " ('Dm21', 11),\n",
       " ('Uxp_', 11),\n",
       " ('Urt8', 11),\n",
       " ('Ue1m', 11),\n",
       " ('Ddz1', 11),\n",
       " ('Dr75', 11),\n",
       " ('Ubmp', 11),\n",
       " ('Uwix', 11),\n",
       " ('Dr4.', 11),\n",
       " ('Dov7', 11),\n",
       " ('Dmrd', 11),\n",
       " ('Uodx', 11),\n",
       " ('D7re', 11),\n",
       " ('Dufr', 11),\n",
       " ('Dofk', 11),\n",
       " ('Ust7', 11),\n",
       " ('Du11', 11),\n",
       " ('Uujb', 11),\n",
       " ('Ux.f', 11),\n",
       " ('U6hk', 11),\n",
       " ('Ugpu', 11),\n",
       " ('Uyeh', 11),\n",
       " ('Dohx', 11),\n",
       " ('Ux55', 11),\n",
       " ('Uy01', 11),\n",
       " ('Uuyc', 11),\n",
       " ('U we', 11),\n",
       " ('Ulnd', 11),\n",
       " ('Up=6', 11),\n",
       " ('U-nx', 11),\n",
       " ('Uh.b', 11),\n",
       " ('D.vh', 11),\n",
       " ('D701', 11),\n",
       " ('Du20', 11),\n",
       " ('U_a8', 11)]"
      ]
     },
     "execution_count": 84,
     "metadata": {},
     "output_type": "execute_result"
    }
   ],
   "source": [
    "sorted([(k, t[k]) for k in t if t[k] > 10], key = lambda x: -x[1])[-100:]"
   ]
  },
  {
   "cell_type": "code",
   "execution_count": 85,
   "metadata": {
    "collapsed": true
   },
   "outputs": [],
   "source": [
    "tri_id = {}\n",
    "for k in t:\n",
    "    tri_id[k] = len(tri_id) + 1"
   ]
  },
  {
   "cell_type": "code",
   "execution_count": 86,
   "metadata": {
    "collapsed": false
   },
   "outputs": [
    {
     "data": {
      "text/plain": [
       "75816"
      ]
     },
     "execution_count": 86,
     "metadata": {},
     "output_type": "execute_result"
    }
   ],
   "source": [
    "tri_id['D701']"
   ]
  },
  {
   "cell_type": "code",
   "execution_count": 93,
   "metadata": {
    "collapsed": false
   },
   "outputs": [],
   "source": [
    "prev_key = None\n",
    "prev_approve = None\n",
    "buf = dict()\n",
    "with open('/home/a.melnikov/data1b.txt') as f:\n",
    "    with open('/home/a.melnikov/data1b.libsvm', 'w') as fo:\n",
    "        for line in f:\n",
    "            (phone, approve, urlfr, ymd, cnt) = line.strip().split('\\t')\n",
    "            key = '%s_%s' % (phone, approve)\n",
    "            if key != prev_key:\n",
    "                if prev_key is not None:\n",
    "                    fo.write('%s %s\\n' % (prev_approve, ' '.join(['%d:%d' % (tri_id[k], buf[k]) for k in buf if k in tri_id])))\n",
    "                prev_key = key\n",
    "                buf = dict()\n",
    "                prev_approve = approve\n",
    "            tri(urlfr, buf)\n"
   ]
  },
  {
   "cell_type": "code",
   "execution_count": 91,
   "metadata": {
    "collapsed": false
   },
   "outputs": [
    {
     "name": "stdout",
     "output_type": "stream",
     "text": [
      "0 18972:2 56982:47 49091:1 66466:62 19007:1 37952:5 47506:1 28393:13 37955:1 37957:20 18970:1 7335:2 28402:2 11:11 33141:1 56988:1 28405:4 66480:7 17:1 56992:3 20:1 21:21 36342:1 66486:1 58466:6 28417"
     ]
    }
   ],
   "source": [
    "!head -c200 ~/data1b.libsvm"
   ]
  },
  {
   "cell_type": "code",
   "execution_count": 92,
   "metadata": {
    "collapsed": false
   },
   "outputs": [
    {
     "name": "stdout",
     "output_type": "stream",
     "text": [
      "1287 /home/a.melnikov/data1b.libsvm\r\n"
     ]
    }
   ],
   "source": [
    "!wc -l /home/a.melnikov/data1b.libsvm"
   ]
  },
  {
   "cell_type": "code",
   "execution_count": 1,
   "metadata": {
    "collapsed": true
   },
   "outputs": [],
   "source": [
    "sc.stop()"
   ]
  },
  {
   "cell_type": "code",
   "execution_count": null,
   "metadata": {
    "collapsed": true
   },
   "outputs": [],
   "source": []
  }
 ],
 "metadata": {
  "anaconda-cloud": {},
  "kernelspec": {
   "display_name": "Python 2",
   "language": "python",
   "name": "python2"
  },
  "language_info": {
   "codemirror_mode": {
    "name": "ipython",
    "version": 2
   },
   "file_extension": ".py",
   "mimetype": "text/x-python",
   "name": "python",
   "nbconvert_exporter": "python",
   "pygments_lexer": "ipython2",
   "version": "2.7.10"
  }
 },
 "nbformat": 4,
 "nbformat_minor": 1
}
